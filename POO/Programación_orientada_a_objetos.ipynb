{
  "nbformat": 4,
  "nbformat_minor": 0,
  "metadata": {
    "colab": {
      "name": "Programación orientada a objetos",
      "provenance": [],
      "collapsed_sections": []
    },
    "kernelspec": {
      "name": "python3",
      "display_name": "Python 3"
    },
    "language_info": {
      "name": "python"
    }
  },
  "cells": [
    {
      "cell_type": "markdown",
      "source": [
        "# ***Programación orientada a objetos***"
      ],
      "metadata": {
        "id": "pfhgkFBleG-M"
      }
    },
    {
      "cell_type": "markdown",
      "source": [
        "***Definir una clase***"
      ],
      "metadata": {
        "id": "lD9oSF8qmdim"
      }
    },
    {
      "cell_type": "code",
      "execution_count": null,
      "metadata": {
        "id": "jcRe_A_QeEEj"
      },
      "outputs": [],
      "source": [
        "class Curso:\n",
        "  pass\n",
        "\n",
        "curso_python = Curso() #Creación de objeto, instancia de la Class Curso"
      ]
    },
    {
      "cell_type": "markdown",
      "source": [
        "***Creemos la clase User***"
      ],
      "metadata": {
        "id": "5Za3OD-2oIrU"
      }
    },
    {
      "cell_type": "code",
      "source": [
        "class User:\n",
        "  nombre = \"Uriel\"\n",
        "\n",
        "uriel = User() #Estado 1 del objeto perteneciente a la clase User\n",
        "uriel.nombre = \"Marcos\"\n",
        "\n",
        "cody = User() #Estado 2 del objeto perteneciente a la clase User\n",
        "cody.nombre = \"Cody\"\n",
        "\n",
        "print(uriel.nombre)\n",
        "print(cody.nombre)"
      ],
      "metadata": {
        "colab": {
          "base_uri": "https://localhost:8080/"
        },
        "id": "m9f0ffZDoLsW",
        "outputId": "7664c116-cbc7-4484-b6d3-982efb54e4aa"
      },
      "execution_count": null,
      "outputs": [
        {
          "output_type": "stream",
          "name": "stdout",
          "text": [
            "Marcos\n",
            "Cody\n"
          ]
        }
      ]
    },
    {
      "cell_type": "markdown",
      "source": [
        "***Métodos***"
      ],
      "metadata": {
        "id": "9yco0d05qdwM"
      }
    },
    {
      "cell_type": "code",
      "source": [
        "class User:\n",
        "  #Atributos\n",
        "  nombre = \"Uriel\"\n",
        "\n",
        "  #Métodos\n",
        "  def saludar(self, saludo): #Método saludar\n",
        "    print(saludo + self.nombre)\n",
        "\n",
        "uriel = User()\n",
        "uriel.saludar(\"Aloha! Mi nombre es: \")"
      ],
      "metadata": {
        "colab": {
          "base_uri": "https://localhost:8080/"
        },
        "id": "V7uXbxf2opd4",
        "outputId": "4e9145a6-3928-4e2a-f8f2-0104a6a39c6c"
      },
      "execution_count": null,
      "outputs": [
        {
          "output_type": "stream",
          "name": "stdout",
          "text": [
            "Aloha! Mi nombre es: Uriel\n"
          ]
        }
      ]
    },
    {
      "cell_type": "markdown",
      "source": [
        "***Método constructor***"
      ],
      "metadata": {
        "id": "xr_Im38XsrFM"
      }
    },
    {
      "cell_type": "code",
      "source": [
        "class User:\n",
        "  #Atributos\n",
        "  \n",
        "  def __init__(self, nombre):\n",
        "    #Método constructor\n",
        "    self.nombre = nombre\n",
        "\n",
        "  def saludar(self, saludo):\n",
        "    print(saludo + self.nombre)\n",
        "\n",
        "uriel = User(\"Uriel\")\n",
        "uriel.saludar(\"Aloha! Mi nombre es: \")\n",
        "\n",
        "\n",
        "class Contador:\n",
        "  def __init__(self):\n",
        "    self.conteo = 0"
      ],
      "metadata": {
        "colab": {
          "base_uri": "https://localhost:8080/"
        },
        "id": "oti-0sbAqzpZ",
        "outputId": "5fa0da8a-48fd-4580-ce56-2c437f6c02f2"
      },
      "execution_count": null,
      "outputs": [
        {
          "output_type": "stream",
          "name": "stdout",
          "text": [
            "Aloha! Mi nombre es: Uriel\n"
          ]
        }
      ]
    },
    {
      "cell_type": "markdown",
      "source": [
        "***Herencia***"
      ],
      "metadata": {
        "id": "J4d_E5r9LKCi"
      }
    },
    {
      "cell_type": "markdown",
      "source": [
        "Este concepto permite que un objeto herede las propiedades y métodos de un objeto al que llamamos padre o base."
      ],
      "metadata": {
        "id": "cAQn2u2uLXP3"
      }
    },
    {
      "cell_type": "code",
      "source": [
        "class Usuario: #Clase padre\n",
        "  def __init__(self, nombre):\n",
        "    self.nombre = nombre\n",
        "\n",
        "  def saludar(self, saludo):\n",
        "    print(saludo + self.nombre)\n",
        "\n",
        "class Empleado(Usuario): #Clase hijo\n",
        "  salario = 0\n",
        "\n",
        "  def modificar_salario(self, salario):\n",
        "    self.salario = salario\n",
        "\n",
        "  def ver_salario(self):\n",
        "    print(self.salario)\n",
        "\n",
        "  def saludar(self):\n",
        "    print(\"Mi nombre es: \" + self.nombre +\" y gano: \" + self.salario)\n",
        "\n",
        "empleado = Empleado(\"Juan\")\n",
        "empleado.modificar_salario(\"2'522.000 COP\")\n",
        "empleado.ver_salario()\n",
        "empleado.saludar()"
      ],
      "metadata": {
        "id": "ddOdjjO4tVQO",
        "colab": {
          "base_uri": "https://localhost:8080/"
        },
        "outputId": "0e628246-9e20-44f2-faac-d9ed03af11e4"
      },
      "execution_count": null,
      "outputs": [
        {
          "output_type": "stream",
          "name": "stdout",
          "text": [
            "2'522.000 COP\n",
            "Mi nombre es: Juan y gano: 2'522.000 COP\n"
          ]
        }
      ]
    },
    {
      "cell_type": "markdown",
      "source": [
        "***Función super()***: retorna una instancia de la clase padre a través de la que se pueden llamar métodos."
      ],
      "metadata": {
        "id": "iaDbfeqXPjfi"
      }
    },
    {
      "cell_type": "markdown",
      "source": [
        "Se ejecuta tanto la funcionalidad del padre como la del hijo."
      ],
      "metadata": {
        "id": "9JyBmXsxQTEO"
      }
    },
    {
      "cell_type": "code",
      "source": [
        "class Usuario: #Clase padre\n",
        "  def __init__(self, nombre):\n",
        "    self.nombre = nombre\n",
        "\n",
        "  def saludar(self, saludo):\n",
        "    print(saludo + self.nombre)\n",
        "\n",
        "class Empleado(Usuario): #Clase hijo\n",
        "  salario = 0\n",
        "\n",
        "  def modificar_salario(self, salario):\n",
        "    self.salario = salario\n",
        "\n",
        "  def ver_salario(self):\n",
        "    print(self.salario)\n",
        "\n",
        "  def saludar(self):\n",
        "    super().saludar(\"Hola!\")\n",
        "    print(\"Mi nombre es: \" + self.nombre +\" y gano: \" + str(self.salario))\n",
        "\n",
        "#empleado = Empleado(\"Juan\")\n",
        "#empleado.saludar()\n",
        "\n",
        "class Pagina: #Clase padre\n",
        "  def imprimir_pie_pagina(self):\n",
        "    print(self.pie_pagina)\n",
        "\n",
        "class PaginaLegal(Pagina): #Clase hijo\n",
        "  def imprimir_pie_pagina(self):\n",
        "    super().imprimir_pie_pagina()\n",
        "    print(\"Todos los derechos reservados.\")\n",
        "\n",
        "html = PaginaLegal()\n",
        "html.pie_pagina = \"<p>Esta es mi pagina web.</p>\"\n",
        "\n",
        "html.imprimir_pie_pagina()"
      ],
      "metadata": {
        "colab": {
          "base_uri": "https://localhost:8080/"
        },
        "id": "g9SunLJYNbBd",
        "outputId": "2e3bd374-6c00-4103-d441-fa5a4b9e712f"
      },
      "execution_count": null,
      "outputs": [
        {
          "output_type": "stream",
          "name": "stdout",
          "text": [
            "<p>Esta es mi pagina web.</p>\n",
            "Todos los derechos reservados.\n"
          ]
        }
      ]
    },
    {
      "cell_type": "markdown",
      "source": [
        "***Abstracción y encapsulación***"
      ],
      "metadata": {
        "id": "8jbMcLYkTCIK"
      }
    },
    {
      "cell_type": "markdown",
      "source": [
        "***Encapsulamiento***\n",
        "\n",
        "3 métodos de alcance:\n",
        "- Propiedades públicas.\n",
        "- Propiedades protegidas.\n",
        "- Propiedades privadas."
      ],
      "metadata": {
        "id": "jg2N7CjSWa0J"
      }
    },
    {
      "cell_type": "markdown",
      "source": [
        "Públicas:\n",
        "- Desde la clase que declaró la propiedad.\n",
        "- Desde clases que heredan de la que declaró la propiedad.\n",
        "- Desde una instancia.\n"
      ],
      "metadata": {
        "id": "1uHwlxjhZ-3X"
      }
    },
    {
      "cell_type": "markdown",
      "source": [
        "Protegidas:\n",
        "- Desde la clase que declaró la propiedad.\n",
        "- Desde clases que heredan de la que declaró la propiedad."
      ],
      "metadata": {
        "id": "4FhBY5YCaJuH"
      }
    },
    {
      "cell_type": "markdown",
      "source": [
        "Privadas:\n",
        "- Desde la clase que declaró la propiedad."
      ],
      "metadata": {
        "id": "ZJSpvL_bac9C"
      }
    },
    {
      "cell_type": "markdown",
      "source": [
        "***Modificadores de acceso en Python***"
      ],
      "metadata": {
        "id": "TG8FWAE4axpS"
      }
    },
    {
      "cell_type": "code",
      "source": [
        "class Usuario: #Clase padre\n",
        "  def __init__(self, nombre):\n",
        "    #Método constructor\n",
        "    self._nombre = nombre #Atributo protegido con convención \"_\"\n",
        "\n",
        "  def saludar(self, saludo):\n",
        "    print(saludo + self._nombre)\n",
        "\n",
        "class Empleado(Usuario): #Clase hijo\n",
        "  __salario = 0 #Atributo privado con convención \"__\"\n",
        "\n",
        "  def modificar_salario(self, salario):\n",
        "    self.__salario = salario\n",
        "\n",
        "  def ver_salario(self):\n",
        "    print(self.__salario)\n",
        "\n",
        "  def saludar(self):\n",
        "    super().saludar(\"Hola!\")\n",
        "    print(\"Mi nombre es: \" + self._nombre +\" y gano: \" + str(self.__salario))\n",
        "\n",
        "empleado = Empleado(\"JuanPa\")\n",
        "empleado.modificar_salario(2500000)\n",
        "empleado.ver_salario()"
      ],
      "metadata": {
        "colab": {
          "base_uri": "https://localhost:8080/"
        },
        "id": "E3rtr4s1QJf7",
        "outputId": "a16160dd-faaa-4c45-f891-23bb37acf7e7"
      },
      "execution_count": null,
      "outputs": [
        {
          "output_type": "stream",
          "name": "stdout",
          "text": [
            "2500000\n"
          ]
        }
      ]
    },
    {
      "cell_type": "markdown",
      "source": [
        "Al ejecutar una propiedad privada con la convención \"__\" hay una modificación en el lenguaje y no permite ejecutar la propiedad, asignando un error diciendo que la propiedad no existe:"
      ],
      "metadata": {
        "id": "_DtrFyK-dL_7"
      }
    },
    {
      "cell_type": "code",
      "source": [
        "print(empleado.__salario)"
      ],
      "metadata": {
        "colab": {
          "base_uri": "https://localhost:8080/",
          "height": 165
        },
        "id": "nTNCsdKGa_fm",
        "outputId": "d4f91552-85e9-4830-8c4f-bd6858c5c8b5"
      },
      "execution_count": null,
      "outputs": [
        {
          "output_type": "error",
          "ename": "AttributeError",
          "evalue": "ignored",
          "traceback": [
            "\u001b[0;31m---------------------------------------------------------------------------\u001b[0m",
            "\u001b[0;31mAttributeError\u001b[0m                            Traceback (most recent call last)",
            "\u001b[0;32m<ipython-input-23-9099efdd2cae>\u001b[0m in \u001b[0;36m<module>\u001b[0;34m()\u001b[0m\n\u001b[0;32m----> 1\u001b[0;31m \u001b[0mprint\u001b[0m\u001b[0;34m(\u001b[0m\u001b[0mempleado\u001b[0m\u001b[0;34m.\u001b[0m\u001b[0m__salario\u001b[0m\u001b[0;34m)\u001b[0m\u001b[0;34m\u001b[0m\u001b[0;34m\u001b[0m\u001b[0m\n\u001b[0m",
            "\u001b[0;31mAttributeError\u001b[0m: 'Empleado' object has no attribute '__salario'"
          ]
        }
      ]
    },
    {
      "cell_type": "markdown",
      "source": [
        "***Métodos accesores***"
      ],
      "metadata": {
        "id": "-TGb7AibeHqV"
      }
    },
    {
      "cell_type": "code",
      "source": [
        "class Usuario: #Clase padre\n",
        "  #Atributos\n",
        "  __edad = 0\n",
        "  def __init__(self, nombre):\n",
        "    #Método constructor\n",
        "    self._nombre = nombre #Atributo protegido con convención \"_\"\n",
        "\n",
        "  def saludar(self, saludo):\n",
        "    print(saludo + self._nombre)\n",
        "\n",
        "  @property #Decorador property\n",
        "  def edad(self): #método accesor getter convencional: obtiene el valor actual de la propiedad \n",
        "    return self.__edad\n",
        "\n",
        "  @edad.setter #Decorador setter\n",
        "  def edad(self,valor): #método accesor setter convencional: altera o asigna un nuevo valor a la propiedad \n",
        "    if(valor < 0):\n",
        "      raise ValueError(\"La edad no puede ser menor que 0. Por favor proporciona un número entero positivo.\")\n",
        "    self.__edad = valor\n",
        "\n",
        "class Empleado(Usuario): #Clase hijo\n",
        "  __salario = 0 #Atributo o propiedad privada con convención \"__\"\n",
        "\n",
        "  def modificar_salario(self, salario): #setter NO convencional\n",
        "    self.__salario = salario\n",
        "\n",
        "  def ver_salario(self): #getter NO convencional\n",
        "    print(self.__salario)\n",
        "\n",
        "  def saludar(self):\n",
        "    super().saludar(\"Hola!\")\n",
        "    print(\"Mi nombre es: \" + self._nombre +\" y gano: \" + str(self.__salario))\n",
        "\n",
        "empleado = Empleado(\"JuanPa\")\n",
        "empleado.edad = 22\n",
        "print(empleado.edad)"
      ],
      "metadata": {
        "colab": {
          "base_uri": "https://localhost:8080/"
        },
        "id": "_vUYyr_ydKwS",
        "outputId": "a3dbc33e-a41c-4710-d8a5-9924734b922c"
      },
      "execution_count": null,
      "outputs": [
        {
          "output_type": "stream",
          "name": "stdout",
          "text": [
            "22\n"
          ]
        }
      ]
    },
    {
      "cell_type": "markdown",
      "source": [
        "***Abstracción***"
      ],
      "metadata": {
        "id": "pymjjX4itZX3"
      }
    },
    {
      "cell_type": "markdown",
      "source": [
        "Ejemplo práctico de abstracción"
      ],
      "metadata": {
        "id": "L890mqYSvwu4"
      }
    },
    {
      "cell_type": "code",
      "source": [
        "class FilaBanco:\n",
        "  usuarios = Cola()\n",
        "\n",
        "  def siguiente_usuario(self, numero):\n",
        "    #Implementación\n",
        "    return self.usuarios.obtener(numero)\n",
        "\n",
        "  def formar_usuario(self, numero, usuario):\n",
        "    self.usuarios.agregar(numero, usuario)\n",
        "\n",
        "class Hash(): #Clase abstracta: implementación general, poco detallada\n",
        "  data = {}\n",
        "\n",
        "  def obtener(self, llave):\n",
        "    data[llave] \n",
        "\n",
        "  def agregar(self, llave, valor):\n",
        "    data[llave] = valor\n",
        "\n",
        "class Cola:\n",
        "  data = []\n",
        "\n",
        "  def obtener(self, llave):\n",
        "    data[0] \n",
        "\n",
        "  def agregar(self, llave, valor):\n",
        "    data[len(data)-1] = valor"
      ],
      "metadata": {
        "id": "BOhEURgtfTSs"
      },
      "execution_count": null,
      "outputs": []
    },
    {
      "cell_type": "markdown",
      "source": [
        "***Clases abstractas***"
      ],
      "metadata": {
        "id": "fzAP7i4ozmEa"
      }
    },
    {
      "cell_type": "code",
      "source": [
        "from abc import ABC, abstractmethod\n",
        "\n",
        "#Clase abstracta\n",
        "class EstructuraAbstracta(ABC):\n",
        "\n",
        "  @abstractmethod\n",
        "  def obtener(self):\n",
        "    pass\n",
        "\n",
        "  @abstractmethod\n",
        "  def agregar(self):\n",
        "    pass\n",
        "\n",
        "class FilaBanco:\n",
        "  \n",
        "  def __init__(self, almacen_usuarios):\n",
        "    if not isinstance(almacen_usuarios, EstructuraAbstracta):\n",
        "      raise ValueError('Store is not supported')\n",
        "\n",
        "    self.usuarios = almacen_usuarios\n",
        "\n",
        "\n",
        "  def siguiente_usuario(self, numero):\n",
        "    #Implementación\n",
        "    return self.usuarios.obtener(numero)\n",
        "\n",
        "  def formar_usuario(self, numero, usuario):\n",
        "    self.usuarios.agregar(numero, usuario)\n",
        "\n",
        "class Hash(EstructuraAbstracta): \n",
        "  data = {}\n",
        "\n",
        "  def obtener(self, llave):\n",
        "    data[llave] \n",
        "\n",
        "  def agregar(self, llave, valor):\n",
        "    data[llave] = valor\n",
        "\n",
        "h = Hash()\n",
        "\n",
        "class Cola(EstructuraAbstracta):\n",
        "  data = []\n",
        "\n",
        "  def obtener(self, llave):\n",
        "    data[0] \n",
        "\n",
        "  def agregar(self, llave, valor):\n",
        "    data[len(data)-1] = valor\n",
        "\n",
        "FilaBanco(Cola())"
      ],
      "metadata": {
        "colab": {
          "base_uri": "https://localhost:8080/"
        },
        "id": "BXQPMwEXwDlb",
        "outputId": "54645ebf-af32-42e3-e8e3-6d5c7bda5ee4"
      },
      "execution_count": null,
      "outputs": [
        {
          "output_type": "execute_result",
          "data": {
            "text/plain": [
              "<__main__.FilaBanco at 0x7f2cca3a28d0>"
            ]
          },
          "metadata": {},
          "execution_count": 56
        }
      ]
    },
    {
      "cell_type": "markdown",
      "source": [
        "***Polimorfismo***"
      ],
      "metadata": {
        "id": "pux-aiXS5Iuy"
      }
    },
    {
      "cell_type": "markdown",
      "source": [
        "Código con clases abstractas que recibe cualquier type de dato para compara cuál de sus valores es mayor (polimorfismo)"
      ],
      "metadata": {
        "id": "V951o4QT-FR5"
      }
    },
    {
      "cell_type": "code",
      "source": [
        "class Numero:\n",
        "  valor = 0\n",
        "\n",
        "  def __init__(self, valor):\n",
        "    self.valor = valor\n",
        "\n",
        "  def comparar(self, numero):\n",
        "    if numero.valor > self.valor:\n",
        "      return numero.valor\n",
        "    return self.valor\n",
        "\n",
        "class Cadena:\n",
        "  valor = \"\"\n",
        "\n",
        "  def __init__(self, valor):\n",
        "    self.valor = valor\n",
        "\n",
        "  def comparar(self, cadena):\n",
        "    palabras = [self.valor, cadena.valor]\n",
        "    palabras_ordenadas = sorted(palabras)\n",
        "    return palabras_ordenadas[0]\n",
        "\n",
        "class Lista:\n",
        "  valor = []\n",
        "\n",
        "  def __init__(self, valor):\n",
        "    self.valor = valor\n",
        "\n",
        "  def comparar(self, lista):\n",
        "    if len(self.valor) > len(lista.valor):\n",
        "      return self.valor\n",
        "    return lista.valor   \n",
        "\n",
        "def retorna_el_mayor(a, b):\n",
        "  return a.comparar(b)\n",
        "\n",
        "numero_uno = Numero(10)\n",
        "numero_dos = Numero(20)\n",
        "\n",
        "cadena_uno = Cadena(\"JuanPa\")\n",
        "cadena_dos = Cadena(\"Alejandro\")\n",
        "\n",
        "lista_uno = Lista([1,2,3,4,5])\n",
        "lista_dos = Lista([6,7,8,9,10,11])\n",
        "\n",
        "retorna_el_mayor(lista_uno, lista_dos)"
      ],
      "metadata": {
        "colab": {
          "base_uri": "https://localhost:8080/"
        },
        "id": "iGoPlLxC3DYI",
        "outputId": "ec72b8e1-1b73-45b8-f8bc-c5090fb758cf"
      },
      "execution_count": null,
      "outputs": [
        {
          "output_type": "execute_result",
          "data": {
            "text/plain": [
              "[6, 7, 8, 9, 10, 11]"
            ]
          },
          "metadata": {},
          "execution_count": 72
        }
      ]
    }
  ]
}