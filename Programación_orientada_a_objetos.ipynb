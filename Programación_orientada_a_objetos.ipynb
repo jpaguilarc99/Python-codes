{
  "nbformat": 4,
  "nbformat_minor": 0,
  "metadata": {
    "colab": {
      "name": "Programación orientada a objetos",
      "provenance": [],
      "collapsed_sections": [],
      "authorship_tag": "ABX9TyPe7Fqa1LQQNjTBV7mvBEjU",
      "include_colab_link": true
    },
    "kernelspec": {
      "name": "python3",
      "display_name": "Python 3"
    },
    "language_info": {
      "name": "python"
    }
  },
  "cells": [
    {
      "cell_type": "markdown",
      "metadata": {
        "id": "view-in-github",
        "colab_type": "text"
      },
      "source": [
        "<a href=\"https://colab.research.google.com/github/jpaguilarc99/Python-codes/blob/main/Programaci%C3%B3n_orientada_a_objetos.ipynb\" target=\"_parent\"><img src=\"https://colab.research.google.com/assets/colab-badge.svg\" alt=\"Open In Colab\"/></a>"
      ]
    },
    {
      "cell_type": "markdown",
      "source": [
        "# ***Programación orientada a objetos***"
      ],
      "metadata": {
        "id": "pfhgkFBleG-M"
      }
    },
    {
      "cell_type": "markdown",
      "source": [
        "***Definir una clase***"
      ],
      "metadata": {
        "id": "lD9oSF8qmdim"
      }
    },
    {
      "cell_type": "code",
      "execution_count": null,
      "metadata": {
        "id": "jcRe_A_QeEEj"
      },
      "outputs": [],
      "source": [
        "class Curso:\n",
        "  pass\n",
        "\n",
        "curso_python = Curso() #Creación de objeto, instancia de la Class Curso"
      ]
    },
    {
      "cell_type": "markdown",
      "source": [
        "***Creemos la clase User***"
      ],
      "metadata": {
        "id": "5Za3OD-2oIrU"
      }
    },
    {
      "cell_type": "code",
      "source": [
        "class User:\n",
        "  nombre = \"Uriel\"\n",
        "\n",
        "uriel = User() #Estado 1 del objeto perteneciente a la clase User\n",
        "uriel.nombre = \"Marcos\"\n",
        "\n",
        "cody = User() #Estado 2 del objeto perteneciente a la clase User\n",
        "cody.nombre = \"Cody\"\n",
        "\n",
        "print(uriel.nombre)\n",
        "print(cody.nombre)"
      ],
      "metadata": {
        "colab": {
          "base_uri": "https://localhost:8080/"
        },
        "id": "m9f0ffZDoLsW",
        "outputId": "7664c116-cbc7-4484-b6d3-982efb54e4aa"
      },
      "execution_count": null,
      "outputs": [
        {
          "output_type": "stream",
          "name": "stdout",
          "text": [
            "Marcos\n",
            "Cody\n"
          ]
        }
      ]
    },
    {
      "cell_type": "markdown",
      "source": [
        "***Métodos***"
      ],
      "metadata": {
        "id": "9yco0d05qdwM"
      }
    },
    {
      "cell_type": "code",
      "source": [
        "class User:\n",
        "  #Atributos\n",
        "  nombre = \"Uriel\"\n",
        "\n",
        "  #Métodos\n",
        "  def saludar(self, saludo): #Método saludar\n",
        "    print(saludo + self.nombre)\n",
        "\n",
        "uriel = User()\n",
        "uriel.saludar(\"Aloha! Mi nombre es: \")"
      ],
      "metadata": {
        "colab": {
          "base_uri": "https://localhost:8080/"
        },
        "id": "V7uXbxf2opd4",
        "outputId": "4e9145a6-3928-4e2a-f8f2-0104a6a39c6c"
      },
      "execution_count": null,
      "outputs": [
        {
          "output_type": "stream",
          "name": "stdout",
          "text": [
            "Aloha! Mi nombre es: Uriel\n"
          ]
        }
      ]
    },
    {
      "cell_type": "markdown",
      "source": [
        "***Método constructor***"
      ],
      "metadata": {
        "id": "xr_Im38XsrFM"
      }
    },
    {
      "cell_type": "code",
      "source": [
        "class User:\n",
        "  #Atributos\n",
        "  \n",
        "  def __init__(self, nombre):\n",
        "    #Método constructor\n",
        "    self.nombre = nombre\n",
        "\n",
        "  def saludar(self, saludo):\n",
        "    print(saludo + self.nombre)\n",
        "\n",
        "uriel = User(\"Uriel\")\n",
        "uriel.saludar(\"Aloha! Mi nombre es: \")\n",
        "\n",
        "\n",
        "class Contador:\n",
        "  def __init__(self):\n",
        "    self.conteo = 0"
      ],
      "metadata": {
        "colab": {
          "base_uri": "https://localhost:8080/"
        },
        "id": "oti-0sbAqzpZ",
        "outputId": "5fa0da8a-48fd-4580-ce56-2c437f6c02f2"
      },
      "execution_count": null,
      "outputs": [
        {
          "output_type": "stream",
          "name": "stdout",
          "text": [
            "Aloha! Mi nombre es: Uriel\n"
          ]
        }
      ]
    },
    {
      "cell_type": "markdown",
      "source": [
        "***Herencia***"
      ],
      "metadata": {
        "id": "J4d_E5r9LKCi"
      }
    },
    {
      "cell_type": "markdown",
      "source": [
        "Este concepto permite que un objeto herede las propiedades y métodos de un objeto al que llamamos padre o base."
      ],
      "metadata": {
        "id": "cAQn2u2uLXP3"
      }
    },
    {
      "cell_type": "code",
      "source": [
        "class Usuario: #Clase padre\n",
        "  def __init__(self, nombre):\n",
        "    self.nombre = nombre\n",
        "\n",
        "  def saludar(self, saludo):\n",
        "    print(saludo + self.nombre)\n",
        "\n",
        "class Empleado(Usuario): #Clase hijo\n",
        "  salario = 0\n",
        "\n",
        "  def modificar_salario(self, salario):\n",
        "    self.salario = salario\n",
        "\n",
        "  def ver_salario(self):\n",
        "    print(self.salario)\n",
        "\n",
        "  def saludar(self):\n",
        "    print(\"Mi nombre es: \" + self.nombre +\" y gano: \" + self.salario)\n",
        "\n",
        "empleado = Empleado(\"Juan\")\n",
        "empleado.modificar_salario(\"2'522.000 COP\")\n",
        "empleado.ver_salario()\n",
        "empleado.saludar()"
      ],
      "metadata": {
        "id": "ddOdjjO4tVQO",
        "colab": {
          "base_uri": "https://localhost:8080/"
        },
        "outputId": "0e628246-9e20-44f2-faac-d9ed03af11e4"
      },
      "execution_count": 9,
      "outputs": [
        {
          "output_type": "stream",
          "name": "stdout",
          "text": [
            "2'522.000 COP\n",
            "Mi nombre es: Juan y gano: 2'522.000 COP\n"
          ]
        }
      ]
    },
    {
      "cell_type": "markdown",
      "source": [
        "***Función super()***: retorna una instancia de la clase padre a través de la que se pueden llamar métodos."
      ],
      "metadata": {
        "id": "iaDbfeqXPjfi"
      }
    },
    {
      "cell_type": "markdown",
      "source": [
        "Se ejecuta tanto la funcionalidad del padre como la del hijo."
      ],
      "metadata": {
        "id": "9JyBmXsxQTEO"
      }
    },
    {
      "cell_type": "code",
      "source": [
        "class Usuario: #Clase padre\n",
        "  def __init__(self, nombre):\n",
        "    self.nombre = nombre\n",
        "\n",
        "  def saludar(self, saludo):\n",
        "    print(saludo + self.nombre)\n",
        "\n",
        "class Empleado(Usuario): #Clase hijo\n",
        "  salario = 0\n",
        "\n",
        "  def modificar_salario(self, salario):\n",
        "    self.salario = salario\n",
        "\n",
        "  def ver_salario(self):\n",
        "    print(self.salario)\n",
        "\n",
        "  def saludar(self):\n",
        "    super().saludar(\"Hola!\")\n",
        "    print(\"Mi nombre es: \" + self.nombre +\" y gano: \" + str(self.salario))\n",
        "\n",
        "#empleado = Empleado(\"Juan\")\n",
        "#empleado.saludar()\n",
        "\n",
        "class Pagina: #Clase padre\n",
        "  def imprimir_pie_pagina(self):\n",
        "    print(self.pie_pagina)\n",
        "\n",
        "class PaginaLegal(Pagina): #Clase hijo\n",
        "  def imprimir_pie_pagina(self):\n",
        "    super().imprimir_pie_pagina()\n",
        "    print(\"Todos los derechos reservados.\")\n",
        "\n",
        "html = PaginaLegal()\n",
        "html.pie_pagina = \"<p>Esta es mi pagina web.</p>\"\n",
        "\n",
        "html.imprimir_pie_pagina()"
      ],
      "metadata": {
        "colab": {
          "base_uri": "https://localhost:8080/"
        },
        "id": "g9SunLJYNbBd",
        "outputId": "2e3bd374-6c00-4103-d441-fa5a4b9e712f"
      },
      "execution_count": 17,
      "outputs": [
        {
          "output_type": "stream",
          "name": "stdout",
          "text": [
            "<p>Esta es mi pagina web.</p>\n",
            "Todos los derechos reservados.\n"
          ]
        }
      ]
    },
    {
      "cell_type": "markdown",
      "source": [
        "***Abstracción y encapsulación***"
      ],
      "metadata": {
        "id": "8jbMcLYkTCIK"
      }
    },
    {
      "cell_type": "markdown",
      "source": [
        "***Encapsulamiento***\n",
        "\n",
        "3 métodos de alcance:\n",
        "- Propiedades públicas.\n",
        "- Propiedades protegidas.\n",
        "- Propiedades privadas."
      ],
      "metadata": {
        "id": "jg2N7CjSWa0J"
      }
    },
    {
      "cell_type": "markdown",
      "source": [
        "Públicas:\n",
        "- Desde la clase que declaró la propiedad.\n",
        "- Desde clases que heredan de la que declaró la propiedad.\n",
        "- Desde una instancia.\n"
      ],
      "metadata": {
        "id": "1uHwlxjhZ-3X"
      }
    },
    {
      "cell_type": "markdown",
      "source": [
        "Protegidas:\n",
        "- Desde la clase que declaró la propiedad.\n",
        "- Desde clases que heredan de la que declaró la propiedad."
      ],
      "metadata": {
        "id": "4FhBY5YCaJuH"
      }
    },
    {
      "cell_type": "markdown",
      "source": [
        "Privadas:\n",
        "- Desde la clase que declaró la propiedad."
      ],
      "metadata": {
        "id": "ZJSpvL_bac9C"
      }
    },
    {
      "cell_type": "markdown",
      "source": [
        "***Modificadores de acceso en Python***"
      ],
      "metadata": {
        "id": "TG8FWAE4axpS"
      }
    },
    {
      "cell_type": "code",
      "source": [
        "class Usuario: #Clase padre\n",
        "  def __init__(self, nombre):\n",
        "    #Método constructor\n",
        "    self._nombre = nombre #Atributo protegido con convención \"_\"\n",
        "\n",
        "  def saludar(self, saludo):\n",
        "    print(saludo + self._nombre)\n",
        "\n",
        "class Empleado(Usuario): #Clase hijo\n",
        "  __salario = 0 #Atributo privado con convención \"__\"\n",
        "\n",
        "  def modificar_salario(self, salario):\n",
        "    self.__salario = salario\n",
        "\n",
        "  def ver_salario(self):\n",
        "    print(self.__salario)\n",
        "\n",
        "  def saludar(self):\n",
        "    super().saludar(\"Hola!\")\n",
        "    print(\"Mi nombre es: \" + self._nombre +\" y gano: \" + str(self.__salario))\n",
        "\n",
        "empleado = Empleado(\"JuanPa\")\n",
        "empleado.modificar_salario(2500000)\n",
        "empleado.ver_salario()"
      ],
      "metadata": {
        "colab": {
          "base_uri": "https://localhost:8080/"
        },
        "id": "E3rtr4s1QJf7",
        "outputId": "a16160dd-faaa-4c45-f891-23bb37acf7e7"
      },
      "execution_count": 24,
      "outputs": [
        {
          "output_type": "stream",
          "name": "stdout",
          "text": [
            "2500000\n"
          ]
        }
      ]
    },
    {
      "cell_type": "markdown",
      "source": [
        "Al ejecutar una propiedad privada con la convención \"__\" hay una modificación en el lenguaje y no permite ejecutar la propiedad, asignando un error diciendo que la propiedad no existe:"
      ],
      "metadata": {
        "id": "_DtrFyK-dL_7"
      }
    },
    {
      "cell_type": "code",
      "source": [
        "print(empleado.__salario)"
      ],
      "metadata": {
        "colab": {
          "base_uri": "https://localhost:8080/",
          "height": 165
        },
        "id": "nTNCsdKGa_fm",
        "outputId": "d4f91552-85e9-4830-8c4f-bd6858c5c8b5"
      },
      "execution_count": 23,
      "outputs": [
        {
          "output_type": "error",
          "ename": "AttributeError",
          "evalue": "ignored",
          "traceback": [
            "\u001b[0;31m---------------------------------------------------------------------------\u001b[0m",
            "\u001b[0;31mAttributeError\u001b[0m                            Traceback (most recent call last)",
            "\u001b[0;32m<ipython-input-23-9099efdd2cae>\u001b[0m in \u001b[0;36m<module>\u001b[0;34m()\u001b[0m\n\u001b[0;32m----> 1\u001b[0;31m \u001b[0mprint\u001b[0m\u001b[0;34m(\u001b[0m\u001b[0mempleado\u001b[0m\u001b[0;34m.\u001b[0m\u001b[0m__salario\u001b[0m\u001b[0;34m)\u001b[0m\u001b[0;34m\u001b[0m\u001b[0;34m\u001b[0m\u001b[0m\n\u001b[0m",
            "\u001b[0;31mAttributeError\u001b[0m: 'Empleado' object has no attribute '__salario'"
          ]
        }
      ]
    },
    {
      "cell_type": "markdown",
      "source": [
        "***Métodos accesores***"
      ],
      "metadata": {
        "id": "-TGb7AibeHqV"
      }
    },
    {
      "cell_type": "code",
      "source": [
        ""
      ],
      "metadata": {
        "id": "_vUYyr_ydKwS"
      },
      "execution_count": null,
      "outputs": []
    }
  ]
}