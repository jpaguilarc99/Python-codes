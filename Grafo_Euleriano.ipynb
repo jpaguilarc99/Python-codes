{
  "nbformat": 4,
  "nbformat_minor": 0,
  "metadata": {
    "colab": {
      "name": "Grafo Euleriano",
      "provenance": [],
      "authorship_tag": "ABX9TyN7veedgHIuLycOBINsz87/",
      "include_colab_link": true
    },
    "kernelspec": {
      "name": "python3",
      "display_name": "Python 3"
    },
    "language_info": {
      "name": "python"
    }
  },
  "cells": [
    {
      "cell_type": "markdown",
      "metadata": {
        "id": "view-in-github",
        "colab_type": "text"
      },
      "source": [
        "<a href=\"https://colab.research.google.com/github/jpaguilarc99/Python-codes/blob/main/Grafo_Euleriano.ipynb\" target=\"_parent\"><img src=\"https://colab.research.google.com/assets/colab-badge.svg\" alt=\"Open In Colab\"/></a>"
      ]
    },
    {
      "cell_type": "code",
      "source": [
        "from graphviz import Graph as gr\n",
        "\n",
        "grafo = gr('G', filename='euleriano.gv', engine='circo')\n",
        "aristas = int(input('Cantidad de aristas que tiene su grafo: '))\n",
        "\n",
        "def euler(pdf):\n",
        "  visitados = [] \n",
        "  cola = []\n",
        "  ciclos = 0\n",
        "  ContadorNodosAgregados = 0\n",
        "  caminos = 0\n",
        "  acumulador = 0\n",
        "  nodos_pares = 0\n",
        "\n",
        "  for nodoinicial in range(aristas):\n",
        "    nodoinicial = input('Ingrese nombre para el nodo inicial: ')\n",
        "    grafo.attr('node', shape='doublecircle')\n",
        "    \n",
        "    grafo.node(nodoinicial)\n",
        "    \n",
        "    nodo_llegada = input('Nombre un nodo para conectarlo con el anterior: ')\n",
        "    grafo.edge(nodoinicial, nodo_llegada)\n",
        "\n",
        "    if aristas >= 1:\n",
        "      cola.append(nodoinicial)\n",
        "      ContadorNodosAgregados += 1\n",
        "\n",
        "  for indice in range(len(cola)):\n",
        "    actual = cola[indice]\n",
        "    for j in range(len(cola)):\n",
        "      if actual == cola[j]:\n",
        "        nodos_pares += 1\n",
        "  if nodos_pares > len(cola):\n",
        "    ciclos += 1\n",
        "\n",
        "  for elementos in range(len(cola)):\n",
        "    if (cola[elementos] == nodo_llegada or nodoinicial):\n",
        "      acumulador += 1\n",
        "\n",
        "  if acumulador >= len(cola):\n",
        "    caminos += 1\n",
        "\n",
        "  visitados.append(ContadorNodosAgregados)\n",
        "  grafo.attr(label=r'\\n\\nGrafo Euleriano\\n Juan Pablo prueba', fontsize= '10')\n",
        "  grafo.view()\n",
        "\n",
        "  print(\"Los elementos de la cola son los nodos: \", cola)\n",
        "  print(\"La cantidad de nodos visitados es de: \", visitados)\n",
        "  print(\"La cantidad de ciclos encontrados es de: \", ciclos)\n",
        "  print(\"La cantidad de caminos encontrados es de: \", caminos)\n",
        "\n",
        "print(euler(grafo))"
      ],
      "metadata": {
        "colab": {
          "base_uri": "https://localhost:8080/"
        },
        "id": "3IDyjPzrfB2e",
        "outputId": "a23effc2-c62e-4acd-ac67-ba09899e59f9"
      },
      "execution_count": 28,
      "outputs": [
        {
          "output_type": "stream",
          "name": "stdout",
          "text": [
            "Cantidad de aristas que tiene su grafo: 5\n",
            "Ingrese nombre para el nodo inicial: FOURWIN\n",
            "Nombre un nodo para conectarlo con el anterior: INVECOL\n",
            "Ingrese nombre para el nodo inicial: FOURWIN\n",
            "Nombre un nodo para conectarlo con el anterior: RECALCO\n",
            "Ingrese nombre para el nodo inicial: FOURWIN\n",
            "Nombre un nodo para conectarlo con el anterior: ABC SOLUCIONES\n",
            "Ingrese nombre para el nodo inicial: FOURWIN\n",
            "Nombre un nodo para conectarlo con el anterior: COASELCO\n",
            "Ingrese nombre para el nodo inicial: FOURWIN\n",
            "Nombre un nodo para conectarlo con el anterior: ASOCIADOS\n",
            "Los elementos de la cola son los nodos:  ['FOURWIN', 'FOURWIN', 'FOURWIN', 'FOURWIN', 'FOURWIN']\n",
            "La cantidad de nodos visitados es de:  [5]\n",
            "La cantidad de ciclos encontrados es de:  1\n",
            "La cantidad de caminos encontrados es de:  1\n",
            "None\n"
          ]
        }
      ]
    },
    {
      "cell_type": "code",
      "source": [
        ""
      ],
      "metadata": {
        "id": "C00TDpumg9Lw"
      },
      "execution_count": null,
      "outputs": []
    }
  ]
}