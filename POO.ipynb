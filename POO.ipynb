{
  "nbformat": 4,
  "nbformat_minor": 0,
  "metadata": {
    "colab": {
      "name": "POO ",
      "provenance": [],
      "collapsed_sections": [],
      "authorship_tag": "ABX9TyNL2VvHtri67wx6WhVgqpRd",
      "include_colab_link": true
    },
    "kernelspec": {
      "name": "python3",
      "display_name": "Python 3"
    },
    "language_info": {
      "name": "python"
    }
  },
  "cells": [
    {
      "cell_type": "markdown",
      "metadata": {
        "id": "view-in-github",
        "colab_type": "text"
      },
      "source": [
        "<a href=\"https://colab.research.google.com/github/jpaguilarc99/Python-codes/blob/main/POO.ipynb\" target=\"_parent\"><img src=\"https://colab.research.google.com/assets/colab-badge.svg\" alt=\"Open In Colab\"/></a>"
      ]
    },
    {
      "cell_type": "markdown",
      "source": [
        "# *Programación orientada a objetos: fundamentos*"
      ],
      "metadata": {
        "id": "l0cJdnYFZhM0"
      }
    },
    {
      "cell_type": "markdown",
      "source": [
        "https://www.youtube.com/watch?v=iliKayKaGtc\n"
      ],
      "metadata": {
        "id": "Q9f5V6CVv8NB"
      }
    },
    {
      "cell_type": "markdown",
      "source": [
        "**OBJETO:** \"algo\" que se quiere representar pero no es suficiente con una variable de tipo básico (int, bool, float, char...)\n",
        "\n",
        "**ATRIBUTOS:** son las características o propiedades que describen al objeto. Los diferentes atributos que puede tener un objeto para representar múltiples objetos se conoce como estado del objeto.\n",
        "\n",
        "- Propiedades del objeto, representadas mediante variables.\n",
        "- Pueden ser de cualquier tipo de datos (incluso otros objetos).\n",
        "- \"De clase\" o \"de instancia\" según si el valor es el mismo para todos los objetos o no.\n",
        "- Pueden crearse de forma dinámica durante la ejecución.\n",
        "\n",
        "**MÉTODOS:** son las acciones o funcionalidades que puede ofrece y puede realizar el objeto. Los métodos pueden recibir parámetros y retornar valores.\n",
        "\n",
        "- Dan funcionalidad a los objetos.\n",
        "- Necesitan de una clase para existir.\n",
        "- Similares a las funciones (con algoritmos, parámetros y valor de retorno).\n",
        "- Puede invocarse desde el propio objeto que lo contiene o desde otro, con la sintaxis objeto.metodo()\n",
        "\n"
      ],
      "metadata": {
        "id": "dnKDPlAAY_l3"
      }
    },
    {
      "cell_type": "markdown",
      "source": [
        "**CLASE:**\n",
        "- Molde para obtener objetos con la misma estructura.\n",
        "- Para obtener un objeto a partir de una clase, se la debe instanciar.\n",
        "- Objetos de la misma clase: tienen los mismos métodos y atributos, pero los atributos pueden tener distintos valores. "
      ],
      "metadata": {
        "id": "aiWDeSRgaPqX"
      }
    },
    {
      "cell_type": "markdown",
      "source": [
        "Instanciar un objeto para la clase Gato:"
      ],
      "metadata": {
        "id": "kabV6ggWakOD"
      }
    },
    {
      "cell_type": "code",
      "execution_count": 2,
      "metadata": {
        "id": "YyNzmFEfX41Q"
      },
      "outputs": [],
      "source": [
        "class Gato: #Clase\n",
        "  pass\n",
        "\n",
        "mi_gato = Gato() #Instancia"
      ]
    },
    {
      "cell_type": "markdown",
      "source": [
        "EJEMPLO: \"gato\"\n",
        "\n",
        "- Representado por los atributos: nombre, edad, alimentos favoritos,etc..\n",
        "- Métodos: Saber si es un adulto, decir si un alimento es de sus favoritos, etc..."
      ],
      "metadata": {
        "id": "BjVABrmMbU0H"
      }
    },
    {
      "cell_type": "markdown",
      "source": [
        "**Método \"CONSTRUCTOR\"**:\n",
        "- Es un m+etodo especial: instancia objetos de una clase (se invoca automaticamente)\n",
        "- En él pueden inicializarse los atributos de un objeto.\n",
        "- No es obligatorio crearlo ni inicializar todos los atributos.\n",
        "\n",
        "EJEMPLO:"
      ],
      "metadata": {
        "id": "lntNr0VshU5P"
      }
    },
    {
      "cell_type": "markdown",
      "source": [
        "self es un argumento de referencia al objeto que se está creando."
      ],
      "metadata": {
        "id": "jWD8X17sh5KQ"
      }
    },
    {
      "cell_type": "code",
      "source": [
        "class Ejemplo:\n",
        "  def __init__(self, parametro1): #método constructor init\n",
        "    self.atributo1 = parametro1\n",
        "    self.atributo2 = 100\n",
        "\n",
        "un_ejemplo = Ejemplo(\"un dato\")\n",
        "print(un_ejemplo)\n",
        "print(un_ejemplo.atributo1)\n",
        "print(un_ejemplo.atributo2)"
      ],
      "metadata": {
        "colab": {
          "base_uri": "https://localhost:8080/"
        },
        "id": "dBEZw8uAbOMX",
        "outputId": "2fa39f49-4477-4fde-8aca-f8571dd992b2"
      },
      "execution_count": 7,
      "outputs": [
        {
          "output_type": "stream",
          "name": "stdout",
          "text": [
            "<__main__.Ejemplo object at 0x7f6627fbc4d0>\n",
            "un dato\n",
            "100\n"
          ]
        }
      ]
    },
    {
      "cell_type": "markdown",
      "source": [
        "Creación de atributos de forma dinámica:"
      ],
      "metadata": {
        "id": "EKC7eoP8jXFg"
      }
    },
    {
      "cell_type": "code",
      "source": [
        "un_ejemplo.atributo3 = \"Atributo dinámico\"\n",
        "print(un_ejemplo.atributo3)"
      ],
      "metadata": {
        "colab": {
          "base_uri": "https://localhost:8080/"
        },
        "id": "DxEICePGig8i",
        "outputId": "85e8de89-d132-4e5d-9215-343fa30479af"
      },
      "execution_count": 9,
      "outputs": [
        {
          "output_type": "stream",
          "name": "stdout",
          "text": [
            "Atributo dinámico\n"
          ]
        }
      ]
    },
    {
      "cell_type": "markdown",
      "source": [
        "EJEMPLO: Creemos la clase Gato.\n",
        "\n",
        "Atributos:\n",
        " - Nombre.\n",
        " - Edad.\n",
        " - Alimentos favoritos.\n",
        "\n",
        "Métodos:\n",
        " - __init__()\n",
        " - verEtapaDeVida()\n",
        " - esAlimentoFavorito()"
      ],
      "metadata": {
        "id": "2l8X4babkNsW"
      }
    },
    {
      "cell_type": "code",
      "source": [
        "class Gato:\n",
        "  #Atributos\n",
        "  especie = \"mamifero\" #Atributo de clase\n",
        "\n",
        "  def __init__(self, nombre, edad):\n",
        "    self.nombre = nombre #Atributos de instancia\n",
        "    self.edad = edad\n",
        "    self.alimentos = []\n",
        "\n",
        "  #Métodos\n",
        "  def verEtapaDeVida(self):\n",
        "    if self.edad > 1:\n",
        "      print(self.nombre, \"es adulto.\")\n",
        "    else:\n",
        "      print(self.nombre, \"es cachorro.\")\n",
        "\n",
        "  def esAlimentoFavorito(self,alimento):\n",
        "    return alimento in self.alimentos\n",
        "\n",
        "gato1 = Gato(\"Gorda\", 8)\n",
        "gato1.raza = \"Criollo\" #Atributo dinámico solo para el objeto gato1 debido a que la clase no tiene definido tal atributo.\n",
        "gato1.alimentos.append(\"pescado\")\n",
        "gato1.alimentos.append(\"yogurt\")\n",
        "print(gato1.nombre) #Atributos de instancia\n",
        "print(gato1.edad)\n",
        "print(gato1.raza)\n",
        "gato1.verEtapaDeVida() #Uso de método\n",
        "gato1.alimentos\n",
        "gato1.esAlimentoFavorito(\"pescado\") #Uso de método\n",
        "print(gato1.especie) #Atributo de clase"
      ],
      "metadata": {
        "colab": {
          "base_uri": "https://localhost:8080/"
        },
        "id": "IHofLLgTjeLq",
        "outputId": "570daa34-e21f-4be0-9ab9-1503326d53f6"
      },
      "execution_count": 24,
      "outputs": [
        {
          "output_type": "stream",
          "name": "stdout",
          "text": [
            "Gorda\n",
            "8\n",
            "Criollo\n",
            "Gorda es adulto.\n",
            "mamifero\n"
          ]
        }
      ]
    },
    {
      "cell_type": "markdown",
      "source": [
        "Otro ejemplo de Clase: Juego\n",
        "\n",
        "Atributos:\n",
        " - alto(int), ancho(int), color(str), vidas(int), munición(int).\n",
        "\n",
        "Métodos:\n",
        " - saltar, girar, esconderse, disparar."
      ],
      "metadata": {
        "id": "LKWfrj4MrUcS"
      }
    },
    {
      "cell_type": "markdown",
      "source": [
        "***FUNDAMENTOS DE POO:***\n",
        "1. Herencia.\n",
        "2. Encapsulamiento.\n",
        "3. Ocultamiento.\n",
        "4. Abstracción.\n",
        "5. Polimorfismo."
      ],
      "metadata": {
        "id": "hJ6xfdyCwO7_"
      }
    },
    {
      "cell_type": "markdown",
      "source": [
        "**HERENCIA:**\n",
        "- Relación de generalización (la clase \"padre\" es un caso general de la clase \"hija\").\n",
        "- Clase \"padre\": superclase. Clase \"hija\": subclase.\n",
        "- La sublcase hereda los métodos de la superclase, a menos que la subclase reeimplemente dichos métodos."
      ],
      "metadata": {
        "id": "fif4UPbMxSR-"
      }
    },
    {
      "cell_type": "markdown",
      "source": [
        "**EJEMPLO:** Clase padre Empleado hereda a clase hija Agente de Ventas:"
      ],
      "metadata": {
        "id": "boWcDJ2axnE3"
      }
    },
    {
      "cell_type": "markdown",
      "source": [
        "Llamada a la función super() para heredar los métodos inicializadores de la clase padre. La función super() se utiliza solo cuando se redefine un método heredado y se quieren los atributos de la clase padre, para poder utilizar los argumentos de padre e hija."
      ],
      "metadata": {
        "id": "4aWftM4yzCXe"
      }
    },
    {
      "cell_type": "code",
      "source": [
        "class Empleado: #Clase padre\n",
        "  def __init__(self, nombre, edad, legajo, sueldo): #Atributos de instancia\n",
        "    self.nombre = nombre\n",
        "    self.edad = edad\n",
        "    self.legajo = legajo\n",
        "    self.sueldoBase = sueldo    \n",
        "\n",
        "  def calcular_sueldo(self, descuentos, bonos): #Método\n",
        "    return self.sueldoBase - descuentos + bonos \n",
        "\n",
        "\n",
        "class AgenteVentas(Empleado): #Clase hija: hereda de Empleado\n",
        "  def __init__(self, nombre, edad, legajo, sueldo, mostrador):\n",
        "    self.numeroMostrador = mostrador \n",
        "    super().__init__(nombre, edad, legajo, sueldo) #función super() debido a renombramiento de init.\n",
        "\n",
        "class Tripulante(Empleado): #Clase hija: hereda de Empleado\n",
        "  def renovar_licencia(self):\n",
        "    if self.edad < 50:\n",
        "      print(self.nombre + \" renueva su licencia cada un año\")\n",
        "    else:\n",
        "      print(self.nombre + \" renueva su licencia cada seis meses\")\n",
        "\n",
        "\n",
        "juan = AgenteVentas(\"JuanPa\", 22, \"A120\", 2500, 4) #Creamos un objeto de la clase AgenteVentas\n",
        "print(juan)\n",
        "print(juan.nombre)\n",
        "print(juan.edad)\n",
        "juan.calcular_sueldo(200, 700) #Método heredado de la clase padre utilizado en la clase hija\n",
        "\n",
        "lucas = Tripulante(\"Lukis\", 31, \"B378\", 10000)\n",
        "lucas.renovar_licencia()"
      ],
      "metadata": {
        "colab": {
          "base_uri": "https://localhost:8080/"
        },
        "id": "QtGR6xbclF1R",
        "outputId": "5e183f67-a0e0-4bda-9a78-4b95ad8b9914"
      },
      "execution_count": 41,
      "outputs": [
        {
          "output_type": "stream",
          "name": "stdout",
          "text": [
            "<__main__.AgenteVentas object at 0x7f6620678cd0>\n",
            "JuanPa\n",
            "22\n",
            "Lukis renueva su licencia cada un año\n"
          ]
        }
      ]
    },
    {
      "cell_type": "markdown",
      "source": [
        "**ENCAPSULAMIENTO:** \"bajo acoplamiento\" -> el acoplamiento es la medida en la que un objeto depende de otro.\n",
        "\n",
        "- Un objeto debe incluir todos los atributos y métodos necesarios.\n",
        "- No incluir métodos que sean responsabilidad de otras clases (permite lograr un bajo acoplamiento).\n",
        "\n",
        "**Ejemplo:** máquina expendedora de bebidas.\n",
        "\n",
        "Clase Máquina bebidas:\n",
        " - Atributos: inventario.\n",
        " - Métodos: seleccionarBebida(), cobrar(), prepararBebida().\n",
        "\n",
        "Clase Bebida:\n",
        " - Atributos: tipo, precio.\n",
        "\n",
        "La bebida (clase Bebida) no debería tener la funcionalida de saber si el cliente pagó por la bebida, ya que la máquina de bebidas (clase Máquina de bebidas) se encarga de eso (encapsulamiento)."
      ],
      "metadata": {
        "id": "gga3zP381k1H"
      }
    },
    {
      "cell_type": "markdown",
      "source": [
        "**OCULTAMIENTO:** nos permite ocultar aquellos atributos o métodos que unicamente necesitan ser usados dentro de una clase y que no deberían ser accesibles desde otros objetos de otras clases.\n",
        "\n",
        "- Se \"ocultan\" atributos y métodos que solo se van a usar dentro de la propia clase y no desde otros objetos.\n",
        "- Permite esconder detalles de implementación de los datos.\n",
        "- Evita accesos a los datos de forma accidental o indebida.\n",
        "\n",
        "**Ejemplo:** sistema de gestión acádemica.\n",
        "\n",
        "Clase Carrera:\n",
        " - Atributos: nombre, materias.\n",
        "\n",
        "Clase Materia:\n",
        " - Atributos: nombre, profesor.\n",
        "\n",
        "El atributo profesor podría ser accidentalmente modificado si pertenece a otra clase como por ejemplo del tipo Empleado."
      ],
      "metadata": {
        "id": "244VAz0b36fa"
      }
    },
    {
      "cell_type": "markdown",
      "source": [
        "**Ejemplo práctico:**"
      ],
      "metadata": {
        "id": "sO06rIId5T3L"
      }
    },
    {
      "cell_type": "code",
      "source": [
        "class Carrera:\n",
        "  def __init__(self, nombre):\n",
        "    self.nombre = nombre\n",
        "    self.materias = {}\n",
        "\n",
        "  def agregar_materia(self, materia, codigo): #Este método cumple la función de agregar materias para cualquier tipo de dato, sin necesidad de estar modificando el código.\n",
        "    self.materias[codigo] = materia \n",
        "\n",
        "class Materia:\n",
        "  def __init__(self, nombre, profesor):\n",
        "    self.nombre = nombre\n",
        "    self.profesor = profesor\n",
        "\n",
        "ing = Carrera(\"Ingeniería de Sistemas\")\n",
        "algebra = Materia(\"Algebra\", \"Daniel Velasquez\") #Común a distintas carreras\n",
        "fisica = Materia(\"Física 1\", \"Ricardo Andres Smith\")\n",
        "quimica = Materia(\"Fenómenos de transporte\", \"Jorge David Leon\")\n",
        "\n",
        "ing.agregar_materia(algebra, 432) #Proporcionamos un objeto de la clase Materia y un entero\n",
        "ing.agregar_materia(fisica, 132)\n",
        "ing.materias"
      ],
      "metadata": {
        "colab": {
          "base_uri": "https://localhost:8080/"
        },
        "id": "SybDmmm6z1cK",
        "outputId": "5f256904-6532-429c-e255-e5bfd6ab308a"
      },
      "execution_count": 58,
      "outputs": [
        {
          "output_type": "execute_result",
          "data": {
            "text/plain": [
              "{132: <__main__.Materia at 0x7f662053aa90>,\n",
              " 432: <__main__.Materia at 0x7f662053aa50>}"
            ]
          },
          "metadata": {},
          "execution_count": 58
        }
      ]
    },
    {
      "cell_type": "markdown",
      "source": [
        "properties: a través de los atributos vamos a crear propiedades.\n",
        "\n",
        "Decorador @property: crea una propiedad a partir del atributo."
      ],
      "metadata": {
        "id": "twg_strSBvLd"
      }
    },
    {
      "cell_type": "code",
      "source": [
        "class Carrera:\n",
        "  def __init__(self, nombre):\n",
        "    self.nombre = nombre\n",
        "    self.materias = {}\n",
        "\n",
        "  def agregar_materia(self, materia, codigo): \n",
        "    self.materias[codigo] = materia \n",
        "\n",
        "class Materia:\n",
        "  def __init__(self, nombre, profesor, fecha):\n",
        "    self.nombre = nombre\n",
        "    self.profesor = profesor\n",
        "    self.fechaInicioDictado = fecha\n",
        "\n",
        "  @property\n",
        "  def fechaInicioDictado(self): #getter: obtiene el valor de un atributo\n",
        "    print(\"Prueba\")\n",
        "    return self._fechaInicioDictado #Atributo privado con convención \"_\"\n",
        "\n",
        "  @fechaInicioDictado.setter\n",
        "  def fechaInicioDictado(self, fecha): #setter: modifica el valor de un atributo\n",
        "    if fecha < 2006:\n",
        "      self._fechaInicioDictado = 2006\n",
        "    else:\n",
        "      self._fechaInicioDictado = fecha\n",
        "\n",
        "ing = Carrera(\"Ingeniería de Sistemas\")\n",
        "algebra = Materia(\"Algebra\", \"Daniel Velasquez\", 2010)\n",
        "fisica = Materia(\"Física 1\", \"Ricardo Andres Smith\", 2006)\n",
        "quimica = Materia(\"Fenómenos de transporte\", \"Jorge David Leon\", 2003)\n",
        "\n",
        "quimica.fechaInicioDictado\n",
        "ing.agregar_materia(algebra, 322)\n",
        "ing.materias\n",
        "\n",
        "#CUIDADO\n",
        "copia = ing.materias\n",
        "print(type(copia)) #SI SE MODIFICA LA VARIABLE COPIA, SE AFECTA DIRECTAMENTE EL OBJETO, YA QUE APUNTAN AL MISMO LUGAR DE LA MEMORIA."
      ],
      "metadata": {
        "colab": {
          "base_uri": "https://localhost:8080/"
        },
        "id": "wDUD-DSV54rZ",
        "outputId": "e2396015-4abf-4953-927f-44929dcdc9bf"
      },
      "execution_count": 12,
      "outputs": [
        {
          "output_type": "stream",
          "name": "stdout",
          "text": [
            "Prueba\n",
            "<class 'dict'>\n"
          ]
        }
      ]
    },
    {
      "cell_type": "markdown",
      "source": [
        "Hay que tener especial cuidado, debido a que si se hace la copia de un objeto para ser guardada en una variable y esta es modificada posteriormente, cambiará directamente al objeto debido a que apuntan al mismo espacio en la memoria. Por este motivo, se debe ocultar el atributo con la convenciones de dos guiones bajos \"__\", de modo que el código anterior quedaría:"
      ],
      "metadata": {
        "id": "-uZFOaU0hule"
      }
    },
    {
      "cell_type": "code",
      "source": [
        "class Carrera:\n",
        "  def __init__(self, nombre):\n",
        "    self.nombre = nombre\n",
        "    self.__materias = {} #ATRIBUTO OCULTO Y PROTEGIDO, SOLO SE PUEDE MODIFICAR DESDE EL MÉTODO AGREGAR MATERIA.\n",
        "\n",
        "  def agregar_materia(self, materia, codigo): \n",
        "    self.__materias[codigo] = materia \n",
        "\n",
        "class Materia:\n",
        "  def __init__(self, nombre, profesor, fecha):\n",
        "    self.nombre = nombre\n",
        "    self.profesor = profesor\n",
        "    self.fechaInicioDictado = fecha\n",
        "\n",
        "  @property\n",
        "  def fechaInicioDictado(self): \n",
        "    print(\"Prueba\")\n",
        "    return self._fechaInicioDictado \n",
        "\n",
        "  @fechaInicioDictado.setter\n",
        "  def fechaInicioDictado(self, fecha): \n",
        "    if fecha < 2006:\n",
        "      self._fechaInicioDictado = 2006\n",
        "    else:\n",
        "      self._fechaInicioDictado = fecha\n",
        "\n",
        "ing = Carrera(\"Ingeniería de Sistemas\")\n",
        "algebra = Materia(\"Algebra\", \"Daniel Velasquez\", 2010)\n",
        "fisica = Materia(\"Física 1\", \"Ricardo Andres Smith\", 2006)\n",
        "quimica = Materia(\"Fenómenos de transporte\", \"Jorge David Leon\", 2003)\n",
        "\n",
        "#Si intentamos hacer una copia del objeto o asignar un valor, producirá un ERROR debido a que el atributo está protegido:\n",
        "copia = ing.__materias\n",
        "ing.__materias[1234] = quimica"
      ],
      "metadata": {
        "colab": {
          "base_uri": "https://localhost:8080/",
          "height": 217
        },
        "id": "6GULATwsCNpk",
        "outputId": "349aba99-1d4c-4780-9dc1-dda36513c793"
      },
      "execution_count": 16,
      "outputs": [
        {
          "output_type": "error",
          "ename": "AttributeError",
          "evalue": "ignored",
          "traceback": [
            "\u001b[0;31m---------------------------------------------------------------------------\u001b[0m",
            "\u001b[0;31mAttributeError\u001b[0m                            Traceback (most recent call last)",
            "\u001b[0;32m<ipython-input-16-34bbf7cf235d>\u001b[0m in \u001b[0;36m<module>\u001b[0;34m()\u001b[0m\n\u001b[1;32m     31\u001b[0m \u001b[0;34m\u001b[0m\u001b[0m\n\u001b[1;32m     32\u001b[0m \u001b[0;31m#Si intentamos hacer una copia del objeto o asignar un valor, producirá un error debido a que el atributo está protegido:\u001b[0m\u001b[0;34m\u001b[0m\u001b[0;34m\u001b[0m\u001b[0;34m\u001b[0m\u001b[0m\n\u001b[0;32m---> 33\u001b[0;31m \u001b[0mcopia\u001b[0m \u001b[0;34m=\u001b[0m \u001b[0ming\u001b[0m\u001b[0;34m.\u001b[0m\u001b[0m__materias\u001b[0m\u001b[0;34m\u001b[0m\u001b[0;34m\u001b[0m\u001b[0m\n\u001b[0m\u001b[1;32m     34\u001b[0m \u001b[0ming\u001b[0m\u001b[0;34m.\u001b[0m\u001b[0m__materias\u001b[0m\u001b[0;34m[\u001b[0m\u001b[0;36m1234\u001b[0m\u001b[0;34m]\u001b[0m \u001b[0;34m=\u001b[0m \u001b[0mquimica\u001b[0m\u001b[0;34m\u001b[0m\u001b[0;34m\u001b[0m\u001b[0m\n",
            "\u001b[0;31mAttributeError\u001b[0m: 'Carrera' object has no attribute '__materias'"
          ]
        }
      ]
    },
    {
      "cell_type": "markdown",
      "source": [
        "**ABSTRACCIÓN:**\n",
        "- Oculta la complejidad de los algoritmos o de ciertas funcionalidades u operaciones.\n",
        "- Provee una interfaz simplificada que solo revela lo necesario para su uso."
      ],
      "metadata": {
        "id": "TaOWHWV1jWn8"
      }
    },
    {
      "cell_type": "markdown",
      "source": [
        "**Ejemplo:** interacción con bases de datos. "
      ],
      "metadata": {
        "id": "kKYR9V5bkBUC"
      }
    },
    {
      "cell_type": "markdown",
      "source": [
        "Conexión: host, usuario, contraseña. --> conectorBD: conectar(), consultar(), desconectar()."
      ],
      "metadata": {
        "id": "tJqOYlbPkXAO"
      }
    },
    {
      "cell_type": "markdown",
      "source": [
        "**POLIMORFISMO:**\n",
        "\n",
        "- Un mismo objeto puede tomar \"varias formas\": heredando de una superclase, implementando una interfaz, etc...\n",
        "- Un mismo método puede tomar \"varias formas\": puede reimplementarse en una subclase, o puede reescribirse con distintos parámetros y valores de retorno.\n",
        "- Sobreescritura y sobrecarga de métodos y operadores."
      ],
      "metadata": {
        "id": "6ZXOZxhxkzaG"
      }
    },
    {
      "cell_type": "markdown",
      "source": [
        "**Ejemplo:** rr.hh\n",
        "\n",
        "- Clase Empleado (superclase): calcularSueldo(descuentos).\n",
        "\n",
        "- Clase Gerente (subclase): calcularSueldo(descuentos, bonificaciones).\n",
        "\n",
        "La clase Gerente va a ser de tipo Gerente y de tipo Empleado (polimorfismo).\n",
        "\n",
        "Práctica:"
      ],
      "metadata": {
        "id": "QRgiAo85lODK"
      }
    },
    {
      "cell_type": "code",
      "source": [
        "class Empleado:\n",
        "  def __init__(self, nombre, legajo, sueldo):\n",
        "    self.nombre = nombre\n",
        "    self.legajo = legajo\n",
        "    self.sueldoBruto = sueldo\n",
        "\n",
        "  def calcular_sueldo(self, descuentos):\n",
        "    return self.sueldoBruto - descuentos\n",
        "\n",
        "class Gerente(Empleado):\n",
        "  def calcular_sueldo(self, descuentos, bonificaciones): #Se reimplementa el método calcular_sueldo, por lo que se usa el método de la subclase.\n",
        "    return self.sueldoBruto - descuentos + bonificaciones #si no estuviera reimplementada, se usaría el método de la superclase.\n",
        "\n",
        "marcos = Empleado(\"Marcos Ríos\", 221, 30000)\n",
        "julia = Gerente(\"Julia Campos\", 109, 60000)"
      ],
      "metadata": {
        "id": "3XyoWeDFit_-"
      },
      "execution_count": 17,
      "outputs": []
    },
    {
      "cell_type": "code",
      "source": [
        "marcos.calcular_sueldo(1000) #Sobreescritura de métodos de herencia"
      ],
      "metadata": {
        "colab": {
          "base_uri": "https://localhost:8080/"
        },
        "id": "djavoXsQmvUO",
        "outputId": "a845f465-a8c5-4f28-e166-05b0fd493b63"
      },
      "execution_count": 18,
      "outputs": [
        {
          "output_type": "execute_result",
          "data": {
            "text/plain": [
              "29000"
            ]
          },
          "metadata": {},
          "execution_count": 18
        }
      ]
    },
    {
      "cell_type": "code",
      "source": [
        "julia.calcular_sueldo(3000, 7000) #Sobreescritura de métodos de herencia"
      ],
      "metadata": {
        "colab": {
          "base_uri": "https://localhost:8080/"
        },
        "id": "pwQuHIr6nBKD",
        "outputId": "4b400786-c830-4b38-cc68-c7affdfd993e"
      },
      "execution_count": 19,
      "outputs": [
        {
          "output_type": "execute_result",
          "data": {
            "text/plain": [
              "64000"
            ]
          },
          "metadata": {},
          "execution_count": 19
        }
      ]
    },
    {
      "cell_type": "markdown",
      "source": [
        "**EJERCICIO**: Crear un menú a partir de una clase que permita registrar estudiantes nuevos, mostrar estudiantes registrados, buscar estudiantes, modificar notas y consultar su historial acádemico."
      ],
      "metadata": {
        "id": "lW6gieL9oUjw"
      }
    },
    {
      "cell_type": "code",
      "source": [
        "listaEstudiantes = []\n",
        "\n",
        "class Estudiantes(object):\n",
        "    def __init__(self, _cedula, _nombre, _apellido, _edad, _nota1, _nota2, _nota3):\n",
        "        self.cedula = _cedula\n",
        "        self.nombre = _nombre\n",
        "        self.apellido = _apellido\n",
        "        self.edad = _edad\n",
        "        self.nota1 = _nota1\n",
        "        self.nota2 = _nota2\n",
        "        self.nota3 = _nota3\n",
        "        self.notaFinal = (_nota1 + _nota2 + _nota3) / 3\n",
        "        self.historial = []\n",
        "    def entregarDatos(self):\n",
        "        print(\"No. Cedula: {} - {} {} - Nota Final: {}\".format(self.cedula, self.nombre, self.apellido, self.notaFinal))\n",
        "    def editarNotas(self, _nota1, _nota2, _nota3):\n",
        "        self.nota1 = _nota1\n",
        "        self.nota2 = _nota2\n",
        "        self.nota3 = _nota3\n",
        "        self.notaFinal = (_nota1 + _nota2 + _nota3) / 3\n",
        "        print(\"Registro Exitoso!\")\n",
        "    def incluirEvento(self, _nota1, _nota2, _nota3):\n",
        "        return (\"modificacion: Nota_1: {} Nota_2: {} Nota_3: {}\".format(_nota1, _nota2, _nota3))\n",
        "    def entregaHistorial(self):\n",
        "        print(\"No. Cedula: {} - {} {}\".format(self.cedula, self.nombre, self.apellido))\n",
        "\n",
        "\n",
        "\n",
        "def registrarEstudiante():\n",
        "    print(\"Registro de Estudiantes\\n\")\n",
        "    cedula = int(input(\"Ingrese el numero de cedula: \"))\n",
        "    nombre = input(\"Ingrese el nombre: \")\n",
        "    apellido = input(\"Ingrese el apellido: \")\n",
        "    edad = int(input(\"Ingrese su edad: \"))\n",
        "    nota1 = float(input(\"Ingrese nota 1: \"))\n",
        "    nota2 = float(input(\"Ingrese nota 2: \"))\n",
        "    nota3 = float(input(\"Ingrese nota 3: \"))\n",
        "    objAlumno = Estudiantes(cedula, nombre, apellido, edad, nota1, nota2, nota3)\n",
        "    listaEstudiantes.append(objAlumno)\n",
        "\n",
        "def listadoEstudiantes():\n",
        "    print(\"Listado de Estudiantes\\n\")\n",
        "    for objAlumno in listaEstudiantes:\n",
        "        objAlumno.entregarDatos()\n",
        "\n",
        "def buscarEstudiante():\n",
        "    print(\"Buscar Estudiante\\n\")\n",
        "    cedula = int(input(\"Ingrese el numero de cedula a buscar: \"))\n",
        "    for objAlumno in listaEstudiantes:\n",
        "        if cedula == objAlumno.cedula:\n",
        "            objAlumno.entregarDatos()\n",
        "\n",
        "def modificarNotas():\n",
        "    print(\"Modificar Notas\\n\")\n",
        "    cedula = int(input(\"Ingrese el numero de cedula a buscar: \"))\n",
        "    for objAlumno in listaEstudiantes:\n",
        "        if cedula == objAlumno.cedula:\n",
        "            nota1 = float(input(\"Ingrese nota 1: \"))\n",
        "            nota2 = float(input(\"Ingrese nota 2: \"))\n",
        "            nota3 = float(input(\"Ingrese nota 3: \")) \n",
        "            objAlumno.editarNotas(nota1, nota2, nota3)\n",
        "            objAlumno.entregarDatos()\n",
        "            recepcionMensaje = objAlumno.incluirEvento(nota1, nota2, nota3)\n",
        "            objAlumno.historial.append(recepcionMensaje)\n",
        "\n",
        "def consultarHistorial():\n",
        "    print(\"Consulta de Historial\\n\")\n",
        "    cedula = int(input(\"Ingrese el numero de cedula a buscar: \"))\n",
        "    for objAlumno in listaEstudiantes:\n",
        "        if cedula == objAlumno.cedula:\n",
        "            for recepcionMensaje in objAlumno.historial:\n",
        "                print(\"Evento: {}\".format(recepcionMensaje))\n",
        "            \n",
        "def salir():\n",
        "    print(\"Salida inminente...!\")\n",
        "    exit()\n",
        "\n",
        "def main():\n",
        "    while True:\n",
        "        print(\"\\n\")\n",
        "        print(\"|****************************|\")\n",
        "        print(\"|**|      Bienvenidos     |**|\")\n",
        "        print(\"|**|         Menu         |**|\")\n",
        "        print(\"|****************************|\")\n",
        "        print(\"\")\n",
        "        print(\"Seleccione una de las siguientes opciones:\");\n",
        "        print(\"1.- Registrar Estudiante\")\n",
        "        print(\"2.- Mostrar Estudiantes\")\n",
        "        print(\"3.- Buscar Estudiante\")\n",
        "        print(\"4.- Modificar notas\")\n",
        "        print(\"5.- Consultar Historial\")\n",
        "        print(\"6.- Salir\\n\")\n",
        "\n",
        "        opcion = int(input(\"Opcion: \"))\n",
        "\n",
        "        if opcion == 1:\n",
        "            registrarEstudiante()\n",
        "        elif opcion == 2:\n",
        "            listadoEstudiantes()\n",
        "        elif opcion == 3:\n",
        "            buscarEstudiante()\n",
        "        elif opcion == 4:\n",
        "            modificarNotas()\n",
        "        elif opcion == 5:\n",
        "            consultarHistorial()\n",
        "        elif opcion == 6:\n",
        "            salir()\n",
        "\n",
        "if __name__ == '__main__':\n",
        "    main();"
      ],
      "metadata": {
        "colab": {
          "base_uri": "https://localhost:8080/"
        },
        "id": "1OMX9g_oojIS",
        "outputId": "8817b100-b0e1-4c01-e030-d8c2be706354"
      },
      "execution_count": null,
      "outputs": [
        {
          "output_type": "stream",
          "name": "stdout",
          "text": [
            "\n",
            "\n",
            "|****************************|\n",
            "|**|      Bienvenidos     |**|\n",
            "|**|         Menu         |**|\n",
            "|****************************|\n",
            "\n",
            "Seleccione una de las siguientes opciones:\n",
            "1.- Registrar Estudiante\n",
            "2.- Mostrar Estudiantes\n",
            "3.- Buscar Estudiante\n",
            "4.- Modificar notas\n",
            "5.- Consultar Historial\n",
            "6.- Salir\n",
            "\n",
            "Opcion: 1\n",
            "Registro de Estudiantes\n",
            "\n",
            "Ingrese el numero de cedula: 1152469831\n",
            "Ingrese el nombre: Juan Pablo\n",
            "Ingrese el apellido: Aguilar\n",
            "Ingrese su edad: 22\n",
            "Ingrese nota 1: 4.7\n",
            "Ingrese nota 2: 4.2\n",
            "Ingrese nota 3: 4.1\n",
            "\n",
            "\n",
            "|****************************|\n",
            "|**|      Bienvenidos     |**|\n",
            "|**|         Menu         |**|\n",
            "|****************************|\n",
            "\n",
            "Seleccione una de las siguientes opciones:\n",
            "1.- Registrar Estudiante\n",
            "2.- Mostrar Estudiantes\n",
            "3.- Buscar Estudiante\n",
            "4.- Modificar notas\n",
            "5.- Consultar Historial\n",
            "6.- Salir\n",
            "\n",
            "Opcion: 2\n",
            "Listado de Estudiantes\n",
            "\n",
            "No. Cedula: 1152469831 - Juan Pablo Aguilar - Nota Final: 4.333333333333333\n",
            "\n",
            "\n",
            "|****************************|\n",
            "|**|      Bienvenidos     |**|\n",
            "|**|         Menu         |**|\n",
            "|****************************|\n",
            "\n",
            "Seleccione una de las siguientes opciones:\n",
            "1.- Registrar Estudiante\n",
            "2.- Mostrar Estudiantes\n",
            "3.- Buscar Estudiante\n",
            "4.- Modificar notas\n",
            "5.- Consultar Historial\n",
            "6.- Salir\n",
            "\n",
            "Opcion: 3\n",
            "Buscar Estudiante\n",
            "\n",
            "Ingrese el numero de cedula a buscar: 1152469831\n",
            "No. Cedula: 1152469831 - Juan Pablo Aguilar - Nota Final: 4.333333333333333\n",
            "\n",
            "\n",
            "|****************************|\n",
            "|**|      Bienvenidos     |**|\n",
            "|**|         Menu         |**|\n",
            "|****************************|\n",
            "\n",
            "Seleccione una de las siguientes opciones:\n",
            "1.- Registrar Estudiante\n",
            "2.- Mostrar Estudiantes\n",
            "3.- Buscar Estudiante\n",
            "4.- Modificar notas\n",
            "5.- Consultar Historial\n",
            "6.- Salir\n",
            "\n",
            "Opcion: 6\n",
            "Salida inminente...!\n",
            "\n",
            "\n",
            "|****************************|\n",
            "|**|      Bienvenidos     |**|\n",
            "|**|         Menu         |**|\n",
            "|****************************|\n",
            "\n",
            "Seleccione una de las siguientes opciones:\n",
            "1.- Registrar Estudiante\n",
            "2.- Mostrar Estudiantes\n",
            "3.- Buscar Estudiante\n",
            "4.- Modificar notas\n",
            "5.- Consultar Historial\n",
            "6.- Salir\n",
            "\n"
          ]
        }
      ]
    }
  ]
}