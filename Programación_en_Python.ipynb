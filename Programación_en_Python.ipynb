{
  "nbformat": 4,
  "nbformat_minor": 0,
  "metadata": {
    "colab": {
      "name": "Programación en Python",
      "provenance": [],
      "collapsed_sections": []
    },
    "kernelspec": {
      "name": "python3",
      "display_name": "Python 3"
    },
    "language_info": {
      "name": "python"
    }
  },
  "cells": [
    {
      "cell_type": "markdown",
      "source": [
        "# **PROGRAMACIÓN EN PYTHON**"
      ],
      "metadata": {
        "id": "5cpKSNSKE8Yd"
      }
    },
    {
      "cell_type": "markdown",
      "source": [
        "# ***Módulo 1: Variables, tipos de datos y operadores***"
      ],
      "metadata": {
        "id": "JTyCgkDjF6nu"
      }
    },
    {
      "cell_type": "markdown",
      "source": [
        "# Un programa para leer"
      ],
      "metadata": {
        "id": "W48HwF1BIw_s"
      }
    },
    {
      "cell_type": "code",
      "execution_count": null,
      "metadata": {
        "id": "_mA4qmbHE7cg",
        "colab": {
          "base_uri": "https://localhost:8080/"
        },
        "outputId": "81d6d607-c7e8-4c37-ab2c-ed5b6f3ef829"
      },
      "outputs": [
        {
          "output_type": "stream",
          "name": "stdout",
          "text": [
            "Indique la longitud del primer cateto: 2\n",
            "Indique la longitud del segundo cateto: 4\n",
            "El perímetro de un triángulo rectángulo que tenga catetos de longitud 2.0 y 4.0 es 10.47213595499958\n"
          ]
        }
      ],
      "source": [
        "# Este programa está escrito en el archivo perimetro.py\n",
        "# Curso de programación en Python\n",
        "def perimetro_triangulo(cateto1: float, cateto2: float)->float:\n",
        "    \"\"\"\n",
        "    Esta función calcula el perímetro de un triángulo rectángulo\n",
        "    dada la longitud de sus dos catetos\n",
        "    Parámetros:\n",
        "      cateto1 (float): la longitud del primer cateto del triángulo\n",
        "      cateto2 (float): la longitud del segundo cateto del triángulo\n",
        "    Retorno\n",
        "      (float): la longitud del perímetro del triángulo\n",
        "    \"\"\"\n",
        "    # Usar la función calcular_hip para calcular la longitud del lado faltante\n",
        "    hipotenusa = calcular_hip(cateto1, cateto2)\n",
        "    \n",
        "    # Sumar los tres lados y convertirlos en la respuesta de la función\n",
        "    return cateto1 + cateto2 + hipotenusa\n",
        "\n",
        "\n",
        "def calcular_hip(cateto1: float, cateto2: float)->float:\n",
        "    \"\"\"\n",
        "    Esta función calcula la longitud de la hipotenusa en un triángulo rectángulo\n",
        "    dada la longitud de sus dos catetos\n",
        "    Parámetros:\n",
        "      cateto1 (float): la longitud del primer cateto del triángulo\n",
        "      cateto2 (float): la longitud del segundo cateto del triángulo\n",
        "    Retorno\n",
        "      (float): la longitud de la hipotenusa\n",
        "    \"\"\"\n",
        "    # Sumar la longitud de los catetos elevados al cuadrado\n",
        "    suma_cuadrados = (cateto1 ** 2) + (cateto2 ** 2)\n",
        "    \n",
        "    # Calcular la raíz cuadrada de la suma usando la función pow y el exponente 0.5\n",
        "    hipotenusa = pow(suma_cuadrados, 0.5)\n",
        "    return hipotenusa\n",
        "\n",
        "\n",
        "# Solicitarle al usuario la longitud de los dos catetos\n",
        "cadena_cat_1 = input(\"Indique la longitud del primer cateto: \")\n",
        "cadena_cat_2 = input(\"Indique la longitud del segundo cateto: \")\n",
        "\n",
        "# Convertir los caracteres dados por el usuario en un número decimal\n",
        "cat_1 = float(cadena_cat_1)\n",
        "cat_2 = float(cadena_cat_2)\n",
        "\n",
        "# Llamar a la función con los valores recibidos\n",
        "perimetro = perimetro_triangulo(cat_1,cat_2)\n",
        "\n",
        "# Mostrarle al usuario el resultado de la operación\n",
        "print(\"El perímetro de un triángulo rectángulo que tenga catetos de longitud\", cat_1, \"y\", cat_2, \"es\", perimetro)"
      ]
    },
    {
      "cell_type": "markdown",
      "source": [
        "**- Actividad: Escriba la instrucción que convierta 15 grados Celsius al equivalente en grados Fahrenheit. Recuerde que cada grado Fahrenheit equivale a 5 novenos de un grado Celsius y que la escala está desplazada 32 grados. Ayuda: 0 grados Celsius equivalen a -32 grados Fahrenheit, 37.5 (la temperatura aproximada de un cuerpo humano) equivalen a 99.5, y 15 grados Celsius equivalen a 59 grados Fahrenheit.**"
      ],
      "metadata": {
        "id": "-4IrqAwqLjCG"
      }
    },
    {
      "cell_type": "code",
      "source": [
        "#Actividad grados Celsius\n",
        "#Curso de programación en Python\n",
        "\n",
        "#Se pide al usuario ingresar los grados Celsius:\n",
        "\n",
        "cel = float(input('Escriba los grados Celsius para convertir a Fahrenheit: '))\n",
        "\n",
        "#Se define la función que cálcula el equivalente de Celsius en Fahrenheit\n",
        "def cels(celsius):\n",
        "  fahr = (cel * 9/5) + 32\n",
        "  return fahr\n",
        "\n",
        "#Se invoca la función\n",
        "resultado = cels(cel)\n",
        "\n",
        "#Se imprime el resultado\n",
        "print('El equivalente en grados Fahrenheit es: ', resultado)\n"
      ],
      "metadata": {
        "colab": {
          "base_uri": "https://localhost:8080/"
        },
        "id": "OZxQvHe3I11w",
        "outputId": "4a1a4fff-9e73-4ab1-c340-2ddeb7e27d94"
      },
      "execution_count": null,
      "outputs": [
        {
          "output_type": "stream",
          "name": "stdout",
          "text": [
            "Escriba los grados Celsius para convertir a Fahrenheit: 15\n",
            "El equivalente en grados Fahrenheit es:  59.0\n"
          ]
        }
      ]
    },
    {
      "cell_type": "markdown",
      "source": [
        "# Valores y tipos de datos"
      ],
      "metadata": {
        "id": "V9RmMl1YYL3I"
      }
    },
    {
      "cell_type": "markdown",
      "source": [
        "Python ofrece la función type que nos permite consultar de qué tipo es un determinado valor. Usaremos ahora esta función en tres ejemplos muy sencillos para introducir lo que se va a presentar en el resto de la sección y para observar el funcionamiento de la función misma. (int, números enteros), (float, números décimales), (str, cadenas de carácteres)."
      ],
      "metadata": {
        "id": "VzAKbF1URXzB"
      }
    },
    {
      "cell_type": "code",
      "source": [
        "type(9)"
      ],
      "metadata": {
        "colab": {
          "base_uri": "https://localhost:8080/"
        },
        "id": "uncL-JscMGKk",
        "outputId": "271b60b2-a5ae-4659-fecf-f3c2016cb78f"
      },
      "execution_count": null,
      "outputs": [
        {
          "output_type": "execute_result",
          "data": {
            "text/plain": [
              "int"
            ]
          },
          "metadata": {},
          "execution_count": 16
        }
      ]
    },
    {
      "cell_type": "code",
      "source": [
        "type(3.14)"
      ],
      "metadata": {
        "colab": {
          "base_uri": "https://localhost:8080/"
        },
        "id": "bucplz-YRcwF",
        "outputId": "f4498de2-8aae-4a4d-bdd9-4d9f71fd1f0e"
      },
      "execution_count": null,
      "outputs": [
        {
          "output_type": "execute_result",
          "data": {
            "text/plain": [
              "float"
            ]
          },
          "metadata": {},
          "execution_count": 17
        }
      ]
    },
    {
      "cell_type": "code",
      "source": [
        "type('Hola')"
      ],
      "metadata": {
        "colab": {
          "base_uri": "https://localhost:8080/"
        },
        "id": "GWbven3iReyF",
        "outputId": "fcb67a0d-ae47-467b-b950-7b550183ebb6"
      },
      "execution_count": null,
      "outputs": [
        {
          "output_type": "execute_result",
          "data": {
            "text/plain": [
              "str"
            ]
          },
          "metadata": {},
          "execution_count": 18
        }
      ]
    },
    {
      "cell_type": "markdown",
      "source": [
        "**Conversiones entre tipos de datos**"
      ],
      "metadata": {
        "id": "ETxpWoURUEYI"
      }
    },
    {
      "cell_type": "code",
      "source": [
        "#Convierte un número décimal a un entero\n",
        "int(3.14)"
      ],
      "metadata": {
        "colab": {
          "base_uri": "https://localhost:8080/"
        },
        "id": "8v9QHUVlRg9O",
        "outputId": "5bd91d69-4a6e-40fb-a95e-9569596ce44a"
      },
      "execution_count": null,
      "outputs": [
        {
          "output_type": "execute_result",
          "data": {
            "text/plain": [
              "3"
            ]
          },
          "metadata": {},
          "execution_count": 19
        }
      ]
    },
    {
      "cell_type": "code",
      "source": [
        "#Convierte un entero a un décimal\n",
        "float(3)"
      ],
      "metadata": {
        "colab": {
          "base_uri": "https://localhost:8080/"
        },
        "id": "fJ3bsPcuVECz",
        "outputId": "30a87fc5-a5e6-49e5-d86d-40be9231c9cd"
      },
      "execution_count": null,
      "outputs": [
        {
          "output_type": "execute_result",
          "data": {
            "text/plain": [
              "3.0"
            ]
          },
          "metadata": {},
          "execution_count": 20
        }
      ]
    },
    {
      "cell_type": "code",
      "source": [
        "#Convierte una cadena a un décimal\n",
        "float('-4.5')"
      ],
      "metadata": {
        "colab": {
          "base_uri": "https://localhost:8080/"
        },
        "id": "0lBI4ethVQfA",
        "outputId": "635fab52-3118-4d00-ae88-f32d3b229a8b"
      },
      "execution_count": null,
      "outputs": [
        {
          "output_type": "execute_result",
          "data": {
            "text/plain": [
              "-4.5"
            ]
          },
          "metadata": {},
          "execution_count": 21
        }
      ]
    },
    {
      "cell_type": "code",
      "source": [
        "#Convierte un entero o un décimal a una cadena de carácteres\n",
        "str(3)\n",
        "str(-4.5)"
      ],
      "metadata": {
        "colab": {
          "base_uri": "https://localhost:8080/",
          "height": 35
        },
        "id": "FsVUHYWyVWIL",
        "outputId": "00c5b52d-3809-4394-bae8-017674eb9f00"
      },
      "execution_count": null,
      "outputs": [
        {
          "output_type": "execute_result",
          "data": {
            "application/vnd.google.colaboratory.intrinsic+json": {
              "type": "string"
            },
            "text/plain": [
              "'-4.5'"
            ]
          },
          "metadata": {},
          "execution_count": 23
        }
      ]
    },
    {
      "cell_type": "markdown",
      "source": [
        "**- Actividad: Intente convertir a entero las siguientes cadenas**"
      ],
      "metadata": {
        "id": "MBDrovtTVyjW"
      }
    },
    {
      "cell_type": "code",
      "source": [
        "#Curso de programación en Python\n",
        "#Convertir el string '1' en entero:\n",
        "print(int('1'))\n",
        "#Convertir el string '-3' en entero:\n",
        "print(int('-3'))\n",
        "\n",
        "#Si se intenta convertir 1.1 a entero directamente habrá un error, por lo que se debe utilizar más de una función para realizar dicha conversión:\n",
        "x = float('1.1')\n",
        "x = int(x)\n",
        "print(x)\n",
        "\n",
        "# int('a') En este caso, no puede ser convertido en entero debido a que la conversión no tiene sentido. El literal 'a' no puede ser representado como número."
      ],
      "metadata": {
        "colab": {
          "base_uri": "https://localhost:8080/"
        },
        "id": "o0QqpOadVfeH",
        "outputId": "8c4497d6-93d4-47dc-d800-b3be2a482f20"
      },
      "execution_count": null,
      "outputs": [
        {
          "output_type": "stream",
          "name": "stdout",
          "text": [
            "1\n",
            "-3\n",
            "1\n"
          ]
        }
      ]
    },
    {
      "cell_type": "markdown",
      "source": [
        "# Variables, expresiones y operadores"
      ],
      "metadata": {
        "id": "LHTqCex7YXlb"
      }
    },
    {
      "cell_type": "markdown",
      "source": [
        "Para empezar, lea con cuidado el siguiente programa escrito con el lenguaje de programación Python. Aunque breve, ilustra los conceptos más básicos del lenguaje, empezando por el concepto de instrucción."
      ],
      "metadata": {
        "id": "gst4_GSFZZNm"
      }
    },
    {
      "cell_type": "code",
      "source": [
        "v1 = 5 #Se asigna un primer valor a la variable v1\n",
        "v2 = 1 + 2 #Se define una segunda variable v2 como la suma de dos enteros\n",
        "v3 = v1 + v2 #La tercera variable v3 se define como la suma de las dos variables v1 y v2 anteriormente definidas\n",
        "v4 = v3 / (4 + 1) #La cuarta y última variable se define como la división de la variable v3 entre un número entero\n",
        "print(\"v4:\", v4) #Se imprime el resultado de la operación matemática"
      ],
      "metadata": {
        "colab": {
          "base_uri": "https://localhost:8080/"
        },
        "id": "gVWGhDHqWJgj",
        "outputId": "7bc85e48-c316-4ddd-fb9e-1ed20c21bcf0"
      },
      "execution_count": null,
      "outputs": [
        {
          "output_type": "stream",
          "name": "stdout",
          "text": [
            "v4: 1.6\n"
          ]
        }
      ]
    },
    {
      "cell_type": "markdown",
      "source": [
        "Una variable es un espacio en la memoria del computador en el cual se puede almacenar un valor o del cual se puede leer un valor, mientras se ejecute el programa. Cuando un programador define una variable, le asigna un nombre o identificador para que sea fácil de recordar y utilizar en el resto del programa. En nuestro ejemplo, las variables tienen los nombres v1, v2, v3 y v4."
      ],
      "metadata": {
        "id": "ZujF-Bdwaf9A"
      }
    },
    {
      "cell_type": "markdown",
      "source": [
        "Cuando se quiere obtener un resultado décimal (float) al realizar una operación, se hace uso del operador de división '/', de manera inversa, si se quiere obtener un resultado entero (int) se hace uso del operador de división entera '//', como se ve en el siguiente ejemplo:"
      ],
      "metadata": {
        "id": "NpXtezvceqPr"
      }
    },
    {
      "cell_type": "code",
      "source": [
        "x = 10/3\n",
        "print(type(x))"
      ],
      "metadata": {
        "colab": {
          "base_uri": "https://localhost:8080/"
        },
        "id": "unwHNYeYZdZo",
        "outputId": "e02b89c3-a8d1-4d71-e386-796119b431e6"
      },
      "execution_count": null,
      "outputs": [
        {
          "output_type": "stream",
          "name": "stdout",
          "text": [
            "<class 'float'>\n"
          ]
        }
      ]
    },
    {
      "cell_type": "code",
      "source": [
        "x = 10//3\n",
        "print(type(x))"
      ],
      "metadata": {
        "colab": {
          "base_uri": "https://localhost:8080/"
        },
        "id": "sqVTxM1Ze_tY",
        "outputId": "5671f688-350c-4ca0-86bf-95c21c448913"
      },
      "execution_count": null,
      "outputs": [
        {
          "output_type": "stream",
          "name": "stdout",
          "text": [
            "<class 'int'>\n"
          ]
        }
      ]
    },
    {
      "cell_type": "markdown",
      "source": [
        "\n",
        "La operación módulo calcula el residuo de la división entera entre dos números. Por ejemplo, el valor de la expresión 10%3 es igual a 1 porque la división entera entre 10 y 3 tiene como resultado 3 con un residuo de 1. La operación módulo y la división entera se complementan. Cuando se está aprendiendo a dividir, es común que el resultado de una división se exprese como un valor y su residuo. Así, 27 dividido 10 es igual a 2 con un residuo de 7. En Python, esto se puede calcular usando los operadores // y %:"
      ],
      "metadata": {
        "id": "eYv3PNekfVjI"
      }
    },
    {
      "cell_type": "code",
      "source": [
        "entero = 27 // 10\n",
        "residuo = 27 % 10\n",
        "print(entero, residuo)"
      ],
      "metadata": {
        "colab": {
          "base_uri": "https://localhost:8080/"
        },
        "id": "yTQw6DAOfHRb",
        "outputId": "c9b6caa0-97b2-43e0-fdf7-accab6239225"
      },
      "execution_count": null,
      "outputs": [
        {
          "output_type": "stream",
          "name": "stdout",
          "text": [
            "2 7\n"
          ]
        }
      ]
    },
    {
      "cell_type": "markdown",
      "source": [
        "La operación módulo es muy utilizada también para averiguar la paridad de un número: el resultado de la expresión x%2 será 0 sólo cuando x sea un número par y será 1 cuando x sea impar.\n",
        "\n"
      ],
      "metadata": {
        "id": "C7hhNJbRf-sc"
      }
    },
    {
      "cell_type": "code",
      "source": [
        "par = 4%2\n",
        "impar = 5%2\n",
        "print(par, impar)"
      ],
      "metadata": {
        "colab": {
          "base_uri": "https://localhost:8080/"
        },
        "id": "UAuvKLoWfrjs",
        "outputId": "3b9e59c2-7001-4eee-bb3a-1a1bd9bac6d3"
      },
      "execution_count": null,
      "outputs": [
        {
          "output_type": "stream",
          "name": "stdout",
          "text": [
            "0 1\n"
          ]
        }
      ]
    },
    {
      "cell_type": "markdown",
      "source": [
        "En el caso de cadenas de carácteres, Python sólo ofrece dos operadores que se pueden aplicar sobre cadenas de caracteres. Los cuales son la concatenación + y la repetición *. Veamos el ejemplo:"
      ],
      "metadata": {
        "id": "CUIqv-91ggwm"
      }
    },
    {
      "cell_type": "code",
      "source": [
        "'abc' + 'def'"
      ],
      "metadata": {
        "colab": {
          "base_uri": "https://localhost:8080/",
          "height": 35
        },
        "id": "u7uUrcQOgJcD",
        "outputId": "2c9a1c15-0ea3-4e00-8983-1d9028bfc0df"
      },
      "execution_count": null,
      "outputs": [
        {
          "output_type": "execute_result",
          "data": {
            "application/vnd.google.colaboratory.intrinsic+json": {
              "type": "string"
            },
            "text/plain": [
              "'abcdef'"
            ]
          },
          "metadata": {},
          "execution_count": 38
        }
      ]
    },
    {
      "cell_type": "code",
      "source": [
        "'ab' * 3"
      ],
      "metadata": {
        "colab": {
          "base_uri": "https://localhost:8080/",
          "height": 35
        },
        "id": "3W6cAvv8gyPO",
        "outputId": "01615b10-19a9-4cc9-9b83-a877d4c2d587"
      },
      "execution_count": null,
      "outputs": [
        {
          "output_type": "execute_result",
          "data": {
            "application/vnd.google.colaboratory.intrinsic+json": {
              "type": "string"
            },
            "text/plain": [
              "'ababab'"
            ]
          },
          "metadata": {},
          "execution_count": 39
        }
      ]
    },
    {
      "cell_type": "markdown",
      "source": [
        "En Python existen también versiones alternativas de algunos de los operadores presentados que permiten acumular los valores. Veamos primero un ejemplo de esto:"
      ],
      "metadata": {
        "id": "o1iYvEOUhHFV"
      }
    },
    {
      "cell_type": "code",
      "source": [
        "a = 2 #Se asigna un valor de 2 en la variable a\n",
        "a += 4 #Se suma 4 a esa variable y se guarda su nuevo valor en la misma variable\n",
        "a += 6 #Se suma 6 a la misma variable y se guarda su nuevo valor\n",
        "print(a)"
      ],
      "metadata": {
        "colab": {
          "base_uri": "https://localhost:8080/"
        },
        "id": "rg1eqkgmg09-",
        "outputId": "789fd8fe-97a8-4a0e-9e89-e446febf54d2"
      },
      "execution_count": null,
      "outputs": [
        {
          "output_type": "stream",
          "name": "stdout",
          "text": [
            "12\n"
          ]
        }
      ]
    },
    {
      "cell_type": "markdown",
      "source": [
        "El anterior programa es equivalente al siguiente:\n"
      ],
      "metadata": {
        "id": "YcV258ihhe9T"
      }
    },
    {
      "cell_type": "code",
      "source": [
        "a = 2\n",
        "a = a + 4\n",
        "a = a + 6\n",
        "print(a)"
      ],
      "metadata": {
        "colab": {
          "base_uri": "https://localhost:8080/"
        },
        "id": "i1uHeUgjhPJb",
        "outputId": "f66366c5-f581-47f4-ad89-886905533fa1"
      },
      "execution_count": null,
      "outputs": [
        {
          "output_type": "stream",
          "name": "stdout",
          "text": [
            "12\n"
          ]
        }
      ]
    },
    {
      "cell_type": "markdown",
      "source": [
        "En Python no es posible escribir expresiones que combinen valores de diferentes tipos a menos que se hagan conversiones explícitamente. Por ejemplo, para construir una cadena que combine caracteres y números se debe hacer una conversión como en el siguiente ejemplo:"
      ],
      "metadata": {
        "id": "KJBmCbhMiSo7"
      }
    },
    {
      "cell_type": "code",
      "source": [
        "'El salón asignado es el ' + str(614) + ' del edificio ML'"
      ],
      "metadata": {
        "colab": {
          "base_uri": "https://localhost:8080/",
          "height": 35
        },
        "id": "2pSvFKUShlw3",
        "outputId": "b916fbf1-8dd5-4456-967b-9e6f730aefe3"
      },
      "execution_count": null,
      "outputs": [
        {
          "output_type": "execute_result",
          "data": {
            "application/vnd.google.colaboratory.intrinsic+json": {
              "type": "string"
            },
            "text/plain": [
              "'El salón asignado es el 614 del edificio ML'"
            ]
          },
          "metadata": {},
          "execution_count": 42
        }
      ]
    },
    {
      "cell_type": "markdown",
      "source": [
        "**- Actividad: ¿Qué valor se mostrará en la pantalla después de ejecutar el siguiente código?**"
      ],
      "metadata": {
        "id": "Uhgn0fHIjpwM"
      }
    },
    {
      "cell_type": "code",
      "source": [
        "z = 1\n",
        "z += 2\n",
        "z *= 2\n",
        "z //= 2\n",
        "z -= 2\n",
        "z %= 2\n",
        "z ** 2\n",
        "z /= 2\n",
        "print(z)"
      ],
      "metadata": {
        "colab": {
          "base_uri": "https://localhost:8080/"
        },
        "id": "hFyfg3tXiXru",
        "outputId": "3d11ce76-7819-406f-c9cc-fe7f8dc7a04f"
      },
      "execution_count": null,
      "outputs": [
        {
          "output_type": "stream",
          "name": "stdout",
          "text": [
            "0.5\n"
          ]
        }
      ]
    },
    {
      "cell_type": "markdown",
      "source": [
        "**¿Qué resultado se obtendrá al evaluar la siguiente expresión en Python?**"
      ],
      "metadata": {
        "id": "HnYk55QpkcCc"
      }
    },
    {
      "cell_type": "code",
      "source": [
        "'a' * 3 + '/*' * 5 + 2 * 'abc' + '+'"
      ],
      "metadata": {
        "colab": {
          "base_uri": "https://localhost:8080/",
          "height": 35
        },
        "id": "YypI70WPkASw",
        "outputId": "86e9fec7-9b1a-475c-bc3f-50da8c5a5f02"
      },
      "execution_count": null,
      "outputs": [
        {
          "output_type": "execute_result",
          "data": {
            "application/vnd.google.colaboratory.intrinsic+json": {
              "type": "string"
            },
            "text/plain": [
              "'aaa/*/*/*/*/*abcabc+'"
            ]
          },
          "metadata": {},
          "execution_count": 44
        }
      ]
    },
    {
      "cell_type": "markdown",
      "source": [
        "# Funciones"
      ],
      "metadata": {
        "id": "O41zyi7MlHGX"
      }
    },
    {
      "cell_type": "markdown",
      "source": [
        "En términos matemáticos, una función es una relación entre valores de tal forma que para cada combinación de los valores de entrada haya sólo un valor de salida. Además, las funciones se suelen describir usando una fórmula, de tal forma que dados unos valores de entrada sea sencillo calcular el valor de salida. Veamos un ejemplo de función:"
      ],
      "metadata": {
        "id": "xxCyiJ55q87D"
      }
    },
    {
      "cell_type": "markdown",
      "source": [
        "potencia(base,exponente)=base^exponente"
      ],
      "metadata": {
        "id": "5CKSAeSMrPaw"
      }
    },
    {
      "cell_type": "markdown",
      "source": [
        "La acción más interesante que podemos hacer sobre una función es invocarla. Esto es lo mismo que evaluarla para poder saber cuál es sería su valor dados valores específicos para sus parámetros. Por ejemplo, en el siguiente fragmento de código vamos a invocar la función pre-definida llamada pow pasándole los valores 2 y 3 como argumentos."
      ],
      "metadata": {
        "id": "IWUiR_8PriVo"
      }
    },
    {
      "cell_type": "code",
      "source": [
        "#Función pow predefinida en Python\n",
        "pow(2, 3)"
      ],
      "metadata": {
        "id": "LvYwbVnmkk7I",
        "colab": {
          "base_uri": "https://localhost:8080/"
        },
        "outputId": "b21d1581-f20b-428d-e957-fe56b789dd99"
      },
      "execution_count": null,
      "outputs": [
        {
          "output_type": "execute_result",
          "data": {
            "text/plain": [
              "8"
            ]
          },
          "metadata": {},
          "execution_count": 1
        }
      ]
    },
    {
      "cell_type": "code",
      "source": [
        "var = pow(2, 3) \n",
        "var"
      ],
      "metadata": {
        "colab": {
          "base_uri": "https://localhost:8080/"
        },
        "id": "dZKKC7JSrkha",
        "outputId": "af06f20b-7e84-42a7-8a73-2d30ddd40d07"
      },
      "execution_count": null,
      "outputs": [
        {
          "output_type": "execute_result",
          "data": {
            "text/plain": [
              "8"
            ]
          },
          "metadata": {},
          "execution_count": 2
        }
      ]
    },
    {
      "cell_type": "code",
      "source": [
        "var = pow(2, pow(2, 1+1))\n",
        "var"
      ],
      "metadata": {
        "colab": {
          "base_uri": "https://localhost:8080/"
        },
        "id": "9UQPg84gr7TV",
        "outputId": "3ece7e28-95a4-49fd-8732-42f4d5d4bb6c"
      },
      "execution_count": null,
      "outputs": [
        {
          "output_type": "execute_result",
          "data": {
            "text/plain": [
              "16"
            ]
          },
          "metadata": {},
          "execution_count": 4
        }
      ]
    },
    {
      "cell_type": "markdown",
      "source": [
        "Si no se tiene acceso al código fuente, un mecanismo para consultar cuáles son los parámetros de una función es usar la función help. Esta es otra función básica de Python y permite consultar la documentación de cualquier otra función. Por ejemplo, en el siguiente fragmento se usará la función help para consultar la documentación de la función pow."
      ],
      "metadata": {
        "id": "IDMleLI9swNv"
      }
    },
    {
      "cell_type": "code",
      "source": [
        "help(pow)"
      ],
      "metadata": {
        "colab": {
          "base_uri": "https://localhost:8080/"
        },
        "id": "OOcq-xzmsI3j",
        "outputId": "5e343231-aede-4302-9abd-d49b7b0d2815"
      },
      "execution_count": null,
      "outputs": [
        {
          "output_type": "stream",
          "name": "stdout",
          "text": [
            "Help on built-in function pow in module builtins:\n",
            "\n",
            "pow(x, y, z=None, /)\n",
            "    Equivalent to x**y (with two arguments) or x**y % z (with three arguments)\n",
            "    \n",
            "    Some types, such as ints, are able to use a more efficient algorithm when\n",
            "    invoked using the three argument form.\n",
            "\n"
          ]
        }
      ]
    },
    {
      "cell_type": "markdown",
      "source": [
        "**Funciones numéricas: abs, round, min, max, pow**"
      ],
      "metadata": {
        "id": "Dn3nj5A7twUo"
      }
    },
    {
      "cell_type": "code",
      "source": [
        "abs(-3.14)"
      ],
      "metadata": {
        "colab": {
          "base_uri": "https://localhost:8080/"
        },
        "id": "7_loME7Xs1mp",
        "outputId": "a652533a-3bb2-4063-8fd5-631b44a74ed6"
      },
      "execution_count": null,
      "outputs": [
        {
          "output_type": "execute_result",
          "data": {
            "text/plain": [
              "3.14"
            ]
          },
          "metadata": {},
          "execution_count": 6
        }
      ]
    },
    {
      "cell_type": "markdown",
      "source": [
        "La función round(n, digits) sirve para redondear un número para que sólo tenga la cantidad de decimales que nosotros le indiquemos. En este caso, el parámetro n hace referencia al número que queremos redondear, mientras que el parámetro digits especifica cuántos dígitos decimales queremos que tenga el resultado."
      ],
      "metadata": {
        "id": "nUO5w16SuBBU"
      }
    },
    {
      "cell_type": "code",
      "source": [
        "round(3.14159, 0)"
      ],
      "metadata": {
        "colab": {
          "base_uri": "https://localhost:8080/"
        },
        "id": "1-G0Keftt3uI",
        "outputId": "f624740f-239c-4630-8b91-60f0ac5cebcc"
      },
      "execution_count": null,
      "outputs": [
        {
          "output_type": "execute_result",
          "data": {
            "text/plain": [
              "3.0"
            ]
          },
          "metadata": {},
          "execution_count": 7
        }
      ]
    },
    {
      "cell_type": "code",
      "source": [
        "round(3.14159, 1)"
      ],
      "metadata": {
        "colab": {
          "base_uri": "https://localhost:8080/"
        },
        "id": "sRiBz_B1uFNl",
        "outputId": "c8eae725-bfdd-4e1f-d9af-521fe7f135ee"
      },
      "execution_count": null,
      "outputs": [
        {
          "output_type": "execute_result",
          "data": {
            "text/plain": [
              "3.1"
            ]
          },
          "metadata": {},
          "execution_count": 8
        }
      ]
    },
    {
      "cell_type": "code",
      "source": [
        "round(3.14159, 2)"
      ],
      "metadata": {
        "colab": {
          "base_uri": "https://localhost:8080/"
        },
        "id": "uCn1oo25uIFX",
        "outputId": "ae4b0b9c-8a8d-40b4-8ca6-06bc34c4ff83"
      },
      "execution_count": null,
      "outputs": [
        {
          "output_type": "execute_result",
          "data": {
            "text/plain": [
              "3.14"
            ]
          },
          "metadata": {},
          "execution_count": 9
        }
      ]
    },
    {
      "cell_type": "code",
      "source": [
        "round(3.14159, 3)"
      ],
      "metadata": {
        "colab": {
          "base_uri": "https://localhost:8080/"
        },
        "id": "T5qdZHWKuJGP",
        "outputId": "b17c9182-fdce-435b-db71-67c26fe9ad97"
      },
      "execution_count": null,
      "outputs": [
        {
          "output_type": "execute_result",
          "data": {
            "text/plain": [
              "3.142"
            ]
          },
          "metadata": {},
          "execution_count": 10
        }
      ]
    },
    {
      "cell_type": "code",
      "source": [
        "round(3.14159, 6)"
      ],
      "metadata": {
        "colab": {
          "base_uri": "https://localhost:8080/"
        },
        "id": "NqdSLOMUuK2h",
        "outputId": "a1f26706-559d-4576-bef4-18f2c31c1bd2"
      },
      "execution_count": null,
      "outputs": [
        {
          "output_type": "execute_result",
          "data": {
            "text/plain": [
              "3.14159"
            ]
          },
          "metadata": {},
          "execution_count": 11
        }
      ]
    },
    {
      "cell_type": "markdown",
      "source": [
        "Las funciones min y max sirven para encontrar los valores mínimos y máximos de sus parámetros. El siguiente fragmento ilustra cuál sería el resultado de invocar estas funciones sobre 4 valores numéricos:"
      ],
      "metadata": {
        "id": "dXiwXPygucrn"
      }
    },
    {
      "cell_type": "code",
      "source": [
        "min(3, 6, 9, 12)"
      ],
      "metadata": {
        "colab": {
          "base_uri": "https://localhost:8080/"
        },
        "id": "XjJ1PXsAuMCo",
        "outputId": "199935fe-97f6-411a-8ff6-acee205c2200"
      },
      "execution_count": null,
      "outputs": [
        {
          "output_type": "execute_result",
          "data": {
            "text/plain": [
              "3"
            ]
          },
          "metadata": {},
          "execution_count": 12
        }
      ]
    },
    {
      "cell_type": "code",
      "source": [
        "max(59, 62, 2, 3)"
      ],
      "metadata": {
        "colab": {
          "base_uri": "https://localhost:8080/"
        },
        "id": "6zN8BOrjuf-i",
        "outputId": "44d164d3-dbc6-47ef-b49f-8cc65270f496"
      },
      "execution_count": null,
      "outputs": [
        {
          "output_type": "execute_result",
          "data": {
            "text/plain": [
              "62"
            ]
          },
          "metadata": {},
          "execution_count": 13
        }
      ]
    },
    {
      "cell_type": "markdown",
      "source": [
        "**Funciones chr y ord**"
      ],
      "metadata": {
        "id": "qAgFvTkowVQh"
      }
    },
    {
      "cell_type": "markdown",
      "source": [
        "La función chr permite consultar cuál caracter le corresponde a un número específico dentro del sistema UNICODE. Por ejemplo, si evaluamos la expresión chr(97) el resultado será una cadena de caracteres con el caracter ‘a’. La función ord tiene el objetivo opuesto: dado un caracter, indica cual es el número que le corresponde en el sistema UNICODE."
      ],
      "metadata": {
        "id": "dl-azjBZwWn1"
      }
    },
    {
      "cell_type": "code",
      "source": [
        "chr(98)"
      ],
      "metadata": {
        "colab": {
          "base_uri": "https://localhost:8080/",
          "height": 35
        },
        "id": "t5BHGbKruisj",
        "outputId": "7b31baa1-3cc8-4d54-fe53-8507604ce5ef"
      },
      "execution_count": null,
      "outputs": [
        {
          "output_type": "execute_result",
          "data": {
            "application/vnd.google.colaboratory.intrinsic+json": {
              "type": "string"
            },
            "text/plain": [
              "'b'"
            ]
          },
          "metadata": {},
          "execution_count": 14
        }
      ]
    },
    {
      "cell_type": "code",
      "source": [
        "ord('B')"
      ],
      "metadata": {
        "colab": {
          "base_uri": "https://localhost:8080/"
        },
        "id": "tJLcmhGswkFK",
        "outputId": "b6b14c2a-3636-4936-eb3f-803a5666cf71"
      },
      "execution_count": null,
      "outputs": [
        {
          "output_type": "execute_result",
          "data": {
            "text/plain": [
              "66"
            ]
          },
          "metadata": {},
          "execution_count": 15
        }
      ]
    },
    {
      "cell_type": "code",
      "source": [
        "ord('☻')"
      ],
      "metadata": {
        "colab": {
          "base_uri": "https://localhost:8080/"
        },
        "id": "UAFF0HMewmex",
        "outputId": "395991bd-50e8-4b26-9933-5ebe2d4e3423"
      },
      "execution_count": null,
      "outputs": [
        {
          "output_type": "execute_result",
          "data": {
            "text/plain": [
              "9787"
            ]
          },
          "metadata": {},
          "execution_count": 16
        }
      ]
    },
    {
      "cell_type": "code",
      "source": [
        "chr(9788)"
      ],
      "metadata": {
        "colab": {
          "base_uri": "https://localhost:8080/",
          "height": 35
        },
        "id": "WyN4okqtwpRr",
        "outputId": "ee7d5667-f10d-4d77-97d0-d6ab49f674ea"
      },
      "execution_count": null,
      "outputs": [
        {
          "output_type": "execute_result",
          "data": {
            "application/vnd.google.colaboratory.intrinsic+json": {
              "type": "string"
            },
            "text/plain": [
              "'☼'"
            ]
          },
          "metadata": {},
          "execution_count": 18
        }
      ]
    },
    {
      "cell_type": "code",
      "source": [
        "chr(22223)"
      ],
      "metadata": {
        "colab": {
          "base_uri": "https://localhost:8080/",
          "height": 35
        },
        "id": "ke-gX9grwsns",
        "outputId": "c4f178f5-c691-434b-ecd9-2ee2c8518582"
      },
      "execution_count": null,
      "outputs": [
        {
          "output_type": "execute_result",
          "data": {
            "application/vnd.google.colaboratory.intrinsic+json": {
              "type": "string"
            },
            "text/plain": [
              "'囏'"
            ]
          },
          "metadata": {},
          "execution_count": 19
        }
      ]
    },
    {
      "cell_type": "markdown",
      "source": [
        "**-Actividad: Escriba un programa que pida al usuario una cantidad de dinero en pesos, una tasa de interés (un número decimal mayor a 0) y un número de años. Muestre por pantalla en cuánto se habrá convertido el capital inicial transcurridos esos años si cada año se aplica la tasa de interés introducida. Recuerde que un capital de C pesos a un interés del x por cien durante n años se convierten en C×(1+x/100)^n pesos. Pruebe su programa sabiendo que una cantidad de 10,000 pesos al 4.5 % de interés anual se convierte en 24117.14 pesos al cabo de 20 años.**"
      ],
      "metadata": {
        "id": "eQVx3VyuxHzL"
      }
    },
    {
      "cell_type": "code",
      "source": [
        "#Curso de Programación en Python\n",
        "\n",
        "#Se le pide la información al usuario\n",
        "\n",
        "C = input('Digite la cantidad de dinero en pesos: ')\n",
        "C = float(C)\n",
        "\n",
        "x = input('Digite la tasa de interés: ')\n",
        "x = float(x)\n",
        "\n",
        "n = input('Ingrese el número de años del crédito: ')\n",
        "n = float(n)\n",
        "\n",
        "def capital(C, x, n):\n",
        "  cap = C * pow((1+x / 100), n)\n",
        "  return cap\n",
        "\n",
        "resultado = capital(C, x, n) \n",
        "\n",
        "print('La cantidad a pagar del préstamo de ', C, ' pesos, con una tasa de interés del ', x, ' %, en un tiempo de ', n,' es de', round(resultado, 2))"
      ],
      "metadata": {
        "colab": {
          "base_uri": "https://localhost:8080/"
        },
        "id": "g3lLMQk7wwmm",
        "outputId": "f285dbb3-50ca-41e9-e269-8ccf82a401a8"
      },
      "execution_count": null,
      "outputs": [
        {
          "output_type": "stream",
          "name": "stdout",
          "text": [
            "Digite la cantidad de dinero en pesos: 10000\n",
            "Digite la tasa de interés: 4.5\n",
            "Ingrese el número de años del crédito: 20\n",
            "La cantidad a pagar del préstamo de  10000.0  pesos, con una tasa de interés del  4.5  %, en un tiempo de  20.0  es de 24117.14\n"
          ]
        }
      ]
    },
    {
      "cell_type": "markdown",
      "source": [
        "**-Actividad: Escriba un programa que le pida al usuario 3 valores y los almacene en 3 variables enteras llamadas x1, x2 y x3. El programa luego debe rotar las variables de forma que al final x2 tenga el valor inicial de x1, x3 el de x2 y x1 el de x3.**\n",
        "\n"
      ],
      "metadata": {
        "id": "AxQOht5G1B3z"
      }
    },
    {
      "cell_type": "code",
      "source": [
        "#Curso de programación en Python\n",
        "\n",
        "x1 = input('Ingrese el valor de la primera variable x1: ')\n",
        "x1 = int(x1)\n",
        "\n",
        "x2 = input('Ingrese el valor de la segunda variable x2: ')\n",
        "x2 = int(x2)\n",
        "\n",
        "x3 = input('Ingrese el valor de la tercera variable x3: ')\n",
        "x3 = int(x3)\n",
        "\n",
        "def primero(x2, x1):\n",
        "  x2 = x1\n",
        "  return x2\n",
        "\n",
        "def segundo(x3, x2):\n",
        "  x3 = x2\n",
        "  return x3\n",
        "\n",
        "def tercero(x1, x3):\n",
        "  x1 = x3\n",
        "  return x1   \n",
        "\n",
        "result1 = primero(x2, x1)\n",
        "result2 = segundo(x3, x2)\n",
        "result3 = tercero(x1, x3)\n",
        "print('Los nuevos valores para las variables x1, x2 y x3 son: ', result3, result1, result2, 'respectivamente.')"
      ],
      "metadata": {
        "colab": {
          "base_uri": "https://localhost:8080/"
        },
        "id": "mbMYgzC5x09g",
        "outputId": "93f17a61-e8c0-49b0-9361-8ffdb8cb1ab7"
      },
      "execution_count": null,
      "outputs": [
        {
          "output_type": "stream",
          "name": "stdout",
          "text": [
            "Ingrese el valor de la primera variable x1: 3\n",
            "Ingrese el valor de la segunda variable x2: 4\n",
            "Ingrese el valor de la tercera variable x3: 5\n",
            "Los nuevos valores para las variables x1, x2 y x3 son:  5 3 4  respectivamente.\n"
          ]
        }
      ]
    },
    {
      "cell_type": "markdown",
      "source": [
        "# Definición de funciones"
      ],
      "metadata": {
        "id": "fSS9WGP04xst"
      }
    },
    {
      "cell_type": "markdown",
      "source": [
        "**Un ejemplo completo: el programa de la casa**"
      ],
      "metadata": {
        "id": "ReoYfYjqDS6_"
      }
    },
    {
      "cell_type": "code",
      "source": [
        "#Curso de programación en Python\n",
        "#Cálculo del área de una casa con base cuadrada y techo triangular\n",
        "\n",
        "def area_cuadrado(lado: int)-> int:\n",
        "    \"\"\"\n",
        "       Calcula el área de un cuadrado dada la medida de su lado\n",
        "    \"\"\"\n",
        "    return lado * lado\n",
        "\n",
        "\n",
        "def area_triangulo(base: int, altura: int)-> float:\n",
        "    \"\"\"\n",
        "        Calcula el área de un triángulo dada la medida de la base y de la altura.\n",
        "    \"\"\"   \n",
        "    return (base * altura) / 2\n",
        "\n",
        "\n",
        "def area_casa(frente: int, techo: int)-> float:\n",
        "    \"\"\"\n",
        "        Calcula el área del dibujo de una casa que se forma con un cuadrado\n",
        "        y un triángulo encima (el techo).\n",
        "        El frente de la casa será igual al lado del cuadrado y a la base del triángulo.\n",
        "        La altura del techo será la altura del triángulo.\n",
        "    \"\"\"\n",
        "    cuadrado = area_cuadrado(frente)\n",
        "    triangulo = area_triangulo(frente, techo)\n",
        "    return cuadrado + triangulo\n",
        "    \n",
        "medida_frente = 7\n",
        "medida_techo = 5\n",
        "resultado = area_casa(medida_frente, medida_techo)\n",
        "print(\"El área de una casa con\", medida_frente, \"metros de frente y un techo de\",\n",
        "       medida_techo, \"metros de alto es \", round(resultado, 2), \"metros\")"
      ],
      "metadata": {
        "colab": {
          "base_uri": "https://localhost:8080/"
        },
        "id": "Cjsah5YV19lc",
        "outputId": "c13bf128-a2d8-4dbb-9baa-0cb62450234c"
      },
      "execution_count": null,
      "outputs": [
        {
          "output_type": "stream",
          "name": "stdout",
          "text": [
            "El área de una casa con 7 metros de frente y un techo de 5 metros de alto es  66.5 metros\n"
          ]
        }
      ]
    },
    {
      "cell_type": "markdown",
      "source": [
        "**-Actividad: Escriba la signatura de una función que sirva para calcular el área de un círculo dado su radio.**"
      ],
      "metadata": {
        "id": "iC8AF6PLGHvo"
      }
    },
    {
      "cell_type": "code",
      "source": [
        "#Curso de programación en Python\n",
        "#Signatura de una función que calcula el área de un círculo\n",
        "\n",
        "def area_circulo(pi: float, radio: float)-> float:\n",
        "  \"\"\"\n",
        "  Esta función calcula el área de un círculo a partir de un radio dado\n",
        "  \"\"\"\n",
        "  return pi * (r)**2\n",
        "\n",
        "pi = 3.14159\n",
        "r = 5.12\n",
        "\n",
        "area_circ = area_circulo(pi, r)\n",
        "\n",
        "print('El área del circulo es: ', area_circ)"
      ],
      "metadata": {
        "colab": {
          "base_uri": "https://localhost:8080/"
        },
        "id": "eki8UyKwDucv",
        "outputId": "787f2110-33ba-4425-ce84-fa68adf6e271"
      },
      "execution_count": null,
      "outputs": [
        {
          "output_type": "stream",
          "name": "stdout",
          "text": [
            "El área del circulo es:  82.354896896\n"
          ]
        }
      ]
    },
    {
      "cell_type": "markdown",
      "source": [
        "**-Actividad: Escriba la signatura de una función que sirva para calcular la velocidad final de un objeto que tiene una velocidad inicial y acelera a una tasa constante durante una cierta cantidad de tiempo.**"
      ],
      "metadata": {
        "id": "M9VGNqWTG2mY"
      }
    },
    {
      "cell_type": "code",
      "source": [
        "#Curso de programación en Python\n",
        "#Signatura de una función que calcula la velocidad final de un objeto\n",
        "\n",
        "def vel_objeto(velocidad_i: float, aceleracion: float, tiempo: float)-> float:\n",
        "  \"\"\"\n",
        "  Esta función calcula la velocidad final de un objeto que se acelera constantemente durante un tiempo determinado\n",
        "  \"\"\"\n",
        "  return velocidad_i + (aceleracion * tiempo)\n",
        "\n",
        "velocidad_i = 98.2\n",
        "aceleracion = 9.8\n",
        "tiempo = 25\n",
        "\n",
        "resultado = vel_objeto(velocidad_i, aceleracion, tiempo)\n",
        "print('La velocidad final del objeto es de: ', resultado, 'm/s')\n"
      ],
      "metadata": {
        "colab": {
          "base_uri": "https://localhost:8080/"
        },
        "id": "Cq1QmblDGtCo",
        "outputId": "5de3c370-ae62-494a-8fb9-44ae00e98684"
      },
      "execution_count": null,
      "outputs": [
        {
          "output_type": "stream",
          "name": "stdout",
          "text": [
            "La velocidad final del objeto es de:  343.20000000000005 m/s\n"
          ]
        }
      ]
    },
    {
      "cell_type": "code",
      "source": [
        "help(vel_objeto)"
      ],
      "metadata": {
        "colab": {
          "base_uri": "https://localhost:8080/"
        },
        "id": "2oBrlV7aH02i",
        "outputId": "2b6c48e0-bf9c-4c0f-aa86-e6eaf16b0b6b"
      },
      "execution_count": null,
      "outputs": [
        {
          "output_type": "stream",
          "name": "stdout",
          "text": [
            "Help on function vel_objeto in module __main__:\n",
            "\n",
            "vel_objeto(velocidad_i: float, aceleracion: float, tiempo: float) -> float\n",
            "    Esta función calcula la velocidad final de un objeto que se acelera constantemente durante un tiempo determinado\n",
            "\n"
          ]
        }
      ]
    },
    {
      "cell_type": "markdown",
      "source": [
        "**-Actividad: Defina una función que calcula el perímetro de un cuadrado y otra que calcula su área. Agregue al archivo las instrucciones para preguntarle al usuario por el lado de un cuadrado y luego mostrarle el perímetro y el área de un cuadrado con esa medida.**"
      ],
      "metadata": {
        "id": "5vicVOU_O86-"
      }
    },
    {
      "cell_type": "code",
      "source": [
        "#Curso de programación en Python  \n",
        "#Perímetro y área de un cuadrado\n",
        "\n",
        "def perimetro_cuadrado(lado: float)-> float:\n",
        "  return lado + lado + lado + lado\n",
        "\n",
        "def area_cuadrado(lado: float)-> float:\n",
        "  return lado * lado\n",
        "\n",
        "lado = input('Escribe la longitud del lado del cuadrado: ')\n",
        "lado = float(lado)\n",
        "\n",
        "perimetro = perimetro_cuadrado(lado)\n",
        "area = area_cuadrado(lado)\n",
        "\n",
        "print('El perimetro del cuadrado es: ', perimetro, 'cm, y su área es: ', area, 'cm^2')"
      ],
      "metadata": {
        "colab": {
          "base_uri": "https://localhost:8080/"
        },
        "id": "m34Q5kSfIe3g",
        "outputId": "b8069d60-6c13-4c6d-a11b-3e8ea26f281c"
      },
      "execution_count": null,
      "outputs": [
        {
          "output_type": "stream",
          "name": "stdout",
          "text": [
            "Escribe la longitud del lado del cuadrado: 4\n",
            "El perimetro del cuadrado es:  16.0 cm, y su área es:  16.0 cm^2\n"
          ]
        }
      ]
    },
    {
      "cell_type": "markdown",
      "source": [
        "**-Actividad: Defina una función que permita convertir de grados Fahrenheit a grados Celsius.**"
      ],
      "metadata": {
        "id": "2vSzmJ86RP9h"
      }
    },
    {
      "cell_type": "code",
      "source": [
        "def fah_cels(fahrenheit):\n",
        "  cels = (fahrenheit - 32) * 5/9\n",
        "  return cels\n",
        "\n",
        "fahrenheit = 59\n",
        "resultado = fah_cels(fahrenheit)\n",
        "print('La conversión de grados Fahrenheit a grados Celsius es: ', resultado)\n"
      ],
      "metadata": {
        "colab": {
          "base_uri": "https://localhost:8080/"
        },
        "id": "y84wE-KQQBC6",
        "outputId": "496bb312-b2e4-4ca1-c116-24b47656a7f9"
      },
      "execution_count": null,
      "outputs": [
        {
          "output_type": "stream",
          "name": "stdout",
          "text": [
            "La conversión de grados Fahrenheit a grados Celsius es:  15.0\n"
          ]
        }
      ]
    },
    {
      "cell_type": "markdown",
      "source": [
        "**-Actividad: Escriba un programa que le pida a un usuario una cantidad de días y le muestre la cantidad de años, meses y días equivalentes. Suponga que todos los meses tienen 30 días.**"
      ],
      "metadata": {
        "id": "yampoBLeSz8m"
      }
    },
    {
      "cell_type": "code",
      "source": [
        "dias = input('Digite el número de días que quiere calcular de equivalencia en años, meses y días: ')\n",
        "dias = float(dias)\n",
        "\n",
        "def años(dias):\n",
        "  return dias / 365\n",
        "\n",
        "def mes_año(dias):\n",
        "  return dias / 30\n",
        "\n",
        "años_calc = años(dias)\n",
        "meses = mes_año(dias)\n",
        "\n",
        "print(dias, 'días, equivalen a ', round(años_calc, 4), 'años, y/o ', round(meses, 4), 'meses')"
      ],
      "metadata": {
        "colab": {
          "base_uri": "https://localhost:8080/"
        },
        "id": "y1Wu421DSIyc",
        "outputId": "02d43e57-a9f9-4b4b-a0db-7b7559c878fb"
      },
      "execution_count": null,
      "outputs": [
        {
          "output_type": "stream",
          "name": "stdout",
          "text": [
            "Digite el número de días que quiere calcular de equivalencia en años, meses y días: 450\n",
            "450.0 días, equivalen a  1.2329 años, y/o  15.0 meses\n"
          ]
        }
      ]
    },
    {
      "cell_type": "markdown",
      "source": [
        "Funciones que no devuelven ningún valor, como print, construimos un ejemplo:"
      ],
      "metadata": {
        "id": "onZJprojJrdd"
      }
    },
    {
      "cell_type": "code",
      "source": [
        "def imprimir(m: str)-> None:\n",
        "  print(m)\n",
        "\n",
        "imprimir('Acabamos de construir una función print')"
      ],
      "metadata": {
        "id": "QTWOsE4UTXhw",
        "colab": {
          "base_uri": "https://localhost:8080/"
        },
        "outputId": "4cecb2b5-cb04-4347-db3d-155de78c10cd"
      },
      "execution_count": null,
      "outputs": [
        {
          "output_type": "stream",
          "name": "stdout",
          "text": [
            "Acabamos de construir una función print\n"
          ]
        }
      ]
    },
    {
      "cell_type": "markdown",
      "source": [
        "**RETO 1: Área de un triángulo**"
      ],
      "metadata": {
        "id": "Zu2bXnHRKg0C"
      }
    },
    {
      "cell_type": "markdown",
      "source": [
        "El área de un triángulo puede ser calculada cuando se conoce la longitud de sus lados. Teniendo en cuenta que s1, s2 y s3 son las longitudes de los lados del triángulo, se puede calcular el subperímetro s = (s1+s2+s3)/2, y, con este valor, se puede calcular el área del triángulo de la siguiente manera: area = √( s * (s-s1) * (s-s2) * (s-s3) ). \n",
        "\n",
        "Cree una función que recibe la medida de los lados del triángulo y retorna el área de este, redondeada a una cifra decimal. \n",
        "\n",
        "El módulo math puede serle de ayuda para calcular la raíz cuadrada."
      ],
      "metadata": {
        "id": "NrjE-C4xKsmw"
      }
    },
    {
      "cell_type": "code",
      "source": [
        "#Curso de programación en Python\n",
        "#RETO 1: área de un triángulo\n",
        "\n",
        "import math\n",
        "\n",
        "def subperimetro(s1: float, s2: float, s3:float)-> float:\n",
        "  \"\"\"\n",
        "  Esta función calcula el subperimetro de un triángulo\n",
        "  \"\"\"\n",
        "  return (s1+s2+s3) / 2\n",
        "\n",
        "def area_triangulo(s: float, s1: float, s2:float, s3:float)-> float:\n",
        "  \"\"\"\n",
        "  Esta función calcula el área de un triángulo a través de su subperimetro\n",
        "  \"\"\"\n",
        "  s = subperimetro(s1, s2, s3)\n",
        "  area = math.sqrt((s*(s-s1) * (s-s2) * (s-s3)))\n",
        "  return area\n",
        "\n",
        "s1 = 48.5\n",
        "s2 = 30.2\n",
        "s3 = 20.7\n",
        "\n",
        "s = subperimetro(s1, s2, s3)\n",
        "resultado = area_triangulo(s, s1, s2, s3)\n",
        "print('El área del triángulo es', resultado, 'm^2')  "
      ],
      "metadata": {
        "colab": {
          "base_uri": "https://localhost:8080/"
        },
        "id": "I20soEmfJ6q3",
        "outputId": "04bcf93d-c28a-41aa-af4e-86bbd67f24f7"
      },
      "execution_count": null,
      "outputs": [
        {
          "output_type": "stream",
          "name": "stdout",
          "text": [
            "El área del triángulo es 183.64754286404187 m^2\n"
          ]
        }
      ]
    },
    {
      "cell_type": "markdown",
      "source": [
        "**RETO 2: Índice de masa corporal**"
      ],
      "metadata": {
        "id": "7Ha3uHxMOQn2"
      }
    },
    {
      "cell_type": "markdown",
      "source": [
        "Cree una función que pueda calcular el índice de masa corporal (BMI) de una persona.\n",
        "\n",
        "La fórmula para calcular el BMI es la siguiente: \n",
        "\n",
        "BMI = peso/(altura^2)\n",
        "\n",
        "En esta fórmula el peso está en kilogramos y la altura en metros. Tenga en cuenta que el peso y altura que reciban su función, van a estar en libras y pulgadas respectivamente, ya que su función será usada en los Estados Unidos.\n",
        "\n",
        "Recuerde que:\n",
        "\n",
        "1 libra corresponde a 0.45kg.\n",
        "\n",
        "1 pulgada corresponde a 0.025 metros.\n",
        "\n",
        "El valor de retorno debe estar redondeado a dos decimales. "
      ],
      "metadata": {
        "id": "BgjqE7xsOagm"
      }
    },
    {
      "cell_type": "code",
      "source": [
        "#Curso de programación en Python  \n",
        "#RETO 2: índice de masa corporal\n",
        "\n",
        "peso_lb = float(input('Ingrese su peso en libras: '))\n",
        "altura_inch = float(input('Ingrese su altura en pulgadas: '))\n",
        "\n",
        "def calcular_BMI(peso_lb: float, altura_inch: float)-> float:\n",
        "  \"\"\"\n",
        "  Función que calcula el índice de masa corporal de una persona a partir de su peso en libras y su altura en pulgadas\n",
        "  \"\"\"\n",
        "  BMI = (peso_lb * 0.45) / (altura_inch * 0.025)**2\n",
        "  return round(BMI, 2)\n",
        "\n",
        "imc = calcular_BMI(peso_lb, altura_inch)\n",
        "print('Su índice de masa corporal es: ', imc)"
      ],
      "metadata": {
        "colab": {
          "base_uri": "https://localhost:8080/"
        },
        "id": "qQ-WMMI1McTs",
        "outputId": "34a7d759-ad77-40ad-8990-4fafc452d0c3"
      },
      "execution_count": null,
      "outputs": [
        {
          "output_type": "stream",
          "name": "stdout",
          "text": [
            "Ingrese su peso en libras: 136\n",
            "Ingrese su altura en pulgadas: 66.14\n",
            "Su índice de masa corporal es:  22.38\n"
          ]
        }
      ]
    },
    {
      "cell_type": "markdown",
      "source": [
        "**-Actividad: Defina una función que convierta radianes en grados. Recuerde que 360 grados son 2*pi radianes.**"
      ],
      "metadata": {
        "id": "Xv9UMyzGusqN"
      }
    },
    {
      "cell_type": "code",
      "source": [
        "#Curso de programación en Python  \n",
        "import math\n",
        "\n",
        "def rad_grados(rad: float)-> float:\n",
        "  grad = rad * (360/(2*math.pi))\n",
        "  return grad\n",
        "\n",
        "rad = float(input('Ingrese los radianes para convertir en grados: '))\n",
        "resultado = rad_grados(rad)\n",
        "print('Los grados equivalentes a los radianes digitados son: ', round(resultado, 2))"
      ],
      "metadata": {
        "colab": {
          "base_uri": "https://localhost:8080/"
        },
        "id": "GyRLVdWAP0eS",
        "outputId": "5b5fa63c-c02f-4cd2-9639-1be73a6e5326"
      },
      "execution_count": null,
      "outputs": [
        {
          "output_type": "stream",
          "name": "stdout",
          "text": [
            "Ingrese los radianes para convertir en grados: 200\n",
            "Los grados equivalentes a los radianes digitados son:  11459.16\n"
          ]
        }
      ]
    },
    {
      "cell_type": "markdown",
      "source": [
        "**-Actividad: Defina una función que reciba un número entero positivo de 4 cifras (dígitos) y devuelva el número invertido.**"
      ],
      "metadata": {
        "id": "oeGbbBg5xKU-"
      }
    },
    {
      "cell_type": "code",
      "source": [
        "#Curso de programación en Python\n",
        "import math\n",
        "\n",
        "def inv_numero(cuatro: int)-> int:\n",
        "  uno = str(cuatro % 10)\n",
        "  dos = str((cuatro // 10) %10)\n",
        "  tres = str(((cuatro // 10) // 10 ) % 10)\n",
        "  cuarto = str((((cuatro // 10) // 10) // 10 ) % 10)\n",
        "  invertido = uno + dos + tres + cuarto   \n",
        "  return invertido\n",
        "\n",
        "cuatro = int(input('Digite un número entero de 4 cifras: '))\n",
        "resultado = inv_numero(cuatro)\n",
        "print('El número invertido es: ', resultado)"
      ],
      "metadata": {
        "colab": {
          "base_uri": "https://localhost:8080/"
        },
        "id": "uGdFoIlMveUr",
        "outputId": "d5c7f521-ecfa-492f-9ed0-e13ce9e8bec5"
      },
      "execution_count": null,
      "outputs": [
        {
          "output_type": "stream",
          "name": "stdout",
          "text": [
            "Digite un número entero de 4 cifras: 8532\n",
            "El número invertido es:  2358\n"
          ]
        }
      ]
    },
    {
      "cell_type": "markdown",
      "source": [
        "**Otra forma de hacerlo:**"
      ],
      "metadata": {
        "id": "rgwn971F4UhE"
      }
    },
    {
      "cell_type": "code",
      "source": [
        "def invertir_numero(numero:int)->int:\n",
        "  unidades = numero % 10 \n",
        "  numero //= 10\n",
        "  decenas = numero % 10\n",
        "  numero //= 10\n",
        "  centenas = numero % 10\n",
        "  numero //= 10\n",
        "  millares = numero % 10\n",
        "  invertido = str(unidades) + str(decenas) + str(centenas) + str(millares)\n",
        "  return invertido\n",
        "\n",
        "numero = int(input())\n",
        "inverso = invertir_numero(numero)\n",
        "print(inverso)"
      ],
      "metadata": {
        "colab": {
          "base_uri": "https://localhost:8080/"
        },
        "id": "x4zx81Y0xg4n",
        "outputId": "944aebf9-067f-4708-c953-d6eb36f2fcbc"
      },
      "execution_count": null,
      "outputs": [
        {
          "output_type": "stream",
          "name": "stdout",
          "text": [
            "6792\n",
            "2976\n"
          ]
        }
      ]
    },
    {
      "cell_type": "markdown",
      "source": [
        "**RETO 3: Cambio a retornar**"
      ],
      "metadata": {
        "id": "d2HcXVI45YyH"
      }
    },
    {
      "cell_type": "markdown",
      "source": [
        "Considere el software que se ejecuta en una máquina expendedora. Una de las tareas que debe realizar es determinar cuánto cambio debe entregarle al cliente luego de que paga. Escriba una función que recibe la cantidad de dinero (en pesos) a dar como cambio al cliente y retorne un mensaje con la cantidad de monedas de cada denominación que deben ser entregadas, teniendo en cuenta que el cambio se debe otorgar con la menor cantidad de monedas posible.\n",
        "\n",
        "La máquina cuenta con monedas de 500, 200, 100 y 50 pesos, y el cambio total se entregará con monedas de estas denominaciones. El mensaje retornado DEBE seguir el siguiente formato: “A,B,C,D” (sin espacios intermedios) donde A, B, C y D son la cantidad de monedas de 500, 200, 100 y 50, respectivamente."
      ],
      "metadata": {
        "id": "DvxapZ4W5fSr"
      }
    },
    {
      "cell_type": "code",
      "source": [
        "#Curso de programación en Python\n",
        "#RETO 3: Cambio a retornar \n",
        "cambio = int(input('Ingrese el cambio que se le debe entregar: '))\n",
        "\n",
        "def calcular_cambio(cambio: int)-> int:\n",
        "  A, B, C, D = 500, 200, 100, 50\n",
        "  dev_1 = cambio // A\n",
        "  sobra1 = cambio - (dev_1 * A)\n",
        "\n",
        "  dev_2 = sobra1 // B\n",
        "  sobra2 = sobra1 - (dev_2 * B)\n",
        "\n",
        "  dev_3 = sobra2 // C\n",
        "  sobra3 = sobra2 - (dev_3 * C) \n",
        "\n",
        "  dev_4 = sobra3 // D\n",
        "  sobra4 = sobra3 - (dev_4 * D)\n",
        "\n",
        "  final = str(dev_1) + ',' + str(dev_2) + ',' + str(dev_3) + ',' + str(dev_4)\n",
        "   \n",
        "  return final\n",
        "\n",
        "result = calcular_cambio(cambio)\n",
        "print('Su cambio en pesos colombianos corresponde a la cantidad de monedas ', result, 'de 500, 200, 100 y 50 pesos respectivamente.')"
      ],
      "metadata": {
        "id": "NKfKyy7v49RT",
        "colab": {
          "base_uri": "https://localhost:8080/"
        },
        "outputId": "f5011dd6-e070-43ff-ebb0-123beab18af8"
      },
      "execution_count": null,
      "outputs": [
        {
          "output_type": "stream",
          "name": "stdout",
          "text": [
            "Ingrese el cambio que se le debe entregar: 2150\n",
            "Su cambio en pesos colombianos corresponde a la cantidad de monedas  4,0,1,1 de 500, 200, 100 y 50 pesos respectivamente.\n"
          ]
        }
      ]
    },
    {
      "cell_type": "markdown",
      "source": [
        "**RETO 4: Hora de llegada de vuelo**"
      ],
      "metadata": {
        "id": "8LclwzPXWIK6"
      }
    },
    {
      "cell_type": "markdown",
      "source": [
        "Una agencia de viajes necesita informar a sus clientes la hora de llegada de sus vuelos. Se conoce la hora de partida del vuelo (en horas, minutos y segundos) y la duración del vuelo (en horas, minutos y segundos).\n",
        "\n",
        "Cree una función que retorne la hora de llegada del vuelo en una cadena con el formato “HH:mm:ss” donde HH es la hora, mm los minutos y ss los segundos de la hora de llegada del vuelo. \n",
        "\n",
        "La hora está dada en formato de 24 horas. Si alguno de los 3 números de la respuesta es menor a 10, sólo se necesita un dígito ('7' en lugar de '07')."
      ],
      "metadata": {
        "id": "Ec6mEaSIWNEc"
      }
    },
    {
      "cell_type": "code",
      "source": [
        "#Curso de programación en Python \n",
        "#RETO 4: Hora de llegada de vuelo\n",
        "\n",
        "def calcular_horario_llegada(hora_salida:int, minuto_salida:int, segundo_salida:int, duracion_horas:int, duracion_minutos:int, duracion_segundos:int):\n",
        "  h, m, s = 24, 60, 60\n",
        "  horas = (hora_salida + duracion_horas) % h\n",
        "  minutos = (minuto_salida + duracion_minutos) % m\n",
        "  segundos = (segundo_salida + duracion_segundos) % s\n",
        "  h_llegada = str(horas) + 'h:' + str(minutos) + 'm:' + str(segundos) + 's'\n",
        "  return h_llegada\n",
        "\n",
        "hora_salida = int(input('Ingrese la hora de salida de su vuelo: '))\n",
        "minuto_salida = int(input('Ingrese el minuto de salida de su vuelo: '))\n",
        "segundo_salida = int(input('Ingrese el segundo de salida de su vuelo: '))\n",
        "duracion_horas = int(input('Ingrese la duración de su vuelo en horas: '))\n",
        "duracion_minutos = int(input('Ingrese la duración de su vuelo en minutos: '))\n",
        "duracion_segundos = int(input('Ingrese la duración de su vuelo en segundos: '))\n",
        "\n",
        "resultado = calcular_horario_llegada(hora_salida, minuto_salida, segundo_salida, duracion_horas, duracion_minutos, duracion_segundos)\n",
        "print('La hora de llegada a su destino es: ',resultado,'en un formato HH:mm:ss de 24 horas.')"
      ],
      "metadata": {
        "colab": {
          "base_uri": "https://localhost:8080/"
        },
        "id": "2cKDowVsFuiC",
        "outputId": "6a28b70b-503c-4fb0-ddd1-d1bd8268daaa"
      },
      "execution_count": null,
      "outputs": [
        {
          "output_type": "stream",
          "name": "stdout",
          "text": [
            "Ingrese la hora de salida de su vuelo: 12\n",
            "Ingrese el minuto de salida de su vuelo: 55\n",
            "Ingrese el segundo de salida de su vuelo: 55\n",
            "Ingrese la duración de su vuelo en horas: 7\n",
            "Ingrese la duración de su vuelo en minutos: 13\n",
            "Ingrese la duración de su vuelo en segundos: 13\n",
            "La hora de llegada a su destino es a las:  19h:8m:8s en un formato HH:mm:ss de 24 horas.\n"
          ]
        }
      ]
    },
    {
      "cell_type": "markdown",
      "source": [
        "**-Actividad: Calculce el área de la parte sombreada del cuadrado que tiene en su interior un círculo blanco.**"
      ],
      "metadata": {
        "id": "cQi41TReZXNx"
      }
    },
    {
      "cell_type": "code",
      "source": [
        "import math\n",
        "\n",
        "lado = float(input('Ingrese el tamaño de los lados del cuadrado: '))\n",
        "radio = float(input('Ingrese el radio del circulo: '))\n",
        "\n",
        "def area_cuadrado(lado: float)-> float:\n",
        "  return lado * lado\n",
        "\n",
        "def area_circulo(radio: float)-> float:\n",
        "  return math.pi * (radio)**2\n",
        "\n",
        "def area_oscura(lado: float, radio: float)-> float:\n",
        "  cuadrado = area_cuadrado(lado)\n",
        "  circulo = area_circulo(radio)\n",
        "  return cuadrado - circulo\n",
        "\n",
        "resultado = area_oscura(lado, radio)\n",
        "print('El área de la zona oscura del cuadrado es: ', resultado, 'cm^2')"
      ],
      "metadata": {
        "id": "WXxBwjH6NYMc",
        "colab": {
          "base_uri": "https://localhost:8080/"
        },
        "outputId": "3d308954-20a5-42e6-ede3-5dc61a2cfba8"
      },
      "execution_count": null,
      "outputs": [
        {
          "output_type": "stream",
          "name": "stdout",
          "text": [
            "Ingrese el tamaño de los lados del cuadrado: 20\n",
            "Ingrese el radio del circulo: 10\n",
            "El área de la zona oscura del cuadrado es:  85.84073464102067 cm^2\n"
          ]
        }
      ]
    },
    {
      "cell_type": "markdown",
      "source": [
        "# Estilo de programación"
      ],
      "metadata": {
        "id": "nnr2OeO7fa5Q"
      }
    },
    {
      "cell_type": "markdown",
      "source": [
        "Veamos ahora cómo se implementa en Python la separación entre la interfaz y la lógica de los programas. Para esto, tomaremos el programa ‘saludar.py’ que ya conocemos de una sección anterior:"
      ],
      "metadata": {
        "id": "OWRiQa0Gf6l3"
      }
    },
    {
      "cell_type": "markdown",
      "source": [
        "Lógica: logica_saludar.py"
      ],
      "metadata": {
        "id": "yzKvipJegCTO"
      }
    },
    {
      "cell_type": "code",
      "source": [
        "# Esto está en el archivo logica_saludar.py\n",
        "def saludar(nombre: str)-> str:\n",
        "   return \"Hola \" + nombre + \"!\"\n"
      ],
      "metadata": {
        "id": "QEW5KD7GbJ_E"
      },
      "execution_count": null,
      "outputs": []
    },
    {
      "cell_type": "markdown",
      "source": [
        "Interfaz: interfaz_saludar.py"
      ],
      "metadata": {
        "id": "6uNb78XAgY51"
      }
    },
    {
      "cell_type": "code",
      "source": [
        "# Esto está en el archivo interfaz_saludar.py\n",
        "\n",
        "import logica_saludar as logica\n",
        "\n",
        "nombre = input(\"¿Cuál es su nombre? \")\n",
        "saludo = logica.saludar(nombre)\n",
        "print(saludo)"
      ],
      "metadata": {
        "id": "7nh2ww3wgGrR"
      },
      "execution_count": null,
      "outputs": []
    },
    {
      "cell_type": "markdown",
      "source": [
        "# ***Módulo 2: Tomando decisiones***"
      ],
      "metadata": {
        "id": "LPlJrLngfYDr"
      }
    },
    {
      "cell_type": "markdown",
      "source": [
        "Escribe el resultado de las siguientes instrucciones booleanas:"
      ],
      "metadata": {
        "id": "rb8EQIAAIePR"
      }
    },
    {
      "cell_type": "code",
      "source": [
        "a = 45\n",
        "b = 30\n",
        "c = 10\n",
        "\n",
        "a + c >= b #True"
      ],
      "metadata": {
        "id": "RPH3jFKygrji",
        "colab": {
          "base_uri": "https://localhost:8080/"
        },
        "outputId": "1541b383-c043-4fd2-f90d-299f1b83ab6e"
      },
      "execution_count": null,
      "outputs": [
        {
          "output_type": "execute_result",
          "data": {
            "text/plain": [
              "True"
            ]
          },
          "metadata": {},
          "execution_count": 1
        }
      ]
    },
    {
      "cell_type": "code",
      "source": [
        "a = 45\n",
        "b = 30\n",
        "c = 10\n",
        "\n",
        "b - c < a - b #False"
      ],
      "metadata": {
        "colab": {
          "base_uri": "https://localhost:8080/"
        },
        "id": "lTQjziaOItic",
        "outputId": "427093a1-0d98-4000-a164-7f1ca35bd2d0"
      },
      "execution_count": null,
      "outputs": [
        {
          "output_type": "execute_result",
          "data": {
            "text/plain": [
              "False"
            ]
          },
          "metadata": {},
          "execution_count": 2
        }
      ]
    },
    {
      "cell_type": "code",
      "source": [
        "a = 45\n",
        "b = 30\n",
        "c = 10\n",
        "\n",
        "(a > b and b > c) or (b < c and a > b) #True"
      ],
      "metadata": {
        "colab": {
          "base_uri": "https://localhost:8080/"
        },
        "id": "Ery09U53I3io",
        "outputId": "147c7e78-c386-464c-d1cb-437929715a11"
      },
      "execution_count": null,
      "outputs": [
        {
          "output_type": "execute_result",
          "data": {
            "text/plain": [
              "True"
            ]
          },
          "metadata": {},
          "execution_count": 3
        }
      ]
    },
    {
      "cell_type": "code",
      "source": [
        "a = 45\n",
        "b = 30\n",
        "c = 10\n",
        "\n",
        "a*b < a*b / c #False"
      ],
      "metadata": {
        "colab": {
          "base_uri": "https://localhost:8080/"
        },
        "id": "34_Xh9YeJIAx",
        "outputId": "f8be9cf8-c7d4-4fd6-f593-06b6cc7b96cc"
      },
      "execution_count": null,
      "outputs": [
        {
          "output_type": "execute_result",
          "data": {
            "text/plain": [
              "False"
            ]
          },
          "metadata": {},
          "execution_count": 4
        }
      ]
    },
    {
      "cell_type": "code",
      "source": [
        "a = 45\n",
        "b = 30\n",
        "c = 10\n",
        "\n",
        "a > c and b #El valor es b debido a la ley de identidad de la conjunción"
      ],
      "metadata": {
        "colab": {
          "base_uri": "https://localhost:8080/"
        },
        "id": "aQlLR7u2JSwN",
        "outputId": "cc0c6a50-0805-44ed-ee49-755926d324d3"
      },
      "execution_count": null,
      "outputs": [
        {
          "output_type": "execute_result",
          "data": {
            "text/plain": [
              "30"
            ]
          },
          "metadata": {},
          "execution_count": 5
        }
      ]
    },
    {
      "cell_type": "markdown",
      "source": [
        "# Valores de verdad en Python"
      ],
      "metadata": {
        "id": "K0SIsQtIUD-T"
      }
    },
    {
      "cell_type": "code",
      "source": [
        "type(True)"
      ],
      "metadata": {
        "id": "EXkRsaaCJwG7",
        "colab": {
          "base_uri": "https://localhost:8080/"
        },
        "outputId": "03d24fb5-1108-4d6c-da3f-36ed31256960"
      },
      "execution_count": null,
      "outputs": [
        {
          "output_type": "execute_result",
          "data": {
            "text/plain": [
              "bool"
            ]
          },
          "metadata": {},
          "execution_count": 1
        }
      ]
    },
    {
      "cell_type": "code",
      "source": [
        "type(False)"
      ],
      "metadata": {
        "colab": {
          "base_uri": "https://localhost:8080/"
        },
        "id": "3BBkr08fUlFN",
        "outputId": "6d337c35-809f-494b-c951-e71f1fb429cf"
      },
      "execution_count": null,
      "outputs": [
        {
          "output_type": "execute_result",
          "data": {
            "text/plain": [
              "bool"
            ]
          },
          "metadata": {},
          "execution_count": 2
        }
      ]
    },
    {
      "cell_type": "code",
      "source": [
        "True == 1"
      ],
      "metadata": {
        "colab": {
          "base_uri": "https://localhost:8080/"
        },
        "id": "46x6J9pEUnXM",
        "outputId": "4c67008a-2f7a-43b7-e20b-1f5e8bf1e495"
      },
      "execution_count": null,
      "outputs": [
        {
          "output_type": "execute_result",
          "data": {
            "text/plain": [
              "True"
            ]
          },
          "metadata": {},
          "execution_count": 5
        }
      ]
    },
    {
      "cell_type": "code",
      "source": [
        "True == 0"
      ],
      "metadata": {
        "colab": {
          "base_uri": "https://localhost:8080/"
        },
        "id": "hnZzZ_wKU2az",
        "outputId": "91ae4262-5c3b-4965-a8ec-d9e5f6b95177"
      },
      "execution_count": null,
      "outputs": [
        {
          "output_type": "execute_result",
          "data": {
            "text/plain": [
              "False"
            ]
          },
          "metadata": {},
          "execution_count": 6
        }
      ]
    },
    {
      "cell_type": "code",
      "source": [
        "False == 0 "
      ],
      "metadata": {
        "colab": {
          "base_uri": "https://localhost:8080/"
        },
        "id": "AmX16Ej7U5OU",
        "outputId": "2ddeca36-5399-4b60-a8fd-0695df54529f"
      },
      "execution_count": null,
      "outputs": [
        {
          "output_type": "execute_result",
          "data": {
            "text/plain": [
              "True"
            ]
          },
          "metadata": {},
          "execution_count": 7
        }
      ]
    },
    {
      "cell_type": "code",
      "source": [
        "False == 1"
      ],
      "metadata": {
        "colab": {
          "base_uri": "https://localhost:8080/"
        },
        "id": "mhrxbr17U6RM",
        "outputId": "c1520642-e8ac-472d-db26-21378f3aadcb"
      },
      "execution_count": null,
      "outputs": [
        {
          "output_type": "execute_result",
          "data": {
            "text/plain": [
              "False"
            ]
          },
          "metadata": {},
          "execution_count": 8
        }
      ]
    },
    {
      "cell_type": "markdown",
      "source": [
        "Funciones que retornan valores de verdad:"
      ],
      "metadata": {
        "id": "SRSkvopjVCKt"
      }
    },
    {
      "cell_type": "markdown",
      "source": [
        "El tipo bool también puede usarse para expresar el tipo de retorno de una función. Por ejemplo, las siguientes son dos funciones que retornan un valor de tipo bool: siempre que la primera función sea invocada, el resultado será un valor verdadero, mientras que para la segunda función el valor siempre será falso"
      ],
      "metadata": {
        "id": "YKBGYU3bVS-F"
      }
    },
    {
      "cell_type": "code",
      "source": [
        "def f(x: int)-> bool:\n",
        "  print('f:', x)\n",
        "  return True\n",
        "\n",
        "def g(x: int)-> bool:\n",
        "  print('g:', x)\n",
        "  return False"
      ],
      "metadata": {
        "id": "9gwbzz9sU8MV"
      },
      "execution_count": null,
      "outputs": []
    },
    {
      "cell_type": "markdown",
      "source": [
        "# Conjunción (and)"
      ],
      "metadata": {
        "id": "ybCxT9yYVybA"
      }
    },
    {
      "cell_type": "markdown",
      "source": [
        "Python primero revisará el valor de w. Si es falso, Python inmediatamente dirá que la expresión completa es falsa. De lo contrario, el valor de la expresión completa será el valor de la expresión x and y and z.\n",
        "\n",
        "Si no hemos terminado, Python revisará el valor de x. Si es falso, Python inmediatamente dirá que la expresión completa es falsa. De lo contrario, el valor de la expresión completa será el valor de la expresión y and z.\n",
        "\n",
        "Si no hemos terminado, Python revisará el valor de y. Si es falso, Python inmediatamente dirá que la expresión completa es falsa. De lo contrario, el valor de la expresión completa será el valor de la expresión z.\n",
        "\n",
        "Si no hemos terminado, Python revisará el valor de z y como no hay más operaciones le asignará a la expresión el valor de z."
      ],
      "metadata": {
        "id": "vBw5E1TWXNEZ"
      }
    },
    {
      "cell_type": "code",
      "source": [
        "def f(x: int)->bool:\n",
        "    print('f:', x)\n",
        "    return True\n",
        "\n",
        "def g(x: int)->bool:\n",
        "    print('g:', x)\n",
        "    return False\n",
        "\n",
        "print(\"Caso 1 - f and f and f :\")\n",
        "print(f(1) and f(2) and f(3))\n",
        "\n",
        "print(\"Caso 2 - f and f and g :\")\n",
        "print(f(1) and f(2) and g(3))\n",
        "\n",
        "print(\"Caso 3 - f and g and g :\")\n",
        "print(f(1) and g(2) and g(3))\n",
        "\n",
        "print(\"Caso 4 - g and g and g :\")\n",
        "print(g(1) and g(2) and g(3))"
      ],
      "metadata": {
        "colab": {
          "base_uri": "https://localhost:8080/"
        },
        "id": "fb3-p9vKVlLh",
        "outputId": "f76b781d-5e96-4b54-e0af-7c80a78079ad"
      },
      "execution_count": null,
      "outputs": [
        {
          "output_type": "stream",
          "name": "stdout",
          "text": [
            "Caso 1 - f and f and f :\n",
            "f: 1\n",
            "f: 2\n",
            "f: 3\n",
            "True\n",
            "Caso 2 - f and f and g :\n",
            "f: 1\n",
            "f: 2\n",
            "g: 3\n",
            "False\n",
            "Caso 3 - f and g and g :\n",
            "f: 1\n",
            "g: 2\n",
            "False\n",
            "Caso 4 - g and g and g :\n",
            "g: 1\n",
            "False\n"
          ]
        }
      ]
    },
    {
      "cell_type": "markdown",
      "source": [
        "# Disyunción (or)"
      ],
      "metadata": {
        "id": "vg3V93RBXj4v"
      }
    },
    {
      "cell_type": "markdown",
      "source": [
        "La operación lógica de disyunción se expresa en Python usando la palabra reservada or. Cuando se tiene en un programa Python una expresión de la forma p or q se sabe entonces que tendrá un valor falso sólo si la expresión p y la expresión q tienen simultáneamente un valor falso. Además, el operador or es asociativo, así que se pueden escribir expresiones como w or x or y or z sin tener que usar paréntesis y sin riesgos de que cambie el resultado.\n",
        "\n",
        "Al igual que con la operación and, Python también busca eficiencias en la evaluación de expresiones que usen en este operador. Esto se logra identificando inmediatamente que el resultado de una operación or entre el valor verdadero y cualquier valor, siempre será verdadero. Es decir que, si el primer operando de una operación que use el operador or es verdadero, entonces el valor de la operación será verdadero y no será necesario evaluar los otros términos."
      ],
      "metadata": {
        "id": "2BBKC7FSYE8A"
      }
    },
    {
      "cell_type": "code",
      "source": [
        "def f(x: int)->bool:\n",
        "    print('f:', x)\n",
        "    return True\n",
        "\n",
        "def g(x: int)->bool:\n",
        "    print('g:', x)\n",
        "    return False\n",
        "\n",
        "print(\"Caso 1 - f or f or f :\")\n",
        "print(f(1) or f(2) or f(3))\n",
        "\n",
        "print(\"Caso 2 - f or f or g :\")\n",
        "print(f(1) or f(2) or g(3))\n",
        "\n",
        "print(\"Caso 3 - g or f or g :\")\n",
        "print(g(1) or f(2) or g(3))\n",
        "\n",
        "print(\"Caso 4 - g or g or g :\")\n",
        "print(g(1) or g(2) or g(3))"
      ],
      "metadata": {
        "colab": {
          "base_uri": "https://localhost:8080/"
        },
        "id": "hL_xlvjJW1nn",
        "outputId": "d95a5e17-0037-490a-e331-cc44003fa344"
      },
      "execution_count": null,
      "outputs": [
        {
          "output_type": "stream",
          "name": "stdout",
          "text": [
            "Caso 1 - f or f or f :\n",
            "f: 1\n",
            "True\n",
            "Caso 2 - f or f or g :\n",
            "f: 1\n",
            "True\n",
            "Caso 3 - g or f or g :\n",
            "g: 1\n",
            "f: 2\n",
            "True\n",
            "Caso 4 - g or g or g :\n",
            "g: 1\n",
            "g: 2\n",
            "g: 3\n",
            "False\n"
          ]
        }
      ]
    },
    {
      "cell_type": "markdown",
      "source": [
        "# Negación (not)"
      ],
      "metadata": {
        "id": "WbUGBGuaY2qR"
      }
    },
    {
      "cell_type": "markdown",
      "source": [
        "El tercer operador lógico en Python es la negación, la cual se expresa con la palabra reservada not. Como se trata de un operador unario se debe anteponer al operando. Es decir que se usa igual que como se usa el signo - para convertir a un número en su negativo (por ejemplo, 5, -5 y -(-5))).\n",
        "\n",
        "El operador not no tiene ninguna diferencia con la operación lógica de negación y tiene una precedencia que es mayor a la de la conjunción y a la de la disyunción. Es decir que not a and b siempre será equivalente a (not a) and b y que a and not b siempre será equivalente a a and (not b)."
      ],
      "metadata": {
        "id": "Czhvo4tlZRPe"
      }
    },
    {
      "cell_type": "code",
      "source": [
        "def f(x: int)->bool:\n",
        "    print('f:', x)\n",
        "    return True\n",
        "\n",
        "def g(x: int)->bool:\n",
        "    print('g:', x)\n",
        "    return False\n",
        "\n",
        "print(\"Caso 1:\", not f(1) and f(2))\n",
        "print(not f(1) and f(2))\n",
        "print(\"Caso 2:\", not g(1) and f(2))\n",
        "print(not g(1) and f(2))"
      ],
      "metadata": {
        "colab": {
          "base_uri": "https://localhost:8080/"
        },
        "id": "fmm3yznRYfyg",
        "outputId": "1c99a79c-19e1-4016-cfcb-ca6c356505e2"
      },
      "execution_count": null,
      "outputs": [
        {
          "output_type": "stream",
          "name": "stdout",
          "text": [
            "f: 1\n",
            "Caso 1: False\n",
            "f: 1\n",
            "False\n",
            "g: 1\n",
            "f: 2\n",
            "Caso 2: True\n",
            "g: 1\n",
            "f: 2\n",
            "True\n"
          ]
        }
      ]
    },
    {
      "cell_type": "markdown",
      "source": [
        "Operadores relacionales"
      ],
      "metadata": {
        "id": "FQz3IkuIeY8u"
      }
    },
    {
      "cell_type": "code",
      "source": [
        "4 < 7"
      ],
      "metadata": {
        "colab": {
          "base_uri": "https://localhost:8080/"
        },
        "id": "Djh_7HpSZdHW",
        "outputId": "4d1442ed-6fef-4626-e240-e190e29f4e48"
      },
      "execution_count": null,
      "outputs": [
        {
          "output_type": "execute_result",
          "data": {
            "text/plain": [
              "True"
            ]
          },
          "metadata": {},
          "execution_count": 13
        }
      ]
    },
    {
      "cell_type": "code",
      "source": [
        "\"Ab\" <= \"ab\""
      ],
      "metadata": {
        "colab": {
          "base_uri": "https://localhost:8080/"
        },
        "id": "rTcChU91ebtJ",
        "outputId": "482847b1-f001-4d1c-f003-7e1083efd72d"
      },
      "execution_count": null,
      "outputs": [
        {
          "output_type": "execute_result",
          "data": {
            "text/plain": [
              "True"
            ]
          },
          "metadata": {},
          "execution_count": 14
        }
      ]
    },
    {
      "cell_type": "code",
      "source": [
        "\"abc\" == \"ab\" + \"c\""
      ],
      "metadata": {
        "colab": {
          "base_uri": "https://localhost:8080/"
        },
        "id": "g7aGvK4XeeEJ",
        "outputId": "06ba4b4c-533e-4577-a30d-b5356669655d"
      },
      "execution_count": null,
      "outputs": [
        {
          "output_type": "execute_result",
          "data": {
            "text/plain": [
              "True"
            ]
          },
          "metadata": {},
          "execution_count": 15
        }
      ]
    },
    {
      "cell_type": "code",
      "source": [
        "4 is 7"
      ],
      "metadata": {
        "colab": {
          "base_uri": "https://localhost:8080/"
        },
        "id": "8U2_Kpz1eiLT",
        "outputId": "bb4b0b2c-9dbf-41ff-d820-94f297c78a41"
      },
      "execution_count": null,
      "outputs": [
        {
          "output_type": "execute_result",
          "data": {
            "text/plain": [
              "False"
            ]
          },
          "metadata": {},
          "execution_count": 16
        }
      ]
    },
    {
      "cell_type": "code",
      "source": [
        "4 != 7"
      ],
      "metadata": {
        "colab": {
          "base_uri": "https://localhost:8080/"
        },
        "id": "Nq-RhCq_ej5k",
        "outputId": "609335be-a7e7-4162-c1b1-8e3461866f92"
      },
      "execution_count": null,
      "outputs": [
        {
          "output_type": "execute_result",
          "data": {
            "text/plain": [
              "True"
            ]
          },
          "metadata": {},
          "execution_count": 17
        }
      ]
    },
    {
      "cell_type": "markdown",
      "source": [
        "# Funciones booleanas"
      ],
      "metadata": {
        "id": "dnPIPnm8hf9G"
      }
    },
    {
      "cell_type": "code",
      "source": [
        "def es_positivo(x: int)->bool:\n",
        "    positivo = x > 0\n",
        "    \"\"\"\n",
        "    Si x es un número positivo, la función retorna True, de lo contrario retorna False\n",
        "    \"\"\"\n",
        "    return positivo\n",
        "\n",
        "def es_negativo(x: int)->bool:\n",
        "    negativo = x < 0\n",
        "    \"\"\"\n",
        "    Si x es un número negativo, la función retorna True, de lo contrario retorna False\n",
        "    \"\"\"\n",
        "    return negativo\n",
        "    \n",
        "def es_cero(x: int)->bool:\n",
        "    positivo = es_positivo(x)\n",
        "    negativo = es_negativo(x)\n",
        "    \"\"\"\n",
        "    Si el número no es negativo ni positivo, el retorno de esta función es True,\n",
        "    por lo que el número corresponde a cero\n",
        "    \"\"\"\n",
        "    return not positivo and not negativo\n",
        "    \n",
        "def ordenadas(antes: str, despues: str)->bool:\n",
        "    \"\"\" \n",
        "    Revisa si dos cadenas en un diccionario están ordenadas lexicográficamente\n",
        "    Parámetros:\n",
        "        antes (str): una cadena que está antes que la otra en un diccionario\n",
        "        despues (str): una cadena que está después que la otra en un diccionario\n",
        "    Retorno:\n",
        "        (bool): Indica si las cadenas estaban ordenadas.\n",
        "                El resultado será verdadero si la cadena 'antes' tiene que ir \n",
        "                antes que la cadena 'despues' en orden lexicográfico.\n",
        "                El resultado será falso de lo contrario.   \n",
        "    \"\"\"\n",
        "    estan_ordenadas = antes < despues\n",
        "    return estan_ordenadas\n",
        "\n",
        "ve = ordenadas('AAA', 'aaa')\n",
        "print('¿Están ordenadas? ', ve)\n",
        "\n",
        "cero = es_cero(0)\n",
        "print('¿El número es cero? ', cero)"
      ],
      "metadata": {
        "colab": {
          "base_uri": "https://localhost:8080/"
        },
        "id": "4s2G1hrhel1N",
        "outputId": "61f9afbd-7cb5-490a-d013-bc5d6d6f3dc1"
      },
      "execution_count": null,
      "outputs": [
        {
          "output_type": "stream",
          "name": "stdout",
          "text": [
            "¿Están ordenadas?  True\n",
            "¿El número es cero?  True\n"
          ]
        }
      ]
    },
    {
      "cell_type": "markdown",
      "source": [
        "Operadores de igualdad"
      ],
      "metadata": {
        "id": "J6QHlAP1iE1D"
      }
    },
    {
      "cell_type": "code",
      "source": [
        "def es_par(x: int)->bool:\n",
        "    # En la siguiente línea sobran los paréntesis, \n",
        "    # pero si incluyeron para hacer más claro el código\n",
        "    residuo_cero = (x % 2 == 0)\n",
        "    return residuo_cero\n",
        "\n",
        "def no_es_7_v1(x: int)->bool:\n",
        "    # En la siguiente línea sobran los paréntesis, \n",
        "    # pero si incluyeron para hacer más claro el código\n",
        "    x_es_7 = (x == 7)   \n",
        "    return not x_es_7\n",
        "    \n",
        "def no_es_7_v2(x: int)->bool:\n",
        "    return x != 7    "
      ],
      "metadata": {
        "id": "cQn2CHjKgBmJ"
      },
      "execution_count": null,
      "outputs": []
    },
    {
      "cell_type": "code",
      "source": [
        "0.2 == 1.2 - 1.0"
      ],
      "metadata": {
        "colab": {
          "base_uri": "https://localhost:8080/"
        },
        "id": "Y-mVADJFiIJv",
        "outputId": "6a955fb1-4349-49ef-9acb-9e939ff447aa"
      },
      "execution_count": null,
      "outputs": [
        {
          "output_type": "execute_result",
          "data": {
            "text/plain": [
              "False"
            ]
          },
          "metadata": {},
          "execution_count": 28
        }
      ]
    },
    {
      "cell_type": "code",
      "source": [
        "round(0.2, 1) == round(1.2 - 1.0, 1)"
      ],
      "metadata": {
        "colab": {
          "base_uri": "https://localhost:8080/"
        },
        "id": "2t7JW1D8nCUc",
        "outputId": "f8dd000f-9bcf-457c-d124-bcc051a2b735"
      },
      "execution_count": null,
      "outputs": [
        {
          "output_type": "execute_result",
          "data": {
            "text/plain": [
              "True"
            ]
          },
          "metadata": {},
          "execution_count": 29
        }
      ]
    },
    {
      "cell_type": "code",
      "source": [
        "3 is 1+2"
      ],
      "metadata": {
        "colab": {
          "base_uri": "https://localhost:8080/"
        },
        "id": "XjzHil91nGBF",
        "outputId": "464dfb3a-0a2c-4ee8-b4cf-ef3717385ede"
      },
      "execution_count": null,
      "outputs": [
        {
          "output_type": "execute_result",
          "data": {
            "text/plain": [
              "True"
            ]
          },
          "metadata": {},
          "execution_count": 30
        }
      ]
    },
    {
      "cell_type": "markdown",
      "source": [
        "**-Actividad: Escriba una función que dada la edad de una persona indique si puede manejar (tiene que tener al menos 16 años)**"
      ],
      "metadata": {
        "id": "dZAbXdQ5GiVI"
      }
    },
    {
      "cell_type": "code",
      "source": [
        "#Curso de programación en Python\n",
        "\n",
        "def puede_manejar(edad: int)-> bool:\n",
        "  permiso = edad >= 16\n",
        "  return permiso\n",
        "\n",
        "edad = int(input('Ingrese su edad: '))\n",
        "si_puede = puede_manejar(edad)\n",
        "\n",
        "print('¿La persona tiene permiso para manejar? ', si_puede)"
      ],
      "metadata": {
        "id": "rj2OP_lMnjkK",
        "colab": {
          "base_uri": "https://localhost:8080/"
        },
        "outputId": "20b00707-f550-481d-da69-c0a755914886"
      },
      "execution_count": null,
      "outputs": [
        {
          "output_type": "stream",
          "name": "stdout",
          "text": [
            "Ingrese su edad: 15\n",
            "¿La persona tiene permiso para manejar?  False\n"
          ]
        }
      ]
    },
    {
      "cell_type": "markdown",
      "source": [
        "**-Actividad: Escriba una función que dada la altura en metros y el peso en kilogramos de un adulto diga si está dentro de los rangos típicamente considerados saludables. Para esto debe usar el Índice de Masa Corporal (BMI), que se calcula como peso/altura2. Un adulto se considera que tiene sobrepeso cuando su BMI es mayor o igual a 25. Un adulto se considera que está bajo de peso cuando su BMI es menor a 18.5.**"
      ],
      "metadata": {
        "id": "7Bxy4N_5H2Vn"
      }
    },
    {
      "cell_type": "code",
      "source": [
        "#Curso de programación en Python\n",
        "\n",
        "def saludable(altura: float, peso:float)-> bool:\n",
        "  bmi = (peso) / (altura)**2\n",
        "  salud_adulto = bmi >= 18.5 and bmi <= 25\n",
        "  return salud_adulto\n",
        "\n",
        "altura = float(input('Ingrese su altura en metros: '))\n",
        "peso = float(input('Ingrese su peso en kilogramos: '))\n",
        "es_saludable = saludable(altura, peso)\n",
        "\n",
        "print('¿El adulto es saludable según el IMC? ', es_saludable)"
      ],
      "metadata": {
        "colab": {
          "base_uri": "https://localhost:8080/"
        },
        "id": "YHfz1XzDHwiA",
        "outputId": "eca9b36c-0f27-438b-eb5d-61db3b805830"
      },
      "execution_count": null,
      "outputs": [
        {
          "output_type": "stream",
          "name": "stdout",
          "text": [
            "Ingrese su altura en metros: 1.68\n",
            "Ingrese su peso en kilogramos: 62\n",
            "¿El adulto es saludable según el IMC?  True\n"
          ]
        }
      ]
    },
    {
      "cell_type": "markdown",
      "source": [
        "**-Actividad: Escriba una función que dados dos números diga si el primero es divisible por el segundo.**"
      ],
      "metadata": {
        "id": "60ZJcJKqJIev"
      }
    },
    {
      "cell_type": "code",
      "source": [
        "#Curso de programación en Python\n",
        "\n",
        "def divisibles(uno: int, dos: int)-> bool:\n",
        "  div = uno % dos == 0\n",
        "  return div\n",
        "\n",
        "uno = int(input('Digite un número: '))\n",
        "dos = int(input('Digite otro número: '))\n",
        "divisible = divisibles(uno, dos)\n",
        "print('¿El primer número es divisible por el segundo? ', divisible)"
      ],
      "metadata": {
        "colab": {
          "base_uri": "https://localhost:8080/"
        },
        "id": "xti3Vn6OIdbb",
        "outputId": "080dd018-ed09-4b89-afd1-cf13aba5ba40"
      },
      "execution_count": null,
      "outputs": [
        {
          "output_type": "stream",
          "name": "stdout",
          "text": [
            "Digite un número: 7\n",
            "Digite otro número: 3\n",
            "¿El primer número es divisible por el segundo?  False\n"
          ]
        }
      ]
    },
    {
      "cell_type": "markdown",
      "source": [
        "-Actividad: Queremos saber si una persona tiene el dinero suficiente para pagar la cuenta en un restaurante dados los siguientes parámetros: la cantidad de dinero que tiene la persona, el valor de la cuenta, si la persona va a dejar propina o no. La propina corresponde al 10% del valor de la cuenta.\n",
        "\n"
      ],
      "metadata": {
        "id": "ZusF5uRVJ-CP"
      }
    },
    {
      "cell_type": "code",
      "source": [
        "#Curso de programación en Python\n",
        "\n",
        "def dinero_suficiente(dinero: float, cuenta: float, propina: bool)-> bool:\n",
        "  pagar_cuenta = dinero - cuenta >= 0\n",
        "  prop = (cuenta*0.1)\n",
        "  cuenta_y_propina = dinero >= (cuenta + prop) and propina\n",
        "  return pagar_cuenta, cuenta_y_propina\n",
        "\n",
        "dinero = float(input('Ingrese el dinero del que dispone: '))\n",
        "cuenta = float(input('Ingrese el valor de su cuenta: '))\n",
        "propina = bool(input('Si va a dejar propina ingrese 1, de lo contrario ingrese 0: '))\n",
        "\n",
        "suficiente = dinero_suficiente(dinero, cuenta, propina)\n",
        "\n",
        "print('¿Tiene suficiente dinero la persona para pagar la cuenta // y dar propina?', suficiente)"
      ],
      "metadata": {
        "colab": {
          "base_uri": "https://localhost:8080/"
        },
        "id": "rxKILLh7JqRi",
        "outputId": "93883b59-5ea5-4170-f22d-8a9fa1f4c130"
      },
      "execution_count": null,
      "outputs": [
        {
          "output_type": "stream",
          "name": "stdout",
          "text": [
            "Ingrese el dinero del que dispone: 101\n",
            "Ingrese el valor de su cuenta: 100.5\n",
            "Si va a dejar propina ingrese 1, de lo contrario ingrese 0: 1\n",
            "¿Tiene suficiente dinero la persona para pagar la cuenta // y dar propina? (True, False)\n"
          ]
        }
      ]
    },
    {
      "cell_type": "markdown",
      "source": [
        "# Instrucciones condicionales"
      ],
      "metadata": {
        "id": "1cWbg21tEtH9"
      }
    },
    {
      "cell_type": "markdown",
      "source": [
        "Tomemos como ejemplo la funcionalidad de verificar si la contraseña introducida por un usuario es correcta o no: si es correcta, quisiéramos informarle al usuario que sí es correcta; si no es correcta, quisiéramos decirle que no es correcta y que debe volver a intentarlo. En la sección anterior aprendimos a comparar cadenas de caracteres, así que ya podríamos saber si la contraseña es correcta o no:"
      ],
      "metadata": {
        "id": "Hp9lOWtNFCfc"
      }
    },
    {
      "cell_type": "code",
      "source": [
        "contraseña_almacenada = 984597\n",
        "contraseña_ingresada = 984597\n",
        "contraseña_correcta = contraseña_almacenada == contraseña_ingresada\n",
        "print(contraseña_correcta)"
      ],
      "metadata": {
        "id": "XbGPJo2LLMAd",
        "colab": {
          "base_uri": "https://localhost:8080/"
        },
        "outputId": "7d738036-fdf5-4fe6-d2a3-d99974faa9fa"
      },
      "execution_count": null,
      "outputs": [
        {
          "output_type": "stream",
          "name": "stdout",
          "text": [
            "True\n"
          ]
        }
      ]
    },
    {
      "cell_type": "markdown",
      "source": [
        "Lo que no podemos hacer, sin usar instrucciones condicionales, es calcular el mensaje correcto para mostrarle al usuario con base en el valor de contrasena_correcta."
      ],
      "metadata": {
        "id": "OfHWhlV1FKSX"
      }
    },
    {
      "cell_type": "markdown",
      "source": [
        "Consideremos ahora otro ejemplo en el que queremos calcular el valor de una factura:"
      ],
      "metadata": {
        "id": "GYgx2hA2Fu5k"
      }
    },
    {
      "cell_type": "code",
      "source": [
        "valor_producto = 14000\n",
        "impuestos = valor_producto * 0.19\n",
        "valor_factura = valor_producto + impuestos"
      ],
      "metadata": {
        "id": "yu1rxGjHE_DR"
      },
      "execution_count": null,
      "outputs": []
    },
    {
      "cell_type": "markdown",
      "source": [
        "¿Qué pasa si no todos los productos tienen que pagar impuestos? ¿Qué pasa si el porcentaje de impuestos es diferente dependiendo del valor del producto (ej. 19% para productos de más de 10000 y 10% para productos de menos)? Para lograr representar estas situaciones también necesitamos usar instrucciones condicionales."
      ],
      "metadata": {
        "id": "965OgSwkFzWq"
      }
    },
    {
      "cell_type": "markdown",
      "source": [
        "# IF-ELSE"
      ],
      "metadata": {
        "id": "MDoGpKayGALA"
      }
    },
    {
      "cell_type": "markdown",
      "source": [
        "Veamos ahora cómo podemos usar esta estructura usando el ejemplo de la verificación de contraseña:"
      ],
      "metadata": {
        "id": "DEq3JvqLGk2_"
      }
    },
    {
      "cell_type": "code",
      "source": [
        "contrasena_almacenada = 'secreto'\n",
        "contrasena_ingresada = input('Ingrese su contraseña: ')\n",
        "\n",
        "if contrasena_almacenada == contrasena_ingresada:\n",
        "  mensaje = 'La contraseña es correcta.'\n",
        "else:\n",
        "  mensaje = 'La contraseña es incorrecta.'\n",
        "\n",
        "print(mensaje)"
      ],
      "metadata": {
        "colab": {
          "base_uri": "https://localhost:8080/"
        },
        "id": "_Z_PyoWOFxUQ",
        "outputId": "0f6b8ede-e236-41c2-f599-30f32977bfcd"
      },
      "execution_count": null,
      "outputs": [
        {
          "output_type": "stream",
          "name": "stdout",
          "text": [
            "Ingrese su contraseña: secreto\n",
            "La contraseña es correcta.\n"
          ]
        }
      ]
    },
    {
      "cell_type": "markdown",
      "source": [
        "Veamos ahora otras dos maneras en las que habríamos podido escribir el mismo programa.\n",
        "\n",
        "En la primera alternativa vamos a extraer la instrucción condicional y convertirla en una función que calcule el mensaje."
      ],
      "metadata": {
        "id": "CXIQoi0TH5YX"
      }
    },
    {
      "cell_type": "code",
      "source": [
        "def revisar(contrasena_almacenada: str, contrasena_ingresada: str)->str:\n",
        "    contrasena_correcta = contrasena_almacenada == contrasena_ingresada\n",
        "    \n",
        "    if contrasena_correcta:\n",
        "        mensaje = \"Su contraseña es correcta\"\n",
        "    else:\n",
        "        mensaje = \"La contraseña es incorrecta\"\n",
        "    return mensaje\n",
        "\n",
        "contrasena_almacenada = 'secreto'\n",
        "contrasena_ingresada = input(\"Ingrese su contraseña: \")\n",
        "mensaje = revisar(contrasena_almacenada, contrasena_ingresada)\n",
        "print(mensaje)"
      ],
      "metadata": {
        "colab": {
          "base_uri": "https://localhost:8080/"
        },
        "id": "8k8u0wiiG3jx",
        "outputId": "4f623804-25a0-4aff-afe3-1d6ef4469cb3"
      },
      "execution_count": null,
      "outputs": [
        {
          "output_type": "stream",
          "name": "stdout",
          "text": [
            "Ingrese su contraseña: aspirina\n",
            "La contraseña es incorrecta\n"
          ]
        }
      ]
    },
    {
      "cell_type": "markdown",
      "source": [
        "La siguiente es la segunda alternativa al código original: en este caso no hay una función adicional pero tampoco hay un else."
      ],
      "metadata": {
        "id": "HyDT2blHIy4D"
      }
    },
    {
      "cell_type": "code",
      "source": [
        "contrasena_almacenada = \"secreto\"\n",
        "contrasena_ingresada = input(\"Ingrese su contraseña:\")\n",
        "\n",
        "mensaje = \"La contraseña es incorrecta\"\n",
        "if contrasena_almacenada == contrasena_ingresada:\n",
        "    mensaje = \"Su contraseña es correcta\"\n",
        "\n",
        "print(mensaje)"
      ],
      "metadata": {
        "colab": {
          "base_uri": "https://localhost:8080/"
        },
        "id": "rWgP-hXlIKdo",
        "outputId": "072bcf7e-df47-4a07-9bb1-7620f65025e3"
      },
      "execution_count": null,
      "outputs": [
        {
          "output_type": "stream",
          "name": "stdout",
          "text": [
            "Ingrese su contraseña:1234\n",
            "La contraseña es incorrecta\n"
          ]
        }
      ]
    },
    {
      "cell_type": "markdown",
      "source": [
        "**-Actvidad: Queremos escribir una función que nos diga quién ganará en el lanzamiento de una moneda. Escriba una función que reciba el nombre de la persona que pidió ‘cara’, el nombre de la persona que pidió ‘sello’ y el resultado del lanzamiento (‘cara’ o ‘sello’) y responda con el nombre de la persona que haya acertado**"
      ],
      "metadata": {
        "id": "1wy2g7NQJKqi"
      }
    },
    {
      "cell_type": "code",
      "source": [
        "def lanzamiento(cara: str, sello: str, resultado: str)-> str:\n",
        "  if resultado == 'cara':\n",
        "    mensaje = 'El ganador es: ' + cara\n",
        "  else:\n",
        "    mensaje = 'El ganador es: ' + sello\n",
        "  return mensaje\n",
        "\n",
        "cara = input('Nombre de la persona que eligió cara: ')\n",
        "sello = input('Nombre de la persona que eligió sello: ')\n",
        "resultado = input('Resultado de la moneda: ')\n",
        "\n",
        "ganador = lanzamiento(cara, sello, resultado)\n",
        "print(ganador)"
      ],
      "metadata": {
        "colab": {
          "base_uri": "https://localhost:8080/"
        },
        "id": "nijf_ld1I1AT",
        "outputId": "5f439fc1-3600-41c4-9e2d-061924967fed"
      },
      "execution_count": null,
      "outputs": [
        {
          "output_type": "stream",
          "name": "stdout",
          "text": [
            "Nombre de la persona que eligió cara: Juanpa\n",
            "Nombre de la persona que eligió sello: Valen\n",
            "Resultado de la moneda: cara\n",
            "El ganador es: Juanpa\n"
          ]
        }
      ]
    },
    {
      "cell_type": "markdown",
      "source": [
        "Veamos un ejemplo de una instrucción que incluya varias condiciones. Suponga que las funciones longitud, tiene_numeros, tiene_minusculas, tiene_mayusculas y cambiar_contrasena ya están definidas en alguna otra parte del programa. El bloque condicional empieza con la palabra reservada if y una condición; de ahí en adelante, cada condición se acompaña de la palabra reservada elif. Al final encontramos un bloque ELSE que, como todos los bloques ELSE que hemos estudiado, incluye la palabra else pero no tiene una condición asociada."
      ],
      "metadata": {
        "id": "vtU1bFdgQ94i"
      }
    },
    {
      "cell_type": "code",
      "source": [
        "nueva = input(\"Introduzca su nueva contraseña:\")\n",
        "\n",
        "if longitud(nueva) < 8:\n",
        "    mensaje = \"La nueva contraseña debe tener al menos 8 caracteres\"\n",
        "    \n",
        "elif nueva == contrasena_anterior:\n",
        "    mensaje = \"La nueva contraseña no puede ser igual a la anterior\"\n",
        "\n",
        "elif nueva.isalnum():\n",
        "    mensaje = \"La nueva contraseña debe tener signos de puntuación\"\n",
        "    \n",
        "elif not tiene_numeros(nueva):\n",
        "    mensaje = \"La nueva contraseña debe tener al menos un número\"\n",
        "\n",
        "elif not tiene_mayusculas(nueva):\n",
        "    mensaje = \"La nueva contraseña debe tener al menos una letra mayúscula\"\n",
        "\n",
        "elif not tiene_minúsculas(nueva):\n",
        "    mensaje = \"La nueva contraseña debe tener al menos una letra minúscula\"\n",
        "\n",
        "else:\n",
        "    cambiar_contrasena(nueva)\n",
        "    mensaje = \"La contraseña se cambió exitosamente\"\n",
        "\n",
        "print(mensaje)"
      ],
      "metadata": {
        "id": "az9exRQCKlDg"
      },
      "execution_count": null,
      "outputs": []
    },
    {
      "cell_type": "markdown",
      "source": [
        "Suponga ahora que queremos cambiar nuestro programa para que al usuario no se le informe sólo el primer problema que se encuentre con su nueva contraseña, sino que se le digan de una vez todos los problemas que tenga. En este caso la estructura basada en IF-ELIF-ELSE ya no nos sirve porque necesitamos que siempre se verifiquen todas las condiciones.\n",
        "\n",
        "Para lograr que esto pase, lo único que podemos hacer es separar las condiciones en instrucciones diferentes, asegurando así que todas sean verificadas. Es decir que, en lugar de tener un IF seguido de varios ELIF, en los cuales sólo 1 condición puede ser cierta a la vez, vamos a tener varios IF totalmente desconectados. Observe esto en la siguiente versión de nuestro programa:"
      ],
      "metadata": {
        "id": "J1vKK30LRDgb"
      }
    },
    {
      "cell_type": "code",
      "source": [
        "nueva = input(\"Introduzca su nueva contraseña:\")\n",
        "contrasena_correcta = True\n",
        "mensaje = \"\"\n",
        "\n",
        "if longitud(nueva) < 8:\n",
        "    contrasena_correcta = False\n",
        "    mensaje += \"La nueva contraseña debe tener al menos 8 caracteres\" + \"\\n\"\n",
        "    \n",
        "if nueva == contrasena_anterior:\n",
        "    contrasena_correcta = False\n",
        "    mensaje += \"La nueva contraseña no puede ser igual a la anterior\" + \"\\n\"\n",
        "\n",
        "if nueva.isalnum():\n",
        "    contrasena_correcta = False\n",
        "    mensaje += \"La nueva contraseña debe tener signos de puntuación\" + \"\\n\"\n",
        "    \n",
        "if not tiene_numeros(nueva):\n",
        "    contrasena_correcta = False\n",
        "    mensaje += \"La nueva contraseña debe tener al menos un número\" + \"\\n\"\n",
        "\n",
        "if not tiene_mayusculas(nueva):\n",
        "    contrasena_correcta = False\n",
        "    mensaje += \"La nueva contraseña debe tener al menos una letra mayúscula\" + \"\\n\"\n",
        "\n",
        "if not tiene_minúsculas(nueva):\n",
        "    contrasena_correcta = False\n",
        "    mensaje += \"La nueva contraseña debe tener al menos una letra minúscula\" + \"\\n\"\n",
        "\n",
        "if contrasena_correcta:\n",
        "    cambiar_contrasena(nueva)\n",
        "    mensaje = \"La contraseña se cambió exitosamente\"\n",
        "\n",
        "print(mensaje)"
      ],
      "metadata": {
        "id": "ntFeCx80RAqC"
      },
      "execution_count": null,
      "outputs": []
    },
    {
      "cell_type": "markdown",
      "source": [
        "**-Actividad: El valor de un peaje depende del tipo de vehículo (categoría) que pase y de la cantidad de ejes que tenga: automóviles, camionetas y camperos (AUTO) deben pagar 10000; buses y busetas (BUS), 14300; camiones grandes de 2 ejes (CAMION), 16000; camiones de 3 y 4 ejes (CAMION), 28100; camiones de 5 ejes (CAMION), 37700; y camiones de 6 o más ejes (CAMION) deben pagar 41400. Adicionalmente, un vehículo podría tener un descuento especial del 15% por paso frecuente. Escriba una función que reciba el tipo de un vehículo (‘AUTO’, ‘BUS’ o ‘CAMION’) y si tiene descuento especial y calcule el valor que debe pagar en el peaje.**\n",
        "\n"
      ],
      "metadata": {
        "id": "EEHnOAe4H1eV"
      }
    },
    {
      "cell_type": "code",
      "source": [
        "#Curso de programación en Python\n",
        "\n",
        "def tipo_vehiculo(vehiculo: str, descuento: str)-> str:\n",
        "  if vehiculo == 'AUTO' and descuento == 'SI':\n",
        "    mensaje = 'El valor de su peaje es ' + str(10000 - 10000*0.15) + ' COP'\n",
        "  elif vehiculo == 'AUTO' and descuento == 'NO':\n",
        "    mensaje = 'El valor de su peaje es 10000 COP'\n",
        "\n",
        "  elif vehiculo == 'BUS' and descuento == 'SI':\n",
        "    mensaje = 'El valor de su peaje es ' + str(14300 - 14300*0.15) + ' COP'\n",
        "  elif vehiculo == 'BUS' and descuento == 'NO':\n",
        "    mensaje = 'El valor de su peaje es 14300'\n",
        "\n",
        "  elif vehiculo == 'CAMION' and descuento == 'SI':\n",
        "    mensaje = 'El valor de su peaje es ' + str(16000 - 16000*0.15) + ' COP'\n",
        "  elif vehiculo == 'CAMION' and descuento == 'NO':\n",
        "    mensaje = 'El valor de su peaje es 16000 COP'\n",
        "  return mensaje\n",
        "\n",
        "vehiculo = input('Ingrese su tipo de vehiculo en mayúsculas y sin acentuación (AUTO, BUS, CAMION): ')\n",
        "descuento = input('Ingrese SI, si cuenta con algún tipo de descuento por ser un vehiculo reccurente, de lo contrario ingrese NO: ')\n",
        "peaje = tipo_vehiculo(vehiculo, descuento)\n",
        "\n",
        "print(peaje)\n"
      ],
      "metadata": {
        "colab": {
          "base_uri": "https://localhost:8080/"
        },
        "id": "UoI4_KHlIblb",
        "outputId": "2ba9d95a-510f-4eca-a83e-e225d777b0a4"
      },
      "execution_count": null,
      "outputs": [
        {
          "output_type": "stream",
          "name": "stdout",
          "text": [
            "Ingrese su tipo de vehiculo en mayúsculas y sin acentuación (AUTO, BUS, CAMION): BUS\n",
            "Ingrese SI, si cuenta con algún tipo de descuento por ser un vehiculo reccurente, de lo contrario ingrese NO: SI\n",
            "El valor de su peaje es 12155.0 COP\n"
          ]
        }
      ]
    },
    {
      "cell_type": "markdown",
      "source": [
        "# Condicionales anidados"
      ],
      "metadata": {
        "id": "y9d8M8NnddwI"
      }
    },
    {
      "cell_type": "markdown",
      "source": [
        "Como hemos visto con algunos de los ejemplos anteriores, usualmente el mismo problema puede resolverse correctamente usando estructuras diferentes. A continuación exploramos cuatro formas de resolver el mismo problema: queremos saber si un número es positivo y además es menor de 10.\n",
        "\n"
      ],
      "metadata": {
        "id": "pvOn_EjEfT_L"
      }
    },
    {
      "cell_type": "markdown",
      "source": [
        "El siguiente bloque muestra la definición de una función que resuelve el problema utilizando condicionales anidados:"
      ],
      "metadata": {
        "id": "P4iVnZdvgE5Z"
      }
    },
    {
      "cell_type": "code",
      "source": [
        "def es_positivo_de_un_solo_digito_v1(x: int)-> bool:\n",
        "  if x > 0:\n",
        "    if x < 10:\n",
        "      return True\n",
        "    else:\n",
        "      return False\n",
        "  else:\n",
        "    return False\n",
        "\n",
        "positivo = int(input('Digite un número entero: '))\n",
        "resultado = es_positivo_de_un_solo_digito_v1(positivo)\n",
        "print(resultado)"
      ],
      "metadata": {
        "colab": {
          "base_uri": "https://localhost:8080/"
        },
        "id": "5gfrBnm4Qq8W",
        "outputId": "964f2f89-d215-434d-fcb8-eda892707730"
      },
      "execution_count": null,
      "outputs": [
        {
          "output_type": "stream",
          "name": "stdout",
          "text": [
            "Digite un número entero: 11\n",
            "False\n"
          ]
        }
      ]
    },
    {
      "cell_type": "markdown",
      "source": [
        "Llamamos condicional anidado a la situación en la cual hay una instrucción condicional dentro del cuerpo de otra instrucción condicional."
      ],
      "metadata": {
        "id": "pstMkbxzg_gT"
      }
    },
    {
      "cell_type": "markdown",
      "source": [
        "Sin embargo, este ejemplo podría simplificarse un poco si se analizan las condiciones que llevan al único caso en que se retorna True en esta función: para que se pueda llegar a este punto es necesario que las dos condiciones sean verdaderas simultáneamente, es decir que x > 0 y x < 10. En todos los otros casos, la función debería retornar False.\n",
        "\n",
        "Si llevamos eso en al código llegamos a la segunda versión de la función:"
      ],
      "metadata": {
        "id": "EWwUvY8-hP9a"
      }
    },
    {
      "cell_type": "code",
      "source": [
        "def es_positivo_de_un_solo_digito_v2(x: int)-> bool:\n",
        "  if x > 0 and x < 10:\n",
        "    return True\n",
        "  else:\n",
        "    return False\n",
        "\n",
        "positivo = int(input('Digite un número entero: '))\n",
        "resultado = es_positivo_de_un_solo_digito_v2(positivo)\n",
        "print(resultado)"
      ],
      "metadata": {
        "colab": {
          "base_uri": "https://localhost:8080/"
        },
        "id": "XxXiZp5WguaY",
        "outputId": "42d9e229-9dbc-42b1-9062-0c6197e16349"
      },
      "execution_count": null,
      "outputs": [
        {
          "output_type": "stream",
          "name": "stdout",
          "text": [
            "Digite un número entero: 11\n",
            "False\n"
          ]
        }
      ]
    },
    {
      "cell_type": "markdown",
      "source": [
        "A pesar de sus diferencias, los dos ejemplos anteriores coinciden en un aspecto: tan pronto encuentran la respuesta, retornan verdadero o falso y terminan la ejecución de la función. Aunque esto no está necesariamente mal, una práctica que suele hacer el código más fácil de entender y por ende mucho más mantenible, es limitar la cantidad de puntos en los cuales se utilice la instrucción return. Por ejemplo, la última versión de la función puede remplazarse por la siguiente versión remplazando los return por asignaciones a una variable y dejando sólo un return al final de la función."
      ],
      "metadata": {
        "id": "Nz3kgto2h67a"
      }
    },
    {
      "cell_type": "code",
      "source": [
        "def es_positivo_de_un_solo_digito_v3(x: int)-> bool:\n",
        "  resultado = False\n",
        "  if x > 0 and x < 10:\n",
        "    resultado = True\n",
        "  return resultado\n",
        "\n",
        "positivo = int(input('Digite un número entero: '))\n",
        "result = es_positivo_de_un_solo_digito_v2(positivo)\n",
        "print(result)"
      ],
      "metadata": {
        "colab": {
          "base_uri": "https://localhost:8080/"
        },
        "id": "iygV1qZchiyJ",
        "outputId": "769bdd8e-5815-44d6-9bf9-5719b184bd82"
      },
      "execution_count": null,
      "outputs": [
        {
          "output_type": "stream",
          "name": "stdout",
          "text": [
            "Digite un número entero: 11\n",
            "False\n"
          ]
        }
      ]
    },
    {
      "cell_type": "markdown",
      "source": [
        "En varios casos, incluyendo el que hemos estado trabajando, existen formas de remplazar las instrucciones condicionales por expresiones booleanas. Eso es lo que hemos hecho en la cuarta y última versión de la función: en lugar de calcular un resultado y luego retornarlo, acá el valor mismo de la expresión es el retorno de la función."
      ],
      "metadata": {
        "id": "5T2WflbVjDk1"
      }
    },
    {
      "cell_type": "code",
      "source": [
        "def es_positivo_de_un_solo_digito_v4(x: int)-> bool:\n",
        "  return x > 0 and x < 10\n",
        "\n",
        "positivo = int(input('Digite un número entero: '))\n",
        "result = es_positivo_de_un_solo_digito_v2(positivo)\n",
        "print(result)"
      ],
      "metadata": {
        "colab": {
          "base_uri": "https://localhost:8080/"
        },
        "id": "1ETJ4pD4iMYM",
        "outputId": "39ac0e8a-8eee-4a49-dac3-25f3e15d8e43"
      },
      "execution_count": null,
      "outputs": [
        {
          "output_type": "stream",
          "name": "stdout",
          "text": [
            "Digite un número entero: 11\n",
            "False\n"
          ]
        }
      ]
    },
    {
      "cell_type": "markdown",
      "source": [
        "**Caso de estudio: el mayor de 4 números**"
      ],
      "metadata": {
        "id": "w3f0UyQqjoLh"
      }
    },
    {
      "cell_type": "markdown",
      "source": [
        "En esta sección vamos a estudiar un problema recurrente y muy importante que debe resolverse utilizando instrucciones condicionales, pero puede resolverse de maneras diferentes. Empezaremos planteándole el problema para que usted lo resuelva y luego pasaremos a discutir nuestras alternativas de solución. Esperamos que usted vaya comparando nuestras soluciones con la suya.\n",
        "\n"
      ],
      "metadata": {
        "id": "4zG0O9HejxGv"
      }
    },
    {
      "cell_type": "markdown",
      "source": [
        "Escriba una función que reciba por parámetro cuatro números enteros y devuelva el mayor de estos. Si hay dos o más iguales y mayores, retorna cualquiera de estos"
      ],
      "metadata": {
        "id": "LZ4ItDonkGc4"
      }
    },
    {
      "cell_type": "code",
      "source": [
        "#Curso de programación en Python\n",
        "\n",
        "def mayor(a: int, b: int, c: int, d: int)-> str:\n",
        "  if a >= b and a >= c and a >= d:\n",
        "    mensaje = 'El mayor de los cuatro números es ' + str(a) \n",
        "  elif b >= a and b >= c and b >= d:\n",
        "    mensaje = 'El mayor de los cuatro números es ' + str(b)\n",
        "  elif c >= d:\n",
        "    mensaje = 'El mayor de los cuatro números es ' + str(c)\n",
        "  else:\n",
        "    mensaje = 'El mayor de los cuatro números es ' + str(d)\n",
        "  return mensaje\n",
        "\n",
        "a = int(input('a: '))\n",
        "b = int(input('b: '))\n",
        "c = int(input('c: '))\n",
        "d = int(input('d: '))\n",
        "mayor_numero = mayor(a, b, c, d)\n",
        "print(mayor_numero)\n"
      ],
      "metadata": {
        "colab": {
          "base_uri": "https://localhost:8080/"
        },
        "id": "7O6ivxr_jO7c",
        "outputId": "37135101-72b2-429b-ad07-b28ec826d2f2"
      },
      "execution_count": null,
      "outputs": [
        {
          "output_type": "stream",
          "name": "stdout",
          "text": [
            "a: 11\n",
            "b: 22\n",
            "c: 34\n",
            "d: 12\n",
            "El mayor de los cuatro números es 34\n"
          ]
        }
      ]
    },
    {
      "cell_type": "markdown",
      "source": [
        "Alternativas de solución:\n",
        "\n",
        "Primer alternativa: múltiples returns"
      ],
      "metadata": {
        "id": "R4ytCU-snaLD"
      }
    },
    {
      "cell_type": "code",
      "source": [
        "def mayor(a: int, b: int, c: int, d: int)-> int:\n",
        "  if (a >= b) and (a >= c) and (a >= d):\n",
        "    return a\n",
        "  elif (b >= a) and (b >= c) and (b >= d):\n",
        "    return b\n",
        "  elif (c >= 1) and (c >= b) and (c >= d):\n",
        "    return c\n",
        "  else:\n",
        "    return d\n",
        "\n",
        "a = int(input('a: '))\n",
        "b = int(input('b: '))\n",
        "c = int(input('c: '))\n",
        "d = int(input('d: '))\n",
        "mayor_numero = mayor(a, b, c, d)\n",
        "print(mayor_numero)"
      ],
      "metadata": {
        "colab": {
          "base_uri": "https://localhost:8080/"
        },
        "id": "pm_NvaCKmCJP",
        "outputId": "0d350cd8-df9d-4ec1-864f-7fc1642243b6"
      },
      "execution_count": null,
      "outputs": [
        {
          "output_type": "stream",
          "name": "stdout",
          "text": [
            "a: 11\n",
            "b: 24\n",
            "c: 32\n",
            "d: 18\n",
            "32\n"
          ]
        }
      ]
    },
    {
      "cell_type": "markdown",
      "source": [
        "Segunda alternativa: un solo return"
      ],
      "metadata": {
        "id": "LGoXUExVpDnO"
      }
    },
    {
      "cell_type": "code",
      "source": [
        "def mayor(a: int, b: int, c:int, d:int)->int:\n",
        "    if (a >= b) and (a >= c) and (a >= d):\n",
        "        mayor = a\n",
        "    elif (b >= a) and (b >= c) and (b >= d):\n",
        "        mayor = b\n",
        "    elif (c >= 1) and (c >= b) and (c >= d):\n",
        "        mayor = c\n",
        "    else:\n",
        "        mayor = d\n",
        "\n",
        "    return mayor\n",
        "\n",
        "a = int(input('a: '))\n",
        "b = int(input('b: '))\n",
        "c = int(input('c: '))\n",
        "d = int(input('d: '))\n",
        "mayor_numero = mayor(a, b, c, d)\n",
        "print(mayor_numero)"
      ],
      "metadata": {
        "colab": {
          "base_uri": "https://localhost:8080/"
        },
        "id": "hC34fwgmo0VS",
        "outputId": "258a5d0c-fdb0-48e8-fb26-536477ccb187"
      },
      "execution_count": null,
      "outputs": [
        {
          "output_type": "stream",
          "name": "stdout",
          "text": [
            "a: 12\n",
            "b: 52\n",
            "c: 40\n",
            "d: 5\n",
            "52\n"
          ]
        }
      ]
    },
    {
      "cell_type": "markdown",
      "source": [
        "Tercera alternativa: aproximación algorítmica"
      ],
      "metadata": {
        "id": "woF4ntEhpVEt"
      }
    },
    {
      "cell_type": "code",
      "source": [
        "def mayor(a: int, b: int, c: int, d: int)-> int:\n",
        "  mayor = a\n",
        "  if (b > a):\n",
        "    mayor = b\n",
        "  if (c > mayor):\n",
        "    mayor = c\n",
        "  if (d > mayor):\n",
        "    mayor = d\n",
        "  return mayor\n",
        "\n",
        "a = int(input('a: '))\n",
        "b = int(input('b: '))\n",
        "c = int(input('c: '))\n",
        "d = int(input('d: '))\n",
        "mayor_numero = mayor(a, b, c, d)\n",
        "print(mayor_numero)"
      ],
      "metadata": {
        "colab": {
          "base_uri": "https://localhost:8080/"
        },
        "id": "iEbo1caXpNmt",
        "outputId": "617481e0-e335-45d1-848f-d76dd15983b6"
      },
      "execution_count": null,
      "outputs": [
        {
          "output_type": "stream",
          "name": "stdout",
          "text": [
            "a: 4\n",
            "b: 7\n",
            "c: 9\n",
            "d: 3\n",
            "9\n"
          ]
        }
      ]
    },
    {
      "cell_type": "markdown",
      "source": [
        "**RETO 1: Modularidad**\n"
      ],
      "metadata": {
        "id": "kG-SoKDbEGQF"
      }
    },
    {
      "cell_type": "markdown",
      "source": [
        "Escriba una función que reciba dos números enteros n y d y determine si n es divisible por 2d, si n es divisible por d, o si n no es divisible ni por d ni por 2d."
      ],
      "metadata": {
        "id": "I45aM3q8EKh7"
      }
    },
    {
      "cell_type": "code",
      "source": [
        "#Curso de programación en python\n",
        "#RETO 1: Modularidad\n",
        "\n",
        "def modularidad(n: int, d: int)-> int:\n",
        "  \"\"\"\n",
        "  Si el número n es divisible por 2d, retorna 2. Si el número n es divisible entre d pero no entre 2d, retorna 1. De lo contrario, retorna 0.\n",
        "  \"\"\"\n",
        "  retorno = 0\n",
        "  if n % (2*d) == 0:\n",
        "    retorno = 2\n",
        "  if n % d == 0 and not n % (2*d) == 0:\n",
        "    retorno = 1\n",
        "  return retorno\n",
        "\n",
        "n = int(input('Número n: '))\n",
        "d = int(input('Número d: '))\n",
        "modulo = modularidad(n, d)\n",
        "print(modulo)\n"
      ],
      "metadata": {
        "id": "RnxyR8zG362e",
        "colab": {
          "base_uri": "https://localhost:8080/"
        },
        "outputId": "471a0196-2df7-4edd-ff29-1df23f5c5ec3"
      },
      "execution_count": null,
      "outputs": [
        {
          "output_type": "stream",
          "name": "stdout",
          "text": [
            "Número n: 32\n",
            "Número d: 4\n",
            "2\n"
          ]
        }
      ]
    },
    {
      "cell_type": "markdown",
      "source": [
        "**Leyes de Morgan**"
      ],
      "metadata": {
        "id": "trfxPtuBJFP8"
      }
    },
    {
      "cell_type": "code",
      "source": [
        "x = True\n",
        "y = False\n",
        "not (x and y) == (not x) or (not y)"
      ],
      "metadata": {
        "colab": {
          "base_uri": "https://localhost:8080/"
        },
        "id": "CrL2agMvGvpx",
        "outputId": "ff3ad486-7b5b-4781-c8f1-98e08d4bb952"
      },
      "execution_count": null,
      "outputs": [
        {
          "output_type": "execute_result",
          "data": {
            "text/plain": [
              "True"
            ]
          },
          "metadata": {},
          "execution_count": 17
        }
      ]
    },
    {
      "cell_type": "code",
      "source": [
        "x = True\n",
        "y = False\n",
        "not (x or y) == (not x) and (not y)"
      ],
      "metadata": {
        "colab": {
          "base_uri": "https://localhost:8080/"
        },
        "id": "V8RZz0iaJUf3",
        "outputId": "3ed2b736-05c3-4bba-c0b9-26416c2f8a24"
      },
      "execution_count": null,
      "outputs": [
        {
          "output_type": "execute_result",
          "data": {
            "text/plain": [
              "True"
            ]
          },
          "metadata": {},
          "execution_count": 21
        }
      ]
    },
    {
      "cell_type": "markdown",
      "source": [
        "EJEMPLO: Supongamos que tenemos un juego donde solo se puede matar a un dragón si nuestro sable de luz mágica tiene 90% o más de batería y tenemos 100 o más puntos de escudo protector. Escribamos la función."
      ],
      "metadata": {
        "id": "waKwYZ9uJ2d_"
      }
    },
    {
      "cell_type": "code",
      "source": [
        "def mission_dragon(carga_sable: int, carga_escudo: int)-> None:\n",
        "  if not ((carga_sable >= 90) and (carga_escudo >=100)):\n",
        "    print('Tu ataque no tiene efecto, el dragón te va a freir hasta dejarte crujiente.')\n",
        "  else:\n",
        "    print('Has logrado arrugar al dragón. ¡Puedes rescatar a la princesa!')\n",
        "x = mission_dragon(200, 100)\n",
        "print(x)"
      ],
      "metadata": {
        "colab": {
          "base_uri": "https://localhost:8080/"
        },
        "id": "sReqjdgUJfhL",
        "outputId": "d53b6050-27c1-4e4c-d312-8444c7e36391"
      },
      "execution_count": null,
      "outputs": [
        {
          "output_type": "stream",
          "name": "stdout",
          "text": [
            "Has logrado arrugar al dragón. ¡Puedes rescatar a la princesa!\n",
            "None\n"
          ]
        }
      ]
    },
    {
      "cell_type": "markdown",
      "source": [
        "Veamos el equivalente según las leyes de Morgan:"
      ],
      "metadata": {
        "id": "AliycLIeLK_9"
      }
    },
    {
      "cell_type": "code",
      "source": [
        "def mission_dragon(carga_sable: int, carga_escudo: int)-> None:\n",
        "  if (carga_sable < 90) or (carga_escudo < 100):\n",
        "    print('Tu ataque no tiene efecto, el dragón te va a freir hasta dejarte crujiente.')\n",
        "  else:\n",
        "    print('Has logrado arrugar al dragón. ¡Puedes rescatar a la princesa!')\n",
        "x = mission_dragon(200, 100)\n",
        "print(x)"
      ],
      "metadata": {
        "colab": {
          "base_uri": "https://localhost:8080/"
        },
        "id": "5y7wqefzLDRT",
        "outputId": "106bd2bd-2ab3-4ae4-b289-6e28b33eaa8d"
      },
      "execution_count": null,
      "outputs": [
        {
          "output_type": "stream",
          "name": "stdout",
          "text": [
            "Has logrado arrugar al dragón. ¡Puedes rescatar a la princesa!\n",
            "None\n"
          ]
        }
      ]
    },
    {
      "cell_type": "markdown",
      "source": [
        "-Actividad: Escriba una función que reciba por parámetro tres puntos (parejas de coordenadas (x,y) de enteros) y retorne (True o False) si los tres están sobre una recta o no."
      ],
      "metadata": {
        "id": "kcD-IGvxO-UV"
      }
    },
    {
      "cell_type": "markdown",
      "source": [
        "Cuando tenemos tres puntos \"A\" de coordenadas (x1, y1), \"B\" de coordenadas (x2, y2) y \"C\" de coordenadas (x3, y3), estos están alineados, si los vectores formados por \"AB\" y \"BC\" tienen la misma dirección, cosa que ocurre cuando las pendientes de las rectas que forman dichos vectores son las mismas."
      ],
      "metadata": {
        "id": "eC_UityzRRWZ"
      }
    },
    {
      "cell_type": "code",
      "source": [
        "def vectores(x1: int, y1: int, x2: int, y2: int, x3: int, y3: int)-> bool:\n",
        "  resultado = False\n",
        "  pendiente1 = (y2 - y1) / (x2 - x1)\n",
        "  pendiente2 = (y3 - y2) / (x3 - x2)\n",
        "  if pendiente1 == pendiente2:\n",
        "    resultado = True\n",
        "  return resultado\n",
        "\n",
        "x1, y1 = int(input('x1: ')), int(input('y1: '))\n",
        "x2, y2 = int(input('x2: ')), int(input('y2: '))\n",
        "x3, y3 = int(input('x3: ')), int(input('y3: '))\n",
        "recta = vectores(x1, y1, x2, y2, x3, y3)\n",
        "print(recta)"
      ],
      "metadata": {
        "colab": {
          "base_uri": "https://localhost:8080/"
        },
        "id": "W0WhvWeSLs7W",
        "outputId": "42b06a56-8299-4ea6-c19f-ba99037a0108"
      },
      "execution_count": null,
      "outputs": [
        {
          "output_type": "stream",
          "name": "stdout",
          "text": [
            "x1: -5\n",
            "y1: 3\n",
            "x2: -1\n",
            "y2: -3\n",
            "x3: 1\n",
            "y3: -6\n",
            "True\n"
          ]
        }
      ]
    },
    {
      "cell_type": "markdown",
      "source": [
        "Una forma más óptima de hacerlo:"
      ],
      "metadata": {
        "id": "eA_zKG8RUA27"
      }
    },
    {
      "cell_type": "code",
      "source": [
        "def vectores_2(x1: int, y1: int, x2: int, y2: int, x3: int, y3: int)-> bool:\n",
        "  pendiente1 = (y2 - y1) / (x2 - x1)\n",
        "  pendiente2 = (y3 - y2) / (x3 - x2)\n",
        "  return pendiente1 == pendiente2\n",
        "\n",
        "x1, y1 = int(input('x1: ')), int(input('y1: '))\n",
        "x2, y2 = int(input('x2: ')), int(input('y2: '))\n",
        "x3, y3 = int(input('x3: ')), int(input('y3: '))\n",
        "recta = vectores_2(x1, y1, x2, y2, x3, y3)\n",
        "print(recta)"
      ],
      "metadata": {
        "colab": {
          "base_uri": "https://localhost:8080/"
        },
        "id": "EwOHbnOOSh6r",
        "outputId": "bd60e4d6-5206-4f0f-f220-36fa083e607a"
      },
      "execution_count": null,
      "outputs": [
        {
          "output_type": "stream",
          "name": "stdout",
          "text": [
            "x1: -5\n",
            "y1: 3\n",
            "x2: -1\n",
            "y2: -3\n",
            "x3: 1\n",
            "y3: -6\n",
            "True\n"
          ]
        }
      ]
    },
    {
      "cell_type": "markdown",
      "source": [
        "-Actividad: Precio pasaje Bogotá-Tokio"
      ],
      "metadata": {
        "id": "bPAJoXeFYMhO"
      }
    },
    {
      "cell_type": "code",
      "source": [
        "def calcular_precio_pasaje(temporada_alta: bool, compania: str, edad: int, estudiante: bool)-> int:\n",
        "  precio = 5000000\n",
        "  variaciones = 0\n",
        "  seguro = False\n",
        "\n",
        "  if compania == 'ALAS':\n",
        "    if temporada_alta:\n",
        "      variaciones += 0.3\n",
        "    else:\n",
        "      if edad >= 18 and estudiante:\n",
        "        variaciones -= 0.1\n",
        "\n",
        "  elif compania == 'VOLAR':\n",
        "    if temporada_alta:\n",
        "      variaciones += 0.2\n",
        "    if edad > 60:\n",
        "      seguro = True\n",
        "\n",
        "  if edad < 18:\n",
        "    variaciones -= 0.5\n",
        "\n",
        "  precio *= (1 + variaciones)\n",
        "\n",
        "  if seguro:\n",
        "    precio += 100000\n",
        "\n",
        "  return round(precio)\n",
        "\n",
        "temporada_alta = bool(int(input('¿Es temporada alta? Ingrese 1 para SI y 0 para NO: ')))\n",
        "compania = input('Ingrese la compañía por la que viajará: ')\n",
        "edad = int(input('Ingrese la edad de la persona: '))\n",
        "estudiante = bool(int(input('¿Es estudiante? Ingrese 1 para SI y 0 para NO: ')))\n",
        "\n",
        "tarifa = calcular_precio_pasaje(temporada_alta, compania, edad, estudiante)\n",
        "print('La tarifa del pasaje es de $'+ str(tarifa)+' COP')\n"
      ],
      "metadata": {
        "colab": {
          "base_uri": "https://localhost:8080/"
        },
        "id": "TnJo9vBqUagb",
        "outputId": "5dc758e8-570d-4f4f-f5ba-d7b3d3f3f346"
      },
      "execution_count": null,
      "outputs": [
        {
          "output_type": "stream",
          "name": "stdout",
          "text": [
            "¿Es temporada alta? Ingrese 1 para SI y 0 para NO: 0\n",
            "Ingrese la compañía por la que viajará: VOLAR\n",
            "Ingrese la edad de la persona: 30\n",
            "¿Es estudiante? Ingrese 1 para SI y 0 para NO: 0\n",
            "La tarifa del pasaje es de $5000000 COP\n"
          ]
        }
      ]
    },
    {
      "cell_type": "markdown",
      "source": [
        "**RETO 2: Regalo de Santa**"
      ],
      "metadata": {
        "id": "T7iTomipoepu"
      }
    },
    {
      "cell_type": "markdown",
      "source": [
        "En el taller de regalos de Santa Claus, el CTE (Chief Technology Elf) ha decidido implementar un nuevo sistema de clasificación de regalos, para facilitar su organización. Cada paquete tiene ahora un identificador numérico único. El identificador es un número entero entre 100 y 999, y sirve para clasificar los regalos de la siguiente manera.\n",
        "\n",
        "Si el número es palíndromo e impar, el regalo corresponde a una niña.\n",
        "\n",
        "Si el número es palíndromo y par, el regalo corresponde a un niño.\n",
        "\n",
        "Si el número es par pero no es palíndromo, el regalo corresponde a un hombre.\n",
        "\n",
        "Si el número es impar pero no es palíndromo, el regalo corresponde a una mujer.\n",
        "\n",
        "Escriba una función que ayude al CTE a calcular, dado un identificador único de regalo, a qué tipo de persona corresponde dicho regalo.\n",
        "\n"
      ],
      "metadata": {
        "id": "TZs_pxC-ohYv"
      }
    },
    {
      "cell_type": "code",
      "source": [
        "#Curso de programación en Python\n",
        "#RETO 2: Regalo de Santa\n",
        "\n",
        "def invertido(numero: int)-> str:\n",
        "  \"\"\"\n",
        "  Esta función tiene como entrada un número de 3 digitos y retorna como salida el mismo número de 3 digitos pero invertido\n",
        "  \"\"\"\n",
        "  unidades = numero % 10 \n",
        "  numero //= 10\n",
        "  decenas = numero % 10\n",
        "  numero //= 10\n",
        "  centenas = numero % 10\n",
        "  \n",
        "  capicua = str(unidades) + str(decenas) + str(centenas) \n",
        "  return capicua\n",
        "\n",
        "\n",
        "def clasificar_regalo(id: int)-> str:\n",
        "  \"\"\"\n",
        "  Esta función tiene como entrada el ID de un regalo de 3 digitos y según si es par, impar, palíndromo o no, clasifica el regalo. \n",
        "  Se utiliza la función \"invertido(numero)\".\n",
        "  \"\"\"\n",
        "  capicua = invertido(id)\n",
        "  capicua = int(capicua)\n",
        "  regalo = 'El regalo corresponde a una mujer' #Caso por defecto\n",
        "  if id == capicua: #Caso palíndromo\n",
        "    if id % 2 == 0: #Caso par y palíndromo\n",
        "      regalo = 'El regalo corresponde a un niño'\n",
        "    else:\n",
        "      if id % 1 == 0: #Caso impar y palíndromo\n",
        "        regalo = 'El regalo corresponde a una niña'\n",
        "      \n",
        "  elif id != capicua: #Caso no palíndromo\n",
        "    if id % 2 == 0: #Caso no palíndromo y par\n",
        "      regalo = 'El regalo corresponde a un hombre'\n",
        "      \n",
        "  return regalo\n",
        "\n",
        "x = int(input('Ingrese el ID del regalo: '))\n",
        "y = clasificar_regalo(x)\n",
        "print(y)"
      ],
      "metadata": {
        "colab": {
          "base_uri": "https://localhost:8080/"
        },
        "id": "T2Qondt2ac4Z",
        "outputId": "d7535af2-0b5e-4dfd-9bb1-a7453c643c74"
      },
      "execution_count": null,
      "outputs": [
        {
          "output_type": "stream",
          "name": "stdout",
          "text": [
            "Ingrese el ID del regalo: 731\n",
            "El regalo corresponde a una mujer\n"
          ]
        }
      ]
    },
    {
      "cell_type": "markdown",
      "source": [
        "**RETO 3: Movimiento robótico**"
      ],
      "metadata": {
        "id": "e4Pdc8VEy04x"
      }
    },
    {
      "cell_type": "markdown",
      "source": [
        "Usted quiere anticipar el movimiento del nuevo robot que recibió como regalo de cumpleaños. El robot tiene una brújula interna que le permite saber hacia qué punto cardinal está mirando actualmente: Norte, Sur, Este, u Oeste. Además, el robot tiene un control remoto que permite girarlo hacia la izquierda o la derecha, y también pedirle que dé media vuelta. Usted debe escribir una función que, dados 3 comandos que se envíen usando el control remoto, calcule la orientación final del robot.\n",
        "\n",
        "Nota: La representación de los puntos cardinales que llegan por parámetro es la siguiente:\n",
        "\n",
        "\"N\", para Norte.\n",
        "\n",
        "\"S\", para Sur.\n",
        "\n",
        "\"E\", para Este.\n",
        "\n",
        "\"W\", para Oeste.\n",
        "\n",
        "Las representaciones de los comandos del control remoto que llegan por parámetro son las siguientes:\n",
        "\n",
        "\"L\", para girar a la izquierda.\n",
        "\n",
        "\"R\", para girar a la derecha.\n",
        "\n",
        "\"H\", para dar media vuelta.\n",
        "\n",
        "\".\", para mantener la orientación actual.  "
      ],
      "metadata": {
        "id": "uDuJPAYay6Pb"
      }
    },
    {
      "cell_type": "code",
      "source": [
        "#Curso de programación en Python \n",
        "#RETO 3: Movimiento robótico\n",
        "def funcion_orientacion(orientacion_actual: str)-> int:\n",
        "  coordenadas = 0\n",
        "  if orientacion_actual == \"N\":\n",
        "    coordenadas = 90\n",
        "  elif orientacion_actual == \"S\":\n",
        "    coordenadas = 270\n",
        "  elif orientacion_actual == \"W\":\n",
        "    coordenadas = 180\n",
        "  elif orientacion_actual == \"E\":\n",
        "    coordenadas = 360\n",
        "  return coordenadas\n",
        "\n",
        "def funcion_grados(orientacion_actual: str, giro_1: str, giro_2: str, giro_3: str)-> int:\n",
        "  orientacion_inicial = funcion_orientacion(orientacion_actual)\n",
        "  conteo = 0\n",
        "  conteo += orientacion_inicial\n",
        "  #Giro 1\n",
        "  if giro_1 == \"L\":\n",
        "    conteo += 90\n",
        "  elif giro_1 == \"R\":\n",
        "    conteo += 90\n",
        "  elif giro_1 == \"H\":\n",
        "    conteo += 180\n",
        "  elif giro_1 == \".\":\n",
        "    conteo += 0\n",
        "\n",
        "  #Giro 2\n",
        "  if giro_2 == \"L\":\n",
        "    conteo += 90\n",
        "    #if giro_1 == \"H\":\n",
        "     #  conteo -= 180\n",
        "  elif giro_2 == \"R\":\n",
        "    conteo += 90\n",
        "    #if giro_1 == \"H\":\n",
        "     #  conteo -= 180 \n",
        "  elif giro_2 == \"H\":\n",
        "    conteo += 180\n",
        "    if giro_1 == \"H\":\n",
        "       conteo += 0 \n",
        "  elif giro_2 == \".\":\n",
        "    conteo += 0\n",
        "    \n",
        "  #Giro 3\n",
        "  if giro_3 == \"L\":\n",
        "    conteo += 90\n",
        "    #if giro_2 == \"H\":\n",
        "       #conteo -= 180\n",
        "  elif giro_3 == \"R\":\n",
        "    conteo += 90\n",
        "    #if giro_2 == \"H\":\n",
        "     #  conteo -= 180\n",
        "  elif giro_3 == \"H\":\n",
        "    conteo += 180\n",
        "    if giro_2 == \"H\":\n",
        "       conteo += 0\n",
        "  elif giro_3 == \".\":\n",
        "    conteo += 0\n",
        "  \n",
        "  return conteo\n",
        "\n",
        "def movimiento_robot(orientacion_actual: str, giro_1: str, giro_2: str, giro_3: str)-> str:\n",
        "  movimiento_clave = funcion_grados(orientacion_actual, giro_1, giro_2, giro_3)\n",
        "  orientador = funcion_orientacion(orientacion_actual)\n",
        "  movimiento_final = abs(movimiento_clave % 360)\n",
        "  \n",
        "  orientacion_robot = \"\"\n",
        "  if movimiento_final == 0:\n",
        "    orientacion_robot = \"E\"\n",
        "  elif movimiento_final == 90:\n",
        "    orientacion_robot = \"N\"\n",
        "  elif movimiento_final == 180:\n",
        "    orientacion_robot = \"W\"\n",
        "  elif movimiento_final == 270:\n",
        "    orientacion_robot = \"S\"\n",
        "\n",
        "  return orientacion_robot, movimiento_final\n",
        "\n",
        "\n",
        "orientacion_actual = input('Ingrese la orientación actual del robot: ')\n",
        "giro_1 = input('Primer giro del robot: ')\n",
        "giro_2 = input('Segundo giro del robot: ')\n",
        "giro_3 = input('Tercer giro del robot: ')\n",
        "\n",
        "\n",
        "a = funcion_grados(orientacion_actual, giro_1, giro_2, giro_3)\n",
        "b = funcion_orientacion(orientacion_actual)\n",
        "c = movimiento_robot(orientacion_actual, giro_1, giro_2, giro_3)\n",
        "print('Funcion grados: ', a)\n",
        "print('Funcion orientacion: ', b)\n",
        "print('Orientación final: ', c)"
      ],
      "metadata": {
        "colab": {
          "base_uri": "https://localhost:8080/"
        },
        "id": "3GH-BjsRy-3C",
        "outputId": "b7f1ef3b-8768-47dc-d9d7-24f28665f510"
      },
      "execution_count": null,
      "outputs": [
        {
          "output_type": "stream",
          "name": "stdout",
          "text": [
            "Ingrese la orientación actual del robot: N\n",
            "Primer giro del robot: H\n",
            "Segundo giro del robot: H\n",
            "Tercer giro del robot: R\n",
            "Funcion grados:  540\n",
            "Funcion orientacion:  90\n",
            "Orientación final:  ('W', 180)\n"
          ]
        }
      ]
    },
    {
      "cell_type": "markdown",
      "source": [
        "**-Actividad: La calificación final de un estudiante en un curso depende de las calificaciones que obtenga en 3 exámenes, pero con unas reglas especiales. Si el estudiante sacó más de 4.0 sobre 5.00 en el tercer examen (el examen final), la nota en el curso será la nota del examen final. Si el estudiante saca menos de 2.0 en el examen final, ese examen valdrá el 50% de la nota y los otros dos exámenes valdrán el 25% cada uno. En cualquier otro caso, los exámenes pesarán lo mismo para calcular la nota final. Escriba una función que dadas las notas de los tres exámenes calcule la nota del estudiante en el curso.**"
      ],
      "metadata": {
        "id": "JNXUZjQRYB1Q"
      }
    },
    {
      "cell_type": "code",
      "source": [
        "def calificacion_final(nota1: float, nota2: float, nota3: float)-> float:\n",
        "  nota_final = (nota1 + nota2 + nota3) / 3\n",
        "\n",
        "  if (nota3 > 4.0):\n",
        "    nota_final = nota3\n",
        "  if (nota3 < 2.0):\n",
        "    nota_final = (nota1 * 0.25) + (nota2 * 0.25) + (nota3 * 0.5)\n",
        "  return nota_final\n",
        "\n",
        "nota1 = float(input('Nota 1: '))\n",
        "nota2 = float(input('Nota 2: '))\n",
        "nota3 = float(input('Examen final: '))\n",
        "calificacion = calificacion_final(nota1, nota2, nota3)\n",
        "print('La nota final del curso es: ', calificacion)"
      ],
      "metadata": {
        "colab": {
          "base_uri": "https://localhost:8080/"
        },
        "id": "fr4caumEYGMT",
        "outputId": "f4163568-e6c9-47be-b659-6e1559c8ae1a"
      },
      "execution_count": null,
      "outputs": [
        {
          "output_type": "stream",
          "name": "stdout",
          "text": [
            "Nota 1: 4.7\n",
            "Nota 2: 4.2\n",
            "Examen final: 1.8\n",
            "La nota final del curso es:  3.125\n"
          ]
        }
      ]
    },
    {
      "cell_type": "markdown",
      "source": [
        "-Actividad: En muchos torneos de fútbol es usual que dos equipos jueguen dos partidos para definir cuál es el mejor de ellos: uno en el estadio del primer equipo y otro en el estadio del segundo equipo. También es usual que, en caso de empate en la cantidad de partidos ganados, los goles de los equipos visitantes cuenten por dos al momento de calcular la diferencia de goles. Escriba una función para calcular el ganador entre dos equipos. La función debe recibir el nombre del primer equipo (A), el nombre del segundo equipo (B), los goles que hizo A de local, los goles que hizo B de visitante, los goles que hizo A de visitante y los goles que hizo B de local. La función debe retornar el nombre del ganador de la serie o la cadena “EMPATE” si hubo un empate entre los equipos."
      ],
      "metadata": {
        "id": "YTgI6pEucVOd"
      }
    },
    {
      "cell_type": "code",
      "source": [
        "def ganador_futbol(equipo_a: str, equipo_b: str, local_A: int, local_B: int, visitante_A: int, visitante_B: int)-> str:\n",
        "  g_totalA = local_A + visitante_A\n",
        "  g_totalB = local_B + visitante_B\n",
        "  ganador = \"Gana el equipo \" + equipo_b\n",
        "\n",
        "  if g_totalA > g_totalB:\n",
        "    ganador = \"Gana el equipo \" + equipo_a\n",
        "  elif g_totalA == g_totalB:\n",
        "    g_totalA = local_A + (visitante_A * 2)\n",
        "    g_totalB = local_B + (visitante_B * 2)\n",
        "    if g_totalA > g_totalB:\n",
        "      ganador = \"Gana el equipo \" + equipo_a + \" por mayor cantidad de goles como visitante\" \n",
        "    elif g_totalA < g_totalB:\n",
        "      ganador = \"Gana el equipo \" + equipo_b + \" por mayor cantidad de goles como visitante\"\n",
        "    else:\n",
        "      ganador = \"EMPATE\"\n",
        "\n",
        "  return ganador\n",
        "\n",
        "equipo_a = input('Nombre del primer equipo: ')\n",
        "equipo_b = input('Nombre del segundo equipo: ')\n",
        "local_A = int(input('Goles del primer equipo como local: '))\n",
        "local_B = int(input('Goles del segundo equipo como local: '))\n",
        "visitante_A = int(input('Goles del primer equipo como visitante: '))\n",
        "visitante_B = int(input('Goles del segundo equipo como visitante: '))\n",
        "gana_campeonato = ganador_futbol(equipo_a, equipo_b, local_A, local_B, visitante_A, visitante_B)\n",
        "print(gana_campeonato)"
      ],
      "metadata": {
        "colab": {
          "base_uri": "https://localhost:8080/"
        },
        "id": "4m-92tL8hnJz",
        "outputId": "7f1fd3a1-ed9f-4583-e26c-0b159dc7ad2d"
      },
      "execution_count": null,
      "outputs": [
        {
          "output_type": "stream",
          "name": "stdout",
          "text": [
            "Nombre del primer equipo: Los Aguis\n",
            "Nombre del segundo equipo: Los Harrys\n",
            "Goles del primer equipo como local: 25\n",
            "Goles del segundo equipo como local: 22\n",
            "Goles del primer equipo como visitante: 5\n",
            "Goles del segundo equipo como visitante: 8\n",
            "Gana el equipo Los Harrys por mayor cantidad de goles como visitante\n"
          ]
        }
      ]
    },
    {
      "cell_type": "markdown",
      "source": [
        "-Actividad: Las denominaciones de las monedas actualmente disponibles en un país son: 20, 50, 100, 200, 500 y 1000. Escriba una función que reciba la cantidad de monedas de cada denominación que tiene una persona y el valor de un producto y le diga si es posible pagar el producto con el dinero en efectivo que tiene. Ayuda: tiene que revisar si tiene suficiente dinero y, si tiene más de lo necesario, si es posible que le den el cambio con las denominaciones de monedas que se encuentran en circulación."
      ],
      "metadata": {
        "id": "NeUbScwNypAt"
      }
    },
    {
      "cell_type": "code",
      "source": [
        "def cantidad_monedas(valor_producto: int, veinte: int, cincuenta: int, cien: int, doscientos: int, quinientos: int, mil: int)-> str:\n",
        "  monedas = (veinte*20) + (cincuenta*50) + (cien*100) + (doscientos*200) * (quinientos*500) + (mil*1000)\n",
        "  mensaje = \"No tiene suficiente efectivo.\"\n",
        "  if monedas >= valor_producto:\n",
        "    mensaje = \"Es posible pagar el producto.\"  \n",
        "    if monedas > valor_producto:\n",
        "      mensaje = \"No se puede dar un cambio con las monedas actuales.\"\n",
        "      if monedas % 20 == 0 or monedas % 50 == 0 or monedas % 100 == 0 or monedas % 200 == 0 or monedas % 500 == 0 or monedas % 1000 == 0:\n",
        "        mensaje = \"Es posible asignar un cambio con las monedas actuales.\"\n",
        "      \n",
        "  return mensaje\n",
        "\n",
        "valor_producto = int(input('Ingrese el valor del producto: '))\n",
        "veinte = int(input('¿Qué cantidad de monedas de 20 tiene? '))\n",
        "cincuenta = int(input('¿Qué cantidad de monedas de 50 tiene? '))\n",
        "cien = int(input('¿Qué cantidad de monedas de 100 tiene? '))\n",
        "doscientos = int(input('¿Qué cantidad de monedas de 200 tiene? '))\n",
        "quinientos = int(input('¿Qué cantidad de monedas de 500 tiene? '))\n",
        "mil = int(input('¿Qué cantidad de monedas de 1000 tiene? '))\n",
        "\n",
        "respuesta = cantidad_monedas(valor_producto, veinte, cincuenta, cien, doscientos, quinientos, mil)\n",
        "print(respuesta)"
      ],
      "metadata": {
        "id": "7fpFVq0cpmpX",
        "colab": {
          "base_uri": "https://localhost:8080/"
        },
        "outputId": "bf624986-3dd9-4580-c8ec-924210e8f1a2"
      },
      "execution_count": null,
      "outputs": [
        {
          "output_type": "stream",
          "name": "stdout",
          "text": [
            "Ingrese el valor del producto: 5000\n",
            "¿Qué cantidad de monedas de 20 tiene? 0\n",
            "¿Qué cantidad de monedas de 50 tiene? 0\n",
            "¿Qué cantidad de monedas de 100 tiene? 0\n",
            "¿Qué cantidad de monedas de 200 tiene? 10\n",
            "¿Qué cantidad de monedas de 500 tiene? 4\n",
            "¿Qué cantidad de monedas de 1000 tiene? 3\n",
            "Es posible asignar un cambio con las monedas actuales.\n"
          ]
        }
      ]
    },
    {
      "cell_type": "markdown",
      "source": [
        "-Actividad: Picas y Fijas es un juego en el que dos personas intentan adivinar un número de 4 dígitos que mantiene en secreto el otro jugador. En cada turno, un jugador propone un número de 4 dígitos y el otro jugador debe informar la cantidad de picas y la cantidad de fijas de ese número. Cada pica significa que en el número propuesto hay un dígito que también está en el número secreto, pero en una posición diferente. Cada fija significa que en el número propuesto hay un número que también está en el número secreto y que está en la misma posición. Por ejemplo, si el número secreto es 5678 y el número que el otro jugador propone es 6579, la respuesta sería *2 picas y 1 fija” porque 5 y 6 están en las posiciones equivocadas y porque el 7 está en la posición correcta. El ganador del juego es el jugador que encuentre el número del otro en la menor cantidad de intentos. En este ejercicio usted debe escribir dos funciones: la primera calculará la cantidad de picas dados un número secreto entre 1000 y 9999, y un número propuesto también entre 1000 y 9999; la segunda función calculará la cantidad de fijas y recibirá también un número secreto y un número propuesto."
      ],
      "metadata": {
        "id": "TS8WoKWrS_5K"
      }
    },
    {
      "cell_type": "code",
      "source": [
        "def fijas(numero_secreto: int, numero_propuesto: int)-> str:\n",
        "  \"\"\"\n",
        "  Esta función calcula la cantidad de números FIJOS o FIJAS que tiene el jugador según un número propuesto y un número secreto.\n",
        "  \"\"\"\n",
        "  unidades_secreto = numero_secreto % 10 \n",
        "  numero_secreto //= 10\n",
        "  decenas_secreto = numero_secreto % 10\n",
        "  numero_secreto //= 10\n",
        "  centenas_secreto = numero_secreto % 10\n",
        "  numero_secreto //= 10\n",
        "  millares_secreto = numero_secreto % 10\n",
        "\n",
        "  unidades_propuesto = numero_propuesto % 10 \n",
        "  numero_propuesto //= 10\n",
        "  decenas_propuesto = numero_propuesto % 10\n",
        "  numero_propuesto //= 10\n",
        "  centenas_propuesto = numero_propuesto % 10\n",
        "  numero_propuesto //= 10\n",
        "  millares_propuesto = numero_propuesto % 10\n",
        "\n",
        "  contador = 0\n",
        "  mensaje = \"\"\n",
        "\n",
        "  if unidades_secreto == unidades_propuesto:\n",
        "    contador += 1\n",
        "  if decenas_secreto == decenas_propuesto:\n",
        "    contador += 1\n",
        "  if centenas_secreto == centenas_propuesto:\n",
        "    contador += 1\n",
        "  if millares_secreto == millares_propuesto:\n",
        "    contador += 1\n",
        "  mensaje = \"Usted acertó \" + str(contador) + \" FIJAS\"\n",
        "\n",
        "  return mensaje\n",
        "\n",
        "def picas(numero_secreto: int, numero_propuesto: int)-> str:\n",
        "  \"\"\"\n",
        "  Esta función calcula la cantidad de PICAS que tiene el jugador según un número propuesto y un número secreto.\n",
        "  \"\"\"\n",
        "  unidades_secreto = numero_secreto % 10 \n",
        "  numero_secreto //= 10\n",
        "  decenas_secreto = numero_secreto % 10\n",
        "  numero_secreto //= 10\n",
        "  centenas_secreto = numero_secreto % 10\n",
        "  numero_secreto //= 10\n",
        "  millares_secreto = numero_secreto % 10\n",
        "\n",
        "  unidades_propuesto = numero_propuesto % 10 \n",
        "  numero_propuesto //= 10\n",
        "  decenas_propuesto = numero_propuesto % 10\n",
        "  numero_propuesto //= 10\n",
        "  centenas_propuesto = numero_propuesto % 10\n",
        "  numero_propuesto //= 10\n",
        "  millares_propuesto = numero_propuesto % 10\n",
        "\n",
        "  contador = 0\n",
        "  mensaje = \"\"\n",
        "  \n",
        "  if unidades_propuesto == decenas_secreto or unidades_propuesto == centenas_secreto or unidades_propuesto == millares_secreto:\n",
        "    contador += 1\n",
        "  if decenas_propuesto == unidades_secreto or decenas_propuesto == centenas_secreto or decenas_propuesto == millares_secreto:\n",
        "    contador += 1\n",
        "  if centenas_propuesto == unidades_secreto or centenas_propuesto == decenas_secreto or  centenas_propuesto == millares_secreto:\n",
        "    contador += 1\n",
        "  if millares_propuesto == unidades_secreto or millares_propuesto == decenas_secreto or millares_propuesto == centenas_secreto:\n",
        "    contador += 1\n",
        "\n",
        "  mensaje = mensaje = \"Usted acertó \" + str(contador) + \" PICAS\"\n",
        "\n",
        "\n",
        "  return mensaje\n",
        "\n",
        "numero_secreto = int(input('Digite el número secreto: '))\n",
        "numero_propuesto = int(input('Digite el número propuesto: '))\n",
        "resultado = fijas(numero_secreto, numero_propuesto)\n",
        "resultado1 = picas(numero_secreto, numero_propuesto)\n",
        "print(resultado, resultado1)"
      ],
      "metadata": {
        "colab": {
          "base_uri": "https://localhost:8080/"
        },
        "id": "uyUFX8FRSEfj",
        "outputId": "3e513ddd-a4d9-4515-f530-6414bb194ac7"
      },
      "execution_count": null,
      "outputs": [
        {
          "output_type": "stream",
          "name": "stdout",
          "text": [
            "Digite el número secreto: 5781\n",
            "Digite el número propuesto: 1785\n",
            "Usted acertó 2 FIJAS Usted acertó 2 PICAS\n"
          ]
        }
      ]
    },
    {
      "cell_type": "markdown",
      "source": [
        "-Actividad: Un número primo es un número que es divisible sólo por 1 y por sí mismo. Los primeros 10 números primos son 2, 3, 5, 7, 11, 13, 17, 19, 23 y 29. Escriba una función que dado un número diga cuál es el menor de los primeros diez números primos por el que es divisible o retorne -1 si no es divisible por ninguno de esos números."
      ],
      "metadata": {
        "id": "0gHWwYL7QFSF"
      }
    },
    {
      "cell_type": "code",
      "source": [
        "def primos(numero: int)-> int:\n",
        "  primo = 0\n",
        "  if numero % 2 == 0:\n",
        "    primo = 2\n",
        "  elif numero % 3 == 0:\n",
        "    primo = 3\n",
        "  elif numero % 5 == 0:\n",
        "    primo = 5\n",
        "  elif numero % 7 == 0:\n",
        "    primo = 7\n",
        "  elif numero % 11 == 0:\n",
        "    primo = 11\n",
        "  elif numero % 13 == 0:\n",
        "    primo = 13\n",
        "  elif numero % 17 == 0:\n",
        "    primo = 17\n",
        "  elif numero % 19 == 0:\n",
        "    primo = 19\n",
        "  elif numero % 23 == 0:\n",
        "    primo = 23\n",
        "  elif numero % 29 == 0:\n",
        "    primo = 29\n",
        "  else:\n",
        "    return -1\n",
        "  return primo\n",
        "\n",
        "numero = int(input('Digite un número para saber si es divisible por alguno de los primeros 10 números primos: '))\n",
        "menor = primos(numero)\n",
        "print(menor)"
      ],
      "metadata": {
        "colab": {
          "base_uri": "https://localhost:8080/"
        },
        "id": "q9XQg6nBfZi5",
        "outputId": "c8a5e1bd-07e1-434c-fc17-047e569a68ea"
      },
      "execution_count": null,
      "outputs": [
        {
          "output_type": "stream",
          "name": "stdout",
          "text": [
            "Digite un número para saber si es divisible por alguno de los primeros 10 números primos: 1349\n",
            "19\n"
          ]
        }
      ]
    },
    {
      "cell_type": "markdown",
      "source": [
        "-Actividad: En una competencia sólo pueden participar estudiantes universitarios que sean menores de 23 años o que cumplan 23 años durante el año en curso. Además, pueden participar todos los estudiantes universitarios que hayan cursado menos de 2 años de estudios en la Universidad. Escriba una función que reciba el año de nacimiento de una persona y el año de entrada a la universidad y retorne un valor de verdad indicando si la persona puede participar o no."
      ],
      "metadata": {
        "id": "pQ2FaAO_S4wE"
      }
    },
    {
      "cell_type": "code",
      "source": [
        "def competencia(año_nacimiento: int, año_universidad: int)-> bool:\n",
        "  año_actual = 2022\n",
        "  edad = (año_nacimiento + año_universidad) % año_nacimiento\n",
        "  tiempo_universidad = (año_actual % año_nacimiento) - edad\n",
        "  edad_real = edad + tiempo_universidad\n",
        "  indicador = False\n",
        "  if edad_real <= 23:\n",
        "    indicador = True\n",
        "  if tiempo_universidad > 2:\n",
        "    indicador = False\n",
        "  return indicador\n",
        "\n",
        "\n",
        "año_nacimiento = int(input('Año de nacimiento: '))\n",
        "año_universidad = int(input('Año de ingreso a la universidad: '))\n",
        "competidor = competencia(año_nacimiento, año_universidad)\n",
        "print(competidor)\n"
      ],
      "metadata": {
        "id": "n37sO1E5SOhp",
        "colab": {
          "base_uri": "https://localhost:8080/"
        },
        "outputId": "794c9228-636c-49fe-f25d-10ee04e09afb"
      },
      "execution_count": null,
      "outputs": [
        {
          "output_type": "stream",
          "name": "stdout",
          "text": [
            "Año de nacimiento: 2003\n",
            "Año de ingreso a la universidad: 2018\n",
            "False\n"
          ]
        }
      ]
    },
    {
      "cell_type": "markdown",
      "source": [
        "-Actividad: En una ciudad existe una restricción de circulación para los vehículos que depende del número de la placa, del tipo de vehículo, del día de la semana y de la hora del día. Los vehículos particulares sólo tienen restricción de lunes a viernes, dependiendo del último dígito de su placa: los que terminen en un número par no podrán circular entre 6:00 y 8:30 y 15:00 y 19:30 en los días del mes que sean pares; los que terminen en un número impar no podrán circular en los mismos horarios, pero de los días del mes que sean impares. La restricción para los taxis va desde las 5:30 hasta las 21:30, de lunes a sábado: los taxis cuya placa termine en el mismo dígito en que termine el día del mes no podrán circular ese día. Escriba una función que diga si un vehículo puede circular o no dados: el tipo de vehículo (str, TAXI o PARTICULAR), la placa (str, por ejemplo DMZ042), el día del mes (int, entre 1 y 31), el día de la semana (str - Lunes, Martes, Miércoles, Jueves, Viernes, Sábado o Domingo), la hora (int, entre 0 y 23) y el minuto (int, entre 0 y 59).\n",
        "\n"
      ],
      "metadata": {
        "id": "nKT80rBmTOhw"
      }
    },
    {
      "cell_type": "code",
      "source": [
        "def pico_y_placa(tipo_vehiculo: str, placa: str, dia_mes: int, dia_semana: str, hora: int, minuto: int)-> bool:\n",
        "  numero_placa = int(placa[5:6])\n",
        "  transitar = False\n",
        "  \n",
        "  if tipo_vehiculo == \"PARTICULAR\" and not (dia_semana == \"Sabado\" or dia_semana == \"Domingo\"):\n",
        "    if numero_placa % 2 == 0 and dia_mes % 2 == 0:\n",
        "      if (hora >= 6 and hora < 9) or (hora >= 15 and hora < 19):\n",
        "        if minuto >= 0 and minuto <= 30:\n",
        "          transitar = False\n",
        "      else: \n",
        "        transitar = True\n",
        "\n",
        "    elif numero_placa % 2 != 0 and dia_mes % 2 != 0:\n",
        "      if hora >= 6 and hora < 9:\n",
        "        if minuto >= 0 and minuto <= 30:\n",
        "          transitar = False\n",
        "      else:\n",
        "        transitar = True\n",
        "\n",
        "  \n",
        "  elif tipo_vehiculo == \"TAXI\" and not (dia_semana == \"Domingo\"):\n",
        "    if numero_placa == (dia_mes % 10):\n",
        "      transitar = False\n",
        "      if (hora >= 5 and hora < 22):\n",
        "        if minuto >= 0 or minuto <= 30:\n",
        "          transitar = False\n",
        "      else:\n",
        "        transitar = True\n",
        "    else:\n",
        "      transitar = True\n",
        "\n",
        "  return transitar\n",
        "\n",
        "tipo_vehiculo = input('Escriba si su tipo de vehiculo es TAXI o PARTICULAR: ')\n",
        "placa = input('Placa de su vehiculo: ')\n",
        "dia_mes = int(input('Día del mes (1 a 31): '))\n",
        "dia_semana = input('Día de la semana: ')\n",
        "hora = int(input('Hora: '))\n",
        "minuto = int(input('Minuto: '))\n",
        "\n",
        "permiso = pico_y_placa(tipo_vehiculo, placa, dia_mes, dia_semana, hora, minuto)\n",
        "print(permiso)\n",
        "\n"
      ],
      "metadata": {
        "colab": {
          "base_uri": "https://localhost:8080/"
        },
        "id": "VinFH9aIaMuG",
        "outputId": "2ee35132-c243-4d82-97b2-47b5f0cbf44c"
      },
      "execution_count": null,
      "outputs": [
        {
          "output_type": "stream",
          "name": "stdout",
          "text": [
            "Escriba si su tipo de vehiculo es TAXI o PARTICULAR: TAXI\n",
            "Placa de su vehiculo: STJ129\n",
            "Día del mes (1 a 31): 9\n",
            "Día de la semana: Lunes\n",
            "Hora: 2\n",
            "Minuto: 30\n",
            "True\n"
          ]
        }
      ]
    },
    {
      "cell_type": "markdown",
      "source": [
        "# Más sobre cadenas de caracteres"
      ],
      "metadata": {
        "id": "2_fid-1Hm6pN"
      }
    },
    {
      "cell_type": "markdown",
      "source": [
        "Representación de una tabla con caracteres de control"
      ],
      "metadata": {
        "id": "mW16JA1SnZdg"
      }
    },
    {
      "cell_type": "code",
      "source": [
        "print(\"a\\tb\\tc\" + \"\\n\" + \"100\\t200\\t300\")"
      ],
      "metadata": {
        "id": "XmSxPNuVnBco",
        "colab": {
          "base_uri": "https://localhost:8080/"
        },
        "outputId": "bc26a195-ffc7-45e6-dc30-a041acdb810b"
      },
      "execution_count": null,
      "outputs": [
        {
          "output_type": "stream",
          "name": "stdout",
          "text": [
            "a\tb\tc\n",
            "100\t200\t300\n"
          ]
        }
      ]
    },
    {
      "cell_type": "markdown",
      "source": [
        "Representación de una matriz con caracteres de control"
      ],
      "metadata": {
        "id": "ASnjYrZMndI5"
      }
    },
    {
      "cell_type": "code",
      "source": [
        "print(\"x\\ty\\tz\" + \"\\n\" + \"y\\tx\\tz\" + \"\\n\" + \"z\\ty\\tx\")"
      ],
      "metadata": {
        "colab": {
          "base_uri": "https://localhost:8080/"
        },
        "id": "MXz_HHcNnBzF",
        "outputId": "f3de2238-79d1-48ba-ca25-6538c19cf98f"
      },
      "execution_count": null,
      "outputs": [
        {
          "output_type": "stream",
          "name": "stdout",
          "text": [
            "x\ty\tz\n",
            "y\tx\tz\n",
            "z\ty\tx\n"
          ]
        }
      ]
    },
    {
      "cell_type": "markdown",
      "source": [
        "Dos nuevos operadores que también se pueden aplicar sobre cadenas de caracteres son in y not in. El primero permite revisar si una cadena está incluida en otra, mientras que el segundo hace exactamente lo contrario. Veamos un ejemplo de expresiones verdaderas basadas en estos operadores:"
      ],
      "metadata": {
        "id": "MVw9FjT5oTFh"
      }
    },
    {
      "cell_type": "code",
      "source": [
        "\"Mundo\" in \"Hola, Mundo!\""
      ],
      "metadata": {
        "colab": {
          "base_uri": "https://localhost:8080/"
        },
        "id": "k5vsYAsYntBo",
        "outputId": "c70e0d0c-5b03-44d3-baf0-dae90e4131d3"
      },
      "execution_count": null,
      "outputs": [
        {
          "output_type": "execute_result",
          "data": {
            "text/plain": [
              "True"
            ]
          },
          "metadata": {},
          "execution_count": 3
        }
      ]
    },
    {
      "cell_type": "code",
      "source": [
        "\"mundo\" not in \"Hola, Mundo!\""
      ],
      "metadata": {
        "colab": {
          "base_uri": "https://localhost:8080/"
        },
        "id": "n533iw6EoV9j",
        "outputId": "740b81f4-e4ce-499b-cdba-df1f6cdd413b"
      },
      "execution_count": null,
      "outputs": [
        {
          "output_type": "execute_result",
          "data": {
            "text/plain": [
              "True"
            ]
          },
          "metadata": {},
          "execution_count": 4
        }
      ]
    },
    {
      "cell_type": "code",
      "source": [
        "\"!\" in \"Hola, Mundo!\""
      ],
      "metadata": {
        "colab": {
          "base_uri": "https://localhost:8080/"
        },
        "id": "QcXfaVABoZ2r",
        "outputId": "ad2f01cd-dd95-429f-ff99-eb981b6fbaa1"
      },
      "execution_count": null,
      "outputs": [
        {
          "output_type": "execute_result",
          "data": {
            "text/plain": [
              "True"
            ]
          },
          "metadata": {},
          "execution_count": 5
        }
      ]
    },
    {
      "cell_type": "code",
      "source": [
        "\"?\" not in \"Hola, Mundo!\""
      ],
      "metadata": {
        "colab": {
          "base_uri": "https://localhost:8080/"
        },
        "id": "WtbQTKdsodw1",
        "outputId": "5b1b8cc2-9da9-48ab-a29c-ec2286d051b0"
      },
      "execution_count": null,
      "outputs": [
        {
          "output_type": "execute_result",
          "data": {
            "text/plain": [
              "True"
            ]
          },
          "metadata": {},
          "execution_count": 6
        }
      ]
    },
    {
      "cell_type": "code",
      "source": [
        "\"Hola, Mundo!\" in \"Hola, Mundo!\""
      ],
      "metadata": {
        "colab": {
          "base_uri": "https://localhost:8080/"
        },
        "id": "LbGzTogfohom",
        "outputId": "7dc1332c-df9a-4e5c-c054-ccf1c29a3fcb"
      },
      "execution_count": null,
      "outputs": [
        {
          "output_type": "execute_result",
          "data": {
            "text/plain": [
              "True"
            ]
          },
          "metadata": {},
          "execution_count": 7
        }
      ]
    },
    {
      "cell_type": "markdown",
      "source": [
        "**Función LEN**"
      ],
      "metadata": {
        "id": "96utxanXo6h_"
      }
    },
    {
      "cell_type": "markdown",
      "source": [
        "Finalmente, Python nos ofrece la función len que podemos utilizar para conocer el tamaño de una cadena"
      ],
      "metadata": {
        "id": "eVcN75YVovql"
      }
    },
    {
      "cell_type": "code",
      "source": [
        "len(\"Hola, Mundo!\")"
      ],
      "metadata": {
        "colab": {
          "base_uri": "https://localhost:8080/"
        },
        "id": "NWnVVHikolQQ",
        "outputId": "139ac502-ce32-4bff-f0c2-2a467880018b"
      },
      "execution_count": null,
      "outputs": [
        {
          "output_type": "execute_result",
          "data": {
            "text/plain": [
              "12"
            ]
          },
          "metadata": {},
          "execution_count": 8
        }
      ]
    },
    {
      "cell_type": "code",
      "source": [
        "len(\"Hola,\\nMundo!\")"
      ],
      "metadata": {
        "colab": {
          "base_uri": "https://localhost:8080/"
        },
        "id": "mPmzk4EOoyiH",
        "outputId": "59e71ec5-d5fb-4e76-eafe-24b262e9101f"
      },
      "execution_count": null,
      "outputs": [
        {
          "output_type": "execute_result",
          "data": {
            "text/plain": [
              "12"
            ]
          },
          "metadata": {},
          "execution_count": 9
        }
      ]
    },
    {
      "cell_type": "code",
      "source": [
        "len(\"\")"
      ],
      "metadata": {
        "colab": {
          "base_uri": "https://localhost:8080/"
        },
        "id": "giyUsmY7o3Gh",
        "outputId": "c4577a43-923d-4573-9099-ee3e31f307bd"
      },
      "execution_count": null,
      "outputs": [
        {
          "output_type": "execute_result",
          "data": {
            "text/plain": [
              "0"
            ]
          },
          "metadata": {},
          "execution_count": 10
        }
      ]
    },
    {
      "cell_type": "code",
      "source": [
        "len(\" \")"
      ],
      "metadata": {
        "colab": {
          "base_uri": "https://localhost:8080/"
        },
        "id": "swXnQeIBo40i",
        "outputId": "f676539f-1527-456b-ff05-431cee64257f"
      },
      "execution_count": null,
      "outputs": [
        {
          "output_type": "execute_result",
          "data": {
            "text/plain": [
              "1"
            ]
          },
          "metadata": {},
          "execution_count": 11
        }
      ]
    },
    {
      "cell_type": "code",
      "source": [
        "len(\"\\t\")"
      ],
      "metadata": {
        "colab": {
          "base_uri": "https://localhost:8080/"
        },
        "id": "JQKPt9Oso-_U",
        "outputId": "a8925e60-9ecc-4222-9973-8012dcf2fb33"
      },
      "execution_count": null,
      "outputs": [
        {
          "output_type": "execute_result",
          "data": {
            "text/plain": [
              "1"
            ]
          },
          "metadata": {},
          "execution_count": 12
        }
      ]
    },
    {
      "cell_type": "markdown",
      "source": [
        "**Métodos sobre cadenas de caracteres**"
      ],
      "metadata": {
        "id": "ayRUmIgXpTx7"
      }
    },
    {
      "cell_type": "code",
      "source": [
        "help (str.lower)"
      ],
      "metadata": {
        "colab": {
          "base_uri": "https://localhost:8080/"
        },
        "id": "7fqJNL1opAnN",
        "outputId": "77ea197e-3def-4524-cf53-aa424393673c"
      },
      "execution_count": null,
      "outputs": [
        {
          "output_type": "stream",
          "name": "stdout",
          "text": [
            "Help on method_descriptor:\n",
            "\n",
            "lower(self, /)\n",
            "    Return a copy of the string converted to lowercase.\n",
            "\n"
          ]
        }
      ]
    },
    {
      "cell_type": "code",
      "source": [
        "str.lower('ABcdEg')"
      ],
      "metadata": {
        "colab": {
          "base_uri": "https://localhost:8080/",
          "height": 35
        },
        "id": "tm1Zp3W_poM5",
        "outputId": "e2a7541a-f043-4747-e593-83d570893e59"
      },
      "execution_count": null,
      "outputs": [
        {
          "output_type": "execute_result",
          "data": {
            "application/vnd.google.colaboratory.intrinsic+json": {
              "type": "string"
            },
            "text/plain": [
              "'abcdeg'"
            ]
          },
          "metadata": {},
          "execution_count": 14
        }
      ]
    },
    {
      "cell_type": "markdown",
      "source": [
        "Sin embargo, la documentación de la función también nos dice que esta función es un método, así que podemos invocarla de una forma un poco diferente que en la mayoría de los casos resulta más conveniente:"
      ],
      "metadata": {
        "id": "oxJIGw39p9AR"
      }
    },
    {
      "cell_type": "code",
      "source": [
        "'ABcdEg'.lower()"
      ],
      "metadata": {
        "colab": {
          "base_uri": "https://localhost:8080/",
          "height": 35
        },
        "id": "5hzx7_PWpwK1",
        "outputId": "5a53cc4a-2df9-449a-a6ea-030484bccbce"
      },
      "execution_count": null,
      "outputs": [
        {
          "output_type": "execute_result",
          "data": {
            "application/vnd.google.colaboratory.intrinsic+json": {
              "type": "string"
            },
            "text/plain": [
              "'abcdeg'"
            ]
          },
          "metadata": {},
          "execution_count": 15
        }
      ]
    },
    {
      "cell_type": "markdown",
      "source": [
        "Hagamos ahora el mismo ejercicio con la función llamada str.zfill:"
      ],
      "metadata": {
        "id": "iC-ettnYqJlH"
      }
    },
    {
      "cell_type": "code",
      "source": [
        "help (str.zfill)"
      ],
      "metadata": {
        "colab": {
          "base_uri": "https://localhost:8080/"
        },
        "id": "oRHiXYBiqAky",
        "outputId": "2068da84-3f2c-4e7b-99a0-c3f5d0bef9d8"
      },
      "execution_count": null,
      "outputs": [
        {
          "output_type": "stream",
          "name": "stdout",
          "text": [
            "Help on method_descriptor:\n",
            "\n",
            "zfill(self, width, /)\n",
            "    Pad a numeric string with zeros on the left, to fill a field of the given width.\n",
            "    \n",
            "    The string is never truncated.\n",
            "\n"
          ]
        }
      ]
    },
    {
      "cell_type": "code",
      "source": [
        "str.zfill('AbC', 8)"
      ],
      "metadata": {
        "colab": {
          "base_uri": "https://localhost:8080/",
          "height": 35
        },
        "id": "N5IFZgwKqMIn",
        "outputId": "f019272d-057a-4f95-c37a-9d202c204046"
      },
      "execution_count": null,
      "outputs": [
        {
          "output_type": "execute_result",
          "data": {
            "application/vnd.google.colaboratory.intrinsic+json": {
              "type": "string"
            },
            "text/plain": [
              "'00000AbC'"
            ]
          },
          "metadata": {},
          "execution_count": 19
        }
      ]
    },
    {
      "cell_type": "code",
      "source": [
        "'AbC'.zfill(8)"
      ],
      "metadata": {
        "colab": {
          "base_uri": "https://localhost:8080/",
          "height": 35
        },
        "id": "_qy2rlPfqVKH",
        "outputId": "1cce48b8-b809-4f14-c25e-2803ac6867db"
      },
      "execution_count": null,
      "outputs": [
        {
          "output_type": "execute_result",
          "data": {
            "application/vnd.google.colaboratory.intrinsic+json": {
              "type": "string"
            },
            "text/plain": [
              "'00000AbC'"
            ]
          },
          "metadata": {},
          "execution_count": 20
        }
      ]
    },
    {
      "cell_type": "markdown",
      "source": [
        "En resumen: el módulo str ofrece unas funciones llamadas métodos que implementan una gran cantidad de funcionalidades interesantes para trabajar con cadenas de caracteres. Estas funciones se pueden invocar de dos formas: como funciones, usando un llamado de la forma str.funcion(cadena, ...otros parámetros ...), o como métodos, usando un llamado de la forma cadena.metodo(... otros parámetros ...). De acá en adelante nosotros vamos a usar estas funciones de la segunda forma (como métodos).\n",
        "\n"
      ],
      "metadata": {
        "id": "2tzGYeexrAlX"
      }
    },
    {
      "cell_type": "markdown",
      "source": [
        "**Inmutabilidad de cadenas de caracteres**"
      ],
      "metadata": {
        "id": "Pjub1PjxrauQ"
      }
    },
    {
      "cell_type": "markdown",
      "source": [
        "Antes de presentar los métodos más utilizados de str es muy importante hablar de la inmutabilidad de las cadenas de caracteres en Python. Esto significa que cuando Python construye una cadena no puede modificarla para cambiar su contenido. Si queremos hacerle algún cambio a la cadena, lo único que Python puede hacer es construir una nueva cadena con los cambios requeridos.\n",
        "\n",
        "Observemos un ejemplo utilizando el método lower que ya estudiamos y los operadores is (comparación de identidad) y == (comparación de igualdad)."
      ],
      "metadata": {
        "id": "JvqgzjpBrdwk"
      }
    },
    {
      "cell_type": "code",
      "source": [
        "original = \"texto original\"\n",
        "minusculas = original.lower()\n",
        "print(\"Son iguales:\", original == minusculas)\n",
        "print(\"Son el mismo:\", original is minusculas)"
      ],
      "metadata": {
        "colab": {
          "base_uri": "https://localhost:8080/"
        },
        "id": "OX8W9rcVqlKK",
        "outputId": "198b2a86-e7fa-4597-ad05-5bb7e7f699b6"
      },
      "execution_count": null,
      "outputs": [
        {
          "output_type": "stream",
          "name": "stdout",
          "text": [
            "Son iguales: True\n",
            "Son el mismo: False\n"
          ]
        }
      ]
    },
    {
      "cell_type": "markdown",
      "source": [
        "Lo que esto nos muestra es que, como dice la documentación del método, lower() retorna una copia de la cadena en la cual se hayan hecho las modificaciones para que todas las letras sean minúsculas. En el caso de nuestro ejemplo no hubo ninguna modificación (la comparación de igualdad es exitosa) y de todas maneras el método creó una copia de la cadena original.\n",
        "\n",
        "Recuerde: Las cadenas de caracteres en Python son inmutables. Todas las operaciones que se realicen sobre una cadena siempre van a producir una cadena nueva.\n",
        "\n"
      ],
      "metadata": {
        "id": "P6jelt6sr7dB"
      }
    },
    {
      "cell_type": "markdown",
      "source": [
        "# Métodos de str"
      ],
      "metadata": {
        "id": "gjA5F-XXsJWB"
      }
    },
    {
      "cell_type": "markdown",
      "source": [
        "lower: Remplaza todas las mayúsculas por minúsculas"
      ],
      "metadata": {
        "id": "QMT9vdcbsO16"
      }
    },
    {
      "cell_type": "code",
      "source": [
        "\"EstE Es UN Ejemplo\".lower()"
      ],
      "metadata": {
        "colab": {
          "base_uri": "https://localhost:8080/",
          "height": 35
        },
        "id": "91LdnA8CrlH3",
        "outputId": "fc144f6e-38f2-4482-bfbd-d841d8793838"
      },
      "execution_count": null,
      "outputs": [
        {
          "output_type": "execute_result",
          "data": {
            "application/vnd.google.colaboratory.intrinsic+json": {
              "type": "string"
            },
            "text/plain": [
              "'este es un ejemplo'"
            ]
          },
          "metadata": {},
          "execution_count": 24
        }
      ]
    },
    {
      "cell_type": "markdown",
      "source": [
        "upper: Remplaza todas las minúsculas por mayúsculas"
      ],
      "metadata": {
        "id": "CgHBb7y9sUwv"
      }
    },
    {
      "cell_type": "code",
      "source": [
        "\"esto está mal escrito\".upper()"
      ],
      "metadata": {
        "colab": {
          "base_uri": "https://localhost:8080/",
          "height": 35
        },
        "id": "P9bMhuhzsTic",
        "outputId": "a8988ede-747f-480d-fbf9-f469754e027f"
      },
      "execution_count": null,
      "outputs": [
        {
          "output_type": "execute_result",
          "data": {
            "application/vnd.google.colaboratory.intrinsic+json": {
              "type": "string"
            },
            "text/plain": [
              "'ESTO ESTÁ MAL ESCRITO'"
            ]
          },
          "metadata": {},
          "execution_count": 23
        }
      ]
    },
    {
      "cell_type": "markdown",
      "source": [
        "title: Le pone mayúscula inicial a todas las palabras de la cadena."
      ],
      "metadata": {
        "id": "0vxSQqAWsi4d"
      }
    },
    {
      "cell_type": "code",
      "source": [
        "\"buen uso de las mayusculas: juan pablo\".title()"
      ],
      "metadata": {
        "colab": {
          "base_uri": "https://localhost:8080/",
          "height": 35
        },
        "id": "XV4gZGUbsa8X",
        "outputId": "6152dc99-ab93-4940-b86a-b08bd697f8ba"
      },
      "execution_count": null,
      "outputs": [
        {
          "output_type": "execute_result",
          "data": {
            "application/vnd.google.colaboratory.intrinsic+json": {
              "type": "string"
            },
            "text/plain": [
              "'Buen Uso De Las Mayusculas: Juan Pablo'"
            ]
          },
          "metadata": {},
          "execution_count": 25
        }
      ]
    },
    {
      "cell_type": "markdown",
      "source": [
        "swapcase: Intercambia mayúsculas por minúsculas y viceversa."
      ],
      "metadata": {
        "id": "K-WFABbdstJ5"
      }
    },
    {
      "cell_type": "code",
      "source": [
        "\"Mal Uso De Las Mayusculas: Juan Pablo\".swapcase()"
      ],
      "metadata": {
        "colab": {
          "base_uri": "https://localhost:8080/",
          "height": 35
        },
        "id": "LQrgZZCxsp6m",
        "outputId": "ff961346-00c0-46aa-b3de-5a073304e7f2"
      },
      "execution_count": null,
      "outputs": [
        {
          "output_type": "execute_result",
          "data": {
            "application/vnd.google.colaboratory.intrinsic+json": {
              "type": "string"
            },
            "text/plain": [
              "'mAL uSO dE lAS mAYUSCULAS: jUAN pABLO'"
            ]
          },
          "metadata": {},
          "execution_count": 28
        }
      ]
    },
    {
      "cell_type": "markdown",
      "source": [
        "**ANÁLISIS DE CADENAS**"
      ],
      "metadata": {
        "id": "3I-trYG0s9LY"
      }
    },
    {
      "cell_type": "markdown",
      "source": [
        "find: Busca la primera posición en la que aparezca la cadena buscada. Si no la encuentra retorna -1."
      ],
      "metadata": {
        "id": "jGgJmCqQtKCE"
      }
    },
    {
      "cell_type": "code",
      "source": [
        "\"hola, cómo estás\".find('l')"
      ],
      "metadata": {
        "colab": {
          "base_uri": "https://localhost:8080/"
        },
        "id": "rwpgii4ls2A7",
        "outputId": "f42d0477-ed41-40d4-dd78-d0a8faba9fdc"
      },
      "execution_count": null,
      "outputs": [
        {
          "output_type": "execute_result",
          "data": {
            "text/plain": [
              "2"
            ]
          },
          "metadata": {},
          "execution_count": 30
        }
      ]
    },
    {
      "cell_type": "code",
      "source": [
        "\"hola, cómo estás\".find('z')"
      ],
      "metadata": {
        "colab": {
          "base_uri": "https://localhost:8080/"
        },
        "id": "npAayMVstdQm",
        "outputId": "439001aa-34a9-4027-e369-7fe0d1acfaab"
      },
      "execution_count": null,
      "outputs": [
        {
          "output_type": "execute_result",
          "data": {
            "text/plain": [
              "-1"
            ]
          },
          "metadata": {},
          "execution_count": 31
        }
      ]
    },
    {
      "cell_type": "markdown",
      "source": [
        "rfind: Busca la primera posición en la que aparezca la cadena buscada, empezando por la derecha. Si no la encuentra retorna -1."
      ],
      "metadata": {
        "id": "REz7FeTatZi8"
      }
    },
    {
      "cell_type": "code",
      "source": [
        "\"hola, cómo estás\".rfind('o')"
      ],
      "metadata": {
        "colab": {
          "base_uri": "https://localhost:8080/"
        },
        "id": "cPLuuBJctVj6",
        "outputId": "e5181d8f-ca69-4af8-ec37-9aaa08191890"
      },
      "execution_count": null,
      "outputs": [
        {
          "output_type": "execute_result",
          "data": {
            "text/plain": [
              "9"
            ]
          },
          "metadata": {},
          "execution_count": 33
        }
      ]
    },
    {
      "cell_type": "markdown",
      "source": [
        "count: Cuenta cuántas veces está la cadena indicada en otra cadena. Si no la encuentra se produce un error."
      ],
      "metadata": {
        "id": "kB-Jyxidt17L"
      }
    },
    {
      "cell_type": "code",
      "source": [
        "\"hola, como te encuentras el dia de hoy parcero?\".count('o')"
      ],
      "metadata": {
        "colab": {
          "base_uri": "https://localhost:8080/"
        },
        "id": "dliMutpgtknt",
        "outputId": "89c142b9-2ac9-4ee8-9986-123a57ae61df"
      },
      "execution_count": null,
      "outputs": [
        {
          "output_type": "execute_result",
          "data": {
            "text/plain": [
              "5"
            ]
          },
          "metadata": {},
          "execution_count": 34
        }
      ]
    },
    {
      "cell_type": "markdown",
      "source": [
        "isnumeric: Revisa si todos los caracteres de una cadena son números."
      ],
      "metadata": {
        "id": "D3fGlfkEuCLt"
      }
    },
    {
      "cell_type": "code",
      "source": [
        "\"por ejemplo, este retorna False ya que solo cuenta con el número 1\".isnumeric()"
      ],
      "metadata": {
        "colab": {
          "base_uri": "https://localhost:8080/"
        },
        "id": "ubwFxB_Ot9fs",
        "outputId": "3c7a7d58-be62-4321-ce23-505e6b2a30bf"
      },
      "execution_count": null,
      "outputs": [
        {
          "output_type": "execute_result",
          "data": {
            "text/plain": [
              "False"
            ]
          },
          "metadata": {},
          "execution_count": 35
        }
      ]
    },
    {
      "cell_type": "code",
      "source": [
        "\"123783912\".isnumeric()"
      ],
      "metadata": {
        "colab": {
          "base_uri": "https://localhost:8080/"
        },
        "id": "6vjg16XsuJwp",
        "outputId": "d9de6711-e0da-4273-d4dd-3679a3e9b4e5"
      },
      "execution_count": null,
      "outputs": [
        {
          "output_type": "execute_result",
          "data": {
            "text/plain": [
              "True"
            ]
          },
          "metadata": {},
          "execution_count": 36
        }
      ]
    },
    {
      "cell_type": "markdown",
      "source": [
        "**MANIPULACIÓN DE CADENAS**"
      ],
      "metadata": {
        "id": "T3_MTrk4uR3T"
      }
    },
    {
      "cell_type": "markdown",
      "source": [
        "replace: Remplaza algunos elementos de una cadena con otros elementos que llegan como parámetro. El reemplazo puede ser la cadena vacía para eliminar los elementos buscados."
      ],
      "metadata": {
        "id": "lO-sDAqlufgv"
      }
    },
    {
      "cell_type": "code",
      "source": [
        "\"Si vos realmente supieras lo que yo te adoro\".replace('o', '0')"
      ],
      "metadata": {
        "colab": {
          "base_uri": "https://localhost:8080/",
          "height": 35
        },
        "id": "0-gWo5ufuM8q",
        "outputId": "9202ed27-4915-42b3-ebfd-f10c81b787df"
      },
      "execution_count": null,
      "outputs": [
        {
          "output_type": "execute_result",
          "data": {
            "application/vnd.google.colaboratory.intrinsic+json": {
              "type": "string"
            },
            "text/plain": [
              "'Si v0s realmente supieras l0 que y0 te ad0r0'"
            ]
          },
          "metadata": {},
          "execution_count": 38
        }
      ]
    },
    {
      "cell_type": "markdown",
      "source": [
        "strip: Elimina espacios y cambios de línea al final de una cadena de caracteres. No elimina ningún elemento que no se encuentre al final de la cadena."
      ],
      "metadata": {
        "id": "QviqrIbFuuBt"
      }
    },
    {
      "cell_type": "code",
      "source": [
        "\"Hola, parcero! \\n\".strip()"
      ],
      "metadata": {
        "colab": {
          "base_uri": "https://localhost:8080/",
          "height": 35
        },
        "id": "jG0gdU0vuqvR",
        "outputId": "f548facb-e192-45d1-a823-3b89b1cc6516"
      },
      "execution_count": null,
      "outputs": [
        {
          "output_type": "execute_result",
          "data": {
            "application/vnd.google.colaboratory.intrinsic+json": {
              "type": "string"
            },
            "text/plain": [
              "'Hola, parcero!'"
            ]
          },
          "metadata": {},
          "execution_count": 40
        }
      ]
    },
    {
      "cell_type": "markdown",
      "source": [
        "ljust: Amplía la cadena hasta el ancho indicado, alinea el contenido a la izquierda y llena el espacio vacío con espacios."
      ],
      "metadata": {
        "id": "a1seBhzlu_Bo"
      }
    },
    {
      "cell_type": "code",
      "source": [
        "\"Hola, parcero!\".ljust(18)"
      ],
      "metadata": {
        "colab": {
          "base_uri": "https://localhost:8080/",
          "height": 35
        },
        "id": "PcdoyGtWu3vG",
        "outputId": "db11d896-3ca5-4f4a-c1a7-4e6e4a3bd7c7"
      },
      "execution_count": null,
      "outputs": [
        {
          "output_type": "execute_result",
          "data": {
            "application/vnd.google.colaboratory.intrinsic+json": {
              "type": "string"
            },
            "text/plain": [
              "'Hola, parcero!    '"
            ]
          },
          "metadata": {},
          "execution_count": 42
        }
      ]
    },
    {
      "cell_type": "markdown",
      "source": [
        "rjust: Amplía la cadena hasta el ancho indicado, alinea el contenido a la derecha y llena el espacio vacío con espacios."
      ],
      "metadata": {
        "id": "C9BoXxVCvSL6"
      }
    },
    {
      "cell_type": "code",
      "source": [
        "\"Hola, parcero!\".rjust(18)"
      ],
      "metadata": {
        "colab": {
          "base_uri": "https://localhost:8080/",
          "height": 35
        },
        "id": "gktlfq8bvKzu",
        "outputId": "13926b7b-fd6e-4f60-e271-9f97fb12eea1"
      },
      "execution_count": null,
      "outputs": [
        {
          "output_type": "execute_result",
          "data": {
            "application/vnd.google.colaboratory.intrinsic+json": {
              "type": "string"
            },
            "text/plain": [
              "'    Hola, parcero!'"
            ]
          },
          "metadata": {},
          "execution_count": 43
        }
      ]
    },
    {
      "cell_type": "markdown",
      "source": [
        "center: Amplía la cadena hasta el ancho indicado y centra el contenido."
      ],
      "metadata": {
        "id": "lGzn9m24vdNp"
      }
    },
    {
      "cell_type": "code",
      "source": [
        "\"Hola, parcero!\".center(18)"
      ],
      "metadata": {
        "colab": {
          "base_uri": "https://localhost:8080/",
          "height": 35
        },
        "id": "HGEmtJRVvWE8",
        "outputId": "633774d6-e817-49d1-cbe9-6d894b712540"
      },
      "execution_count": null,
      "outputs": [
        {
          "output_type": "execute_result",
          "data": {
            "application/vnd.google.colaboratory.intrinsic+json": {
              "type": "string"
            },
            "text/plain": [
              "'  Hola, parcero!  '"
            ]
          },
          "metadata": {},
          "execution_count": 44
        }
      ]
    },
    {
      "cell_type": "markdown",
      "source": [
        "zfill: Amplía la cadena hasta el ancho indicado, alinea el contenido a la derecha y llena el espacio vacío con caracteres 0."
      ],
      "metadata": {
        "id": "EZWQt6qMvjq8"
      }
    },
    {
      "cell_type": "code",
      "source": [
        "\"Hola, parcero!\".zfill(18)"
      ],
      "metadata": {
        "colab": {
          "base_uri": "https://localhost:8080/",
          "height": 35
        },
        "id": "Tw4YrSCfvhZo",
        "outputId": "c14f806b-eca7-4fb3-c0e4-575cb703caa8"
      },
      "execution_count": null,
      "outputs": [
        {
          "output_type": "execute_result",
          "data": {
            "application/vnd.google.colaboratory.intrinsic+json": {
              "type": "string"
            },
            "text/plain": [
              "'0000Hola, parcero!'"
            ]
          },
          "metadata": {},
          "execution_count": 45
        }
      ]
    },
    {
      "cell_type": "markdown",
      "source": [
        "El módulo str ofrece una gran cantidad de métodos adicionales que no vamos a cubrir acá pero que sí están bien descritos en la documentación de Python: https://docs.python.org/3.6/library/stdtypes.html#string-methods\n",
        "\n",
        "Le recomendamos estudiar esa documentación y practicar con todos estos métodos para aprender a utilizarlos y agregarlos a su caja de herramientas de programación.\n",
        "\n"
      ],
      "metadata": {
        "id": "Qfc47rOfvt8t"
      }
    },
    {
      "cell_type": "markdown",
      "source": [
        "# Format: INTERESANTE"
      ],
      "metadata": {
        "id": "g_b7YHAfwCIE"
      }
    },
    {
      "cell_type": "markdown",
      "source": [
        "Las últimas funcionalidades de las cadenas de caracteres que vamos a estudiar tienen que ver con el método format. Este método es muy poderoso y permite utilizar repetidamente una cadena como plantilla para luego remplazar algunos fragmentos por valor particulares.\n",
        "\n",
        "Supongamos que tenemos que hacer un programa que sea capaz de generar las siguientes cadenas:"
      ],
      "metadata": {
        "id": "7WmFWbypw7dl"
      }
    },
    {
      "cell_type": "markdown",
      "source": [
        "Un Lamborghini Aventador del 2016 con motor de 6.5 litros es capaz de pasar de 0 a 100 kph en 2.80 segundos\n",
        "\n",
        "Un Ferrari Enzo del 2002 con motor de 6.0 litros es capaz de pasar de 0 a 100 kph en 3.60 segundos\n",
        "\n",
        "Un Bugatti Veyron 16.4 del 2010 con motor de 8.0 litros es capaz de pasar de 0 a 100 kph en 2.50 segundos\n",
        "\n",
        "Un Porsche 911 GT3 del 2011 con motor de 4.0 litros es capaz de pasar de 0 a 100 kph en 3.80 segundos\n",
        "\n",
        "Un McLaren P1 del 2013 con motor de 3.8 litros es capaz de pasar de 0 a 100 kph en 2.80 segundos\n",
        "\n",
        "Un Pagani Huayra BC del 2017 con motor de 6.0 litros es capaz de pasar de 0 a 100 kph en 3.30 segundos"
      ],
      "metadata": {
        "id": "tgEjvJxXxCcO"
      }
    },
    {
      "cell_type": "markdown",
      "source": [
        "Todas estas cadenas tienen la misma estructura que incluye la marca del carro, el nombre del modelo, el año de lanzamiento, el tamaño del motor en litros usando una cifra decimal y el tiempo que necesita para pasar de 0 a 100 kilómetros por hora expresado en segundos con dos cifras decimales.\n",
        "\n",
        "Estas cadenas se podrían haber armado usando concatenaciones. Sin embargo, el método format ofrece características para estructurar las cadenas que son muy difíciles de replicar usando sólo concatenaciones.\n",
        "\n",
        "Tomemos como ejemplo la plantilla utilizada para generar los mensajes anteriores:"
      ],
      "metadata": {
        "id": "QznMAHW-xZq0"
      }
    },
    {
      "cell_type": "code",
      "source": [
        "plantilla = \"Un {0} {1} del {2:d} con motor de {3:.1f} litros es capaz de pasar de 0 a 100 kph en {4:.2f} segundos\""
      ],
      "metadata": {
        "id": "Drey2MZ4vp3E"
      },
      "execution_count": null,
      "outputs": []
    },
    {
      "cell_type": "markdown",
      "source": [
        "En primer lugar, la plantilla es una cadena de caracteres que tiene marcas rodeadas por los caracteres { y } en los campos donde se tendrán que insertar valores. Aunque no es obligatorio, es recomendable numerar esos campos empezando desde el 0 y llegando, en este caso, hasta el 4.\n",
        "\n",
        "Además del número, cada campo también puede tener una especificación de su formato, la cual viene a continuación del caracter :. En nuestro caso, los campos 0 y 1 no tienen ningún formato, así que lo que metamos en esas posiciones se remplazará sin ningún cambio. Para el campo 2 sólo usamos el caracter d para indicar que se trataba de un número entero. Para los campos 3 y 4 especificamos que se trataban de números decimales y además dijimos que nos interesaba tener 1 dígito decimal en el primer caso y 2 dígitos decimales en el segundo. Esto quedó especificado usando los formatos .1f y .2f respectivamente.\n",
        "\n",
        "Para usar una plantilla se tiene que invocar el método format utilizando como parámetros los valores que queremos insertar en los campos. En nuestro caso, invocamos la función format con 5 parámetros:"
      ],
      "metadata": {
        "id": "WDxtMVD2x_cd"
      }
    },
    {
      "cell_type": "code",
      "source": [
        "mensaje = plantilla.format('Twingo', 'Wing', 2010, 30, 1.5)\n",
        "print(mensaje)"
      ],
      "metadata": {
        "colab": {
          "base_uri": "https://localhost:8080/"
        },
        "id": "xul5sBJvxhTi",
        "outputId": "90772417-ad70-4fa0-8763-e0a97e66626e"
      },
      "execution_count": null,
      "outputs": [
        {
          "output_type": "stream",
          "name": "stdout",
          "text": [
            "Un Twingo Wing del 2010 con motor de 30.0 litros es capaz de pasar de 0 a 100 kph en 1.50 segundos\n"
          ]
        }
      ]
    },
    {
      "cell_type": "markdown",
      "source": [
        "Acá puede verse la importancia de numerar los campos: el valor marca quedará en el campo marcado con el 0, el valor modelo en el campo marcado con el 1 y así sucesivamente. Esto significa que el orden en el que aparecen los campos en la plantilla no necesariamente es el mismo orden en que se deben pasar los argumentos. También significa que, si hubiéramos marcado dos campos con el mismo número, el valor correspondiente habría aparecido dos veces en el mensaje."
      ],
      "metadata": {
        "id": "56qz5Cz0yWHe"
      }
    },
    {
      "cell_type": "markdown",
      "source": [
        "Estudiemos ahora otros mensajes que tienen un poco más de complicaciones que no son fáciles de solucionar sólo usando concatenación de cadenas:"
      ],
      "metadata": {
        "id": "fw-g1ESLytAH"
      }
    },
    {
      "cell_type": "markdown",
      "source": [
        "100 metros     5.3 s @ 126 kph\n",
        "\n",
        "500 metros    13.6 s @ 211 kph\n",
        "\n",
        "1000 metros   22.0 s @ 249 kph"
      ],
      "metadata": {
        "id": "qiMF7WjmyvAd"
      }
    },
    {
      "cell_type": "markdown",
      "source": [
        "Estos nuevos mensajes tienen una característica que no tenían los mensajes anteriores: los campos no están completamente llenos y están alineados a la derecha (columnas 2 y 3) o a la izquierda (columna 1). Analicemos entonces la plantilla que se utilizó en este caso"
      ],
      "metadata": {
        "id": "DlEaHh4fy_Sq"
      }
    },
    {
      "cell_type": "code",
      "source": [
        "plantilla2 = \"{0:<14}{1:>4.1f} s @ {2:>3d} kph\""
      ],
      "metadata": {
        "id": "viUM-32ByBtR"
      },
      "execution_count": null,
      "outputs": []
    },
    {
      "cell_type": "markdown",
      "source": [
        "El formato para el primer campo dice <14, lo cual se interpreta como que se debe alinear el contenido a la izquierda y que debe tener 14 caracteres de ancho en total. Si el contenido del campo es más corto que esto, se agregarán tantos espacios como haga falta a la derecha del contenido.\n",
        "\n",
        "El formato para el segundo campo dice >4.1f. Como ya sabemos, .1f significa que se tratará de un número con exactamente un decimal. La otra parte, >4 indica que el número debe alinearse a la derecha y que debe ocupar, en total, el espacio de 4 caracteres. En este caso como el número está alineado a la derecha los caracteres faltantes se agregan a la izquierda del contenido.\n",
        "\n",
        "El formato para el tercer campo es muy similar: se espera un número entero que terminará alineado a la derecha en una columna de 3 caracteres de ancho.\n",
        "\n",
        "Finalmente, veamos cómo se generaron las 3 cadenas invocando el método format sobre la plantilla:"
      ],
      "metadata": {
        "id": "CXJ2srmIz1Lr"
      }
    },
    {
      "cell_type": "code",
      "source": [
        "print(plantilla2.format('100 metros', 5.3, 126))\n",
        "print(plantilla2.format('500 metros', 13.6, 211))\n",
        "print(plantilla2.format('1000 metros', 22, 249))"
      ],
      "metadata": {
        "colab": {
          "base_uri": "https://localhost:8080/"
        },
        "id": "r9Om2ArazD5P",
        "outputId": "b9577c90-2a0f-43e1-9e86-721731cdaac7"
      },
      "execution_count": null,
      "outputs": [
        {
          "output_type": "stream",
          "name": "stdout",
          "text": [
            "100 metros     5.3 s @ 126 kph\n",
            "500 metros    13.6 s @ 211 kph\n",
            "1000 metros   22.0 s @ 249 kph\n"
          ]
        }
      ]
    },
    {
      "cell_type": "markdown",
      "source": [
        "En resumen, cuando se construye una plantilla para usar con el método format se debe:\n",
        "\n",
        "Marcar los campos que se van a remplazar, numerándolos de cero en adelante.\n",
        "\n",
        "Para cada campo que se quiera alinear, indicar si la alineación debe ser a la izquierda (<), derecha (>) o el centro (^) y el ancho que debe tener el campo. También se puede especificar el caracter que se debe utilizar para los espacios vacíos (ver documentación).\n",
        "\n",
        "Especificar el formato, especialmente si se trata de números decimales.\n",
        "\n",
        "Se puede conseguir mucha más información sobre la especificación de plantillas usando el comando help('FORMATTING'). La documentación completa también está disponible en https://docs.python.org/3.7/library/string.html#format-string-syntax\n",
        "\n"
      ],
      "metadata": {
        "id": "rUdk5aW20ufK"
      }
    },
    {
      "cell_type": "markdown",
      "source": [
        "**-Actividad: Escriba una función que reciba una cadena de caracteres y una letra. Su función debe retornar la misma cadena que recibió, pero cambiando todas las vocales por la letra que también llegó por parámetro. Por ejemplo, si la cadena original era “Hola, Mundo!” y la letra entregada fue ‘I’, el resultado debería ser “HIlI, MIndI!”.**"
      ],
      "metadata": {
        "id": "VB_lkbwl1Oe7"
      }
    },
    {
      "cell_type": "code",
      "source": [
        "def cambiar_letra(cadena: str, letra: str)-> str:\n",
        "  nueva_cadena = cadena.replace('a', letra)\n",
        "  nueva_cadena = nueva_cadena.replace('e', letra)\n",
        "  nueva_cadena = nueva_cadena.replace('i', letra)\n",
        "  nueva_cadena = nueva_cadena.replace('o', letra)\n",
        "  nueva_cadena = nueva_cadena.replace('u', letra)\n",
        "  return nueva_cadena\n",
        "\n",
        "cadena = input('Cadena: ')\n",
        "letra = input('Letra: ')\n",
        "cambio = cambiar_letra(cadena, letra)\n",
        "print(cambio)"
      ],
      "metadata": {
        "colab": {
          "base_uri": "https://localhost:8080/"
        },
        "id": "VdjllKVoz4Uf",
        "outputId": "40dbb34a-10d4-49b8-c0d2-2ed706a60771"
      },
      "execution_count": null,
      "outputs": [
        {
          "output_type": "stream",
          "name": "stdout",
          "text": [
            "Cadena: Hola que mas como te encuentras el dia de hoy\n",
            "Letra: p\n",
            "Hplp qpp mps cpmp tp pncppntrps pl dpp dp hpy\n"
          ]
        }
      ]
    },
    {
      "cell_type": "markdown",
      "source": [
        "**-Actividad: Escriba una función que reciba dos cadenas de caracteres. La función debe retornar 1 si las cadenas son idénticas, 2 si las cadenas sólo se diferencian por las mayúsculas y minúsculas, o 0 de lo contrario.**"
      ],
      "metadata": {
        "id": "kkWJs-PG3_yZ"
      }
    },
    {
      "cell_type": "code",
      "source": [
        "def comparar_cadenas(cadena1: str, cadena2: str)-> int:\n",
        "  comparacion = 0\n",
        "  if cadena1 == cadena2:\n",
        "    comparacion = 1\n",
        "  elif cadena1.lower() == cadena2.lower():\n",
        "    comparacion = 2\n",
        "  return comparacion\n",
        "\n",
        "cadena1 = input('Cadena 1: ')\n",
        "cadena2 = input('Cadena 2: ')\n",
        "comparacion = comparar_cadenas(cadena1, cadena2)\n",
        "print(comparacion)"
      ],
      "metadata": {
        "colab": {
          "base_uri": "https://localhost:8080/"
        },
        "id": "Gobk14D32_go",
        "outputId": "78d006bd-696a-4c4b-ccef-5602be21b7dd"
      },
      "execution_count": null,
      "outputs": [
        {
          "output_type": "stream",
          "name": "stdout",
          "text": [
            "Cadena 1: HOLA\n",
            "Cadena 2: hOlA\n",
            "2\n"
          ]
        }
      ]
    },
    {
      "cell_type": "markdown",
      "source": [
        "**-Actividad: Escriba una función que reciba dos cadenas de caracteres que sólo van a contener letras mayúsculas y minúsculas. La función debe retornar -1 si en un diccionario la primera cadena debería ir antes que la segunda, debe retornar 1 si la segunda cadena debe ir antes que la primera, o 0 si las dos cadenas son la misma (ignorando mayúsculas y minúsculas).**"
      ],
      "metadata": {
        "id": "FgxKSRVj5Qxy"
      }
    },
    {
      "cell_type": "code",
      "source": [
        "def orden_diccionario(cadena1: str, cadena2: str)-> int:\n",
        "  diccionario = 0\n",
        "  if cadena1 < cadena2:\n",
        "    diccionario = -1\n",
        "  elif cadena2 < cadena1:\n",
        "    diccionario = 1\n",
        "  else:\n",
        "    if cadena1.lower() == cadena2.lower():\n",
        "      diccionario = 0\n",
        "  return diccionario\n",
        "  \n",
        "cadena1 = input('Cadena 1: ')\n",
        "cadena2 = input('Cadena 2: ')\n",
        "orden = orden_diccionario(cadena1, cadena2)\n",
        "print(orden)\n"
      ],
      "metadata": {
        "colab": {
          "base_uri": "https://localhost:8080/"
        },
        "id": "V71L9QJi4795",
        "outputId": "5d021912-112b-4eff-b69d-26d4ef9c8c9c"
      },
      "execution_count": null,
      "outputs": [
        {
          "output_type": "stream",
          "name": "stdout",
          "text": [
            "Cadena 1: AbC\n",
            "Cadena 2: aBc\n",
            "-1\n"
          ]
        }
      ]
    },
    {
      "cell_type": "markdown",
      "source": [
        "**-Actividad: Escriba una función que reciba una cadena de caracteres y cuente las palabras que aparecen en la cadena. Usted puede suponer que la cadena tendrá letras (mayúsculas y minúsculas) y espacios, pero no tendrá ningún signo de puntuación ni espacios seguidos.**"
      ],
      "metadata": {
        "id": "xsdtgllu87Ia"
      }
    },
    {
      "cell_type": "code",
      "source": [
        "def contar_palabras(cadena: str)-> int:\n",
        "  cantidad = len(cadena.split())\n",
        "  return cantidad\n",
        "\n",
        "cadena = input('Cadena: ')\n",
        "palabras = contar_palabras(cadena)\n",
        "print('En la cadena de caracteres hay ', palabras, ' palabras.')"
      ],
      "metadata": {
        "id": "DHgUlaJe8Bpw",
        "colab": {
          "base_uri": "https://localhost:8080/"
        },
        "outputId": "609301c7-0c17-4ad9-d45b-9f9faa4fcc29"
      },
      "execution_count": null,
      "outputs": [
        {
          "output_type": "stream",
          "name": "stdout",
          "text": [
            "Cadena: hola buenas tardes como estas hoy\n",
            "En la cadena de caracteres hay  6  palabras.\n"
          ]
        }
      ]
    },
    {
      "cell_type": "markdown",
      "source": [
        "split: es un método incorporado en Python que separa las palabras dentro de una cadena usando un separador específico y devuelve un array de cadenas. Este método acepta como máximo dos parámetros como argumento."
      ],
      "metadata": {
        "id": "a9ngG5QGRGMk"
      }
    },
    {
      "cell_type": "code",
      "source": [
        "help(str.split)"
      ],
      "metadata": {
        "colab": {
          "base_uri": "https://localhost:8080/"
        },
        "id": "fv4YfzG0Qwlg",
        "outputId": "df702a03-9573-4977-a12c-b24cbd18e7a6"
      },
      "execution_count": null,
      "outputs": [
        {
          "output_type": "stream",
          "name": "stdout",
          "text": [
            "Help on method_descriptor:\n",
            "\n",
            "split(self, /, sep=None, maxsplit=-1)\n",
            "    Return a list of the words in the string, using sep as the delimiter string.\n",
            "    \n",
            "    sep\n",
            "      The delimiter according which to split the string.\n",
            "      None (the default value) means split according to any whitespace,\n",
            "      and discard empty strings from the result.\n",
            "    maxsplit\n",
            "      Maximum number of splits to do.\n",
            "      -1 (the default value) means no limit.\n",
            "\n"
          ]
        }
      ]
    },
    {
      "cell_type": "markdown",
      "source": [
        "len: también es un método incorporado de Python, que devuelve el número de cadenas en un array o cuenta la longitud de los elementos en un objeto."
      ],
      "metadata": {
        "id": "v6BGDIZbRXnp"
      }
    },
    {
      "cell_type": "code",
      "source": [
        "help(len)"
      ],
      "metadata": {
        "colab": {
          "base_uri": "https://localhost:8080/"
        },
        "id": "q6lUsqwORK3p",
        "outputId": "6bd56b8f-4eed-4039-9c21-2d85c841061f"
      },
      "execution_count": null,
      "outputs": [
        {
          "output_type": "stream",
          "name": "stdout",
          "text": [
            "Help on built-in function len in module builtins:\n",
            "\n",
            "len(obj, /)\n",
            "    Return the number of items in a container.\n",
            "\n"
          ]
        }
      ]
    },
    {
      "cell_type": "markdown",
      "source": [
        "-Actividad: Tres equipos de futbol participaron en un pequeño torneo en que jugaron entre ellos 3 partidos. Escriba una función que reciba el nombre de los tres equipos y los marcadores de los tres partidos, y que retorne una tabla con las posiciones de los equipos al finalizar el torneo. La función recibirá entonces 9 parámetros: primero los nombres de los tres equipos y luego 6 enteros con los marcadores de los 3 partidos. Cada partido ganado entregaba 3 puntos y cada partido empatado entregaba 1 punto. La tabla con el resultado del torneo tiene que ser una cadena de caracteres con la información organizada en columnas bien alineadas. Las columnas deben estar organizadas de la siguiente forma: \n",
        "\n",
        "posición,\n",
        "\n",
        "nombre del equipo,\n",
        "\n",
        "puntos obtenidos,\n",
        "\n",
        "partidos jugados,\n",
        "\n",
        "partidos ganados,\n",
        "\n",
        "partidos empatados,\n",
        "\n",
        "partidos perdidos,\n",
        "\n",
        "goles a favor,\n",
        "\n",
        "goles en contra,\n",
        "\n",
        "diferencia de goles "
      ],
      "metadata": {
        "id": "3t24dpD0RgYo"
      }
    },
    {
      "cell_type": "code",
      "source": [
        "def pequeño_torneo(equipo_a: str, equipo_b: str, equipo_c: str, goles_a_b: int, goles_b_a: int, goles_a_c: int, goles_c_a: int, goles_b_c: int, goles_c_b: int)-> str:\n",
        "  puntos_a = 0\n",
        "  puntos_b = 0\n",
        "  puntos_c = 0\n",
        "  perdidos_a = 0\n",
        "  perdidos_b = 0\n",
        "  perdidos_c = 0\n",
        "  ganados_a = 0\n",
        "  ganados_b = 0\n",
        "  ganados_c = 0\n",
        "  empatados_a = 0\n",
        "  empatados_b = 0\n",
        "  empatados_c = 0\n",
        "  puntos_ganador = 0\n",
        "  equipo_a_total = goles_a_b + goles_a_c\n",
        "  equipo_b_total = goles_b_a + goles_b_c\n",
        "  equipo_c_total = goles_c_a + goles_c_b\n",
        "\n",
        "  #Primer partido\n",
        "  if goles_a_b > goles_b_a:\n",
        "    puntos_a += 3\n",
        "    ganados_a += 1\n",
        "    perdidos_b += 1\n",
        "  elif goles_a_b < goles_b_a:\n",
        "    puntos_b += 3\n",
        "    ganados_b += 1\n",
        "    perdidos_a +=1\n",
        "  elif goles_a_b == goles_b_a:\n",
        "    puntos_a += 1\n",
        "    puntos_b += 1\n",
        "    empatados_a += 1\n",
        "    empatados_b += 1\n",
        "  \n",
        "  #Segundo partido\n",
        "  if goles_a_c > goles_c_a:\n",
        "    puntos_a += 3\n",
        "    ganados_a += 1\n",
        "    perdidos_c += 1\n",
        "  elif goles_a_c < goles_c_a:\n",
        "    puntos_c += 3\n",
        "    ganados_c += 1\n",
        "    perdidos_a += 1\n",
        "  elif goles_a_c == goles_c_a:\n",
        "    puntos_a += 1\n",
        "    puntos_c += 1\n",
        "    empatados_a += 1\n",
        "    empatados_c += 1\n",
        "  \n",
        "  #Tercer partido\n",
        "  if goles_b_c > goles_c_b:\n",
        "    puntos_b += 3\n",
        "    ganados_b += 1\n",
        "    perdidos_c += 1\n",
        "  elif goles_b_c < goles_c_b:\n",
        "    puntos_c += 3\n",
        "    ganados_c += 1\n",
        "    perdidos_b += 1\n",
        "  elif goles_b_c == goles_c_b:\n",
        "    puntos_b += 1\n",
        "    puntos_c += 1\n",
        "    empatados_b += 1\n",
        "    empatados_c += 1\n",
        "\n",
        "  ganador_puntos = puntos_a\n",
        "  ganador = equipo_a\n",
        "  segundo = \"\"\n",
        "  #Ganador\n",
        "  if puntos_b > ganador_puntos:\n",
        "    ganador = equipo_b\n",
        "    ganador_puntos = puntos_b\n",
        "  if puntos_c > ganador_puntos:\n",
        "    ganador = equipo_c\n",
        "    ganador_puntos = puntos_c\n",
        "  \n",
        "  \n",
        "  \n",
        "\n",
        "  \n",
        "      \n",
        "  return \"Posición\\tNombre del equipo\\tPuntos obtenidos\\tPartidos jugados\\tPartidos ganados\\tPartidos empatados\\tPartidos perdidos\\tGoles a favor\\tGoles en contra\\t Diferencia de goles\" + \"\\n\" + \"1\\t\\t\\t\" + ganador + \"\\t\\t\\t\" + str(ganador_puntos) + \"\\t\\t\\t3\" + \"\\n\" + \"2\\t\\t\" + segundo + \"\\n\" + \"3\"\n",
        "\n",
        "equipo_a = input('Nombre del equipo A: ')\n",
        "equipo_b = input('Nombre del equipo B: ')\n",
        "equipo_c = input('Nombre del equipo C: ')\n",
        "goles_a_b = int(input('Goles partido A vs B: '))\n",
        "goles_b_a = int(input('Goles partido B vs A: '))\n",
        "goles_a_c = int(input('Goles partido A vs C: '))\n",
        "goles_c_a = int(input('Goles partido C vs A: '))\n",
        "goles_b_c = int(input('Goles partido B vs C: '))\n",
        "goles_c_b = int(input('Goles partido C vs B: '))\n",
        "torneo = pequeño_torneo(equipo_a, equipo_b, equipo_c, goles_a_b, goles_b_a, goles_a_c, goles_c_a, goles_b_c, goles_c_b)\n",
        "print(torneo)\n"
      ],
      "metadata": {
        "id": "eqStmkFRRZgo",
        "colab": {
          "base_uri": "https://localhost:8080/"
        },
        "outputId": "dd60dccd-2559-4572-cf26-3e147ca44247"
      },
      "execution_count": null,
      "outputs": [
        {
          "output_type": "stream",
          "name": "stdout",
          "text": [
            "Nombre del equipo A: jagu\n",
            "Nombre del equipo B: buna\n",
            "Nombre del equipo C: bene\n",
            "Goles partido A vs B: 12\n",
            "Goles partido B vs A: 2\n",
            "Goles partido A vs C: 13\n",
            "Goles partido C vs A: 2\n",
            "Goles partido B vs C: 1\n",
            "Goles partido C vs B: 1\n",
            "Posición\tNombre del equipo\tPuntos obtenidos\tPartidos jugados\tPartidos ganados\tPartidos empatados\tPartidos perdidos\tGoles a favor\tGoles en contra\t Diferencia de goles\n",
            "1\t\t\tjagu\t\t\t6\t\t\t3\n",
            "2\t\t\n",
            "3\n"
          ]
        }
      ]
    },
    {
      "cell_type": "markdown",
      "source": [
        "-Actividad: Escriba una función que, dada la altura de un edificio, retorne una cadena como en el siguiente ejemplo: “Un objeto que cae de un edificio de 30 metros tarda 2.47 segundos en llegar al piso y alcanza una velocidad de 24.25 metros por segundo.” Su programa debe usar las funciones de formato de cadenas."
      ],
      "metadata": {
        "id": "fNttBitYDWVf"
      }
    },
    {
      "cell_type": "markdown",
      "source": [
        "Ayuda: El tiempo que tarda la caída es igual a la raíz cuadrada de dos veces la altura sobre la aceleración de la gravedad (9.8 m/s2). La velocidad que alcanza el objeto es igual al tiempo de la caída multiplicado por la aceleración de la gravedad."
      ],
      "metadata": {
        "id": "-7MEEIdK71ks"
      }
    },
    {
      "cell_type": "code",
      "source": [
        "import math \n",
        "def caida_libre(altura: float)-> str:\n",
        "  formato = \"Un objeto que cae de un edificio de {0:.2f} metros tarda {1:.2f} segundos en llegar al piso y alcanza una velocidad de {2:.2f} metros por segundo.\"\n",
        "  tiempo_caida = math.sqrt(((altura)**2 / 9.8))\n",
        "  velocidad = tiempo_caida * (9.8)\n",
        "  mensaje = formato.format(altura, tiempo_caida, velocidad)\n",
        "  return mensaje\n",
        "\n",
        "altura = float(input('Ingrese la altura del edificio: '))\n",
        "caida = caida_libre(altura)\n",
        "print(caida)\n"
      ],
      "metadata": {
        "id": "SooYVFbUTklH",
        "colab": {
          "base_uri": "https://localhost:8080/"
        },
        "outputId": "3507559f-404a-453f-f1ae-a3cde73d91eb"
      },
      "execution_count": null,
      "outputs": [
        {
          "output_type": "stream",
          "name": "stdout",
          "text": [
            "Ingrese la altura del edificio: 14.2\n",
            "Un objeto que cae de un edificio de 14.20 metros tarda 4.54 segundos en llegar al piso y alcanza una velocidad de 44.45 metros por segundo.\n"
          ]
        }
      ]
    },
    {
      "cell_type": "markdown",
      "source": [
        "# Librerías estándar"
      ],
      "metadata": {
        "id": "Mgca-128AJtU"
      }
    },
    {
      "cell_type": "markdown",
      "source": [
        "**El módulo random**"
      ],
      "metadata": {
        "id": "-qckd74kA458"
      }
    },
    {
      "cell_type": "markdown",
      "source": [
        "Valores continuos"
      ],
      "metadata": {
        "id": "F1aqEFmqBuip"
      }
    },
    {
      "cell_type": "markdown",
      "source": [
        "Dentro del módulo random, la función también llamada random es tal vez la más utilizada porque permite generar valores uniformemente distribuidos entre 0 y 1. Es decir, cada vez que se invoque la función random.random() se obtendrá un número entre 0 y 1, escogido de forma completamente aleatoria. Note que 0 es un valor posible, pero 1 está por fuera del intervalo considerado."
      ],
      "metadata": {
        "id": "RYb1T218Bd1k"
      }
    },
    {
      "cell_type": "code",
      "source": [
        "import random\n",
        "\n",
        "valor = random.random() * 7\n",
        "print(valor)"
      ],
      "metadata": {
        "colab": {
          "base_uri": "https://localhost:8080/"
        },
        "id": "ifCSPAik7wg4",
        "outputId": "2aef952a-15b6-476d-ce9e-a36902d10891"
      },
      "execution_count": null,
      "outputs": [
        {
          "output_type": "stream",
          "name": "stdout",
          "text": [
            "3.953447117003786\n"
          ]
        }
      ]
    },
    {
      "cell_type": "markdown",
      "source": [
        "Valores discretos"
      ],
      "metadata": {
        "id": "eHkNbfIuBwzG"
      }
    },
    {
      "cell_type": "markdown",
      "source": [
        "Una variable aleatoria discreta toma sólo valores discretos dentro de un rango determinado, con una probabilidad que depende de la distribución asociada a la variable. A diferencia de las variables continuas, cuando las variables son discretas los posibles valores que pueden asumir son enumerables.\n",
        "\n",
        "La principal función para generar variables aleatorias discretas se llama randint y sirve para generar valores enteros entre dos números ‘a’ y ‘b’. En el siguiente programa se usa esta función para simular el lanzamiento de un dado:"
      ],
      "metadata": {
        "id": "V2x-MxBWB7Z_"
      }
    },
    {
      "cell_type": "code",
      "source": [
        "import random \n",
        "\n",
        "lanzamiento = random.randint(1, 6)\n",
        "print(lanzamiento)"
      ],
      "metadata": {
        "colab": {
          "base_uri": "https://localhost:8080/"
        },
        "id": "aTP24FT4Bh4y",
        "outputId": "70e659b0-d81b-4db3-d128-ae295a38fc66"
      },
      "execution_count": null,
      "outputs": [
        {
          "output_type": "stream",
          "name": "stdout",
          "text": [
            "6\n"
          ]
        }
      ]
    },
    {
      "cell_type": "markdown",
      "source": [
        "Una función relacionada es randrange, que genera valores enteros desde un número inicial (start), hasta un número final (stop), con un cierto intervalo (step). Por ejemplo, si queremos un número múltiplo de 3 entre 6 y 30 podemos usar la siguiente invocación:"
      ],
      "metadata": {
        "id": "6_1ute_HCT9m"
      }
    },
    {
      "cell_type": "code",
      "source": [
        "numero = random.randrange(6, 30, 3)\n",
        "print(numero)"
      ],
      "metadata": {
        "colab": {
          "base_uri": "https://localhost:8080/"
        },
        "id": "tKFn7FFtCA0A",
        "outputId": "3d6b331c-78a0-4303-c89a-b7f184846c60"
      },
      "execution_count": null,
      "outputs": [
        {
          "output_type": "stream",
          "name": "stdout",
          "text": [
            "27\n"
          ]
        }
      ]
    },
    {
      "cell_type": "markdown",
      "source": [
        "Variables aleatorias"
      ],
      "metadata": {
        "id": "PeYsE9_yCfyn"
      }
    },
    {
      "cell_type": "markdown",
      "source": [
        "Finalmente, el módulo random incluye funciones para generar valores siguiendo la distribución triangular, Beta, exponencial, Gamma, Normal, y Pareto, entre otras.\n",
        "\n",
        "Como esta no pretende ser una revisión exhaustiva sólo revisaremos la función random.normalvariate, que genera números distribuidos de acuerdo a una distribución normal."
      ],
      "metadata": {
        "id": "_H-IvDy-Ctrn"
      }
    },
    {
      "cell_type": "code",
      "source": [
        "help(random.normalvariate)"
      ],
      "metadata": {
        "colab": {
          "base_uri": "https://localhost:8080/"
        },
        "id": "331CUwGACWlB",
        "outputId": "2fdf5c1e-68d4-4c03-fb88-464ee1b15449"
      },
      "execution_count": null,
      "outputs": [
        {
          "output_type": "stream",
          "name": "stdout",
          "text": [
            "Help on method normalvariate in module random:\n",
            "\n",
            "normalvariate(mu, sigma) method of random.Random instance\n",
            "    Normal distribution.\n",
            "    \n",
            "    mu is the mean, and sigma is the standard deviation.\n",
            "\n"
          ]
        }
      ]
    },
    {
      "cell_type": "markdown",
      "source": [
        "Esta función requiere de un parámetro mu (el valor promedio de los valores en la distribución) y de un parámetro sigma (la desviación estándar de los valores) para generar valores que se distribuyan de forma normal de acuerdo con los parámetros. Los siguientes son valores generados con esta función usando una media de 10 y una desviación estándar de 1.5:"
      ],
      "metadata": {
        "id": "1xsHUfysC-Uu"
      }
    },
    {
      "cell_type": "code",
      "source": [
        "random.normalvariate(10,1.5)"
      ],
      "metadata": {
        "colab": {
          "base_uri": "https://localhost:8080/"
        },
        "id": "zagALmcIC0xf",
        "outputId": "ea987802-a874-4c08-f35c-44c5f7ddb77f"
      },
      "execution_count": null,
      "outputs": [
        {
          "output_type": "execute_result",
          "data": {
            "text/plain": [
              "11.017263509849563"
            ]
          },
          "metadata": {},
          "execution_count": 14
        }
      ]
    },
    {
      "cell_type": "code",
      "source": [
        "random.normalvariate(10,1.5)"
      ],
      "metadata": {
        "colab": {
          "base_uri": "https://localhost:8080/"
        },
        "id": "_-rBawIDDCQU",
        "outputId": "d0e46b9c-91ec-495b-a919-790d6b9cd371"
      },
      "execution_count": null,
      "outputs": [
        {
          "output_type": "execute_result",
          "data": {
            "text/plain": [
              "9.556058510651482"
            ]
          },
          "metadata": {},
          "execution_count": 15
        }
      ]
    },
    {
      "cell_type": "markdown",
      "source": [
        "-Actividad: Usando la función random.normalvariate genere 15 números aleatorios con media 3.8 y desviación estándar de 1. Calcule ahora usted la media de los números generados y la desviación estándar. ¿Qué tan lejos están de la media y la desviación planeada? Ejecute su programa y observe cómo cambian los resultados con cada ejecución.\n",
        "\n"
      ],
      "metadata": {
        "id": "DOMpigKEDM4f"
      }
    },
    {
      "cell_type": "code",
      "source": [
        "random.normalvariate(3.8, 1)"
      ],
      "metadata": {
        "colab": {
          "base_uri": "https://localhost:8080/"
        },
        "id": "U-VBfi0SDEyV",
        "outputId": "51c5c366-30d3-4c20-a7cc-b2df778f6a74"
      },
      "execution_count": null,
      "outputs": [
        {
          "output_type": "execute_result",
          "data": {
            "text/plain": [
              "3.702422838270275"
            ]
          },
          "metadata": {},
          "execution_count": 16
        }
      ]
    },
    {
      "cell_type": "code",
      "source": [
        "random.normalvariate(3.8, 1)"
      ],
      "metadata": {
        "id": "82UqW7cpDVaN",
        "outputId": "92a3b49b-f90e-4173-fefd-c8bc84c0d058",
        "colab": {
          "base_uri": "https://localhost:8080/"
        }
      },
      "execution_count": null,
      "outputs": [
        {
          "output_type": "execute_result",
          "data": {
            "text/plain": [
              "3.3382108032999036"
            ]
          },
          "metadata": {},
          "execution_count": 17
        }
      ]
    },
    {
      "cell_type": "markdown",
      "source": [
        "Manos a la obra: Cree la función mas_a que dadas 4 cadenas de caracteres retorne la que tiene mayor número de \"a\". No debe importar si la vocal está en mayúscula o minúscula. Si más de una cadena cumple la condición, se debe retornar la primera."
      ],
      "metadata": {
        "id": "wZtZhEVXB5CN"
      }
    },
    {
      "cell_type": "code",
      "source": [
        "def mas_a(cad1: str, cad2: str, cad3: str, cad4: str)-> str:\n",
        "  mayor = cad1.lower().count('a')\n",
        "  cadena = cad1\n",
        "  if cad2.lower().count('a') > mayor:\n",
        "    cadena = cad2\n",
        "  if cad3.lower().count('a') > cadena.lower().count('a'):\n",
        "    cadena = cad3\n",
        "  if cad4.lower().count('a') > cadena.lower().count('a'):\n",
        "    cadena = cad4\n",
        "  return cadena\n",
        "\n",
        "cad1 = input('Cadena 1 ')\n",
        "cad2 = input('Cadena 2 ')\n",
        "cad3 = input('Cadena 3 ')\n",
        "cad4 = input('Cadena 4 ')\n",
        "mayor = mas_a(cad1, cad2, cad3, cad4)\n",
        "print(mayor)\n"
      ],
      "metadata": {
        "id": "Kh1jJCIqDW6F",
        "colab": {
          "base_uri": "https://localhost:8080/"
        },
        "outputId": "62bf449d-0a0c-49ad-c678-79cd27a134db"
      },
      "execution_count": null,
      "outputs": [
        {
          "output_type": "stream",
          "name": "stdout",
          "text": [
            "Cadena 1 Acampar\n",
            "Cadena 2 fresa\n",
            "Cadena 3 carro\n",
            "Cadena 4 manzana\n",
            "Acampar\n"
          ]
        }
      ]
    },
    {
      "cell_type": "markdown",
      "source": [
        "RETO 4: Pedro es un estudiante inteligente pero desinteresado por algunas de sus materias. A Pedro le gustan las clases en las que aprende programación, matemática, filosofía y literatura. Por lo anterior, cualquier materia que lleve en su título alguna de estas palabras, será de su agrado.\n",
        "\n",
        "Pedro está planeando su horario, pero ha puesto a su asistente digital a que le dé posibles conjuntos de tres materias para inscribir en su semestre. Él quiere saber, dados los títulos de las tres materias, cuántas de estas son de su agrado. Se sabe que los nombres de las materias irán sin acentos y en minúsculas cuando sean recibidos por parámetro en la función. "
      ],
      "metadata": {
        "id": "0MFPq_eiMTYG"
      }
    },
    {
      "cell_type": "code",
      "source": [
        "#RETO 4 modulo 2\n",
        "#Curso de programación en Python\n",
        "\n",
        "def conteo_de_materias(nombre_materia_1: str, nombre_materia_2: str, nombre_materia_3: str)-> int:\n",
        "  conteo_materias = 0\n",
        "  if \"programacion\" in nombre_materia_1.lower() or \"matematica\" in nombre_materia_1.lower() or \"filosofia\" in nombre_materia_1.lower() or \"literatura\" in nombre_materia_1.lower():\n",
        "    conteo_materias += 1\n",
        "  if \"programacion\" in nombre_materia_2.lower() or \"matematica\" in nombre_materia_2.lower() or \"filosofia\" in nombre_materia_2.lower() or \"literatura\" in nombre_materia_2.lower():\n",
        "    conteo_materias += 1\n",
        "  if \"programacion\" in nombre_materia_3.lower() or \"matematica\" in nombre_materia_3.lower() or \"filosofia\" in nombre_materia_3.lower() or \"literatura\" in nombre_materia_3.lower():\n",
        "    conteo_materias += 1\n",
        "  return conteo_materias\n",
        "\n",
        "nombre_materia_1 = input('Materia 1: ')\n",
        "nombre_materia_2 = input('Materia 2: ')\n",
        "nombre_materia_3 = input('Materia 3: ')\n",
        "agrado = conteo_de_materias(nombre_materia_1, nombre_materia_2, nombre_materia_3)\n",
        "print(agrado)"
      ],
      "metadata": {
        "colab": {
          "base_uri": "https://localhost:8080/"
        },
        "id": "XHXHqj6VEJ2v",
        "outputId": "4d4226ef-d1c6-470a-d174-9d49d374ba6e"
      },
      "execution_count": null,
      "outputs": [
        {
          "output_type": "stream",
          "name": "stdout",
          "text": [
            "Materia 1: Filosofia de la informacion\n",
            "Materia 2: matematicas especiales\n",
            "Materia 3: programacion POO\n",
            "3\n"
          ]
        }
      ]
    },
    {
      "cell_type": "markdown",
      "source": [
        "# DICCIONARIOS"
      ],
      "metadata": {
        "id": "S55hRo5ylIiV"
      }
    },
    {
      "cell_type": "markdown",
      "source": [
        "# El concepto de diccionario"
      ],
      "metadata": {
        "id": "rMa6ujbNokN5"
      }
    },
    {
      "cell_type": "markdown",
      "source": [
        "Un diccionario es una estructura de datos que contiene muchos valores, identificados cada uno con una llave que es única.\n",
        "\n",
        "El término estructura de datos hace referencia a una forma de organizar datos para poder almacenarlos, modificarlos y consultarlos. Técnicamente, las variables que hemos venido utilizando son estructuras de datos pero, como sólo tienen un valor, raramente se les aplica el término a estas.\n",
        "\n",
        "Un diccionario es entonces una estructura de datos (una forma de organizar datos), donde a cada valor que queramos almacenar se le asigna una llave (una llave es también un valor, pero además es único dentro del diccionario). Un buen ejemplo de esto es el diccionario de un lenguaje como el Español: a cada palabra (una llave) le corresponde una definición (un valor). Otro ejemplo es una red social como Twitter: a cada nombre de usuario (una llave) le corresponde un usuario (un valor) con toda su información.\n",
        "\n",
        "Hay básicamente dos usos que nosotros le damos a un diccionario en la vida diaria. El primero es para buscar la definición de una palabra: si nosotros conocemos la palabra (la llave), podemos obtener la definición asociada a esta (el valor). El segundo uso de un diccionario es descubrir si una palabra existe o no: si no encontramos una palabra entre las llaves del diccionario, significa que la palabra no existe y que no tiene una definición. Note que un diccionario está construido pensando en que el criterio de búsqueda es la palabra y no la definición. Sería muy extraño que alguien intentara buscar la palabra en Español que corresponde a la definición “Clase o condición a la cual está sujeta la vida de cada uno”."
      ],
      "metadata": {
        "id": "jrZ_ArDIo9iO"
      }
    },
    {
      "cell_type": "markdown",
      "source": [
        "# El tipo dict en Python"
      ],
      "metadata": {
        "id": "dEPafcDxpvGO"
      }
    },
    {
      "cell_type": "markdown",
      "source": [
        "En Python los diccionarios son un elemento básico del lenguaje que, así como las cadenas, está perfectamente integrado dentro de la sintaxis del lenguaje. Para crear un diccionario basta con indicar que se quiere crear un diccionario (usando los caracteres {}) y separar las parejas llave:valor usando comas. Tomemos como ejemplo el siguiente fragmento, en el cual se han incluido cambios de línea para facilitar la lectura:"
      ],
      "metadata": {
        "id": "Gc9k_sDDpx6b"
      }
    },
    {
      "cell_type": "code",
      "source": [
        "palabras = { 'imagen' : 'Figura, representación, semejanza y apariencia de algo',\n",
        "             'figura' : 'Forma exterior de alguien o de algo', \n",
        "             'baraja' : 'Conjunto completo de cartas empleado para juegos de azar',\n",
        "             'posibilidad' : 'Aptitud, potencia u ocasión para ser o existir algo' }"
      ],
      "metadata": {
        "id": "W876nho1Pvvc"
      },
      "execution_count": null,
      "outputs": []
    },
    {
      "cell_type": "markdown",
      "source": [
        "Este fragmento crea una nueva variable con el nombre palabras. A diferencia de variables más sencillas que sólo tienen un valor, esta nueva variable es un diccionario y contiene 4 parejas llave-valor. También habríamos podido crear un diccionario vacío con la expresión palabras = {}. Observe lo que pasa si aplicamos las funciones type() y len() a nuestra nueva variable:"
      ],
      "metadata": {
        "id": "QuHJ8qglqIRr"
      }
    },
    {
      "cell_type": "code",
      "source": [
        "type(palabras)"
      ],
      "metadata": {
        "colab": {
          "base_uri": "https://localhost:8080/"
        },
        "id": "A5Ja_IK0p4NN",
        "outputId": "862ad87b-8d0c-4174-8cf6-9b07bf6d4763"
      },
      "execution_count": null,
      "outputs": [
        {
          "output_type": "execute_result",
          "data": {
            "text/plain": [
              "dict"
            ]
          },
          "metadata": {},
          "execution_count": 24
        }
      ]
    },
    {
      "cell_type": "code",
      "source": [
        "len(palabras)"
      ],
      "metadata": {
        "colab": {
          "base_uri": "https://localhost:8080/"
        },
        "id": "4q9JjgKJqKSI",
        "outputId": "3cb1081e-4653-43a6-c816-9df434f70f07"
      },
      "execution_count": null,
      "outputs": [
        {
          "output_type": "execute_result",
          "data": {
            "text/plain": [
              "4"
            ]
          },
          "metadata": {},
          "execution_count": 25
        }
      ]
    },
    {
      "cell_type": "markdown",
      "source": [
        "Con type(), vemos que Python utiliza el término dict para referirse al tipo de datos de los diccionarios. Con len(), vemos que Python cuenta la cantidad de parejas que hay en el diccionario.\n",
        "\n",
        "Veamos ahora cómo hacemos para consultar el contenido del diccionario:"
      ],
      "metadata": {
        "id": "WzAkd0qcqiW8"
      }
    },
    {
      "cell_type": "code",
      "source": [
        "definicion_imagen = palabras['imagen']\n",
        "definicion_figura = palabras['figura']\n",
        "print(definicion_imagen)\n",
        "print(definicion_figura)"
      ],
      "metadata": {
        "colab": {
          "base_uri": "https://localhost:8080/"
        },
        "id": "HWCfKOxLqLrt",
        "outputId": "c215865c-49bb-400b-bc74-99be69753341"
      },
      "execution_count": null,
      "outputs": [
        {
          "output_type": "stream",
          "name": "stdout",
          "text": [
            "Figura, representación, semejanza y apariencia de algo\n",
            "Forma exterior de alguien o de algo\n"
          ]
        }
      ]
    },
    {
      "cell_type": "markdown",
      "source": [
        "En este fragmento estamos consultando el valor asociado a la cadena 'imagen' dentro del diccionario palabras. Para esto usamos el nombre de la variable seguido del nombre de la llave entre paréntesis cuadrados. Note que el nombre de la llave tiene que ser idéntico al que usamos cuando creamos el diccionario. No funcionaría si usáramos 'Imagen' o 'IMAGEN'). Si intentamos extraer un valor usando una llave que no existe, el resultado es un error."
      ],
      "metadata": {
        "id": "veX-yCjirlui"
      }
    },
    {
      "cell_type": "markdown",
      "source": [
        "Para evitar este problema es posible utilizar el operador in que permite consultar si una llave hace parte de un diccionario o no."
      ],
      "metadata": {
        "id": "lwoA9vUrsAAx"
      }
    },
    {
      "cell_type": "code",
      "source": [
        "llave = 'llave'\n",
        "\n",
        "if llave in palabras: \n",
        "  definicion = palabras[llave]\n",
        "else:\n",
        "  definicion = \"La palabra '\" + llave + \"' no se encuentra en el diccionario\"\n",
        "\n",
        "print(definicion)"
      ],
      "metadata": {
        "colab": {
          "base_uri": "https://localhost:8080/"
        },
        "id": "P1sSduo2qpjj",
        "outputId": "52137c11-7330-46da-9feb-1c4331ef8d18"
      },
      "execution_count": null,
      "outputs": [
        {
          "output_type": "stream",
          "name": "stdout",
          "text": [
            "La palabra 'llave' no se encuentra en el diccionario\n"
          ]
        }
      ]
    },
    {
      "cell_type": "markdown",
      "source": [
        "NOMBRES Y VALORES DE VARIABLES vs. NOMBRES DE LLAVE"
      ],
      "metadata": {
        "id": "VzZ0y4Lhs8e_"
      }
    },
    {
      "cell_type": "markdown",
      "source": [
        "En la sección mostramos el uso básico de los diccionarios y la forma en la que se extrae un valor. En esta sección vamos a explorar uno de los errores más comunes que ocurren al utilizar diccionarios: confundir el nombre de una variable, con el valor de una variable y con el nombre de una llave.\n",
        "\n",
        "En primer lugar, estudie con atención el siguiente fragmento de código y escriba los valores que debería imprimir. Si se produce algún error en alguna parte, explíquelo."
      ],
      "metadata": {
        "id": "-971OYNzteyj"
      }
    },
    {
      "cell_type": "code",
      "source": [
        "diccionario = {\"llave\":\"valor\", \"palabra\":\"definición\"}\n",
        "llave = \"llave\"\n",
        "print(\"1.\", diccionario[\"llave\"])\n",
        "print(\"2.\", diccionario[llave])\n",
        "llave = \"palabra\"\n",
        "print(\"3.\", diccionario[llave])\n",
        "print(\"4.\", diccionario[\"palabra\"])\n",
        "#print(\"5.\", diccionario[palabra])"
      ],
      "metadata": {
        "colab": {
          "base_uri": "https://localhost:8080/"
        },
        "id": "MAEvIUVssNDX",
        "outputId": "1f5ee1f2-9c91-4b07-b4d2-b71f90901771"
      },
      "execution_count": null,
      "outputs": [
        {
          "output_type": "stream",
          "name": "stdout",
          "text": [
            "1. valor\n",
            "2. valor\n",
            "3. definición\n",
            "4. definición\n"
          ]
        }
      ]
    },
    {
      "cell_type": "markdown",
      "source": [
        "# El método get"
      ],
      "metadata": {
        "id": "K83yZO3DuXSo"
      }
    },
    {
      "cell_type": "markdown",
      "source": [
        "Como ya vimos, cuando se intenta consultar un diccionario usando una llave que no existe se produce un error. Una forma de evitar esto es consultar primero si la llave existe usando el operador in. Otra alternativa, muy usada porque reduce el tamaño del código, es usar el método3 get. Este método, que se aplica sobre un diccionario, recibe como parámetros una llave y el valor que se debería retornar si la llave no existe en el diccionario."
      ],
      "metadata": {
        "id": "we_EM0SOugUj"
      }
    },
    {
      "cell_type": "code",
      "source": [
        "llave = 'IMAGEN'\n",
        "definicion = palabras.get(llave, \"La palabra '\" + llave + \"' no se encuentra en el diccionario\")\n",
        "print(definicion)"
      ],
      "metadata": {
        "colab": {
          "base_uri": "https://localhost:8080/"
        },
        "id": "xb_ZmhXCthCu",
        "outputId": "66e474d9-2f02-4c0a-881b-9a71510eb2b8"
      },
      "execution_count": null,
      "outputs": [
        {
          "output_type": "stream",
          "name": "stdout",
          "text": [
            "La palabra 'IMAGEN' no se encuentra en el diccionario\n"
          ]
        }
      ]
    },
    {
      "cell_type": "markdown",
      "source": [
        "EL VALOR NONE"
      ],
      "metadata": {
        "id": "_VxUwOZ_vVSh"
      }
    },
    {
      "cell_type": "markdown",
      "source": [
        "El valor None, que se puede traducir como ninguno, es un valor que se usa en Python para denotar la “ausencia de un valor”. El tipo de None es NoneType y es ese nombre el que se menciona cuando se hace una operación con este valor."
      ],
      "metadata": {
        "id": "pxyNM0tsvYwT"
      }
    },
    {
      "cell_type": "markdown",
      "source": [
        "Nosotros ya hemos utilizado None para describir el tipo de retorno de una función que no se espera que retorne nada. Ahora vamos a utilizar None como un valor y no como un tipo. Este valor es de mucha utilidad cuando el resultado de una operación puede no existir. Considere por ejemplo el caso de las soluciones reales de una ecuación cuadrática: la ecuación puede tener dos soluciones diferentes, dos soluciones iguales, o ninguna solución. Lo normal sería que, en este último caso, se usara None como valor para las soluciones."
      ],
      "metadata": {
        "id": "ugs3Z58tvlhd"
      }
    },
    {
      "cell_type": "code",
      "source": [
        "import math\n",
        "def solucionar_cuadratica(a: int, b: int, c:int) -> tuple:\n",
        "    \"\"\" Encuentra las soluciones reales de una ecuación cuadrática de la forma\n",
        "        y = ax^2 + bx + c\n",
        "    Parámetros:\n",
        "      a (int): El coeficiente del término de orden 2\n",
        "      b (int): El coeficiente del término de orden 1\n",
        "      c (int): El coeficiente del término de orden 0\n",
        "    Retorna:\n",
        "      (tuple): Una tupla con las soluciones reales de la ecuación.\n",
        "               Retorna None si la ecuación no tiene solución real.\n",
        "    \"\"\"\n",
        "    soluciones = None\n",
        "    determinante = (b**2) - (4*a*c)\n",
        "    if determinante >= 0:\n",
        "        sol1 = -b + (math.sqrt(determinante))\n",
        "        sol2 = -b - (math.sqrt(determinante))\n",
        "        soluciones = (sol1, sol2)\n",
        "    return soluciones\n",
        "\n",
        "def imprimir_soluciones(soluciones: tuple) -> None:\n",
        "    \"\"\" Imprime las soluciones de una ecuación cuadrática o imprime\n",
        "        un mensaje indicando que no había soluciones.\n",
        "    Parámetros:\n",
        "      soluciones (tuple): Una tupla con dos elementos que son las soluciones de la ecuación.\n",
        "                          Si no hay soluciones reales, 'soluciones' debe tener el valor None.\n",
        "    \"\"\"\n",
        "    if soluciones is None:\n",
        "        print(\"La ecuación no tenía soluciones reales\")\n",
        "    else:\n",
        "        print(\"Las soluciones son\", soluciones[0], \"y\", soluciones[1])\n",
        "\n",
        "# Calcular e imprimir las soluciones de una ecuación sin soluciones reales\n",
        "soluciones = solucionar_cuadratica(1,1,1)\n",
        "imprimir_soluciones(soluciones)\n",
        "\n",
        "# Calcular e imprimir las soluciones de una ecuación con dos soluciones reales diferentes\n",
        "soluciones = solucionar_cuadratica(1,0,-1)\n",
        "imprimir_soluciones(soluciones)"
      ],
      "metadata": {
        "colab": {
          "base_uri": "https://localhost:8080/"
        },
        "id": "F03W2ZgDu60y",
        "outputId": "ce57efac-7987-4cfd-8d8d-5de28a61c38f"
      },
      "execution_count": null,
      "outputs": [
        {
          "output_type": "stream",
          "name": "stdout",
          "text": [
            "La ecuación no tenía soluciones reales\n",
            "Las soluciones son 2.0 y -2.0\n"
          ]
        }
      ]
    },
    {
      "cell_type": "markdown",
      "source": [
        "En este fragmento tenemos una función llamada solucionar_cuadratica que recibe los coeficientes de una ecuación cuadrática y calcula una tupla con una pareja de soluciones. Por ahora no se preocupe por la tupla sino por el hecho de que, si la ecuación no tiene soluciones, la función retorna el valor None.\n",
        "\n",
        "La segunda función, imprimir_soluciones espera una tupla con dos soluciones en una tupla o el valor None. Para saber qué mensaje imprimir, la función usa la condición soluciones is None. En general x is None es la expresión preferida en Python para saber si alguna variable tiene el valor None."
      ],
      "metadata": {
        "id": "9b0byDS2wsCy"
      }
    },
    {
      "cell_type": "markdown",
      "source": [
        "EL MÉTODO GET Y EL VALOR NONE"
      ],
      "metadata": {
        "id": "VcUtAAHfxB6_"
      }
    },
    {
      "cell_type": "markdown",
      "source": [
        "La explicación anterior sobre el valor None es relevante porque se usa muy frecuentemente con el método get: si una llave no se encuentra en un diccionario, usar None como valor por defecto es lo más natural en muchos casos y es mucho mejor que usar cosas como cadenas vacías o sólo con espacios. Observemos el uso de get y None en un ejemplo:"
      ],
      "metadata": {
        "id": "VcDLAGtDxH0v"
      }
    },
    {
      "cell_type": "code",
      "source": [
        "def imprimir_definicion(diccionario: dict, palabra: str) -> None:\n",
        "    \"\"\" Imprime la definición de una palabra o, si la palabra no existe,\n",
        "        un mensaje indicando el problema.\n",
        "    Parámetros:\n",
        "      diccionario (dict): Un diccionario con las palabras y sus definiciones\n",
        "      palabra (str): La palabra para la que se quiere la definición\n",
        "    \"\"\"\n",
        "    definicion = diction.get(palabra, None)\n",
        "    if definicion is not None:\n",
        "         print(\"La definición de\", palabra, \"es:\", definicion)\n",
        "    else:\n",
        "         print(\"La palabra '\" + llave + \"' no se encuentra en el diccionario\")\n",
        "diction = {'hola':'saludar', 'llave':'palabra de un diccionario'}\n",
        "asignacion = imprimir_definicion(diction, 'hola')\n",
        "print(asignacion)"
      ],
      "metadata": {
        "colab": {
          "base_uri": "https://localhost:8080/"
        },
        "id": "4WfpKLFuwFiO",
        "outputId": "c4e29f74-8fb9-4fb4-82d3-5a6722b1bdec"
      },
      "execution_count": null,
      "outputs": [
        {
          "output_type": "stream",
          "name": "stdout",
          "text": [
            "La definición de hola es: saludar\n",
            "None\n"
          ]
        }
      ]
    },
    {
      "cell_type": "markdown",
      "source": [
        "# Modificación de diccionarios"
      ],
      "metadata": {
        "id": "WIANw3WNybhI"
      }
    },
    {
      "cell_type": "markdown",
      "source": [
        "AGREGAR UNA DEFINICIÓN: PRIMERA VERSIÓN"
      ],
      "metadata": {
        "id": "8eE7shk35xg_"
      }
    },
    {
      "cell_type": "markdown",
      "source": [
        "Esta primera versión de la función muestra cómo se modifica un diccionario: usando la misma convención que para consultar (paréntesis cuadrados alrededor del nombre de la llave), le asignamos una definición a la palabra. Veamos ahora cómo invocar la nueva función:"
      ],
      "metadata": {
        "id": "8VrN9_wv6nFQ"
      }
    },
    {
      "cell_type": "code",
      "source": [
        "def agregar_definicion(diccionario: dict, palabra: str, definicion: str)-> None:\n",
        "  diccionario[palabra] = definicion\n",
        "\n",
        "palabras = {}\n",
        "agregar_definicion(palabras, 'imagen', 'Figura, representación, semejanza y apariencia de algo.')\n",
        "agregar_definicion(palabras, 'figura', 'Forma exterior de alguien o algo.')\n",
        "print(palabras)"
      ],
      "metadata": {
        "id": "CJVSCE0dxbMm",
        "colab": {
          "base_uri": "https://localhost:8080/"
        },
        "outputId": "3f1cff1e-988e-496a-c8e5-8ecff180d44f"
      },
      "execution_count": null,
      "outputs": [
        {
          "output_type": "stream",
          "name": "stdout",
          "text": [
            "{'imagen': 'Figura, representación, semejanza y apariencia de algo.', 'figura': 'Forma exterior de alguien o algo.'}\n"
          ]
        }
      ]
    },
    {
      "cell_type": "markdown",
      "source": [
        "Después de ejecutar estas 3 instrucciones, vamos a tener un nuevo diccionario llamado palabras que va a tener las definiciones de imagen y figura."
      ],
      "metadata": {
        "id": "eiEO9msG7Dst"
      }
    },
    {
      "cell_type": "markdown",
      "source": [
        "AGREGAR UNA DEFINICIÓN: SEGUNDA VERSIÓN"
      ],
      "metadata": {
        "id": "_lUh4nXD7boc"
      }
    },
    {
      "cell_type": "markdown",
      "source": [
        "Para la segunda versión de la función, vamos a cambiar la signatura para que nuestra función retorne un valor de verdad indicando si se pudo agregar la definición o no. Si la palabra ya existía en el diccionario, no debería agregarse y la función debería retornar el valor False. De lo contrario, debería agregarse y el resultado debería ser True."
      ],
      "metadata": {
        "id": "1RXHP1OA7jjt"
      }
    },
    {
      "cell_type": "code",
      "source": [
        "def agregar_definicion(diccionario: dict, palabra: str, definicion: str)-> bool:\n",
        "  definicion_agregada = False\n",
        "  if palabra not in diccionario:\n",
        "      diccionario[palabra] = definicion\n",
        "      definicion_agregada = True\n",
        "  return definicion_agregada\n",
        "\n",
        "palabras = {}\n",
        "res1 = agregar_definicion(palabras, 'imagen', 'Figura, representación, semejanza y apariencia de algo')\n",
        "res2 = agregar_definicion(palabras, 'figura', 'Forma exterior de alguien o de algo')\n",
        "res3 = agregar_definicion(palabras, 'imagen', 'Figura, representación, semejanza y apariencia de algo')\n",
        "print(res1, res2, res3)"
      ],
      "metadata": {
        "colab": {
          "base_uri": "https://localhost:8080/"
        },
        "id": "CdKsEzJj7eed",
        "outputId": "c7cf3f4f-b6e2-4628-ec43-1c2434e3e355"
      },
      "execution_count": null,
      "outputs": [
        {
          "output_type": "stream",
          "name": "stdout",
          "text": [
            "True True False\n"
          ]
        }
      ]
    },
    {
      "cell_type": "markdown",
      "source": [
        "AGREGAR UNA DEFINICIÓN: TERCERA VERSIÓN"
      ],
      "metadata": {
        "id": "_zgBCWNn83yE"
      }
    },
    {
      "cell_type": "markdown",
      "source": [
        "En la tercera y última versión vamos a ofrecer la posibilidad de tener varias definiciones para una palabra. Para lograr esto vamos a concatenar las definiciones a medida que las vayamos agregando, pero sólo si no habíamos almacenado antes esa misma definición. Para verificar este último punto usaremos la operación not in aplicada sobre un str (la definición que ya teníamos almacenada)."
      ],
      "metadata": {
        "id": "9ehDLOCg9AXJ"
      }
    },
    {
      "cell_type": "code",
      "source": [
        "def agregar_definicion(diccionario: dict, palabra: str, definicion: str)-> bool:\n",
        "  definicion_agregada = False\n",
        "  # La palabra es nueva en el diccionario\n",
        "  if palabra not in diccionario:\n",
        "      diccionario[palabra] = definicion\n",
        "      definicion_agregada = True\n",
        "  # La palabra no es nueva pero la definición sí es nueva\n",
        "  elif definicion not in diccionario[palabra]:\n",
        "      diccionario[palabra] += '\\n' + definicion\n",
        "      definicion_agregada = True\n",
        "  return definicion_agregada\n",
        "\n",
        "palabras = {}\n",
        "res1 = agregar_definicion(palabras, 'imagen', 'Figura, representación, semejanza y apariencia de algo')\n",
        "res2 = agregar_definicion(palabras, 'imagen', 'Estatua, efigie o pintura de una divinidad o de un personaje sagrado.')\n",
        "res3 = agregar_definicion(palabras, 'imagen', 'Figura, representación, semejanza y apariencia de algo')\n",
        "print(res1, res2, res3)\n",
        "print(palabras)"
      ],
      "metadata": {
        "colab": {
          "base_uri": "https://localhost:8080/"
        },
        "id": "fugTFqQE7sh_",
        "outputId": "c193fc23-3647-42e2-eb7d-371ba7e53dc9"
      },
      "execution_count": null,
      "outputs": [
        {
          "output_type": "stream",
          "name": "stdout",
          "text": [
            "True True False\n",
            "{'imagen': 'Figura, representación, semejanza y apariencia de algo\\nEstatua, efigie o pintura de una divinidad o de un personaje sagrado.'}\n"
          ]
        }
      ]
    },
    {
      "cell_type": "markdown",
      "source": [
        "ELIMINAR UNA DEFINICIÓN"
      ],
      "metadata": {
        "id": "yMPqVDsA--lG"
      }
    },
    {
      "cell_type": "markdown",
      "source": [
        "La última operación para estudiar es la que nos permite eliminar definiciones de un diccionario. Esto se puede lograr de dos formas: con el operador del o con el método pop. Tenga en cuenta que en ambos casos es necesario verificar que la llave exista en el diccionario antes de intentar eliminarla. De lo contrario se producirá un error.\n",
        "\n"
      ],
      "metadata": {
        "id": "DHdL_MEMAVTi"
      }
    },
    {
      "cell_type": "markdown",
      "source": [
        "En la siguiente función se usa el operador del para eliminar una palabra del diccionario. Tenga en cuenta que esto eliminará tanto la palabra como su definición. Para evitar que se produzca un error, el llamado a del ocurre dentro del cuerpo de un condicional que se asegura que la palabra sí exista en el diccionario."
      ],
      "metadata": {
        "id": "ofEWwVXdAsoP"
      }
    },
    {
      "cell_type": "code",
      "source": [
        "def eliminar_palabra(diccionario: dict, palabra: str)-> bool:\n",
        "    palabra_eliminada = False\n",
        "    if palabra in diccionario:\n",
        "        del diccionario[palabra]\n",
        "        palabra_eliminada = True\n",
        "    return palabra_eliminada\n",
        "\n",
        "palabras = {}\n",
        "agregar_definicion(palabras, 'imagen', 'Figura, representación, semejanza y apariencia de algo')\n",
        "agregar_definicion(palabras, 'toballa', 'Toalla')\n",
        "agregar_definicion(palabras, 'toballa', 'Pieza de felpa')\n",
        "res1 = eliminar_palabra(palabras, 'caracter')\n",
        "res2 = eliminar_palabra(palabras, 'toballa')\n",
        "print(res1, res2)\n",
        "print(palabras)"
      ],
      "metadata": {
        "colab": {
          "base_uri": "https://localhost:8080/"
        },
        "id": "ThSeR7z8-Mxf",
        "outputId": "516c3caa-a947-4fc0-f517-2e4630ba77b9"
      },
      "execution_count": null,
      "outputs": [
        {
          "output_type": "stream",
          "name": "stdout",
          "text": [
            "False True\n",
            "{'imagen': 'Figura, representación, semejanza y apariencia de algo'}\n"
          ]
        }
      ]
    },
    {
      "cell_type": "markdown",
      "source": [
        "En la segunda versión de la función se remplazó el operador del por un llamado al método pop. Al igual que antes, es necesario verificar que la llave efectivamente exista dentro del diccionario antes de hacer el llamado para que no se produzca ningún error."
      ],
      "metadata": {
        "id": "7H-gBppYBZwp"
      }
    },
    {
      "cell_type": "code",
      "source": [
        "def eliminar_palabra(diccionario: dict, palabra: str)-> bool:\n",
        "    palabra_eliminada = False\n",
        "    if palabra in diccionario:\n",
        "        diccionario.pop(palabra)\n",
        "        palabra_eliminada = True\n",
        "    return palabra_eliminada"
      ],
      "metadata": {
        "id": "SvzArb72A21r"
      },
      "execution_count": null,
      "outputs": []
    },
    {
      "cell_type": "markdown",
      "source": [
        "El método pop tiene además un interesante resultado y es que retorna el valor eliminado. La siguiente sería una nueva versión de la función aprovechando esta característica."
      ],
      "metadata": {
        "id": "5wAr8-9IBq06"
      }
    },
    {
      "cell_type": "code",
      "source": [
        "def eliminar_palabra(diccionario: dict, palabra: str)-> bool:\n",
        "    palabra_eliminada = False\n",
        "    if palabra in diccionario:\n",
        "        definicion_eliminada = diccionario.pop(palabra)\n",
        "        print(\"Se eliminó la llave\", palabra, \"que tenía la definición\", definicion_eliminada)\n",
        "        palabra_eliminada = True\n",
        "    return palabra_eliminada"
      ],
      "metadata": {
        "id": "pFpwllQgBsDx"
      },
      "execution_count": null,
      "outputs": []
    },
    {
      "cell_type": "markdown",
      "source": [
        "Finalmente, Python ofrece una manera para eliminar con facilidad todos los elementos de un diccionario: el método clear. Por ejemplo, si queremos eliminar todos los elementos del diccionario palabras sólo debemos ejecutar la siguiente instrucción:"
      ],
      "metadata": {
        "id": "mvtCJmIOCn3g"
      }
    },
    {
      "cell_type": "code",
      "source": [
        "nuevo_diccionario = {'saludar': 'acción de interactuar',\n",
        "                     'despedirse': 'acción de abandonar un lugar',\n",
        "                     'sueño': 'manifestación del subconsciente'}\n",
        "print(nuevo_diccionario)"
      ],
      "metadata": {
        "colab": {
          "base_uri": "https://localhost:8080/"
        },
        "id": "Sn4vd2lCBuX7",
        "outputId": "4f0fdbd2-9bf5-47b6-c794-4dbfc87e677e"
      },
      "execution_count": null,
      "outputs": [
        {
          "output_type": "stream",
          "name": "stdout",
          "text": [
            "{'saludar': 'acción de interactuar', 'despedirse': 'acción de abandonar un lugar', 'sueño': 'manifestación del subconsciente'}\n"
          ]
        }
      ]
    },
    {
      "cell_type": "code",
      "source": [
        "nuevo_diccionario.clear()\n",
        "print(nuevo_diccionario)"
      ],
      "metadata": {
        "colab": {
          "base_uri": "https://localhost:8080/"
        },
        "id": "SADVR-heCz5a",
        "outputId": "4231800c-4db1-417a-e9f2-edad7ce80964"
      },
      "execution_count": null,
      "outputs": [
        {
          "output_type": "stream",
          "name": "stdout",
          "text": [
            "{}\n"
          ]
        }
      ]
    },
    {
      "cell_type": "markdown",
      "source": [
        "# Usos de los diccionarios"
      ],
      "metadata": {
        "id": "91K1SsfjDXMF"
      }
    },
    {
      "cell_type": "markdown",
      "source": [
        "HISTOGRAMAS BASADOS EN DICCIONARIOS"
      ],
      "metadata": {
        "id": "n196sjqvsF7d"
      }
    },
    {
      "cell_type": "markdown",
      "source": [
        "Una problemática relativamente común es la de contar cuántas veces aparecen ciertos valores dentro de algo más grande. Por ejemplo, cuántas veces aparece cada uno de los dígitos entre 0 y 9 dentro de un número entero, cuántas veces aparece cada letra dentro de una palabra, o cuántas veces aparece cada palabra dentro de un texto. Un problema relacionado es el de contar cuántos elementos de un conjunto caen dentro de unas ciertas categorías (ej. cuántas personas de un grupo nacieron en cada uno de los meses del año, cuántos estudiantes aprobaron un curso, cuántos reprobaron, etc.)."
      ],
      "metadata": {
        "id": "SeO9y6bzsZW5"
      }
    },
    {
      "cell_type": "markdown",
      "source": [
        "Los diccionarios se prestan perfectamente para construir histogramas: las llaves serán los valores que queremos contar y los valores del diccionario indicarán la cantidad de veces que apareció cada uno. La siguiente función ilustra esto:"
      ],
      "metadata": {
        "id": "xYhlb7wNsmSm"
      }
    },
    {
      "cell_type": "code",
      "source": [
        "import matplotlib.pylab as plt\n",
        "def contar_vocales(texto: str)-> dict:\n",
        "  \"\"\" Cuenta la cantidad de veces que aparece cada vocal dentro de un texto\n",
        "    Parámetros:\n",
        "      texto (str): El texto en el que van a contarse las vocales\n",
        "    Retorno:\n",
        "      (dict): Un diccionario donde las llaves son las vocales minúsculas y los valores\n",
        "              son la cantidad de veces que aparece la vocal dentro del texto.\n",
        "  \"\"\"\n",
        "  histograma = {}\n",
        "  histograma['a'] = texto.lower().count('a')\n",
        "  histograma['e'] = texto.lower().count('e')\n",
        "  histograma['i'] = texto.lower().count('i')\n",
        "  histograma['o'] = texto.lower().count('o')\n",
        "  histograma['u'] = texto.lower().count('u')\n",
        "  return histograma\n",
        "\n",
        "pangrama = 'Jovencillo emponzoñado de whisky, ¡que figurota exhibe!'\n",
        "vocales = contar_vocales(pangrama)\n",
        "print(vocales)"
      ],
      "metadata": {
        "id": "DzJ-KECRC6HM",
        "colab": {
          "base_uri": "https://localhost:8080/"
        },
        "outputId": "f036427d-2809-4c47-9af9-715cea93d167"
      },
      "execution_count": null,
      "outputs": [
        {
          "output_type": "stream",
          "name": "stdout",
          "text": [
            "{'a': 2, 'e': 6, 'i': 4, 'o': 6, 'u': 2}\n"
          ]
        }
      ]
    },
    {
      "cell_type": "markdown",
      "source": [
        "DICCIONARIOS COMO CONJUNTOS"
      ],
      "metadata": {
        "id": "4noAzHfaulsy"
      }
    },
    {
      "cell_type": "markdown",
      "source": [
        "Un segundo uso posible de los diccionarios es representar conjuntos. En un conjunto, cada valor puede aparecer máximo una vez y la pregunta más interesante es si un valor pertenece o no pertenece al conjunto. Cuando un conjunto se representa usando un diccionario, sólo nos interesan las llaves y no los valores."
      ],
      "metadata": {
        "id": "FMl1ll3fvc7h"
      }
    },
    {
      "cell_type": "code",
      "source": [
        "import random\n",
        "def lanzar_dado(resultados: dict) -> None:\n",
        "    \"\"\" Lanza un dado calculando aleatoriamente un número entre 1 y 6.\n",
        "        Registra en el diccionario 'resultados' el valor que se obtuvo, asignándole\n",
        "        el valor True a la llave que corresponde al valor.\n",
        "    Parámetros:\n",
        "      resultados (dict): Un diccionario que representa el conjunto de valores diferentes\n",
        "                         que se han obtenido en los lanzamientos pasados.\n",
        "    \"\"\"\n",
        "    valor = random.randint(1,6)\n",
        "    resultados[valor] = True\n",
        "\n",
        "# Lanzar el dado 6 veces y registrar los resultados obtenidos\n",
        "def lanzar_6_dados()-> dict:\n",
        "    \"\"\" Lanza el dado 6 veces y retorna un diccionario con los valores que se obtuvieron\n",
        "    Resultado:\n",
        "      (dict): Un diccionario donde sólo aparecen como llaves los valores que se\n",
        "              obtuvieron en el lanzamiento del dado.\n",
        "    \"\"\"\n",
        "    resultados = {}\n",
        "    lanzar_dado(resultados)\n",
        "    lanzar_dado(resultados)\n",
        "    lanzar_dado(resultados)\n",
        "    lanzar_dado(resultados)\n",
        "    lanzar_dado(resultados)\n",
        "    lanzar_dado(resultados)\n",
        "    return resultados\n",
        "\n",
        "def contar_resultados_diferentes(resultados: dict) -> int:\n",
        "    \"\"\" Cuenta cuántos resultados diferentes hubo\n",
        "    Parámetros:\n",
        "      resultados (dict): El conjunto de los resultados obtenidos representado\n",
        "                         utilizando un diccionario. Si un valor aparece como\n",
        "                         llave en el diccionario, significa que el valor se\n",
        "                         obtuvo en el lanzamiento de los dados.\n",
        "    Retorno:\n",
        "      (int): La cantidad de resultados diferentes que hubo\n",
        "    \"\"\"\n",
        "    #cuales = len(resultados)\n",
        "    diferentes = 0\n",
        "    if 1 in resultados:\n",
        "        diferentes += 1   \n",
        "    if 2 in resultados:\n",
        "        diferentes += 1\n",
        "    if 3 in resultados:\n",
        "        diferentes += 1\n",
        "    if 4 in resultados:\n",
        "        diferentes += 1\n",
        "    if 5 in resultados:\n",
        "        diferentes += 1\n",
        "    if 6 in resultados:\n",
        "        diferentes += 1\n",
        "    return diferentes\n",
        "\n",
        "# Lanzar el dado 6 veces y registrar los resultados obtenidos\n",
        "resultados = lanzar_6_dados()\n",
        "# Contar cuántos valores diferentes se obtuvieron\n",
        "diferentes = contar_resultados_diferentes(resultados)\n",
        "print(\"En 6 lanzamientos del dado se obtuvieron\", diferentes, \"valores diferentes\")"
      ],
      "metadata": {
        "colab": {
          "base_uri": "https://localhost:8080/"
        },
        "id": "0fhLHIEUtjml",
        "outputId": "76b0ebde-6010-4518-b2f4-504bd1ab47df"
      },
      "execution_count": null,
      "outputs": [
        {
          "output_type": "stream",
          "name": "stdout",
          "text": [
            "En 6 lanzamientos del dado se obtuvieron 5 valores diferentes\n"
          ]
        }
      ]
    },
    {
      "cell_type": "markdown",
      "source": [
        "El centro del programa es la función lanzar_dado la cual calcula aleatoriamente un valor entero entre 1 y 6. Este valor se almacena en el conjunto resultados, el cual está representado por un diccionario: cada vez que se lanza el dado, se agrega el valor obtenido al conjunto creando una nueva llave con el valor asociado True. Note que si el mismo valor aparece varias veces, en el diccionario sólo aparecerá una vez, puesto que no puede haber dos llaves iguales.\n",
        "\n",
        "La función lanzar_6_dados crea un conjunto vacío (un diccionario) y llama 6 veces a la función lanzar_dado, logrando que en el conjunto resultado queden todos los valores que salieron al menos una vez. Como el diccionario inicialmente estaba vacío, los valores que no hayan salido en el dado no aparecerán en el diccionario.\n",
        "\n",
        "La función contar_resultados_diferentes revisa cuáles de los números entre 1 y 6 aparecen en el diccionario usando el operador in y retorna la cantidad. Por fuera de las funciones se llama a las últimas dos funciones y finalmente se imprime un mensaje informando cuántos valores diferentes se encontraron. Note que la tercera función podría haberse implementado fácilmente aplicando la función len sobre el conjunto para saber cuántos valores diferentes quedaron en este"
      ],
      "metadata": {
        "id": "ypnxm_cdv8bX"
      }
    },
    {
      "cell_type": "markdown",
      "source": [
        "# Diccionarios como estructuras de datos"
      ],
      "metadata": {
        "id": "y-vNqq57wQJC"
      }
    },
    {
      "cell_type": "markdown",
      "source": [
        "Un tercer uso posible de los diccionarios es modelar elementos de la realidad que tienen estructuras complejas y que además deben tener la misma estructura. Por ejemplo, al principio del capítulo hablamos de celulares que se describen con la velocidad del procesador, cantidad de memoria, calidad de la cámara, tecnología de la pantalla, tamaño de la pantalla, capacidad de la pila, sistema operativo y versión del sistema operativo. Si queremos manejar la información de muchos celulares, tiene sentido organizar la información de cada uno dentro de un diccionario. Con esto nuestros programas quedarán mejor organizados, necesitaremos menos variables, y nos podremos asegurar de que no nos haga falta ningún atributo para un celular.\n",
        "\n",
        "Para empezar a modelar nuestros celulares, listaremos sus características y le daremos un nombre sencillo a cada una:\n",
        "\n",
        "procesador: velocidad del procesador en GHz.\n",
        "\n",
        "memoria: cantidad de memoria en GB.\n",
        "\n",
        "camara: calidad de la cámara en mega-pixeles.\n",
        "\n",
        "pantalla: tecnología de la pantalla.\n",
        "\n",
        "ancho: ancho de la pantalla en pixeles.\n",
        "\n",
        "alto: alto de la pantalla en pixeles.\n",
        "\n",
        "pila: capacidad de la pila en miliamperios (mAh).\n",
        "\n",
        "sistema: nombre del sistema operativo.\n",
        "\n",
        "version: versión del sistema operativo."
      ],
      "metadata": {
        "id": "u7ivE5HBz2Ig"
      }
    },
    {
      "cell_type": "code",
      "source": [
        "def crear_celular(procesador: float, memoria: float, camara: float, pantalla: str,\n",
        "                  ancho: int, alto: int, pila: float, sistema: str, version: str)-> dict:\n",
        "  nuevo_celular = {}\n",
        "  nuevo_celular['procesador'] = procesador\n",
        "  nuevo_celular['memoria'] = memoria\n",
        "  nuevo_celular['camara'] = camara\n",
        "  nuevo_celular['pantalla'] = pantalla\n",
        "  nuevo_celular['ancho'] = ancho\n",
        "  nuevo_celular['alto'] = alto\n",
        "  nuevo_celular['pila'] = pila\n",
        "  nuevo_celular['sistema'] = sistema\n",
        "  nuevo_celular['version'] = version\n",
        "  return nuevo_celular\n",
        "\n",
        "cel1 = crear_celular(2.4, 64, 48, 'OLED', 1080, 2400, 5000, 'Android', '10')\n",
        "cel2 = crear_celular(2.2, 64, 32, 'OLED', 768, 1080, 3500, 'Android', '8.1')\n",
        "cel3 = crear_celular(2.0, 32, 18, 'Retina', 375, 812, 4200, 'iOS', '9.0')\n",
        "cel4 = crear_celular(1.8, 16, 6, 'Retina', 375, 667, 4150, 'iOS', '8.1.4')\n",
        "print(cel1, cel2, cel3, cel4)"
      ],
      "metadata": {
        "colab": {
          "base_uri": "https://localhost:8080/"
        },
        "id": "HnM4DqTBvYUi",
        "outputId": "00167ca8-6993-4c6d-993d-7ec420eaece3"
      },
      "execution_count": null,
      "outputs": [
        {
          "output_type": "stream",
          "name": "stdout",
          "text": [
            "{'procesador': 2.4, 'memoria': 64, 'camara': 48, 'pantalla': 'OLED', 'ancho': 1080, 'alto': 2400, 'pila': 5000, 'sistema': 'Android', 'version': '10'} {'procesador': 2.2, 'memoria': 64, 'camara': 32, 'pantalla': 'OLED', 'ancho': 768, 'alto': 1080, 'pila': 3500, 'sistema': 'Android', 'version': '8.1'} {'procesador': 2.0, 'memoria': 32, 'camara': 18, 'pantalla': 'Retina', 'ancho': 375, 'alto': 812, 'pila': 4200, 'sistema': 'iOS', 'version': '9.0'} {'procesador': 1.8, 'memoria': 16, 'camara': 6, 'pantalla': 'Retina', 'ancho': 375, 'alto': 667, 'pila': 4150, 'sistema': 'iOS', 'version': '8.1.4'}\n"
          ]
        }
      ]
    },
    {
      "cell_type": "markdown",
      "source": [
        "Esta función en realidad no tiene nada que no hayamos estudiado antes en esta sección: crea un nuevo diccionario y guarda los valores recibidos en las posiciones correspondientes del diccionario. En el siguiente fragmento usamos esta función para crear con facilidad cuatro celulares que se almacenan en diccionarios usando la misma estructura."
      ],
      "metadata": {
        "id": "xUESH5H-3HJy"
      }
    },
    {
      "cell_type": "markdown",
      "source": [
        "Ahora bien, lo realmente interesante es que ahora podemos construir funciones que conozcan la estructura de estos diccionarios y hagan operaciones sobre los celulares aprovechandose de esta información. Por ejemplo, la siguiente función nos permite comparar los dos celulares para saber cuál tiene la mejor cámara:"
      ],
      "metadata": {
        "id": "9K_695xc3mAC"
      }
    },
    {
      "cell_type": "code",
      "source": [
        "def mejor_camara(celular1: dict, celular2: dict)-> int:\n",
        "    \"\"\" Busca cuál de los dos celulares tiene la mejor cámara (más mega-pixeles).\n",
        "    Para que se pueda usar la función, los celulares deben representarse con \n",
        "    diccionarios que tengan una llave llamada 'camara' que indique la cantidad\n",
        "    de mega-pixeles de la cámara del celular.    \n",
        "    Parámetros:\n",
        "      celular1 (dict): Es un diccionario que representa al primer celular. \n",
        "      celular2 (dict): Es un diccionario que representa al segundo celular.\n",
        "    Retorno:\n",
        "      (int): Retorna 1 si el primer celular tiene la mejor cámara.\n",
        "             Retorna 2 si el segundo celular tiene la mejor cámara.\n",
        "             Retorna 0 si las cámaras de los dos celulares son iguales.\n",
        "    \"\"\"\n",
        "    mejor = 0\n",
        "    camara1 = celular1['camara']\n",
        "    camara2 = celular2['camara']    \n",
        "    if camara1 > camara2:\n",
        "        mejor = 1\n",
        "    elif camara1 < camara2:\n",
        "        mejor = 2\n",
        "    return mejor\n",
        "\n",
        "camara1 = mejor_camara(cel1, cel2)\n",
        "camara2 = mejor_camara(cel1, cel1)\n",
        "camara3 = mejor_camara(cel3, cel2)\n",
        "print(camara1)\n",
        "print(camara2)\n",
        "print(camara3)"
      ],
      "metadata": {
        "colab": {
          "base_uri": "https://localhost:8080/"
        },
        "id": "j9sQOAQK3abZ",
        "outputId": "76ab68e9-1b79-4b31-bbb6-e15364e89112"
      },
      "execution_count": null,
      "outputs": [
        {
          "output_type": "stream",
          "name": "stdout",
          "text": [
            "1\n",
            "0\n",
            "2\n"
          ]
        }
      ]
    },
    {
      "cell_type": "markdown",
      "source": [
        "A continuación, construiremos una función que es capaz de identificar si alguno de los cuatro celulares tiene una versión determinada de un sistema operativo:"
      ],
      "metadata": {
        "id": "YkIqVNpa4sdA"
      }
    },
    {
      "cell_type": "code",
      "source": [
        "def hay_celular_version_so(cel1: dict, cel2: dict, cel3: dict, cel4: dict, so: str, version: str) -> bool:\n",
        "    \"\"\" Esta función indica si hay algún celular con la versión del sistema operativo\n",
        "        indicada en los parámetros 'so' y 'version'.\n",
        "        La función espera que los diccionarios de los celulares tengan una llave llamada\n",
        "        'sistema' con el nombre del sistema operativo y una llave llamada 'version' con\n",
        "        la versión del sistema.\n",
        "    Parámetros:\n",
        "      cel1 (dict): El diccionario que representa el primer celular\n",
        "      cel2 (dict): El diccionario que representa el segundo celular\n",
        "      cel3 (dict): El diccionario que representa el tercer celular\n",
        "      cel4 (dict): El diccionario que representa el cuarto celular\n",
        "    Retorno:\n",
        "      (bool) : Retorna True si algún celular tiene exactamente el mismo sistema operativo\n",
        "               en la misma versión que se pide en los parámetros 'so' y 'version'.\n",
        "               Retorna False de lo contrario.\n",
        "    \"\"\"\n",
        "    hay_celular_buscado = False\n",
        "    if cel1['sistema'] == so and cel1['version'] == version:\n",
        "        hay_celular_buscado = True\n",
        "    elif cel2['sistema'] == so and cel2['version'] == version:\n",
        "        hay_celular_buscado = True\n",
        "    elif cel3['sistema'] == so and cel3['version'] == version:\n",
        "        hay_celular_buscado = True\n",
        "    elif cel4['sistema'] == so and cel4['version'] == version:\n",
        "        hay_celular_buscado = True    \n",
        "    return hay_celular_buscado"
      ],
      "metadata": {
        "id": "4UcMbgDD35hA"
      },
      "execution_count": null,
      "outputs": []
    },
    {
      "cell_type": "markdown",
      "source": [
        "Observe que en esta función hemos usado un solo if seguido de varios elif. Esto ocurre porque una vez se encuentra un celular con el sistema operativo indicado, no es necesario seguir revisando los siguientes. Esto cambiaría si, en lugar de consultar si hay algún celular con las características descritas, quisiéramos contar cuántos celulares tienen las características descritas."
      ],
      "metadata": {
        "id": "3TsH1SWk5UdG"
      }
    },
    {
      "cell_type": "code",
      "source": [
        "def contar_celulares_version_so(cel1: dict, cel2: dict, cel3: dict, cel4: dict, so: str, version: str) -> int:\n",
        "    \"\"\" Esta función cuenta cuántos celulares tienen la versión del sistema operativo\n",
        "        indicada en los parámetros 'so' y 'version'.\n",
        "        La función espera que los diccionarios de los celulares tengan una llave llamada\n",
        "        'sistema' con el nombre del sistema operativo y una llave llamada 'version' con\n",
        "        la versión del sistema.\n",
        "    Parámetros:\n",
        "      cel1 (dict): El diccionario que representa el primer celular\n",
        "      cel2 (dict): El diccionario que representa el segundo celular\n",
        "      cel3 (dict): El diccionario que representa el tercer celular\n",
        "      cel4 (dict): El diccionario que representa el cuarto celular\n",
        "    Retorno:\n",
        "      (bool) : Retorna la cantidad de celulares que tienen exactamente el mismo \n",
        "               sistema operativo en la misma versión que se pide en los \n",
        "               parámetros 'so' y 'version'.\n",
        "    \"\"\"\n",
        "    cantidad_celulares = 0\n",
        "    if cel1['sistema'] == so and cel1['version'] == version:\n",
        "        cantidad_celulares += 1\n",
        "    if cel2['sistema'] == so and cel2['version'] == version:\n",
        "        cantidad_celulares += 1\n",
        "    if cel3['sistema'] == so and cel3['version'] == version:\n",
        "        cantidad_celulares += 1\n",
        "    if cel4['sistema'] == so and cel4['version'] == version:\n",
        "        cantidad_celulares += 1\n",
        "    return cantidad_celulares"
      ],
      "metadata": {
        "id": "uIHVly_x6hWn"
      },
      "execution_count": null,
      "outputs": []
    },
    {
      "cell_type": "markdown",
      "source": [
        "# Diccionarios de diccionarios"
      ],
      "metadata": {
        "id": "2Vd0gVXt7TiP"
      }
    },
    {
      "cell_type": "markdown",
      "source": [
        "Por último, vamos a describir un uso de los diccionarios que empieza a mostrar el verdadero poder de estas estructuras de datos. Hasta el momento, los valores que hemos introducido dentro de los diccionarios han sido tipos simples: int, str, float y bool. Ahora vamos a introducir también diccionarios dentro de los diccionarios."
      ],
      "metadata": {
        "id": "kDtbbcYF8MeK"
      }
    },
    {
      "cell_type": "markdown",
      "source": [
        "Para ilustrar este punto vamos a continuar con el ejemplo de los celulares y construir un diccionario que va a contener todos los celulares que queremos comparar. En este diccionario las llaves serán los nombres de los celulares y los valores serán los diccionarios con el resto de características."
      ],
      "metadata": {
        "id": "sMW_QvQy8qNg"
      }
    },
    {
      "cell_type": "code",
      "source": [
        "def crear_celular(procesador: float, memoria: float, camara: float, pantalla: str,\n",
        "                  ancho: int, alto: int, pila: float, sistema: str, version: str)-> dict:\n",
        "  nuevo_celular = {}\n",
        "  nuevo_celular['procesador'] = procesador\n",
        "  nuevo_celular['memoria'] = memoria\n",
        "  nuevo_celular['camara'] = camara\n",
        "  nuevo_celular['pantalla'] = pantalla\n",
        "  nuevo_celular['ancho'] = ancho\n",
        "  nuevo_celular['alto'] = alto\n",
        "  nuevo_celular['pila'] = pila\n",
        "  nuevo_celular['sistema'] = sistema\n",
        "  nuevo_celular['version'] = version\n",
        "  return nuevo_celular\n",
        "\n",
        "cel1 = crear_celular(2.4, 64, 48, 'OLED', 1080, 2400, 5000, 'Android', '10')\n",
        "cel2 = crear_celular(2.2, 64, 32, 'OLED', 768, 1080, 3500, 'Android', '8.1')\n",
        "cel3 = crear_celular(2.0, 32, 18, 'Retina', 375, 812, 4200, 'iOS', '9.0')\n",
        "cel4 = crear_celular(1.8, 16, 6, 'Retina', 375, 667, 4150, 'iOS', '8.1.4')\n",
        "print(cel1, cel2, cel3, cel4)\n",
        "\n",
        "#Diccionario de diccionarios para los celulares creados en def crear_celular\n",
        "celulares = {}\n",
        "celulares['AmazingCel'] = cel1\n",
        "celulares['BoringCel'] = cel2\n",
        "celulares['CheapCel'] = cel3\n",
        "celulares['DumbCel'] = cel4\n",
        "print(celulares)"
      ],
      "metadata": {
        "colab": {
          "base_uri": "https://localhost:8080/"
        },
        "id": "mMhCeV2b7eeV",
        "outputId": "4933ad9a-8119-418d-c150-10c7e52c78a6"
      },
      "execution_count": null,
      "outputs": [
        {
          "output_type": "stream",
          "name": "stdout",
          "text": [
            "{'procesador': 2.4, 'memoria': 64, 'camara': 48, 'pantalla': 'OLED', 'ancho': 1080, 'alto': 2400, 'pila': 5000, 'sistema': 'Android', 'version': '10'} {'procesador': 2.2, 'memoria': 64, 'camara': 32, 'pantalla': 'OLED', 'ancho': 768, 'alto': 1080, 'pila': 3500, 'sistema': 'Android', 'version': '8.1'} {'procesador': 2.0, 'memoria': 32, 'camara': 18, 'pantalla': 'Retina', 'ancho': 375, 'alto': 812, 'pila': 4200, 'sistema': 'iOS', 'version': '9.0'} {'procesador': 1.8, 'memoria': 16, 'camara': 6, 'pantalla': 'Retina', 'ancho': 375, 'alto': 667, 'pila': 4150, 'sistema': 'iOS', 'version': '8.1.4'}\n",
            "{'AmazingCel': {'procesador': 2.4, 'memoria': 64, 'camara': 48, 'pantalla': 'OLED', 'ancho': 1080, 'alto': 2400, 'pila': 5000, 'sistema': 'Android', 'version': '10'}, 'BoringCel': {'procesador': 2.2, 'memoria': 64, 'camara': 32, 'pantalla': 'OLED', 'ancho': 768, 'alto': 1080, 'pila': 3500, 'sistema': 'Android', 'version': '8.1'}, 'CheapCel': {'procesador': 2.0, 'memoria': 32, 'camara': 18, 'pantalla': 'Retina', 'ancho': 375, 'alto': 812, 'pila': 4200, 'sistema': 'iOS', 'version': '9.0'}, 'DumbCel': {'procesador': 1.8, 'memoria': 16, 'camara': 6, 'pantalla': 'Retina', 'ancho': 375, 'alto': 667, 'pila': 4150, 'sistema': 'iOS', 'version': '8.1.4'}}\n"
          ]
        }
      ]
    },
    {
      "cell_type": "markdown",
      "source": [
        "Observe ahora lo que pasa si intentamos extraer un valor del diccionario celulares usando el nombre de un celular:"
      ],
      "metadata": {
        "id": "OK4Pz7kb9juc"
      }
    },
    {
      "cell_type": "code",
      "source": [
        "print(celulares['AmazingCel'])\n",
        "print(celulares['DumbCel'])"
      ],
      "metadata": {
        "colab": {
          "base_uri": "https://localhost:8080/"
        },
        "id": "9aR8QLKK9CVM",
        "outputId": "cbfcb30b-18c4-4bf3-e3ae-c3881bcd2660"
      },
      "execution_count": null,
      "outputs": [
        {
          "output_type": "stream",
          "name": "stdout",
          "text": [
            "{'procesador': 2.4, 'memoria': 64, 'camara': 48, 'pantalla': 'OLED', 'ancho': 1080, 'alto': 2400, 'pila': 5000, 'sistema': 'Android', 'version': '10'}\n",
            "{'procesador': 1.8, 'memoria': 16, 'camara': 6, 'pantalla': 'Retina', 'ancho': 375, 'alto': 667, 'pila': 4150, 'sistema': 'iOS', 'version': '8.1.4'}\n"
          ]
        }
      ]
    },
    {
      "cell_type": "markdown",
      "source": [
        "Más interesante aún es lo que pasa si encadenamos los llamados para extraer una propiedad del celular:"
      ],
      "metadata": {
        "id": "Far1OiVg943y"
      }
    },
    {
      "cell_type": "code",
      "source": [
        "print(celulares['CheapCel']['procesador'])\n",
        "print(celulares['BoringCel']['sistema'])"
      ],
      "metadata": {
        "colab": {
          "base_uri": "https://localhost:8080/"
        },
        "id": "yqfBPH_K9mtk",
        "outputId": "14b8fbc1-437d-40bd-dc89-cb72bfe13f15"
      },
      "execution_count": null,
      "outputs": [
        {
          "output_type": "stream",
          "name": "stdout",
          "text": [
            "2.0\n",
            "Android\n"
          ]
        }
      ]
    },
    {
      "cell_type": "markdown",
      "source": [
        "Vamos a construir ahora una función similar a la que construimos antes para comparar dos celulares. La principal diferencia es que ahora usaremos nuestro nuevo diccionario de celulares y los nombres de los celulares que queremos comparar."
      ],
      "metadata": {
        "id": "Bm_d4Izo-MKZ"
      }
    },
    {
      "cell_type": "code",
      "source": [
        "def mejor_camara_con_nombres(celulares: dict, nombre1: str, nombre2: dict)-> str:\n",
        "    \"\"\" Busca cuál de los dos celulares tiene la mejor cámara\n",
        "    Parámetros:\n",
        "      celulares (dict): Un diccionario donde las llaves son los nombres de los celulares\n",
        "                        y los valores son diccionarios que representan celulares\n",
        "      nombre1 (str): El nombre del primer celular que se quiere comparar\n",
        "      nombre2 (str): El nombre del segundo celular que se quiere comparar\n",
        "    Retorno:\n",
        "      (str): Retorna el nombre del celular que tiene la mejor cámara o \"Empate\" si\n",
        "             las cámaras de los dos celulares son iguales.\n",
        "             Si sólo uno de los nombres corresponde al de un celular, retorna ese nombre.\n",
        "             Si ningún nombre corresponde al de un celular, retorna \"Nombres inválidos\".\n",
        "    \"\"\"\n",
        "    # Extraer los celulares del diccionario usando su nombre\n",
        "    celular1 = celulares.get(nombre1, None)\n",
        "    celular2 = celulares.get(nombre2, None)\n",
        "    # Ninguno de los dos nombres era correcto\n",
        "    if celular1 is None and celular2 is None:\n",
        "        nombre_mejor = \"Nombres inválidos\"\n",
        "    # Sólo el segundo nombre era correcto\n",
        "    elif celular1 is None and celular2 is not None:\n",
        "        nombre_mejor = nombre2\n",
        "    # Sólo el primer nombre era correcto\n",
        "    elif celular1 is not None and celular2 is None:\n",
        "        nombre_mejor = nombre1\n",
        "    # Los dos nombres eran correctos así que hay que comparar los celulares\n",
        "    else:\n",
        "        nombre_mejor = \"Empate\"\n",
        "        numero_mejor = mejor_camara(celular1, celular2)\n",
        "        if numero_mejor == 1:\n",
        "            nombre_mejor = nombre1\n",
        "        elif numero_mejor == 2:\n",
        "            nombre_mejor = nombre2\n",
        "    return nombre_mejor\n",
        "\n",
        "print(mejor_camara_con_nombres(celulares, 'DumbCel', 'BoringCel'))\n",
        "print(mejor_camara_con_nombres(celulares, 'DumbCel', 'FalseCel'))\n",
        "print(mejor_camara_con_nombres(celulares, 'FalsestCel', 'FalseCel'))\n",
        "print(mejor_camara_con_nombres(celulares, 'CheapCel', 'CheapCel'))"
      ],
      "metadata": {
        "colab": {
          "base_uri": "https://localhost:8080/"
        },
        "id": "HRvzIF0b9-b3",
        "outputId": "58d6bfc4-24e3-4698-9fec-aa9d4569a421"
      },
      "execution_count": null,
      "outputs": [
        {
          "output_type": "stream",
          "name": "stdout",
          "text": [
            "BoringCel\n",
            "DumbCel\n",
            "Nombres inválidos\n",
            "Empate\n"
          ]
        }
      ]
    },
    {
      "cell_type": "markdown",
      "source": [
        "# Mutabilidad en diccionarios"
      ],
      "metadata": {
        "id": "-tVfjrC9AXMG"
      }
    },
    {
      "cell_type": "markdown",
      "source": [
        "Esta característica es muy importante y hay que tenerla muy en cuenta cuando se utilizan diccionarios en los parámetros de una función. En síntesis, el hecho de que los diccionarios sean mutables hace que todos los cambios que se hacen a un diccionario que llegue a una función como un parámetro, se vean reflejados también fuera de la función."
      ],
      "metadata": {
        "id": "FvY1XOamBO3z"
      }
    },
    {
      "cell_type": "code",
      "source": [
        "def agregar_definicion(diccionario: dict, palabra: str, definicion: str)-> None:\n",
        "  diccionario[palabra] = definicion\n",
        "\n",
        "palabras = {}\n",
        "agregar_definicion(palabras, 'palabra1', 'definicion1')\n",
        "print(palabras)\n",
        "\n",
        "agregar_definicion(palabras, 'palabra2', 'definicion2')\n",
        "print(palabras)"
      ],
      "metadata": {
        "colab": {
          "base_uri": "https://localhost:8080/"
        },
        "id": "eYXxo5fC-s1J",
        "outputId": "5782f699-3cb9-4e31-b548-4c908dbc1883"
      },
      "execution_count": null,
      "outputs": [
        {
          "output_type": "stream",
          "name": "stdout",
          "text": [
            "{'palabra1': 'definicion1'}\n",
            "{'palabra1': 'definicion1', 'palabra2': 'definicion2'}\n"
          ]
        }
      ]
    },
    {
      "cell_type": "markdown",
      "source": [
        "El punto central acá es que en todo el ejemplo sólo hay un diccionario. Cuando se invoca la función agregar_definicion y se pasa el diccionario palabras como parámetro, es exactamente el mismo diccionario el que se recibe y se modifica. Este comportamiento es propio de los diccionarios (y de otros tipos de datos que estudiaremos más adelante), se conoce como paso de parámetros por referencia.\n",
        "\n",
        "Esto no ocurre con tipos como int o str, en los cuales el paso de parámetros se hace por valor. Es decir, el valor que se recibe dentro de la función es idéntico al que se usó como parámetro, pero no es el mismo (es una copia, no una referencia). Esto se muestra en el siguiente ejemplo:"
      ],
      "metadata": {
        "id": "InL1ezD-BxsI"
      }
    },
    {
      "cell_type": "code",
      "source": [
        "def modificar(entero: int, cadena: str)->bool: #Variables locales\n",
        "    entero += 100\n",
        "    cadena += '!!!!'\n",
        "    print(entero, cadena)\n",
        "    return True\n",
        "numero = 1 #Variables globales\n",
        "texto = \"Hola Mundo\"\n",
        "resultado = modificar(numero, texto)\n",
        "print(numero, texto)"
      ],
      "metadata": {
        "colab": {
          "base_uri": "https://localhost:8080/"
        },
        "id": "l_qWn6SRBfpt",
        "outputId": "152640e6-45bb-48b8-d984-97c02123ab9a"
      },
      "execution_count": null,
      "outputs": [
        {
          "output_type": "stream",
          "name": "stdout",
          "text": [
            "101 Hola Mundo!!!!\n",
            "1 Hola Mundo\n"
          ]
        }
      ]
    },
    {
      "cell_type": "markdown",
      "source": [
        "**COPIAS DE DICCIONARIOS**"
      ],
      "metadata": {
        "id": "0I771pMQCj5W"
      }
    },
    {
      "cell_type": "markdown",
      "source": [
        "Finalmente, vamos a desarrollar una función en la que no queremos que se modifique el diccionario original, sino que queremos que se construya uno nuevo. La nueva función agregar_definicion_con_copia logra este resultado y retorna un diccionario con todos los elementos que tenía el diccionario original y también con el elemento adicional que se está agregando."
      ],
      "metadata": {
        "id": "9G0z3im5Cnv9"
      }
    },
    {
      "cell_type": "code",
      "source": [
        "def agregar_definicion_con_copia(diccionario: dict, palabra: str, definicion: str)-> dict:\n",
        "  copia = diccionario.copy()\n",
        "  copia[palabra] = definicion\n",
        "  return copia"
      ],
      "metadata": {
        "id": "OK8U6voPCOCw"
      },
      "execution_count": null,
      "outputs": []
    },
    {
      "cell_type": "code",
      "source": [
        "palabras = {'palabra1': 'definicion1', 'palabra2': 'definicion2'}\n",
        "print(palabras)"
      ],
      "metadata": {
        "colab": {
          "base_uri": "https://localhost:8080/"
        },
        "id": "Ik1n8ldGC_Ae",
        "outputId": "bc59be64-20ca-49ab-aa08-61cee1199be9"
      },
      "execution_count": null,
      "outputs": [
        {
          "output_type": "stream",
          "name": "stdout",
          "text": [
            "{'palabra1': 'definicion1', 'palabra2': 'definicion2'}\n"
          ]
        }
      ]
    },
    {
      "cell_type": "code",
      "source": [
        "copia_palabras = agregar_definicion_con_copia(palabras, 'p99', 'def99')\n",
        "print(copia_palabras)"
      ],
      "metadata": {
        "colab": {
          "base_uri": "https://localhost:8080/"
        },
        "id": "zaE38kQaDAuf",
        "outputId": "e2456674-2a7a-4746-ed4d-f0fcc358ece2"
      },
      "execution_count": null,
      "outputs": [
        {
          "output_type": "stream",
          "name": "stdout",
          "text": [
            "{'palabra1': 'definicion1', 'palabra2': 'definicion2', 'p99': 'def99'}\n"
          ]
        }
      ]
    },
    {
      "cell_type": "markdown",
      "source": [
        "-Actividad: Construya un diccionario con las alturas sobre el nivel del mar de las capitales de los países suramericanos. Use los nombres de las ciudades, usando mayúsculas al principio de las palabras, como llaves y las alturas como valores. Es decir, las llaves deben ser ‘Bogotá’, ‘Buenos Aires’. etc."
      ],
      "metadata": {
        "id": "iM7P0MQBDy7F"
      }
    },
    {
      "cell_type": "code",
      "source": [
        "nivel_del_mar_suramerica = {'Bogotá': 2500,\n",
        "                            'Buenos Aires': 2365,\n",
        "                            'Medellín': 1600,\n",
        "                            'Neiva': 1250,\n",
        "                            'Cartagena': 960,\n",
        "                            'Bucaramanga': 1430}\n",
        "print(nivel_del_mar_suramerica)"
      ],
      "metadata": {
        "colab": {
          "base_uri": "https://localhost:8080/"
        },
        "id": "plapTQN8DFtw",
        "outputId": "0ea12f43-e606-494e-9d61-ddffabd6ed32"
      },
      "execution_count": null,
      "outputs": [
        {
          "output_type": "stream",
          "name": "stdout",
          "text": [
            "{'Bogotá': 2500, 'Buenos Aires': 2365, 'Medellín': 1600, 'Neiva': 1250, 'Cartagena': 960, 'Bucaramanga': 1430}\n"
          ]
        }
      ]
    },
    {
      "cell_type": "markdown",
      "source": [
        "-Actividad: Escriba una función que reciba el diccionario con las alturas de las ciudades y los nombres de dos ciudades y que retorne el nombre de la ciudad que esté ubicada a una mayor altura. La función debe ser capaz de funcionar incluso si en el nombre de las ciudades se usan mayúsculas y minúsculas de forma diferente a como están en el diccionario (por ejemplo, ‘BoGoTá’ y ‘BUENOS aires’). Si alguno de los dos nombres no corresponde a una ciudad, la función debe retornar el valor None."
      ],
      "metadata": {
        "id": "s7i2vf4jInPw"
      }
    },
    {
      "cell_type": "code",
      "source": [
        "def alturas_ciudades(diccionario: dict, ciudad1: str, ciudad2: str)-> str:\n",
        "  ciudad1 = ciudad1.title()\n",
        "  ciudad2 = ciudad2.title()\n",
        "  mayor_altura = ciudad2\n",
        "  if ciudad1 not in diccionario or ciudad2 not in diccionario:\n",
        "    mayor_altura = None\n",
        "  elif diccionario[ciudad1] > diccionario[ciudad2]:\n",
        "    mayor_altura = ciudad1\n",
        "  return mayor_altura\n",
        "\n",
        "mayor = alturas_ciudades(nivel_del_mar_suramerica, 'mEdElLín', 'BUcAraManGa')\n",
        "print(mayor)"
      ],
      "metadata": {
        "colab": {
          "base_uri": "https://localhost:8080/"
        },
        "id": "QUcknVjoIgbW",
        "outputId": "c4c49f83-4817-4e9b-a8b8-307cfbf1f13f"
      },
      "execution_count": null,
      "outputs": [
        {
          "output_type": "stream",
          "name": "stdout",
          "text": [
            "Medellín\n"
          ]
        }
      ]
    },
    {
      "cell_type": "code",
      "source": [
        "def alturas_ciudades_v2(diccionario: dict, ciudad1: str, ciudad2: str)-> str:\n",
        "  ciudad1 = ciudad1.title()\n",
        "  ciudad2 = ciudad2.title()\n",
        "  c1 = diccionario.get(ciudad1, None)\n",
        "  c2 = diccionario.get(ciudad2, None)\n",
        "  mayor_altura = ciudad2\n",
        "  if not c1 is None or c2 is None:\n",
        "    mayor_altura = None\n",
        "  elif c1 > c2:    \n",
        "    mayor_altura = ciudad1\n",
        "  return mayor_altura\n",
        "\n",
        "mayorv2 = alturas_ciudades(nivel_del_mar_suramerica, 'MeDEllíN', 'BoGotÁ')\n",
        "print(mayorv2)"
      ],
      "metadata": {
        "colab": {
          "base_uri": "https://localhost:8080/"
        },
        "id": "lUDnAia_KZQU",
        "outputId": "88656cbc-883c-49c1-c63c-6a55562ce83b"
      },
      "execution_count": null,
      "outputs": [
        {
          "output_type": "stream",
          "name": "stdout",
          "text": [
            "Bogotá\n"
          ]
        }
      ]
    },
    {
      "cell_type": "markdown",
      "source": [
        "-Actividad: Escriba una función que reciba un número entero y calcule un diccionario en el que cada llave es un dígito y los valores asociados son la cantidad de veces que aparece el dígito en el número entero. Si un dígito no aparece en el número, no debe aparecer en el diccionario."
      ],
      "metadata": {
        "id": "lWIfq3xFNBLW"
      }
    },
    {
      "cell_type": "code",
      "source": [
        "def contar_numero(entero: str)-> dict:\n",
        "  digitos = {}\n",
        "  digitos['0'] = entero.count('0')\n",
        "  digitos['1'] = entero.count('1')\n",
        "  digitos['2'] = entero.count('2')\n",
        "  digitos['3'] = entero.count('3')\n",
        "  digitos['4'] = entero.count('4')\n",
        "  digitos['5'] = entero.count('5')\n",
        "  digitos['6'] = entero.count('6')\n",
        "  digitos['7'] = entero.count('7')\n",
        "  digitos['8'] = entero.count('8')\n",
        "  digitos['9'] = entero.count('9')\n",
        "  return digitos\n",
        "\n",
        "def purgar_diccionario(digitos: dict)-> dict:\n",
        "  digitos = contar_numero(entero)\n",
        "  if entero.count('0') == 0:\n",
        "    del digitos['0']\n",
        "  if entero.count('1') == 0:\n",
        "    del digitos['1']\n",
        "  if entero.count('2') == 0:\n",
        "    del digitos['2']\n",
        "  if entero.count('3') == 0:\n",
        "    del digitos['3']\n",
        "  if entero.count('4') == 0:\n",
        "    del digitos['4']\n",
        "  if entero.count('5') == 0:\n",
        "    del digitos['5']\n",
        "  if entero.count('6') == 0:\n",
        "    del digitos['6']\n",
        "  if entero.count('7') == 0:\n",
        "    del digitos['7']\n",
        "  if entero.count('8') == 0:\n",
        "    del digitos['8']\n",
        "  if entero.count('9') == 0:\n",
        "    del digitos['9']\n",
        "      \n",
        "  return digitos\n",
        "\n",
        "entero = input('Escriba un número entero: ')\n",
        "diccionario = contar_numero(entero)\n",
        "purgar = purgar_diccionario(diccionario)\n",
        "print(purgar)  "
      ],
      "metadata": {
        "id": "GhGmvpofRIHF",
        "colab": {
          "base_uri": "https://localhost:8080/"
        },
        "outputId": "7e66c021-2c63-49ad-ab9a-00d097921871"
      },
      "execution_count": null,
      "outputs": [
        {
          "output_type": "stream",
          "name": "stdout",
          "text": [
            "Escriba un número entero: 3042047423\n",
            "{'0': 2, '2': 2, '3': 2, '4': 3, '7': 1}\n"
          ]
        }
      ]
    },
    {
      "cell_type": "markdown",
      "source": [
        "-Actividad: Escriba una función que reciba un número entero y retorne el dígito que aparece más veces dentro del número."
      ],
      "metadata": {
        "id": "nU_gOU_o5F_E"
      }
    },
    {
      "cell_type": "code",
      "source": [
        "def num_entero(entero: int)-> str:\n",
        "  cero = str(entero).count('0')\n",
        "  uno = str(entero).count('1')\n",
        "  dos = str(entero).count('2')\n",
        "  tres = str(entero).count('3')\n",
        "  cuatro = str(entero).count('4')\n",
        "  cinco = str(entero).count('5')\n",
        "  seis = str(entero).count('6')\n",
        "  siete = str(entero).count('7')\n",
        "  ocho = str(entero).count('8')\n",
        "  nueve = str(entero).count('9')\n",
        "\n",
        "  mas_veces = cero\n",
        "  ganador = 0\n",
        "  if uno > mas_veces:\n",
        "    mas_veces = uno\n",
        "    ganador = 1\n",
        "  if dos > mas_veces:\n",
        "    mas_veces = dos\n",
        "    ganador = 2\n",
        "  if tres > mas_veces:\n",
        "    mas_veces = tres\n",
        "    ganador = 3\n",
        "  if cuatro > mas_veces:\n",
        "    mas_veces = cuatro\n",
        "    ganador = 4\n",
        "  if cinco > mas_veces:\n",
        "    mas_veces = cinco\n",
        "    ganador = 5\n",
        "  if seis > mas_veces:\n",
        "    mas_veces = seis\n",
        "    ganador = 6\n",
        "  if siete > mas_veces:\n",
        "    mas_veces = siete\n",
        "    ganador = 7\n",
        "  if ocho > mas_veces:\n",
        "    mas_veces = ocho\n",
        "    ganador = 8\n",
        "  if nueve > mas_veces:\n",
        "    mas_veces = nueve\n",
        "    ganador = 9\n",
        "\n",
        "  return 'El número ' + str(ganador) + ' se repite ' + str(mas_veces) + ' veces siendo el de mayor frecuencia.'\n",
        "\n",
        "entero = int(input('Escribe un número entero: '))\n",
        "contador = num_entero(entero)\n",
        "print(contador)"
      ],
      "metadata": {
        "colab": {
          "base_uri": "https://localhost:8080/"
        },
        "id": "Cq_XOOdd0-qV",
        "outputId": "cd0143e5-6f89-4e11-be1a-9eefa89274ba"
      },
      "execution_count": null,
      "outputs": [
        {
          "output_type": "stream",
          "name": "stdout",
          "text": [
            "Escribe un número entero: 3042047423\n",
            "El número 4 se repite 3 veces siendo el de mayor frecuencia.\n"
          ]
        }
      ]
    },
    {
      "cell_type": "markdown",
      "source": [
        "MANOS A LA OBRA: Ocurrencias de cada dígito en un número usando diccionarios"
      ],
      "metadata": {
        "id": "i9CatscOG2jv"
      }
    },
    {
      "cell_type": "code",
      "source": [
        "def contar(num: int, diccionario: dict)-> int:\n",
        "  digito = num % 10\n",
        "\n",
        "  if digito in diccionario:\n",
        "    diccionario[digito] += 1\n",
        "  else:\n",
        "    diccionario[digito] = 1\n",
        "\n",
        "  return num // 10\n",
        "\n",
        "numero = int(input('Digite un número de 10 cifras: '))\n",
        "conteo = {}\n",
        "\n",
        "numero = contar(numero, conteo)\n",
        "numero = contar(numero, conteo)\n",
        "numero = contar(numero, conteo)\n",
        "numero = contar(numero, conteo)\n",
        "numero = contar(numero, conteo)\n",
        "numero = contar(numero, conteo)\n",
        "numero = contar(numero, conteo)\n",
        "numero = contar(numero, conteo)\n",
        "numero = contar(numero, conteo)\n",
        "numero = contar(numero, conteo)\n",
        "\n",
        "print(conteo)"
      ],
      "metadata": {
        "colab": {
          "base_uri": "https://localhost:8080/"
        },
        "id": "4rGKNsIM8znS",
        "outputId": "bac36479-612d-4bb0-da09-b6a6181ca15c"
      },
      "execution_count": null,
      "outputs": [
        {
          "output_type": "stream",
          "name": "stdout",
          "text": [
            "Digite un número de 10 cifras: 3015202313\n",
            "{3: 3, 1: 2, 2: 2, 0: 2, 5: 1}\n"
          ]
        }
      ]
    },
    {
      "cell_type": "code",
      "source": [
        "def contar_v2(num: int, diccionario: dict)-> int:\n",
        "  digito = num % 10\n",
        "\n",
        "  diccionario[digito] = diccionario.get(digito, 0) + 1\n",
        "\n",
        "  return num // 10\n",
        "\n",
        "numero = int(input('Digite un número de 10 cifras: '))\n",
        "conteo = {}\n",
        "\n",
        "numero = contar(numero, conteo)\n",
        "numero = contar(numero, conteo)\n",
        "numero = contar(numero, conteo)\n",
        "numero = contar(numero, conteo)\n",
        "numero = contar(numero, conteo)\n",
        "numero = contar(numero, conteo)\n",
        "numero = contar(numero, conteo)\n",
        "numero = contar(numero, conteo)\n",
        "numero = contar(numero, conteo)\n",
        "numero = contar(numero, conteo)\n",
        "\n",
        "print(conteo)"
      ],
      "metadata": {
        "colab": {
          "base_uri": "https://localhost:8080/"
        },
        "id": "wClZ0GxSHky9",
        "outputId": "9dc1b705-4af5-4ff5-cbb6-fdadb1434cd8"
      },
      "execution_count": null,
      "outputs": [
        {
          "output_type": "stream",
          "name": "stdout",
          "text": [
            "Digite un número de 10 cifras: 3015202313\n",
            "{3: 3, 1: 2, 2: 2, 0: 2, 5: 1}\n"
          ]
        }
      ]
    },
    {
      "cell_type": "markdown",
      "source": [
        "-Actividad: Con base en el ejemplo del diccionario de celulares, construya una función que reciba los diccionarios de 4 celulares y cuente cuántos de estos celulares tienen más de 16 GB de memoria."
      ],
      "metadata": {
        "id": "nN9tuEUgKB1H"
      }
    },
    {
      "cell_type": "code",
      "source": [
        "def crear_celular(procesador: float, memoria: float, camara: float, pantalla: str,\n",
        "                  ancho: int, alto: int, pila: float, sistema: str, version: str)-> dict:\n",
        "  nuevo_celular = {}\n",
        "  nuevo_celular['procesador'] = procesador\n",
        "  nuevo_celular['memoria'] = memoria\n",
        "  nuevo_celular['camara'] = camara\n",
        "  nuevo_celular['pantalla'] = pantalla\n",
        "  nuevo_celular['ancho'] = ancho\n",
        "  nuevo_celular['alto'] = alto\n",
        "  nuevo_celular['pila'] = pila\n",
        "  nuevo_celular['sistema'] = sistema\n",
        "  nuevo_celular['version'] = version\n",
        "  return nuevo_celular\n",
        "\n",
        "cel1 = crear_celular(2.4, 64, 48, 'OLED', 1080, 2400, 5000, 'Android', '10')\n",
        "cel2 = crear_celular(2.2, 64, 32, 'OLED', 768, 1080, 3500, 'Android', '8.1')\n",
        "cel3 = crear_celular(2.0, 32, 18, 'Retina', 375, 812, 4200, 'iOS', '9.0')\n",
        "cel4 = crear_celular(1.8, 16, 6, 'Retina', 375, 667, 4150, 'iOS', '8.1.4')\n",
        "print(cel1, cel2, cel3, cel4)\n",
        "\n",
        "#Diccionario de diccionarios para los celulares creados en def crear_celular\n",
        "celulares = {}\n",
        "celulares['AmazingCel'] = cel1\n",
        "celulares['BoringCel'] = cel2\n",
        "celulares['CheapCel'] = cel3\n",
        "celulares['DumbCel'] = cel4\n",
        "print(celulares)\n",
        "\n",
        "#Cuenta cuántos celulares tienen más de 16GB de memoria\n",
        "def contar_celulares_memoria_16(cel1: dict, cel2: dict, cel3: dict, cel4: dict) -> int:\n",
        "    cantidad_celulares = 0\n",
        "    if cel1['memoria'] > 16:\n",
        "        cantidad_celulares += 1\n",
        "    if cel2['memoria'] > 16:\n",
        "        cantidad_celulares += 1\n",
        "    if cel3['memoria'] > 16:\n",
        "        cantidad_celulares += 1\n",
        "    if cel4['memoria'] > 16:\n",
        "        cantidad_celulares += 1\n",
        "    return cantidad_celulares\n",
        "\n",
        "memorias = contar_celulares_memoria_16(cel1, cel2, cel3, cel4)\n",
        "print(memorias)"
      ],
      "metadata": {
        "colab": {
          "base_uri": "https://localhost:8080/"
        },
        "id": "pS8ZoPhdIjUy",
        "outputId": "e88f8696-6042-4cad-d91a-a550bfbadb87"
      },
      "execution_count": null,
      "outputs": [
        {
          "output_type": "stream",
          "name": "stdout",
          "text": [
            "{'procesador': 2.4, 'memoria': 64, 'camara': 48, 'pantalla': 'OLED', 'ancho': 1080, 'alto': 2400, 'pila': 5000, 'sistema': 'Android', 'version': '10'} {'procesador': 2.2, 'memoria': 64, 'camara': 32, 'pantalla': 'OLED', 'ancho': 768, 'alto': 1080, 'pila': 3500, 'sistema': 'Android', 'version': '8.1'} {'procesador': 2.0, 'memoria': 32, 'camara': 18, 'pantalla': 'Retina', 'ancho': 375, 'alto': 812, 'pila': 4200, 'sistema': 'iOS', 'version': '9.0'} {'procesador': 1.8, 'memoria': 16, 'camara': 6, 'pantalla': 'Retina', 'ancho': 375, 'alto': 667, 'pila': 4150, 'sistema': 'iOS', 'version': '8.1.4'}\n",
            "{'AmazingCel': {'procesador': 2.4, 'memoria': 64, 'camara': 48, 'pantalla': 'OLED', 'ancho': 1080, 'alto': 2400, 'pila': 5000, 'sistema': 'Android', 'version': '10'}, 'BoringCel': {'procesador': 2.2, 'memoria': 64, 'camara': 32, 'pantalla': 'OLED', 'ancho': 768, 'alto': 1080, 'pila': 3500, 'sistema': 'Android', 'version': '8.1'}, 'CheapCel': {'procesador': 2.0, 'memoria': 32, 'camara': 18, 'pantalla': 'Retina', 'ancho': 375, 'alto': 812, 'pila': 4200, 'sistema': 'iOS', 'version': '9.0'}, 'DumbCel': {'procesador': 1.8, 'memoria': 16, 'camara': 6, 'pantalla': 'Retina', 'ancho': 375, 'alto': 667, 'pila': 4150, 'sistema': 'iOS', 'version': '8.1.4'}}\n",
            "3\n"
          ]
        }
      ]
    },
    {
      "cell_type": "markdown",
      "source": [
        "-Actividad: Con base en el ejemplo del diccionario de celulares, construya una función que reciba los diccionarios de 4 celulares y diga cuál es el celular que tiene la mayor cantidad de pixeles en la pantalla."
      ],
      "metadata": {
        "id": "gmIcXvg9MACj"
      }
    },
    {
      "cell_type": "code",
      "source": [
        "def crear_celular(procesador: float, memoria: float, camara: float, pantalla: str,\n",
        "                  ancho: int, alto: int, pila: float, sistema: str, version: str)-> dict:\n",
        "  nuevo_celular = {}\n",
        "  nuevo_celular['procesador'] = procesador\n",
        "  nuevo_celular['memoria'] = memoria\n",
        "  nuevo_celular['camara'] = camara\n",
        "  nuevo_celular['pantalla'] = pantalla\n",
        "  nuevo_celular['ancho'] = ancho\n",
        "  nuevo_celular['alto'] = alto\n",
        "  nuevo_celular['pila'] = pila\n",
        "  nuevo_celular['sistema'] = sistema\n",
        "  nuevo_celular['version'] = version\n",
        "  return nuevo_celular\n",
        "\n",
        "cel1 = crear_celular(2.4, 64, 48, 'OLED', 1080, 2400, 5000, 'Android', '10')\n",
        "cel2 = crear_celular(2.2, 64, 84, 'OLED', 768, 1080, 3500, 'Android', '8.1')\n",
        "cel3 = crear_celular(2.0, 32, 182, 'Retina', 375, 812, 4200, 'iOS', '9.0')\n",
        "cel4 = crear_celular(1.8, 16, 6, 'Retina', 375, 667, 4150, 'iOS', '8.1.4')\n",
        "#print(cel1, cel2, cel3, cel4)\n",
        "\n",
        "#Diccionario de diccionarios para los celulares creados en def crear_celular\n",
        "celulares = {}\n",
        "celulares['AmazingCel'] = cel1\n",
        "celulares['BoringCel'] = cel2\n",
        "celulares['CheapCel'] = cel3\n",
        "celulares['DumbCel'] = cel4\n",
        "#print(celulares)\n",
        "\n",
        "def mayor_cantidad_pixeles(cel1: dict, cel2: dict, cel3: dict, cel4: dict) -> str:\n",
        "    pixeles = celulares['AmazingCel']['camara']\n",
        "    celular_pix = 'AmazingCel'\n",
        "\n",
        "    if celulares['BoringCel']['camara'] > pixeles:\n",
        "      pixeles = celulares['BoringCel']['memoria']\n",
        "      celular_pix = 'BoringCel'\n",
        "    if celulares['CheapCel']['camara'] > pixeles:\n",
        "      pixeles = celulares['CheapCel']['camara']\n",
        "      celular_pix = 'CheapCel'\n",
        "    if celulares['DumbCel']['camara'] > pixeles:\n",
        "      pixeles = celulares['DumbCel']['camara']\n",
        "      celular_pix = 'DumbCel'\n",
        "    return celular_pix\n",
        "\n",
        "camara = mayor_cantidad_pixeles(cel1, cel2, cel3, cel4)\n",
        "print(camara)"
      ],
      "metadata": {
        "colab": {
          "base_uri": "https://localhost:8080/"
        },
        "id": "YaWXEjfbKb85",
        "outputId": "927fc58f-80d1-431d-846a-042f51d495cd"
      },
      "execution_count": null,
      "outputs": [
        {
          "output_type": "stream",
          "name": "stdout",
          "text": [
            "CheapCel\n"
          ]
        }
      ]
    },
    {
      "cell_type": "markdown",
      "source": [
        "-Actividad: Con base en el ejemplo del diccionario de celulares, construya una función que reciba los diccionarios de 4 celulares y los modifique para duplicar la capacidad de la pila de todos."
      ],
      "metadata": {
        "id": "6RJRVKvCOxsG"
      }
    },
    {
      "cell_type": "code",
      "source": [
        "from typing import DefaultDict\n",
        "def crear_celular(procesador: float, memoria: float, camara: float, pantalla: str,\n",
        "                  ancho: int, alto: int, pila: float, sistema: str, version: str)-> dict:\n",
        "  nuevo_celular = {}\n",
        "  nuevo_celular['procesador'] = procesador\n",
        "  nuevo_celular['memoria'] = memoria\n",
        "  nuevo_celular['camara'] = camara\n",
        "  nuevo_celular['pantalla'] = pantalla\n",
        "  nuevo_celular['ancho'] = ancho\n",
        "  nuevo_celular['alto'] = alto\n",
        "  nuevo_celular['pila'] = pila\n",
        "  nuevo_celular['sistema'] = sistema\n",
        "  nuevo_celular['version'] = version\n",
        "  return nuevo_celular\n",
        "\n",
        "cel1 = crear_celular(2.4, 64, 48, 'OLED', 1080, 2400, 5000, 'Android', '10')\n",
        "cel2 = crear_celular(2.2, 64, 84, 'OLED', 768, 1080, 3500, 'Android', '8.1')\n",
        "cel3 = crear_celular(2.0, 32, 182, 'Retina', 375, 812, 4200, 'iOS', '9.0')\n",
        "cel4 = crear_celular(1.8, 16, 6, 'Retina', 375, 667, 4150, 'iOS', '8.1.4')\n",
        "#print(cel1, cel2, cel3, cel4)\n",
        "\n",
        "#Diccionario de diccionarios para los celulares creados en def crear_celular\n",
        "celulares = {}\n",
        "celulares['AmazingCel'] = cel1\n",
        "celulares['BoringCel'] = cel2\n",
        "celulares['CheapCel'] = cel3\n",
        "celulares['DumbCel'] = cel4\n",
        "#print(celulares)\n",
        "\n",
        "def duplicar_pila(cel1: dict, cel2: dict, cel3: dict, cel4: DefaultDict)->dict:\n",
        "  celulares['AmazingCel']['pila'] *= 2\n",
        "  celulares['BoringCel']['pila'] *= 2\n",
        "  celulares['CheapCel']['pila'] *= 2\n",
        "  celulares['DumbCel']['pila'] *= 2\n",
        "  return celulares\n",
        "\n",
        "\n",
        "doble_pila = duplicar_pila(cel1, cel2, cel3, cel4)\n",
        "print(doble_pila)"
      ],
      "metadata": {
        "colab": {
          "base_uri": "https://localhost:8080/"
        },
        "id": "gRPmsxHIMihG",
        "outputId": "f4ae8b99-7bdf-4fe7-8057-3113bc9fc50d"
      },
      "execution_count": null,
      "outputs": [
        {
          "output_type": "stream",
          "name": "stdout",
          "text": [
            "{'AmazingCel': {'procesador': 2.4, 'memoria': 64, 'camara': 48, 'pantalla': 'OLED', 'ancho': 1080, 'alto': 2400, 'pila': 10000, 'sistema': 'Android', 'version': '10'}, 'BoringCel': {'procesador': 2.2, 'memoria': 64, 'camara': 84, 'pantalla': 'OLED', 'ancho': 768, 'alto': 1080, 'pila': 7000, 'sistema': 'Android', 'version': '8.1'}, 'CheapCel': {'procesador': 2.0, 'memoria': 32, 'camara': 182, 'pantalla': 'Retina', 'ancho': 375, 'alto': 812, 'pila': 8400, 'sistema': 'iOS', 'version': '9.0'}, 'DumbCel': {'procesador': 1.8, 'memoria': 16, 'camara': 6, 'pantalla': 'Retina', 'ancho': 375, 'alto': 667, 'pila': 8300, 'sistema': 'iOS', 'version': '8.1.4'}}\n"
          ]
        }
      ]
    },
    {
      "cell_type": "markdown",
      "source": [
        "RETO 5: PICAS Y FIJAS\n",
        "\n",
        "El juego de las Picas y Fijas es un juego matemático muy sencillo, consiste en adivinar un número de 4 cifras y de todos los dígitos diferentes. Para esto, el jugador que intenta adivinar deberá decir el número que cree está escondiendo el otro, y este deberá responder el número de picas y fijas que tiene ahora el jugador.\n",
        "\n",
        "Una pica es un dígito que se encuentra en el número a adivinar, pero no está en el lugar correcto; y una fija es un dígito correctamente colocado.\n",
        "\n",
        "Por ejemplo, si el número secreto es 1234 y el otro jugador dice 1325, tendrá dos picas y una fija.\n",
        "\n",
        "Debes crear una función que devuelva un diccionario con las llaves \"PICAS\" y \"FIJAS\" que represente el resultado de la jugada si un jugador trata de adivinar el numero_secreto con el número intento."
      ],
      "metadata": {
        "id": "yimC_dd5AfSk"
      }
    },
    {
      "cell_type": "code",
      "source": [
        "#RETO 5: PICAS Y FIJAS\n",
        "#Curso de programación en Python\n",
        "\n",
        "def picas_y_fijas(numero_secreto: int, intento: int)-> str:\n",
        "  picas_fijas = {} #Diccionario\n",
        "  \n",
        "  #Descomposición de número secreto\n",
        "  unidad_secreto = numero_secreto % 10\n",
        "  numero_secreto //= 10\n",
        "  decena_secreto = numero_secreto % 10\n",
        "  numero_secreto //= 10\n",
        "  centena_secreto = numero_secreto % 10\n",
        "  numero_secreto //= 10\n",
        "  millar_secreto = numero_secreto % 10\n",
        "\n",
        "  #Descomposición de número de intento\n",
        "  unidad_intento = intento % 10\n",
        "  intento //= 10\n",
        "  decena_intento = intento % 10\n",
        "  intento //= 10\n",
        "  centena_intento = intento % 10\n",
        "  intento //= 10\n",
        "  millar_intento = intento % 10\n",
        "\n",
        "  #Fijas, inicializar contador\n",
        "  contador_fijas = 0\n",
        "\n",
        "  if unidad_secreto == unidad_intento:\n",
        "    contador_fijas += 1\n",
        "  if decena_secreto == decena_intento:\n",
        "    contador_fijas += 1\n",
        "  if centena_secreto == centena_intento:\n",
        "    contador_fijas += 1\n",
        "  if millar_secreto == millar_intento:\n",
        "    contador_fijas += 1\n",
        "\n",
        "  #Se agrega la cantidad de FIJAS al diccionario\n",
        "  picas_fijas['FIJAS'] = contador_fijas\n",
        "\n",
        "  #Picas, inicializar contador\n",
        "  contador_picas = 0\n",
        "\n",
        "  if (unidad_intento == decena_secreto) or (unidad_intento == centena_secreto) or (unidad_intento == millar_secreto):\n",
        "    contador_picas += 1\n",
        "  if (decena_intento == unidad_secreto) or (decena_intento == centena_secreto) or (decena_intento == millar_secreto):\n",
        "    contador_picas += 1\n",
        "  if (centena_intento == unidad_secreto) or (centena_intento == decena_secreto) or (centena_intento == millar_secreto):\n",
        "    contador_picas += 1\n",
        "  if (millar_intento == unidad_secreto) or (millar_intento == decena_secreto) or (millar_intento == centena_secreto):\n",
        "    contador_picas += 1\n",
        "\n",
        "  #Se agrega la cantidad de PICAS al diccionario\n",
        "  picas_fijas['PICAS'] = contador_picas\n",
        "\n",
        "  return picas_fijas\n",
        "\n",
        "numero_secreto = int(input('Escriba el número secreto: '))\n",
        "intento = int(input('Escriba su número de juego: '))\n",
        "jugar = picas_y_fijas(numero_secreto, intento)\n",
        "print(jugar)"
      ],
      "metadata": {
        "colab": {
          "base_uri": "https://localhost:8080/"
        },
        "id": "1fDQPHftAkcH",
        "outputId": "b0467f48-9d67-4a00-e590-b2f506a7c620"
      },
      "execution_count": null,
      "outputs": [
        {
          "output_type": "stream",
          "name": "stdout",
          "text": [
            "Escriba el número secreto: 7698\n",
            "Escriba su número de juego: 8679\n",
            "{'FIJAS': 1, 'PICAS': 3}\n"
          ]
        }
      ]
    },
    {
      "cell_type": "markdown",
      "source": [
        "MANOS A LA OBRA: Creación de funciones sobre diccionarios que representan estudiantes."
      ],
      "metadata": {
        "id": "wLJbZVsaUSBf"
      }
    },
    {
      "cell_type": "code",
      "source": [
        "def crear_estudiante(nombre: str, codigo: str, genero: str, carrera: str, promedio: float, ssc: float)-> dict:\n",
        "  dic_estudiantes = {'nombre': nombre,\n",
        "                     'codigo': codigo,\n",
        "                     'genero': genero,\n",
        "                     'carrera': carrera,\n",
        "                     'promedio': promedio,\n",
        "                     'ssc': ssc}\n",
        "  return dic_estudiantes\n",
        "\n",
        "est1 = crear_estudiante(\"Juan Pérez\", \"2189745676\", \"masculino\", \"Biología\", 3.15, 0.7)\n",
        "est2 = crear_estudiante(\"Ana Gavalda\", \"3256789221\", \"femenino\", \"Ciencias Políticas\", 4.25, 3.5)\n",
        "est3 = crear_estudiante(\"Bastien Bosa\", \"2234657876\", \"masculino\", \"Economía\", 3.21, 2.3)\n",
        "est4 = crear_estudiante(\"Catalina Gómez\", \"2311567898\", \"femenino\", \"Arte\", 3.8, 4)"
      ],
      "metadata": {
        "id": "GCSamnI-UYO9"
      },
      "execution_count": null,
      "outputs": []
    },
    {
      "cell_type": "markdown",
      "source": [
        "Escriba una función que reciba por parámetro los 4 estudiantes y un nombre para buscar el estudiante en los diccionarios."
      ],
      "metadata": {
        "id": "e60WiZEdXw7n"
      }
    },
    {
      "cell_type": "code",
      "source": [
        "def buscar_estudiante(est1: dict, est2: dict, est3: dict, est4: dict, nombre: str)->dict:\n",
        "  buscar = None\n",
        "\n",
        "  if nombre in est1['nombre']:\n",
        "    buscar = est1\n",
        "  elif nombre in est2['nombre']:\n",
        "    buscar = est2 \n",
        "  elif nombre in est3['nombre']: \n",
        "    buscar = est3\n",
        "  elif nombre in est4['nombre']: \n",
        "    buscar = est4\n",
        "  \n",
        "  return buscar\n",
        "\n",
        "buscar_est = buscar_estudiante(est1, est2, est3, est4, \"Bastien Bosa\")\n",
        "\n",
        "if buscar_est is None:\n",
        "  print('El estudiante no existe.')\n",
        "else:\n",
        "  print('El estudiante existe y su código es', buscar_est['codigo'])"
      ],
      "metadata": {
        "colab": {
          "base_uri": "https://localhost:8080/"
        },
        "id": "PWbJjrA4X3uw",
        "outputId": "e83b0036-1955-4c15-e787-8382f7960df1"
      },
      "execution_count": null,
      "outputs": [
        {
          "output_type": "stream",
          "name": "stdout",
          "text": [
            "El estudiante existe y su código es 2234657876\n"
          ]
        }
      ]
    },
    {
      "cell_type": "markdown",
      "source": [
        "Escriba una función que aumente un semestre a todos lo estudiantes."
      ],
      "metadata": {
        "id": "Os1qzm6kfBPw"
      }
    },
    {
      "cell_type": "code",
      "source": [
        "def avanzar_semestre(est1: dict, est2: dict, est3: dict, est4: dict)-> None:\n",
        "  est1['ssc'] += 1\n",
        "  est2['ssc'] += 1\n",
        "  est3['ssc'] += 1\n",
        "  est4['ssc'] += 1\n",
        "\n",
        "avanzar = avanzar_semestre(est1, est2, est3, est4)"
      ],
      "metadata": {
        "id": "Wc05_ioZfE2u"
      },
      "execution_count": null,
      "outputs": []
    },
    {
      "cell_type": "markdown",
      "source": [
        "Escriba una función que reciba los 4 estudiantes y retorne un diccionario con los códigos (claves) y los promedios (valores) de los estudiantes que tienen el promedio por debajo de 3.4"
      ],
      "metadata": {
        "id": "fCtSeUWufstm"
      }
    },
    {
      "cell_type": "code",
      "source": [
        "def quienes_en_riesgo(est1: dict, est2: dict, est3: dict, est4: dict)->dict:\n",
        "  riesgo = {}\n",
        "\n",
        "  if est1['promedio'] < 3.4:\n",
        "    riesgo[est1['codigo']] = est1['promedio']\n",
        "  if est2['promedio'] < 3.4:\n",
        "    riesgo[est2['codigo']] = est2['promedio']\n",
        "  if est3['promedio'] < 3.4:\n",
        "    riesgo[est3['codigo']] = est3['promedio']\n",
        "  if est4['promedio'] < 3.4:\n",
        "    riesgo[est4['codigo']] = est4['promedio']\n",
        "\n",
        "  return riesgo\n",
        "\n",
        "riesgos = quienes_en_riesgo(est1, est2, est3, est4)\n",
        "print(riesgos)"
      ],
      "metadata": {
        "colab": {
          "base_uri": "https://localhost:8080/"
        },
        "id": "4FelexTqf_wV",
        "outputId": "afed408c-97e4-481a-950b-75d58944dc52"
      },
      "execution_count": null,
      "outputs": [
        {
          "output_type": "stream",
          "name": "stdout",
          "text": [
            "{'2189745676': 3.15, '2234657876': 3.21}\n"
          ]
        }
      ]
    },
    {
      "cell_type": "markdown",
      "source": [
        "RETO 6: El mejor estudiante del salón\n",
        "\n",
        "Los estudiantes de un cierto colegio tienen que ver 5 cursos: \n",
        "\n",
        "Matemáticas, Español, Ciencias, Literatura y Arte. Usted debe construir una función que reciba la información de 5 estudiantes y calcule quién es el mejor estudiante (el que tenga el mejor promedio). La información de cada estudiante se representará usando un diccionario con 6 llaves: \"nombre\", que tendrá asociado el nombre del estudiante; \"matematicas\", que tendrá asociada la nota del estudiante en el curso Matemáticas; \"español\", que tendrá asociada la nota del estudiante en el curso Español; \"ciencias\", que tendrá asociada la nota del estudiante en el curso Ciencias; \"literatura\", que tendrá asociada la nota del estudiante en el curso Literatura; y \"arte\", que tendrá asociada la nota del estudiante en el curso Arte. Las notas son números decimales entre 0 y 5.\n",
        "\n",
        "Su función debe retornar el nombre del estudiante que tenga el mejor promedio. Si hay varios con el mejor promedio, debe aparecer el estudiante que tenga el nombre alfabéticamente menor (independientemente de mayúsculas o minúsculas).\n",
        "\n"
      ],
      "metadata": {
        "id": "2O549TwNteUn"
      }
    },
    {
      "cell_type": "code",
      "source": [
        "def estudiantes_u(nombre: str, nota_matematicas: float, nota_español: float, nota_ciencias: float,\n",
        "                  nota_literatura: float, nota_artes: float)-> dict:\n",
        "  calificaciones = {'nombre': nombre, 'matematicas': nota_matematicas,\n",
        "                    'español': nota_español, 'ciencias': nota_ciencias,\n",
        "                    'literatura': nota_literatura, 'arte': nota_artes}                \n",
        "  return calificaciones\n",
        "\n",
        "estudiante1 = estudiantes_u('Juan Pablo', 4.1, 3.7, 4.4, 3.5, 2.5)\n",
        "estudiante2 = estudiantes_u('Alejandro Henao', 2.2, 4.0, 3.5, 3.2, 4.0)\n",
        "estudiante3 = estudiantes_u('Juan Osorio', 2.5, 4.8, 3.2, 4.5, 3.0)\n",
        "estudiante4 = estudiantes_u('Diego Agudelo', 4.3, 2.0, 3.5, 2.8, 3.7)\n",
        "estudiante5 = estudiantes_u('Sebastian Estrada', 5.0, 2.5, 4.1, 2.9, 2.0)\n",
        "\n",
        "def mejor_del_salon(estudiante1: dict, estudiante2: dict, estudiante3: dict, estudiante4: dict, estudiante5: dict)-> str:\n",
        "  promedio1 = (estudiante1['matematicas'] + estudiante1['español'] + estudiante1['ciencias'] + estudiante1['literatura'] + estudiante1['arte']) / 5\n",
        "  promedio2 = (estudiante2['matematicas'] + estudiante2['español'] + estudiante2['ciencias'] + estudiante2['literatura'] + estudiante2['arte']) / 5\n",
        "  promedio3 = (estudiante3['matematicas'] + estudiante3['español'] + estudiante3['ciencias'] + estudiante3['literatura'] + estudiante3['arte']) / 5\n",
        "  promedio4 = (estudiante4['matematicas'] + estudiante4['español'] + estudiante4['ciencias'] + estudiante4['literatura'] + estudiante4['arte']) / 5\n",
        "  promedio5 = (estudiante5['matematicas'] + estudiante5['español'] + estudiante5['ciencias'] + estudiante5['literatura'] + estudiante5['arte']) / 5\n",
        "\n",
        "  mejor_promedio = estudiante1['nombre']\n",
        "  promedio_mayor = promedio1\n",
        "  \n",
        "  if promedio2 > promedio_mayor:\n",
        "    promedio_mayor = promedio2\n",
        "    mejor_promedio = estudiante2['nombre']\n",
        "  if promedio3 > promedio_mayor:\n",
        "    promedio_mayor = promedio3\n",
        "    mejor_promedio = estudiante3['nombre']\n",
        "  if promedio4 > promedio_mayor:\n",
        "    promedio_mayor = promedio4 \n",
        "    mejor_promedio = estudiante4['nombre']\n",
        "  if promedio5 > promedio_mayor:\n",
        "    promedio_mayor = promedio5 \n",
        "    mejor_promedio = estudiante5['nombre']\n",
        "    \n",
        "  return mejor_promedio\n",
        "\n",
        "honor = mejor_del_salon(estudiante1, estudiante2, estudiante3, estudiante4, estudiante5)\n",
        "print(honor)"
      ],
      "metadata": {
        "id": "cSjn_Sretl7k",
        "colab": {
          "base_uri": "https://localhost:8080/"
        },
        "outputId": "e6f08a0e-1799-484d-faf3-ec0c465ea395"
      },
      "execution_count": null,
      "outputs": [
        {
          "output_type": "stream",
          "name": "stdout",
          "text": [
            "Juan Pablo\n"
          ]
        }
      ]
    },
    {
      "cell_type": "markdown",
      "source": [
        "# **Paso de parámetros**"
      ],
      "metadata": {
        "id": "GXSQNlNLRrzC"
      }
    },
    {
      "cell_type": "markdown",
      "source": [
        "Hasta el momento hemos utilizado el mecanismo de paso de parámetros cada vez que hemos invocado una función, pero no hemos entrado en mucho detalle sobre lo que está pasando. En esta sección vamos a estudiar este proceso en más profundidad y vamos a diferenciar entre los dos mecanismos disponibles en Python: paso de parámetros por valor y paso de parámetros por referencia.\n",
        "\n",
        "Además, estudiaremos un par características adicionales que ofrece Python para manejar los parámetros de una función con mayor flexibilidad. Usar estas características es totalmente opcional y, como usualmente no están disponibles en otros lenguajes, no es recomendable acostumbrarse a usarlas siempre.\n",
        "\n"
      ],
      "metadata": {
        "id": "4DRo68UfRS5B"
      }
    },
    {
      "cell_type": "markdown",
      "source": [
        "PASO DE PARÁMETROS POR VALOR Y POR REFERENCIA"
      ],
      "metadata": {
        "id": "ZqXCeVuZRUsV"
      }
    },
    {
      "cell_type": "markdown",
      "source": [
        "Para empezar, vamos a recordar la diferencia entre el operador == y el operador is: el primero lo podemos usar para comparar los valores de unas variables para ver si son iguales, mientras que el segundo nos sirve para saber sin son el mismo. Esto lo podemos ver en el siguiente ejemplo en el cual estamos construyendo dos diccionarios y luego los comparamos usando los dos operadores:"
      ],
      "metadata": {
        "id": "elRLQdI0ReSL"
      }
    },
    {
      "cell_type": "code",
      "source": [
        "d1 = {'k1': 1}\n",
        "d2 = {'k1': 1}\n",
        "print(d1 == d2)\n",
        "print(d1 is d2)"
      ],
      "metadata": {
        "id": "KZKk-SSaCbsi",
        "colab": {
          "base_uri": "https://localhost:8080/"
        },
        "outputId": "5b6296f0-328a-46eb-e4d4-f0fefcdd9c29"
      },
      "execution_count": null,
      "outputs": [
        {
          "output_type": "stream",
          "name": "stdout",
          "text": [
            "True\n",
            "False\n"
          ]
        }
      ]
    },
    {
      "cell_type": "code",
      "source": [
        "def limpiar_diccionario(el_diccionario: dict) -> None:\n",
        "    el_diccionario.clear()\n",
        "    \n",
        "d = {\"a\":1, \"b\":2, \"c\": 3}\n",
        "print(d)\n",
        "limpiar_diccionario(d)\n",
        "print(d)"
      ],
      "metadata": {
        "colab": {
          "base_uri": "https://localhost:8080/"
        },
        "id": "sIsf3O2nTfDn",
        "outputId": "d67b6ef5-464f-4d6f-b909-c8476a957731"
      },
      "execution_count": null,
      "outputs": [
        {
          "output_type": "stream",
          "name": "stdout",
          "text": [
            "{'a': 1, 'b': 2, 'c': 3}\n",
            "{}\n"
          ]
        }
      ]
    },
    {
      "cell_type": "markdown",
      "source": [
        "PARÁMETROS EN UNA FUNCIÓN"
      ],
      "metadata": {
        "id": "Cl1iEdFDR8BM"
      }
    },
    {
      "cell_type": "markdown",
      "source": [
        "Veamos ahora lo que pasa cuando se tienen parámetros de diferentes tipos en una función. Para esto estudiemos el siguiente programa:"
      ],
      "metadata": {
        "id": "uDcGx-RMSNpm"
      }
    },
    {
      "cell_type": "code",
      "source": [
        "def funcion(p1: str, p2: str, p3: dict, p4:dict) -> None:\n",
        "    print(\"--> Valores recibidos:\", p1, p2, p3, p4)\n",
        "    print(\"--> Comparar las cadenas:\", p1 == p2)\n",
        "    print(\"--> Comparar los diccionarios:\", p3 == p4, p3 is p4)\n",
        "    \n",
        "    p1 = \"nueva cadena\"\n",
        "    p3[\"nuevo valor\"] = 99\n",
        "    print(\"--> Valores modificados:\", p1, p2, p3, p4)\n",
        "    p3 = {\"ultimo\": 1}\n",
        "    print(\"--> Valores modificados de nuevo:\", p3, p4)    \n",
        "   \n",
        "cadena = \"cadena inicial\"\n",
        "diccionario = {\"inicial\": 0}\n",
        "\n",
        "print(\"Antes de llamar a la función: \", cadena, diccionario)\n",
        "funcion(cadena, cadena, diccionario, diccionario)\n",
        "print(\"Después de llamar a la función: \", cadena, diccionario)"
      ],
      "metadata": {
        "colab": {
          "base_uri": "https://localhost:8080/"
        },
        "id": "OkUBG12DRp0j",
        "outputId": "94f18f3d-eea5-4a43-f35d-8b2eb9fc9b77"
      },
      "execution_count": null,
      "outputs": [
        {
          "output_type": "stream",
          "name": "stdout",
          "text": [
            "Antes de llamar a la función:  cadena inicial {'inicial': 0}\n",
            "--> Valores recibidos: cadena inicial cadena inicial {'inicial': 0} {'inicial': 0}\n",
            "--> Comparar las cadenas: True\n",
            "--> Comparar los diccionarios: True True\n",
            "--> Valores modificados: nueva cadena cadena inicial {'inicial': 0, 'nuevo valor': 99} {'inicial': 0, 'nuevo valor': 99}\n",
            "--> Valores modificados de nuevo: {'ultimo': 1} {'inicial': 0, 'nuevo valor': 99}\n",
            "Después de llamar a la función:  cadena inicial {'inicial': 0, 'nuevo valor': 99}\n"
          ]
        }
      ]
    },
    {
      "cell_type": "markdown",
      "source": [
        "PARÁMETROS NOMBRADOS"
      ],
      "metadata": {
        "id": "H7l3kGzdUhvl"
      }
    },
    {
      "cell_type": "markdown",
      "source": [
        "La primera característica para estudiar tiene que ver con la forma de hacer referencia a los parámetros de una función en el momento de la invocación. Hasta ahora, siempre hemos utilizado el mecanismo basado en la posición: el primer valor en la invocación corresponde al primer parámetro, el segundo valor en la invocación corresponde al segundo parámetro, y así sucesivamente. Sin embargo, en Python es posible hacer explícito el nombre de los parámetros en el momento de la invocación de tal forma que se puedan invocar en un orden diferente al que se tiene en la declaración.\n",
        "\n",
        "Veamos un ejemplo:"
      ],
      "metadata": {
        "id": "aslw7QKEUjsv"
      }
    },
    {
      "cell_type": "code",
      "source": [
        "def imprimir_nombre(nombre: str, apellido: str) -> None:\n",
        "    print(nombre + \" \" + apellido)\n",
        "\n",
        "imprimir_nombre(\"Juan\", \"Perez\")  # Imprime \"Juan Perez\"\n",
        "imprimir_nombre(nombre = \"Juan\", apellido = \"Perez\")  # Imprime \"Juan Perez\"\n",
        "imprimir_nombre(apellido = \"Perez\", nombre = \"Juan\")  # Imprime \"Juan Perez\""
      ],
      "metadata": {
        "colab": {
          "base_uri": "https://localhost:8080/"
        },
        "id": "TLlbtWubSP9_",
        "outputId": "d0e6fc00-2d45-4d79-dfc0-3f44b466a745"
      },
      "execution_count": null,
      "outputs": [
        {
          "output_type": "stream",
          "name": "stdout",
          "text": [
            "Juan Perez\n",
            "Juan Perez\n",
            "Juan Perez\n"
          ]
        }
      ]
    },
    {
      "cell_type": "code",
      "source": [
        "banco = {'nombre': 'Techo', 'localidad': 'Kennedy',\n",
        "         'donantes': 0, 'AB+': 360, 'AB-': 130}\n",
        "\n",
        "llave1 = 'localidad'\n",
        "llave2 = 'Kennedy'\n",
        "valor1 = banco.get(llave1, \"Ninguno\")\n",
        "valor2 = banco.get(llave2, \"Ninguno\")\n",
        "\n",
        "print('1. ', valor1)\n",
        "print('2. ', valor2)\n",
        "\n",
        "banco[\"nombre\"] = \"Banderas\"\n",
        "print('3. ', valor1)\n",
        "\n",
        "temporal1 = 0\n",
        "if banco['AB+'] < 120:\n",
        "  temporal1 = 300\n",
        "elif banco['AB-'] < 350:\n",
        "  temporal1 = 210\n",
        "print('4. ', temporal1)\n",
        "\n"
      ],
      "metadata": {
        "id": "EbrfX9rwYPm8",
        "colab": {
          "base_uri": "https://localhost:8080/"
        },
        "outputId": "ed6028a0-c702-4b97-8a8d-0d4e9cd1540d"
      },
      "execution_count": null,
      "outputs": [
        {
          "output_type": "stream",
          "name": "stdout",
          "text": [
            "1.  Kennedy\n",
            "2.  Ninguno\n",
            "3.  Kennedy\n",
            "4.  210\n"
          ]
        }
      ]
    },
    {
      "cell_type": "markdown",
      "source": [
        "-Actividad: Tus amigos, a quienes también les gusta mucho ver películas, te han propuesto ir al cine la próxima semana y quieren conocer los precios de las boletas.\n",
        "\n",
        "Estas son las tarifas básicas de acuerdo con el tipo de sala:\n",
        "\n",
        "Dinamix - 18800 pesos\n",
        "\n",
        "3D - 15500 pesos\n",
        "\n",
        "2D - 11300 pesos.\n",
        "\n",
        "El cinema tiene, además, varias promociones que aplican para calcular el precio de las boletas que dependen del tipo de sala, del número de boletas que se compren simultáneamente, de la hora del día, del tipo de pago (tarjeta del cinema u otros medios de pago) y de si se tenía reserva.\n",
        "\n",
        "Las promociones son las siguientes:\n",
        "\n",
        "En las horas menos congestionadas (horas no pico) todas las salas tienen un descuento del 10% sobre la tarifa básica y si se compran 3 o más boletas, se aplican $500 pesos más de descuento por cada boleta\n",
        "\n",
        "Si el medio de pago es la tarjeta del cinema, se hace un 5% descuento calculado sobre la tarifa básica\n",
        "\n",
        "Cuando se hace una reserva, se tiene un recargo de $2000 pesos por boleta sin importar el tipo de sala\n",
        "\n",
        "En las horas pico, la tarifa básica se incrementa un 25% para las salas 2D y 3D y un 50% para la sala Dinamix (este aumento no se tiene en cuenta para los recargos y descuentos).\n",
        "\n",
        "Debes escribir una función que calcule cuánto te costarán las boletas para ti y tus amigos."
      ],
      "metadata": {
        "id": "2-NdAfSwvms7"
      }
    },
    {
      "cell_type": "code",
      "source": [
        "def calcular_costo_boletas(cantidad_boletas: int, tipo_sala: str, hora_pico: bool, pago_tarjeta_cinema: bool, reserva: bool)-> int:\n",
        "    precio_base = 0\n",
        "    tarifa_din = 18800\n",
        "    tarifa_3d = 15500\n",
        "    tarifa_2d = 11300\n",
        "\n",
        "    if tipo_sala == 'Dinamix':\n",
        "        precio_base = cantidad_boletas * tarifa_din\n",
        "        if hora_pico == True:\n",
        "            precio_base += (precio_base * 0.50)\n",
        "        elif hora_pico == False:\n",
        "            precio_base -= (precio_base * 0.10)\n",
        "            if cantidad_boletas >= 3:\n",
        "                precio_base -= 500\n",
        "        if pago_tarjeta_cinema == True:\n",
        "            precio_base -= (precio_base * 0.5) \n",
        "        if reserva == True:\n",
        "            precio_base += (cantidad_boletas * 2000)\n",
        "\n",
        "    elif tipo_sala == '3D':\n",
        "        precio_base = cantidad_boletas * tarifa_3d\n",
        "        if hora_pico == True:\n",
        "            precio_base += (precio_base * 0.25)\n",
        "        elif hora_pico == False:\n",
        "            precio_base -= (precio_base * 0.10)\n",
        "            if cantidad_boletas >= 3:\n",
        "                precio_base -= 500\n",
        "        if pago_tarjeta_cinema == True:\n",
        "            precio_base -= (precio_base * 0.5)\n",
        "        if reserva == True:\n",
        "            precio_base += (cantidad_boletas * 2000)\n",
        "\n",
        "    elif tipo_sala == '2D':\n",
        "        precio_base = cantidad_boletas * tarifa_2d\n",
        "        if hora_pico == True:\n",
        "            precio_base += (precio_base * 0.25)\n",
        "        elif hora_pico == False:\n",
        "            precio_base -= (precio_base * 0.10)\n",
        "            if cantidad_boletas >= 3:\n",
        "                precio_base -= 500\n",
        "        if pago_tarjeta_cinema == True:\n",
        "            precio_base -= (precio_base * 0.5)\n",
        "        if reserva == True:\n",
        "          precio_base += (cantidad_boletas  * 2000)\n",
        "\n",
        "    return int(precio_base)"
      ],
      "metadata": {
        "id": "aMdxHzC8koCI"
      },
      "execution_count": null,
      "outputs": []
    },
    {
      "cell_type": "markdown",
      "source": [
        "**¿CÓMO UTILIZAR EL BUCLE WHILE EN PYTHON?**"
      ],
      "metadata": {
        "id": "ok-kEbkqrmgT"
      }
    },
    {
      "cell_type": "markdown",
      "source": [
        "En programación, los bucles son bloques de código que se ejecutan un número x de veces hasta que se cumple una condición."
      ],
      "metadata": {
        "id": "q8xpOAVurwT4"
      }
    },
    {
      "cell_type": "markdown",
      "source": [
        "La traducción de while es \"mientras\" y en programación sería algo así como \"ejecuta este bloque de código hasta que se cumpla una condición\". Vale, muy bien la teoría, pero vamos a ver un ejemplo práctico:"
      ],
      "metadata": {
        "id": "cfv2daEZPQ1H"
      }
    },
    {
      "cell_type": "code",
      "source": [
        "num = 0\n",
        "\n",
        "while num < 5:\n",
        "  print(f'Estamos dentro del bucle while y el valor actual del número es {num}')\n",
        "  num += 1\n",
        "\n",
        "print(f'El valor final de num es {num}')"
      ],
      "metadata": {
        "id": "HF_ckYiFuG4k",
        "colab": {
          "base_uri": "https://localhost:8080/"
        },
        "outputId": "f1428e0a-eed2-4564-8553-3f88fa59e89d"
      },
      "execution_count": null,
      "outputs": [
        {
          "output_type": "stream",
          "name": "stdout",
          "text": [
            "Estamos dentro del bucle while y el valor actual del número es 0\n",
            "Estamos dentro del bucle while y el valor actual del número es 1\n",
            "Estamos dentro del bucle while y el valor actual del número es 2\n",
            "Estamos dentro del bucle while y el valor actual del número es 3\n",
            "Estamos dentro del bucle while y el valor actual del número es 4\n",
            "El valor final de num es 5\n"
          ]
        }
      ]
    },
    {
      "cell_type": "markdown",
      "source": [
        "En este bucle tenemos una condición; mientras la variable num sea menor a 5 quiero que ejecutes este bloque de código. Como su valor es 0, se ejecutará la primera vez, imprimirá el mensaje e incrementará el valor de num en 1, además se seguirá ejecutando el bloque de código hasta que num alcance el valor de 5, entonces no se cumplirá la condición y finalizará el bucle."
      ],
      "metadata": {
        "id": "KAuwMC7UQwYV"
      }
    },
    {
      "cell_type": "markdown",
      "source": [
        "**¿ELSE EN UN BUCLE WHILE?**"
      ],
      "metadata": {
        "id": "iTl9OwxhQ15u"
      }
    },
    {
      "cell_type": "markdown",
      "source": [
        "Si queremos realizar una acción al finalizar el bucle while, podemos añadir un bloque else al final para realizar la acción que necesitemos:"
      ],
      "metadata": {
        "id": "0J-Tb99vQ8qk"
      }
    },
    {
      "cell_type": "code",
      "source": [
        "num = 0\n",
        "\n",
        "while num < 5:\n",
        "    print(f'Estamos dentro del bucle while y el valor actual de num es {num}')\n",
        "    num += 1\n",
        "else:\n",
        "    print(f'El valor final de num es {num}, por lo que se sumará 5 si cumple la nueva condición.')\n",
        "    if num == 5:\n",
        "      num += 10\n",
        "      print('Verificación completada, el número final debe ser 10.')"
      ],
      "metadata": {
        "colab": {
          "base_uri": "https://localhost:8080/"
        },
        "id": "RPTaZURxPmxO",
        "outputId": "ddcb2d62-a18a-491a-fc4a-5aebdcba1726"
      },
      "execution_count": null,
      "outputs": [
        {
          "output_type": "stream",
          "name": "stdout",
          "text": [
            "Estamos dentro del bucle while y el valor actual de num es 0\n",
            "Estamos dentro del bucle while y el valor actual de num es 1\n",
            "Estamos dentro del bucle while y el valor actual de num es 2\n",
            "Estamos dentro del bucle while y el valor actual de num es 3\n",
            "Estamos dentro del bucle while y el valor actual de num es 4\n",
            "El valor final de num es 5, por lo que se sumará 5 si cumple la nueva condición.\n",
            "Verificación completada, el número final debe ser 10.\n"
          ]
        }
      ]
    },
    {
      "cell_type": "markdown",
      "source": [
        "¿DO WHILE EN PYTHON?"
      ],
      "metadata": {
        "id": "sidq2VHbRkIR"
      }
    },
    {
      "cell_type": "markdown",
      "source": [
        "Los bucles do-while son similares a los bucles while, pero en este caso siempre tendremos al menos UNA EJECUCIÓN del bucle, ya que la expresión no se valora hasta el final. En Python no existe este tipo de bucle, pero podríamos emularlo de la siguiente forma:"
      ],
      "metadata": {
        "id": "VxeIZTjSRniP"
      }
    },
    {
      "cell_type": "code",
      "source": [
        "num = 10 \n",
        "\n",
        "while True:\n",
        "  print(f'El valor de num es {num}')\n",
        "  num += 1\n",
        "  if num > 5:\n",
        "    break\n",
        "\n",
        "print(f'El valor final de num es {num}')"
      ],
      "metadata": {
        "colab": {
          "base_uri": "https://localhost:8080/"
        },
        "id": "jO-G2kY9RJ9j",
        "outputId": "55e7f3dd-78de-43d3-9648-ba47a20faf1d"
      },
      "execution_count": null,
      "outputs": [
        {
          "output_type": "stream",
          "name": "stdout",
          "text": [
            "El valor de num es 10\n",
            "El valor final de num es 11\n"
          ]
        }
      ]
    },
    {
      "cell_type": "markdown",
      "source": [
        "En este caso siempre entramos en el bucle while, ya que la expresión es True, mostramos el mensaje e incrementamos el valor de num. Por último, comprobamos si num es mayor a 5, si es así, utilizamos la sentencia \"break\" que fuerza el fin de un ciclo aunque se siga cumpliendo la condición.\n",
        "\n",
        "El problema en este caso sería que no podríamos utilizar el bloque else, ya que al utilizar break, este bloque es ignorado. Para resolver esto, podríamos hacer unos cambios en el código para resolver este problema:"
      ],
      "metadata": {
        "id": "W5-ShIVTSUrk"
      }
    },
    {
      "cell_type": "code",
      "source": [
        "num = 10\n",
        "work = True\n",
        "\n",
        "while work:\n",
        "    print(f'El valor de num es {num}')\n",
        "    num += 1\n",
        "    if num > 5:\n",
        "        work = False\n",
        "else:\n",
        "    print(f'El valor final de num es {num}')"
      ],
      "metadata": {
        "colab": {
          "base_uri": "https://localhost:8080/"
        },
        "id": "M37GXZPSSAfU",
        "outputId": "80ba6eac-9758-492b-a52a-efb125182351"
      },
      "execution_count": null,
      "outputs": [
        {
          "output_type": "stream",
          "name": "stdout",
          "text": [
            "El valor de num es 10\n",
            "El valor final de num es 11\n"
          ]
        }
      ]
    },
    {
      "cell_type": "markdown",
      "source": [
        "En este caso cambiamos el valor booleano True por la variable, de esta forma cuando se cumple la condición de la sentencia if, cambiaremos el valor de la variable y de esta forma pararemos el bucle y se ejecutará el bloque else."
      ],
      "metadata": {
        "id": "c8Dq5wF-S3xa"
      }
    },
    {
      "cell_type": "markdown",
      "source": [
        "**¿QUÉ ES EL BUCLE FOR?**"
      ],
      "metadata": {
        "id": "Vcq1eyU0TOEe"
      }
    },
    {
      "cell_type": "markdown",
      "source": [
        "El bucle for es una sentencia que utilizaremos para iterar o repetir una determinada acción un número X de veces. Lo podemos utilizar para recorrer listas, diccionarios, rangos, cadenas, etc. Por ejemplo podemos tener un listado de números del 1 al 10 y este bucle se ejecutará de forma secuencial 10 veces (el número total de elementos de la lista) en el que en cada iteración podremos acceder al valor de la lista en el que nos encontramos. Por ejemplo, en la primera iteración tendríamos el valor 1, en la segunda el valor 2 y así sucesivamente hasta llegar al final de la lista."
      ],
      "metadata": {
        "id": "0ty20hwXTs9H"
      }
    },
    {
      "cell_type": "markdown",
      "source": [
        "**SINTAXIS DEL BUCLE FOR**"
      ],
      "metadata": {
        "id": "TVANEpcdUFuR"
      }
    },
    {
      "cell_type": "markdown",
      "source": [
        "La sintaxis del bucle for estará formada por la palabra reservada for seguida del valor actual de la iteración, después usaremos in seguido de la lista, diccionario, rango, etc, que queramos recorrer y para finalizar escribiremos dos puntos:"
      ],
      "metadata": {
        "id": "jWyrP_SiUMlD"
      }
    },
    {
      "cell_type": "code",
      "source": [
        "for valor_actual in valor_a_iterar:\n",
        "  acciones_bucle"
      ],
      "metadata": {
        "id": "iYSPFjz1SnYu"
      },
      "execution_count": null,
      "outputs": []
    },
    {
      "cell_type": "markdown",
      "source": [
        "**EJEMPLOS DE USO DE BUCLE FOR**"
      ],
      "metadata": {
        "id": "1-XThyMBUYtG"
      }
    },
    {
      "cell_type": "markdown",
      "source": [
        "**Recorrer un string o cadena de texto con el bucle FOR:**\n",
        "\n",
        "Por ejemplo, podemos tener un string en el que queremos identificar una letra en concreto y si es así realizar una acción. En este caso, podríamos utilizar el bucle for para encontrar el carácter en cuestión de la siguiente forma:"
      ],
      "metadata": {
        "id": "BrIFNY0xUeH7"
      }
    },
    {
      "cell_type": "code",
      "source": [
        "saludo = \"Hola mundo\"\n",
        "\n",
        "for char in saludo:\n",
        "  if(char == 'a'):\n",
        "    print('Este texto contiene la letra a')\n",
        "  print(f'Los valores iterativos del bucle son {char}')\n",
        "\n",
        "print(f'El valor final del bucle es {char}')"
      ],
      "metadata": {
        "colab": {
          "base_uri": "https://localhost:8080/"
        },
        "id": "YDDt0atoUldE",
        "outputId": "c906204d-6898-4f01-fe94-1fa026f49354"
      },
      "execution_count": null,
      "outputs": [
        {
          "output_type": "stream",
          "name": "stdout",
          "text": [
            "Los valores iterativos del bucle son H\n",
            "Los valores iterativos del bucle son o\n",
            "Los valores iterativos del bucle son l\n",
            "Este texto contiene la letra a\n",
            "Los valores iterativos del bucle son a\n",
            "Los valores iterativos del bucle son  \n",
            "Los valores iterativos del bucle son m\n",
            "Los valores iterativos del bucle son u\n",
            "Los valores iterativos del bucle son n\n",
            "Los valores iterativos del bucle son d\n",
            "Los valores iterativos del bucle son o\n",
            "El valor final del bucle es o\n"
          ]
        }
      ]
    },
    {
      "cell_type": "markdown",
      "source": [
        "Como se puede ver en el código, queremos imprimir un mensaje si encontramos el carácter \"a\". En la primera iteración, la variable char tendrá el valor de \"H\" por lo que no pasará nada, en la segunda iteración su valor será \"o\" por lo que tampoco se imprimirá nada y así será hasta que llegue a la iteración donde el valor de char será \"a\" en el que imprimirá el mensaje contenido en el print."
      ],
      "metadata": {
        "id": "-JQHFN71Vcez"
      }
    },
    {
      "cell_type": "markdown",
      "source": [
        "**Recorrer un listado de números generados con range utilizando el bucle FOR:**\n",
        "\n",
        "En el caso de que queramos recorrer un listado de números, podemos generarlo con la función range y después recorrerlo con for. De esta forma por cada iteración obtendremos cada uno de los valores de este rango de números:"
      ],
      "metadata": {
        "id": "MlCDAY91UWhg"
      }
    },
    {
      "cell_type": "code",
      "source": [
        "for num in range(10):\n",
        "  print(num)"
      ],
      "metadata": {
        "colab": {
          "base_uri": "https://localhost:8080/"
        },
        "id": "jZYpLHDaVoEr",
        "outputId": "66248ec8-54f7-4e1a-d0aa-ced8fb24db6e"
      },
      "execution_count": null,
      "outputs": [
        {
          "output_type": "stream",
          "name": "stdout",
          "text": [
            "0\n",
            "1\n",
            "2\n",
            "3\n",
            "4\n",
            "5\n",
            "6\n",
            "7\n",
            "8\n",
            "9\n"
          ]
        }
      ]
    },
    {
      "cell_type": "markdown",
      "source": [
        "**Iterar sobre una lista con el bucle FOR:**\n",
        "\n",
        "Para iterar sobre una lista, lo haremos de forma similar a la que hemos hecho para recorrer el listado de números con range, pero en este caso sustituiremos range por nuestra lista:"
      ],
      "metadata": {
        "id": "rvViG9K4Wlej"
      }
    },
    {
      "cell_type": "code",
      "source": [
        "frutas = ['manzana', 'pera', 'naranja', 'melón']\n",
        "\n",
        "for fruta in frutas:\n",
        "  print(fruta)"
      ],
      "metadata": {
        "colab": {
          "base_uri": "https://localhost:8080/"
        },
        "id": "Py0kvAJhVtxr",
        "outputId": "a7141553-08c3-44dc-b3cc-ce071dbac3e4"
      },
      "execution_count": null,
      "outputs": [
        {
          "output_type": "stream",
          "name": "stdout",
          "text": [
            "manzana\n",
            "pera\n",
            "naranja\n",
            "melón\n"
          ]
        }
      ]
    },
    {
      "cell_type": "markdown",
      "source": [
        "**ITERAR SOBRE UN DICCIONARIO CON EL BUCLE FOR**"
      ],
      "metadata": {
        "id": "pxDZKf1gXDgx"
      }
    },
    {
      "cell_type": "markdown",
      "source": [
        "En el caso de querer iterar sobre un diccionario, podemos hacerlo de varias formas, por claves, valores o por claves y valores. En los siguientes ejemplos vamos a ver como hacerlo de las tres formas.\n"
      ],
      "metadata": {
        "id": "ePHoRrFGXHMj"
      }
    },
    {
      "cell_type": "markdown",
      "source": [
        "**Iterar sobre las claves de un diccionario con el bucle FOR:**\n",
        "\n",
        "Para iterar sobre las claves de un diccionario, utilizaremos el método keys() de la clase dict para obtener un listado con las claves de un diccionario de la siguiente forma:"
      ],
      "metadata": {
        "id": "KPQePJrOXKGA"
      }
    },
    {
      "cell_type": "code",
      "source": [
        "ficha_usuario = {'nombre': 'JuanPa',\n",
        "                 'apellido': 'Aguilar',\n",
        "                 'edad': 33}\n",
        "\n",
        "for clave in ficha_usuario.keys():\n",
        "  print(clave)"
      ],
      "metadata": {
        "colab": {
          "base_uri": "https://localhost:8080/"
        },
        "id": "A0F6ub3UW1-U",
        "outputId": "6d8d4bdc-d35d-4d24-a775-ebc200a1d27c"
      },
      "execution_count": null,
      "outputs": [
        {
          "output_type": "stream",
          "name": "stdout",
          "text": [
            "nombre\n",
            "apellido\n",
            "edad\n"
          ]
        }
      ]
    },
    {
      "cell_type": "markdown",
      "source": [
        "**Iterar sobre los valores de un diccionario con el bucle FOR:**\n",
        "\n",
        "En el caso de querer obtener los valores, utilizaremos el método values():"
      ],
      "metadata": {
        "id": "xDetyt_tXksT"
      }
    },
    {
      "cell_type": "code",
      "source": [
        "ficha_usuario = {'nombre': 'JuanPa',\n",
        "                 'apellido': 'Aguilar',\n",
        "                 'edad': 33}\n",
        "\n",
        "for valor in ficha_usuario.values():\n",
        "  print(valor)  "
      ],
      "metadata": {
        "colab": {
          "base_uri": "https://localhost:8080/"
        },
        "id": "ujkzpUo6Xgf5",
        "outputId": "f4129bfe-2d95-486f-c163-747c5e70be4a"
      },
      "execution_count": null,
      "outputs": [
        {
          "output_type": "stream",
          "name": "stdout",
          "text": [
            "JuanPa\n",
            "Aguilar\n",
            "33\n"
          ]
        }
      ]
    },
    {
      "cell_type": "markdown",
      "source": [
        "**Iterar sobre las claves y valores de un diccionario con el bucle FOR:**\n",
        "\n",
        "Por último, si queremos iterar tanto por clave como por valor al mismo tiempo, utilizaremos el método items() de la siguiente forma:"
      ],
      "metadata": {
        "id": "Ya_JOL38YCzL"
      }
    },
    {
      "cell_type": "code",
      "source": [
        "ficha_usuario = {'nombre': 'JuanPa',\n",
        "                 'apellido': 'Aguilar',\n",
        "                 'edad': 33}\n",
        "\n",
        "for clave, valor in ficha_usuario.items():\n",
        "  print(f'La llave {clave} es igual a {valor}')  "
      ],
      "metadata": {
        "colab": {
          "base_uri": "https://localhost:8080/"
        },
        "id": "maW5BJ73XrUL",
        "outputId": "cd798568-d505-41f3-a00c-0695533ecaef"
      },
      "execution_count": null,
      "outputs": [
        {
          "output_type": "stream",
          "name": "stdout",
          "text": [
            "La llave nombre es igual a JuanPa\n",
            "La llave apellido es igual a Aguilar\n",
            "La llave edad es igual a 33\n"
          ]
        }
      ]
    },
    {
      "cell_type": "markdown",
      "source": [
        "**BREAK**"
      ],
      "metadata": {
        "id": "Sc44oFeGB6_1"
      }
    },
    {
      "cell_type": "markdown",
      "source": [
        "La sentencia break se utiliza cuando queremos finalizar un bloque while o for y todavía no ha terminado la iteración o no se ha cumplido la condición."
      ],
      "metadata": {
        "id": "61Zi6H6OB_nH"
      }
    },
    {
      "cell_type": "code",
      "source": [
        "i = 0\n",
        "\n",
        "while True:\n",
        "  i += 1\n",
        "  print(i)\n",
        "  if i > 5:\n",
        "    break"
      ],
      "metadata": {
        "colab": {
          "base_uri": "https://localhost:8080/"
        },
        "id": "J2LP8RzhYShQ",
        "outputId": "b8dcb8ce-d5e7-4baf-a8f1-d8df9e6b06c5"
      },
      "execution_count": null,
      "outputs": [
        {
          "output_type": "stream",
          "name": "stdout",
          "text": [
            "1\n",
            "2\n",
            "3\n",
            "4\n",
            "5\n",
            "6\n"
          ]
        }
      ]
    },
    {
      "cell_type": "markdown",
      "source": [
        "En este ejemplo vemos un bucle while que nunca terminará, ya que la condición siempre es True. En este caso vamos incrementando el valor de i en uno en cada iteración. Cuando su valor es mayor a 5, entra dentro del if y se ejecuta la sentencia break la cual rompe el ciclo."
      ],
      "metadata": {
        "id": "JEfrmKLDC0nz"
      }
    },
    {
      "cell_type": "markdown",
      "source": [
        "Ahora vamos a ver un ejemplo con el bucle for:"
      ],
      "metadata": {
        "id": "KVGR-o39C3-I"
      }
    },
    {
      "cell_type": "code",
      "source": [
        "for num in range(0, 9):\n",
        "  print(num)\n",
        "\n",
        "  if num == 6:\n",
        "    break"
      ],
      "metadata": {
        "colab": {
          "base_uri": "https://localhost:8080/"
        },
        "id": "mQwBb3oRCFCb",
        "outputId": "ecec1958-7177-42e8-f068-e7a30a6fe8c5"
      },
      "execution_count": null,
      "outputs": [
        {
          "output_type": "stream",
          "name": "stdout",
          "text": [
            "0\n",
            "1\n",
            "2\n",
            "3\n",
            "4\n",
            "5\n",
            "6\n"
          ]
        }
      ]
    },
    {
      "cell_type": "markdown",
      "source": [
        "En este caso, tenemos un listado de números del 0 al 8 y lo vamos a parar cuando lleguemos al número 6. Como ven, comprobamos que el número sea igual a 6 y si es así sale del bucle gracias a la sentencia break."
      ],
      "metadata": {
        "id": "oFGxQbr8DI_H"
      }
    },
    {
      "cell_type": "markdown",
      "source": [
        "**CONTINUE**"
      ],
      "metadata": {
        "id": "_WJXuzSQDXKg"
      }
    },
    {
      "cell_type": "markdown",
      "source": [
        "La sentencia continue será utilizada cuando en un bucle queramos obviar una parte del código. Una vez se ejecute esta sentencia, se omitirá todo el código existente después de ella y se volverá a ejecutar otra iteración del ciclo (hasta que termine).\n",
        "\n",
        "Para dejarlo más claro, vamos a verlo con un ejemplo:"
      ],
      "metadata": {
        "id": "igZgxWW8DfPL"
      }
    },
    {
      "cell_type": "code",
      "source": [
        "semana = ['Lunes festivo','Lunes', 'Martes', 'Miércoles', 'Jueves', 'Viernes', 'Sábado', 'Domingo']\n",
        "finde_semana = ['Lunes festivo','Sábado', 'Domingo']\n",
        "\n",
        "for dia in semana:\n",
        "\n",
        "    if dia in finde_semana:\n",
        "        print(f'Hoy {dia} no se trabaja')\n",
        "        continue\n",
        "\n",
        "    print(f'Hoy {dia} toca trabajar')"
      ],
      "metadata": {
        "colab": {
          "base_uri": "https://localhost:8080/"
        },
        "id": "o2WWJ9OBDAOG",
        "outputId": "a48c5b68-5544-4704-ba1d-d2bda1c5254d"
      },
      "execution_count": null,
      "outputs": [
        {
          "output_type": "stream",
          "name": "stdout",
          "text": [
            "Hoy Lunes festivo no se trabaja\n",
            "Hoy Lunes toca trabajar\n",
            "Hoy Martes toca trabajar\n",
            "Hoy Miércoles toca trabajar\n",
            "Hoy Jueves toca trabajar\n",
            "Hoy Viernes toca trabajar\n",
            "Hoy Sábado no se trabaja\n",
            "Hoy Domingo no se trabaja\n"
          ]
        }
      ]
    },
    {
      "cell_type": "markdown",
      "source": [
        "En este caso tenemos dos listas, en la primera tenemos todos los días de la semana y en la segunda solo el fin de semana.\n",
        "\n",
        "Recorremos el listado con todos los días de la semana y comprobamos si ese día está en la segunda lista. Si es así imprimirá un mensaje y realizará la sentencia continue, por lo tanto, el código a continuación no se ejecutará y volverá a iterar sobre la lista si no ha llegado a su final.\n",
        "\n",
        "En el caso de que no cumpla la condición, continuará con la ejecución del código en el bucle e imprimirá el mensaje \"Hoy X toca trabajar\"."
      ],
      "metadata": {
        "id": "uBZIbiSUEDSC"
      }
    },
    {
      "cell_type": "markdown",
      "source": [
        "**PASS**"
      ],
      "metadata": {
        "id": "mjh8JmBKFaKV"
      }
    },
    {
      "cell_type": "markdown",
      "source": [
        "La sentencia pass la utilizaremos cuando queramos crear una clase, método, función, bucle o condicional, pero en el que todavía no queramos definir ningún comportamiento. En otros lenguajes sería algo así como declarar por ejemplo una función y entre las llaves no añadir ningún dato. Las clases y objetos no serán estudiadas por el momento.\n",
        "\n",
        "Unos cuantos ejemplos:"
      ],
      "metadata": {
        "id": "sp-5SJteFgVR"
      }
    },
    {
      "cell_type": "code",
      "source": [
        "class MyClass:\n",
        "  pass\n",
        "\n",
        "class MyClass2:\n",
        "  def my_method(self):\n",
        "    pass\n",
        "\n",
        "def my_function():\n",
        "  pass \n",
        "\n",
        "if 1 == 2:\n",
        "  pass\n",
        "\n",
        "while True:\n",
        "  pass\n",
        "\n",
        "for num in range(1, 5):\n",
        "  pass"
      ],
      "metadata": {
        "id": "3tbTJD8WDu3N"
      },
      "execution_count": null,
      "outputs": []
    },
    {
      "cell_type": "markdown",
      "source": [
        "Veamos la definición de una función para entender mejor el funcionamiento de la estructura loop While, en donde evalúamos la función con un valor de 4 y debería arrojar el valor final de 10, seguido de evaluarla en 1000 hasta detenerse en un valor de 500500:"
      ],
      "metadata": {
        "id": "4Wt1tveZLNoh"
      }
    },
    {
      "cell_type": "code",
      "source": [
        "def sumTo(aBound):\n",
        "    \"\"\" Retorna la suma de 1+2+3 ... n \"\"\"\n",
        "\n",
        "    theSum  = 0\n",
        "    aNumber = 1\n",
        "    while aNumber <= aBound:\n",
        "        theSum = theSum + aNumber\n",
        "        aNumber = aNumber + 1\n",
        "    return theSum\n",
        "\n",
        "print(sumTo(4))\n",
        "\n",
        "print(sumTo(1000))"
      ],
      "metadata": {
        "colab": {
          "base_uri": "https://localhost:8080/"
        },
        "id": "5d_nv4yyGNz-",
        "outputId": "04137633-5fd9-4144-efcf-bff360b013a6"
      },
      "execution_count": null,
      "outputs": [
        {
          "output_type": "stream",
          "name": "stdout",
          "text": [
            "10\n",
            "500500\n"
          ]
        }
      ]
    },
    {
      "cell_type": "markdown",
      "source": [
        "Veamos un ejemplo de la misma función utilizando for-loop:"
      ],
      "metadata": {
        "id": "U73Vn6zsPIFy"
      }
    },
    {
      "cell_type": "code",
      "source": [
        "def sumTo(aBound):\n",
        "    theSum = 0\n",
        "    for aNumber in range(1, aBound + 1):\n",
        "        theSum = theSum + aNumber\n",
        "\n",
        "    return theSum\n",
        "\n",
        "print(sumTo(4))\n",
        "\n",
        "print(sumTo(1000))"
      ],
      "metadata": {
        "colab": {
          "base_uri": "https://localhost:8080/"
        },
        "id": "KYDQnvKZPMb5",
        "outputId": "24526e89-ed89-41db-93f5-a2477c5c23f3"
      },
      "execution_count": null,
      "outputs": [
        {
          "output_type": "stream",
          "name": "stdout",
          "text": [
            "10\n",
            "500500\n"
          ]
        }
      ]
    },
    {
      "cell_type": "code",
      "source": [
        "for f in [\"Joe\", \"Amy\", \"Brad\", \"Angelina\", \"Zuki\", \"Thandi\", \"Paris\"]:\n",
        "    print(\"Hi\", f, \"Please come to my party on Saturday\")"
      ],
      "metadata": {
        "colab": {
          "base_uri": "https://localhost:8080/"
        },
        "id": "VK_nBUe6Lxmk",
        "outputId": "33e80240-f56e-4250-d80d-b40c05d71461"
      },
      "execution_count": null,
      "outputs": [
        {
          "output_type": "stream",
          "name": "stdout",
          "text": [
            "Hi Joe Please come to my party on Saturday\n",
            "Hi Amy Please come to my party on Saturday\n",
            "Hi Brad Please come to my party on Saturday\n",
            "Hi Angelina Please come to my party on Saturday\n",
            "Hi Zuki Please come to my party on Saturday\n",
            "Hi Thandi Please come to my party on Saturday\n",
            "Hi Paris Please come to my party on Saturday\n"
          ]
        }
      ]
    },
    {
      "cell_type": "code",
      "source": [
        "def printnums(x,y):\n",
        "    for h in range(y):\n",
        "        print(\"We made it here!\")\n",
        "        for i in range(x):\n",
        "            print(\"We made it here!\")\n",
        "\n",
        "printnums(5, 3)"
      ],
      "metadata": {
        "colab": {
          "base_uri": "https://localhost:8080/"
        },
        "id": "oTrdMEpYObEc",
        "outputId": "b76827b5-0980-4f57-a769-e5e904d0b343"
      },
      "execution_count": null,
      "outputs": [
        {
          "output_type": "stream",
          "name": "stdout",
          "text": [
            "We made it here!\n",
            "We made it here!\n",
            "We made it here!\n",
            "We made it here!\n",
            "We made it here!\n",
            "We made it here!\n",
            "We made it here!\n",
            "We made it here!\n",
            "We made it here!\n",
            "We made it here!\n",
            "We made it here!\n",
            "We made it here!\n",
            "We made it here!\n",
            "We made it here!\n",
            "We made it here!\n",
            "We made it here!\n",
            "We made it here!\n",
            "We made it here!\n"
          ]
        }
      ]
    },
    {
      "cell_type": "markdown",
      "source": [
        "-Actividad: Haz un programa que muestre la tabla de multiplicar de un número introducido por\n",
        "teclado por el usuario."
      ],
      "metadata": {
        "id": "af13nQ5fWxc2"
      }
    },
    {
      "cell_type": "code",
      "source": [
        "tabla = int(input('¿De qué número desea conocer su tabla? '))\n",
        "for i in range(1, 10 + 1):\n",
        "  mult = tabla * i\n",
        "  print(f'{tabla} x {i} = {mult}')"
      ],
      "metadata": {
        "colab": {
          "base_uri": "https://localhost:8080/"
        },
        "id": "tPp13PIqQtEY",
        "outputId": "7b02aff7-aca1-4dce-8f29-51f7970b1242"
      },
      "execution_count": null,
      "outputs": [
        {
          "output_type": "stream",
          "name": "stdout",
          "text": [
            "¿De qué número desea conocer su tabla? 7\n",
            "7 x 1 = 7\n",
            "7 x 2 = 14\n",
            "7 x 3 = 21\n",
            "7 x 4 = 28\n",
            "7 x 5 = 35\n",
            "7 x 6 = 42\n",
            "7 x 7 = 49\n",
            "7 x 8 = 56\n",
            "7 x 9 = 63\n",
            "7 x 10 = 70\n"
          ]
        }
      ]
    },
    {
      "cell_type": "markdown",
      "source": [
        "-Actividad: Haz un programa que muestre la raíz n-ésima de un número leído por teclado, para\n",
        "n tomando valores entre 2 y 100."
      ],
      "metadata": {
        "id": "SXNjEEDZpX5v"
      }
    },
    {
      "cell_type": "code",
      "source": [
        "import math as mt\n",
        "\n",
        "for n in range (2, 100 + 1):\n",
        "  raiz = mt.sqrt(n)\n",
        "  print(raiz)"
      ],
      "metadata": {
        "colab": {
          "base_uri": "https://localhost:8080/"
        },
        "id": "XajkZIPfVtNd",
        "outputId": "23124dc8-33a3-4fda-9293-9704a213f662"
      },
      "execution_count": null,
      "outputs": [
        {
          "output_type": "stream",
          "name": "stdout",
          "text": [
            "1.4142135623730951\n",
            "1.7320508075688772\n",
            "2.0\n",
            "2.23606797749979\n",
            "2.449489742783178\n",
            "2.6457513110645907\n",
            "2.8284271247461903\n",
            "3.0\n",
            "3.1622776601683795\n",
            "3.3166247903554\n",
            "3.4641016151377544\n",
            "3.605551275463989\n",
            "3.7416573867739413\n",
            "3.872983346207417\n",
            "4.0\n",
            "4.123105625617661\n",
            "4.242640687119285\n",
            "4.358898943540674\n",
            "4.47213595499958\n",
            "4.58257569495584\n",
            "4.69041575982343\n",
            "4.795831523312719\n",
            "4.898979485566356\n",
            "5.0\n",
            "5.0990195135927845\n",
            "5.196152422706632\n",
            "5.291502622129181\n",
            "5.385164807134504\n",
            "5.477225575051661\n",
            "5.5677643628300215\n",
            "5.656854249492381\n",
            "5.744562646538029\n",
            "5.830951894845301\n",
            "5.916079783099616\n",
            "6.0\n",
            "6.082762530298219\n",
            "6.164414002968976\n",
            "6.244997998398398\n",
            "6.324555320336759\n",
            "6.4031242374328485\n",
            "6.48074069840786\n",
            "6.557438524302\n",
            "6.6332495807108\n",
            "6.708203932499369\n",
            "6.782329983125268\n",
            "6.855654600401044\n",
            "6.928203230275509\n",
            "7.0\n",
            "7.0710678118654755\n",
            "7.14142842854285\n",
            "7.211102550927978\n",
            "7.280109889280518\n",
            "7.3484692283495345\n",
            "7.416198487095663\n",
            "7.483314773547883\n",
            "7.54983443527075\n",
            "7.615773105863909\n",
            "7.681145747868608\n",
            "7.745966692414834\n",
            "7.810249675906654\n",
            "7.874007874011811\n",
            "7.937253933193772\n",
            "8.0\n",
            "8.06225774829855\n",
            "8.12403840463596\n",
            "8.18535277187245\n",
            "8.246211251235321\n",
            "8.306623862918075\n",
            "8.366600265340756\n",
            "8.426149773176359\n",
            "8.48528137423857\n",
            "8.54400374531753\n",
            "8.602325267042627\n",
            "8.660254037844387\n",
            "8.717797887081348\n",
            "8.774964387392123\n",
            "8.831760866327848\n",
            "8.888194417315589\n",
            "8.94427190999916\n",
            "9.0\n",
            "9.055385138137417\n",
            "9.1104335791443\n",
            "9.16515138991168\n",
            "9.219544457292887\n",
            "9.273618495495704\n",
            "9.327379053088816\n",
            "9.38083151964686\n",
            "9.433981132056603\n",
            "9.486832980505138\n",
            "9.539392014169456\n",
            "9.591663046625438\n",
            "9.643650760992955\n",
            "9.695359714832659\n",
            "9.746794344808963\n",
            "9.797958971132712\n",
            "9.848857801796104\n",
            "9.899494936611665\n",
            "9.9498743710662\n",
            "10.0\n"
          ]
        }
      ]
    },
    {
      "cell_type": "markdown",
      "source": [
        "-Actividad: Haz un programa que muestre, en líneas independientes, todos los números pares\n",
        "comprendidos entre 0 y 200 (ambos inclusive)."
      ],
      "metadata": {
        "id": "xDvG_0xMtGkC"
      }
    },
    {
      "cell_type": "markdown",
      "source": [
        "Primera solución:"
      ],
      "metadata": {
        "id": "7JvA7FNquMo8"
      }
    },
    {
      "cell_type": "code",
      "source": [
        "p = 0\n",
        "for i in range(p, 201):\n",
        "  if i % 2 == 0:\n",
        "    print(i)  "
      ],
      "metadata": {
        "id": "ulB_QoyTqwu0"
      },
      "execution_count": null,
      "outputs": []
    },
    {
      "cell_type": "markdown",
      "source": [
        "Segunda solución:"
      ],
      "metadata": {
        "id": "chwHbzVWuOqG"
      }
    },
    {
      "cell_type": "code",
      "source": [
        "p = 0\n",
        "for i in range(p, 201, 2):\n",
        "  print(i)"
      ],
      "metadata": {
        "id": "Ed8th090tXuZ"
      },
      "execution_count": null,
      "outputs": []
    },
    {
      "cell_type": "markdown",
      "source": [
        "Solución con while:"
      ],
      "metadata": {
        "id": "NtGl4bwiuQr0"
      }
    },
    {
      "cell_type": "code",
      "source": [
        "p = 0\n",
        "while p < 200:\n",
        "  p += 1\n",
        "  if p % 2 == 0:\n",
        "    print(p)"
      ],
      "metadata": {
        "id": "3gUKUICvuJcp"
      },
      "execution_count": null,
      "outputs": []
    },
    {
      "cell_type": "markdown",
      "source": [
        "-Actividad: Haz un programa que muestre, en líneas independientes y en orden inverso, todos\n",
        "los números pares comprendidos entre 0 y 200 (ambos inclusive)."
      ],
      "metadata": {
        "id": "h6lSqFLdvw3a"
      }
    },
    {
      "cell_type": "code",
      "source": [
        "for i in range(200, -1, -2):\n",
        "  print(i)"
      ],
      "metadata": {
        "id": "g4uCTL7euc25"
      },
      "execution_count": null,
      "outputs": []
    },
    {
      "cell_type": "markdown",
      "source": [
        "-Actividad: Escribe un programa que muestre los números pares positivos entre 2 y un número\n",
        "cualquiera que introduzca el usuario por teclado."
      ],
      "metadata": {
        "id": "d2ZR6XovwA1a"
      }
    },
    {
      "cell_type": "code",
      "source": [
        "numero = int(input('Escriba un número entero cualquiera: '))\n",
        "inicio = 2\n",
        "\n",
        "for i in range(inicio, numero+1, 2):\n",
        "  print(i)"
      ],
      "metadata": {
        "colab": {
          "base_uri": "https://localhost:8080/"
        },
        "id": "mJ45Yk_wvK6P",
        "outputId": "9ccadf61-80f4-4dc0-f9a5-8b192428959c"
      },
      "execution_count": null,
      "outputs": [
        {
          "output_type": "stream",
          "name": "stdout",
          "text": [
            "Escriba un número entero cualquiera: 20\n",
            "2\n",
            "4\n",
            "6\n",
            "8\n",
            "10\n",
            "12\n",
            "14\n",
            "16\n",
            "18\n",
            "20\n"
          ]
        }
      ]
    },
    {
      "cell_type": "markdown",
      "source": [
        "Invertir cadena de texto con slicing:"
      ],
      "metadata": {
        "id": "X0Bfezen0qNK"
      }
    },
    {
      "cell_type": "code",
      "source": [
        "p = 'palindromo'\n",
        "d = p[::-1]\n",
        "print(d)"
      ],
      "metadata": {
        "colab": {
          "base_uri": "https://localhost:8080/"
        },
        "id": "jy196MEEwPa_",
        "outputId": "63e6cacf-8ed3-4744-92b2-d22ed5babf8b"
      },
      "execution_count": null,
      "outputs": [
        {
          "output_type": "stream",
          "name": "stdout",
          "text": [
            "omordnilap\n"
          ]
        }
      ]
    },
    {
      "cell_type": "markdown",
      "source": [
        "Invertir cadena de texto con for loop:"
      ],
      "metadata": {
        "id": "6UYspjFA0sRg"
      }
    },
    {
      "cell_type": "code",
      "source": [
        "n = 'palindromo'\n",
        "nueva = \"\"\n",
        "for i in n:\n",
        "  nueva = i + nueva\n",
        "  print(nueva)\n",
        "print(nueva)"
      ],
      "metadata": {
        "colab": {
          "base_uri": "https://localhost:8080/"
        },
        "id": "663QFBDdzpjU",
        "outputId": "e895d5ec-ce0b-4afa-e0c8-0d6054202c0a"
      },
      "execution_count": null,
      "outputs": [
        {
          "output_type": "stream",
          "name": "stdout",
          "text": [
            "p\n",
            "ap\n",
            "lap\n",
            "ilap\n",
            "nilap\n",
            "dnilap\n",
            "rdnilap\n",
            "ordnilap\n",
            "mordnilap\n",
            "omordnilap\n",
            "omordnilap\n"
          ]
        }
      ]
    },
    {
      "cell_type": "markdown",
      "source": [
        "# ***Módulo 3: instrucciones iterativas***"
      ],
      "metadata": {
        "id": "-t7ZuHaH9dtf"
      }
    },
    {
      "cell_type": "markdown",
      "source": [
        "# WHILE"
      ],
      "metadata": {
        "id": "NcZCEBSqhJH9"
      }
    },
    {
      "cell_type": "markdown",
      "source": [
        "MANOS A LA OBRA: Programe un ciclo iterativo que le pregunte al usuario un número para el cual calcular su raíz cuadrada, si el número es negativo, repetir el ciclo hasta que se ingrese un número correcto."
      ],
      "metadata": {
        "id": "s1Jy66Co84IV"
      }
    },
    {
      "cell_type": "code",
      "source": [
        "import math\n",
        "boolean = True\n",
        "\n",
        "while boolean:\n",
        "   raiz = float(input('Ingrese un número para calcular su raíz cuadrada: '))\n",
        "   if raiz >= 0:\n",
        "     resultado = math.sqrt(raiz)\n",
        "     print(f'La raíz cuadrada de {raiz} es {resultado}')\n",
        "     break\n",
        "   elif raiz < 0:\n",
        "     print('La raíz de un número negativo no existe. Por favor digite un número positivo.')\n",
        "     continue "
      ],
      "metadata": {
        "id": "wh-UFanX0KAk",
        "colab": {
          "base_uri": "https://localhost:8080/"
        },
        "outputId": "fa263cbd-744f-488e-ae7e-530e1caba942"
      },
      "execution_count": null,
      "outputs": [
        {
          "output_type": "stream",
          "name": "stdout",
          "text": [
            "Ingrese un número para calcular su raíz cuadrada: -256\n",
            "La raíz de un número negativo no existe. Por favor digite un número positivo.\n",
            "Ingrese un número para calcular su raíz cuadrada: -49\n",
            "La raíz de un número negativo no existe. Por favor digite un número positivo.\n",
            "Ingrese un número para calcular su raíz cuadrada: -120\n",
            "La raíz de un número negativo no existe. Por favor digite un número positivo.\n",
            "Ingrese un número para calcular su raíz cuadrada: 256\n",
            "La raíz cuadrada de 256.0 es 16.0\n"
          ]
        }
      ]
    },
    {
      "cell_type": "markdown",
      "source": [
        "Una forma más sencilla de resolverlo:"
      ],
      "metadata": {
        "id": "3hGEh7qr-JAe"
      }
    },
    {
      "cell_type": "code",
      "source": [
        "import math \n",
        "\n",
        "raiz = float(input('Ingrese un número para calcular su raíz cuadrada: '))\n",
        "while raiz < 0:\n",
        "  print('No puede ingresar números negativos.')\n",
        "  raiz = float(input('Por favor ingrese un número positivo: '))\n",
        "\n",
        "resultado = math.sqrt(raiz)\n",
        "print(f'La raíz cuadrada de {raiz} es {resultado}')"
      ],
      "metadata": {
        "colab": {
          "base_uri": "https://localhost:8080/"
        },
        "id": "TICnJpQP7-2J",
        "outputId": "c7e58cca-f866-4fa3-90b4-0f674f2a3e9f"
      },
      "execution_count": null,
      "outputs": [
        {
          "output_type": "stream",
          "name": "stdout",
          "text": [
            "Ingrese un número para calcular su raíz cuadrada: -4\n",
            "No puede ingresar números negativos.\n",
            "Por favor ingrese un número positivo: 4\n",
            "La raíz cuadrada de 4.0 es 2.0\n"
          ]
        }
      ]
    },
    {
      "cell_type": "markdown",
      "source": [
        "# Uso de centinela"
      ],
      "metadata": {
        "id": "sUSKJb60_nqs"
      }
    },
    {
      "cell_type": "markdown",
      "source": [
        "-Actividad: Encontrar el máximo común divisor de dos números."
      ],
      "metadata": {
        "id": "2KxeFh1H_0vY"
      }
    },
    {
      "cell_type": "code",
      "source": [
        "def maximo_comun_divisor(n1: int, n2: int)-> int:\n",
        "\n",
        "  n = min(n1, n2)\n",
        "\n",
        "  while (n1 % n != 0) or (n2 % n != 0):\n",
        "    n = n - 1\n",
        "\n",
        "  return n\n",
        "\n",
        "n1 = int(input())\n",
        "n2 = int(input())\n",
        "mcd = maximo_comun_divisor(n1, n2)\n",
        "print(mcd)"
      ],
      "metadata": {
        "colab": {
          "base_uri": "https://localhost:8080/"
        },
        "id": "yJz0Nk9r-p84",
        "outputId": "9ad13bc2-fc43-4181-bb3a-6fe8609d6aab"
      },
      "execution_count": null,
      "outputs": [
        {
          "output_type": "stream",
          "name": "stdout",
          "text": [
            "122\n",
            "344\n",
            "2\n"
          ]
        }
      ]
    },
    {
      "cell_type": "markdown",
      "source": [
        "Recordar: en las leyes de Morgan (n1 % n != 0) or (n2 % n != 0) es equivalente a (n1 % n == 0) and (n2 % n == 0)."
      ],
      "metadata": {
        "id": "W0bAzdl-DWlw"
      }
    },
    {
      "cell_type": "markdown",
      "source": [
        "Uso de centinela:"
      ],
      "metadata": {
        "id": "UpVwWL82CXG8"
      }
    },
    {
      "cell_type": "code",
      "source": [
        "def mcd(n1: int, n2: int)-> int:\n",
        "\n",
        "  n = min(n1, n2)\n",
        "  ward = False\n",
        "\n",
        "  while (ward == False):\n",
        "    if (n1 % n == 0) and (n2 % n == 0):\n",
        "      ward = True\n",
        "    else:\n",
        "      n = n - 1\n",
        "\n",
        "  return n \n",
        "\n",
        "n1 = int(input())\n",
        "n2 = int(input())\n",
        "maximo = mcd(n1, n2)\n",
        "print(maximo)"
      ],
      "metadata": {
        "colab": {
          "base_uri": "https://localhost:8080/"
        },
        "id": "4wMKKeCiBjUf",
        "outputId": "935c9a90-741b-45ad-db9d-8bf52995fdc5"
      },
      "execution_count": null,
      "outputs": [
        {
          "output_type": "stream",
          "name": "stdout",
          "text": [
            "344\n",
            "122\n",
            "2\n"
          ]
        }
      ]
    },
    {
      "cell_type": "markdown",
      "source": [
        "MANOS A LA OBRA: Ejercitando el uso de la centinela."
      ],
      "metadata": {
        "id": "yuoLBr41Er6Y"
      }
    },
    {
      "cell_type": "markdown",
      "source": [
        "Defina una función llamada cantidad dígitos que cuente la cantidad de dígitos de un número. Escriba el programa completo que pida el número al usuario y le informe cuántos dígitos tiene."
      ],
      "metadata": {
        "id": "cX63Cm8KE0Xu"
      }
    },
    {
      "cell_type": "code",
      "source": [
        "def cuantos_digitos(numero: int)-> int:\n",
        "  contador = 0\n",
        "  ward = False\n",
        "\n",
        "  while ward == False:\n",
        "    numero //= 10\n",
        "    if numero == 0:\n",
        "      contador += 1\n",
        "      ward = True\n",
        "\n",
        "    else:\n",
        "      contador += 1\n",
        "     \n",
        "      \n",
        "  return contador\n",
        "\n",
        "numero = int(input('Ingrese un número:' ))\n",
        "res = cuantos_digitos(numero)\n",
        "print(res)"
      ],
      "metadata": {
        "colab": {
          "base_uri": "https://localhost:8080/"
        },
        "id": "2cjsoNv2DJY8",
        "outputId": "4b644d5e-40da-4a59-803d-9230a37c89ce"
      },
      "execution_count": null,
      "outputs": [
        {
          "output_type": "stream",
          "name": "stdout",
          "text": [
            "Ingrese un número:123456789\n",
            "9\n"
          ]
        }
      ]
    },
    {
      "cell_type": "markdown",
      "source": [
        "MANOS A LA OBRA: El factorial de n, siendo n positivo, se denota con n!, pero no existe ningún operador en Python que permita efectuar este cálculo directamente. Sabiendo que:\n",
        "\n",
        "- n! = 1 * 2 * 3 *...*(n-1)*n\n",
        "- y que 0! = 1, defina una función que reciba como parámetro un número n y retorne n!"
      ],
      "metadata": {
        "id": "G0D7_agytt27"
      }
    },
    {
      "cell_type": "code",
      "source": [
        "def calculo_factorial(n: int)-> int:\n",
        "  ward = False\n",
        "  factorial = 1\n",
        "\n",
        "  while ward == False:\n",
        "    if n == 0:\n",
        "      ward = True\n",
        "    else:\n",
        "      factorial *= n\n",
        "      n -= 1       \n",
        "  return factorial\n",
        "\n",
        "n = int(input('Número entero positivo: '))\n",
        "factor = calculo_factorial(n)\n",
        "print(factor)"
      ],
      "metadata": {
        "colab": {
          "base_uri": "https://localhost:8080/"
        },
        "id": "O8DHhIqytopP",
        "outputId": "6cdb7e07-a8da-4c2a-90ee-c378d2a3be6f"
      },
      "execution_count": null,
      "outputs": [
        {
          "output_type": "stream",
          "name": "stdout",
          "text": [
            "Número entero positivo: 5\n",
            "120\n"
          ]
        }
      ]
    },
    {
      "cell_type": "markdown",
      "source": [
        "**RETO 1: Calcular la sucesión de Fibonacci**\n",
        "\n",
        "En matemáticas, la sucesión o serie de Fibonacci es la siguiente sucesión infinita de números naturales: 0,1,1,2,3,5,8,13,...\n",
        "\n",
        " La sucesión comienza con los números 0 y 1, y a partir de estos, cada término es la suma de los dos anteriores.\n",
        "\n",
        "Cree una función que reciba un número que indica la cantidad de números de la sucesión que se quieren encontrar y retorne una cadena con los números separados por coma.\n",
        "\n",
        "Por ejemplo, el resultado de la función, si se pasa como parámetro el número 18 es el siguiente:\n",
        "\n",
        "0,1,1,2,3,5,8,13,21,34,55,89,144,233,377,610,987,1597"
      ],
      "metadata": {
        "id": "ELzyhv9Z1vBu"
      }
    },
    {
      "cell_type": "code",
      "source": [
        "def sucesion_fibonacci(cantidad_numeros: int)-> str:\n",
        "  inicio = 0\n",
        "  seguido = 1\n",
        "  cantidad = 2\n",
        "  retorno = \"0,1,\"\n",
        "  ward = False\n",
        "\n",
        "  while ward == False:\n",
        "    fib = inicio + seguido\n",
        "    retorno += f'{fib},'\n",
        "    cantidad += 1\n",
        "    if cantidad == cantidad_numeros:\n",
        "      ward = True\n",
        "    else:\n",
        "      inicio = seguido\n",
        "      seguido = fib\n",
        "      fib = inicio + seguido\n",
        "      \n",
        "  retorno = retorno[:-1]\n",
        "  return retorno\n",
        "\n",
        "cantidad_numeros = int(input('¿Cuántos números desea ver de la sucesión de Fibonacci? '))\n",
        "fibonacci = sucesion_fibonacci(cantidad_numeros)\n",
        "print(fibonacci)"
      ],
      "metadata": {
        "colab": {
          "base_uri": "https://localhost:8080/"
        },
        "id": "4LOTxP8VxYQI",
        "outputId": "91db7d4f-5716-4a87-de6c-e12b8a2467f7"
      },
      "execution_count": null,
      "outputs": [
        {
          "output_type": "stream",
          "name": "stdout",
          "text": [
            "¿Cuántos números desea ver de la sucesión de Fibonacci? 18\n",
            "0,1,1,2,3,5,8,13,21,34,55,89,144,233,377,610,987,1597\n"
          ]
        }
      ]
    },
    {
      "cell_type": "markdown",
      "source": [
        "**RETO 2: Mismos dígitos**\n",
        "\n",
        "Escriba una función que determine si en dos números enteros aparecen los mismos dígitos. No tenga en cuenta ni la frecuencia ni el orden de aparición de los dígitos en los números.\n",
        "\n",
        "Los números no tienen necesariamente la misma cantidad de dígitos. Por ejemplo, si los números son 989 y 89 la función debería retornar True."
      ],
      "metadata": {
        "id": "K798SIStb-P7"
      }
    },
    {
      "cell_type": "code",
      "source": [
        "def mismos_digitos(a: int, b: int)-> bool:\n",
        "  mismos = False\n",
        "  ultimo_digito_a = a % 10\n",
        "  ultimo_digito_b = b % 10\n",
        "\n",
        "  while (a > 0) and (b > 0):\n",
        "    if (ultimo_digito_a == b % 10):\n",
        "      mismos = True\n",
        "      break\n",
        "    else:\n",
        "      if (ultimo_digito_b == a % 10):\n",
        "        mismos = True\n",
        "        break\n",
        "\n",
        "    a //= 10\n",
        "    b //= 10                       \n",
        "  return mismos    \n",
        "a = int(input())\n",
        "b = int(input())\n",
        "digitos = mismos_digitos(a, b)\n",
        "print(digitos)"
      ],
      "metadata": {
        "colab": {
          "base_uri": "https://localhost:8080/"
        },
        "id": "i_houm5v4zKs",
        "outputId": "c64c82cf-1720-45a2-af4e-5f172bd986d7"
      },
      "execution_count": null,
      "outputs": [
        {
          "output_type": "stream",
          "name": "stdout",
          "text": [
            "37333890\n",
            "90837\n",
            "True\n"
          ]
        }
      ]
    },
    {
      "cell_type": "markdown",
      "source": [
        "EJEMPLO: Contar las ocurrencias de un carácter dentro de una cadena:"
      ],
      "metadata": {
        "id": "225IR0B0nR51"
      }
    },
    {
      "cell_type": "code",
      "source": [
        "def ocurrencias_caracter(cadena: str, caracter: str)-> int:\n",
        "  ocurrencias = 0\n",
        "  i = 0\n",
        "  while (i < len(cadena)):\n",
        "    if cadena[i] == caracter:\n",
        "      ocurrencias += 1\n",
        "    i += 1\n",
        "  return ocurrencias\n",
        "cadena = input('Escriba la cadena de texto: ')\n",
        "caracter = input('Escriba el carácter que desea contar en la cadena de texto: ')\n",
        "ocurrencia = ocurrencias_caracter(cadena, caracter)\n",
        "print(ocurrencia)"
      ],
      "metadata": {
        "colab": {
          "base_uri": "https://localhost:8080/"
        },
        "id": "uCKIkVwonduP",
        "outputId": "60cb7015-dc8d-411f-93d9-c68c7ba30199"
      },
      "execution_count": null,
      "outputs": [
        {
          "output_type": "stream",
          "name": "stdout",
          "text": [
            "Escriba la cadena de texto: Que mas panita pues \n",
            "Escriba el carácter que desea contar en la cadena de texto: a\n",
            "3\n"
          ]
        }
      ]
    },
    {
      "cell_type": "markdown",
      "source": [
        "# SLICING"
      ],
      "metadata": {
        "id": "XKwXk6P9ow31"
      }
    },
    {
      "cell_type": "markdown",
      "source": [
        "La expresión slicing hace referencia a la operación por medio de la cual se extraen elementos de una secuencia, tal como una lista o una cadena de caracteres. Dependiendo del caso, los elementos podrían ser consecutivos o podrían estar separados dentro de la secuencia original. Dado que esta operación es de uso bastante frecuente, Python ofrece características que hacen posible construir slices de forma breve, sin tener que construir funciones especializadas para hacerlo."
      ],
      "metadata": {
        "id": "yIABoJtipNwK"
      }
    },
    {
      "cell_type": "markdown",
      "source": [
        "**SLICING BÁSICO: PRINCIPIO Y FIN**"
      ],
      "metadata": {
        "id": "LpBB7VHWpWEM"
      }
    },
    {
      "cell_type": "code",
      "source": [
        "cadena = '¡Oh, gloria inmarcesible! ¡Oh, júbilo inmortal!'"
      ],
      "metadata": {
        "id": "gwKPWDetpZc-"
      },
      "execution_count": null,
      "outputs": []
    },
    {
      "cell_type": "markdown",
      "source": [
        "En secciones anteriores ya hemos estudiado cómo podemos hacer para extraer elementos de esta cadena usando paréntesis cuadrados y una posición numerada desde cero."
      ],
      "metadata": {
        "id": "KnGAqkhupk5h"
      }
    },
    {
      "cell_type": "code",
      "source": [
        "cadena[0]"
      ],
      "metadata": {
        "colab": {
          "base_uri": "https://localhost:8080/",
          "height": 35
        },
        "id": "7ZIdruakpcnc",
        "outputId": "8b14f962-721b-47be-885c-588e6dd11431"
      },
      "execution_count": null,
      "outputs": [
        {
          "output_type": "execute_result",
          "data": {
            "application/vnd.google.colaboratory.intrinsic+json": {
              "type": "string"
            },
            "text/plain": [
              "'¡'"
            ]
          },
          "metadata": {},
          "execution_count": 52
        }
      ]
    },
    {
      "cell_type": "code",
      "source": [
        "cadena[1]"
      ],
      "metadata": {
        "colab": {
          "base_uri": "https://localhost:8080/",
          "height": 35
        },
        "id": "VVGQhWffpgZF",
        "outputId": "f54b8096-e5a1-4ef6-d042-adc55a33f618"
      },
      "execution_count": null,
      "outputs": [
        {
          "output_type": "execute_result",
          "data": {
            "application/vnd.google.colaboratory.intrinsic+json": {
              "type": "string"
            },
            "text/plain": [
              "'O'"
            ]
          },
          "metadata": {},
          "execution_count": 53
        }
      ]
    },
    {
      "cell_type": "markdown",
      "source": [
        "Para extraer más de un elemento podemos indicar la posición inicial y la posición final usando ':' como separador. Eso lo hemos hecho en los siguientes ejemplos:"
      ],
      "metadata": {
        "id": "1seIgbdeprXB"
      }
    },
    {
      "cell_type": "code",
      "source": [
        "cadena[0:11]"
      ],
      "metadata": {
        "colab": {
          "base_uri": "https://localhost:8080/",
          "height": 35
        },
        "id": "Dh7CBCkppsNl",
        "outputId": "aa94b3d0-4096-4d36-d7eb-bac3e424814f"
      },
      "execution_count": null,
      "outputs": [
        {
          "output_type": "execute_result",
          "data": {
            "application/vnd.google.colaboratory.intrinsic+json": {
              "type": "string"
            },
            "text/plain": [
              "'¡Oh, gloria'"
            ]
          },
          "metadata": {},
          "execution_count": 54
        }
      ]
    },
    {
      "cell_type": "code",
      "source": [
        "cadena[1:11]"
      ],
      "metadata": {
        "colab": {
          "base_uri": "https://localhost:8080/",
          "height": 35
        },
        "id": "EX_IAqAApuHu",
        "outputId": "3511a2ae-37c6-42e5-ca61-c1a15f627452"
      },
      "execution_count": null,
      "outputs": [
        {
          "output_type": "execute_result",
          "data": {
            "application/vnd.google.colaboratory.intrinsic+json": {
              "type": "string"
            },
            "text/plain": [
              "'Oh, gloria'"
            ]
          },
          "metadata": {},
          "execution_count": 55
        }
      ]
    },
    {
      "cell_type": "markdown",
      "source": [
        "En el primer caso estamos extrayendo un slice de la cadena original que tiene sólo los caracteres desde la posición 0 hasta la 11 (excluida), mientras que en el segundo caso lo hacemos desde la posición 1 hasta la 11 (excluida). Es decir que, la posición inicial se incluye dentro del slice resultante, pero la posición final siempre queda por fuera."
      ],
      "metadata": {
        "id": "5wdee57Mp5kz"
      }
    },
    {
      "cell_type": "markdown",
      "source": [
        "Es también frecuente que se quiera extraer un conjunto de elementos que se encuentran al final o al principio de una cadena. En estos casos lo que se debe hacer es no incluir explícitamente el inicio o el fin, pero sí utilizar el separador ':'. Si no se quiere dejar el espacio vacío, otra alternativa es usar None para la posición. Esto puede verse en los siguientes ejemplos:"
      ],
      "metadata": {
        "id": "BQWnRpCmp91m"
      }
    },
    {
      "cell_type": "code",
      "source": [
        "cadena[30:]"
      ],
      "metadata": {
        "colab": {
          "base_uri": "https://localhost:8080/",
          "height": 35
        },
        "id": "jBI5D1siqCtA",
        "outputId": "04cb3162-bca0-4afe-a3e2-2df136494a57"
      },
      "execution_count": null,
      "outputs": [
        {
          "output_type": "execute_result",
          "data": {
            "application/vnd.google.colaboratory.intrinsic+json": {
              "type": "string"
            },
            "text/plain": [
              "' júbilo inmortal!'"
            ]
          },
          "metadata": {},
          "execution_count": 56
        }
      ]
    },
    {
      "cell_type": "code",
      "source": [
        "cadena[:30]"
      ],
      "metadata": {
        "colab": {
          "base_uri": "https://localhost:8080/",
          "height": 35
        },
        "id": "uH4taTtIqNz2",
        "outputId": "c1fdb0ee-a8d3-4770-db5c-71a0a3055f6a"
      },
      "execution_count": null,
      "outputs": [
        {
          "output_type": "execute_result",
          "data": {
            "application/vnd.google.colaboratory.intrinsic+json": {
              "type": "string"
            },
            "text/plain": [
              "'¡Oh, gloria inmarcesible! ¡Oh,'"
            ]
          },
          "metadata": {},
          "execution_count": 57
        }
      ]
    },
    {
      "cell_type": "code",
      "source": [
        "cadena[None:30]"
      ],
      "metadata": {
        "colab": {
          "base_uri": "https://localhost:8080/",
          "height": 35
        },
        "id": "8nop872Qr1hN",
        "outputId": "4e1a5762-a56b-405c-ebc6-e2aa1caae79b"
      },
      "execution_count": null,
      "outputs": [
        {
          "output_type": "execute_result",
          "data": {
            "application/vnd.google.colaboratory.intrinsic+json": {
              "type": "string"
            },
            "text/plain": [
              "'¡Oh, gloria inmarcesible! ¡Oh,'"
            ]
          },
          "metadata": {},
          "execution_count": 58
        }
      ]
    },
    {
      "cell_type": "markdown",
      "source": [
        "En el primer caso, se extrae un slice con los caracteres que se encuentran a partir de la posición 30. En el segundo caso, se extrae un slice con los caracteres que se encuentran desde el inicio de la cadena hasta el caracter 30 (excluido).\n",
        "\n",
        "Algo para notar es que hay una diferencia importante entre no incluir el fin e incluir un valor explícito: como la última posición nunca se incluye en el slice, al no incluir la posición final se está asumiento que se debe llegar hasta el final; si por el contrario se hiciera explícita la última posición, el último valor no se incluiría en el slice."
      ],
      "metadata": {
        "id": "ko_xBTfasDNm"
      }
    },
    {
      "cell_type": "code",
      "source": [
        "cadena[40:]"
      ],
      "metadata": {
        "colab": {
          "base_uri": "https://localhost:8080/",
          "height": 35
        },
        "id": "B4MDAr2hsEFw",
        "outputId": "b1cea0ad-00c3-4163-9544-623065f436d5"
      },
      "execution_count": null,
      "outputs": [
        {
          "output_type": "execute_result",
          "data": {
            "application/vnd.google.colaboratory.intrinsic+json": {
              "type": "string"
            },
            "text/plain": [
              "'mortal!'"
            ]
          },
          "metadata": {},
          "execution_count": 59
        }
      ]
    },
    {
      "cell_type": "code",
      "source": [
        "cadena[40:46]"
      ],
      "metadata": {
        "colab": {
          "base_uri": "https://localhost:8080/",
          "height": 35
        },
        "id": "Y5H7rWEgsG4f",
        "outputId": "eb04f55d-5659-4ca1-ac0e-d9e8f1ded34f"
      },
      "execution_count": null,
      "outputs": [
        {
          "output_type": "execute_result",
          "data": {
            "application/vnd.google.colaboratory.intrinsic+json": {
              "type": "string"
            },
            "text/plain": [
              "'mortal'"
            ]
          },
          "metadata": {},
          "execution_count": 60
        }
      ]
    },
    {
      "cell_type": "markdown",
      "source": [
        "Veamos ahora cómo podríamos hacer para extraer la primera frase del himno. Recuerde que el método index permite saber en qué posición aparece un determinado caracter dentro de una cadena."
      ],
      "metadata": {
        "id": "HjqmBU-vsSbj"
      }
    },
    {
      "cell_type": "code",
      "source": [
        "cadena[cadena.index('¡') : cadena.index('!')+1]"
      ],
      "metadata": {
        "colab": {
          "base_uri": "https://localhost:8080/",
          "height": 35
        },
        "id": "7a6g1z5OsS8U",
        "outputId": "881d0d37-b7a0-4884-d274-fb312024c1bb"
      },
      "execution_count": null,
      "outputs": [
        {
          "output_type": "execute_result",
          "data": {
            "application/vnd.google.colaboratory.intrinsic+json": {
              "type": "string"
            },
            "text/plain": [
              "'¡Oh, gloria inmarcesible!'"
            ]
          },
          "metadata": {},
          "execution_count": 62
        }
      ]
    },
    {
      "cell_type": "markdown",
      "source": [
        "Finalmente, si no se incluyen ni la posición inicial ni la final, se entiende que se quiere un slice que incluya todos los elementos. En el caso de las listas, esto es equivalente a crear una copia de la estructura original."
      ],
      "metadata": {
        "id": "ebPjnc4-sqkl"
      }
    },
    {
      "cell_type": "code",
      "source": [
        "cadena2 = cadena[:]\n",
        "print(cadena2)"
      ],
      "metadata": {
        "colab": {
          "base_uri": "https://localhost:8080/"
        },
        "id": "UI0olyoNsrlS",
        "outputId": "a4ac7621-e9ac-4ddc-f649-19a5a1738661"
      },
      "execution_count": null,
      "outputs": [
        {
          "output_type": "stream",
          "name": "stdout",
          "text": [
            "¡Oh, gloria inmarcesible! ¡Oh, júbilo inmortal!\n"
          ]
        }
      ]
    },
    {
      "cell_type": "markdown",
      "source": [
        "**SLICING INTERMEDIO: POSICIONES NEGATIVAS**"
      ],
      "metadata": {
        "id": "Nlch_WW5tPCl"
      }
    },
    {
      "cell_type": "markdown",
      "source": [
        "Algo muy interesante en Python con respecto a los slices, es que las posiciones de inicio y de fin no necesariamente tienen que ser números positivos: si se usan números negativos, Python asume que se están referenciando las posiciones numeradas desde la última hasta la primera, empezando con -1.\n",
        "Esto se presenta claramente en la figura siguiente, que se ha enumerado con las posiciones:"
      ],
      "metadata": {
        "id": "vpXWiPz0tZNh"
      }
    },
    {
      "cell_type": "markdown",
      "source": [
        "![slicing.PNG](data:image/png;base64,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)"
      ],
      "metadata": {
        "id": "jpFavg6Ftlco"
      }
    },
    {
      "cell_type": "markdown",
      "source": [
        "Acá podemos ver que cada caracter tiene dos números que indican la posición: uno positivo y uno negativo. Por ejemplo, la última posición de la cadena es la 11 (uno menos que el tamaño de la cadena) y es también la posición -1. El penúltimo caracter se encuentra en la posición 10 o, más explícitamente, en la posición -2. Finalmente, veamos que el primer caracter de la cadena se encuentra en la posición 0 y en la posición -12. Es decir que el primer caracter se puede encontrar siempre multiplicando por -1 el tamaño de la cadena.\n",
        "\n",
        "Veamos ahora un ejemplo en que consultamos posiciones negativas sobre nuestra cadena de ejemplo:"
      ],
      "metadata": {
        "id": "-YtyWv5ct-ws"
      }
    },
    {
      "cell_type": "code",
      "source": [
        "cadena[-1]"
      ],
      "metadata": {
        "colab": {
          "base_uri": "https://localhost:8080/",
          "height": 35
        },
        "id": "TS-WdRPiuAgm",
        "outputId": "43442a9d-2b51-4dbb-fb2a-fa954cd23405"
      },
      "execution_count": null,
      "outputs": [
        {
          "output_type": "execute_result",
          "data": {
            "application/vnd.google.colaboratory.intrinsic+json": {
              "type": "string"
            },
            "text/plain": [
              "'!'"
            ]
          },
          "metadata": {},
          "execution_count": 65
        }
      ]
    },
    {
      "cell_type": "code",
      "source": [
        "cadena[-2]"
      ],
      "metadata": {
        "colab": {
          "base_uri": "https://localhost:8080/",
          "height": 35
        },
        "id": "8G-JYNYtuDWr",
        "outputId": "1ebc852a-c303-457e-93ce-cbe89fc9985f"
      },
      "execution_count": null,
      "outputs": [
        {
          "output_type": "execute_result",
          "data": {
            "application/vnd.google.colaboratory.intrinsic+json": {
              "type": "string"
            },
            "text/plain": [
              "'l'"
            ]
          },
          "metadata": {},
          "execution_count": 66
        }
      ]
    },
    {
      "cell_type": "markdown",
      "source": [
        "Las posiciones positivas y negativas son equivalentes y son intercambiables. En los siguientes ejemplos se pueden ver combinaciones de posiciones positivas y negativas para indicar el inicio y el fin de un slice."
      ],
      "metadata": {
        "id": "eYAFtAWVuXnv"
      }
    },
    {
      "cell_type": "code",
      "source": [
        "cadena[-47: -36]"
      ],
      "metadata": {
        "colab": {
          "base_uri": "https://localhost:8080/",
          "height": 35
        },
        "id": "ngzsfExnuYbn",
        "outputId": "1ebddb43-c5ac-4b72-ba19-af51b24ca244"
      },
      "execution_count": null,
      "outputs": [
        {
          "output_type": "execute_result",
          "data": {
            "application/vnd.google.colaboratory.intrinsic+json": {
              "type": "string"
            },
            "text/plain": [
              "'¡Oh, gloria'"
            ]
          },
          "metadata": {},
          "execution_count": 67
        }
      ]
    },
    {
      "cell_type": "code",
      "source": [
        "cadena[0: -36]"
      ],
      "metadata": {
        "colab": {
          "base_uri": "https://localhost:8080/",
          "height": 35
        },
        "id": "gum_HfPfueQP",
        "outputId": "c5746a05-3c68-49e9-8966-02cde47c90de"
      },
      "execution_count": null,
      "outputs": [
        {
          "output_type": "execute_result",
          "data": {
            "application/vnd.google.colaboratory.intrinsic+json": {
              "type": "string"
            },
            "text/plain": [
              "'¡Oh, gloria'"
            ]
          },
          "metadata": {},
          "execution_count": 68
        }
      ]
    },
    {
      "cell_type": "code",
      "source": [
        "cadena[-47 : 11]"
      ],
      "metadata": {
        "colab": {
          "base_uri": "https://localhost:8080/",
          "height": 35
        },
        "id": "1OmzwVmGuh5y",
        "outputId": "005ad195-8609-4bac-85a0-26ab290259c0"
      },
      "execution_count": null,
      "outputs": [
        {
          "output_type": "execute_result",
          "data": {
            "application/vnd.google.colaboratory.intrinsic+json": {
              "type": "string"
            },
            "text/plain": [
              "'¡Oh, gloria'"
            ]
          },
          "metadata": {},
          "execution_count": 69
        }
      ]
    },
    {
      "cell_type": "code",
      "source": [
        "cadena[-47:]"
      ],
      "metadata": {
        "colab": {
          "base_uri": "https://localhost:8080/",
          "height": 35
        },
        "id": "bSLgZismupvK",
        "outputId": "85f28240-699c-474d-b7d8-9148a5ca6ac3"
      },
      "execution_count": null,
      "outputs": [
        {
          "output_type": "execute_result",
          "data": {
            "application/vnd.google.colaboratory.intrinsic+json": {
              "type": "string"
            },
            "text/plain": [
              "'¡Oh, gloria inmarcesible! ¡Oh, júbilo inmortal!'"
            ]
          },
          "metadata": {},
          "execution_count": 70
        }
      ]
    },
    {
      "cell_type": "code",
      "source": [
        "cadena[:-1]"
      ],
      "metadata": {
        "colab": {
          "base_uri": "https://localhost:8080/",
          "height": 35
        },
        "id": "0HQ9cssQuthe",
        "outputId": "d181efc1-c05e-4df9-84d8-18b923b8b6ef"
      },
      "execution_count": null,
      "outputs": [
        {
          "output_type": "execute_result",
          "data": {
            "application/vnd.google.colaboratory.intrinsic+json": {
              "type": "string"
            },
            "text/plain": [
              "'¡Oh, gloria inmarcesible! ¡Oh, júbilo inmortal'"
            ]
          },
          "metadata": {},
          "execution_count": 71
        }
      ]
    },
    {
      "cell_type": "markdown",
      "source": [
        "**SLICING AVANZADO: CAMBIANDO EL PASO**"
      ],
      "metadata": {
        "id": "xLNw9-nivH5A"
      }
    },
    {
      "cell_type": "markdown",
      "source": [
        "Estudiaremos ahora el tercer parámetro disponible para describir un slice en Python, el cual también se separa usando el caracter ':'. Este tercer parámetro, que tiene como valor por defecto 1, indica cómo se deben recorrer las posiciones desde el inicio hasta el fin. Así, cuando su valor es 1 con cada paso se va a sumar 1 a la posición actual, mientras que cuando el valor es -2 con cada paso se resta 2 a la posición actual.\n",
        "\n",
        "Veamos cómo funciona esto sobre nuestra cadena de ejemplo:"
      ],
      "metadata": {
        "id": "16f-FRLHvZNJ"
      }
    },
    {
      "cell_type": "code",
      "source": [
        "cadena[::2]"
      ],
      "metadata": {
        "colab": {
          "base_uri": "https://localhost:8080/",
          "height": 35
        },
        "id": "d-1SFUhhvZ5-",
        "outputId": "aceeb2a4-1bd7-4699-88eb-256e78fa4b6a"
      },
      "execution_count": null,
      "outputs": [
        {
          "output_type": "execute_result",
          "data": {
            "application/vnd.google.colaboratory.intrinsic+json": {
              "type": "string"
            },
            "text/plain": [
              "'¡h lraimreil!¡h úioimra!'"
            ]
          },
          "metadata": {},
          "execution_count": 72
        }
      ]
    },
    {
      "cell_type": "code",
      "source": [
        "cadena[::-2]"
      ],
      "metadata": {
        "colab": {
          "base_uri": "https://localhost:8080/",
          "height": 35
        },
        "id": "Uxrd960Gvd79",
        "outputId": "03ee4e5d-b7dc-4d9b-fe64-a77f3ae5c5b6"
      },
      "execution_count": null,
      "outputs": [
        {
          "output_type": "execute_result",
          "data": {
            "application/vnd.google.colaboratory.intrinsic+json": {
              "type": "string"
            },
            "text/plain": [
              "'!armioiú h¡!liermiarl h¡'"
            ]
          },
          "metadata": {},
          "execution_count": 73
        }
      ]
    },
    {
      "cell_type": "markdown",
      "source": [
        "En el primer caso, se extrae toda la cadena con un paso de 2: se parte de la posición 0 y se extraen las letras de la cadena, avanzando de 2 en 2 hasta llegar al final de la cadena. En el segundo caso, el paso es -2: se parte de la última posición y se extraen las posiciones retrocediendo de 2 en 2 hasta llegar a la cadena.\n",
        "\n",
        "El tercer parámetro de un slice es particularmente útil para invertir una cadena. Así, un slice descrito como [::-1] siempre servirá para obtener una cadena invertida."
      ],
      "metadata": {
        "id": "OOEDdNMcvxnn"
      }
    },
    {
      "cell_type": "code",
      "source": [
        "cadena[::-1]"
      ],
      "metadata": {
        "colab": {
          "base_uri": "https://localhost:8080/",
          "height": 35
        },
        "id": "czhetK-fvyVO",
        "outputId": "6e118d4f-9ae8-4f7a-ccb8-d31ba8229637"
      },
      "execution_count": null,
      "outputs": [
        {
          "output_type": "execute_result",
          "data": {
            "application/vnd.google.colaboratory.intrinsic+json": {
              "type": "string"
            },
            "text/plain": [
              "'!latromni olibúj ,hO¡ !elbisecramni airolg ,hO¡'"
            ]
          },
          "metadata": {},
          "execution_count": 74
        }
      ]
    },
    {
      "cell_type": "markdown",
      "source": [
        "Al usar el parámetro del paso, se debe tener cuidado de construir una expresión coherente. Por ejemplo, si se quiere recorrer desde la posición 0 hasta la 5, el paso no podría ser -1 porque desde 0 sería imposible llegar a 5 restando 1cada vez. Tampoco tendría sentido intentar ir de -1 a 0 con un paso de 2.\n",
        "\n"
      ],
      "metadata": {
        "id": "csfpx_q-v9JR"
      }
    },
    {
      "cell_type": "markdown",
      "source": [
        "# FOR-IN"
      ],
      "metadata": {
        "id": "m8xvR1PehOD1"
      }
    },
    {
      "cell_type": "markdown",
      "source": [
        "MANOS A LA OBRA: Palíndromos\n",
        "\n",
        "Escriba una función que nos indique si una cadena de caracteres es palíndrome. Esto es una frase o palabra que se lee igual de izquierda a derecha que de derecha a izquierda. Ejemplos de frases palíndromes:\n",
        "\n",
        "-Isaac no ronca así.\n",
        "-Sometamos o matemos."
      ],
      "metadata": {
        "id": "91Nj4Zg6GD4f"
      }
    },
    {
      "cell_type": "code",
      "source": [
        "def palindromos(cadena: str)-> bool:\n",
        "  es_palindromo = False\n",
        "  invertida = \"\"\n",
        "  sin_espacios = cadena.replace(' ', '')\n",
        "  for letra in sin_espacios:\n",
        "    invertida = letra + invertida\n",
        "\n",
        "  if invertida.lower() == sin_espacios.lower():\n",
        "    es_palindromo = True\n",
        "  return es_palindromo\n",
        "\n",
        "cadena = input('Escriba una cadena de caracteres: ')\n",
        "palindromo = palindromos(cadena)\n",
        "\n",
        "if palindromo:\n",
        "  print('La cadena de caracteres es palíndrome')\n",
        "else:\n",
        "  print('La cadena de caracteres no es palíndrome')"
      ],
      "metadata": {
        "colab": {
          "base_uri": "https://localhost:8080/"
        },
        "id": "zg68SAOYGaUS",
        "outputId": "51f02872-f251-4398-b0c7-b5595b513a93"
      },
      "execution_count": null,
      "outputs": [
        {
          "output_type": "stream",
          "name": "stdout",
          "text": [
            "Escriba una cadena de caracteres: Isaac no ronca asi\n",
            "La cadena de caracteres es palíndrome\n"
          ]
        }
      ]
    },
    {
      "cell_type": "markdown",
      "source": [
        "Otra forma de resolverlo con el bucle While:"
      ],
      "metadata": {
        "id": "GLgLXQ2PJRJ3"
      }
    },
    {
      "cell_type": "code",
      "source": [
        "def es_palindromo(cadena: str)-> bool:\n",
        "  palindromo = False\n",
        "  sin_espacios = cadena.replace(' ', '')\n",
        "  en_minus = sin_espacios.lower()\n",
        "\n",
        "  i = 0\n",
        "  j = len(en_minus)-1\n",
        "\n",
        "  while i < j and en_minus[i] == en_minus[j]:\n",
        "    i += 1\n",
        "    j -= 1\n",
        "\n",
        "  if i == j:\n",
        "    palindromo = True\n",
        "  \n",
        "  return palindromo\n",
        "\n",
        "palindromos = es_palindromo('Isaac no ronca asi')\n",
        "\n",
        "if palindromos:\n",
        "  print('La cadena de caracteres es palíndrome')\n",
        "else:\n",
        "  print('No es palíndrome')"
      ],
      "metadata": {
        "colab": {
          "base_uri": "https://localhost:8080/"
        },
        "id": "ezNpyxmAGzLN",
        "outputId": "c357a2d5-27a5-44de-9cf1-3061196c7e90"
      },
      "execution_count": null,
      "outputs": [
        {
          "output_type": "stream",
          "name": "stdout",
          "text": [
            "La cadena de caracteres es palíndrome\n"
          ]
        }
      ]
    },
    {
      "cell_type": "markdown",
      "source": [
        "Repasemos nuevamente la instrucción for-in con un muy sencillo ejemplo:"
      ],
      "metadata": {
        "id": "5IdqQKQOLLgN"
      }
    },
    {
      "cell_type": "code",
      "source": [
        "cadena = 'Cien años de soledad'\n",
        "\n",
        "for caracter in cadena:\n",
        "  print(caracter)"
      ],
      "metadata": {
        "colab": {
          "base_uri": "https://localhost:8080/"
        },
        "id": "tn9R7WZlJveI",
        "outputId": "43de1bf9-acba-48fb-fb34-bc2090a9478f"
      },
      "execution_count": null,
      "outputs": [
        {
          "output_type": "stream",
          "name": "stdout",
          "text": [
            "C\n",
            "i\n",
            "e\n",
            "n\n",
            " \n",
            "a\n",
            "ñ\n",
            "o\n",
            "s\n",
            " \n",
            "d\n",
            "e\n",
            " \n",
            "s\n",
            "o\n",
            "l\n",
            "e\n",
            "d\n",
            "a\n",
            "d\n"
          ]
        }
      ]
    },
    {
      "cell_type": "markdown",
      "source": [
        "Realizamos nuevamente el ejercicio de contar la ocurrencia de una letra en un texto utilizando for-in:"
      ],
      "metadata": {
        "id": "IGpTx1PLM8Bt"
      }
    },
    {
      "cell_type": "code",
      "source": [
        "def ocurrencias_for(cadena: str, caracter: str)-> int:\n",
        "  ocurrencia = 0\n",
        "  for char in cadena:\n",
        "    if char == caracter:\n",
        "      ocurrencia += 1\n",
        "  return ocurrencia\n",
        "\n",
        "ocurrencias = ocurrencias_for('Hola amigos como se encuentran el dia de hoy', 'o')\n",
        "print(f'La letra se encuentra {ocurrencias} veces en la cadena de caracteres.')"
      ],
      "metadata": {
        "colab": {
          "base_uri": "https://localhost:8080/"
        },
        "id": "eYy9rPJSLXFq",
        "outputId": "cb588708-5ac7-4aca-e16e-e24b9d1699c6"
      },
      "execution_count": null,
      "outputs": [
        {
          "output_type": "stream",
          "name": "stdout",
          "text": [
            "La letra se encuentra 5 veces en la cadena de caracteres.\n"
          ]
        }
      ]
    },
    {
      "cell_type": "markdown",
      "source": [
        "EJEMPLO FOR-IN: Sumatoria de todos los números enteros positivos desde el 1 hasta el 1000."
      ],
      "metadata": {
        "id": "gtqM8JrON_5W"
      }
    },
    {
      "cell_type": "code",
      "source": [
        "def sumatoria()-> int:\n",
        "  acumulacion = 0\n",
        "  for i in range (1, 1001):\n",
        "    acumulacion += i\n",
        "  return acumulacion\n",
        "\n",
        "sumatoria()"
      ],
      "metadata": {
        "colab": {
          "base_uri": "https://localhost:8080/"
        },
        "id": "U3URLJyyMg97",
        "outputId": "b37bc210-51ca-4aa3-b797-1b02cd03155e"
      },
      "execution_count": null,
      "outputs": [
        {
          "output_type": "execute_result",
          "data": {
            "text/plain": [
              "500500"
            ]
          },
          "metadata": {},
          "execution_count": 103
        }
      ]
    },
    {
      "cell_type": "markdown",
      "source": [
        "MANOS A LA OBRA: Número primo\n",
        "\n",
        "Escriba una función que nos diga si un número entero es o no es primo, usando for-in. Recuerde: un número primo es aquel número mayor que 1 que solo es divisible por 1 y por sí mismo."
      ],
      "metadata": {
        "id": "-GpLskloOrD9"
      }
    },
    {
      "cell_type": "code",
      "source": [
        "def es_primo(numero: int)-> bool:\n",
        "  primo = True\n",
        "  for i in range(2, numero):\n",
        "    if numero % i == 0:\n",
        "      primo = False\n",
        "  return primo\n",
        "numero = int(input('Número: '))\n",
        "primo = es_primo(numero)\n",
        "print(primo)"
      ],
      "metadata": {
        "colab": {
          "base_uri": "https://localhost:8080/"
        },
        "id": "Ym_5rdTAORWw",
        "outputId": "d8c694f9-0104-4dc3-c824-e278126160da"
      },
      "execution_count": null,
      "outputs": [
        {
          "output_type": "stream",
          "name": "stdout",
          "text": [
            "Número: 67\n",
            "True\n"
          ]
        }
      ]
    },
    {
      "cell_type": "markdown",
      "source": [
        "**RETO 3: Caracteres repetidos**\n",
        "\n",
        "Escriba una función que cuente la cantidad de caracteres diferentes que aparecen más de una vez en una cadena.\n",
        "\n",
        "Suponga que todas las cadenas se componen únicamente de letras minúsculas del alfabeto en inglés."
      ],
      "metadata": {
        "id": "Jf6ntFSqUxRv"
      }
    },
    {
      "cell_type": "code",
      "source": [
        "def contar_caracteres_repetidos(cadena: str)-> int:\n",
        "  contador = 0\n",
        "  i = 0\n",
        "  for dif in cadena:\n",
        "    if dif == cadena[i-1]:\n",
        "      contador += 1\n",
        "    \n",
        "    i+=1\n",
        "  return contador\n",
        "\n",
        "cadena = input('Cadena: ')\n",
        "repetidos = contar_caracteres_repetidos(cadena)\n",
        "print(repetidos)"
      ],
      "metadata": {
        "colab": {
          "base_uri": "https://localhost:8080/"
        },
        "id": "yn2bZTp7SIQS",
        "outputId": "27082e0b-3153-4567-bede-f589d5abe467"
      },
      "execution_count": null,
      "outputs": [
        {
          "output_type": "stream",
          "name": "stdout",
          "text": [
            "Cadena: beeb\n",
            "2\n"
          ]
        }
      ]
    },
    {
      "cell_type": "markdown",
      "source": [
        "Solución utlizando diccionarios:"
      ],
      "metadata": {
        "id": "0p0yyYbNoY8w"
      }
    },
    {
      "cell_type": "code",
      "source": [
        "cadena = input(\"Introduce una cadena: \")\n",
        "def contar_caracteres_repetidos(cadena: str)-> dict:\n",
        "\n",
        "  diccionario={}\n",
        " \n",
        "  for letra in cadena:\n",
        "      if letra in diccionario:\n",
        "          diccionario[letra] = diccionario[letra] + 1\n",
        "      else:\n",
        "          diccionario[letra] = 1\n",
        "\n",
        "  return diccionario\n",
        "\n",
        "dictioner = contar_caracteres_repetidos(cadena)\n",
        "print(diccionario)"
      ],
      "metadata": {
        "colab": {
          "base_uri": "https://localhost:8080/"
        },
        "id": "FpVjZMbak2Bi",
        "outputId": "330d670e-cd19-41f2-96c7-b854f69f682d"
      },
      "execution_count": null,
      "outputs": [
        {
          "output_type": "stream",
          "name": "stdout",
          "text": [
            "Introduce una cadena: Hola, como estas\n",
            "{'a': 2, 'l': 1, 'o': 1, 'h': 1}\n"
          ]
        }
      ]
    },
    {
      "cell_type": "markdown",
      "source": [
        "**RETO 4: Ordenar cadena de caracteres**\n",
        "\n",
        "Escriba una función que reciba una cadena de caracteres (str) por parámetro y retorne dicha cadena ordenada alfabéticamente.\n",
        "\n",
        "Por ejemplo, si se recibe la palabra \"bca\", el retorno correcto sería \"abc\".\n",
        "\n",
        "Suponga que las palabras que su función deberá ordenar están compuestas únicamente del alfabeto inglés en minúsculas. La cadena no tiene espacios."
      ],
      "metadata": {
        "id": "yRDiV0scqv3y"
      }
    },
    {
      "cell_type": "code",
      "source": [
        "def ordenar_cadena(cadena: str)-> str:\n",
        "  rango = len(cadena)\n",
        "  i = 0\n",
        "  mayor = cadena[i]\n",
        "  for c in range(rango):    \n",
        "    \n",
        "    i+=1\n",
        "    if cadena[c] < mayor:\n",
        "      mayor = cadena[c] + mayor\n",
        "      print(mayor)\n",
        "      \n",
        "    elif cadena[c] > mayor:\n",
        "      mayor = mayor + cadena[c]\n",
        "      print(mayor)\n",
        "      \n",
        "    \n",
        "\n",
        "  return mayor\n",
        "\n",
        "ordenar_cadena('bcade')"
      ],
      "metadata": {
        "colab": {
          "base_uri": "https://localhost:8080/",
          "height": 105
        },
        "id": "HaiBbUVXb6Ov",
        "outputId": "80154a24-8875-45d2-e8bd-c90b62914f86"
      },
      "execution_count": null,
      "outputs": [
        {
          "output_type": "stream",
          "name": "stdout",
          "text": [
            "bc\n",
            "abc\n",
            "abcd\n",
            "abcde\n"
          ]
        },
        {
          "output_type": "execute_result",
          "data": {
            "application/vnd.google.colaboratory.intrinsic+json": {
              "type": "string"
            },
            "text/plain": [
              "'abcde'"
            ]
          },
          "metadata": {},
          "execution_count": 506
        }
      ]
    },
    {
      "cell_type": "code",
      "source": [
        "'abcde' > 'f'"
      ],
      "metadata": {
        "colab": {
          "base_uri": "https://localhost:8080/"
        },
        "id": "FQ2HcBH5FSPf",
        "outputId": "8cad20a4-1050-47aa-d659-afdcc5368773"
      },
      "execution_count": null,
      "outputs": [
        {
          "output_type": "execute_result",
          "data": {
            "text/plain": [
              "False"
            ]
          },
          "metadata": {},
          "execution_count": 503
        }
      ]
    },
    {
      "cell_type": "markdown",
      "source": [
        "Creando mi propia función sort():"
      ],
      "metadata": {
        "id": "SRjOtTYaDqNv"
      }
    },
    {
      "cell_type": "code",
      "source": [
        "def my_sort(lista):\n",
        "    \"\"\" Generador que ordena una lista de valores homogeneos\n",
        "    \"\"\"\n",
        "    largo = len(lista)\n",
        "    if largo == 0:\n",
        "        return  # No hay nada mas que retornar\n",
        "\n",
        "    idx = 0             # indice del menor elemento.\n",
        "    min = lista[idx]    # valor del menor elemento.\n",
        "    min_prev = None     # minimo anterior\n",
        "    found = True        # Se encontro un minimo.\n",
        "    \n",
        "    while found:\n",
        "        # Buscar el elemento menor que sea mayor al elemento menor en el \n",
        "        # ciclo anterior. Ojo: puede que no haya elemento anterior.\n",
        "        for index in range(largo):\n",
        "            if lista[index] < min and (min_prev == None or lista[index] > min_prev):\n",
        "                idx = index\n",
        "                min = lista[idx]\n",
        "                found = True\n",
        "\n",
        "\n",
        "        if found:\n",
        "            # Entregar el valor encontrado.\n",
        "            yield min\n",
        "\n",
        "            # Recorrer el resto de la lista entregando todos los elementos\n",
        "            # que sean iguales al minimo encontrado.\n",
        "            for index in range(idx + 1, largo):\n",
        "                if lista[index] == min:\n",
        "                    yield min   \n",
        "\n",
        "            # Hay que elegir un nuevo minimo para el siguiente ciclo.\n",
        "            # El nuevo minimo tiene que ser mayor que el actual minimo.\n",
        "            # (Cualquier valor mayor sirve).\n",
        "            found = False\n",
        "            for index in range(largo):\n",
        "                if lista[index] > min:\n",
        "                    idx = index\n",
        "                    found = True\n",
        "                    break;\n",
        "\n",
        "            # Actualizar para el siguiente ciclo.\n",
        "            min_prev = min\n",
        "            min = lista[idx]\n",
        "        \n",
        "\n",
        "tests  = [\n",
        "    [],\n",
        "    [0],\n",
        "    [0, 1],\n",
        "    [0, 1, 2],\n",
        "    [2, 1, 0],\n",
        "    [10, 9, 8, 7, 6, 5, 4, 3, 2, 1],\n",
        "    [1, 1, 1, 2, 2, 2, 3, 3, 3],\n",
        "    [3, 3, 3, 2, 1, 2, 1, 1, 2],\n",
        "    [3,2,1,0,-1,-2],\n",
        "    [\"zanahoria\", \"beterraga\", \"apio\", \"lechuga\", \"tomate\"]\n",
        "    ]\n",
        "\n",
        "\n",
        "#print([value for value in my_sort([1,1,1,2,2,2,3,3,3])])\n",
        "for test in tests:\n",
        "    print(\"Lista original:\", test)\n",
        "    print(\"Lista ordenada:\", [value for value in my_sort(test)])"
      ],
      "metadata": {
        "colab": {
          "base_uri": "https://localhost:8080/"
        },
        "id": "7VIdc2Wr2XEH",
        "outputId": "80508532-b47b-413c-81c3-a1c4319f80a7"
      },
      "execution_count": null,
      "outputs": [
        {
          "output_type": "stream",
          "name": "stdout",
          "text": [
            "Lista original: []\n",
            "Lista ordenada: []\n",
            "Lista original: [0]\n",
            "Lista ordenada: [0]\n",
            "Lista original: [0, 1]\n",
            "Lista ordenada: [0, 1]\n",
            "Lista original: [0, 1, 2]\n",
            "Lista ordenada: [0, 1, 2]\n",
            "Lista original: [2, 1, 0]\n",
            "Lista ordenada: [0, 1, 2]\n",
            "Lista original: [10, 9, 8, 7, 6, 5, 4, 3, 2, 1]\n",
            "Lista ordenada: [1, 2, 3, 4, 5, 6, 7, 8, 9, 10]\n",
            "Lista original: [1, 1, 1, 2, 2, 2, 3, 3, 3]\n",
            "Lista ordenada: [1, 1, 1, 2, 2, 2, 3, 3, 3]\n",
            "Lista original: [3, 3, 3, 2, 1, 2, 1, 1, 2]\n",
            "Lista ordenada: [1, 1, 1, 2, 2, 2, 3, 3, 3]\n",
            "Lista original: [3, 2, 1, 0, -1, -2]\n",
            "Lista ordenada: [-2, -1, 0, 1, 2, 3]\n",
            "Lista original: ['zanahoria', 'beterraga', 'apio', 'lechuga', 'tomate']\n",
            "Lista ordenada: ['apio', 'beterraga', 'lechuga', 'tomate', 'zanahoria']\n"
          ]
        }
      ]
    },
    {
      "cell_type": "markdown",
      "source": [
        "La forma más sencilla de solucionarlo, utilizando modulos sort() de Python:"
      ],
      "metadata": {
        "id": "IZ4lgD1HEJMA"
      }
    },
    {
      "cell_type": "code",
      "source": [
        "def ordenar_cadena(cadena: str)-> str:\n",
        "  b = sorted(cadena)\n",
        "  c = ''.join(b) \n",
        "\n",
        "  return c\n",
        "\n",
        "ordenar_cadena('azcdsfbbhufehnjfloqieasd')"
      ],
      "metadata": {
        "colab": {
          "base_uri": "https://localhost:8080/",
          "height": 35
        },
        "id": "CmVpehPgCP-r",
        "outputId": "bc3598ab-1d6b-419a-f1cd-d31698a7945c"
      },
      "execution_count": null,
      "outputs": [
        {
          "output_type": "execute_result",
          "data": {
            "application/vnd.google.colaboratory.intrinsic+json": {
              "type": "string"
            },
            "text/plain": [
              "'aabbcddeefffhhijlnoqssuz'"
            ]
          },
          "metadata": {},
          "execution_count": 494
        }
      ]
    },
    {
      "cell_type": "markdown",
      "source": [
        "# Listas"
      ],
      "metadata": {
        "id": "uZAfo52LiLGs"
      }
    },
    {
      "cell_type": "markdown",
      "source": [
        "Veamos ejemplos de creación de listas. Note que en la lista mixedlist se tiene una lista con un string, un float, un entero y una lista dentro de esta lista."
      ],
      "metadata": {
        "id": "gxPcLmrbiWvl"
      }
    },
    {
      "cell_type": "code",
      "source": [
        "vocabulary = [\"iteration\", \"selection\", \"control\"]\n",
        "numbers = [17, 123]\n",
        "empty = []\n",
        "mixedlist = [\"hello\", 2.0, 5*2, [10, 20]]\n",
        "\n",
        "print(numbers)\n",
        "print(mixedlist)\n",
        "newlist = [ numbers, vocabulary ]\n",
        "print(newlist)"
      ],
      "metadata": {
        "id": "B54Ij5yLERGI",
        "colab": {
          "base_uri": "https://localhost:8080/"
        },
        "outputId": "0fd2e766-779c-4ef3-fa40-130901e2ea32"
      },
      "execution_count": null,
      "outputs": [
        {
          "output_type": "stream",
          "name": "stdout",
          "text": [
            "[17, 123]\n",
            "['hello', 2.0, 10, [10, 20]]\n",
            "[[17, 123], ['iteration', 'selection', 'control']]\n"
          ]
        }
      ]
    },
    {
      "cell_type": "markdown",
      "source": [
        "**Len de una lista:**"
      ],
      "metadata": {
        "id": "R6PEuvVXi1dv"
      }
    },
    {
      "cell_type": "code",
      "source": [
        "alist =  [\"hello\", 2.0, 5, [10, 20]]\n",
        "print(len(alist))\n",
        "print(len(['spam!', 1, ['Brie', 'Roquefort', 'Pol le Veq'], [1, 2, 3]]))"
      ],
      "metadata": {
        "colab": {
          "base_uri": "https://localhost:8080/"
        },
        "id": "axVQlNC_iOQM",
        "outputId": "80d8d59e-b4bc-45c8-c9ba-7cef58dede22"
      },
      "execution_count": null,
      "outputs": [
        {
          "output_type": "stream",
          "name": "stdout",
          "text": [
            "4\n",
            "4\n"
          ]
        }
      ]
    },
    {
      "cell_type": "markdown",
      "source": [
        "**Accediendo y modificando un valor de una lista:**"
      ],
      "metadata": {
        "id": "hThfZ7ajjnY5"
      }
    },
    {
      "cell_type": "code",
      "source": [
        "alist = [3, 67, \"cat\", [56, 57, \"dog\"], [ ], 3.14, False]\n",
        "print(alist[2][0])"
      ],
      "metadata": {
        "colab": {
          "base_uri": "https://localhost:8080/"
        },
        "id": "ytqZ07Bfi0p0",
        "outputId": "5521cc7e-5616-486a-9819-03b747e58b77"
      },
      "execution_count": null,
      "outputs": [
        {
          "output_type": "stream",
          "name": "stdout",
          "text": [
            "c\n"
          ]
        }
      ]
    },
    {
      "cell_type": "code",
      "source": [
        "alist = [3, 67, \"cat\", [56, 57, \"dog\"], [ ], 3.14, False]\n",
        "print(alist[2].upper())"
      ],
      "metadata": {
        "colab": {
          "base_uri": "https://localhost:8080/"
        },
        "id": "fFnqN2xDjpgM",
        "outputId": "05fb863b-5ed8-4883-a793-a23b122a7ced"
      },
      "execution_count": null,
      "outputs": [
        {
          "output_type": "stream",
          "name": "stdout",
          "text": [
            "CAT\n"
          ]
        }
      ]
    },
    {
      "cell_type": "markdown",
      "source": [
        "**Lista de miembros:**"
      ],
      "metadata": {
        "id": "C-h3-G2Xj9iF"
      }
    },
    {
      "cell_type": "markdown",
      "source": [
        "in y not in son operadores booleanos que determinan si un elemento hace parte de una lista:"
      ],
      "metadata": {
        "id": "kRm2F7qukGEt"
      }
    },
    {
      "cell_type": "code",
      "source": [
        "fruit = [\"apple\", \"orange\", \"banana\", \"cherry\"]\n",
        "\n",
        "print(\"apple\" in fruit)\n",
        "print(\"pear\" in fruit)"
      ],
      "metadata": {
        "colab": {
          "base_uri": "https://localhost:8080/"
        },
        "id": "J_0SHdyzjv0u",
        "outputId": "0a7de7f2-230d-4912-92cb-b355e915672c"
      },
      "execution_count": null,
      "outputs": [
        {
          "output_type": "stream",
          "name": "stdout",
          "text": [
            "True\n",
            "False\n"
          ]
        }
      ]
    },
    {
      "cell_type": "markdown",
      "source": [
        "**Concatenación y repetición**"
      ],
      "metadata": {
        "id": "8-o1jK_8k8BH"
      }
    },
    {
      "cell_type": "markdown",
      "source": [
        "Al igual que con los strings, el operador + concatena listas. Del mismo modo, el operador * repite los elementos de una lista un determinado número de veces."
      ],
      "metadata": {
        "id": "VmdGYmzglOrk"
      }
    },
    {
      "cell_type": "code",
      "source": [
        "fruit = [\"apple\", \"orange\", \"banana\", \"cherry\"]\n",
        "print([1, 2] + [3, 4])\n",
        "print(fruit + [6, 7, 8, 9])\n",
        "\n",
        "print([0] * 4)\n",
        "print([1, 2, [\"hello\", \"goodbye\"]] * 2)"
      ],
      "metadata": {
        "colab": {
          "base_uri": "https://localhost:8080/"
        },
        "id": "aVZGcqACkKSY",
        "outputId": "1043be18-052a-4be3-d3ee-0dd2ed9a3399"
      },
      "execution_count": null,
      "outputs": [
        {
          "output_type": "stream",
          "name": "stdout",
          "text": [
            "[1, 2, 3, 4]\n",
            "['apple', 'orange', 'banana', 'cherry', 6, 7, 8, 9]\n",
            "[0, 0, 0, 0]\n",
            "[1, 2, ['hello', 'goodbye'], 1, 2, ['hello', 'goodbye']]\n"
          ]
        }
      ]
    },
    {
      "cell_type": "markdown",
      "source": [
        "**Slicing de listas**"
      ],
      "metadata": {
        "id": "fXg4v2irmbAN"
      }
    },
    {
      "cell_type": "markdown",
      "source": [
        "Al igual que con strings, tenemos la misma arquitectura de acceso a los elementos mediante slicing."
      ],
      "metadata": {
        "id": "WoRw4RIymeCp"
      }
    },
    {
      "cell_type": "code",
      "source": [
        "a_list = ['a', 'b', 'c', 'd', 'e', 'f']\n",
        "print(a_list[1:3])\n",
        "print(a_list[:4])\n",
        "print(a_list[3:])\n",
        "print(a_list[:])\n"
      ],
      "metadata": {
        "colab": {
          "base_uri": "https://localhost:8080/"
        },
        "id": "izNwtvJmlZuI",
        "outputId": "4d597df1-2268-40bb-988f-07ae0a76f30c"
      },
      "execution_count": null,
      "outputs": [
        {
          "output_type": "stream",
          "name": "stdout",
          "text": [
            "['b', 'c']\n",
            "['a', 'b', 'c', 'd']\n",
            "['d', 'e', 'f']\n",
            "['a', 'b', 'c', 'd', 'e', 'f']\n"
          ]
        }
      ]
    },
    {
      "cell_type": "markdown",
      "source": [
        "**Las listas son mutables**"
      ],
      "metadata": {
        "id": "Bkoxg22tm5Mt"
      }
    },
    {
      "cell_type": "markdown",
      "source": [
        "A diferencia de los strings, las listas son mutables, al igual que los diccionarios. Esto significa que podemos cambiar el valor de un elemento accediendo directamente a él y asignar una sentencia sobre el mismo."
      ],
      "metadata": {
        "id": "RWoOCX8rnSoo"
      }
    },
    {
      "cell_type": "code",
      "source": [
        "fruit = [\"banana\", \"apple\", \"cherry\"]\n",
        "print(fruit)\n",
        "\n",
        "fruit[0] = \"pear\"\n",
        "fruit[-1] = \"orange\"\n",
        "print(fruit)"
      ],
      "metadata": {
        "colab": {
          "base_uri": "https://localhost:8080/"
        },
        "id": "2k0MzJvpmh4C",
        "outputId": "1d1d968a-e527-4c26-fba8-f85235e84d7d"
      },
      "execution_count": null,
      "outputs": [
        {
          "output_type": "stream",
          "name": "stdout",
          "text": [
            "['banana', 'apple', 'cherry']\n",
            "['pear', 'apple', 'orange']\n"
          ]
        }
      ]
    },
    {
      "cell_type": "markdown",
      "source": [
        "Combinando slicing con accesibilidad:"
      ],
      "metadata": {
        "id": "NZ9wkZugoBTW"
      }
    },
    {
      "cell_type": "code",
      "source": [
        "alist = ['a', 'b', 'c', 'd', 'e', 'f']\n",
        "alist[1:3] = ['x', 'y']\n",
        "print(alist)"
      ],
      "metadata": {
        "colab": {
          "base_uri": "https://localhost:8080/"
        },
        "id": "fohS9T3Knh5A",
        "outputId": "35c74409-07ac-4f5d-c27a-a7a8a988948f"
      },
      "execution_count": null,
      "outputs": [
        {
          "output_type": "stream",
          "name": "stdout",
          "text": [
            "['a', 'x', 'y', 'd', 'e', 'f']\n"
          ]
        }
      ]
    },
    {
      "cell_type": "markdown",
      "source": [
        "También podemos eliminar elementos de una lista asignando una lista empty:"
      ],
      "metadata": {
        "id": "YoG7Nj1BoLnF"
      }
    },
    {
      "cell_type": "code",
      "source": [
        "alist = ['a', 'b', 'c', 'd', 'e', 'f']\n",
        "alist[1:3] = []\n",
        "print(alist)"
      ],
      "metadata": {
        "colab": {
          "base_uri": "https://localhost:8080/"
        },
        "id": "AtENn6GvoGW1",
        "outputId": "da3d2b2f-a42b-4def-bdd9-d9c12ed3b498"
      },
      "execution_count": null,
      "outputs": [
        {
          "output_type": "stream",
          "name": "stdout",
          "text": [
            "['a', 'd', 'e', 'f']\n"
          ]
        }
      ]
    },
    {
      "cell_type": "code",
      "source": [
        "alist = ['a', 'd', 'f']\n",
        "alist[1:1] = ['b', 'c']\n",
        "print(alist)\n",
        "alist[4:4] = ['e']\n",
        "print(alist)"
      ],
      "metadata": {
        "colab": {
          "base_uri": "https://localhost:8080/"
        },
        "id": "YKAqzRnjoRbu",
        "outputId": "2855297f-c008-4f08-b861-2a34a6992909"
      },
      "execution_count": null,
      "outputs": [
        {
          "output_type": "stream",
          "name": "stdout",
          "text": [
            "['a', 'b', 'c', 'd', 'f']\n",
            "['a', 'b', 'c', 'd', 'e', 'f']\n"
          ]
        }
      ]
    },
    {
      "cell_type": "markdown",
      "source": [
        "**Eliminación de una lista**"
      ],
      "metadata": {
        "id": "bgzCml07ooqv"
      }
    },
    {
      "cell_type": "markdown",
      "source": [
        "Python ofrece una función propia para la eliminación de listas, ya que el uso de slicing podría generar errores difíciles de detectar."
      ],
      "metadata": {
        "id": "-bbEmwe8o6Yd"
      }
    },
    {
      "cell_type": "code",
      "source": [
        "a = ['one', 'two', 'three']\n",
        "del a[1]\n",
        "print(a)\n",
        "\n",
        "alist = ['a', 'b', 'c', 'd', 'e', 'f']\n",
        "del alist[1:5]\n",
        "print(alist)\n"
      ],
      "metadata": {
        "colab": {
          "base_uri": "https://localhost:8080/"
        },
        "id": "tmdvOKZhoYey",
        "outputId": "e17a81f4-7d38-48d5-ab27-7c6eae021423"
      },
      "execution_count": null,
      "outputs": [
        {
          "output_type": "stream",
          "name": "stdout",
          "text": [
            "['one', 'three']\n",
            "['a', 'f']\n"
          ]
        }
      ]
    },
    {
      "cell_type": "markdown",
      "source": [
        "**For-in para una lista**"
      ],
      "metadata": {
        "id": "qqPGau5XrZaR"
      }
    },
    {
      "cell_type": "code",
      "source": [
        "lista = [1, 2, 3, 4 , 5, 6]\n",
        "sumar = 0\n",
        "for i in lista:\n",
        "  sumar += i\n",
        "  print(sumar)"
      ],
      "metadata": {
        "colab": {
          "base_uri": "https://localhost:8080/"
        },
        "id": "V9k7ihdMpGPP",
        "outputId": "72684add-e1cf-48ea-9ab2-7f1473959c39"
      },
      "execution_count": null,
      "outputs": [
        {
          "output_type": "stream",
          "name": "stdout",
          "text": [
            "1\n",
            "3\n",
            "6\n",
            "10\n",
            "15\n",
            "21\n"
          ]
        }
      ]
    },
    {
      "cell_type": "markdown",
      "source": [
        "**Comparación de listas**"
      ],
      "metadata": {
        "id": "sQ0GuG0_x5lW"
      }
    },
    {
      "cell_type": "code",
      "source": [
        "[1, 2, 3] == [1, 2]"
      ],
      "metadata": {
        "colab": {
          "base_uri": "https://localhost:8080/"
        },
        "id": "IzMzH9gJrWW6",
        "outputId": "35fa4e30-dafd-44b6-dc7d-bd8fd1aa05db"
      },
      "execution_count": null,
      "outputs": [
        {
          "output_type": "execute_result",
          "data": {
            "text/plain": [
              "False"
            ]
          },
          "metadata": {},
          "execution_count": 18
        }
      ]
    },
    {
      "cell_type": "code",
      "source": [
        "[1, 2, 3] == [1, 2, 3]"
      ],
      "metadata": {
        "colab": {
          "base_uri": "https://localhost:8080/"
        },
        "id": "HFvg5cT0x-_p",
        "outputId": "22efc0cb-3600-4f70-9d2b-327c5210e55d"
      },
      "execution_count": null,
      "outputs": [
        {
          "output_type": "execute_result",
          "data": {
            "text/plain": [
              "True"
            ]
          },
          "metadata": {},
          "execution_count": 19
        }
      ]
    },
    {
      "cell_type": "code",
      "source": [
        "[1, 10, 100] < [2, 10, 100]"
      ],
      "metadata": {
        "colab": {
          "base_uri": "https://localhost:8080/"
        },
        "id": "jAlK21XbyCJQ",
        "outputId": "2e373b8b-4a5a-4c7d-f6ac-6be386c81994"
      },
      "execution_count": null,
      "outputs": [
        {
          "output_type": "execute_result",
          "data": {
            "text/plain": [
              "True"
            ]
          },
          "metadata": {},
          "execution_count": 20
        }
      ]
    },
    {
      "cell_type": "code",
      "source": [
        "[1, 10] < [1, 10, 100]"
      ],
      "metadata": {
        "colab": {
          "base_uri": "https://localhost:8080/"
        },
        "id": "JgxB-vw3yOXe",
        "outputId": "c7ef5593-0dab-41a7-eeb0-0b20a72df954"
      },
      "execution_count": null,
      "outputs": [
        {
          "output_type": "execute_result",
          "data": {
            "text/plain": [
              "True"
            ]
          },
          "metadata": {},
          "execution_count": 21
        }
      ]
    },
    {
      "cell_type": "code",
      "source": [
        "def duplicar(lista: list)-> None:\n",
        "  for i in range(0, len(lista)):\n",
        "    lista[i] = lista[i] * 2\n",
        "    print(lista)\n",
        "duplicar([1, 2, 3, 4, 5, 6])"
      ],
      "metadata": {
        "colab": {
          "base_uri": "https://localhost:8080/"
        },
        "id": "h8MUk6vdyZTr",
        "outputId": "7cc6b40f-816e-4d38-8b82-ace353034c4e"
      },
      "execution_count": null,
      "outputs": [
        {
          "output_type": "stream",
          "name": "stdout",
          "text": [
            "[2, 2, 3, 4, 5, 6]\n",
            "[2, 4, 3, 4, 5, 6]\n",
            "[2, 4, 6, 4, 5, 6]\n",
            "[2, 4, 6, 8, 5, 6]\n",
            "[2, 4, 6, 8, 10, 6]\n",
            "[2, 4, 6, 8, 10, 12]\n"
          ]
        }
      ]
    },
    {
      "cell_type": "markdown",
      "source": [
        "# Métodos de la clase List"
      ],
      "metadata": {
        "id": "kZGwsFJKNRc_"
      }
    },
    {
      "cell_type": "markdown",
      "source": [
        "append: Adiciona un elemento al final de la lista"
      ],
      "metadata": {
        "id": "QzBRZzo8OCkm"
      }
    },
    {
      "cell_type": "code",
      "source": [
        "mi_lista = []\n",
        "mi_lista.append(5)\n",
        "mi_lista.append(27)\n",
        "mi_lista.append(3)\n",
        "mi_lista.append(12)\n",
        "print(mi_lista)"
      ],
      "metadata": {
        "colab": {
          "base_uri": "https://localhost:8080/"
        },
        "id": "ylvgXE6r1zP6",
        "outputId": "7065d2e3-4f50-48fd-caf7-1788eb69e221"
      },
      "execution_count": null,
      "outputs": [
        {
          "output_type": "stream",
          "name": "stdout",
          "text": [
            "[5, 27, 3, 12]\n"
          ]
        }
      ]
    },
    {
      "cell_type": "markdown",
      "source": [
        "insert: Inserta un elemento en una posición dada de la lista"
      ],
      "metadata": {
        "id": "E6WSP3HYOJFv"
      }
    },
    {
      "cell_type": "code",
      "source": [
        "mi_lista.insert(1, 12)\n",
        "print(mi_lista)"
      ],
      "metadata": {
        "colab": {
          "base_uri": "https://localhost:8080/"
        },
        "id": "tWrwuRwqNb93",
        "outputId": "0d16f8fb-0a73-4a5a-cdc3-458499032a1a"
      },
      "execution_count": null,
      "outputs": [
        {
          "output_type": "stream",
          "name": "stdout",
          "text": [
            "[5, 12, 27, 3, 12]\n"
          ]
        }
      ]
    },
    {
      "cell_type": "markdown",
      "source": [
        "count: Cuenta cuántas veces aparece un elemento en la lista"
      ],
      "metadata": {
        "id": "YDKkNS3lOwpg"
      }
    },
    {
      "cell_type": "code",
      "source": [
        "mi_lista.count(12)"
      ],
      "metadata": {
        "colab": {
          "base_uri": "https://localhost:8080/"
        },
        "id": "1VGXSzeROVHA",
        "outputId": "73241db6-78a6-44f7-fdd7-76455daea3a7"
      },
      "execution_count": null,
      "outputs": [
        {
          "output_type": "execute_result",
          "data": {
            "text/plain": [
              "2"
            ]
          },
          "metadata": {},
          "execution_count": 33
        }
      ]
    },
    {
      "cell_type": "markdown",
      "source": [
        "extend: Inserta una lista entera al final de una lista"
      ],
      "metadata": {
        "id": "pY7zPzNCO4WO"
      }
    },
    {
      "cell_type": "code",
      "source": [
        "mi_lista.extend([5, 9, 5, 11])\n",
        "print(mi_lista)"
      ],
      "metadata": {
        "colab": {
          "base_uri": "https://localhost:8080/"
        },
        "id": "HqtijpqxO1g4",
        "outputId": "aaf4a651-b487-4400-f55c-784981386404"
      },
      "execution_count": null,
      "outputs": [
        {
          "output_type": "stream",
          "name": "stdout",
          "text": [
            "[5, 12, 27, 3, 12, 5, 9, 5, 11, 5, 9, 5, 11]\n"
          ]
        }
      ]
    },
    {
      "cell_type": "markdown",
      "source": [
        "index: Busca el indice o posición de un elemento en la lista"
      ],
      "metadata": {
        "id": "Bvb1KufjPoLP"
      }
    },
    {
      "cell_type": "code",
      "source": [
        "mi_lista.index(27)"
      ],
      "metadata": {
        "colab": {
          "base_uri": "https://localhost:8080/"
        },
        "id": "s-sqL4wtO_rE",
        "outputId": "92f03abc-bd64-4ff8-eb24-c53d520800a3"
      },
      "execution_count": null,
      "outputs": [
        {
          "output_type": "execute_result",
          "data": {
            "text/plain": [
              "2"
            ]
          },
          "metadata": {},
          "execution_count": 37
        }
      ]
    },
    {
      "cell_type": "markdown",
      "source": [
        "reverse: Invierte los elementos de una lista"
      ],
      "metadata": {
        "id": "BBlo_R67PxnX"
      }
    },
    {
      "cell_type": "code",
      "source": [
        "mi_lista.reverse()\n",
        "print(mi_lista)"
      ],
      "metadata": {
        "colab": {
          "base_uri": "https://localhost:8080/"
        },
        "id": "n1Mae2acPtYh",
        "outputId": "3ebb8c72-fc3e-4aa9-a013-7920c6661dea"
      },
      "execution_count": null,
      "outputs": [
        {
          "output_type": "stream",
          "name": "stdout",
          "text": [
            "[11, 5, 9, 5, 11, 5, 9, 5, 12, 3, 27, 12, 5]\n"
          ]
        }
      ]
    },
    {
      "cell_type": "markdown",
      "source": [
        "sort: Ordena los elementos de una lista"
      ],
      "metadata": {
        "id": "uYSmGiYWQgU4"
      }
    },
    {
      "cell_type": "code",
      "source": [
        "lista = ['b', 'f', 'd', 'm', 'j', 'a', 'c']\n",
        "lista.sort()\n",
        "print(lista)"
      ],
      "metadata": {
        "colab": {
          "base_uri": "https://localhost:8080/"
        },
        "id": "DgO0F93nP09N",
        "outputId": "7a294454-4cbc-4794-9b2b-1ef899872fd0"
      },
      "execution_count": null,
      "outputs": [
        {
          "output_type": "stream",
          "name": "stdout",
          "text": [
            "['a', 'b', 'c', 'd', 'f', 'j', 'm']\n"
          ]
        }
      ]
    },
    {
      "cell_type": "markdown",
      "source": [
        "remove: Elimina la primera ocurrencia de un elemento dado en una lista"
      ],
      "metadata": {
        "id": "wgM5W5OtQ0-Z"
      }
    },
    {
      "cell_type": "code",
      "source": [
        "lista.remove('j')"
      ],
      "metadata": {
        "id": "1VnKT59YQsRo"
      },
      "execution_count": null,
      "outputs": []
    },
    {
      "cell_type": "code",
      "source": [
        "print(lista)"
      ],
      "metadata": {
        "colab": {
          "base_uri": "https://localhost:8080/"
        },
        "id": "7m3pUBGLQ5ON",
        "outputId": "f16becad-157f-4429-8b61-38fe4f9b5684"
      },
      "execution_count": null,
      "outputs": [
        {
          "output_type": "stream",
          "name": "stdout",
          "text": [
            "['a', 'b', 'c', 'd', 'f', 'm']\n"
          ]
        }
      ]
    },
    {
      "cell_type": "markdown",
      "source": [
        "copy: Crea una nueva lista que es una copia de la lista original"
      ],
      "metadata": {
        "id": "lIlSMfU2U3Up"
      }
    },
    {
      "cell_type": "code",
      "source": [
        "otra_lista = lista.copy()"
      ],
      "metadata": {
        "id": "EAnDCy5rRBCQ"
      },
      "execution_count": null,
      "outputs": []
    },
    {
      "cell_type": "markdown",
      "source": [
        "pop: Remueve un elemento de una posición dada de la lista y lo devuelve"
      ],
      "metadata": {
        "id": "Xu9OJ4TEVBTq"
      }
    },
    {
      "cell_type": "code",
      "source": [
        "lista.pop(4)"
      ],
      "metadata": {
        "colab": {
          "base_uri": "https://localhost:8080/",
          "height": 35
        },
        "id": "9ecZkWJAU9f_",
        "outputId": "114a8543-b241-44a9-8b4c-9fb78a4f6c13"
      },
      "execution_count": null,
      "outputs": [
        {
          "output_type": "execute_result",
          "data": {
            "application/vnd.google.colaboratory.intrinsic+json": {
              "type": "string"
            },
            "text/plain": [
              "'f'"
            ]
          },
          "metadata": {},
          "execution_count": 52
        }
      ]
    },
    {
      "cell_type": "markdown",
      "source": [
        "# De cadena a lista y viceversa"
      ],
      "metadata": {
        "id": "N1_s61HLWI7r"
      }
    },
    {
      "cell_type": "markdown",
      "source": [
        "De cadena a lista:\n",
        "\n",
        "Método split()"
      ],
      "metadata": {
        "id": "n2FgU1MvW7-F"
      }
    },
    {
      "cell_type": "code",
      "source": [
        "cadena = \"uno dos tres\"\n",
        "print(cadena)\n",
        "lista_cadena = cadena.split()\n",
        "print(lista_cadena)"
      ],
      "metadata": {
        "colab": {
          "base_uri": "https://localhost:8080/"
        },
        "id": "brwtWoZiVJi1",
        "outputId": "de8896d2-25e8-4b2a-dc0f-d0ad122b46b5"
      },
      "execution_count": null,
      "outputs": [
        {
          "output_type": "stream",
          "name": "stdout",
          "text": [
            "uno dos tres\n",
            "['uno', 'dos', 'tres']\n"
          ]
        }
      ]
    },
    {
      "cell_type": "markdown",
      "source": [
        "Lista a cadena:\n",
        "\n",
        "Método join()"
      ],
      "metadata": {
        "id": "vU4uoZLIW95U"
      }
    },
    {
      "cell_type": "code",
      "source": [
        "a = \" \".join(lista_cadena)\n",
        "print(a)\n",
        "b = \",\".join(lista_cadena)\n",
        "print(b)\n",
        "c = \"-\".join(lista_cadena)\n",
        "print(c)"
      ],
      "metadata": {
        "colab": {
          "base_uri": "https://localhost:8080/"
        },
        "id": "f8RH_a_vWUqQ",
        "outputId": "9a7afcf4-a1bb-40ce-9c62-43d73b5a51cf"
      },
      "execution_count": null,
      "outputs": [
        {
          "output_type": "stream",
          "name": "stdout",
          "text": [
            "uno dos tres\n",
            "uno,dos,tres\n",
            "uno-dos-tres\n"
          ]
        }
      ]
    },
    {
      "cell_type": "markdown",
      "source": [
        "Método type list()"
      ],
      "metadata": {
        "id": "h5b02uEGX0E7"
      }
    },
    {
      "cell_type": "code",
      "source": [
        "d = list(\"146875433214365\")\n",
        "print(d)"
      ],
      "metadata": {
        "colab": {
          "base_uri": "https://localhost:8080/"
        },
        "id": "ZuOqBLDhXHNX",
        "outputId": "eb484b09-d2a5-4405-8581-56e24ab21505"
      },
      "execution_count": null,
      "outputs": [
        {
          "output_type": "stream",
          "name": "stdout",
          "text": [
            "['1', '4', '6', '8', '7', '5', '4', '3', '3', '2', '1', '4', '3', '6', '5']\n"
          ]
        }
      ]
    },
    {
      "cell_type": "code",
      "source": [
        "'6' in d"
      ],
      "metadata": {
        "colab": {
          "base_uri": "https://localhost:8080/"
        },
        "id": "IOkFEkENX69v",
        "outputId": "8aed2e66-ca20-4f9d-e851-3731da3a5f52"
      },
      "execution_count": null,
      "outputs": [
        {
          "output_type": "execute_result",
          "data": {
            "text/plain": [
              "True"
            ]
          },
          "metadata": {},
          "execution_count": 63
        }
      ]
    },
    {
      "cell_type": "markdown",
      "source": [
        "**MANOS A LA OBRA: Funciones sobre listas de números**"
      ],
      "metadata": {
        "id": "Qg7pdqitaM3Z"
      }
    },
    {
      "cell_type": "markdown",
      "source": [
        "Escriba una función promedio_lista que reciba una lista de números (positivos y negativos) y retorna el valor promedio de los números positivos."
      ],
      "metadata": {
        "id": "9_dxsV0YaQyO"
      }
    },
    {
      "cell_type": "code",
      "source": [
        "def promedio_lista(lista: list)-> float:\n",
        "  suma = 0\n",
        "  contador = 0\n",
        "\n",
        "  for i in lista:\n",
        "    if i > 0:\n",
        "      suma += i\n",
        "      contador += 1\n",
        "      promedio = suma / contador\n",
        "\n",
        "  return promedio\n",
        "\n",
        "numeros = [4, 2, 6, -7, 10, 72, -3]\n",
        "verificar = [4, -1, -4, 5, 1, 6, 10, 17, 31, -14, -61]\n",
        "promedio = promedio_lista(numeros)\n",
        "print(f'El promedio de los números positivos de la lista es {promedio}')  "
      ],
      "metadata": {
        "colab": {
          "base_uri": "https://localhost:8080/"
        },
        "id": "rxR2uHVbYSXi",
        "outputId": "414d24a2-06b1-4aa7-e68b-d33e0f720a1a"
      },
      "execution_count": null,
      "outputs": [
        {
          "output_type": "stream",
          "name": "stdout",
          "text": [
            "El promedio de los números positivos de la lista es 18.8\n"
          ]
        }
      ]
    },
    {
      "cell_type": "markdown",
      "source": [
        "**MANOS A LA OBRA: Funciones sobre lsitas de números 2.0**\n",
        "\n",
        "Escriba una función menor_posicion_lista que recibe una lista de números (positivos y negativos) y retorna la posición del menor valor que se encuentra en la lista."
      ],
      "metadata": {
        "id": "6zBmjr0de7mT"
      }
    },
    {
      "cell_type": "code",
      "source": [
        "def menor_posicion_lista(lista: list)-> int:\n",
        "  menor = lista[0]\n",
        "\n",
        "  for i in range(0, len(lista)):\n",
        "    if lista[i] < menor:\n",
        "      menor = lista[i]\n",
        "      indice = i\n",
        "  return indice\n",
        "\n",
        "\n",
        "verificar = [4, -1, -4, 5, -74, 6, 10, -97, 31, -14, -61]\n",
        "menor = menor_posicion_lista(verificar)\n",
        "print(menor)"
      ],
      "metadata": {
        "colab": {
          "base_uri": "https://localhost:8080/"
        },
        "id": "YQL6-hQqcFJS",
        "outputId": "64672fbb-8fe6-4d71-f56c-89e512dbc201"
      },
      "execution_count": null,
      "outputs": [
        {
          "output_type": "stream",
          "name": "stdout",
          "text": [
            "7\n"
          ]
        }
      ]
    },
    {
      "cell_type": "markdown",
      "source": [
        "**RETO 5: Buscar el índice de un elemento en una lista**\n",
        "\n",
        "Escriba una función que reciba una lista y un número entero a buscar, y que retorne un entero que indique el índice en que se encuentra este elemento.\n",
        "\n",
        "En caso de que el elemento se encuentre más de una vez dentro de la lista, debe retornar la primera posición en que lo encuentre.\n",
        "\n",
        "En caso de no encontrar el número, retorne -1."
      ],
      "metadata": {
        "id": "kpor5gWgjN-U"
      }
    },
    {
      "cell_type": "code",
      "source": [
        "#RETO 5: Buscar el indice de un elemento en una lista\n",
        "def buscar_elemento(entrada: list, buscado: int)-> int:\n",
        "  indice = -1  \n",
        "\n",
        "  for i in range(0, len(entrada)):\n",
        "    if entrada[i] == buscado:\n",
        "      indice = i\n",
        "      break\n",
        "  return indice\n",
        "\n",
        "entrada = [34, 2, 3, 13, 7, -24, 8, 8, -72, 72]\n",
        "print(buscar_elemento(entrada, 8))"
      ],
      "metadata": {
        "colab": {
          "base_uri": "https://localhost:8080/"
        },
        "id": "d14LavFUgAUX",
        "outputId": "86dd83ca-c674-4f05-e0d9-142b39db2016"
      },
      "execution_count": null,
      "outputs": [
        {
          "output_type": "stream",
          "name": "stdout",
          "text": [
            "6\n"
          ]
        }
      ]
    },
    {
      "cell_type": "markdown",
      "source": [
        "**RETO 6: Encontrar el elemento mayor**\n",
        "\n",
        "Escriba una función que encuentre el mayor número en una lista de enteros positivos.\n",
        "\n",
        "En caso de que la lista esté vacía, se debe retornar-1.  "
      ],
      "metadata": {
        "id": "lInqANH6k_wa"
      }
    },
    {
      "cell_type": "code",
      "source": [
        "#RETO 6: Encontrar el elemento mayor\n",
        "def encontrar_mayor(entrada: list)-> int:\n",
        "  mayor = 0\n",
        "\n",
        "  if entrada == []:\n",
        "    mayor = -1\n",
        "  else:\n",
        "    mayor = entrada[0]\n",
        "\n",
        "  for i in range(0, len(entrada)):\n",
        "    if entrada[i] > mayor:\n",
        "      mayor = entrada[i]\n",
        "\n",
        "  return mayor\n",
        "\n",
        "entrada = [34, 2, 3, 13, 7, 94, -24, 8, 8, -72, 72, 104]\n",
        "vacia = []\n",
        "print(encontrar_mayor(vacia))"
      ],
      "metadata": {
        "colab": {
          "base_uri": "https://localhost:8080/"
        },
        "id": "4NiYsLKfj29r",
        "outputId": "e10cb421-a9bd-4bd3-c798-9ba480d30b3a"
      },
      "execution_count": null,
      "outputs": [
        {
          "output_type": "stream",
          "name": "stdout",
          "text": [
            "-1\n"
          ]
        }
      ]
    },
    {
      "cell_type": "markdown",
      "source": [
        "# Patrones de recorrido"
      ],
      "metadata": {
        "id": "YeaNteZvpsVx"
      }
    },
    {
      "cell_type": "markdown",
      "source": [
        "**CON WHILE**"
      ],
      "metadata": {
        "id": "w88Eb8UppvUF"
      }
    },
    {
      "cell_type": "code",
      "source": [
        "def suma_recorrido_total_con_while(lista: list)-> int:\n",
        "  i = 0\n",
        "  suma = 0\n",
        "  while i < len(lista):\n",
        "    suma += lista[i]\n",
        "    i+=1\n",
        "  return suma\n",
        "print(suma_recorrido_total_con_while([3, 6, 9, 12, 15, 18]))"
      ],
      "metadata": {
        "colab": {
          "base_uri": "https://localhost:8080/"
        },
        "id": "T4B7FhS2l5uf",
        "outputId": "5ff552bb-311d-40fe-92bb-55d23a1dca9f"
      },
      "execution_count": null,
      "outputs": [
        {
          "output_type": "stream",
          "name": "stdout",
          "text": [
            "63\n"
          ]
        }
      ]
    },
    {
      "cell_type": "markdown",
      "source": [
        "**CON FOR-IN RANGE**"
      ],
      "metadata": {
        "id": "YM37KMPKqMNR"
      }
    },
    {
      "cell_type": "code",
      "source": [
        "def suma_recorrido_total_con_for_in_range(lista: list)-> int:\n",
        "  suma = 0\n",
        "  for i in range(0, len(lista)):\n",
        "    suma += lista[i]\n",
        "  return suma\n",
        "print(suma_recorrido_total_con_for_in_range([3, 6, 9, 12, 15, 18]))"
      ],
      "metadata": {
        "colab": {
          "base_uri": "https://localhost:8080/"
        },
        "id": "G-xRD2IFqFgc",
        "outputId": "fbbdcbf1-8ff1-4c6b-e250-10341b974fe9"
      },
      "execution_count": null,
      "outputs": [
        {
          "output_type": "stream",
          "name": "stdout",
          "text": [
            "63\n"
          ]
        }
      ]
    },
    {
      "cell_type": "markdown",
      "source": [
        "**CON FOR-IN**"
      ],
      "metadata": {
        "id": "z5K7acFlqnil"
      }
    },
    {
      "cell_type": "code",
      "source": [
        "def suma_recorrido_total_con_for_in(lista: list)-> int:\n",
        "  suma = 0\n",
        "  for i in lista:\n",
        "    suma += i\n",
        "  return suma\n",
        "print(suma_recorrido_total_con_for_in([3, 6, 9, 12, 15, 18]))"
      ],
      "metadata": {
        "colab": {
          "base_uri": "https://localhost:8080/"
        },
        "id": "Xu2UIickqlOj",
        "outputId": "5c61782f-10ae-4d19-db4f-17e0714a0116"
      },
      "execution_count": null,
      "outputs": [
        {
          "output_type": "stream",
          "name": "stdout",
          "text": [
            "63\n"
          ]
        }
      ]
    },
    {
      "cell_type": "markdown",
      "source": [
        "# Patrones de recorrido parcial"
      ],
      "metadata": {
        "id": "vAETmTZirr2n"
      }
    },
    {
      "cell_type": "markdown",
      "source": [
        "Un recorrido parcial SOLO se puede implementar con la instrucción iterativa WHILE. WHILE con centinela o sin centinela. Un recorrido parcial NO se puede implementar con for-in porque es necesario interrumpir el ciclo cuando se encuentra la condición buscada."
      ],
      "metadata": {
        "id": "damEzth-r5Xg"
      }
    },
    {
      "cell_type": "markdown",
      "source": [
        "**WHILE CON CENTINELA:**"
      ],
      "metadata": {
        "id": "OMeXq3iYsY9c"
      }
    },
    {
      "cell_type": "code",
      "source": [
        "def posicion_recorrido_parcial_con_centinela(lista: list, buscado: int)-> int:\n",
        "  i = 0\n",
        "  posicion = -1\n",
        "  encontrado = False\n",
        "  while i < len(lista) and encontrado == False:\n",
        "    if buscado == lista[i]:\n",
        "      encontrado = True \n",
        "      posicion = i \n",
        "    i += 1\n",
        "  return posicion\n",
        "print(posicion_recorrido_parcial_con_centinela([4, 3, 2, 6, 7], 6))"
      ],
      "metadata": {
        "colab": {
          "base_uri": "https://localhost:8080/"
        },
        "id": "s3xte34BqzUS",
        "outputId": "98c49ca3-de94-4615-e1fe-234bd4d96a50"
      },
      "execution_count": null,
      "outputs": [
        {
          "output_type": "stream",
          "name": "stdout",
          "text": [
            "3\n"
          ]
        }
      ]
    },
    {
      "cell_type": "markdown",
      "source": [
        "**WHILE SIN CENTINELA:**"
      ],
      "metadata": {
        "id": "nR9Y5GuItqM-"
      }
    },
    {
      "cell_type": "code",
      "source": [
        "def posicion_recorrido_parcial_sin_centinela(lista: list, buscado: int)-> int:\n",
        "  i = 0\n",
        "  posicion = -1\n",
        "  while i < len(lista):\n",
        "    if buscado == lista[i]:\n",
        "      posicion = i\n",
        "      break \n",
        "    i += 1\n",
        "  return posicion\n",
        "print(posicion_recorrido_parcial_sin_centinela([4, 3, 2, 6, 7], 6))"
      ],
      "metadata": {
        "colab": {
          "base_uri": "https://localhost:8080/"
        },
        "id": "YZbMiXY4tFr2",
        "outputId": "d30cee50-f006-463e-bd97-fffbbd3840f3"
      },
      "execution_count": null,
      "outputs": [
        {
          "output_type": "stream",
          "name": "stdout",
          "text": [
            "3\n"
          ]
        }
      ]
    },
    {
      "cell_type": "markdown",
      "source": [
        "**OTRA FORMA DE SOLUCIÓN SIN CENTINELA:**"
      ],
      "metadata": {
        "id": "dxpqKu2pugRN"
      }
    },
    {
      "cell_type": "code",
      "source": [
        "def posicion_recorrido_parcial_sin_centinela_v2(lista: list, buscado: int)-> int:\n",
        "  i = 0\n",
        "  while i < len(lista) and lista[i] != buscado:\n",
        "    i += 1\n",
        "\n",
        "  if (i == len(lista)):\n",
        "    posicion = -1\n",
        "  else:\n",
        "    posicion = i\n",
        "  return posicion\n",
        "print(posicion_recorrido_parcial_sin_centinela_v2([4, 3, 2, 6, 7], 6))"
      ],
      "metadata": {
        "colab": {
          "base_uri": "https://localhost:8080/"
        },
        "id": "e7MiHkXjuC3j",
        "outputId": "d59392be-23ce-4485-eccf-331f8b77d173"
      },
      "execution_count": null,
      "outputs": [
        {
          "output_type": "stream",
          "name": "stdout",
          "text": [
            "3\n"
          ]
        }
      ]
    },
    {
      "cell_type": "markdown",
      "source": [
        "**MANOS A LA OBRA: Inserción en lista ordenada de strings**\n",
        "\n",
        "-Escriba una función que reciba por parámetro una lista de strings que está ordenada y una cadena para que la inserte dentro de la lista de tal manera que mantenga la lista ordenada. La función retorna la lista modificada.\n",
        "\n",
        "-Escriba el programa principal que:\n",
        "\n",
        "-Cree una lista vacía\n",
        "\n",
        "-Vaya pidiendo al usuario una secuencia de strings, una por una y los vaya añadiendo progresivamente a la lista, utilizando la función anterior. El programa termina cuando el usuario teclea \"terminar\".\n"
      ],
      "metadata": {
        "id": "-RU3xsQKQHvR"
      }
    },
    {
      "cell_type": "code",
      "source": [
        "def lista_strings_ordenados(lista: list, cadena: str)-> list:\n",
        "  ward = True\n",
        "\n",
        "  while ward:\n",
        "    cadena = input('Cadena: ')\n",
        "    lista.append(cadena)\n",
        "    lista.sort()\n",
        "    lista.remove('terminar')\n",
        "    if cadena == 'terminar':\n",
        "      ward = False\n",
        "      break\n",
        "        \n",
        "  return lista\n",
        "\n",
        "lista = ['Colombia', 'Italia', 'Alemania', 'Francia', 'Suiza', 'Brasil', 'Chile', 'Dinamarca', 'Argentina']\n",
        "lista_ordenada = lista_strings_ordenados(lista, cadena)\n",
        "print(lista_ordenada)"
      ],
      "metadata": {
        "id": "XciXo3IPu5_d",
        "colab": {
          "base_uri": "https://localhost:8080/"
        },
        "outputId": "945a0f98-ad46-4f7d-e50d-4b88dfcf36b4"
      },
      "execution_count": null,
      "outputs": [
        {
          "output_type": "stream",
          "name": "stdout",
          "text": [
            "Cadena: terminar\n",
            "['Alemania', 'Argentina', 'Brasil', 'Chile', 'Colombia', 'Dinamarca', 'Francia', 'Italia', 'Suiza']\n"
          ]
        }
      ]
    },
    {
      "cell_type": "markdown",
      "source": [
        "Otra forma de solución:"
      ],
      "metadata": {
        "id": "sjF7U_fhWiAR"
      }
    },
    {
      "cell_type": "code",
      "source": [
        "def insertar_ordenado(lista: list, cadena: str)-> list:\n",
        "  i = 0\n",
        "\n",
        "  while i < len(lista) and cadena > lista[i]:\n",
        "    i += 1\n",
        "  lista.insert(i, cadena)\n",
        "  return lista\n",
        "\n",
        "lista = []\n",
        "palabra = input('Ingrese la primera palabra de la lista o ingrese terminar para finalizar: ')\n",
        "\n",
        "while palabra != 'terminar':\n",
        "  insertar_ordenado(lista, palabra)\n",
        "  palabra = input('Ingrese la primera palabra de la lista o ingrese terminar para finalizar: ')\n",
        "\n",
        "print(lista)"
      ],
      "metadata": {
        "colab": {
          "base_uri": "https://localhost:8080/"
        },
        "id": "2-xM570PRP8s",
        "outputId": "2d2d84bb-14cd-4709-d648-b44658eb88ee"
      },
      "execution_count": null,
      "outputs": [
        {
          "output_type": "stream",
          "name": "stdout",
          "text": [
            "Ingrese la primera palabra de la lista o ingrese terminar para finalizar: Colombia\n",
            "Ingrese la primera palabra de la lista o ingrese terminar para finalizar: Italia\n",
            "Ingrese la primera palabra de la lista o ingrese terminar para finalizar: Alemania\n",
            "Ingrese la primera palabra de la lista o ingrese terminar para finalizar: Francia\n",
            "Ingrese la primera palabra de la lista o ingrese terminar para finalizar: Suiza\n",
            "Ingrese la primera palabra de la lista o ingrese terminar para finalizar: Brasil\n",
            "Ingrese la primera palabra de la lista o ingrese terminar para finalizar: terminar\n",
            "['Alemania', 'Brasil', 'Colombia', 'Francia', 'Italia', 'Suiza']\n"
          ]
        }
      ]
    },
    {
      "cell_type": "markdown",
      "source": [
        "**MANOS A LA OBRA: Palabras intercaladas**"
      ],
      "metadata": {
        "id": "t84bq67VaKKm"
      }
    },
    {
      "cell_type": "code",
      "source": [
        "def intercalar_palabras(cad1: str, cad2: str)-> str:\n",
        "  resultado = \"\"\n",
        "  \n",
        "  palabras_1 = cad1.split()\n",
        "  palabras_2 = cad2.split()\n",
        "\n",
        "  for i in range(0, len(palabras_1)):\n",
        "    resultado += (palabras_1[i]) + \" \" + (palabras_2[i]) + \" \"\n",
        "    \n",
        "  return resultado\n",
        "\n",
        "print(intercalar_palabras('La casa está cerca río', 'linda no muy del grande'))    "
      ],
      "metadata": {
        "colab": {
          "base_uri": "https://localhost:8080/"
        },
        "id": "N1ZzKZ_0YOxT",
        "outputId": "9ee9d379-db74-4389-ee57-fe4856e3ab7a"
      },
      "execution_count": null,
      "outputs": [
        {
          "output_type": "stream",
          "name": "stdout",
          "text": [
            "La linda casa no está muy cerca del río grande \n"
          ]
        }
      ]
    },
    {
      "cell_type": "markdown",
      "source": [
        "**MANOS A LA OBRA: Hora de llegada de vuelos**"
      ],
      "metadata": {
        "id": "gsY7yefSzXxy"
      }
    },
    {
      "cell_type": "markdown",
      "source": [
        "Una secretaria de viajes necesita indicarle a sus clientes las horas de llegada de los vuelos del día. La secretaria conoce el tiempo de partida del vuelo (en horas, minutos y segundos). Por ejemplo, si un avión partió a las 11:48:10 y el vuelo dura 2:11:58, la hora de llegada sería 14:00:08. Puede suponer que los vuelos llegan el mismo día de la partida.\n",
        "\n",
        "-Escriba una función que reciba una lista de diccionarios con la información de cada vuelo (hora de partida y duración) y retorne otra lista de diccionarios con la hora de llegada de cada uno.\n",
        "\n",
        "-Escriba otra función que retorne el vuelo (diccionario) que llega más tarde."
      ],
      "metadata": {
        "id": "9Q5U9n_Gzco1"
      }
    },
    {
      "cell_type": "code",
      "source": [
        "def calcular_hora_llegada(hora_salida: int, minutos_salida: int, segundos_salida: int,\n",
        "                          horas_duracion: int, minutos_duracion: int, segundos_duracion: int)->str:\n",
        "    hora = 0\n",
        "    minutos = 0\n",
        "    segundos = 0\n",
        "\n",
        "    segundos = segundos_salida + segundos_duracion\n",
        "\n",
        "    if segundos >= 60:\n",
        "      segundos -= 60\n",
        "      minutos += 1\n",
        "\n",
        "    suma_minutos = minutos_salida + minutos_duracion\n",
        "    minutos += suma_minutos\n",
        "\n",
        "    if minutos >= 60:\n",
        "      minutos -= 60\n",
        "      hora += 1\n",
        "\n",
        "    suma_horas = hora_salida + horas_duracion\n",
        "    hora += suma_horas\n",
        "\n",
        "    return '{0:0>2d}:{1:0>2d}:{2:0>2d}'.format(hora, minutos, segundos)\n",
        "\n",
        "def hora_llegada_vuelos(info_vuelos: list)-> list:\n",
        "  llegadas = []\n",
        "\n",
        "  for vuelo in info_vuelos:\n",
        "    salida = vuelo['tiempo_salida']\n",
        "    duracion = vuelo['duracion']\n",
        "\n",
        "    partes_salida = salida.split(':')\n",
        "    partes_duracion = duracion.split(':')\n",
        "\n",
        "    hora_salida = int(partes_salida[0])\n",
        "    minutos_salida = int(partes_salida[1])\n",
        "    segundos_salida = int(partes_salida[2])\n",
        "\n",
        "    hora_duracion = int(partes_duracion[0])\n",
        "    minutos_duracion = int(partes_duracion[1])\n",
        "    segundos_duracion = int(partes_duracion[2])\n",
        "\n",
        "    tiempo_llegada = calcular_hora_llegada(hora_salida, minutos_salida, segundos_salida, hora_duracion, minutos_duracion, segundos_duracion)\n",
        "\n",
        "    dic_llegada = {\"tiempo_llegada\" : tiempo_llegada}\n",
        "    llegadas.append(dic_llegada)\n",
        "\n",
        "  return llegadas\n",
        "\n",
        "info_vuelos = [{'tiempo_salida': '08:11:45', 'duracion': '2:54:20',\n",
        "                'tiempo_salida': '11:48:10', 'duracion': '1:37:17'}]\n",
        "                \n",
        "llegada_vuelos = hora_llegada_vuelos(info_vuelos)\n",
        "print(llegada_vuelos)\n",
        "\n",
        "def comparar_tiempos(tiempo_1: str, tiempo_2: str)-> int:\n",
        "  partes_1 = tiempo_1.split(':')\n",
        "  partes_2 = tiempo_2.split(':')\n",
        "\n",
        "  hora_1 = int(partes_1[0])\n",
        "  minutos_1 = int(partes_1[1])\n",
        "  segundos_1 = int(partes_1[2])\n",
        "\n",
        "  hora_2 = int(partes_1[0])\n",
        "  minutos_2 = int(partes_2[1])\n",
        "  segundos_2 = int(partes_2[2])\n",
        "\n",
        "  comparar = 0\n",
        "\n",
        "  if hora_1 > hora_2:\n",
        "    comparar = 1\n",
        "  elif hora_1 < hora_2:\n",
        "    comparar = -1\n",
        "  else:\n",
        "    if minutos_1 > minutos_2:\n",
        "      comparar = 1\n",
        "    elif minutos_1 < minutos_2:\n",
        "      comparar = -1\n",
        "    else:\n",
        "      if segundos_1 > segundos_2:\n",
        "        comparar = 1\n",
        "      elif segundos_1 < segundos_2:\n",
        "        comparar = -1 \n",
        "  return comparar\n",
        "\n",
        "def vuelo_llega_mas_tarde(vuelos: list)-> dict:\n",
        "  llegadas = hora_llegada_vuelos(vuelos)\n",
        "\n",
        "  pos_mas_tarde = 0\n",
        "  llegada_mas_tarde = llegadas[0]['tiempo_llegada']\n",
        "\n",
        "  for i in range(0, len(llegadas)):\n",
        "    tiempo = llegadas[i]['tiempo_llegada']\n",
        "\n",
        "    if comparar_tiempos(tiempo, llegada_mas_tade) == 1:\n",
        "      pos_mas_tarde = i\n",
        "      llegada_mas_tarde = tiempo\n",
        "\n",
        "  return vuelos[pos_mas_tarde]"
      ],
      "metadata": {
        "colab": {
          "base_uri": "https://localhost:8080/"
        },
        "id": "0riInjj7fvMR",
        "outputId": "c2427aa8-86f2-4365-9e43-47ef20e05d24"
      },
      "execution_count": null,
      "outputs": [
        {
          "output_type": "stream",
          "name": "stdout",
          "text": [
            "[{'tiempo_llegada': '13:25:27'}]\n"
          ]
        }
      ]
    },
    {
      "cell_type": "markdown",
      "source": [
        "**RETO 7: Aproximación de notas**\n",
        "\n",
        "Una clase de la Universidad de los Andes tiene las siguientes reglas con respecto a las aproximaciones de las notas finales.  \n",
        "\n",
        "Si la nota es mayor o igual a 4.5, la nota se aproxima a 5.0.\n",
        "\n",
        "Si la nota es mayor o igual a 3.5 y menor a 4.5, la nota se aproxima a 4.0.\n",
        "\n",
        "Si la nota es mayor o igual a 2.5 y menor a 3.5, la nota se aproxima a 3.0.\n",
        "\n",
        "De lo contrario, la nota asignada será 1.5.  \n",
        "\n",
        "Teniendo una lista de diccionarios en donde cada uno corresponde a un estudiante y que tiene como llaves \"nombre\" y \"nota\" (sin aproximar), retorne una lista con todos los diccionarios actualizados con sus notas después de aproximación.\n",
        "\n",
        "Cada uno de los diccionarios retornados tiene las llaves \"nombre\" y \"nota\"(aproximada).\n",
        "\n",
        "Se garantiza que la lista tiene al menos un diccionario.  "
      ],
      "metadata": {
        "id": "Hyb0v79cBELT"
      }
    },
    {
      "cell_type": "code",
      "source": [
        "#RETO 7: Aproximación de notas\n",
        "def calcular_definitivas(estudiantes: list)-> list:\n",
        "  for i in range(0, len(estudiantes)):\n",
        "    if estudiantes[i]['nota'] >= 4.5:\n",
        "      estudiantes[i]['nota'] = 5.0\n",
        "    elif estudiantes[i]['nota'] >= 3.5 and estudiantes[i]['nota'] < 4.5:\n",
        "      estudiantes[i]['nota'] = 4.0\n",
        "    elif estudiantes[i]['nota'] >= 2.5 and estudiantes[i]['nota'] < 3.5:\n",
        "      estudiantes[i]['nota'] = 3.0\n",
        "    else:\n",
        "      estudiantes[i]['nota'] = 1.5\n",
        "\n",
        "  return estudiantes\n",
        "\n",
        "definitivas = [{'nombre': 'Juan Pablo', 'nota': 4.5},\n",
        "               {'nombre': 'Andrés', 'nota': 3.7},\n",
        "               {'nombre': 'Santiago', 'nota': 3.2},\n",
        "               {'nombre': 'Sebastián', 'nota': 2.3},\n",
        "               {'nombre': 'Samuel', 'nota': 4.1},\n",
        "               {'nombre': 'Sofía', 'nota': 2.5}]\n",
        "\n",
        "notas_finales = calcular_definitivas(definitivas)\n",
        "print(notas_finales)"
      ],
      "metadata": {
        "colab": {
          "base_uri": "https://localhost:8080/"
        },
        "id": "K4Bwc_B28MXA",
        "outputId": "ceb4878b-f9f6-479d-a4db-393609f0165f"
      },
      "execution_count": null,
      "outputs": [
        {
          "output_type": "stream",
          "name": "stdout",
          "text": [
            "[{'nombre': 'Juan Pablo', 'nota': 5.0}, {'nombre': 'Andrés', 'nota': 4.0}, {'nombre': 'Santiago', 'nota': 3.0}, {'nombre': 'Sebastián', 'nota': 1.5}, {'nombre': 'Samuel', 'nota': 4.0}, {'nombre': 'Sofía', 'nota': 3.0}]\n"
          ]
        }
      ]
    },
    {
      "cell_type": "markdown",
      "source": [
        "**RETO 8: Ash y la liga Kalos**\n",
        "\n",
        "Ash Ketchum, el personaje principal del anime Pokémon, está a punto de luchar en la final de la liga Kalos. En estos eventos compiten los mejores entrenadores del mundo en batallas donde cada entrenador puede tener 3, 4, 5 o 6 criaturas. Ash quiere saber, para una cantidad de criaturas específica, si él podrá formar un equipo únicamente con Pokémon seudolegendarios para competir en la final. Un pokemon seudolegendario es aquel que en la suma de sus estadísticas de combate tiene 600 puntos o más.\n",
        "\n",
        "Las estadísticas de combate de cada pokemon son 6:  \n",
        "\n",
        "\"ataque\"\n",
        "\n",
        "\"defensa\"\n",
        "\n",
        "\"ataque_especial\"\n",
        "\n",
        "\"defensa_especial\"\n",
        "\n",
        "\"velocidad\"\n",
        "\n",
        "\"vida\"  \n",
        "\n",
        "Escriba una función que, dada una lista de diccionarios (cada uno representando un pokémon) con las anteriores estadísticas, determine si Ash podrá formar un equipo de pokémon seudolegendarios para afrontar la final de la liga. En caso que Ash pueda formar un equipo, retorne una lista con los nombres de las criaturas que Ash utilizaría en la batalla. Si es imposible generar un equipo que cumpla con las condiciones, retorne None.\n",
        "\n",
        "Se garantiza que en caso de poder formar un equipo válido, solamente habrá una configuración posible.  \n",
        "\n",
        "La lista de retorno debe componerse únicamente de cadenas de caracteres y debe tener el mismo orden de la lista que llega por parámetro.  "
      ],
      "metadata": {
        "id": "rnXwi-MqENNU"
      }
    },
    {
      "cell_type": "code",
      "source": [
        "#RETO 8: Ash y la liga Kalos\n",
        "def construir_equipo_pokemon(cantidad: int, lista_pkmn: list)-> list:\n",
        "  pokemones = []\n",
        "  sum_estadisticas = 0\n",
        "  for i in range(0, len(lista_pkmn)):\n",
        "    sum_estadisticas -= sum_estadisticas\n",
        "    \n",
        "    sum_estadisticas += lista_pkmn[i]['ataque']\n",
        "    sum_estadisticas += lista_pkmn[i]['defensa']\n",
        "    sum_estadisticas += lista_pkmn[i]['ataque_especial']\n",
        "    sum_estadisticas += lista_pkmn[i]['defensa_especial']\n",
        "    sum_estadisticas += lista_pkmn[i]['velocidad']\n",
        "    sum_estadisticas += lista_pkmn[i]['vida']\n",
        "        \n",
        "    if sum_estadisticas >= 600:\n",
        "      pokemones.append(lista_pkmn[i]['nombre'])\n",
        "    elif pokemones == []:\n",
        "      pokemones = None\n",
        "      break\n",
        "\n",
        "    if len(pokemones) > cantidad:\n",
        "      pokemones.pop()\n",
        "\n",
        "  return pokemones\n",
        "\n",
        "pokemones = [{'nombre': 'Giratina', 'ataque': 120, 'defensa': 110, 'ataque_especial': 95, 'defensa_especial': 130, 'velocidad': 180, 'vida': 172},\n",
        "             {'nombre': 'Arceus', 'ataque': 120, 'defensa': 120, 'ataque_especial': 120, 'defensa_especial': 120, 'velocidad': 95, 'vida': 120},\n",
        "             {'nombre': 'Staravia', 'ataque': 9, 'defensa': 11, 'ataque_especial': 95, 'defensa_especial': 30, 'velocidad': 80, 'vida': 72},\n",
        "             {'nombre': 'Deoxys', 'ataque': 200, 'defensa': 200, 'ataque_especial': 200, 'defensa_especial': 30, 'velocidad': 150, 'vida': 120},\n",
        "             {'nombre': 'Bidoof', 'ataque': 10, 'defensa': 110, 'ataque_especial': 30, 'defensa_especial': 25, 'velocidad': 80, 'vida': 72}]\n",
        "\n",
        "equipo = construir_equipo_pokemon(6, pokemones)\n",
        "print(equipo)"
      ],
      "metadata": {
        "colab": {
          "base_uri": "https://localhost:8080/"
        },
        "id": "Wr0ftyojCpot",
        "outputId": "16674581-c0c3-42a4-fe49-288f6ec8bde7"
      },
      "execution_count": null,
      "outputs": [
        {
          "output_type": "stream",
          "name": "stdout",
          "text": [
            "['Giratina', 'Arceus', 'Deoxys']\n"
          ]
        }
      ]
    },
    {
      "cell_type": "markdown",
      "source": [
        "# Recorrido de diccionarios"
      ],
      "metadata": {
        "id": "7mrvHgXmTXxC"
      }
    },
    {
      "cell_type": "markdown",
      "source": [
        "Aunque los diccionarios no son una estructura de datos secuencial (es decir, no hay noción de orden), si es posible recorrerlos. Existen dos opciones:\n",
        "\n",
        "-Recorrer las llaves.\n",
        "\n",
        "-Recorrer los valores."
      ],
      "metadata": {
        "id": "777Dq-AXTg9Z"
      }
    },
    {
      "cell_type": "markdown",
      "source": [
        "Consideremos el siguiente diccionario:"
      ],
      "metadata": {
        "id": "bUBLqxJUVT6q"
      }
    },
    {
      "cell_type": "code",
      "source": [
        "d = {}\n",
        "d['Juan'] = '300 235 87 45'\n",
        "d['Luis'] = '311 986 25 43'\n",
        "d['Ana'] = '320 285 74 66'\n",
        "d['Maria'] = '315 667 15 16'\n",
        "print(d)"
      ],
      "metadata": {
        "colab": {
          "base_uri": "https://localhost:8080/"
        },
        "id": "UjI21GTdKNhX",
        "outputId": "55e5068e-c5cd-4eae-870e-20c5939a098f"
      },
      "execution_count": null,
      "outputs": [
        {
          "output_type": "stream",
          "name": "stdout",
          "text": [
            "{'Juan': '300 235 87 45', 'Luis': '311 986 25 43', 'Ana': '320 285 74 66', 'Maria': '315 667 15 16'}\n"
          ]
        }
      ]
    },
    {
      "cell_type": "markdown",
      "source": [
        "**Recorrido de llaves:**"
      ],
      "metadata": {
        "id": "Lx39N7fAVsyI"
      }
    },
    {
      "cell_type": "markdown",
      "source": [
        "Por defecto, la instrucción FOR-IN recorre las llaves del diccionario."
      ],
      "metadata": {
        "id": "-VQpmxAiVz7a"
      }
    },
    {
      "cell_type": "code",
      "source": [
        "for elemento in d:\n",
        "  print(elemento)"
      ],
      "metadata": {
        "colab": {
          "base_uri": "https://localhost:8080/"
        },
        "id": "S9ecvWYnVou1",
        "outputId": "aa3cf7e0-a01a-476e-d0db-c0fb13bf7746"
      },
      "execution_count": null,
      "outputs": [
        {
          "output_type": "stream",
          "name": "stdout",
          "text": [
            "Juan\n",
            "Luis\n",
            "Ana\n",
            "Maria\n"
          ]
        }
      ]
    },
    {
      "cell_type": "markdown",
      "source": [
        "Con el método keys() también podemos recorrer las llaves del diccionario."
      ],
      "metadata": {
        "id": "rWjLBb2kV_iI"
      }
    },
    {
      "cell_type": "code",
      "source": [
        "for llave in d.keys():\n",
        "  print(llave)"
      ],
      "metadata": {
        "colab": {
          "base_uri": "https://localhost:8080/"
        },
        "id": "3eNum5Q3VwfQ",
        "outputId": "62ea07b4-13f3-40b5-d2dd-2b15ad7c00fc"
      },
      "execution_count": null,
      "outputs": [
        {
          "output_type": "stream",
          "name": "stdout",
          "text": [
            "Juan\n",
            "Luis\n",
            "Ana\n",
            "Maria\n"
          ]
        }
      ]
    },
    {
      "cell_type": "markdown",
      "source": [
        "**Recorrido de valores:**"
      ],
      "metadata": {
        "id": "2wJMNtHdWTnP"
      }
    },
    {
      "cell_type": "markdown",
      "source": [
        "También podemos recorrer únicamente los valores del diccionario usando el métodos values."
      ],
      "metadata": {
        "id": "temHY3BjWVyl"
      }
    },
    {
      "cell_type": "code",
      "source": [
        "for valores in d.values():\n",
        "  print(valores)"
      ],
      "metadata": {
        "colab": {
          "base_uri": "https://localhost:8080/"
        },
        "id": "Q9zMALGsWHg1",
        "outputId": "2b250dda-64b9-41ee-f989-8913b9f2347a"
      },
      "execution_count": null,
      "outputs": [
        {
          "output_type": "stream",
          "name": "stdout",
          "text": [
            "300 235 87 45\n",
            "311 986 25 43\n",
            "320 285 74 66\n",
            "315 667 15 16\n"
          ]
        }
      ]
    },
    {
      "cell_type": "markdown",
      "source": [
        "**Recorrido simultaneo:**\n",
        "\n",
        "Si queremos recorrer tanto llaves como valores de un diccionario a la vez, podemos utilizar el siguiente fragmento de código:"
      ],
      "metadata": {
        "id": "1Na9Q9dUXFLC"
      }
    },
    {
      "cell_type": "code",
      "source": [
        "for cada_valor in d:\n",
        "  print(cada_valor, \":\", d[cada_valor])"
      ],
      "metadata": {
        "colab": {
          "base_uri": "https://localhost:8080/"
        },
        "id": "wdL3UOSdWgiX",
        "outputId": "d764b41d-a242-4afe-dd8c-a18daa31e12d"
      },
      "execution_count": null,
      "outputs": [
        {
          "output_type": "stream",
          "name": "stdout",
          "text": [
            "Juan : 300 235 87 45\n",
            "Luis : 311 986 25 43\n",
            "Ana : 320 285 74 66\n",
            "Maria : 315 667 15 16\n"
          ]
        }
      ]
    },
    {
      "cell_type": "markdown",
      "source": [
        "Esto se debe a que la variable iterativa \"cada_valor\", almacena por defecto las llaves del diccionario, y al invocar el valor de cada llave del diccionario podemos imprimir su respectivo valor."
      ],
      "metadata": {
        "id": "0NcNEFV6XYSQ"
      }
    },
    {
      "cell_type": "markdown",
      "source": [
        "**RETO 9: El novio tacaño**"
      ],
      "metadata": {
        "id": "gBDWh7JNXo9A"
      }
    },
    {
      "cell_type": "markdown",
      "source": [
        "Nicolás es un novio muy amoroso, pero tiene fama de ser tacaño. Para el cumpleaños de su novia ha pedido un catálogo de artículos para escoger el regalo más barato disponible. El catálogo es un diccionario que tiene varias llaves que corresponden al nombre de los productos. El valor asociado a cada llave es el precio del producto.\n",
        "\n",
        "Cree una función que retorne el nombre del artículo más barato en el catálogo.\n",
        "\n",
        "Si Nicolás encuentra dos artículos igual de baratos, comprará el que tenga el nombre alfabéticamente menor (el que aparecería antes en el diccionario ignorando las mayúsculas y minúsculas).\n",
        "\n",
        "Si el artículo más barato vale más de 10.000 pesos, Nicolás no comprará nada e invitará a su novia a ver una película en su casa.  "
      ],
      "metadata": {
        "id": "lgjaM3ybXs8c"
      }
    },
    {
      "cell_type": "code",
      "source": [
        "#RETO 9: El novio tacaño\n",
        "def producto_mas_barato(catalogo: dict)-> str:\n",
        "  eleccion = \"\"\n",
        "  precio_minimo = 0\n",
        "  \n",
        "  if catalogo == {}:\n",
        "    eleccion = \"No hay productos para escoger\"\n",
        "  else:\n",
        "    precio_minimo = min(catalogo.values())\n",
        "  \n",
        "  productos_baratos = []\n",
        "  \n",
        "  if precio_minimo < 10000:\n",
        "    for articulo in catalogo:\n",
        "      if catalogo[articulo] == precio_minimo:\n",
        "        productos_baratos.append(articulo)\n",
        "        productos_baratos.sort()\n",
        "        eleccion = productos_baratos[0]\n",
        "  else:\n",
        "    eleccion = None    \n",
        "\n",
        "  return eleccion\n",
        "\n",
        "catalogo = {'flores': 20000, 'collar': 200, 'diadema': 200, 'celular': 100000, 'chocolates': 800000}\n",
        "regalo_elegido = producto_mas_barato({})\n",
        "print(regalo_elegido)"
      ],
      "metadata": {
        "colab": {
          "base_uri": "https://localhost:8080/"
        },
        "id": "gKbaStzAXSo-",
        "outputId": "47962ca7-5b40-4f82-b8c2-94eefbde0f02"
      },
      "execution_count": null,
      "outputs": [
        {
          "output_type": "stream",
          "name": "stdout",
          "text": [
            "No hay productos para escoger\n"
          ]
        }
      ]
    },
    {
      "cell_type": "markdown",
      "source": [
        "**RETO 10: Producto más caro de un carro de compras**\n",
        "\n",
        "Catalina necesita llevar un mejor control de sus gastos cuando hace mercado. Para esto, ha decidido construir una aplicación para registrar cada producto que agregue en su carrito de compras. Estos datos son guardados en un diccionario cuyas llaves corresponden a los nombres de los productos. El valor asociado a cada llave es el precio del producto correspondiente.\n",
        "\n",
        "Cree una función que retorne el nombre del producto más costoso del carrito de compras. Si se encuentran dos productos igual de costosos (siendo los más costosos del carro), la función retorna el menor alfabéticamente. Por ejemplo, si los 'bananos' que compra Catalina costaran los mismo que las 'chocolatinas', la función retornaría 'bananos'  "
      ],
      "metadata": {
        "id": "Uk6zbprOl4g1"
      }
    },
    {
      "cell_type": "code",
      "source": [
        "#RETO 10: Producto más caro de un carro de compras\n",
        "def producto_mas_costoso(carrito_compras: dict)-> str:\n",
        "  compra = \"\"\n",
        "\n",
        "  if carrito_compras == {}:\n",
        "    compra = \"No hay productos en el carrito\"\n",
        "  else:\n",
        "    maximo_precio = max(carrito_compras.values())\n",
        "\n",
        "  productos_caros = []\n",
        "\n",
        "  for precio in carrito_compras:\n",
        "    if carrito_compras[precio] == maximo_precio:\n",
        "      productos_caros.append(precio)\n",
        "      productos_caros.sort()\n",
        "      compra = productos_caros[0]    \n",
        "\n",
        "  return compra\n",
        "\n",
        "productos = {'chocolatinas': 2000, 'bananos': 2000, 'arandanos': 2000}\n",
        "compra = producto_mas_costoso(productos)\n",
        "print(compra)"
      ],
      "metadata": {
        "colab": {
          "base_uri": "https://localhost:8080/"
        },
        "id": "Gk9i0SNVakZP",
        "outputId": "41d079c4-73fb-49b3-b90e-4b93d88a6594"
      },
      "execution_count": null,
      "outputs": [
        {
          "output_type": "stream",
          "name": "stdout",
          "text": [
            "arandanos\n"
          ]
        }
      ]
    },
    {
      "cell_type": "markdown",
      "source": [
        "**RETO 11: Costo total de un carro de compras**\n",
        "\n",
        "Catalina necesita llevar un mejor control de sus gastos cuando hace mercado. Para esto, ha decidido construir una aplicación para registrar cada producto que agregue en su carrito de compras. Estos datos son guardados en un diccionario cuyas llaves corresponden a los nombres de los productos. El valor asociado a cada llave es el precio del producto correspondiente.\n",
        "\n",
        "Cree una función que retorne el valor total del carrito de compras. Esto es, la suma de los precios individuales de todos los productos que están en el carrito.  "
      ],
      "metadata": {
        "id": "prPODH1-0xtP"
      }
    },
    {
      "cell_type": "code",
      "source": [
        "#RETO 11: Costo total de un carro de compras\n",
        "def valor_carrito_compras(carrito_compras: dict)-> float:\n",
        "  suma_valores = 0\n",
        "\n",
        "  for precios in carrito_compras.values():\n",
        "    suma_valores += precios\n",
        "\n",
        "  return suma_valores\n",
        "\n",
        "productos = {'chocolatinas': 6300, 'bananos': 2000, 'arandanos': 1500}\n",
        "total_compra = valor_carrito_compras(productos)\n",
        "print(total_compra)"
      ],
      "metadata": {
        "colab": {
          "base_uri": "https://localhost:8080/"
        },
        "id": "jBAVz1Mkw615",
        "outputId": "7f7fe25c-c2f3-41c4-e541-ba67f1b3e6fb"
      },
      "execution_count": null,
      "outputs": [
        {
          "output_type": "stream",
          "name": "stdout",
          "text": [
            "9800\n"
          ]
        }
      ]
    },
    {
      "cell_type": "markdown",
      "source": [
        "# Manejo de archivos y datos complejos"
      ],
      "metadata": {
        "id": "KqgWtzR-6UMC"
      }
    },
    {
      "cell_type": "markdown",
      "source": [
        "**ARCHIVOS**"
      ],
      "metadata": {
        "id": "-nOYl4DZ61m-"
      }
    },
    {
      "cell_type": "markdown",
      "source": [
        "Desde el punto de vista de la programación, los archivos son objetos en los que podemos escribir y/o leer información. El trabajo con archivos obliga siempre a seguir 3 pasos: \n",
        "\n",
        "-Abrir el archivo.\n",
        "\n",
        "-Leer o escribir la información que se desea.\n",
        "\n",
        "-Cerrar el archivo."
      ],
      "metadata": {
        "id": "7_qO8dqm6h2I"
      }
    },
    {
      "cell_type": "markdown",
      "source": [
        "Paso 1: abrir el archivo\n",
        "\n",
        "-Se hace con la instrucción open\n",
        "\n",
        "-Debemos indicar su nombre incluyendo la ruta (relativa o absoluta) y el modo de trabajo:\n",
        "\n",
        "Lectura(r): es posible leer la información del archivo pero no modificarla ni añadir nueva información.\n",
        "\n",
        "Escritura(w): solo es posible escribir información en el archivo. La apertura de un archivo en modo escritura borra todo el contenido previo del mismo.\n",
        "\n",
        "Adición(a): permite añadir nueva información al objeto, conservando la información existente."
      ],
      "metadata": {
        "id": "Sq9lyhFM7J52"
      }
    },
    {
      "cell_type": "markdown",
      "source": [
        "Paso 2: leer o escribir línea por línea\n",
        "\n",
        "-Para leer un archivo usamos la instrucción readline.\n",
        "\n",
        "-Para escribir usamos la instrucción write."
      ],
      "metadata": {
        "id": "1aP0baaj9vSE"
      }
    },
    {
      "cell_type": "markdown",
      "source": [
        "Paso 3: cerrar el archivo\n",
        "\n",
        "-Se hace con la instrucción close.\n",
        "\n",
        "-Es MUY importante cerrar todos los archivos tan pronto hayamos terminado de trabajar con ellos, especialmente si se han modificado."
      ],
      "metadata": {
        "id": "v4pCwJHi-DmP"
      }
    },
    {
      "cell_type": "markdown",
      "source": [
        "**EJEMPLO: Lectura de archivo**"
      ],
      "metadata": {
        "id": "UrkRzLdL-8Px"
      }
    },
    {
      "cell_type": "code",
      "source": [
        "archivo = open(\"Gabo.txt\", \"r\")\n",
        "\n",
        "linea = archivo.readline()\n",
        "\n",
        "while linea != \"\":\n",
        "  print(linea)\n",
        "  linea = archivo.readline()\n",
        "\n",
        "archivo.close()"
      ],
      "metadata": {
        "id": "gWuQaTjp1gHW",
        "colab": {
          "base_uri": "https://localhost:8080/"
        },
        "outputId": "fc218a3f-3ba7-48bc-c73c-1eaee9ca5996"
      },
      "execution_count": null,
      "outputs": [
        {
          "output_type": "stream",
          "name": "stdout",
          "text": [
            "Gabriel José de la Concordia García Márquez\n",
            "\n",
            "Aracataca, 6 de marzo de 1927\n",
            "\n",
            "Ciudad de México, 17 de abril de 2014\n",
            "\n",
            "Escritor, guionista, editor y periodista colombiano.\n",
            "\n",
            "En 1982 recibió el Premio Nobel de Literatura.\n",
            "\n",
            "Fue conocido por su apodo Gabo y familiarmente y \n",
            "\n",
            "por sus amigos como Gabito (hipocorístico guajiro de Gabriel)\n"
          ]
        }
      ]
    },
    {
      "cell_type": "markdown",
      "source": [
        "**EJEMPLO: Escritura de archivo**"
      ],
      "metadata": {
        "id": "foCPZ7m8_rVi"
      }
    },
    {
      "cell_type": "code",
      "source": [
        "mi_archivo = open(\"virus.txt\", \"w\") #Si el archivo no existe, Python lo crea por defecto.\n",
        "\n",
        "mi_archivo.write(\"Test de creación de archivos con Python\")\n",
        "mi_archivo.write(\"\\n -----------------------------------\")\n",
        "\n",
        "mi_archivo.close()"
      ],
      "metadata": {
        "id": "GvQDwZ5o_VYM"
      },
      "execution_count": null,
      "outputs": []
    },
    {
      "cell_type": "markdown",
      "source": [
        "**DATOS COMPLEJOS**\n",
        "\n",
        "**¿CÓMO ES UN DICCIONARIO DE DICCIONARIOS?**"
      ],
      "metadata": {
        "id": "caONeRarBIFG"
      }
    },
    {
      "cell_type": "markdown",
      "source": [
        "¿Cuándo necesitamos estructuras más complejas?\n",
        "\n",
        "Así creamos el diccionario de diccionarios en Python"
      ],
      "metadata": {
        "id": "JBt1eF78BWZa"
      }
    },
    {
      "cell_type": "code",
      "source": [
        "directorio = {}\n",
        "\n",
        "directorio['Juan Pablo'] = {\"celular\": \"304 204 74 23\", \"mail\": \"jpaguilarc@eafit.edu.co\", \"cumple\": \"07-04\"}\n",
        "directorio['Sebastián'] = {\"celular\": \"320 225 60 97\", \"mail\": \"sebas32@gmail.com\", \"cumple\":\"27-09\"}\n",
        "directorio['Valentina'] = {\"celular\": \"323 585 10 98\", \"mail\":\"valenr62@hotmail.com\", \"cumple\": \"08-10\"}\n",
        "\n",
        "for cada_clave in directorio:\n",
        "  print(cada_clave, \"->\", directorio[cada_clave])"
      ],
      "metadata": {
        "colab": {
          "base_uri": "https://localhost:8080/"
        },
        "id": "2s_er2MsAlrf",
        "outputId": "acbe36cf-83c8-4335-8483-aee7c750f7e7"
      },
      "execution_count": null,
      "outputs": [
        {
          "output_type": "stream",
          "name": "stdout",
          "text": [
            "Juan Pablo -> {'celular': '304 204 74 23', 'mail': 'jpaguilarc@eafit.edu.co', 'cumple': '07-04'}\n",
            "Sebastián -> {'celular': '320 225 60 97', 'mail': 'sebas32@gmail.com', 'cumple': '27-09'}\n",
            "Valentina -> {'celular': '323 585 10 98', 'mail': 'valenr62@hotmail.com', 'cumple': '08-10'}\n"
          ]
        }
      ]
    },
    {
      "cell_type": "markdown",
      "source": [
        "**Trabajando con datos más complejos**"
      ],
      "metadata": {
        "id": "N-vctk7nDS26"
      }
    },
    {
      "cell_type": "code",
      "source": [
        "vuelos = {}\n",
        "\n",
        "vuelos[\"XE2679\"] = {\"aerolinea\": \"XE\", \"origen\":\"EWR\", \"destino\": \"MYR\",\n",
        "                    \"distancia\":\"550\", \"salida\":\"110\", \"duracion\":\"113\",\"retraso\":\"18\"}\n",
        "\n",
        "vuelos[\"YV7138\"] = {\"aerolinea\": \"YV\", \"origen\":\"ORD\", \"destino\": \"ABE\",\n",
        "                    \"distancia\":\"654\", \"salida\":\"1427\", \"duracion\":\"220\",\"retraso\":\"43\"}\n",
        "\n",
        "vuelos[\"OO2880\"] = {\"aerolinea\": \"OO\", \"origen\":\"WRG\", \"destino\": \"COM\",\n",
        "                    \"distancia\":\"134\", \"salida\":\"1852\", \"duracion\":\"50\",\"retraso\":\"104\"}\n",
        "\n",
        "vuelos[\"UA63\"] = {\"aerolinea\": \"UA\", \"origen\":\"MSP\", \"destino\": \"DEN\",\n",
        "                    \"distancia\":\"680\", \"salida\":\"1439\", \"duracion\":\"147\",\"retraso\":\"34\"}\n",
        "\n",
        "for vuelo in vuelos:\n",
        "  print(vuelo, \"->\", vuelos[vuelo])"
      ],
      "metadata": {
        "colab": {
          "base_uri": "https://localhost:8080/"
        },
        "id": "y_oboIFsCaod",
        "outputId": "5c3f4d29-8965-432a-fb18-d39de18f84b8"
      },
      "execution_count": null,
      "outputs": [
        {
          "output_type": "stream",
          "name": "stdout",
          "text": [
            "XE2679 -> {'aerolinea': 'XE', 'origen': 'EWR', 'destino': 'MYR', 'distancia': '550', 'salida': '110', 'duracion': '113', 'retraso': '18'}\n",
            "YV7138 -> {'aerolinea': 'YV', 'origen': 'ORD', 'destino': 'ABE', 'distancia': '654', 'salida': '1427', 'duracion': '220', 'retraso': '43'}\n",
            "OO2880 -> {'aerolinea': 'OO', 'origen': 'WRG', 'destino': 'COM', 'distancia': '134', 'salida': '1852', 'duracion': '50', 'retraso': '104'}\n",
            "UA63 -> {'aerolinea': 'UA', 'origen': 'MSP', 'destino': 'DEN', 'distancia': '680', 'salida': '1439', 'duracion': '147', 'retraso': '34'}\n"
          ]
        }
      ]
    },
    {
      "cell_type": "markdown",
      "source": [
        "**Lectura de archivo para construcción de diccionario:**"
      ],
      "metadata": {
        "id": "ln8nHpxYHfCc"
      }
    },
    {
      "cell_type": "code",
      "source": [
        "def cargar_vuelos(ruta_archivo: str)-> dict:\n",
        "\n",
        "  vuelos = {}\n",
        "  archivo = open(ruta_archivo)\n",
        "  titulos = archivo.readline().split(\",\")\n",
        "  print(titulos)\n",
        "\n",
        "  linea = archivo.readline()\n",
        "  while len(linea) > 0:\n",
        "    datos = linea.split(\",\")\n",
        "    codigo_vuelo = datos[1]\n",
        "    vuelo = {}\n",
        "    vuelo[\"aerolinea\"] = datos[0]\n",
        "    vuelo[\"origen\"] = datos[2]\n",
        "    vuelo[\"destino\"] = datos[3]\n",
        "    vuelo[\"distancia\"] = datos[4]\n",
        "    vuelo[\"salida\"] = datos[5]\n",
        "    vuelo[\"duracion\"] = datos[6]\n",
        "    vuelo[\"retraso\"] = datos[7]\n",
        "    vuelos[codigo_vuelo] = vuelo\n",
        "    linea = archivo.readline()\n",
        "  \n",
        "  archivo.close()\n",
        "  return vuelos"
      ],
      "metadata": {
        "id": "Drp5I2eZF2wM"
      },
      "execution_count": null,
      "outputs": []
    },
    {
      "cell_type": "markdown",
      "source": [
        "**Procesamiento de diccionario de diccionarios construido a partir de un archivo**"
      ],
      "metadata": {
        "id": "vZLGCGNGKLZY"
      }
    },
    {
      "cell_type": "code",
      "source": [
        "def un_solo_recorrido(vuelos: dict)-> str:\n",
        "  aerolinea_con_mas_vuelos = None\n",
        "  mas_vuelos = 0\n",
        "\n",
        "  diccionario_conteo = {}\n",
        "\n",
        "  for cada_vuelos in vuelos:\n",
        "    aero = vuelos[cada_vuelo][\"aerolinea\"]\n",
        "\n",
        "    veces = diccionario_conteo.get(aero, 0)\n",
        "\n",
        "    diccionario_conteo[aero] = veces + 1\n",
        "\n",
        "    if diccionario_conteo[aero] > mas_vuelos:\n",
        "      mas_vuelos = diccionario_conteo[aero]\n",
        "      aerolinea_con_mas_vuelos = aero\n",
        "\n",
        "  return aerolinea_con_mas_vuelos"
      ],
      "metadata": {
        "id": "Zvr3K1s8IfI0"
      },
      "execution_count": null,
      "outputs": []
    },
    {
      "cell_type": "markdown",
      "source": [
        "**RETO 12: La mejor aerolínea**\n",
        "\n",
        "Recopilamos los registros de los vuelos que ocurrieron durante un día entre aeropuertos ubicados en Estados Unidos y los organizamos en un diccionario de diccionarios. Ahora queremos que usted nos ayude a averiguar cuál es la mejor aerolínea con base en la puntualidad. Es decir, queremos saber cuál es la aerolínea que acumuló el menor retraso promedio en los vuelos que recopilamos.\n",
        "\n",
        "El parámetro vuelos de la función, es un diccionario de diccionarios con la información de los vuelos.\n",
        "\n",
        "Las llaves en este diccionario son el código de cada vuelo.\n",
        "\n",
        "Los valores en este diccionario son diccionarios con la información de un vuelo organizado de acuerdo con las siguientes llaves:\n",
        "\n",
        "aerolinea, corresponde al nombre de la aerolínea.\n",
        "\n",
        "origen, corresponde al código de aeropuerto de origen.\n",
        "\n",
        "destino, corresponde al código de aeropuerto destino del vuelo.\n",
        "\n",
        "distancia, corresponde a la distancia entre el origen y el destino.\n",
        "\n",
        "retraso, corresponde a la cantidad de minutos de retraso que tuvo el vuelo.\n",
        "\n",
        "duracion, corresponde a la duración planeada del vuelo en minutos.\n",
        "\n",
        "salida, corresponde a un entero que representa la hora de salida.\n",
        "\n",
        "La hora de salida, se representa usando la hora en formato 24 horas multiplicada por 100 más la cantidad de minutos (por ejemplo, las 2007 indica que el vuelo salió a las 8:07 pm).  "
      ],
      "metadata": {
        "id": "0SG1op8boX6w"
      }
    },
    {
      "cell_type": "code",
      "source": [
        "aerolineas = {'codigo1': {'aerolinea': 'viva', 'origen':'medellin', 'destino': 'bogota', 'distancia': '1234', 'retraso': 230, 'duracion': 145, 'salida': 2007},\n",
        "              'codigo2': {'aerolinea': 'avianca', 'origen':'cartagena', 'destino': 'medellin', 'distancia': '1650', 'retraso': 93, 'duracion': 213, 'salida': 2102},\n",
        "              'codigo3': {'aerolinea': 'easy', 'origen':'medellin', 'destino': 'cali', 'distancia': '712', 'retraso': 84, 'duracion': 47, 'salida': 1516},\n",
        "              'codigo4': {'aerolinea': 'viva', 'origen':'medellin', 'destino': 'bogota', 'distancia': '1234', 'retraso': 250, 'duracion': 145, 'salida': 2007},\n",
        "              'codigo5': {'aerolinea': 'viva', 'origen':'medellin', 'destino': 'bogota', 'distancia': '1234', 'retraso': 27, 'duracion': 145, 'salida': 2007},\n",
        "              'codigo6': {'aerolinea': 'avianca', 'origen':'cartagena', 'destino': 'medellin', 'distancia': '1650', 'retraso': 32, 'duracion': 213, 'salida': 2102},\n",
        "              'codigo7': {'aerolinea': 'viva', 'origen':'cartagena', 'destino': 'medellin', 'distancia': '1650', 'retraso': 44, 'duracion': 213, 'salida': 2102},\n",
        "              'codigo8': {'aerolinea': 'avianca', 'origen':'cartagena', 'destino': 'medellin', 'distancia': '1650', 'retraso': 10, 'duracion': 213, 'salida': 2102},\n",
        "              'codigo9': {'aerolinea': 'easy', 'origen':'cartagena', 'destino': 'medellin', 'distancia': '1650', 'retraso': 5, 'duracion': 213, 'salida': 2102},\n",
        "              'codigo10': {'aerolinea': 'jpan', 'origen':'cartagena', 'destino': 'medellin', 'distancia': '1650', 'retraso': 23, 'duracion': 213, 'salida': 2102},\n",
        "              'codigo11': {'aerolinea': 'jpan', 'origen':'cartagena', 'destino': 'medellin', 'distancia': '1650', 'retraso': 44, 'duracion': 213, 'salida': 2102}}\n",
        "\n",
        "def mejor_aerolinea(vuelos: dict)-> str:  \n",
        "    \n",
        "  dic_veces = {} #Diccionario de veces que se repite cada aerolinea  \n",
        "\n",
        "  for viaje in vuelos:\n",
        "    codigo = vuelos[viaje]\n",
        "    aero = codigo['aerolinea']\n",
        "\n",
        "    dic_veces[aero] = dic_veces.get(aero, 0) + 1\n",
        "\n",
        "  viajes = {} #Diccionario que almacena la suma de retrasos de cada aerolinea\n",
        "\n",
        "  for vuelo in vuelos:\n",
        "    info = vuelos[vuelo]['aerolinea']\n",
        "    retr = vuelos[vuelo]['retraso']\n",
        "    \n",
        "    if viajes.get(info) != None:\n",
        "      viajes[info] += retr \n",
        "    else:\n",
        "      viajes[info] = retr\n",
        "\n",
        "  prom = {} #Diccionario que almacena el promedio de retrasos de cada aerolinea\n",
        "\n",
        "  for i in dic_veces:    \n",
        "    prom[i] = viajes[i] / dic_veces[i]\n",
        "    \n",
        "  mejor = \"\"\n",
        "  menor = min(prom.values()) #El menor valor de los retrasos en el diccionario prom\n",
        "\n",
        "  for i in prom:\n",
        "    if prom[i] == menor:\n",
        "      mejor = i\n",
        "\n",
        "  return mejor\n",
        "\n",
        "funcion1 = mejor_aerolinea(aerolineas)\n",
        "print(funcion1)"
      ],
      "metadata": {
        "id": "F2h6xMbFK83N",
        "colab": {
          "base_uri": "https://localhost:8080/"
        },
        "outputId": "3c8daa98-3ffa-4b64-fdd3-39c152ee4d1c"
      },
      "execution_count": null,
      "outputs": [
        {
          "output_type": "stream",
          "name": "stdout",
          "text": [
            "jpan\n"
          ]
        }
      ]
    },
    {
      "cell_type": "markdown",
      "source": [
        "**RETO 13: Estadísticas de las tareas**\n",
        "\n",
        "Como parte de una iniciativa de analítica sobre el desempeño de los estudiantes para identificar las dificultades que tienen en un curso, se recopilaron las notas que obtuvieron en diferentes tareas. Ahora, queremos analizarlas con un pequeño programa que usted tendrá que construir.\n",
        "\n",
        "La información obtenida está organizada en un diccionario donde las llaves son los nombres de los estudiantes (cadenas de caracteres) y los valores son diccionarios.\n",
        "\n",
        "En estos diccionarios \"internos\", las llaves son los nombres de las tareas y los valores son las notas obtenidas por el estudiante para esa tarea (un número entero entre 0 y 100).\n",
        "\n",
        "Es decir, si el único estudiante en la muestra se llama \"Roberto\" y ha realizado dos tareas (\"Tarea 1\" y \"Tarea 2\" con notas de 80 y 90 respectivamente), el diccionario de diccionarios con esta información se vería en Python de la siguiente forma: {\"Roberto\": {\"Tarea 1\": 80, \"Tarea 2\" : 90}}.\n",
        "\n",
        "Tenga cuidado: no todos los estudiantes resolvieron todas las tareas.\n",
        "\n",
        "Usted debe construir una función que, dados los resultados de los estudiantes, calcule las siguientes estadísticas para una tarea dada su nombre: la mayor nota obtenida, el nombre del estudiante que obtuvo la mejor nota, la menor nota obtenida, el nombre del estudiante que obtuvo la peor nota, el promedio de las notas de los estudiantes, la cantidad de estudiantes que recibieron una nota y la suma de las notas obtenidas por los estudiantes.\n",
        "\n",
        "La función debe retornar un diccionario con las siguientes llaves: \"mayor\", \"mejor\", \"menor\", \"peor\", \"promedio\", \"cantidad\" y \"total\"."
      ],
      "metadata": {
        "id": "x6Y8qfoaV4Mh"
      }
    },
    {
      "cell_type": "code",
      "source": [
        "estudiantes_tareas = {'Juanes':{'Tarea 1': 80, 'Tarea 2': 95, 'Tarea 3': 92},\n",
        "                      'Simón':{'Tarea 1': 64, 'Tarea 2': 96, 'Tarea 3': 60},\n",
        "                      'Samuel':{'Tarea 1': 72, 'Tarea 2': 67, 'Tarea 3': 72},\n",
        "                      'Sofía':{'Tarea 1': 84, 'Tarea 2': 12, 'Tarea 3': 97}}\n",
        "\n",
        "def calcular_estadisticas_tarea(estudiantes_tareas: dict, nombre_tarea: str)-> dict:\n",
        "  mayor_nota = 0\n",
        "  menor_nota = 100\n",
        "  nombre_mejor = \"\"\n",
        "  nombre_peor = \"\"\n",
        "  cantidad_notas = 0\n",
        "  suma_promedio = 0\n",
        "  resultado = {}\n",
        "  promedio = 0\n",
        "\n",
        "  for est in estudiantes_tareas:\n",
        "    notas_estudiante = estudiantes_tareas[est] #Cada estudiante\n",
        "    tarea_est = notas_estudiante[nombre_tarea] #Notas de cada estudiante\n",
        "\n",
        "    if tarea_est > mayor_nota: #Mayor nota y nombre mejor nota\n",
        "      mayor_nota = tarea_est\n",
        "      resultado['mayor'] = tarea_est\n",
        "      resultado['mejor'] = est\n",
        "\n",
        "    if tarea_est < menor_nota: #Menor nota y nombre peor nota\n",
        "      menor_nota = tarea_est\n",
        "      resultado['menor'] = tarea_est\n",
        "      resultado['peor'] = est\n",
        "\n",
        "    if tarea_est != 0: #Cantidad de estudiantes que recibieron una nota\n",
        "      cantidad_notas += 1\n",
        "      resultado['cantidad'] = cantidad_notas\n",
        "\n",
        "    suma_promedio += tarea_est #Promedio de notas de los estudiantes\n",
        "    promedio = suma_promedio / len(estudiantes_tareas)\n",
        "    resultado['promedio'] = promedio\n",
        "\n",
        "    resultado['total'] = suma_promedio #Total de suma de notas\n",
        "  \n",
        "  return resultado\n",
        "\n",
        "a = calcular_estadisticas_tarea(estudiantes_tareas, 'Tarea 1')\n",
        "print(a)"
      ],
      "metadata": {
        "colab": {
          "base_uri": "https://localhost:8080/"
        },
        "id": "0AaYj4qc9nEo",
        "outputId": "4647f355-12b2-4bdd-a282-68b99b5a4050"
      },
      "execution_count": null,
      "outputs": [
        {
          "output_type": "stream",
          "name": "stdout",
          "text": [
            "{'mayor': 84, 'mejor': 'Sofía', 'menor': 64, 'peor': 'Simón', 'cantidad': 4, 'promedio': 75.0, 'total': 300}\n"
          ]
        }
      ]
    },
    {
      "cell_type": "markdown",
      "source": [
        "# Matrices"
      ],
      "metadata": {
        "id": "kUPTWqFFe75K"
      }
    },
    {
      "cell_type": "markdown",
      "source": [
        "Las matrices son estructuras bidimensionales de datos dentro de las cuales los valores se organizan en filas y columnas.\n",
        "\n",
        "En Python, una matriz se representa como una lista de listas:"
      ],
      "metadata": {
        "id": "hFrak1zxfEpp"
      }
    },
    {
      "cell_type": "code",
      "source": [
        "M = [[1, 2, 3], [2, 12, 6], [1, 0, -3], [0, -1, 0]]\n",
        "print(\"\", M[0], \"\\n\", M[1], \"\\n\", M[2], \"\\n\", M[3])"
      ],
      "metadata": {
        "id": "O9DJOE7x6O_b",
        "colab": {
          "base_uri": "https://localhost:8080/"
        },
        "outputId": "e4f43a43-d3f7-4a9f-b79b-8d85dc94c6e8"
      },
      "execution_count": null,
      "outputs": [
        {
          "output_type": "stream",
          "name": "stdout",
          "text": [
            " [1, 2, 3] \n",
            " [2, 12, 6] \n",
            " [1, 0, -3] \n",
            " [0, -1, 0]\n"
          ]
        }
      ]
    },
    {
      "cell_type": "markdown",
      "source": [
        "Para acceder a elementos de la matriz se usa una doble indexación:"
      ],
      "metadata": {
        "id": "f_zU3239hZ7k"
      }
    },
    {
      "cell_type": "markdown",
      "source": [
        "![imagen_2022-02-15_125733.png](data:image/png;base64,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)"
      ],
      "metadata": {
        "id": "h0xSug6wiEg8"
      }
    },
    {
      "cell_type": "code",
      "source": [
        "M[0][0]"
      ],
      "metadata": {
        "colab": {
          "base_uri": "https://localhost:8080/"
        },
        "id": "yENSFf4Fg7MP",
        "outputId": "107fcc61-ffa3-4cbc-d6b9-d9a35fd0c5fb"
      },
      "execution_count": null,
      "outputs": [
        {
          "output_type": "execute_result",
          "data": {
            "text/plain": [
              "1"
            ]
          },
          "metadata": {},
          "execution_count": 16
        }
      ]
    },
    {
      "cell_type": "code",
      "source": [
        "M[0][1]"
      ],
      "metadata": {
        "colab": {
          "base_uri": "https://localhost:8080/"
        },
        "id": "9SZzQ9RkhmCc",
        "outputId": "fe97392c-cc60-4447-e874-92a10d7cd449"
      },
      "execution_count": null,
      "outputs": [
        {
          "output_type": "execute_result",
          "data": {
            "text/plain": [
              "2"
            ]
          },
          "metadata": {},
          "execution_count": 17
        }
      ]
    },
    {
      "cell_type": "code",
      "source": [
        "M[0][2]"
      ],
      "metadata": {
        "colab": {
          "base_uri": "https://localhost:8080/"
        },
        "id": "DTpZwc4Uhos9",
        "outputId": "d4eeb1c6-8812-4e22-bab6-9f38accddb5d"
      },
      "execution_count": null,
      "outputs": [
        {
          "output_type": "execute_result",
          "data": {
            "text/plain": [
              "3"
            ]
          },
          "metadata": {},
          "execution_count": 18
        }
      ]
    },
    {
      "cell_type": "code",
      "source": [
        "M[1][0]"
      ],
      "metadata": {
        "colab": {
          "base_uri": "https://localhost:8080/"
        },
        "id": "maTubypfhqxN",
        "outputId": "65000b5f-22e3-48a9-c305-f7979751cd46"
      },
      "execution_count": null,
      "outputs": [
        {
          "output_type": "execute_result",
          "data": {
            "text/plain": [
              "2"
            ]
          },
          "metadata": {},
          "execution_count": 19
        }
      ]
    },
    {
      "cell_type": "code",
      "source": [
        "M[1][1]"
      ],
      "metadata": {
        "colab": {
          "base_uri": "https://localhost:8080/"
        },
        "id": "dSOmXagRhspG",
        "outputId": "14d7fe85-f572-4bee-a961-7e79f99c7631"
      },
      "execution_count": null,
      "outputs": [
        {
          "output_type": "execute_result",
          "data": {
            "text/plain": [
              "12"
            ]
          },
          "metadata": {},
          "execution_count": 20
        }
      ]
    },
    {
      "cell_type": "markdown",
      "source": [
        "Crear una matriz consiste, pues, en crear una lista de listas. Si deseamos crear una matriz nula (una matriz cuyos componentes sean todos igual a 0) de tamaño 2x2, bastará con escribir:"
      ],
      "metadata": {
        "id": "TDRagNuxkhqQ"
      }
    },
    {
      "cell_type": "code",
      "source": [
        "nula = [[0,0], [0,0]]\n",
        "print(\"\", nula[0], \"\\n\", nula[1])"
      ],
      "metadata": {
        "colab": {
          "base_uri": "https://localhost:8080/"
        },
        "id": "tG3IQba4hvZ3",
        "outputId": "5919003b-85ff-4d03-ddf7-7f7ccd8fb692"
      },
      "execution_count": null,
      "outputs": [
        {
          "output_type": "stream",
          "name": "stdout",
          "text": [
            " [0, 0] \n",
            " [0, 0]\n"
          ]
        }
      ]
    },
    {
      "cell_type": "markdown",
      "source": [
        "Recordemos que hay una forma de crear listas de cualquier tamaño, siempre que tengan el mismo valor, utilizando el operador *."
      ],
      "metadata": {
        "id": "-36Nj-HFli8P"
      }
    },
    {
      "cell_type": "code",
      "source": [
        "a = [0] * 6\n",
        "print(a)"
      ],
      "metadata": {
        "colab": {
          "base_uri": "https://localhost:8080/"
        },
        "id": "X-Zzg9xOkw35",
        "outputId": "b8e703dd-6393-4c80-bb10-4f0a2ede302d"
      },
      "execution_count": null,
      "outputs": [
        {
          "output_type": "stream",
          "name": "stdout",
          "text": [
            "[0, 0, 0, 0, 0, 0]\n"
          ]
        }
      ]
    },
    {
      "cell_type": "markdown",
      "source": [
        "Como una matriz es una lista de listas, si creamos una lista con 3 duplicados de la lista a, obtenemos una matriz de 3x6:"
      ],
      "metadata": {
        "id": "zQiVTH0BluJI"
      }
    },
    {
      "cell_type": "code",
      "source": [
        "M = [a] * 3\n",
        "print(M)"
      ],
      "metadata": {
        "colab": {
          "base_uri": "https://localhost:8080/"
        },
        "id": "2bcpwoJXltVt",
        "outputId": "29d41168-b987-4071-9af4-5242176aa818"
      },
      "execution_count": null,
      "outputs": [
        {
          "output_type": "stream",
          "name": "stdout",
          "text": [
            "[[0, 0, 0, 0, 0, 0], [0, 0, 0, 0, 0, 0], [0, 0, 0, 0, 0, 0]]\n"
          ]
        }
      ]
    },
    {
      "cell_type": "code",
      "source": [
        "print(\"\" ,M[0], \"\\n\", M[1], \"\\n\", M[2])"
      ],
      "metadata": {
        "colab": {
          "base_uri": "https://localhost:8080/"
        },
        "id": "hzsV_dXml6S0",
        "outputId": "24623623-ceec-4333-ea04-70767def5954"
      },
      "execution_count": null,
      "outputs": [
        {
          "output_type": "stream",
          "name": "stdout",
          "text": [
            " [0, 0, 0, 0, 0, 0] \n",
            " [0, 0, 0, 0, 0, 0] \n",
            " [0, 0, 0, 0, 0, 0]\n"
          ]
        }
      ]
    },
    {
      "cell_type": "markdown",
      "source": [
        "¿Qué pasa si ahora hacemos M[0][0] = 1?"
      ],
      "metadata": {
        "id": "PVPc8wY7mOgt"
      }
    },
    {
      "cell_type": "code",
      "source": [
        "M[0][0] = 1\n",
        "print(\"\" ,M[0], \"\\n\", M[1], \"\\n\", M[2])"
      ],
      "metadata": {
        "colab": {
          "base_uri": "https://localhost:8080/"
        },
        "id": "u2raHus7mEun",
        "outputId": "8e35bc1b-2358-4876-8ce4-a00409352820"
      },
      "execution_count": null,
      "outputs": [
        {
          "output_type": "stream",
          "name": "stdout",
          "text": [
            " [1, 0, 0, 0, 0, 0] \n",
            " [1, 0, 0, 0, 0, 0] \n",
            " [1, 0, 0, 0, 0, 0]\n"
          ]
        }
      ]
    },
    {
      "cell_type": "markdown",
      "source": [
        "Note que cambian todos los primeros elementos de cada fila, debido a que la matriz M se construye a partir de la lista a, por lo que cada fila de M apunta al mismo espacio de la memoria donde se guarda a, entonces se modifican todas las filas. (Recuerde que las listas son mutables)"
      ],
      "metadata": {
        "id": "3MQ76Pa4m6u6"
      }
    },
    {
      "cell_type": "markdown",
      "source": [
        "ATENCIÓN: hay que construir matrices con más cuidado, asegurándonos de que cada fila es una lista diferente de las anteriores."
      ],
      "metadata": {
        "id": "ugp1_llUnKrI"
      }
    },
    {
      "cell_type": "code",
      "source": [
        "M = []\n",
        "for i in range(0, 3):\n",
        "  a = [0] * 6\n",
        "  M.append(a)\n",
        "\n",
        "print(M)"
      ],
      "metadata": {
        "colab": {
          "base_uri": "https://localhost:8080/"
        },
        "id": "4pGGSLoymUGn",
        "outputId": "2ff18865-dd38-4d4a-c3fe-229d465634c7"
      },
      "execution_count": null,
      "outputs": [
        {
          "output_type": "stream",
          "name": "stdout",
          "text": [
            "[[0, 0, 0, 0, 0, 0], [0, 0, 0, 0, 0, 0], [0, 0, 0, 0, 0, 0]]\n"
          ]
        }
      ]
    },
    {
      "cell_type": "markdown",
      "source": [
        "**Lecura de matrices**\n",
        "\n",
        "Si deseamos leer una matriz de tamaño determinado, podemos crear una matriz nula como hemos visto anteriormente y, a continuación, rellenar cada uno de sus componentes."
      ],
      "metadata": {
        "id": "dCIUqpjqn33j"
      }
    },
    {
      "cell_type": "code",
      "source": [
        "m = int(input('Digite el número de filas: '))\n",
        "n = int(input('Digite el número de columnas: '))\n",
        "\n",
        "M = []\n",
        "for i in range(0, m):\n",
        "  M.append([0] * n)\n",
        "\n",
        "for i in range(0, m):\n",
        "  for j in range(0, n):\n",
        "    M[i][j] = float(input('Digite el contenido de cada casilla ['+str(i)+']['+str(j)+']:'))\n",
        "\n",
        "print('La matriz completa es: ')\n",
        "\n",
        "for i in range(0, m):\n",
        "  print(M[i])"
      ],
      "metadata": {
        "colab": {
          "base_uri": "https://localhost:8080/"
        },
        "id": "Z18MEbG8ne-z",
        "outputId": "51414cd6-4e37-4680-fb83-cd5b413c700b"
      },
      "execution_count": null,
      "outputs": [
        {
          "output_type": "stream",
          "name": "stdout",
          "text": [
            "Digite el número de filas: 3\n",
            "Digite el número de columnas: 3\n",
            "Digite el contenido de cada casilla [0][0]:3\n",
            "Digite el contenido de cada casilla [0][1]:6\n",
            "Digite el contenido de cada casilla [0][2]:1\n",
            "Digite el contenido de cada casilla [1][0]:9\n",
            "Digite el contenido de cada casilla [1][1]:0\n",
            "Digite el contenido de cada casilla [1][2]:0\n",
            "Digite el contenido de cada casilla [2][0]:1\n",
            "Digite el contenido de cada casilla [2][1]:1\n",
            "Digite el contenido de cada casilla [2][2]:3\n",
            "La matriz completa es: \n",
            "[3.0, 6.0, 1.0]\n",
            "[9.0, 0.0, 0.0]\n",
            "[1.0, 1.0, 3.0]\n"
          ]
        }
      ]
    },
    {
      "cell_type": "markdown",
      "source": [
        "**MANOS A LA OBRA: Indexación de matrices**"
      ],
      "metadata": {
        "id": "6O9C9zjTqTk0"
      }
    },
    {
      "cell_type": "markdown",
      "source": [
        "**¿Qué resulta de ejecutar este programa?**"
      ],
      "metadata": {
        "id": "oOBsAAqCsM7R"
      }
    },
    {
      "cell_type": "code",
      "source": [
        "M = [[1,0,0], [0,1,0], [0,0,1]]\n",
        "print(M[-1][0])\n",
        "print(M[-1][-1])\n",
        "print(\"-\")\n",
        "for i in range(0, 3):\n",
        "  print(M[i])\n",
        "print(\"-\")\n",
        "for i in range(0, 3):\n",
        "  for j in range(0, 3):\n",
        "    print(M[i][j])"
      ],
      "metadata": {
        "colab": {
          "base_uri": "https://localhost:8080/"
        },
        "id": "J0QOAf_poUNT",
        "outputId": "e4d4b444-4219-4fcd-9bd6-102093bc7b15"
      },
      "execution_count": null,
      "outputs": [
        {
          "output_type": "stream",
          "name": "stdout",
          "text": [
            "0\n",
            "1\n",
            "-\n",
            "[1, 0, 0]\n",
            "[0, 1, 0]\n",
            "[0, 0, 1]\n",
            "-\n",
            "1\n",
            "0\n",
            "0\n",
            "0\n",
            "1\n",
            "0\n",
            "0\n",
            "0\n",
            "1\n"
          ]
        }
      ]
    },
    {
      "cell_type": "markdown",
      "source": [
        "**¿Qué resulta de ejecutar este programa?**"
      ],
      "metadata": {
        "id": "km7xkDe3u1tf"
      }
    },
    {
      "cell_type": "code",
      "source": [
        "M = [[1,0,0], [0,1,0], [0,0,1]]\n",
        "s = 0.0\n",
        "\n",
        "for i in range(0, 3):\n",
        "  for j in range(0, 3):\n",
        "    s += M[i][j]\n",
        "print(s)\n",
        "print(s/9)"
      ],
      "metadata": {
        "colab": {
          "base_uri": "https://localhost:8080/"
        },
        "id": "yNF579zOscaw",
        "outputId": "8f524b1a-f6d6-4d75-8085-6ce69054f5e9"
      },
      "execution_count": null,
      "outputs": [
        {
          "output_type": "stream",
          "name": "stdout",
          "text": [
            "3.0\n",
            "0.3333333333333333\n"
          ]
        }
      ]
    },
    {
      "cell_type": "markdown",
      "source": [
        "**MANOS A LA OBRA: Matriz identidad**\n",
        "\n",
        "Escriba un programa que pida al usuario un entero positivo n y almacene en una variable M la matriz identidad de nxn (la que tiene unos en la diagonal principal y ceros en el resto de celdas)"
      ],
      "metadata": {
        "id": "MFA7QBjlwR2U"
      }
    },
    {
      "cell_type": "code",
      "source": [
        "n = int(input('Escriba el tamaño de la matriz identidad: '))\n",
        "M = []\n",
        "for i in range(0, n):\n",
        "  M.append([0] * n)\n",
        "\n",
        "for i in range(0, n):\n",
        "  for j in range(0, n):\n",
        "    if i == j:\n",
        "      M[i][j] = 1\n",
        "\n",
        "for i in range(0, n):\n",
        "  print(M[i])"
      ],
      "metadata": {
        "colab": {
          "base_uri": "https://localhost:8080/"
        },
        "id": "AoUVf-zwv1Yu",
        "outputId": "d4e81f02-1511-4328-b4e2-dcb3fab5c1a8"
      },
      "execution_count": null,
      "outputs": [
        {
          "output_type": "stream",
          "name": "stdout",
          "text": [
            "Escriba el tamaño de la matriz identidad: 10\n",
            "[1, 0, 0, 0, 0, 0, 0, 0, 0, 0]\n",
            "[0, 1, 0, 0, 0, 0, 0, 0, 0, 0]\n",
            "[0, 0, 1, 0, 0, 0, 0, 0, 0, 0]\n",
            "[0, 0, 0, 1, 0, 0, 0, 0, 0, 0]\n",
            "[0, 0, 0, 0, 1, 0, 0, 0, 0, 0]\n",
            "[0, 0, 0, 0, 0, 1, 0, 0, 0, 0]\n",
            "[0, 0, 0, 0, 0, 0, 1, 0, 0, 0]\n",
            "[0, 0, 0, 0, 0, 0, 0, 1, 0, 0]\n",
            "[0, 0, 0, 0, 0, 0, 0, 0, 1, 0]\n",
            "[0, 0, 0, 0, 0, 0, 0, 0, 0, 1]\n"
          ]
        }
      ]
    },
    {
      "cell_type": "markdown",
      "source": [
        "Otra forma de resolverlo:"
      ],
      "metadata": {
        "id": "WbfWtV5hy4T6"
      }
    },
    {
      "cell_type": "code",
      "source": [
        "n = int(input('Escriba el tamaño de la matriz identidad: '))\n",
        "M = []\n",
        "i = 0\n",
        "\n",
        "while i < n:\n",
        "  fila_nueva = [0] * n\n",
        "  fila_nueva[i] = 1\n",
        "  M.append(fila_nueva)\n",
        "  i += 1\n",
        "\n",
        "for fila in M:\n",
        "  print(fila)"
      ],
      "metadata": {
        "colab": {
          "base_uri": "https://localhost:8080/"
        },
        "id": "beAO2KEQw0kU",
        "outputId": "08099a5a-c2ae-4165-d062-f096b3ccb5b6"
      },
      "execution_count": null,
      "outputs": [
        {
          "output_type": "stream",
          "name": "stdout",
          "text": [
            "Escriba el tamaño de la matriz identidad: 8\n",
            "[1, 0, 0, 0, 0, 0, 0, 0]\n",
            "[0, 1, 0, 0, 0, 0, 0, 0]\n",
            "[0, 0, 1, 0, 0, 0, 0, 0]\n",
            "[0, 0, 0, 1, 0, 0, 0, 0]\n",
            "[0, 0, 0, 0, 1, 0, 0, 0]\n",
            "[0, 0, 0, 0, 0, 1, 0, 0]\n",
            "[0, 0, 0, 0, 0, 0, 1, 0]\n",
            "[0, 0, 0, 0, 0, 0, 0, 1]\n"
          ]
        }
      ]
    },
    {
      "cell_type": "markdown",
      "source": [
        "**MANOS A LA OBRA: Funciones sobre matrices**\n",
        "\n",
        "Escriba las siguientes funciones que reciban por parámetro una matriz de enteros y retornan:\n",
        "\n"
      ],
      "metadata": {
        "id": "ogU9pMg-zlQ4"
      }
    },
    {
      "cell_type": "markdown",
      "source": [
        "1. La suma de todos los valores"
      ],
      "metadata": {
        "id": "mxtjAYVdRmRR"
      }
    },
    {
      "cell_type": "code",
      "source": [
        "def suma_valores_matriz(matriz: list)-> float:\n",
        "  valores = 0\n",
        "  for i in range(0, len(matriz)):    \n",
        "    for j in range(0, len(matriz[0])): #Se usa len(matriz[0]) para obtener el número de columnas en caso de que la matriz no sea cuadrada\n",
        "      valores += matriz[i][j]\n",
        "\n",
        "  return valores"
      ],
      "metadata": {
        "id": "8pQTSwRezLm7"
      },
      "execution_count": null,
      "outputs": []
    },
    {
      "cell_type": "markdown",
      "source": [
        "2. La suma de los valores de una fila dada por parámetro"
      ],
      "metadata": {
        "id": "eEilg1ixVoHL"
      }
    },
    {
      "cell_type": "code",
      "source": [
        "def suma_filas_matriz(matriz: list, fila: int)-> int:\n",
        "  suma_filas = 0\n",
        "\n",
        "  for i in matriz[fila]:    \n",
        "    suma_filas += i\n",
        "\n",
        "  return suma_filas"
      ],
      "metadata": {
        "id": "0-VdVC99SOSN"
      },
      "execution_count": null,
      "outputs": []
    },
    {
      "cell_type": "markdown",
      "source": [
        "3. La suma de los valores de una columna dada por parámetro"
      ],
      "metadata": {
        "id": "fPg8Zp2tYoJO"
      }
    },
    {
      "cell_type": "code",
      "source": [
        "def suma_columnas_matriz(matriz: list, columna: int)-> int:\n",
        "  suma_columnas = 0\n",
        "\n",
        "  for i in matriz:\n",
        "    fila = i    \n",
        "    suma_columnas += fila[columna]\n",
        "\n",
        "  return suma_columnas"
      ],
      "metadata": {
        "id": "BJXZsNWlWYJ5"
      },
      "execution_count": null,
      "outputs": []
    },
    {
      "cell_type": "markdown",
      "source": [
        "3. Indique verdadero o falso si en la matriz hay al menos un valor negativo"
      ],
      "metadata": {
        "id": "qBAljj_Dashx"
      }
    },
    {
      "cell_type": "code",
      "source": [
        "def valor_negativo_matriz(matriz: list)-> bool:\n",
        "  encontrado = False\n",
        "  i = 0\n",
        "  j = 0\n",
        "\n",
        "  while i < len(matriz) and not encontrado:\n",
        "    while j < len(matriz[0]) and not encontrado:\n",
        "      if matriz[i][j] < 0:\n",
        "          encontrado = True        \n",
        "      j += 1\n",
        "    i += 1\n",
        "\n",
        "  return encontrado"
      ],
      "metadata": {
        "id": "cSz0Tmg_ZAEv"
      },
      "execution_count": null,
      "outputs": []
    },
    {
      "cell_type": "markdown",
      "source": [
        "5. La fila con el mayor número de ceros"
      ],
      "metadata": {
        "id": "8nDQyIFUdTrw"
      }
    },
    {
      "cell_type": "code",
      "source": [
        "def mas_ceros_matriz(matriz: list)-> int:\n",
        "  fila_mas = 0\n",
        "  max_ceros = 0\n",
        "\n",
        "  for i in range(0, len(matriz)):\n",
        "    cant_ceros = 0\n",
        "    for j in range(0, len(matriz[0])):\n",
        "      if matriz[i][j] == 0:\n",
        "        cant_ceros += 1\n",
        "    \n",
        "    if cant_ceros > max_ceros:\n",
        "      max_ceros = cant_ceros\n",
        "      fila_mas = i\n",
        "\n",
        "  return fila_mas"
      ],
      "metadata": {
        "id": "qjd0seBcbrJH"
      },
      "execution_count": null,
      "outputs": []
    },
    {
      "cell_type": "markdown",
      "source": [
        "6. Matriz de solución:"
      ],
      "metadata": {
        "id": "bOrP9uSmeBuo"
      }
    },
    {
      "cell_type": "code",
      "source": [
        "import random\n",
        "\n",
        "M = []\n",
        "for i in range(5):\n",
        "  fila = []\n",
        "  for j in range(5):\n",
        "    numero = random.randint(-2, 5)\n",
        "    fila.append(numero)\n",
        "  M.append(fila)\n",
        "\n",
        "print(\"Matriz:\")\n",
        "for fila in M:\n",
        "  print(fila)\n",
        "\n",
        "print(\"Resultados:\\n\")\n",
        "\n",
        "print(\"Suma matriz:\", suma_valores_matriz(M))\n",
        "print(\"Suma fila:\", suma_filas_matriz(M, 1))\n",
        "print(\"Suma columnas:\", suma_columnas_matriz(M,4))\n",
        "print(\"Existe negativo:\", valor_negativo_matriz(M))\n",
        "print(\"Fila más ceros:\", mas_ceros_matriz(M))"
      ],
      "metadata": {
        "colab": {
          "base_uri": "https://localhost:8080/"
        },
        "id": "3iQxusE9d_Cu",
        "outputId": "18a73e31-c75a-49c7-8582-243abac52c33"
      },
      "execution_count": null,
      "outputs": [
        {
          "output_type": "stream",
          "name": "stdout",
          "text": [
            "Matriz:\n",
            "[5, -1, 5, 3, 0]\n",
            "[1, -2, 1, 1, 3]\n",
            "[0, 2, -2, 0, 5]\n",
            "[3, 1, 0, 1, 1]\n",
            "[1, 0, 1, -2, 0]\n",
            "Resultados:\n",
            "\n",
            "Suma matriz: 27\n",
            "Suma fila: 4\n",
            "Suma columnas: 9\n",
            "Existe negativo: True\n",
            "Fila más ceros: 2\n"
          ]
        }
      ]
    },
    {
      "cell_type": "markdown",
      "source": [
        "**RETO 14: La vaca de cumpleaños**\n",
        "\n",
        "Una clase de estudiantes ejemplares ha decidido hacer una vaca para el cumpleaños de su profesor favorito. Para esto, un estudiante recorrerá todo el salón recogiendo el dinero que cada estudiante va a aportar. Tienen dos opciones de regalo: una botella de licor que cuesta 120.000 o un pastel que cuesta 35.000. Además, el estudiante que más dinero ponga, será el que tenga el honor de darle el regalo al profesor. Recree este caso en una función que reciba una matriz que representa al salón y una cadena que indica el regalo. Debe retornar una tupla cuya primera posición es un mensaje que indica si el dinero alcanzó para la vaca y las siguientes dos posiciones son las coordenadas del puesto del estudiante que más aportó.  "
      ],
      "metadata": {
        "id": "7X7hJdTTr3zz"
      }
    },
    {
      "cell_type": "code",
      "source": [
        "#RETO 14: La vaca de cumpleaños\n",
        "M = [[4000, 3500, 6000, 12000], [2500, 4600, 8700, 9000], [2000, 1500, 500, 7800]]\n",
        "\n",
        "def hacer_la_vaca(salon: list, vaca: str)-> list:\n",
        "  precio = 0\n",
        "  suma_vaca = 0\n",
        "  hay_vaca = []\n",
        "  coord_i = 0\n",
        "  coord_j = 0\n",
        "\n",
        "  if vaca == \"botella\":\n",
        "    precio = 120000\n",
        "  else:\n",
        "    precio = 35000\n",
        "\n",
        "  for i in range(0, len(salon)):\n",
        "    for j in range(0, len(salon[0])):\n",
        "      suma_vaca += salon[i][j]\n",
        "\n",
        "  if suma_vaca >= precio:\n",
        "    hay_vaca.append(\"Hay Vaca\")\n",
        "  else:\n",
        "    hay_vaca.append(\"No Alcanza\")\n",
        "\n",
        "  mas_plata = 0\n",
        "  for i in range(0, len(salon)):\n",
        "    a = salon[i]\n",
        "    for j in range(0, len(salon[0])):\n",
        "      alumno = a[j]\n",
        "      if alumno > mas_plata:\n",
        "        mas_plata = alumno\n",
        "        coord_i = i\n",
        "        coord_j = j\n",
        "\n",
        "  hay_vaca.append(coord_i)\n",
        "  hay_vaca.append(coord_j)\n",
        "\n",
        "  return hay_vaca\n",
        "\n",
        "a = hacer_la_vaca(M, \"pastel\")\n",
        "print(a)"
      ],
      "metadata": {
        "colab": {
          "base_uri": "https://localhost:8080/"
        },
        "id": "rAhDOmn_sDuf",
        "outputId": "d7ed3570-d86f-482f-c611-99077bd43cdf"
      },
      "execution_count": null,
      "outputs": [
        {
          "output_type": "stream",
          "name": "stdout",
          "text": [
            "['Hay Vaca', 0, 3]\n"
          ]
        }
      ]
    },
    {
      "cell_type": "markdown",
      "source": [
        "**RETO 15: La fila juiciosa**\n",
        "\n",
        "Andrés es un profesor que tiene la teoría de que hay filas del salón que tienen mejor promedio que otras.\n",
        "\n",
        "Para comprobarlo, ha decidido crear una función que calcule el promedio de la nota de una fila. La función recibe como parámetros una matriz, un número de fila y retorna el promedio de la fila redondeado a dos decimales.\n",
        "\n",
        "Cuidado: un 0 en la matriz no significa que el estudiante haya sacado 0, sino que no hay ningún estudiante en dicha silla.\n",
        "\n",
        "Tenga muy en cuenta que para Andrés la primera fila es la número 1. Si se pide un número de fila que no tenga sentido, su función debe retornar -1. Si la fila no tiene estudiantes, su función debe retornar 0.  "
      ],
      "metadata": {
        "id": "Luw8z-JSx2ql"
      }
    },
    {
      "cell_type": "code",
      "source": [
        "#RETO 15: La fila juiciosa\n",
        "estudiantes = [[4.2, 3.6, 3.8], [4.7, 2.3, 4.5], [0, 0, 0], [3.2, 3.1, 3.8, 4, 5]]\n",
        "\n",
        "def promedio_fila(matriz: list, fila: int)-> float:\n",
        "  if fila <= 0 or fila > len(matriz):\n",
        "    return -1\n",
        "\n",
        "  fila = fila - 1\n",
        "  suma_promedio = 0\n",
        "  conteo = 0 \n",
        "\n",
        "  for i in matriz[fila]:\n",
        "    suma_promedio += i\n",
        "    if i != 0:\n",
        "      conteo += 1\n",
        "\n",
        "  if conteo == 0:\n",
        "    return 0\n",
        "  else:\n",
        "    promedio = suma_promedio / conteo   \n",
        "\n",
        "  return round(promedio, 2)\n",
        "\n",
        "mejor_promedio = promedio_fila(estudiantes, 4)\n",
        "print(mejor_promedio)"
      ],
      "metadata": {
        "colab": {
          "base_uri": "https://localhost:8080/"
        },
        "id": "GammjfQGtK9_",
        "outputId": "79ecf51c-1c61-4451-a334-1f21fb06f9b5"
      },
      "execution_count": null,
      "outputs": [
        {
          "output_type": "stream",
          "name": "stdout",
          "text": [
            "3.82\n"
          ]
        }
      ]
    },
    {
      "cell_type": "markdown",
      "source": [
        "MANOS A LA OBRA: Campeonato de fútbol"
      ],
      "metadata": {
        "id": "t27VPcmC6Rnc"
      }
    },
    {
      "cell_type": "markdown",
      "source": [
        "Completar el programa de campeonato de fútbol con las siguientes funciones:"
      ],
      "metadata": {
        "id": "U2PSlj-k9A8l"
      }
    },
    {
      "cell_type": "markdown",
      "source": [
        "total_goles:"
      ],
      "metadata": {
        "id": "mXURZ4-Z-HT5"
      }
    },
    {
      "cell_type": "code",
      "source": [
        "def total_goles(tablero_goles: list)-> int:\n",
        "  total = 0\n",
        "\n",
        "  for i in range(0, len(tablero_goles)):\n",
        "    for j in range(0, len(tablero_goles[0])):\n",
        "      casilla = tablero_goles[i][j]\n",
        "      #Verifiquemos que la casilla no tenga un -1 o un -2, para asegurar que cada equipo no juegue contra sí mismo o que el partido no haya sido jugado.\n",
        "      if casilla <= 0:\n",
        "        total += casilla\n",
        "\n",
        "  return total"
      ],
      "metadata": {
        "id": "766_0znDzc-2"
      },
      "execution_count": null,
      "outputs": []
    },
    {
      "cell_type": "markdown",
      "source": [
        "partidos_jugados:"
      ],
      "metadata": {
        "id": "05nDQFuv-JBj"
      }
    },
    {
      "cell_type": "code",
      "source": [
        "def partidos_jugados(tablero_goles: list)-> int:\n",
        "  partidos = 0\n",
        "\n",
        "  for i in range(0, len(tablero_goles)):\n",
        "    for j in range(i+1, len(tablero_goles[0])):\n",
        "      if tablero_goles[i][j] >= 0:\n",
        "        partidos += 1\n",
        "\n",
        "  return partidos"
      ],
      "metadata": {
        "id": "xHDOKgay9Qik"
      },
      "execution_count": null,
      "outputs": []
    },
    {
      "cell_type": "markdown",
      "source": [
        "equipo_mas_goleador:"
      ],
      "metadata": {
        "id": "U2X28_oK_Rnj"
      }
    },
    {
      "cell_type": "code",
      "source": [
        "def equipo_mas_goleador(tablero_goles: list, equipos: dict)-> str:\n",
        "  max_goles = 0\n",
        "  indice_goleador = 0\n",
        "\n",
        "  for i in range(len(tablero_goles)):\n",
        "    goles_actual = 0\n",
        "    for j in range(0, len(tablero_goles[0])):\n",
        "      if tablero_goles[i][j] >= 0:\n",
        "        goles_actual += tablero_goles[i][j]\n",
        "        if goles_actual > max_goles:\n",
        "          max_goles = goles_actual\n",
        "          indice_goleador = i\n",
        "\n",
        "  nom_equipo = \"\"\n",
        "\n",
        "  for eq in equipos:\n",
        "    if equipos[eq] == indice_goleador:\n",
        "      nom_equipo = eq\n",
        "\n",
        "  return nom_equipo"
      ],
      "metadata": {
        "id": "RS3lX7vv_UHs"
      },
      "execution_count": null,
      "outputs": []
    },
    {
      "cell_type": "markdown",
      "source": [
        "**RETO 16: Repintar la x**\n",
        "\n",
        "Un matemático ha diseñado un juego muy sencillo para que sus hijos practiquen operaciones aritméticas básicas. En este juego, él les da una matriz cuadrada de más de 3x3 y les pide que \"repinten la X\" usando una operación determinada. Es decir, ellos tienen que devolver la matriz aplicando la operación sobre todas las casillas que hacen parte de las diagonales de la matriz.\n",
        "\n",
        "Las operaciones posibles son sumar, restar, multiplicar y dividir el valor de cada casilla por él mismo. Por ejemplo, si en una casilla de la X el número original era 5 y la operación que se debe aplicar es la suma, el valor 5 deberá reemplazarse por 10. \n",
        "\n",
        "Construya una función que le sirva a los hijos del matemático para verificar sus respuestas. La función recibe una matriz cuadrada, una operación y retorna la matriz modificada según las reglas del juego."
      ],
      "metadata": {
        "id": "dSwYuriJAsXL"
      }
    },
    {
      "cell_type": "code",
      "source": [
        "#RETO 16: Repintar la x\n",
        "matriz = [[4.2, 3.6, 3.8, 2.2], [4.7, 2.3, 4.5, 3.4], [2.0, 3.4, 5.0, 4.8], [1.5, 2.5, 3.5, 4.5]]\n",
        "    \n",
        "def pintar_x(matriz: list, operacion: str)-> list:\n",
        "  for i in range(0, len(matriz)):\n",
        "    if operacion == \"+\" and matriz[i][len(matriz)-i-1] != 0:\n",
        "      matriz[i][len(matriz)-i-1] += matriz[i][len(matriz)-i-1]\n",
        "    elif operacion == \"-\" and matriz[i][len(matriz)-i-1] != 0:\n",
        "      matriz[i][len(matriz)-i-1] -= matriz[i][len(matriz)-i-1]\n",
        "    elif operacion == \"*\" and matriz[i][len(matriz)-i-1] != 0:\n",
        "      matriz[i][len(matriz)-i-1] *= matriz[i][len(matriz)-i-1]\n",
        "    elif operacion == \"/\" and matriz[i][len(matriz)-i-1] != 0:\n",
        "      matriz[i][len(matriz)-i-1] /= matriz[i][len(matriz)-i-1]\n",
        "\n",
        "    for j in range(0, len(matriz)):\n",
        "      if i == j and operacion == \"+\":\n",
        "        matriz[i][j] = matriz[i][j] + matriz[i][j]        \n",
        "      elif i == j and operacion == \"-\":\n",
        "        matriz[i][j] = matriz[i][j] - matriz[i][j]\n",
        "      elif i == j and operacion == \"*\":\n",
        "        matriz[i][j] = matriz[i][j] * matriz[i][j]\n",
        "      elif i == j and operacion == \"/\":\n",
        "        matriz[i][j] = matriz[i][j] / matriz[i][j]\n",
        "\n",
        "  return matriz\n",
        "\n",
        "x = pintar_x(matriz, \"-\")\n",
        "for i in x:\n",
        "  print(i)"
      ],
      "metadata": {
        "id": "FS6lo6WUAhy3",
        "colab": {
          "base_uri": "https://localhost:8080/"
        },
        "outputId": "341ff5f8-3b99-41ed-fc62-c62bdb4b5c33"
      },
      "execution_count": null,
      "outputs": [
        {
          "output_type": "stream",
          "name": "stdout",
          "text": [
            "[0.0, 3.6, 3.8, 0.0]\n",
            "[4.7, 0.0, 0.0, 3.4]\n",
            "[2.0, 0.0, 0.0, 4.8]\n",
            "[0.0, 2.5, 3.5, 0.0]\n"
          ]
        }
      ]
    },
    {
      "cell_type": "code",
      "source": [
        ""
      ],
      "metadata": {
        "id": "1Fjf4wSm4FF_"
      },
      "execution_count": null,
      "outputs": []
    }
  ]
}