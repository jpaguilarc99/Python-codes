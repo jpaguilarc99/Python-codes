{
  "nbformat": 4,
  "nbformat_minor": 0,
  "metadata": {
    "colab": {
      "name": "Programación en Python",
      "provenance": [],
      "collapsed_sections": [],
      "authorship_tag": "ABX9TyPIJ2N/fhMrd/JXCXBao7fR",
      "include_colab_link": true
    },
    "kernelspec": {
      "name": "python3",
      "display_name": "Python 3"
    },
    "language_info": {
      "name": "python"
    }
  },
  "cells": [
    {
      "cell_type": "markdown",
      "metadata": {
        "id": "view-in-github",
        "colab_type": "text"
      },
      "source": [
        "<a href=\"https://colab.research.google.com/github/jpaguilarc99/Python-codes/blob/main/Programaci%C3%B3n_en_Python.ipynb\" target=\"_parent\"><img src=\"https://colab.research.google.com/assets/colab-badge.svg\" alt=\"Open In Colab\"/></a>"
      ]
    },
    {
      "cell_type": "markdown",
      "source": [
        "# **PROGRAMACIÓN EN PYTHON**"
      ],
      "metadata": {
        "id": "5cpKSNSKE8Yd"
      }
    },
    {
      "cell_type": "markdown",
      "source": [
        "# ***Módulo 1: Variables, tipos de datos y operadores***"
      ],
      "metadata": {
        "id": "JTyCgkDjF6nu"
      }
    },
    {
      "cell_type": "markdown",
      "source": [
        "# Un programa para leer"
      ],
      "metadata": {
        "id": "W48HwF1BIw_s"
      }
    },
    {
      "cell_type": "code",
      "execution_count": null,
      "metadata": {
        "id": "_mA4qmbHE7cg",
        "colab": {
          "base_uri": "https://localhost:8080/"
        },
        "outputId": "81d6d607-c7e8-4c37-ab2c-ed5b6f3ef829"
      },
      "outputs": [
        {
          "output_type": "stream",
          "name": "stdout",
          "text": [
            "Indique la longitud del primer cateto: 2\n",
            "Indique la longitud del segundo cateto: 4\n",
            "El perímetro de un triángulo rectángulo que tenga catetos de longitud 2.0 y 4.0 es 10.47213595499958\n"
          ]
        }
      ],
      "source": [
        "# Este programa está escrito en el archivo perimetro.py\n",
        "# Curso de programación en Python\n",
        "def perimetro_triangulo(cateto1: float, cateto2: float)->float:\n",
        "    \"\"\"\n",
        "    Esta función calcula el perímetro de un triángulo rectángulo\n",
        "    dada la longitud de sus dos catetos\n",
        "    Parámetros:\n",
        "      cateto1 (float): la longitud del primer cateto del triángulo\n",
        "      cateto2 (float): la longitud del segundo cateto del triángulo\n",
        "    Retorno\n",
        "      (float): la longitud del perímetro del triángulo\n",
        "    \"\"\"\n",
        "    # Usar la función calcular_hip para calcular la longitud del lado faltante\n",
        "    hipotenusa = calcular_hip(cateto1, cateto2)\n",
        "    \n",
        "    # Sumar los tres lados y convertirlos en la respuesta de la función\n",
        "    return cateto1 + cateto2 + hipotenusa\n",
        "\n",
        "\n",
        "def calcular_hip(cateto1: float, cateto2: float)->float:\n",
        "    \"\"\"\n",
        "    Esta función calcula la longitud de la hipotenusa en un triángulo rectángulo\n",
        "    dada la longitud de sus dos catetos\n",
        "    Parámetros:\n",
        "      cateto1 (float): la longitud del primer cateto del triángulo\n",
        "      cateto2 (float): la longitud del segundo cateto del triángulo\n",
        "    Retorno\n",
        "      (float): la longitud de la hipotenusa\n",
        "    \"\"\"\n",
        "    # Sumar la longitud de los catetos elevados al cuadrado\n",
        "    suma_cuadrados = (cateto1 ** 2) + (cateto2 ** 2)\n",
        "    \n",
        "    # Calcular la raíz cuadrada de la suma usando la función pow y el exponente 0.5\n",
        "    hipotenusa = pow(suma_cuadrados, 0.5)\n",
        "    return hipotenusa\n",
        "\n",
        "\n",
        "# Solicitarle al usuario la longitud de los dos catetos\n",
        "cadena_cat_1 = input(\"Indique la longitud del primer cateto: \")\n",
        "cadena_cat_2 = input(\"Indique la longitud del segundo cateto: \")\n",
        "\n",
        "# Convertir los caracteres dados por el usuario en un número decimal\n",
        "cat_1 = float(cadena_cat_1)\n",
        "cat_2 = float(cadena_cat_2)\n",
        "\n",
        "# Llamar a la función con los valores recibidos\n",
        "perimetro = perimetro_triangulo(cat_1,cat_2)\n",
        "\n",
        "# Mostrarle al usuario el resultado de la operación\n",
        "print(\"El perímetro de un triángulo rectángulo que tenga catetos de longitud\", cat_1, \"y\", cat_2, \"es\", perimetro)"
      ]
    },
    {
      "cell_type": "markdown",
      "source": [
        "**- Actividad: Escriba la instrucción que convierta 15 grados Celsius al equivalente en grados Fahrenheit. Recuerde que cada grado Fahrenheit equivale a 5 novenos de un grado Celsius y que la escala está desplazada 32 grados. Ayuda: 0 grados Celsius equivalen a -32 grados Fahrenheit, 37.5 (la temperatura aproximada de un cuerpo humano) equivalen a 99.5, y 15 grados Celsius equivalen a 59 grados Fahrenheit.**"
      ],
      "metadata": {
        "id": "-4IrqAwqLjCG"
      }
    },
    {
      "cell_type": "code",
      "source": [
        "#Actividad grados Celsius\n",
        "#Curso de programación en Python\n",
        "\n",
        "#Se pide al usuario ingresar los grados Celsius:\n",
        "\n",
        "cel = float(input('Escriba los grados Celsius para convertir a Fahrenheit: '))\n",
        "\n",
        "#Se define la función que cálcula el equivalente de Celsius en Fahrenheit\n",
        "def cels(celsius):\n",
        "  fahr = (cel * 9/5) + 32\n",
        "  return fahr\n",
        "\n",
        "#Se invoca la función\n",
        "resultado = cels(cel)\n",
        "\n",
        "#Se imprime el resultado\n",
        "print('El equivalente en grados Fahrenheit es: ', resultado)\n"
      ],
      "metadata": {
        "colab": {
          "base_uri": "https://localhost:8080/"
        },
        "id": "OZxQvHe3I11w",
        "outputId": "4a1a4fff-9e73-4ab1-c340-2ddeb7e27d94"
      },
      "execution_count": null,
      "outputs": [
        {
          "output_type": "stream",
          "name": "stdout",
          "text": [
            "Escriba los grados Celsius para convertir a Fahrenheit: 15\n",
            "El equivalente en grados Fahrenheit es:  59.0\n"
          ]
        }
      ]
    },
    {
      "cell_type": "markdown",
      "source": [
        "# Valores y tipos de datos"
      ],
      "metadata": {
        "id": "V9RmMl1YYL3I"
      }
    },
    {
      "cell_type": "markdown",
      "source": [
        "Python ofrece la función type que nos permite consultar de qué tipo es un determinado valor. Usaremos ahora esta función en tres ejemplos muy sencillos para introducir lo que se va a presentar en el resto de la sección y para observar el funcionamiento de la función misma. (int, números enteros), (float, números décimales), (str, cadenas de carácteres)."
      ],
      "metadata": {
        "id": "VzAKbF1URXzB"
      }
    },
    {
      "cell_type": "code",
      "source": [
        "type(9)"
      ],
      "metadata": {
        "colab": {
          "base_uri": "https://localhost:8080/"
        },
        "id": "uncL-JscMGKk",
        "outputId": "271b60b2-a5ae-4659-fecf-f3c2016cb78f"
      },
      "execution_count": null,
      "outputs": [
        {
          "output_type": "execute_result",
          "data": {
            "text/plain": [
              "int"
            ]
          },
          "metadata": {},
          "execution_count": 16
        }
      ]
    },
    {
      "cell_type": "code",
      "source": [
        "type(3.14)"
      ],
      "metadata": {
        "colab": {
          "base_uri": "https://localhost:8080/"
        },
        "id": "bucplz-YRcwF",
        "outputId": "f4498de2-8aae-4a4d-bdd9-4d9f71fd1f0e"
      },
      "execution_count": null,
      "outputs": [
        {
          "output_type": "execute_result",
          "data": {
            "text/plain": [
              "float"
            ]
          },
          "metadata": {},
          "execution_count": 17
        }
      ]
    },
    {
      "cell_type": "code",
      "source": [
        "type('Hola')"
      ],
      "metadata": {
        "colab": {
          "base_uri": "https://localhost:8080/"
        },
        "id": "GWbven3iReyF",
        "outputId": "fcb67a0d-ae47-467b-b950-7b550183ebb6"
      },
      "execution_count": null,
      "outputs": [
        {
          "output_type": "execute_result",
          "data": {
            "text/plain": [
              "str"
            ]
          },
          "metadata": {},
          "execution_count": 18
        }
      ]
    },
    {
      "cell_type": "markdown",
      "source": [
        "**Conversiones entre tipos de datos**"
      ],
      "metadata": {
        "id": "ETxpWoURUEYI"
      }
    },
    {
      "cell_type": "code",
      "source": [
        "#Convierte un número décimal a un entero\n",
        "int(3.14)"
      ],
      "metadata": {
        "colab": {
          "base_uri": "https://localhost:8080/"
        },
        "id": "8v9QHUVlRg9O",
        "outputId": "5bd91d69-4a6e-40fb-a95e-9569596ce44a"
      },
      "execution_count": null,
      "outputs": [
        {
          "output_type": "execute_result",
          "data": {
            "text/plain": [
              "3"
            ]
          },
          "metadata": {},
          "execution_count": 19
        }
      ]
    },
    {
      "cell_type": "code",
      "source": [
        "#Convierte un entero a un décimal\n",
        "float(3)"
      ],
      "metadata": {
        "colab": {
          "base_uri": "https://localhost:8080/"
        },
        "id": "fJ3bsPcuVECz",
        "outputId": "30a87fc5-a5e6-49e5-d86d-40be9231c9cd"
      },
      "execution_count": null,
      "outputs": [
        {
          "output_type": "execute_result",
          "data": {
            "text/plain": [
              "3.0"
            ]
          },
          "metadata": {},
          "execution_count": 20
        }
      ]
    },
    {
      "cell_type": "code",
      "source": [
        "#Convierte una cadena a un décimal\n",
        "float('-4.5')"
      ],
      "metadata": {
        "colab": {
          "base_uri": "https://localhost:8080/"
        },
        "id": "0lBI4ethVQfA",
        "outputId": "635fab52-3118-4d00-ae88-f32d3b229a8b"
      },
      "execution_count": null,
      "outputs": [
        {
          "output_type": "execute_result",
          "data": {
            "text/plain": [
              "-4.5"
            ]
          },
          "metadata": {},
          "execution_count": 21
        }
      ]
    },
    {
      "cell_type": "code",
      "source": [
        "#Convierte un entero o un décimal a una cadena de carácteres\n",
        "str(3)\n",
        "str(-4.5)"
      ],
      "metadata": {
        "colab": {
          "base_uri": "https://localhost:8080/",
          "height": 35
        },
        "id": "FsVUHYWyVWIL",
        "outputId": "00c5b52d-3809-4394-bae8-017674eb9f00"
      },
      "execution_count": null,
      "outputs": [
        {
          "output_type": "execute_result",
          "data": {
            "application/vnd.google.colaboratory.intrinsic+json": {
              "type": "string"
            },
            "text/plain": [
              "'-4.5'"
            ]
          },
          "metadata": {},
          "execution_count": 23
        }
      ]
    },
    {
      "cell_type": "markdown",
      "source": [
        "**- Actividad: Intente convertir a entero las siguientes cadenas**"
      ],
      "metadata": {
        "id": "MBDrovtTVyjW"
      }
    },
    {
      "cell_type": "code",
      "source": [
        "#Curso de programación en Python\n",
        "#Convertir el string '1' en entero:\n",
        "print(int('1'))\n",
        "#Convertir el string '-3' en entero:\n",
        "print(int('-3'))\n",
        "\n",
        "#Si se intenta convertir 1.1 a entero directamente habrá un error, por lo que se debe utilizar más de una función para realizar dicha conversión:\n",
        "x = float('1.1')\n",
        "x = int(x)\n",
        "print(x)\n",
        "\n",
        "# int('a') En este caso, no puede ser convertido en entero debido a que la conversión no tiene sentido. El literal 'a' no puede ser representado como número."
      ],
      "metadata": {
        "colab": {
          "base_uri": "https://localhost:8080/"
        },
        "id": "o0QqpOadVfeH",
        "outputId": "8c4497d6-93d4-47dc-d800-b3be2a482f20"
      },
      "execution_count": null,
      "outputs": [
        {
          "output_type": "stream",
          "name": "stdout",
          "text": [
            "1\n",
            "-3\n",
            "1\n"
          ]
        }
      ]
    },
    {
      "cell_type": "markdown",
      "source": [
        "# Variables, expresiones y operadores"
      ],
      "metadata": {
        "id": "LHTqCex7YXlb"
      }
    },
    {
      "cell_type": "markdown",
      "source": [
        "Para empezar, lea con cuidado el siguiente programa escrito con el lenguaje de programación Python. Aunque breve, ilustra los conceptos más básicos del lenguaje, empezando por el concepto de instrucción."
      ],
      "metadata": {
        "id": "gst4_GSFZZNm"
      }
    },
    {
      "cell_type": "code",
      "source": [
        "v1 = 5 #Se asigna un primer valor a la variable v1\n",
        "v2 = 1 + 2 #Se define una segunda variable v2 como la suma de dos enteros\n",
        "v3 = v1 + v2 #La tercera variable v3 se define como la suma de las dos variables v1 y v2 anteriormente definidas\n",
        "v4 = v3 / (4 + 1) #La cuarta y última variable se define como la división de la variable v3 entre un número entero\n",
        "print(\"v4:\", v4) #Se imprime el resultado de la operación matemática"
      ],
      "metadata": {
        "colab": {
          "base_uri": "https://localhost:8080/"
        },
        "id": "gVWGhDHqWJgj",
        "outputId": "7bc85e48-c316-4ddd-fb9e-1ed20c21bcf0"
      },
      "execution_count": null,
      "outputs": [
        {
          "output_type": "stream",
          "name": "stdout",
          "text": [
            "v4: 1.6\n"
          ]
        }
      ]
    },
    {
      "cell_type": "markdown",
      "source": [
        "Una variable es un espacio en la memoria del computador en el cual se puede almacenar un valor o del cual se puede leer un valor, mientras se ejecute el programa. Cuando un programador define una variable, le asigna un nombre o identificador para que sea fácil de recordar y utilizar en el resto del programa. En nuestro ejemplo, las variables tienen los nombres v1, v2, v3 y v4."
      ],
      "metadata": {
        "id": "ZujF-Bdwaf9A"
      }
    },
    {
      "cell_type": "markdown",
      "source": [
        "Cuando se quiere obtener un resultado décimal (float) al realizar una operación, se hace uso del operador de división '/', de manera inversa, si se quiere obtener un resultado entero (int) se hace uso del operador de división entera '//', como se ve en el siguiente ejemplo:"
      ],
      "metadata": {
        "id": "NpXtezvceqPr"
      }
    },
    {
      "cell_type": "code",
      "source": [
        "x = 10/3\n",
        "print(type(x))"
      ],
      "metadata": {
        "colab": {
          "base_uri": "https://localhost:8080/"
        },
        "id": "unwHNYeYZdZo",
        "outputId": "e02b89c3-a8d1-4d71-e386-796119b431e6"
      },
      "execution_count": null,
      "outputs": [
        {
          "output_type": "stream",
          "name": "stdout",
          "text": [
            "<class 'float'>\n"
          ]
        }
      ]
    },
    {
      "cell_type": "code",
      "source": [
        "x = 10//3\n",
        "print(type(x))"
      ],
      "metadata": {
        "colab": {
          "base_uri": "https://localhost:8080/"
        },
        "id": "sqVTxM1Ze_tY",
        "outputId": "5671f688-350c-4ca0-86bf-95c21c448913"
      },
      "execution_count": null,
      "outputs": [
        {
          "output_type": "stream",
          "name": "stdout",
          "text": [
            "<class 'int'>\n"
          ]
        }
      ]
    },
    {
      "cell_type": "markdown",
      "source": [
        "\n",
        "La operación módulo calcula el residuo de la división entera entre dos números. Por ejemplo, el valor de la expresión 10%3 es igual a 1 porque la división entera entre 10 y 3 tiene como resultado 3 con un residuo de 1. La operación módulo y la división entera se complementan. Cuando se está aprendiendo a dividir, es común que el resultado de una división se exprese como un valor y su residuo. Así, 27 dividido 10 es igual a 2 con un residuo de 7. En Python, esto se puede calcular usando los operadores // y %:"
      ],
      "metadata": {
        "id": "eYv3PNekfVjI"
      }
    },
    {
      "cell_type": "code",
      "source": [
        "entero = 27 // 10\n",
        "residuo = 27 % 10\n",
        "print(entero, residuo)"
      ],
      "metadata": {
        "colab": {
          "base_uri": "https://localhost:8080/"
        },
        "id": "yTQw6DAOfHRb",
        "outputId": "c9b6caa0-97b2-43e0-fdf7-accab6239225"
      },
      "execution_count": null,
      "outputs": [
        {
          "output_type": "stream",
          "name": "stdout",
          "text": [
            "2 7\n"
          ]
        }
      ]
    },
    {
      "cell_type": "markdown",
      "source": [
        "La operación módulo es muy utilizada también para averiguar la paridad de un número: el resultado de la expresión x%2 será 0 sólo cuando x sea un número par y será 1 cuando x sea impar.\n",
        "\n"
      ],
      "metadata": {
        "id": "C7hhNJbRf-sc"
      }
    },
    {
      "cell_type": "code",
      "source": [
        "par = 4%2\n",
        "impar = 5%2\n",
        "print(par, impar)"
      ],
      "metadata": {
        "colab": {
          "base_uri": "https://localhost:8080/"
        },
        "id": "UAuvKLoWfrjs",
        "outputId": "3b9e59c2-7001-4eee-bb3a-1a1bd9bac6d3"
      },
      "execution_count": null,
      "outputs": [
        {
          "output_type": "stream",
          "name": "stdout",
          "text": [
            "0 1\n"
          ]
        }
      ]
    },
    {
      "cell_type": "markdown",
      "source": [
        "En el caso de cadenas de carácteres, Python sólo ofrece dos operadores que se pueden aplicar sobre cadenas de caracteres. Los cuales son la concatenación + y la repetición *. Veamos el ejemplo:"
      ],
      "metadata": {
        "id": "CUIqv-91ggwm"
      }
    },
    {
      "cell_type": "code",
      "source": [
        "'abc' + 'def'"
      ],
      "metadata": {
        "colab": {
          "base_uri": "https://localhost:8080/",
          "height": 35
        },
        "id": "u7uUrcQOgJcD",
        "outputId": "2c9a1c15-0ea3-4e00-8983-1d9028bfc0df"
      },
      "execution_count": null,
      "outputs": [
        {
          "output_type": "execute_result",
          "data": {
            "application/vnd.google.colaboratory.intrinsic+json": {
              "type": "string"
            },
            "text/plain": [
              "'abcdef'"
            ]
          },
          "metadata": {},
          "execution_count": 38
        }
      ]
    },
    {
      "cell_type": "code",
      "source": [
        "'ab' * 3"
      ],
      "metadata": {
        "colab": {
          "base_uri": "https://localhost:8080/",
          "height": 35
        },
        "id": "3W6cAvv8gyPO",
        "outputId": "01615b10-19a9-4cc9-9b83-a877d4c2d587"
      },
      "execution_count": null,
      "outputs": [
        {
          "output_type": "execute_result",
          "data": {
            "application/vnd.google.colaboratory.intrinsic+json": {
              "type": "string"
            },
            "text/plain": [
              "'ababab'"
            ]
          },
          "metadata": {},
          "execution_count": 39
        }
      ]
    },
    {
      "cell_type": "markdown",
      "source": [
        "En Python existen también versiones alternativas de algunos de los operadores presentados que permiten acumular los valores. Veamos primero un ejemplo de esto:"
      ],
      "metadata": {
        "id": "o1iYvEOUhHFV"
      }
    },
    {
      "cell_type": "code",
      "source": [
        "a = 2 #Se asigna un valor de 2 en la variable a\n",
        "a += 4 #Se suma 4 a esa variable y se guarda su nuevo valor en la misma variable\n",
        "a += 6 #Se suma 6 a la misma variable y se guarda su nuevo valor\n",
        "print(a)"
      ],
      "metadata": {
        "colab": {
          "base_uri": "https://localhost:8080/"
        },
        "id": "rg1eqkgmg09-",
        "outputId": "789fd8fe-97a8-4a0e-9e89-e446febf54d2"
      },
      "execution_count": null,
      "outputs": [
        {
          "output_type": "stream",
          "name": "stdout",
          "text": [
            "12\n"
          ]
        }
      ]
    },
    {
      "cell_type": "markdown",
      "source": [
        "El anterior programa es equivalente al siguiente:\n"
      ],
      "metadata": {
        "id": "YcV258ihhe9T"
      }
    },
    {
      "cell_type": "code",
      "source": [
        "a = 2\n",
        "a = a + 4\n",
        "a = a + 6\n",
        "print(a)"
      ],
      "metadata": {
        "colab": {
          "base_uri": "https://localhost:8080/"
        },
        "id": "i1uHeUgjhPJb",
        "outputId": "f66366c5-f581-47f4-ad89-886905533fa1"
      },
      "execution_count": null,
      "outputs": [
        {
          "output_type": "stream",
          "name": "stdout",
          "text": [
            "12\n"
          ]
        }
      ]
    },
    {
      "cell_type": "markdown",
      "source": [
        "En Python no es posible escribir expresiones que combinen valores de diferentes tipos a menos que se hagan conversiones explícitamente. Por ejemplo, para construir una cadena que combine caracteres y números se debe hacer una conversión como en el siguiente ejemplo:"
      ],
      "metadata": {
        "id": "KJBmCbhMiSo7"
      }
    },
    {
      "cell_type": "code",
      "source": [
        "'El salón asignado es el ' + str(614) + ' del edificio ML'"
      ],
      "metadata": {
        "colab": {
          "base_uri": "https://localhost:8080/",
          "height": 35
        },
        "id": "2pSvFKUShlw3",
        "outputId": "b916fbf1-8dd5-4456-967b-9e6f730aefe3"
      },
      "execution_count": null,
      "outputs": [
        {
          "output_type": "execute_result",
          "data": {
            "application/vnd.google.colaboratory.intrinsic+json": {
              "type": "string"
            },
            "text/plain": [
              "'El salón asignado es el 614 del edificio ML'"
            ]
          },
          "metadata": {},
          "execution_count": 42
        }
      ]
    },
    {
      "cell_type": "markdown",
      "source": [
        "**- Actividad: ¿Qué valor se mostrará en la pantalla después de ejecutar el siguiente código?**"
      ],
      "metadata": {
        "id": "Uhgn0fHIjpwM"
      }
    },
    {
      "cell_type": "code",
      "source": [
        "z = 1\n",
        "z += 2\n",
        "z *= 2\n",
        "z //= 2\n",
        "z -= 2\n",
        "z %= 2\n",
        "z ** 2\n",
        "z /= 2\n",
        "print(z)"
      ],
      "metadata": {
        "colab": {
          "base_uri": "https://localhost:8080/"
        },
        "id": "hFyfg3tXiXru",
        "outputId": "3d11ce76-7819-406f-c9cc-fe7f8dc7a04f"
      },
      "execution_count": null,
      "outputs": [
        {
          "output_type": "stream",
          "name": "stdout",
          "text": [
            "0.5\n"
          ]
        }
      ]
    },
    {
      "cell_type": "markdown",
      "source": [
        "**¿Qué resultado se obtendrá al evaluar la siguiente expresión en Python?**"
      ],
      "metadata": {
        "id": "HnYk55QpkcCc"
      }
    },
    {
      "cell_type": "code",
      "source": [
        "'a' * 3 + '/*' * 5 + 2 * 'abc' + '+'"
      ],
      "metadata": {
        "colab": {
          "base_uri": "https://localhost:8080/",
          "height": 35
        },
        "id": "YypI70WPkASw",
        "outputId": "86e9fec7-9b1a-475c-bc3f-50da8c5a5f02"
      },
      "execution_count": null,
      "outputs": [
        {
          "output_type": "execute_result",
          "data": {
            "application/vnd.google.colaboratory.intrinsic+json": {
              "type": "string"
            },
            "text/plain": [
              "'aaa/*/*/*/*/*abcabc+'"
            ]
          },
          "metadata": {},
          "execution_count": 44
        }
      ]
    },
    {
      "cell_type": "markdown",
      "source": [
        "# Funciones"
      ],
      "metadata": {
        "id": "O41zyi7MlHGX"
      }
    },
    {
      "cell_type": "markdown",
      "source": [
        "En términos matemáticos, una función es una relación entre valores de tal forma que para cada combinación de los valores de entrada haya sólo un valor de salida. Además, las funciones se suelen describir usando una fórmula, de tal forma que dados unos valores de entrada sea sencillo calcular el valor de salida. Veamos un ejemplo de función:"
      ],
      "metadata": {
        "id": "xxCyiJ55q87D"
      }
    },
    {
      "cell_type": "markdown",
      "source": [
        "potencia(base,exponente)=base^exponente"
      ],
      "metadata": {
        "id": "5CKSAeSMrPaw"
      }
    },
    {
      "cell_type": "markdown",
      "source": [
        "La acción más interesante que podemos hacer sobre una función es invocarla. Esto es lo mismo que evaluarla para poder saber cuál es sería su valor dados valores específicos para sus parámetros. Por ejemplo, en el siguiente fragmento de código vamos a invocar la función pre-definida llamada pow pasándole los valores 2 y 3 como argumentos."
      ],
      "metadata": {
        "id": "IWUiR_8PriVo"
      }
    },
    {
      "cell_type": "code",
      "source": [
        "#Función pow predefinida en Python\n",
        "pow(2, 3)"
      ],
      "metadata": {
        "id": "LvYwbVnmkk7I",
        "colab": {
          "base_uri": "https://localhost:8080/"
        },
        "outputId": "b21d1581-f20b-428d-e957-fe56b789dd99"
      },
      "execution_count": null,
      "outputs": [
        {
          "output_type": "execute_result",
          "data": {
            "text/plain": [
              "8"
            ]
          },
          "metadata": {},
          "execution_count": 1
        }
      ]
    },
    {
      "cell_type": "code",
      "source": [
        "var = pow(2, 3) \n",
        "var"
      ],
      "metadata": {
        "colab": {
          "base_uri": "https://localhost:8080/"
        },
        "id": "dZKKC7JSrkha",
        "outputId": "af06f20b-7e84-42a7-8a73-2d30ddd40d07"
      },
      "execution_count": null,
      "outputs": [
        {
          "output_type": "execute_result",
          "data": {
            "text/plain": [
              "8"
            ]
          },
          "metadata": {},
          "execution_count": 2
        }
      ]
    },
    {
      "cell_type": "code",
      "source": [
        "var = pow(2, pow(2, 1+1))\n",
        "var"
      ],
      "metadata": {
        "colab": {
          "base_uri": "https://localhost:8080/"
        },
        "id": "9UQPg84gr7TV",
        "outputId": "3ece7e28-95a4-49fd-8732-42f4d5d4bb6c"
      },
      "execution_count": null,
      "outputs": [
        {
          "output_type": "execute_result",
          "data": {
            "text/plain": [
              "16"
            ]
          },
          "metadata": {},
          "execution_count": 4
        }
      ]
    },
    {
      "cell_type": "markdown",
      "source": [
        "Si no se tiene acceso al código fuente, un mecanismo para consultar cuáles son los parámetros de una función es usar la función help. Esta es otra función básica de Python y permite consultar la documentación de cualquier otra función. Por ejemplo, en el siguiente fragmento se usará la función help para consultar la documentación de la función pow."
      ],
      "metadata": {
        "id": "IDMleLI9swNv"
      }
    },
    {
      "cell_type": "code",
      "source": [
        "help(pow)"
      ],
      "metadata": {
        "colab": {
          "base_uri": "https://localhost:8080/"
        },
        "id": "OOcq-xzmsI3j",
        "outputId": "5e343231-aede-4302-9abd-d49b7b0d2815"
      },
      "execution_count": null,
      "outputs": [
        {
          "output_type": "stream",
          "name": "stdout",
          "text": [
            "Help on built-in function pow in module builtins:\n",
            "\n",
            "pow(x, y, z=None, /)\n",
            "    Equivalent to x**y (with two arguments) or x**y % z (with three arguments)\n",
            "    \n",
            "    Some types, such as ints, are able to use a more efficient algorithm when\n",
            "    invoked using the three argument form.\n",
            "\n"
          ]
        }
      ]
    },
    {
      "cell_type": "markdown",
      "source": [
        "**Funciones numéricas: abs, round, min, max, pow**"
      ],
      "metadata": {
        "id": "Dn3nj5A7twUo"
      }
    },
    {
      "cell_type": "code",
      "source": [
        "abs(-3.14)"
      ],
      "metadata": {
        "colab": {
          "base_uri": "https://localhost:8080/"
        },
        "id": "7_loME7Xs1mp",
        "outputId": "a652533a-3bb2-4063-8fd5-631b44a74ed6"
      },
      "execution_count": null,
      "outputs": [
        {
          "output_type": "execute_result",
          "data": {
            "text/plain": [
              "3.14"
            ]
          },
          "metadata": {},
          "execution_count": 6
        }
      ]
    },
    {
      "cell_type": "markdown",
      "source": [
        "La función round(n, digits) sirve para redondear un número para que sólo tenga la cantidad de decimales que nosotros le indiquemos. En este caso, el parámetro n hace referencia al número que queremos redondear, mientras que el parámetro digits especifica cuántos dígitos decimales queremos que tenga el resultado."
      ],
      "metadata": {
        "id": "nUO5w16SuBBU"
      }
    },
    {
      "cell_type": "code",
      "source": [
        "round(3.14159, 0)"
      ],
      "metadata": {
        "colab": {
          "base_uri": "https://localhost:8080/"
        },
        "id": "1-G0Keftt3uI",
        "outputId": "f624740f-239c-4630-8b91-60f0ac5cebcc"
      },
      "execution_count": null,
      "outputs": [
        {
          "output_type": "execute_result",
          "data": {
            "text/plain": [
              "3.0"
            ]
          },
          "metadata": {},
          "execution_count": 7
        }
      ]
    },
    {
      "cell_type": "code",
      "source": [
        "round(3.14159, 1)"
      ],
      "metadata": {
        "colab": {
          "base_uri": "https://localhost:8080/"
        },
        "id": "sRiBz_B1uFNl",
        "outputId": "c8eae725-bfdd-4e1f-d9af-521fe7f135ee"
      },
      "execution_count": null,
      "outputs": [
        {
          "output_type": "execute_result",
          "data": {
            "text/plain": [
              "3.1"
            ]
          },
          "metadata": {},
          "execution_count": 8
        }
      ]
    },
    {
      "cell_type": "code",
      "source": [
        "round(3.14159, 2)"
      ],
      "metadata": {
        "colab": {
          "base_uri": "https://localhost:8080/"
        },
        "id": "uCn1oo25uIFX",
        "outputId": "ae4b0b9c-8a8d-40b4-8ca6-06bc34c4ff83"
      },
      "execution_count": null,
      "outputs": [
        {
          "output_type": "execute_result",
          "data": {
            "text/plain": [
              "3.14"
            ]
          },
          "metadata": {},
          "execution_count": 9
        }
      ]
    },
    {
      "cell_type": "code",
      "source": [
        "round(3.14159, 3)"
      ],
      "metadata": {
        "colab": {
          "base_uri": "https://localhost:8080/"
        },
        "id": "T5qdZHWKuJGP",
        "outputId": "b17c9182-fdce-435b-db71-67c26fe9ad97"
      },
      "execution_count": null,
      "outputs": [
        {
          "output_type": "execute_result",
          "data": {
            "text/plain": [
              "3.142"
            ]
          },
          "metadata": {},
          "execution_count": 10
        }
      ]
    },
    {
      "cell_type": "code",
      "source": [
        "round(3.14159, 6)"
      ],
      "metadata": {
        "colab": {
          "base_uri": "https://localhost:8080/"
        },
        "id": "NqdSLOMUuK2h",
        "outputId": "a1f26706-559d-4576-bef4-18f2c31c1bd2"
      },
      "execution_count": null,
      "outputs": [
        {
          "output_type": "execute_result",
          "data": {
            "text/plain": [
              "3.14159"
            ]
          },
          "metadata": {},
          "execution_count": 11
        }
      ]
    },
    {
      "cell_type": "markdown",
      "source": [
        "Las funciones min y max sirven para encontrar los valores mínimos y máximos de sus parámetros. El siguiente fragmento ilustra cuál sería el resultado de invocar estas funciones sobre 4 valores numéricos:"
      ],
      "metadata": {
        "id": "dXiwXPygucrn"
      }
    },
    {
      "cell_type": "code",
      "source": [
        "min(3, 6, 9, 12)"
      ],
      "metadata": {
        "colab": {
          "base_uri": "https://localhost:8080/"
        },
        "id": "XjJ1PXsAuMCo",
        "outputId": "199935fe-97f6-411a-8ff6-acee205c2200"
      },
      "execution_count": null,
      "outputs": [
        {
          "output_type": "execute_result",
          "data": {
            "text/plain": [
              "3"
            ]
          },
          "metadata": {},
          "execution_count": 12
        }
      ]
    },
    {
      "cell_type": "code",
      "source": [
        "max(59, 62, 2, 3)"
      ],
      "metadata": {
        "colab": {
          "base_uri": "https://localhost:8080/"
        },
        "id": "6zN8BOrjuf-i",
        "outputId": "44d164d3-dbc6-47ef-b49f-8cc65270f496"
      },
      "execution_count": null,
      "outputs": [
        {
          "output_type": "execute_result",
          "data": {
            "text/plain": [
              "62"
            ]
          },
          "metadata": {},
          "execution_count": 13
        }
      ]
    },
    {
      "cell_type": "markdown",
      "source": [
        "**Funciones chr y ord**"
      ],
      "metadata": {
        "id": "qAgFvTkowVQh"
      }
    },
    {
      "cell_type": "markdown",
      "source": [
        "La función chr permite consultar cuál caracter le corresponde a un número específico dentro del sistema UNICODE. Por ejemplo, si evaluamos la expresión chr(97) el resultado será una cadena de caracteres con el caracter ‘a’. La función ord tiene el objetivo opuesto: dado un caracter, indica cual es el número que le corresponde en el sistema UNICODE."
      ],
      "metadata": {
        "id": "dl-azjBZwWn1"
      }
    },
    {
      "cell_type": "code",
      "source": [
        "chr(98)"
      ],
      "metadata": {
        "colab": {
          "base_uri": "https://localhost:8080/",
          "height": 35
        },
        "id": "t5BHGbKruisj",
        "outputId": "7b31baa1-3cc8-4d54-fe53-8507604ce5ef"
      },
      "execution_count": null,
      "outputs": [
        {
          "output_type": "execute_result",
          "data": {
            "application/vnd.google.colaboratory.intrinsic+json": {
              "type": "string"
            },
            "text/plain": [
              "'b'"
            ]
          },
          "metadata": {},
          "execution_count": 14
        }
      ]
    },
    {
      "cell_type": "code",
      "source": [
        "ord('B')"
      ],
      "metadata": {
        "colab": {
          "base_uri": "https://localhost:8080/"
        },
        "id": "tJLcmhGswkFK",
        "outputId": "b6b14c2a-3636-4936-eb3f-803a5666cf71"
      },
      "execution_count": null,
      "outputs": [
        {
          "output_type": "execute_result",
          "data": {
            "text/plain": [
              "66"
            ]
          },
          "metadata": {},
          "execution_count": 15
        }
      ]
    },
    {
      "cell_type": "code",
      "source": [
        "ord('☻')"
      ],
      "metadata": {
        "colab": {
          "base_uri": "https://localhost:8080/"
        },
        "id": "UAFF0HMewmex",
        "outputId": "395991bd-50e8-4b26-9933-5ebe2d4e3423"
      },
      "execution_count": null,
      "outputs": [
        {
          "output_type": "execute_result",
          "data": {
            "text/plain": [
              "9787"
            ]
          },
          "metadata": {},
          "execution_count": 16
        }
      ]
    },
    {
      "cell_type": "code",
      "source": [
        "chr(9788)"
      ],
      "metadata": {
        "colab": {
          "base_uri": "https://localhost:8080/",
          "height": 35
        },
        "id": "WyN4okqtwpRr",
        "outputId": "ee7d5667-f10d-4d77-97d0-d6ab49f674ea"
      },
      "execution_count": null,
      "outputs": [
        {
          "output_type": "execute_result",
          "data": {
            "application/vnd.google.colaboratory.intrinsic+json": {
              "type": "string"
            },
            "text/plain": [
              "'☼'"
            ]
          },
          "metadata": {},
          "execution_count": 18
        }
      ]
    },
    {
      "cell_type": "code",
      "source": [
        "chr(22223)"
      ],
      "metadata": {
        "colab": {
          "base_uri": "https://localhost:8080/",
          "height": 35
        },
        "id": "ke-gX9grwsns",
        "outputId": "c4f178f5-c691-434b-ecd9-2ee2c8518582"
      },
      "execution_count": null,
      "outputs": [
        {
          "output_type": "execute_result",
          "data": {
            "application/vnd.google.colaboratory.intrinsic+json": {
              "type": "string"
            },
            "text/plain": [
              "'囏'"
            ]
          },
          "metadata": {},
          "execution_count": 19
        }
      ]
    },
    {
      "cell_type": "markdown",
      "source": [
        "**-Actividad: Escriba un programa que pida al usuario una cantidad de dinero en pesos, una tasa de interés (un número decimal mayor a 0) y un número de años. Muestre por pantalla en cuánto se habrá convertido el capital inicial transcurridos esos años si cada año se aplica la tasa de interés introducida. Recuerde que un capital de C pesos a un interés del x por cien durante n años se convierten en C×(1+x/100)^n pesos. Pruebe su programa sabiendo que una cantidad de 10,000 pesos al 4.5 % de interés anual se convierte en 24117.14 pesos al cabo de 20 años.**"
      ],
      "metadata": {
        "id": "eQVx3VyuxHzL"
      }
    },
    {
      "cell_type": "code",
      "source": [
        "#Curso de Programación en Python\n",
        "\n",
        "#Se le pide la información al usuario\n",
        "\n",
        "C = input('Digite la cantidad de dinero en pesos: ')\n",
        "C = float(C)\n",
        "\n",
        "x = input('Digite la tasa de interés: ')\n",
        "x = float(x)\n",
        "\n",
        "n = input('Ingrese el número de años del crédito: ')\n",
        "n = float(n)\n",
        "\n",
        "def capital(C, x, n):\n",
        "  cap = C * pow((1+x / 100), n)\n",
        "  return cap\n",
        "\n",
        "resultado = capital(C, x, n) \n",
        "\n",
        "print('La cantidad a pagar del préstamo de ', C, ' pesos, con una tasa de interés del ', x, ' %, en un tiempo de ', n,' es de', round(resultado, 2))"
      ],
      "metadata": {
        "colab": {
          "base_uri": "https://localhost:8080/"
        },
        "id": "g3lLMQk7wwmm",
        "outputId": "f285dbb3-50ca-41e9-e269-8ccf82a401a8"
      },
      "execution_count": null,
      "outputs": [
        {
          "output_type": "stream",
          "name": "stdout",
          "text": [
            "Digite la cantidad de dinero en pesos: 10000\n",
            "Digite la tasa de interés: 4.5\n",
            "Ingrese el número de años del crédito: 20\n",
            "La cantidad a pagar del préstamo de  10000.0  pesos, con una tasa de interés del  4.5  %, en un tiempo de  20.0  es de 24117.14\n"
          ]
        }
      ]
    },
    {
      "cell_type": "markdown",
      "source": [
        "**-Actividad: Escriba un programa que le pida al usuario 3 valores y los almacene en 3 variables enteras llamadas x1, x2 y x3. El programa luego debe rotar las variables de forma que al final x2 tenga el valor inicial de x1, x3 el de x2 y x1 el de x3.**\n",
        "\n"
      ],
      "metadata": {
        "id": "AxQOht5G1B3z"
      }
    },
    {
      "cell_type": "code",
      "source": [
        "#Curso de programación en Python\n",
        "\n",
        "x1 = input('Ingrese el valor de la primera variable x1: ')\n",
        "x1 = int(x1)\n",
        "\n",
        "x2 = input('Ingrese el valor de la segunda variable x2: ')\n",
        "x2 = int(x2)\n",
        "\n",
        "x3 = input('Ingrese el valor de la tercera variable x3: ')\n",
        "x3 = int(x3)\n",
        "\n",
        "def primero(x2, x1):\n",
        "  x2 = x1\n",
        "  return x2\n",
        "\n",
        "def segundo(x3, x2):\n",
        "  x3 = x2\n",
        "  return x3\n",
        "\n",
        "def tercero(x1, x3):\n",
        "  x1 = x3\n",
        "  return x1   \n",
        "\n",
        "result1 = primero(x2, x1)\n",
        "result2 = segundo(x3, x2)\n",
        "result3 = tercero(x1, x3)\n",
        "print('Los nuevos valores para las variables x1, x2 y x3 son: ', result3, result1, result2, 'respectivamente.')"
      ],
      "metadata": {
        "colab": {
          "base_uri": "https://localhost:8080/"
        },
        "id": "mbMYgzC5x09g",
        "outputId": "93f17a61-e8c0-49b0-9361-8ffdb8cb1ab7"
      },
      "execution_count": null,
      "outputs": [
        {
          "output_type": "stream",
          "name": "stdout",
          "text": [
            "Ingrese el valor de la primera variable x1: 3\n",
            "Ingrese el valor de la segunda variable x2: 4\n",
            "Ingrese el valor de la tercera variable x3: 5\n",
            "Los nuevos valores para las variables x1, x2 y x3 son:  5 3 4  respectivamente.\n"
          ]
        }
      ]
    },
    {
      "cell_type": "markdown",
      "source": [
        "# Definición de funciones"
      ],
      "metadata": {
        "id": "fSS9WGP04xst"
      }
    },
    {
      "cell_type": "markdown",
      "source": [
        "**Un ejemplo completo: el programa de la casa**"
      ],
      "metadata": {
        "id": "ReoYfYjqDS6_"
      }
    },
    {
      "cell_type": "code",
      "source": [
        "#Curso de programación en Python\n",
        "#Cálculo del área de una casa con base cuadrada y techo triangular\n",
        "\n",
        "def area_cuadrado(lado: int)-> int:\n",
        "    \"\"\"\n",
        "       Calcula el área de un cuadrado dada la medida de su lado\n",
        "    \"\"\"\n",
        "    return lado * lado\n",
        "\n",
        "\n",
        "def area_triangulo(base: int, altura: int)-> float:\n",
        "    \"\"\"\n",
        "        Calcula el área de un triángulo dada la medida de la base y de la altura.\n",
        "    \"\"\"   \n",
        "    return (base * altura) / 2\n",
        "\n",
        "\n",
        "def area_casa(frente: int, techo: int)-> float:\n",
        "    \"\"\"\n",
        "        Calcula el área del dibujo de una casa que se forma con un cuadrado\n",
        "        y un triángulo encima (el techo).\n",
        "        El frente de la casa será igual al lado del cuadrado y a la base del triángulo.\n",
        "        La altura del techo será la altura del triángulo.\n",
        "    \"\"\"\n",
        "    cuadrado = area_cuadrado(frente)\n",
        "    triangulo = area_triangulo(frente, techo)\n",
        "    return cuadrado + triangulo\n",
        "    \n",
        "medida_frente = 7\n",
        "medida_techo = 5\n",
        "resultado = area_casa(medida_frente, medida_techo)\n",
        "print(\"El área de una casa con\", medida_frente, \"metros de frente y un techo de\",\n",
        "       medida_techo, \"metros de alto es \", round(resultado, 2), \"metros\")"
      ],
      "metadata": {
        "colab": {
          "base_uri": "https://localhost:8080/"
        },
        "id": "Cjsah5YV19lc",
        "outputId": "c13bf128-a2d8-4dbb-9baa-0cb62450234c"
      },
      "execution_count": null,
      "outputs": [
        {
          "output_type": "stream",
          "name": "stdout",
          "text": [
            "El área de una casa con 7 metros de frente y un techo de 5 metros de alto es  66.5 metros\n"
          ]
        }
      ]
    },
    {
      "cell_type": "markdown",
      "source": [
        "**-Actividad: Escriba la signatura de una función que sirva para calcular el área de un círculo dado su radio.**"
      ],
      "metadata": {
        "id": "iC8AF6PLGHvo"
      }
    },
    {
      "cell_type": "code",
      "source": [
        "#Curso de programación en Python\n",
        "#Signatura de una función que calcula el área de un círculo\n",
        "\n",
        "def area_circulo(pi: float, radio: float)-> float:\n",
        "  \"\"\"\n",
        "  Esta función calcula el área de un círculo a partir de un radio dado\n",
        "  \"\"\"\n",
        "  return pi * (r)**2\n",
        "\n",
        "pi = 3.14159\n",
        "r = 5.12\n",
        "\n",
        "area_circ = area_circulo(pi, r)\n",
        "\n",
        "print('El área del circulo es: ', area_circ)"
      ],
      "metadata": {
        "colab": {
          "base_uri": "https://localhost:8080/"
        },
        "id": "eki8UyKwDucv",
        "outputId": "787f2110-33ba-4425-ce84-fa68adf6e271"
      },
      "execution_count": null,
      "outputs": [
        {
          "output_type": "stream",
          "name": "stdout",
          "text": [
            "El área del circulo es:  82.354896896\n"
          ]
        }
      ]
    },
    {
      "cell_type": "markdown",
      "source": [
        "**-Actividad: Escriba la signatura de una función que sirva para calcular la velocidad final de un objeto que tiene una velocidad inicial y acelera a una tasa constante durante una cierta cantidad de tiempo.**"
      ],
      "metadata": {
        "id": "M9VGNqWTG2mY"
      }
    },
    {
      "cell_type": "code",
      "source": [
        "#Curso de programación en Python\n",
        "#Signatura de una función que calcula la velocidad final de un objeto\n",
        "\n",
        "def vel_objeto(velocidad_i: float, aceleracion: float, tiempo: float)-> float:\n",
        "  \"\"\"\n",
        "  Esta función calcula la velocidad final de un objeto que se acelera constantemente durante un tiempo determinado\n",
        "  \"\"\"\n",
        "  return velocidad_i + (aceleracion * tiempo)\n",
        "\n",
        "velocidad_i = 98.2\n",
        "aceleracion = 9.8\n",
        "tiempo = 25\n",
        "\n",
        "resultado = vel_objeto(velocidad_i, aceleracion, tiempo)\n",
        "print('La velocidad final del objeto es de: ', resultado, 'm/s')\n"
      ],
      "metadata": {
        "colab": {
          "base_uri": "https://localhost:8080/"
        },
        "id": "Cq1QmblDGtCo",
        "outputId": "5de3c370-ae62-494a-8fb9-44ae00e98684"
      },
      "execution_count": null,
      "outputs": [
        {
          "output_type": "stream",
          "name": "stdout",
          "text": [
            "La velocidad final del objeto es de:  343.20000000000005 m/s\n"
          ]
        }
      ]
    },
    {
      "cell_type": "code",
      "source": [
        "help(vel_objeto)"
      ],
      "metadata": {
        "colab": {
          "base_uri": "https://localhost:8080/"
        },
        "id": "2oBrlV7aH02i",
        "outputId": "2b6c48e0-bf9c-4c0f-aa86-e6eaf16b0b6b"
      },
      "execution_count": null,
      "outputs": [
        {
          "output_type": "stream",
          "name": "stdout",
          "text": [
            "Help on function vel_objeto in module __main__:\n",
            "\n",
            "vel_objeto(velocidad_i: float, aceleracion: float, tiempo: float) -> float\n",
            "    Esta función calcula la velocidad final de un objeto que se acelera constantemente durante un tiempo determinado\n",
            "\n"
          ]
        }
      ]
    },
    {
      "cell_type": "markdown",
      "source": [
        "**-Actividad: Defina una función que calcula el perímetro de un cuadrado y otra que calcula su área. Agregue al archivo las instrucciones para preguntarle al usuario por el lado de un cuadrado y luego mostrarle el perímetro y el área de un cuadrado con esa medida.**"
      ],
      "metadata": {
        "id": "5vicVOU_O86-"
      }
    },
    {
      "cell_type": "code",
      "source": [
        "#Curso de programación en Python  \n",
        "#Perímetro y área de un cuadrado\n",
        "\n",
        "def perimetro_cuadrado(lado: float)-> float:\n",
        "  return lado + lado + lado + lado\n",
        "\n",
        "def area_cuadrado(lado: float)-> float:\n",
        "  return lado * lado\n",
        "\n",
        "lado = input('Escribe la longitud del lado del cuadrado: ')\n",
        "lado = float(lado)\n",
        "\n",
        "perimetro = perimetro_cuadrado(lado)\n",
        "area = area_cuadrado(lado)\n",
        "\n",
        "print('El perimetro del cuadrado es: ', perimetro, 'cm, y su área es: ', area, 'cm^2')"
      ],
      "metadata": {
        "colab": {
          "base_uri": "https://localhost:8080/"
        },
        "id": "m34Q5kSfIe3g",
        "outputId": "b8069d60-6c13-4c6d-a11b-3e8ea26f281c"
      },
      "execution_count": null,
      "outputs": [
        {
          "output_type": "stream",
          "name": "stdout",
          "text": [
            "Escribe la longitud del lado del cuadrado: 4\n",
            "El perimetro del cuadrado es:  16.0 cm, y su área es:  16.0 cm^2\n"
          ]
        }
      ]
    },
    {
      "cell_type": "markdown",
      "source": [
        "**-Actividad: Defina una función que permita convertir de grados Fahrenheit a grados Celsius.**"
      ],
      "metadata": {
        "id": "2vSzmJ86RP9h"
      }
    },
    {
      "cell_type": "code",
      "source": [
        "def fah_cels(fahrenheit):\n",
        "  cels = (fahrenheit - 32) * 5/9\n",
        "  return cels\n",
        "\n",
        "fahrenheit = 59\n",
        "resultado = fah_cels(fahrenheit)\n",
        "print('La conversión de grados Fahrenheit a grados Celsius es: ', resultado)\n"
      ],
      "metadata": {
        "colab": {
          "base_uri": "https://localhost:8080/"
        },
        "id": "y84wE-KQQBC6",
        "outputId": "496bb312-b2e4-4ca1-c116-24b47656a7f9"
      },
      "execution_count": null,
      "outputs": [
        {
          "output_type": "stream",
          "name": "stdout",
          "text": [
            "La conversión de grados Fahrenheit a grados Celsius es:  15.0\n"
          ]
        }
      ]
    },
    {
      "cell_type": "markdown",
      "source": [
        "**-Actividad: Escriba un programa que le pida a un usuario una cantidad de días y le muestre la cantidad de años, meses y días equivalentes. Suponga que todos los meses tienen 30 días.**"
      ],
      "metadata": {
        "id": "yampoBLeSz8m"
      }
    },
    {
      "cell_type": "code",
      "source": [
        "dias = input('Digite el número de días que quiere calcular de equivalencia en años, meses y días: ')\n",
        "dias = float(dias)\n",
        "\n",
        "def años(dias):\n",
        "  return dias / 365\n",
        "\n",
        "def mes_año(dias):\n",
        "  return dias / 30\n",
        "\n",
        "años_calc = años(dias)\n",
        "meses = mes_año(dias)\n",
        "\n",
        "print(dias, 'días, equivalen a ', round(años_calc, 4), 'años, y/o ', round(meses, 4), 'meses')"
      ],
      "metadata": {
        "colab": {
          "base_uri": "https://localhost:8080/"
        },
        "id": "y1Wu421DSIyc",
        "outputId": "02d43e57-a9f9-4b4b-a0db-7b7559c878fb"
      },
      "execution_count": null,
      "outputs": [
        {
          "output_type": "stream",
          "name": "stdout",
          "text": [
            "Digite el número de días que quiere calcular de equivalencia en años, meses y días: 450\n",
            "450.0 días, equivalen a  1.2329 años, y/o  15.0 meses\n"
          ]
        }
      ]
    },
    {
      "cell_type": "markdown",
      "source": [
        "Funciones que no devuelven ningún valor, como print, construimos un ejemplo:"
      ],
      "metadata": {
        "id": "onZJprojJrdd"
      }
    },
    {
      "cell_type": "code",
      "source": [
        "def imprimir(m: str)-> None:\n",
        "  print(m)\n",
        "\n",
        "imprimir('Acabamos de construir una función print')"
      ],
      "metadata": {
        "id": "QTWOsE4UTXhw",
        "colab": {
          "base_uri": "https://localhost:8080/"
        },
        "outputId": "4cecb2b5-cb04-4347-db3d-155de78c10cd"
      },
      "execution_count": null,
      "outputs": [
        {
          "output_type": "stream",
          "name": "stdout",
          "text": [
            "Acabamos de construir una función print\n"
          ]
        }
      ]
    },
    {
      "cell_type": "markdown",
      "source": [
        "**RETO 1: Área de un triángulo**"
      ],
      "metadata": {
        "id": "Zu2bXnHRKg0C"
      }
    },
    {
      "cell_type": "markdown",
      "source": [
        "El área de un triángulo puede ser calculada cuando se conoce la longitud de sus lados. Teniendo en cuenta que s1, s2 y s3 son las longitudes de los lados del triángulo, se puede calcular el subperímetro s = (s1+s2+s3)/2, y, con este valor, se puede calcular el área del triángulo de la siguiente manera: area = √( s * (s-s1) * (s-s2) * (s-s3) ). \n",
        "\n",
        "Cree una función que recibe la medida de los lados del triángulo y retorna el área de este, redondeada a una cifra decimal. \n",
        "\n",
        "El módulo math puede serle de ayuda para calcular la raíz cuadrada."
      ],
      "metadata": {
        "id": "NrjE-C4xKsmw"
      }
    },
    {
      "cell_type": "code",
      "source": [
        "#Curso de programación en Python\n",
        "#RETO 1: área de un triángulo\n",
        "\n",
        "import math\n",
        "\n",
        "def subperimetro(s1: float, s2: float, s3:float)-> float:\n",
        "  \"\"\"\n",
        "  Esta función calcula el subperimetro de un triángulo\n",
        "  \"\"\"\n",
        "  return (s1+s2+s3) / 2\n",
        "\n",
        "def area_triangulo(s: float, s1: float, s2:float, s3:float)-> float:\n",
        "  \"\"\"\n",
        "  Esta función calcula el área de un triángulo a través de su subperimetro\n",
        "  \"\"\"\n",
        "  s = subperimetro(s1, s2, s3)\n",
        "  area = math.sqrt((s*(s-s1) * (s-s2) * (s-s3)))\n",
        "  return area\n",
        "\n",
        "s1 = 48.5\n",
        "s2 = 30.2\n",
        "s3 = 20.7\n",
        "\n",
        "s = subperimetro(s1, s2, s3)\n",
        "resultado = area_triangulo(s, s1, s2, s3)\n",
        "print('El área del triángulo es', resultado, 'm^2')  "
      ],
      "metadata": {
        "colab": {
          "base_uri": "https://localhost:8080/"
        },
        "id": "I20soEmfJ6q3",
        "outputId": "04bcf93d-c28a-41aa-af4e-86bbd67f24f7"
      },
      "execution_count": null,
      "outputs": [
        {
          "output_type": "stream",
          "name": "stdout",
          "text": [
            "El área del triángulo es 183.64754286404187 m^2\n"
          ]
        }
      ]
    },
    {
      "cell_type": "markdown",
      "source": [
        "**RETO 2: Índice de masa corporal**"
      ],
      "metadata": {
        "id": "7Ha3uHxMOQn2"
      }
    },
    {
      "cell_type": "markdown",
      "source": [
        "Cree una función que pueda calcular el índice de masa corporal (BMI) de una persona.\n",
        "\n",
        "La fórmula para calcular el BMI es la siguiente: \n",
        "\n",
        "BMI = peso/(altura^2)\n",
        "\n",
        "En esta fórmula el peso está en kilogramos y la altura en metros. Tenga en cuenta que el peso y altura que reciban su función, van a estar en libras y pulgadas respectivamente, ya que su función será usada en los Estados Unidos.\n",
        "\n",
        "Recuerde que:\n",
        "\n",
        "1 libra corresponde a 0.45kg.\n",
        "\n",
        "1 pulgada corresponde a 0.025 metros.\n",
        "\n",
        "El valor de retorno debe estar redondeado a dos decimales. "
      ],
      "metadata": {
        "id": "BgjqE7xsOagm"
      }
    },
    {
      "cell_type": "code",
      "source": [
        "#Curso de programación en Python  \n",
        "#RETO 2: índice de masa corporal\n",
        "\n",
        "peso_lb = float(input('Ingrese su peso en libras: '))\n",
        "altura_inch = float(input('Ingrese su altura en pulgadas: '))\n",
        "\n",
        "def calcular_BMI(peso_lb: float, altura_inch: float)-> float:\n",
        "  \"\"\"\n",
        "  Función que calcula el índice de masa corporal de una persona a partir de su peso en libras y su altura en pulgadas\n",
        "  \"\"\"\n",
        "  BMI = (peso_lb * 0.45) / (altura_inch * 0.025)**2\n",
        "  return round(BMI, 2)\n",
        "\n",
        "imc = calcular_BMI(peso_lb, altura_inch)\n",
        "print('Su índice de masa corporal es: ', imc)"
      ],
      "metadata": {
        "colab": {
          "base_uri": "https://localhost:8080/"
        },
        "id": "qQ-WMMI1McTs",
        "outputId": "34a7d759-ad77-40ad-8990-4fafc452d0c3"
      },
      "execution_count": null,
      "outputs": [
        {
          "output_type": "stream",
          "name": "stdout",
          "text": [
            "Ingrese su peso en libras: 136\n",
            "Ingrese su altura en pulgadas: 66.14\n",
            "Su índice de masa corporal es:  22.38\n"
          ]
        }
      ]
    },
    {
      "cell_type": "markdown",
      "source": [
        "**-Actividad: Defina una función que convierta radianes en grados. Recuerde que 360 grados son 2*pi radianes.**"
      ],
      "metadata": {
        "id": "Xv9UMyzGusqN"
      }
    },
    {
      "cell_type": "code",
      "source": [
        "#Curso de programación en Python  \n",
        "import math\n",
        "\n",
        "def rad_grados(rad: float)-> float:\n",
        "  grad = rad * (360/(2*math.pi))\n",
        "  return grad\n",
        "\n",
        "rad = float(input('Ingrese los radianes para convertir en grados: '))\n",
        "resultado = rad_grados(rad)\n",
        "print('Los grados equivalentes a los radianes digitados son: ', round(resultado, 2))"
      ],
      "metadata": {
        "colab": {
          "base_uri": "https://localhost:8080/"
        },
        "id": "GyRLVdWAP0eS",
        "outputId": "5b5fa63c-c02f-4cd2-9639-1be73a6e5326"
      },
      "execution_count": null,
      "outputs": [
        {
          "output_type": "stream",
          "name": "stdout",
          "text": [
            "Ingrese los radianes para convertir en grados: 200\n",
            "Los grados equivalentes a los radianes digitados son:  11459.16\n"
          ]
        }
      ]
    },
    {
      "cell_type": "markdown",
      "source": [
        "**-Actividad: Defina una función que reciba un número entero positivo de 4 cifras (dígitos) y devuelva el número invertido.**"
      ],
      "metadata": {
        "id": "oeGbbBg5xKU-"
      }
    },
    {
      "cell_type": "code",
      "source": [
        "#Curso de programación en Python\n",
        "import math\n",
        "\n",
        "def inv_numero(cuatro: int)-> int:\n",
        "  uno = str(cuatro % 10)\n",
        "  dos = str((cuatro // 10) %10)\n",
        "  tres = str(((cuatro // 10) // 10 ) % 10)\n",
        "  cuarto = str((((cuatro // 10) // 10) // 10 ) % 10)\n",
        "  invertido = uno + dos + tres + cuarto   \n",
        "  return invertido\n",
        "\n",
        "cuatro = int(input('Digite un número entero de 4 cifras: '))\n",
        "resultado = inv_numero(cuatro)\n",
        "print('El número invertido es: ', resultado)"
      ],
      "metadata": {
        "colab": {
          "base_uri": "https://localhost:8080/"
        },
        "id": "uGdFoIlMveUr",
        "outputId": "d5c7f521-ecfa-492f-9ed0-e13ce9e8bec5"
      },
      "execution_count": null,
      "outputs": [
        {
          "output_type": "stream",
          "name": "stdout",
          "text": [
            "Digite un número entero de 4 cifras: 8532\n",
            "El número invertido es:  2358\n"
          ]
        }
      ]
    },
    {
      "cell_type": "markdown",
      "source": [
        "**Otra forma de hacerlo:**"
      ],
      "metadata": {
        "id": "rgwn971F4UhE"
      }
    },
    {
      "cell_type": "code",
      "source": [
        "def invertir_numero(numero:int)->int:\n",
        "  unidades = numero % 10 \n",
        "  numero //= 10\n",
        "  decenas = numero % 10\n",
        "  numero //= 10\n",
        "  centenas = numero % 10\n",
        "  numero //= 10\n",
        "  millares = numero % 10\n",
        "  invertido = str(unidades) + str(decenas) + str(centenas) + str(millares)\n",
        "  return invertido\n",
        "\n",
        "numero = int(input())\n",
        "inverso = invertir_numero(numero)\n",
        "print(inverso)"
      ],
      "metadata": {
        "colab": {
          "base_uri": "https://localhost:8080/"
        },
        "id": "x4zx81Y0xg4n",
        "outputId": "944aebf9-067f-4708-c953-d6eb36f2fcbc"
      },
      "execution_count": null,
      "outputs": [
        {
          "output_type": "stream",
          "name": "stdout",
          "text": [
            "6792\n",
            "2976\n"
          ]
        }
      ]
    },
    {
      "cell_type": "markdown",
      "source": [
        "**RETO 3: Cambio a retornar**"
      ],
      "metadata": {
        "id": "d2HcXVI45YyH"
      }
    },
    {
      "cell_type": "markdown",
      "source": [
        "Considere el software que se ejecuta en una máquina expendedora. Una de las tareas que debe realizar es determinar cuánto cambio debe entregarle al cliente luego de que paga. Escriba una función que recibe la cantidad de dinero (en pesos) a dar como cambio al cliente y retorne un mensaje con la cantidad de monedas de cada denominación que deben ser entregadas, teniendo en cuenta que el cambio se debe otorgar con la menor cantidad de monedas posible.\n",
        "\n",
        "La máquina cuenta con monedas de 500, 200, 100 y 50 pesos, y el cambio total se entregará con monedas de estas denominaciones. El mensaje retornado DEBE seguir el siguiente formato: “A,B,C,D” (sin espacios intermedios) donde A, B, C y D son la cantidad de monedas de 500, 200, 100 y 50, respectivamente."
      ],
      "metadata": {
        "id": "DvxapZ4W5fSr"
      }
    },
    {
      "cell_type": "code",
      "source": [
        "#Curso de programación en Python\n",
        "#RETO 3: Cambio a retornar \n",
        "cambio = int(input('Ingrese el cambio que se le debe entregar: '))\n",
        "\n",
        "def calcular_cambio(cambio: int)-> int:\n",
        "  A, B, C, D = 500, 200, 100, 50\n",
        "  dev_1 = cambio // A\n",
        "  sobra1 = cambio - (dev_1 * A)\n",
        "\n",
        "  dev_2 = sobra1 // B\n",
        "  sobra2 = sobra1 - (dev_2 * B)\n",
        "\n",
        "  dev_3 = sobra2 // C\n",
        "  sobra3 = sobra2 - (dev_3 * C) \n",
        "\n",
        "  dev_4 = sobra3 // D\n",
        "  sobra4 = sobra3 - (dev_4 * D)\n",
        "\n",
        "  final = str(dev_1) + ',' + str(dev_2) + ',' + str(dev_3) + ',' + str(dev_4)\n",
        "   \n",
        "  return final\n",
        "\n",
        "result = calcular_cambio(cambio)\n",
        "print('Su cambio en pesos colombianos corresponde a la cantidad de monedas ', result, 'de 500, 200, 100 y 50 pesos respectivamente.')"
      ],
      "metadata": {
        "id": "NKfKyy7v49RT",
        "colab": {
          "base_uri": "https://localhost:8080/"
        },
        "outputId": "f5011dd6-e070-43ff-ebb0-123beab18af8"
      },
      "execution_count": null,
      "outputs": [
        {
          "output_type": "stream",
          "name": "stdout",
          "text": [
            "Ingrese el cambio que se le debe entregar: 2150\n",
            "Su cambio en pesos colombianos corresponde a la cantidad de monedas  4,0,1,1 de 500, 200, 100 y 50 pesos respectivamente.\n"
          ]
        }
      ]
    },
    {
      "cell_type": "markdown",
      "source": [
        "**RETO 4: Hora de llegada de vuelo**"
      ],
      "metadata": {
        "id": "8LclwzPXWIK6"
      }
    },
    {
      "cell_type": "markdown",
      "source": [
        "Una agencia de viajes necesita informar a sus clientes la hora de llegada de sus vuelos. Se conoce la hora de partida del vuelo (en horas, minutos y segundos) y la duración del vuelo (en horas, minutos y segundos).\n",
        "\n",
        "Cree una función que retorne la hora de llegada del vuelo en una cadena con el formato “HH:mm:ss” donde HH es la hora, mm los minutos y ss los segundos de la hora de llegada del vuelo. \n",
        "\n",
        "La hora está dada en formato de 24 horas. Si alguno de los 3 números de la respuesta es menor a 10, sólo se necesita un dígito ('7' en lugar de '07')."
      ],
      "metadata": {
        "id": "Ec6mEaSIWNEc"
      }
    },
    {
      "cell_type": "code",
      "source": [
        "#Curso de programación en Python \n",
        "#RETO 4: Hora de llegada de vuelo\n",
        "\n",
        "def calcular_horario_llegada(hora_salida:int, minuto_salida:int, segundo_salida:int, duracion_horas:int, duracion_minutos:int, duracion_segundos:int):\n",
        "  h, m, s = 24, 60, 60\n",
        "  horas = (hora_salida + duracion_horas) % h\n",
        "  minutos = (minuto_salida + duracion_minutos) % m\n",
        "  segundos = (segundo_salida + duracion_segundos) % s\n",
        "  h_llegada = str(horas) + 'h:' + str(minutos) + 'm:' + str(segundos) + 's'\n",
        "  return h_llegada\n",
        "\n",
        "hora_salida = int(input('Ingrese la hora de salida de su vuelo: '))\n",
        "minuto_salida = int(input('Ingrese el minuto de salida de su vuelo: '))\n",
        "segundo_salida = int(input('Ingrese el segundo de salida de su vuelo: '))\n",
        "duracion_horas = int(input('Ingrese la duración de su vuelo en horas: '))\n",
        "duracion_minutos = int(input('Ingrese la duración de su vuelo en minutos: '))\n",
        "duracion_segundos = int(input('Ingrese la duración de su vuelo en segundos: '))\n",
        "\n",
        "resultado = calcular_horario_llegada(hora_salida, minuto_salida, segundo_salida, duracion_horas, duracion_minutos, duracion_segundos)\n",
        "print('La hora de llegada a su destino es: ',resultado,'en un formato HH:mm:ss de 24 horas.')"
      ],
      "metadata": {
        "colab": {
          "base_uri": "https://localhost:8080/"
        },
        "id": "2cKDowVsFuiC",
        "outputId": "6a28b70b-503c-4fb0-ddd1-d1bd8268daaa"
      },
      "execution_count": null,
      "outputs": [
        {
          "output_type": "stream",
          "name": "stdout",
          "text": [
            "Ingrese la hora de salida de su vuelo: 12\n",
            "Ingrese el minuto de salida de su vuelo: 55\n",
            "Ingrese el segundo de salida de su vuelo: 55\n",
            "Ingrese la duración de su vuelo en horas: 7\n",
            "Ingrese la duración de su vuelo en minutos: 13\n",
            "Ingrese la duración de su vuelo en segundos: 13\n",
            "La hora de llegada a su destino es a las:  19h:8m:8s en un formato HH:mm:ss de 24 horas.\n"
          ]
        }
      ]
    },
    {
      "cell_type": "markdown",
      "source": [
        "**-Actividad: Calculce el área de la parte sombreada del cuadrado que tiene en su interior un círculo blanco.**"
      ],
      "metadata": {
        "id": "cQi41TReZXNx"
      }
    },
    {
      "cell_type": "code",
      "source": [
        "import math\n",
        "\n",
        "lado = float(input('Ingrese el tamaño de los lados del cuadrado: '))\n",
        "radio = float(input('Ingrese el radio del circulo: '))\n",
        "\n",
        "def area_cuadrado(lado: float)-> float:\n",
        "  return lado * lado\n",
        "\n",
        "def area_circulo(radio: float)-> float:\n",
        "  return math.pi * (radio)**2\n",
        "\n",
        "def area_oscura(lado: float, radio: float)-> float:\n",
        "  cuadrado = area_cuadrado(lado)\n",
        "  circulo = area_circulo(radio)\n",
        "  return cuadrado - circulo\n",
        "\n",
        "resultado = area_oscura(lado, radio)\n",
        "print('El área de la zona oscura del cuadrado es: ', resultado, 'cm^2')"
      ],
      "metadata": {
        "id": "WXxBwjH6NYMc",
        "colab": {
          "base_uri": "https://localhost:8080/"
        },
        "outputId": "3d308954-20a5-42e6-ede3-5dc61a2cfba8"
      },
      "execution_count": null,
      "outputs": [
        {
          "output_type": "stream",
          "name": "stdout",
          "text": [
            "Ingrese el tamaño de los lados del cuadrado: 20\n",
            "Ingrese el radio del circulo: 10\n",
            "El área de la zona oscura del cuadrado es:  85.84073464102067 cm^2\n"
          ]
        }
      ]
    },
    {
      "cell_type": "markdown",
      "source": [
        "# Estilo de programación"
      ],
      "metadata": {
        "id": "nnr2OeO7fa5Q"
      }
    },
    {
      "cell_type": "markdown",
      "source": [
        "Veamos ahora cómo se implementa en Python la separación entre la interfaz y la lógica de los programas. Para esto, tomaremos el programa ‘saludar.py’ que ya conocemos de una sección anterior:"
      ],
      "metadata": {
        "id": "OWRiQa0Gf6l3"
      }
    },
    {
      "cell_type": "markdown",
      "source": [
        "Lógica: logica_saludar.py"
      ],
      "metadata": {
        "id": "yzKvipJegCTO"
      }
    },
    {
      "cell_type": "code",
      "source": [
        "# Esto está en el archivo logica_saludar.py\n",
        "def saludar(nombre: str)-> str:\n",
        "   return \"Hola \" + nombre + \"!\"\n"
      ],
      "metadata": {
        "id": "QEW5KD7GbJ_E"
      },
      "execution_count": null,
      "outputs": []
    },
    {
      "cell_type": "markdown",
      "source": [
        "Interfaz: interfaz_saludar.py"
      ],
      "metadata": {
        "id": "6uNb78XAgY51"
      }
    },
    {
      "cell_type": "code",
      "source": [
        "# Esto está en el archivo interfaz_saludar.py\n",
        "\n",
        "import logica_saludar as logica\n",
        "\n",
        "nombre = input(\"¿Cuál es su nombre? \")\n",
        "saludo = logica.saludar(nombre)\n",
        "print(saludo)"
      ],
      "metadata": {
        "id": "7nh2ww3wgGrR"
      },
      "execution_count": null,
      "outputs": []
    },
    {
      "cell_type": "markdown",
      "source": [
        "# ***Módulo 2: Tomando decisiones***"
      ],
      "metadata": {
        "id": "LPlJrLngfYDr"
      }
    },
    {
      "cell_type": "markdown",
      "source": [
        "Escribe el resultado de las siguientes instrucciones booleanas:"
      ],
      "metadata": {
        "id": "rb8EQIAAIePR"
      }
    },
    {
      "cell_type": "code",
      "source": [
        "a = 45\n",
        "b = 30\n",
        "c = 10\n",
        "\n",
        "a + c >= b #True"
      ],
      "metadata": {
        "id": "RPH3jFKygrji",
        "colab": {
          "base_uri": "https://localhost:8080/"
        },
        "outputId": "1541b383-c043-4fd2-f90d-299f1b83ab6e"
      },
      "execution_count": null,
      "outputs": [
        {
          "output_type": "execute_result",
          "data": {
            "text/plain": [
              "True"
            ]
          },
          "metadata": {},
          "execution_count": 1
        }
      ]
    },
    {
      "cell_type": "code",
      "source": [
        "a = 45\n",
        "b = 30\n",
        "c = 10\n",
        "\n",
        "b - c < a - b #False"
      ],
      "metadata": {
        "colab": {
          "base_uri": "https://localhost:8080/"
        },
        "id": "lTQjziaOItic",
        "outputId": "427093a1-0d98-4000-a164-7f1ca35bd2d0"
      },
      "execution_count": null,
      "outputs": [
        {
          "output_type": "execute_result",
          "data": {
            "text/plain": [
              "False"
            ]
          },
          "metadata": {},
          "execution_count": 2
        }
      ]
    },
    {
      "cell_type": "code",
      "source": [
        "a = 45\n",
        "b = 30\n",
        "c = 10\n",
        "\n",
        "(a > b and b > c) or (b < c and a > b) #True"
      ],
      "metadata": {
        "colab": {
          "base_uri": "https://localhost:8080/"
        },
        "id": "Ery09U53I3io",
        "outputId": "147c7e78-c386-464c-d1cb-437929715a11"
      },
      "execution_count": null,
      "outputs": [
        {
          "output_type": "execute_result",
          "data": {
            "text/plain": [
              "True"
            ]
          },
          "metadata": {},
          "execution_count": 3
        }
      ]
    },
    {
      "cell_type": "code",
      "source": [
        "a = 45\n",
        "b = 30\n",
        "c = 10\n",
        "\n",
        "a*b < a*b / c #False"
      ],
      "metadata": {
        "colab": {
          "base_uri": "https://localhost:8080/"
        },
        "id": "34_Xh9YeJIAx",
        "outputId": "f8be9cf8-c7d4-4fd6-f593-06b6cc7b96cc"
      },
      "execution_count": null,
      "outputs": [
        {
          "output_type": "execute_result",
          "data": {
            "text/plain": [
              "False"
            ]
          },
          "metadata": {},
          "execution_count": 4
        }
      ]
    },
    {
      "cell_type": "code",
      "source": [
        "a = 45\n",
        "b = 30\n",
        "c = 10\n",
        "\n",
        "a > c and b #El valor es b debido a la ley de identidad de la conjunción"
      ],
      "metadata": {
        "colab": {
          "base_uri": "https://localhost:8080/"
        },
        "id": "aQlLR7u2JSwN",
        "outputId": "cc0c6a50-0805-44ed-ee49-755926d324d3"
      },
      "execution_count": null,
      "outputs": [
        {
          "output_type": "execute_result",
          "data": {
            "text/plain": [
              "30"
            ]
          },
          "metadata": {},
          "execution_count": 5
        }
      ]
    },
    {
      "cell_type": "markdown",
      "source": [
        "# Valores de verdad en Python"
      ],
      "metadata": {
        "id": "K0SIsQtIUD-T"
      }
    },
    {
      "cell_type": "code",
      "source": [
        "type(True)"
      ],
      "metadata": {
        "id": "EXkRsaaCJwG7",
        "colab": {
          "base_uri": "https://localhost:8080/"
        },
        "outputId": "03d24fb5-1108-4d6c-da3f-36ed31256960"
      },
      "execution_count": null,
      "outputs": [
        {
          "output_type": "execute_result",
          "data": {
            "text/plain": [
              "bool"
            ]
          },
          "metadata": {},
          "execution_count": 1
        }
      ]
    },
    {
      "cell_type": "code",
      "source": [
        "type(False)"
      ],
      "metadata": {
        "colab": {
          "base_uri": "https://localhost:8080/"
        },
        "id": "3BBkr08fUlFN",
        "outputId": "6d337c35-809f-494b-c951-e71f1fb429cf"
      },
      "execution_count": null,
      "outputs": [
        {
          "output_type": "execute_result",
          "data": {
            "text/plain": [
              "bool"
            ]
          },
          "metadata": {},
          "execution_count": 2
        }
      ]
    },
    {
      "cell_type": "code",
      "source": [
        "True == 1"
      ],
      "metadata": {
        "colab": {
          "base_uri": "https://localhost:8080/"
        },
        "id": "46x6J9pEUnXM",
        "outputId": "4c67008a-2f7a-43b7-e20b-1f5e8bf1e495"
      },
      "execution_count": null,
      "outputs": [
        {
          "output_type": "execute_result",
          "data": {
            "text/plain": [
              "True"
            ]
          },
          "metadata": {},
          "execution_count": 5
        }
      ]
    },
    {
      "cell_type": "code",
      "source": [
        "True == 0"
      ],
      "metadata": {
        "colab": {
          "base_uri": "https://localhost:8080/"
        },
        "id": "hnZzZ_wKU2az",
        "outputId": "91ae4262-5c3b-4965-a8ec-d9e5f6b95177"
      },
      "execution_count": null,
      "outputs": [
        {
          "output_type": "execute_result",
          "data": {
            "text/plain": [
              "False"
            ]
          },
          "metadata": {},
          "execution_count": 6
        }
      ]
    },
    {
      "cell_type": "code",
      "source": [
        "False == 0 "
      ],
      "metadata": {
        "colab": {
          "base_uri": "https://localhost:8080/"
        },
        "id": "AmX16Ej7U5OU",
        "outputId": "2ddeca36-5399-4b60-a8fd-0695df54529f"
      },
      "execution_count": null,
      "outputs": [
        {
          "output_type": "execute_result",
          "data": {
            "text/plain": [
              "True"
            ]
          },
          "metadata": {},
          "execution_count": 7
        }
      ]
    },
    {
      "cell_type": "code",
      "source": [
        "False == 1"
      ],
      "metadata": {
        "colab": {
          "base_uri": "https://localhost:8080/"
        },
        "id": "mhrxbr17U6RM",
        "outputId": "c1520642-e8ac-472d-db26-21378f3aadcb"
      },
      "execution_count": null,
      "outputs": [
        {
          "output_type": "execute_result",
          "data": {
            "text/plain": [
              "False"
            ]
          },
          "metadata": {},
          "execution_count": 8
        }
      ]
    },
    {
      "cell_type": "markdown",
      "source": [
        "Funciones que retornan valores de verdad:"
      ],
      "metadata": {
        "id": "SRSkvopjVCKt"
      }
    },
    {
      "cell_type": "markdown",
      "source": [
        "El tipo bool también puede usarse para expresar el tipo de retorno de una función. Por ejemplo, las siguientes son dos funciones que retornan un valor de tipo bool: siempre que la primera función sea invocada, el resultado será un valor verdadero, mientras que para la segunda función el valor siempre será falso"
      ],
      "metadata": {
        "id": "YKBGYU3bVS-F"
      }
    },
    {
      "cell_type": "code",
      "source": [
        "def f(x: int)-> bool:\n",
        "  print('f:', x)\n",
        "  return True\n",
        "\n",
        "def g(x: int)-> bool:\n",
        "  print('g:', x)\n",
        "  return False"
      ],
      "metadata": {
        "id": "9gwbzz9sU8MV"
      },
      "execution_count": null,
      "outputs": []
    },
    {
      "cell_type": "markdown",
      "source": [
        "# Conjunción (and)"
      ],
      "metadata": {
        "id": "ybCxT9yYVybA"
      }
    },
    {
      "cell_type": "markdown",
      "source": [
        "Python primero revisará el valor de w. Si es falso, Python inmediatamente dirá que la expresión completa es falsa. De lo contrario, el valor de la expresión completa será el valor de la expresión x and y and z.\n",
        "\n",
        "Si no hemos terminado, Python revisará el valor de x. Si es falso, Python inmediatamente dirá que la expresión completa es falsa. De lo contrario, el valor de la expresión completa será el valor de la expresión y and z.\n",
        "\n",
        "Si no hemos terminado, Python revisará el valor de y. Si es falso, Python inmediatamente dirá que la expresión completa es falsa. De lo contrario, el valor de la expresión completa será el valor de la expresión z.\n",
        "\n",
        "Si no hemos terminado, Python revisará el valor de z y como no hay más operaciones le asignará a la expresión el valor de z."
      ],
      "metadata": {
        "id": "vBw5E1TWXNEZ"
      }
    },
    {
      "cell_type": "code",
      "source": [
        "def f(x: int)->bool:\n",
        "    print('f:', x)\n",
        "    return True\n",
        "\n",
        "def g(x: int)->bool:\n",
        "    print('g:', x)\n",
        "    return False\n",
        "\n",
        "print(\"Caso 1 - f and f and f :\")\n",
        "print(f(1) and f(2) and f(3))\n",
        "\n",
        "print(\"Caso 2 - f and f and g :\")\n",
        "print(f(1) and f(2) and g(3))\n",
        "\n",
        "print(\"Caso 3 - f and g and g :\")\n",
        "print(f(1) and g(2) and g(3))\n",
        "\n",
        "print(\"Caso 4 - g and g and g :\")\n",
        "print(g(1) and g(2) and g(3))"
      ],
      "metadata": {
        "colab": {
          "base_uri": "https://localhost:8080/"
        },
        "id": "fb3-p9vKVlLh",
        "outputId": "f76b781d-5e96-4b54-e0af-7c80a78079ad"
      },
      "execution_count": null,
      "outputs": [
        {
          "output_type": "stream",
          "name": "stdout",
          "text": [
            "Caso 1 - f and f and f :\n",
            "f: 1\n",
            "f: 2\n",
            "f: 3\n",
            "True\n",
            "Caso 2 - f and f and g :\n",
            "f: 1\n",
            "f: 2\n",
            "g: 3\n",
            "False\n",
            "Caso 3 - f and g and g :\n",
            "f: 1\n",
            "g: 2\n",
            "False\n",
            "Caso 4 - g and g and g :\n",
            "g: 1\n",
            "False\n"
          ]
        }
      ]
    },
    {
      "cell_type": "markdown",
      "source": [
        "# Disyunción (or)"
      ],
      "metadata": {
        "id": "vg3V93RBXj4v"
      }
    },
    {
      "cell_type": "markdown",
      "source": [
        "La operación lógica de disyunción se expresa en Python usando la palabra reservada or. Cuando se tiene en un programa Python una expresión de la forma p or q se sabe entonces que tendrá un valor falso sólo si la expresión p y la expresión q tienen simultáneamente un valor falso. Además, el operador or es asociativo, así que se pueden escribir expresiones como w or x or y or z sin tener que usar paréntesis y sin riesgos de que cambie el resultado.\n",
        "\n",
        "Al igual que con la operación and, Python también busca eficiencias en la evaluación de expresiones que usen en este operador. Esto se logra identificando inmediatamente que el resultado de una operación or entre el valor verdadero y cualquier valor, siempre será verdadero. Es decir que, si el primer operando de una operación que use el operador or es verdadero, entonces el valor de la operación será verdadero y no será necesario evaluar los otros términos."
      ],
      "metadata": {
        "id": "2BBKC7FSYE8A"
      }
    },
    {
      "cell_type": "code",
      "source": [
        "def f(x: int)->bool:\n",
        "    print('f:', x)\n",
        "    return True\n",
        "\n",
        "def g(x: int)->bool:\n",
        "    print('g:', x)\n",
        "    return False\n",
        "\n",
        "print(\"Caso 1 - f or f or f :\")\n",
        "print(f(1) or f(2) or f(3))\n",
        "\n",
        "print(\"Caso 2 - f or f or g :\")\n",
        "print(f(1) or f(2) or g(3))\n",
        "\n",
        "print(\"Caso 3 - g or f or g :\")\n",
        "print(g(1) or f(2) or g(3))\n",
        "\n",
        "print(\"Caso 4 - g or g or g :\")\n",
        "print(g(1) or g(2) or g(3))"
      ],
      "metadata": {
        "colab": {
          "base_uri": "https://localhost:8080/"
        },
        "id": "hL_xlvjJW1nn",
        "outputId": "d95a5e17-0037-490a-e331-cc44003fa344"
      },
      "execution_count": null,
      "outputs": [
        {
          "output_type": "stream",
          "name": "stdout",
          "text": [
            "Caso 1 - f or f or f :\n",
            "f: 1\n",
            "True\n",
            "Caso 2 - f or f or g :\n",
            "f: 1\n",
            "True\n",
            "Caso 3 - g or f or g :\n",
            "g: 1\n",
            "f: 2\n",
            "True\n",
            "Caso 4 - g or g or g :\n",
            "g: 1\n",
            "g: 2\n",
            "g: 3\n",
            "False\n"
          ]
        }
      ]
    },
    {
      "cell_type": "markdown",
      "source": [
        "# Negación (not)"
      ],
      "metadata": {
        "id": "WbUGBGuaY2qR"
      }
    },
    {
      "cell_type": "markdown",
      "source": [
        "El tercer operador lógico en Python es la negación, la cual se expresa con la palabra reservada not. Como se trata de un operador unario se debe anteponer al operando. Es decir que se usa igual que como se usa el signo - para convertir a un número en su negativo (por ejemplo, 5, -5 y -(-5))).\n",
        "\n",
        "El operador not no tiene ninguna diferencia con la operación lógica de negación y tiene una precedencia que es mayor a la de la conjunción y a la de la disyunción. Es decir que not a and b siempre será equivalente a (not a) and b y que a and not b siempre será equivalente a a and (not b)."
      ],
      "metadata": {
        "id": "Czhvo4tlZRPe"
      }
    },
    {
      "cell_type": "code",
      "source": [
        "def f(x: int)->bool:\n",
        "    print('f:', x)\n",
        "    return True\n",
        "\n",
        "def g(x: int)->bool:\n",
        "    print('g:', x)\n",
        "    return False\n",
        "\n",
        "print(\"Caso 1:\", not f(1) and f(2))\n",
        "print(not f(1) and f(2))\n",
        "print(\"Caso 2:\", not g(1) and f(2))\n",
        "print(not g(1) and f(2))"
      ],
      "metadata": {
        "colab": {
          "base_uri": "https://localhost:8080/"
        },
        "id": "fmm3yznRYfyg",
        "outputId": "1c99a79c-19e1-4016-cfcb-ca6c356505e2"
      },
      "execution_count": null,
      "outputs": [
        {
          "output_type": "stream",
          "name": "stdout",
          "text": [
            "f: 1\n",
            "Caso 1: False\n",
            "f: 1\n",
            "False\n",
            "g: 1\n",
            "f: 2\n",
            "Caso 2: True\n",
            "g: 1\n",
            "f: 2\n",
            "True\n"
          ]
        }
      ]
    },
    {
      "cell_type": "markdown",
      "source": [
        "Operadores relacionales"
      ],
      "metadata": {
        "id": "FQz3IkuIeY8u"
      }
    },
    {
      "cell_type": "code",
      "source": [
        "4 < 7"
      ],
      "metadata": {
        "colab": {
          "base_uri": "https://localhost:8080/"
        },
        "id": "Djh_7HpSZdHW",
        "outputId": "4d1442ed-6fef-4626-e240-e190e29f4e48"
      },
      "execution_count": null,
      "outputs": [
        {
          "output_type": "execute_result",
          "data": {
            "text/plain": [
              "True"
            ]
          },
          "metadata": {},
          "execution_count": 13
        }
      ]
    },
    {
      "cell_type": "code",
      "source": [
        "\"Ab\" <= \"ab\""
      ],
      "metadata": {
        "colab": {
          "base_uri": "https://localhost:8080/"
        },
        "id": "rTcChU91ebtJ",
        "outputId": "482847b1-f001-4d1c-f003-7e1083efd72d"
      },
      "execution_count": null,
      "outputs": [
        {
          "output_type": "execute_result",
          "data": {
            "text/plain": [
              "True"
            ]
          },
          "metadata": {},
          "execution_count": 14
        }
      ]
    },
    {
      "cell_type": "code",
      "source": [
        "\"abc\" == \"ab\" + \"c\""
      ],
      "metadata": {
        "colab": {
          "base_uri": "https://localhost:8080/"
        },
        "id": "g7aGvK4XeeEJ",
        "outputId": "06ba4b4c-533e-4577-a30d-b5356669655d"
      },
      "execution_count": null,
      "outputs": [
        {
          "output_type": "execute_result",
          "data": {
            "text/plain": [
              "True"
            ]
          },
          "metadata": {},
          "execution_count": 15
        }
      ]
    },
    {
      "cell_type": "code",
      "source": [
        "4 is 7"
      ],
      "metadata": {
        "colab": {
          "base_uri": "https://localhost:8080/"
        },
        "id": "8U2_Kpz1eiLT",
        "outputId": "bb4b0b2c-9dbf-41ff-d820-94f297c78a41"
      },
      "execution_count": null,
      "outputs": [
        {
          "output_type": "execute_result",
          "data": {
            "text/plain": [
              "False"
            ]
          },
          "metadata": {},
          "execution_count": 16
        }
      ]
    },
    {
      "cell_type": "code",
      "source": [
        "4 != 7"
      ],
      "metadata": {
        "colab": {
          "base_uri": "https://localhost:8080/"
        },
        "id": "Nq-RhCq_ej5k",
        "outputId": "609335be-a7e7-4162-c1b1-8e3461866f92"
      },
      "execution_count": null,
      "outputs": [
        {
          "output_type": "execute_result",
          "data": {
            "text/plain": [
              "True"
            ]
          },
          "metadata": {},
          "execution_count": 17
        }
      ]
    },
    {
      "cell_type": "markdown",
      "source": [
        "# Funciones booleanas"
      ],
      "metadata": {
        "id": "dnPIPnm8hf9G"
      }
    },
    {
      "cell_type": "code",
      "source": [
        "def es_positivo(x: int)->bool:\n",
        "    positivo = x > 0\n",
        "    \"\"\"\n",
        "    Si x es un número positivo, la función retorna True, de lo contrario retorna False\n",
        "    \"\"\"\n",
        "    return positivo\n",
        "\n",
        "def es_negativo(x: int)->bool:\n",
        "    negativo = x < 0\n",
        "    \"\"\"\n",
        "    Si x es un número negativo, la función retorna True, de lo contrario retorna False\n",
        "    \"\"\"\n",
        "    return negativo\n",
        "    \n",
        "def es_cero(x: int)->bool:\n",
        "    positivo = es_positivo(x)\n",
        "    negativo = es_negativo(x)\n",
        "    \"\"\"\n",
        "    Si el número no es negativo ni positivo, el retorno de esta función es True,\n",
        "    por lo que el número corresponde a cero\n",
        "    \"\"\"\n",
        "    return not positivo and not negativo\n",
        "    \n",
        "def ordenadas(antes: str, despues: str)->bool:\n",
        "    \"\"\" \n",
        "    Revisa si dos cadenas en un diccionario están ordenadas lexicográficamente\n",
        "    Parámetros:\n",
        "        antes (str): una cadena que está antes que la otra en un diccionario\n",
        "        despues (str): una cadena que está después que la otra en un diccionario\n",
        "    Retorno:\n",
        "        (bool): Indica si las cadenas estaban ordenadas.\n",
        "                El resultado será verdadero si la cadena 'antes' tiene que ir \n",
        "                antes que la cadena 'despues' en orden lexicográfico.\n",
        "                El resultado será falso de lo contrario.   \n",
        "    \"\"\"\n",
        "    estan_ordenadas = antes < despues\n",
        "    return estan_ordenadas\n",
        "\n",
        "ve = ordenadas('AAA', 'aaa')\n",
        "print('¿Están ordenadas? ', ve)\n",
        "\n",
        "cero = es_cero(0)\n",
        "print('¿El número es cero? ', cero)"
      ],
      "metadata": {
        "colab": {
          "base_uri": "https://localhost:8080/"
        },
        "id": "4s2G1hrhel1N",
        "outputId": "61f9afbd-7cb5-490a-d013-bc5d6d6f3dc1"
      },
      "execution_count": null,
      "outputs": [
        {
          "output_type": "stream",
          "name": "stdout",
          "text": [
            "¿Están ordenadas?  True\n",
            "¿El número es cero?  True\n"
          ]
        }
      ]
    },
    {
      "cell_type": "markdown",
      "source": [
        "Operadores de igualdad"
      ],
      "metadata": {
        "id": "J6QHlAP1iE1D"
      }
    },
    {
      "cell_type": "code",
      "source": [
        "def es_par(x: int)->bool:\n",
        "    # En la siguiente línea sobran los paréntesis, \n",
        "    # pero si incluyeron para hacer más claro el código\n",
        "    residuo_cero = (x % 2 == 0)\n",
        "    return residuo_cero\n",
        "\n",
        "def no_es_7_v1(x: int)->bool:\n",
        "    # En la siguiente línea sobran los paréntesis, \n",
        "    # pero si incluyeron para hacer más claro el código\n",
        "    x_es_7 = (x == 7)   \n",
        "    return not x_es_7\n",
        "    \n",
        "def no_es_7_v2(x: int)->bool:\n",
        "    return x != 7    "
      ],
      "metadata": {
        "id": "cQn2CHjKgBmJ"
      },
      "execution_count": null,
      "outputs": []
    },
    {
      "cell_type": "code",
      "source": [
        "0.2 == 1.2 - 1.0"
      ],
      "metadata": {
        "colab": {
          "base_uri": "https://localhost:8080/"
        },
        "id": "Y-mVADJFiIJv",
        "outputId": "6a955fb1-4349-49ef-9acb-9e939ff447aa"
      },
      "execution_count": null,
      "outputs": [
        {
          "output_type": "execute_result",
          "data": {
            "text/plain": [
              "False"
            ]
          },
          "metadata": {},
          "execution_count": 28
        }
      ]
    },
    {
      "cell_type": "code",
      "source": [
        "round(0.2, 1) == round(1.2 - 1.0, 1)"
      ],
      "metadata": {
        "colab": {
          "base_uri": "https://localhost:8080/"
        },
        "id": "2t7JW1D8nCUc",
        "outputId": "f8dd000f-9bcf-457c-d124-bcc051a2b735"
      },
      "execution_count": null,
      "outputs": [
        {
          "output_type": "execute_result",
          "data": {
            "text/plain": [
              "True"
            ]
          },
          "metadata": {},
          "execution_count": 29
        }
      ]
    },
    {
      "cell_type": "code",
      "source": [
        "3 is 1+2"
      ],
      "metadata": {
        "colab": {
          "base_uri": "https://localhost:8080/"
        },
        "id": "XjzHil91nGBF",
        "outputId": "464dfb3a-0a2c-4ee8-b4cf-ef3717385ede"
      },
      "execution_count": null,
      "outputs": [
        {
          "output_type": "execute_result",
          "data": {
            "text/plain": [
              "True"
            ]
          },
          "metadata": {},
          "execution_count": 30
        }
      ]
    },
    {
      "cell_type": "markdown",
      "source": [
        "**-Actividad: Escriba una función que dada la edad de una persona indique si puede manejar (tiene que tener al menos 16 años)**"
      ],
      "metadata": {
        "id": "dZAbXdQ5GiVI"
      }
    },
    {
      "cell_type": "code",
      "source": [
        "#Curso de programación en Python\n",
        "\n",
        "def puede_manejar(edad: int)-> bool:\n",
        "  permiso = edad >= 16\n",
        "  return permiso\n",
        "\n",
        "edad = int(input('Ingrese su edad: '))\n",
        "si_puede = puede_manejar(edad)\n",
        "\n",
        "print('¿La persona tiene permiso para manejar? ', si_puede)"
      ],
      "metadata": {
        "id": "rj2OP_lMnjkK",
        "colab": {
          "base_uri": "https://localhost:8080/"
        },
        "outputId": "20b00707-f550-481d-da69-c0a755914886"
      },
      "execution_count": null,
      "outputs": [
        {
          "output_type": "stream",
          "name": "stdout",
          "text": [
            "Ingrese su edad: 15\n",
            "¿La persona tiene permiso para manejar?  False\n"
          ]
        }
      ]
    },
    {
      "cell_type": "markdown",
      "source": [
        "**-Actividad: Escriba una función que dada la altura en metros y el peso en kilogramos de un adulto diga si está dentro de los rangos típicamente considerados saludables. Para esto debe usar el Índice de Masa Corporal (BMI), que se calcula como peso/altura2. Un adulto se considera que tiene sobrepeso cuando su BMI es mayor o igual a 25. Un adulto se considera que está bajo de peso cuando su BMI es menor a 18.5.**"
      ],
      "metadata": {
        "id": "7Bxy4N_5H2Vn"
      }
    },
    {
      "cell_type": "code",
      "source": [
        "#Curso de programación en Python\n",
        "\n",
        "def saludable(altura: float, peso:float)-> bool:\n",
        "  bmi = (peso) / (altura)**2\n",
        "  salud_adulto = bmi >= 18.5 and bmi <= 25\n",
        "  return salud_adulto\n",
        "\n",
        "altura = float(input('Ingrese su altura en metros: '))\n",
        "peso = float(input('Ingrese su peso en kilogramos: '))\n",
        "es_saludable = saludable(altura, peso)\n",
        "\n",
        "print('¿El adulto es saludable según el IMC? ', es_saludable)"
      ],
      "metadata": {
        "colab": {
          "base_uri": "https://localhost:8080/"
        },
        "id": "YHfz1XzDHwiA",
        "outputId": "eca9b36c-0f27-438b-eb5d-61db3b805830"
      },
      "execution_count": null,
      "outputs": [
        {
          "output_type": "stream",
          "name": "stdout",
          "text": [
            "Ingrese su altura en metros: 1.68\n",
            "Ingrese su peso en kilogramos: 62\n",
            "¿El adulto es saludable según el IMC?  True\n"
          ]
        }
      ]
    },
    {
      "cell_type": "markdown",
      "source": [
        "**-Actividad: Escriba una función que dados dos números diga si el primero es divisible por el segundo.**"
      ],
      "metadata": {
        "id": "60ZJcJKqJIev"
      }
    },
    {
      "cell_type": "code",
      "source": [
        "#Curso de programación en Python\n",
        "\n",
        "def divisibles(uno: int, dos: int)-> bool:\n",
        "  div = uno % dos == 0\n",
        "  return div\n",
        "\n",
        "uno = int(input('Digite un número: '))\n",
        "dos = int(input('Digite otro número: '))\n",
        "divisible = divisibles(uno, dos)\n",
        "print('¿El primer número es divisible por el segundo? ', divisible)"
      ],
      "metadata": {
        "colab": {
          "base_uri": "https://localhost:8080/"
        },
        "id": "xti3Vn6OIdbb",
        "outputId": "080dd018-ed09-4b89-afd1-cf13aba5ba40"
      },
      "execution_count": null,
      "outputs": [
        {
          "output_type": "stream",
          "name": "stdout",
          "text": [
            "Digite un número: 7\n",
            "Digite otro número: 3\n",
            "¿El primer número es divisible por el segundo?  False\n"
          ]
        }
      ]
    },
    {
      "cell_type": "markdown",
      "source": [
        "-Actividad: Queremos saber si una persona tiene el dinero suficiente para pagar la cuenta en un restaurante dados los siguientes parámetros: la cantidad de dinero que tiene la persona, el valor de la cuenta, si la persona va a dejar propina o no. La propina corresponde al 10% del valor de la cuenta.\n",
        "\n"
      ],
      "metadata": {
        "id": "ZusF5uRVJ-CP"
      }
    },
    {
      "cell_type": "code",
      "source": [
        "#Curso de programación en Python\n",
        "\n",
        "def dinero_suficiente(dinero: float, cuenta: float, propina: bool)-> bool:\n",
        "  pagar_cuenta = dinero - cuenta >= 0\n",
        "  prop = (cuenta*0.1)\n",
        "  cuenta_y_propina = dinero >= (cuenta + prop) and propina\n",
        "  return pagar_cuenta, cuenta_y_propina\n",
        "\n",
        "dinero = float(input('Ingrese el dinero del que dispone: '))\n",
        "cuenta = float(input('Ingrese el valor de su cuenta: '))\n",
        "propina = bool(input('Si va a dejar propina ingrese 1, de lo contrario ingrese 0: '))\n",
        "\n",
        "suficiente = dinero_suficiente(dinero, cuenta, propina)\n",
        "\n",
        "print('¿Tiene suficiente dinero la persona para pagar la cuenta // y dar propina?', suficiente)"
      ],
      "metadata": {
        "colab": {
          "base_uri": "https://localhost:8080/"
        },
        "id": "rxKILLh7JqRi",
        "outputId": "93883b59-5ea5-4170-f22d-8a9fa1f4c130"
      },
      "execution_count": null,
      "outputs": [
        {
          "output_type": "stream",
          "name": "stdout",
          "text": [
            "Ingrese el dinero del que dispone: 101\n",
            "Ingrese el valor de su cuenta: 100.5\n",
            "Si va a dejar propina ingrese 1, de lo contrario ingrese 0: 1\n",
            "¿Tiene suficiente dinero la persona para pagar la cuenta // y dar propina? (True, False)\n"
          ]
        }
      ]
    },
    {
      "cell_type": "markdown",
      "source": [
        "# Instrucciones condicionales"
      ],
      "metadata": {
        "id": "1cWbg21tEtH9"
      }
    },
    {
      "cell_type": "markdown",
      "source": [
        "Tomemos como ejemplo la funcionalidad de verificar si la contraseña introducida por un usuario es correcta o no: si es correcta, quisiéramos informarle al usuario que sí es correcta; si no es correcta, quisiéramos decirle que no es correcta y que debe volver a intentarlo. En la sección anterior aprendimos a comparar cadenas de caracteres, así que ya podríamos saber si la contraseña es correcta o no:"
      ],
      "metadata": {
        "id": "Hp9lOWtNFCfc"
      }
    },
    {
      "cell_type": "code",
      "source": [
        "contraseña_almacenada = 984597\n",
        "contraseña_ingresada = 984597\n",
        "contraseña_correcta = contraseña_almacenada == contraseña_ingresada\n",
        "print(contraseña_correcta)"
      ],
      "metadata": {
        "id": "XbGPJo2LLMAd",
        "colab": {
          "base_uri": "https://localhost:8080/"
        },
        "outputId": "7d738036-fdf5-4fe6-d2a3-d99974faa9fa"
      },
      "execution_count": null,
      "outputs": [
        {
          "output_type": "stream",
          "name": "stdout",
          "text": [
            "True\n"
          ]
        }
      ]
    },
    {
      "cell_type": "markdown",
      "source": [
        "Lo que no podemos hacer, sin usar instrucciones condicionales, es calcular el mensaje correcto para mostrarle al usuario con base en el valor de contrasena_correcta."
      ],
      "metadata": {
        "id": "OfHWhlV1FKSX"
      }
    },
    {
      "cell_type": "markdown",
      "source": [
        "Consideremos ahora otro ejemplo en el que queremos calcular el valor de una factura:"
      ],
      "metadata": {
        "id": "GYgx2hA2Fu5k"
      }
    },
    {
      "cell_type": "code",
      "source": [
        "valor_producto = 14000\n",
        "impuestos = valor_producto * 0.19\n",
        "valor_factura = valor_producto + impuestos"
      ],
      "metadata": {
        "id": "yu1rxGjHE_DR"
      },
      "execution_count": null,
      "outputs": []
    },
    {
      "cell_type": "markdown",
      "source": [
        "¿Qué pasa si no todos los productos tienen que pagar impuestos? ¿Qué pasa si el porcentaje de impuestos es diferente dependiendo del valor del producto (ej. 19% para productos de más de 10000 y 10% para productos de menos)? Para lograr representar estas situaciones también necesitamos usar instrucciones condicionales."
      ],
      "metadata": {
        "id": "965OgSwkFzWq"
      }
    },
    {
      "cell_type": "markdown",
      "source": [
        "# IF-ELSE"
      ],
      "metadata": {
        "id": "MDoGpKayGALA"
      }
    },
    {
      "cell_type": "markdown",
      "source": [
        "Veamos ahora cómo podemos usar esta estructura usando el ejemplo de la verificación de contraseña:"
      ],
      "metadata": {
        "id": "DEq3JvqLGk2_"
      }
    },
    {
      "cell_type": "code",
      "source": [
        "contrasena_almacenada = 'secreto'\n",
        "contrasena_ingresada = input('Ingrese su contraseña: ')\n",
        "\n",
        "if contrasena_almacenada == contrasena_ingresada:\n",
        "  mensaje = 'La contraseña es correcta.'\n",
        "else:\n",
        "  mensaje = 'La contraseña es incorrecta.'\n",
        "\n",
        "print(mensaje)"
      ],
      "metadata": {
        "colab": {
          "base_uri": "https://localhost:8080/"
        },
        "id": "_Z_PyoWOFxUQ",
        "outputId": "0f6b8ede-e236-41c2-f599-30f32977bfcd"
      },
      "execution_count": null,
      "outputs": [
        {
          "output_type": "stream",
          "name": "stdout",
          "text": [
            "Ingrese su contraseña: secreto\n",
            "La contraseña es correcta.\n"
          ]
        }
      ]
    },
    {
      "cell_type": "markdown",
      "source": [
        "Veamos ahora otras dos maneras en las que habríamos podido escribir el mismo programa.\n",
        "\n",
        "En la primera alternativa vamos a extraer la instrucción condicional y convertirla en una función que calcule el mensaje."
      ],
      "metadata": {
        "id": "CXIQoi0TH5YX"
      }
    },
    {
      "cell_type": "code",
      "source": [
        "def revisar(contrasena_almacenada: str, contrasena_ingresada: str)->str:\n",
        "    contrasena_correcta = contrasena_almacenada == contrasena_ingresada\n",
        "    \n",
        "    if contrasena_correcta:\n",
        "        mensaje = \"Su contraseña es correcta\"\n",
        "    else:\n",
        "        mensaje = \"La contraseña es incorrecta\"\n",
        "    return mensaje\n",
        "\n",
        "contrasena_almacenada = 'secreto'\n",
        "contrasena_ingresada = input(\"Ingrese su contraseña: \")\n",
        "mensaje = revisar(contrasena_almacenada, contrasena_ingresada)\n",
        "print(mensaje)"
      ],
      "metadata": {
        "colab": {
          "base_uri": "https://localhost:8080/"
        },
        "id": "8k8u0wiiG3jx",
        "outputId": "4f623804-25a0-4aff-afe3-1d6ef4469cb3"
      },
      "execution_count": null,
      "outputs": [
        {
          "output_type": "stream",
          "name": "stdout",
          "text": [
            "Ingrese su contraseña: aspirina\n",
            "La contraseña es incorrecta\n"
          ]
        }
      ]
    },
    {
      "cell_type": "markdown",
      "source": [
        "La siguiente es la segunda alternativa al código original: en este caso no hay una función adicional pero tampoco hay un else."
      ],
      "metadata": {
        "id": "HyDT2blHIy4D"
      }
    },
    {
      "cell_type": "code",
      "source": [
        "contrasena_almacenada = \"secreto\"\n",
        "contrasena_ingresada = input(\"Ingrese su contraseña:\")\n",
        "\n",
        "mensaje = \"La contraseña es incorrecta\"\n",
        "if contrasena_almacenada == contrasena_ingresada:\n",
        "    mensaje = \"Su contraseña es correcta\"\n",
        "\n",
        "print(mensaje)"
      ],
      "metadata": {
        "colab": {
          "base_uri": "https://localhost:8080/"
        },
        "id": "rWgP-hXlIKdo",
        "outputId": "072bcf7e-df47-4a07-9bb1-7620f65025e3"
      },
      "execution_count": null,
      "outputs": [
        {
          "output_type": "stream",
          "name": "stdout",
          "text": [
            "Ingrese su contraseña:1234\n",
            "La contraseña es incorrecta\n"
          ]
        }
      ]
    },
    {
      "cell_type": "markdown",
      "source": [
        "**-Actvidad: Queremos escribir una función que nos diga quién ganará en el lanzamiento de una moneda. Escriba una función que reciba el nombre de la persona que pidió ‘cara’, el nombre de la persona que pidió ‘sello’ y el resultado del lanzamiento (‘cara’ o ‘sello’) y responda con el nombre de la persona que haya acertado**"
      ],
      "metadata": {
        "id": "1wy2g7NQJKqi"
      }
    },
    {
      "cell_type": "code",
      "source": [
        "def lanzamiento(cara: str, sello: str, resultado: str)-> str:\n",
        "  if resultado == 'cara':\n",
        "    mensaje = 'El ganador es: ' + cara\n",
        "  else:\n",
        "    mensaje = 'El ganador es: ' + sello\n",
        "  return mensaje\n",
        "\n",
        "cara = input('Nombre de la persona que eligió cara: ')\n",
        "sello = input('Nombre de la persona que eligió sello: ')\n",
        "resultado = input('Resultado de la moneda: ')\n",
        "\n",
        "ganador = lanzamiento(cara, sello, resultado)\n",
        "print(ganador)"
      ],
      "metadata": {
        "colab": {
          "base_uri": "https://localhost:8080/"
        },
        "id": "nijf_ld1I1AT",
        "outputId": "5f439fc1-3600-41c4-9e2d-061924967fed"
      },
      "execution_count": null,
      "outputs": [
        {
          "output_type": "stream",
          "name": "stdout",
          "text": [
            "Nombre de la persona que eligió cara: Juanpa\n",
            "Nombre de la persona que eligió sello: Valen\n",
            "Resultado de la moneda: cara\n",
            "El ganador es: Juanpa\n"
          ]
        }
      ]
    },
    {
      "cell_type": "markdown",
      "source": [
        "Veamos un ejemplo de una instrucción que incluya varias condiciones. Suponga que las funciones longitud, tiene_numeros, tiene_minusculas, tiene_mayusculas y cambiar_contrasena ya están definidas en alguna otra parte del programa. El bloque condicional empieza con la palabra reservada if y una condición; de ahí en adelante, cada condición se acompaña de la palabra reservada elif. Al final encontramos un bloque ELSE que, como todos los bloques ELSE que hemos estudiado, incluye la palabra else pero no tiene una condición asociada."
      ],
      "metadata": {
        "id": "vtU1bFdgQ94i"
      }
    },
    {
      "cell_type": "code",
      "source": [
        "nueva = input(\"Introduzca su nueva contraseña:\")\n",
        "\n",
        "if longitud(nueva) < 8:\n",
        "    mensaje = \"La nueva contraseña debe tener al menos 8 caracteres\"\n",
        "    \n",
        "elif nueva == contrasena_anterior:\n",
        "    mensaje = \"La nueva contraseña no puede ser igual a la anterior\"\n",
        "\n",
        "elif nueva.isalnum():\n",
        "    mensaje = \"La nueva contraseña debe tener signos de puntuación\"\n",
        "    \n",
        "elif not tiene_numeros(nueva):\n",
        "    mensaje = \"La nueva contraseña debe tener al menos un número\"\n",
        "\n",
        "elif not tiene_mayusculas(nueva):\n",
        "    mensaje = \"La nueva contraseña debe tener al menos una letra mayúscula\"\n",
        "\n",
        "elif not tiene_minúsculas(nueva):\n",
        "    mensaje = \"La nueva contraseña debe tener al menos una letra minúscula\"\n",
        "\n",
        "else:\n",
        "    cambiar_contrasena(nueva)\n",
        "    mensaje = \"La contraseña se cambió exitosamente\"\n",
        "\n",
        "print(mensaje)"
      ],
      "metadata": {
        "id": "az9exRQCKlDg"
      },
      "execution_count": null,
      "outputs": []
    },
    {
      "cell_type": "markdown",
      "source": [
        "Suponga ahora que queremos cambiar nuestro programa para que al usuario no se le informe sólo el primer problema que se encuentre con su nueva contraseña, sino que se le digan de una vez todos los problemas que tenga. En este caso la estructura basada en IF-ELIF-ELSE ya no nos sirve porque necesitamos que siempre se verifiquen todas las condiciones.\n",
        "\n",
        "Para lograr que esto pase, lo único que podemos hacer es separar las condiciones en instrucciones diferentes, asegurando así que todas sean verificadas. Es decir que, en lugar de tener un IF seguido de varios ELIF, en los cuales sólo 1 condición puede ser cierta a la vez, vamos a tener varios IF totalmente desconectados. Observe esto en la siguiente versión de nuestro programa:"
      ],
      "metadata": {
        "id": "J1vKK30LRDgb"
      }
    },
    {
      "cell_type": "code",
      "source": [
        "nueva = input(\"Introduzca su nueva contraseña:\")\n",
        "contrasena_correcta = True\n",
        "mensaje = \"\"\n",
        "\n",
        "if longitud(nueva) < 8:\n",
        "    contrasena_correcta = False\n",
        "    mensaje += \"La nueva contraseña debe tener al menos 8 caracteres\" + \"\\n\"\n",
        "    \n",
        "if nueva == contrasena_anterior:\n",
        "    contrasena_correcta = False\n",
        "    mensaje += \"La nueva contraseña no puede ser igual a la anterior\" + \"\\n\"\n",
        "\n",
        "if nueva.isalnum():\n",
        "    contrasena_correcta = False\n",
        "    mensaje += \"La nueva contraseña debe tener signos de puntuación\" + \"\\n\"\n",
        "    \n",
        "if not tiene_numeros(nueva):\n",
        "    contrasena_correcta = False\n",
        "    mensaje += \"La nueva contraseña debe tener al menos un número\" + \"\\n\"\n",
        "\n",
        "if not tiene_mayusculas(nueva):\n",
        "    contrasena_correcta = False\n",
        "    mensaje += \"La nueva contraseña debe tener al menos una letra mayúscula\" + \"\\n\"\n",
        "\n",
        "if not tiene_minúsculas(nueva):\n",
        "    contrasena_correcta = False\n",
        "    mensaje += \"La nueva contraseña debe tener al menos una letra minúscula\" + \"\\n\"\n",
        "\n",
        "if contrasena_correcta:\n",
        "    cambiar_contrasena(nueva)\n",
        "    mensaje = \"La contraseña se cambió exitosamente\"\n",
        "\n",
        "print(mensaje)"
      ],
      "metadata": {
        "id": "ntFeCx80RAqC"
      },
      "execution_count": null,
      "outputs": []
    },
    {
      "cell_type": "markdown",
      "source": [
        "**-Actividad: El valor de un peaje depende del tipo de vehículo (categoría) que pase y de la cantidad de ejes que tenga: automóviles, camionetas y camperos (AUTO) deben pagar 10000; buses y busetas (BUS), 14300; camiones grandes de 2 ejes (CAMION), 16000; camiones de 3 y 4 ejes (CAMION), 28100; camiones de 5 ejes (CAMION), 37700; y camiones de 6 o más ejes (CAMION) deben pagar 41400. Adicionalmente, un vehículo podría tener un descuento especial del 15% por paso frecuente. Escriba una función que reciba el tipo de un vehículo (‘AUTO’, ‘BUS’ o ‘CAMION’) y si tiene descuento especial y calcule el valor que debe pagar en el peaje.**\n",
        "\n"
      ],
      "metadata": {
        "id": "EEHnOAe4H1eV"
      }
    },
    {
      "cell_type": "code",
      "source": [
        "#Curso de programación en Python\n",
        "\n",
        "def tipo_vehiculo(vehiculo: str, descuento: str)-> str:\n",
        "  if vehiculo == 'AUTO' and descuento == 'SI':\n",
        "    mensaje = 'El valor de su peaje es ' + str(10000 - 10000*0.15) + ' COP'\n",
        "  elif vehiculo == 'AUTO' and descuento == 'NO':\n",
        "    mensaje = 'El valor de su peaje es 10000 COP'\n",
        "\n",
        "  elif vehiculo == 'BUS' and descuento == 'SI':\n",
        "    mensaje = 'El valor de su peaje es ' + str(14300 - 14300*0.15) + ' COP'\n",
        "  elif vehiculo == 'BUS' and descuento == 'NO':\n",
        "    mensaje = 'El valor de su peaje es 14300'\n",
        "\n",
        "  elif vehiculo == 'CAMION' and descuento == 'SI':\n",
        "    mensaje = 'El valor de su peaje es ' + str(16000 - 16000*0.15) + ' COP'\n",
        "  elif vehiculo == 'CAMION' and descuento == 'NO':\n",
        "    mensaje = 'El valor de su peaje es 16000 COP'\n",
        "  return mensaje\n",
        "\n",
        "vehiculo = input('Ingrese su tipo de vehiculo en mayúsculas y sin acentuación (AUTO, BUS, CAMION): ')\n",
        "descuento = input('Ingrese SI, si cuenta con algún tipo de descuento por ser un vehiculo reccurente, de lo contrario ingrese NO: ')\n",
        "peaje = tipo_vehiculo(vehiculo, descuento)\n",
        "\n",
        "print(peaje)\n"
      ],
      "metadata": {
        "colab": {
          "base_uri": "https://localhost:8080/"
        },
        "id": "UoI4_KHlIblb",
        "outputId": "2ba9d95a-510f-4eca-a83e-e225d777b0a4"
      },
      "execution_count": null,
      "outputs": [
        {
          "output_type": "stream",
          "name": "stdout",
          "text": [
            "Ingrese su tipo de vehiculo en mayúsculas y sin acentuación (AUTO, BUS, CAMION): BUS\n",
            "Ingrese SI, si cuenta con algún tipo de descuento por ser un vehiculo reccurente, de lo contrario ingrese NO: SI\n",
            "El valor de su peaje es 12155.0 COP\n"
          ]
        }
      ]
    },
    {
      "cell_type": "markdown",
      "source": [
        "# Condicionales anidados"
      ],
      "metadata": {
        "id": "y9d8M8NnddwI"
      }
    },
    {
      "cell_type": "markdown",
      "source": [
        "Como hemos visto con algunos de los ejemplos anteriores, usualmente el mismo problema puede resolverse correctamente usando estructuras diferentes. A continuación exploramos cuatro formas de resolver el mismo problema: queremos saber si un número es positivo y además es menor de 10.\n",
        "\n"
      ],
      "metadata": {
        "id": "pvOn_EjEfT_L"
      }
    },
    {
      "cell_type": "markdown",
      "source": [
        "El siguiente bloque muestra la definición de una función que resuelve el problema utilizando condicionales anidados:"
      ],
      "metadata": {
        "id": "P4iVnZdvgE5Z"
      }
    },
    {
      "cell_type": "code",
      "source": [
        "def es_positivo_de_un_solo_digito_v1(x: int)-> bool:\n",
        "  if x > 0:\n",
        "    if x < 10:\n",
        "      return True\n",
        "    else:\n",
        "      return False\n",
        "  else:\n",
        "    return False\n",
        "\n",
        "positivo = int(input('Digite un número entero: '))\n",
        "resultado = es_positivo_de_un_solo_digito_v1(positivo)\n",
        "print(resultado)"
      ],
      "metadata": {
        "colab": {
          "base_uri": "https://localhost:8080/"
        },
        "id": "5gfrBnm4Qq8W",
        "outputId": "964f2f89-d215-434d-fcb8-eda892707730"
      },
      "execution_count": null,
      "outputs": [
        {
          "output_type": "stream",
          "name": "stdout",
          "text": [
            "Digite un número entero: 11\n",
            "False\n"
          ]
        }
      ]
    },
    {
      "cell_type": "markdown",
      "source": [
        "Llamamos condicional anidado a la situación en la cual hay una instrucción condicional dentro del cuerpo de otra instrucción condicional."
      ],
      "metadata": {
        "id": "pstMkbxzg_gT"
      }
    },
    {
      "cell_type": "markdown",
      "source": [
        "Sin embargo, este ejemplo podría simplificarse un poco si se analizan las condiciones que llevan al único caso en que se retorna True en esta función: para que se pueda llegar a este punto es necesario que las dos condiciones sean verdaderas simultáneamente, es decir que x > 0 y x < 10. En todos los otros casos, la función debería retornar False.\n",
        "\n",
        "Si llevamos eso en al código llegamos a la segunda versión de la función:"
      ],
      "metadata": {
        "id": "EWwUvY8-hP9a"
      }
    },
    {
      "cell_type": "code",
      "source": [
        "def es_positivo_de_un_solo_digito_v2(x: int)-> bool:\n",
        "  if x > 0 and x < 10:\n",
        "    return True\n",
        "  else:\n",
        "    return False\n",
        "\n",
        "positivo = int(input('Digite un número entero: '))\n",
        "resultado = es_positivo_de_un_solo_digito_v2(positivo)\n",
        "print(resultado)"
      ],
      "metadata": {
        "colab": {
          "base_uri": "https://localhost:8080/"
        },
        "id": "XxXiZp5WguaY",
        "outputId": "42d9e229-9dbc-42b1-9062-0c6197e16349"
      },
      "execution_count": null,
      "outputs": [
        {
          "output_type": "stream",
          "name": "stdout",
          "text": [
            "Digite un número entero: 11\n",
            "False\n"
          ]
        }
      ]
    },
    {
      "cell_type": "markdown",
      "source": [
        "A pesar de sus diferencias, los dos ejemplos anteriores coinciden en un aspecto: tan pronto encuentran la respuesta, retornan verdadero o falso y terminan la ejecución de la función. Aunque esto no está necesariamente mal, una práctica que suele hacer el código más fácil de entender y por ende mucho más mantenible, es limitar la cantidad de puntos en los cuales se utilice la instrucción return. Por ejemplo, la última versión de la función puede remplazarse por la siguiente versión remplazando los return por asignaciones a una variable y dejando sólo un return al final de la función."
      ],
      "metadata": {
        "id": "Nz3kgto2h67a"
      }
    },
    {
      "cell_type": "code",
      "source": [
        "def es_positivo_de_un_solo_digito_v3(x: int)-> bool:\n",
        "  resultado = False\n",
        "  if x > 0 and x < 10:\n",
        "    resultado = True\n",
        "  return resultado\n",
        "\n",
        "positivo = int(input('Digite un número entero: '))\n",
        "result = es_positivo_de_un_solo_digito_v2(positivo)\n",
        "print(result)"
      ],
      "metadata": {
        "colab": {
          "base_uri": "https://localhost:8080/"
        },
        "id": "iygV1qZchiyJ",
        "outputId": "769bdd8e-5815-44d6-9bf9-5719b184bd82"
      },
      "execution_count": null,
      "outputs": [
        {
          "output_type": "stream",
          "name": "stdout",
          "text": [
            "Digite un número entero: 11\n",
            "False\n"
          ]
        }
      ]
    },
    {
      "cell_type": "markdown",
      "source": [
        "En varios casos, incluyendo el que hemos estado trabajando, existen formas de remplazar las instrucciones condicionales por expresiones booleanas. Eso es lo que hemos hecho en la cuarta y última versión de la función: en lugar de calcular un resultado y luego retornarlo, acá el valor mismo de la expresión es el retorno de la función."
      ],
      "metadata": {
        "id": "5T2WflbVjDk1"
      }
    },
    {
      "cell_type": "code",
      "source": [
        "def es_positivo_de_un_solo_digito_v4(x: int)-> bool:\n",
        "  return x > 0 and x < 10\n",
        "\n",
        "positivo = int(input('Digite un número entero: '))\n",
        "result = es_positivo_de_un_solo_digito_v2(positivo)\n",
        "print(result)"
      ],
      "metadata": {
        "colab": {
          "base_uri": "https://localhost:8080/"
        },
        "id": "1ETJ4pD4iMYM",
        "outputId": "39ac0e8a-8eee-4a49-dac3-25f3e15d8e43"
      },
      "execution_count": null,
      "outputs": [
        {
          "output_type": "stream",
          "name": "stdout",
          "text": [
            "Digite un número entero: 11\n",
            "False\n"
          ]
        }
      ]
    },
    {
      "cell_type": "markdown",
      "source": [
        "**Caso de estudio: el mayor de 4 números**"
      ],
      "metadata": {
        "id": "w3f0UyQqjoLh"
      }
    },
    {
      "cell_type": "markdown",
      "source": [
        "En esta sección vamos a estudiar un problema recurrente y muy importante que debe resolverse utilizando instrucciones condicionales, pero puede resolverse de maneras diferentes. Empezaremos planteándole el problema para que usted lo resuelva y luego pasaremos a discutir nuestras alternativas de solución. Esperamos que usted vaya comparando nuestras soluciones con la suya.\n",
        "\n"
      ],
      "metadata": {
        "id": "4zG0O9HejxGv"
      }
    },
    {
      "cell_type": "markdown",
      "source": [
        "Escriba una función que reciba por parámetro cuatro números enteros y devuelva el mayor de estos. Si hay dos o más iguales y mayores, retorna cualquiera de estos"
      ],
      "metadata": {
        "id": "LZ4ItDonkGc4"
      }
    },
    {
      "cell_type": "code",
      "source": [
        "#Curso de programación en Python\n",
        "\n",
        "def mayor(a: int, b: int, c: int, d: int)-> str:\n",
        "  if a >= b and a >= c and a >= d:\n",
        "    mensaje = 'El mayor de los cuatro números es ' + str(a) \n",
        "  elif b >= a and b >= c and b >= d:\n",
        "    mensaje = 'El mayor de los cuatro números es ' + str(b)\n",
        "  elif c >= d:\n",
        "    mensaje = 'El mayor de los cuatro números es ' + str(c)\n",
        "  else:\n",
        "    mensaje = 'El mayor de los cuatro números es ' + str(d)\n",
        "  return mensaje\n",
        "\n",
        "a = int(input('a: '))\n",
        "b = int(input('b: '))\n",
        "c = int(input('c: '))\n",
        "d = int(input('d: '))\n",
        "mayor_numero = mayor(a, b, c, d)\n",
        "print(mayor_numero)\n"
      ],
      "metadata": {
        "colab": {
          "base_uri": "https://localhost:8080/"
        },
        "id": "7O6ivxr_jO7c",
        "outputId": "37135101-72b2-429b-ad07-b28ec826d2f2"
      },
      "execution_count": null,
      "outputs": [
        {
          "output_type": "stream",
          "name": "stdout",
          "text": [
            "a: 11\n",
            "b: 22\n",
            "c: 34\n",
            "d: 12\n",
            "El mayor de los cuatro números es 34\n"
          ]
        }
      ]
    },
    {
      "cell_type": "markdown",
      "source": [
        "Alternativas de solución:\n",
        "\n",
        "Primer alternativa: múltiples returns"
      ],
      "metadata": {
        "id": "R4ytCU-snaLD"
      }
    },
    {
      "cell_type": "code",
      "source": [
        "def mayor(a: int, b: int, c: int, d: int)-> int:\n",
        "  if (a >= b) and (a >= c) and (a >= d):\n",
        "    return a\n",
        "  elif (b >= a) and (b >= c) and (b >= d):\n",
        "    return b\n",
        "  elif (c >= 1) and (c >= b) and (c >= d):\n",
        "    return c\n",
        "  else:\n",
        "    return d\n",
        "\n",
        "a = int(input('a: '))\n",
        "b = int(input('b: '))\n",
        "c = int(input('c: '))\n",
        "d = int(input('d: '))\n",
        "mayor_numero = mayor(a, b, c, d)\n",
        "print(mayor_numero)"
      ],
      "metadata": {
        "colab": {
          "base_uri": "https://localhost:8080/"
        },
        "id": "pm_NvaCKmCJP",
        "outputId": "0d350cd8-df9d-4ec1-864f-7fc1642243b6"
      },
      "execution_count": null,
      "outputs": [
        {
          "output_type": "stream",
          "name": "stdout",
          "text": [
            "a: 11\n",
            "b: 24\n",
            "c: 32\n",
            "d: 18\n",
            "32\n"
          ]
        }
      ]
    },
    {
      "cell_type": "markdown",
      "source": [
        "Segunda alternativa: un solo return"
      ],
      "metadata": {
        "id": "LGoXUExVpDnO"
      }
    },
    {
      "cell_type": "code",
      "source": [
        "def mayor(a: int, b: int, c:int, d:int)->int:\n",
        "    if (a >= b) and (a >= c) and (a >= d):\n",
        "        mayor = a\n",
        "    elif (b >= a) and (b >= c) and (b >= d):\n",
        "        mayor = b\n",
        "    elif (c >= 1) and (c >= b) and (c >= d):\n",
        "        mayor = c\n",
        "    else:\n",
        "        mayor = d\n",
        "\n",
        "    return mayor\n",
        "\n",
        "a = int(input('a: '))\n",
        "b = int(input('b: '))\n",
        "c = int(input('c: '))\n",
        "d = int(input('d: '))\n",
        "mayor_numero = mayor(a, b, c, d)\n",
        "print(mayor_numero)"
      ],
      "metadata": {
        "colab": {
          "base_uri": "https://localhost:8080/"
        },
        "id": "hC34fwgmo0VS",
        "outputId": "258a5d0c-fdb0-48e8-fb26-536477ccb187"
      },
      "execution_count": null,
      "outputs": [
        {
          "output_type": "stream",
          "name": "stdout",
          "text": [
            "a: 12\n",
            "b: 52\n",
            "c: 40\n",
            "d: 5\n",
            "52\n"
          ]
        }
      ]
    },
    {
      "cell_type": "markdown",
      "source": [
        "Tercera alternativa: aproximación algorítmica"
      ],
      "metadata": {
        "id": "woF4ntEhpVEt"
      }
    },
    {
      "cell_type": "code",
      "source": [
        "def mayor(a: int, b: int, c: int, d: int)-> int:\n",
        "  mayor = a\n",
        "  if (b > a):\n",
        "    mayor = b\n",
        "  if (c > mayor):\n",
        "    mayor = c\n",
        "  if (d > mayor):\n",
        "    mayor = d\n",
        "  return mayor\n",
        "\n",
        "a = int(input('a: '))\n",
        "b = int(input('b: '))\n",
        "c = int(input('c: '))\n",
        "d = int(input('d: '))\n",
        "mayor_numero = mayor(a, b, c, d)\n",
        "print(mayor_numero)"
      ],
      "metadata": {
        "colab": {
          "base_uri": "https://localhost:8080/"
        },
        "id": "iEbo1caXpNmt",
        "outputId": "617481e0-e335-45d1-848f-d76dd15983b6"
      },
      "execution_count": null,
      "outputs": [
        {
          "output_type": "stream",
          "name": "stdout",
          "text": [
            "a: 4\n",
            "b: 7\n",
            "c: 9\n",
            "d: 3\n",
            "9\n"
          ]
        }
      ]
    },
    {
      "cell_type": "markdown",
      "source": [
        "**RETO 1: Modularidad**\n"
      ],
      "metadata": {
        "id": "kG-SoKDbEGQF"
      }
    },
    {
      "cell_type": "markdown",
      "source": [
        "Escriba una función que reciba dos números enteros n y d y determine si n es divisible por 2d, si n es divisible por d, o si n no es divisible ni por d ni por 2d."
      ],
      "metadata": {
        "id": "I45aM3q8EKh7"
      }
    },
    {
      "cell_type": "code",
      "source": [
        "#Curso de programación en python\n",
        "#RETO 1: Modularidad\n",
        "\n",
        "def modularidad(n: int, d: int)-> int:\n",
        "  \"\"\"\n",
        "  Si el número n es divisible por 2d, retorna 2. Si el número n es divisible entre d pero no entre 2d, retorna 1. De lo contrario, retorna 0.\n",
        "  \"\"\"\n",
        "  retorno = 0\n",
        "  if n % (2*d) == 0:\n",
        "    retorno = 2\n",
        "  if n % d == 0 and not n % (2*d) == 0:\n",
        "    retorno = 1\n",
        "  return retorno\n",
        "\n",
        "n = int(input('Número n: '))\n",
        "d = int(input('Número d: '))\n",
        "modulo = modularidad(n, d)\n",
        "print(modulo)\n"
      ],
      "metadata": {
        "id": "RnxyR8zG362e",
        "colab": {
          "base_uri": "https://localhost:8080/"
        },
        "outputId": "471a0196-2df7-4edd-ff29-1df23f5c5ec3"
      },
      "execution_count": null,
      "outputs": [
        {
          "output_type": "stream",
          "name": "stdout",
          "text": [
            "Número n: 32\n",
            "Número d: 4\n",
            "2\n"
          ]
        }
      ]
    },
    {
      "cell_type": "markdown",
      "source": [
        "**Leyes de Morgan**"
      ],
      "metadata": {
        "id": "trfxPtuBJFP8"
      }
    },
    {
      "cell_type": "code",
      "source": [
        "x = True\n",
        "y = False\n",
        "not (x and y) == (not x) or (not y)"
      ],
      "metadata": {
        "colab": {
          "base_uri": "https://localhost:8080/"
        },
        "id": "CrL2agMvGvpx",
        "outputId": "ff3ad486-7b5b-4781-c8f1-98e08d4bb952"
      },
      "execution_count": null,
      "outputs": [
        {
          "output_type": "execute_result",
          "data": {
            "text/plain": [
              "True"
            ]
          },
          "metadata": {},
          "execution_count": 17
        }
      ]
    },
    {
      "cell_type": "code",
      "source": [
        "x = True\n",
        "y = False\n",
        "not (x or y) == (not x) and (not y)"
      ],
      "metadata": {
        "colab": {
          "base_uri": "https://localhost:8080/"
        },
        "id": "V8RZz0iaJUf3",
        "outputId": "3ed2b736-05c3-4bba-c0b9-26416c2f8a24"
      },
      "execution_count": null,
      "outputs": [
        {
          "output_type": "execute_result",
          "data": {
            "text/plain": [
              "True"
            ]
          },
          "metadata": {},
          "execution_count": 21
        }
      ]
    },
    {
      "cell_type": "markdown",
      "source": [
        "EJEMPLO: Supongamos que tenemos un juego donde solo se puede matar a un dragón si nuestro sable de luz mágica tiene 90% o más de batería y tenemos 100 o más puntos de escudo protector. Escribamos la función."
      ],
      "metadata": {
        "id": "waKwYZ9uJ2d_"
      }
    },
    {
      "cell_type": "code",
      "source": [
        "def mission_dragon(carga_sable: int, carga_escudo: int)-> None:\n",
        "  if not ((carga_sable >= 90) and (carga_escudo >=100)):\n",
        "    print('Tu ataque no tiene efecto, el dragón te va a freir hasta dejarte crujiente.')\n",
        "  else:\n",
        "    print('Has logrado arrugar al dragón. ¡Puedes rescatar a la princesa!')\n",
        "x = mission_dragon(200, 100)\n",
        "print(x)"
      ],
      "metadata": {
        "colab": {
          "base_uri": "https://localhost:8080/"
        },
        "id": "sReqjdgUJfhL",
        "outputId": "d53b6050-27c1-4e4c-d312-8444c7e36391"
      },
      "execution_count": null,
      "outputs": [
        {
          "output_type": "stream",
          "name": "stdout",
          "text": [
            "Has logrado arrugar al dragón. ¡Puedes rescatar a la princesa!\n",
            "None\n"
          ]
        }
      ]
    },
    {
      "cell_type": "markdown",
      "source": [
        "Veamos el equivalente según las leyes de Morgan:"
      ],
      "metadata": {
        "id": "AliycLIeLK_9"
      }
    },
    {
      "cell_type": "code",
      "source": [
        "def mission_dragon(carga_sable: int, carga_escudo: int)-> None:\n",
        "  if (carga_sable < 90) or (carga_escudo < 100):\n",
        "    print('Tu ataque no tiene efecto, el dragón te va a freir hasta dejarte crujiente.')\n",
        "  else:\n",
        "    print('Has logrado arrugar al dragón. ¡Puedes rescatar a la princesa!')\n",
        "x = mission_dragon(200, 100)\n",
        "print(x)"
      ],
      "metadata": {
        "colab": {
          "base_uri": "https://localhost:8080/"
        },
        "id": "5y7wqefzLDRT",
        "outputId": "106bd2bd-2ab3-4ae4-b289-6e28b33eaa8d"
      },
      "execution_count": null,
      "outputs": [
        {
          "output_type": "stream",
          "name": "stdout",
          "text": [
            "Has logrado arrugar al dragón. ¡Puedes rescatar a la princesa!\n",
            "None\n"
          ]
        }
      ]
    },
    {
      "cell_type": "markdown",
      "source": [
        "-Actividad: Escriba una función que reciba por parámetro tres puntos (parejas de coordenadas (x,y) de enteros) y retorne (True o False) si los tres están sobre una recta o no."
      ],
      "metadata": {
        "id": "kcD-IGvxO-UV"
      }
    },
    {
      "cell_type": "markdown",
      "source": [
        "Cuando tenemos tres puntos \"A\" de coordenadas (x1, y1), \"B\" de coordenadas (x2, y2) y \"C\" de coordenadas (x3, y3), estos están alineados, si los vectores formados por \"AB\" y \"BC\" tienen la misma dirección, cosa que ocurre cuando las pendientes de las rectas que forman dichos vectores son las mismas."
      ],
      "metadata": {
        "id": "eC_UityzRRWZ"
      }
    },
    {
      "cell_type": "code",
      "source": [
        "def vectores(x1: int, y1: int, x2: int, y2: int, x3: int, y3: int)-> bool:\n",
        "  resultado = False\n",
        "  pendiente1 = (y2 - y1) / (x2 - x1)\n",
        "  pendiente2 = (y3 - y2) / (x3 - x2)\n",
        "  if pendiente1 == pendiente2:\n",
        "    resultado = True\n",
        "  return resultado\n",
        "\n",
        "x1, y1 = int(input('x1: ')), int(input('y1: '))\n",
        "x2, y2 = int(input('x2: ')), int(input('y2: '))\n",
        "x3, y3 = int(input('x3: ')), int(input('y3: '))\n",
        "recta = vectores(x1, y1, x2, y2, x3, y3)\n",
        "print(recta)"
      ],
      "metadata": {
        "colab": {
          "base_uri": "https://localhost:8080/"
        },
        "id": "W0WhvWeSLs7W",
        "outputId": "42b06a56-8299-4ea6-c19f-ba99037a0108"
      },
      "execution_count": null,
      "outputs": [
        {
          "output_type": "stream",
          "name": "stdout",
          "text": [
            "x1: -5\n",
            "y1: 3\n",
            "x2: -1\n",
            "y2: -3\n",
            "x3: 1\n",
            "y3: -6\n",
            "True\n"
          ]
        }
      ]
    },
    {
      "cell_type": "markdown",
      "source": [
        "Una forma más óptima de hacerlo:"
      ],
      "metadata": {
        "id": "eA_zKG8RUA27"
      }
    },
    {
      "cell_type": "code",
      "source": [
        "def vectores_2(x1: int, y1: int, x2: int, y2: int, x3: int, y3: int)-> bool:\n",
        "  pendiente1 = (y2 - y1) / (x2 - x1)\n",
        "  pendiente2 = (y3 - y2) / (x3 - x2)\n",
        "  return pendiente1 == pendiente2\n",
        "\n",
        "x1, y1 = int(input('x1: ')), int(input('y1: '))\n",
        "x2, y2 = int(input('x2: ')), int(input('y2: '))\n",
        "x3, y3 = int(input('x3: ')), int(input('y3: '))\n",
        "recta = vectores_2(x1, y1, x2, y2, x3, y3)\n",
        "print(recta)"
      ],
      "metadata": {
        "colab": {
          "base_uri": "https://localhost:8080/"
        },
        "id": "EwOHbnOOSh6r",
        "outputId": "bd60e4d6-5206-4f0f-f220-36fa083e607a"
      },
      "execution_count": null,
      "outputs": [
        {
          "output_type": "stream",
          "name": "stdout",
          "text": [
            "x1: -5\n",
            "y1: 3\n",
            "x2: -1\n",
            "y2: -3\n",
            "x3: 1\n",
            "y3: -6\n",
            "True\n"
          ]
        }
      ]
    },
    {
      "cell_type": "markdown",
      "source": [
        "-Actividad: Precio pasaje Bogotá-Tokio"
      ],
      "metadata": {
        "id": "bPAJoXeFYMhO"
      }
    },
    {
      "cell_type": "code",
      "source": [
        "def calcular_precio_pasaje(temporada_alta: bool, compania: str, edad: int, estudiante: bool)-> int:\n",
        "  precio = 5000000\n",
        "  variaciones = 0\n",
        "  seguro = False\n",
        "\n",
        "  if compania == 'ALAS':\n",
        "    if temporada_alta:\n",
        "      variaciones += 0.3\n",
        "    else:\n",
        "      if edad >= 18 and estudiante:\n",
        "        variaciones -= 0.1\n",
        "\n",
        "  elif compania == 'VOLAR':\n",
        "    if temporada_alta:\n",
        "      variaciones += 0.2\n",
        "    if edad > 60:\n",
        "      seguro = True\n",
        "\n",
        "  if edad < 18:\n",
        "    variaciones -= 0.5\n",
        "\n",
        "  precio *= (1 + variaciones)\n",
        "\n",
        "  if seguro:\n",
        "    precio += 100000\n",
        "\n",
        "  return round(precio)\n",
        "\n",
        "temporada_alta = bool(int(input('¿Es temporada alta? Ingrese 1 para SI y 0 para NO: ')))\n",
        "compania = input('Ingrese la compañía por la que viajará: ')\n",
        "edad = int(input('Ingrese la edad de la persona: '))\n",
        "estudiante = bool(int(input('¿Es estudiante? Ingrese 1 para SI y 0 para NO: ')))\n",
        "\n",
        "tarifa = calcular_precio_pasaje(temporada_alta, compania, edad, estudiante)\n",
        "print('La tarifa del pasaje es de $'+ str(tarifa)+' COP')\n"
      ],
      "metadata": {
        "colab": {
          "base_uri": "https://localhost:8080/"
        },
        "id": "TnJo9vBqUagb",
        "outputId": "5dc758e8-570d-4f4f-f5ba-d7b3d3f3f346"
      },
      "execution_count": null,
      "outputs": [
        {
          "output_type": "stream",
          "name": "stdout",
          "text": [
            "¿Es temporada alta? Ingrese 1 para SI y 0 para NO: 0\n",
            "Ingrese la compañía por la que viajará: VOLAR\n",
            "Ingrese la edad de la persona: 30\n",
            "¿Es estudiante? Ingrese 1 para SI y 0 para NO: 0\n",
            "La tarifa del pasaje es de $5000000 COP\n"
          ]
        }
      ]
    },
    {
      "cell_type": "markdown",
      "source": [
        "**RETO 2: Regalo de Santa**"
      ],
      "metadata": {
        "id": "T7iTomipoepu"
      }
    },
    {
      "cell_type": "markdown",
      "source": [
        "En el taller de regalos de Santa Claus, el CTE (Chief Technology Elf) ha decidido implementar un nuevo sistema de clasificación de regalos, para facilitar su organización. Cada paquete tiene ahora un identificador numérico único. El identificador es un número entero entre 100 y 999, y sirve para clasificar los regalos de la siguiente manera.\n",
        "\n",
        "Si el número es palíndromo e impar, el regalo corresponde a una niña.\n",
        "\n",
        "Si el número es palíndromo y par, el regalo corresponde a un niño.\n",
        "\n",
        "Si el número es par pero no es palíndromo, el regalo corresponde a un hombre.\n",
        "\n",
        "Si el número es impar pero no es palíndromo, el regalo corresponde a una mujer.\n",
        "\n",
        "Escriba una función que ayude al CTE a calcular, dado un identificador único de regalo, a qué tipo de persona corresponde dicho regalo.\n",
        "\n"
      ],
      "metadata": {
        "id": "TZs_pxC-ohYv"
      }
    },
    {
      "cell_type": "code",
      "source": [
        "#Curso de programación en Python\n",
        "#RETO 2: Regalo de Santa\n",
        "\n",
        "def invertido(numero: int)-> str:\n",
        "  \"\"\"\n",
        "  Esta función tiene como entrada un número de 3 digitos y retorna como salida el mismo número de 3 digitos pero invertido\n",
        "  \"\"\"\n",
        "  unidades = numero % 10 \n",
        "  numero //= 10\n",
        "  decenas = numero % 10\n",
        "  numero //= 10\n",
        "  centenas = numero % 10\n",
        "  \n",
        "  capicua = str(unidades) + str(decenas) + str(centenas) \n",
        "  return capicua\n",
        "\n",
        "\n",
        "def clasificar_regalo(id: int)-> str:\n",
        "  \"\"\"\n",
        "  Esta función tiene como entrada el ID de un regalo de 3 digitos y según si es par, impar, palíndromo o no, clasifica el regalo. \n",
        "  Se utiliza la función \"invertido(numero)\".\n",
        "  \"\"\"\n",
        "  capicua = invertido(id)\n",
        "  capicua = int(capicua)\n",
        "  regalo = 'El regalo corresponde a una mujer' #Caso por defecto\n",
        "  if id == capicua: #Caso palíndromo\n",
        "    if id % 2 == 0: #Caso par y palíndromo\n",
        "      regalo = 'El regalo corresponde a un niño'\n",
        "    else:\n",
        "      if id % 1 == 0: #Caso impar y palíndromo\n",
        "        regalo = 'El regalo corresponde a una niña'\n",
        "      \n",
        "  elif id != capicua: #Caso no palíndromo\n",
        "    if id % 2 == 0: #Caso no palíndromo y par\n",
        "      regalo = 'El regalo corresponde a un hombre'\n",
        "      \n",
        "  return regalo\n",
        "\n",
        "x = int(input('Ingrese el ID del regalo: '))\n",
        "y = clasificar_regalo(x)\n",
        "print(y)"
      ],
      "metadata": {
        "colab": {
          "base_uri": "https://localhost:8080/"
        },
        "id": "T2Qondt2ac4Z",
        "outputId": "d7535af2-0b5e-4dfd-9bb1-a7453c643c74"
      },
      "execution_count": null,
      "outputs": [
        {
          "output_type": "stream",
          "name": "stdout",
          "text": [
            "Ingrese el ID del regalo: 731\n",
            "El regalo corresponde a una mujer\n"
          ]
        }
      ]
    },
    {
      "cell_type": "markdown",
      "source": [
        "**RETO 3: Movimiento robótico**"
      ],
      "metadata": {
        "id": "e4Pdc8VEy04x"
      }
    },
    {
      "cell_type": "markdown",
      "source": [
        "Usted quiere anticipar el movimiento del nuevo robot que recibió como regalo de cumpleaños. El robot tiene una brújula interna que le permite saber hacia qué punto cardinal está mirando actualmente: Norte, Sur, Este, u Oeste. Además, el robot tiene un control remoto que permite girarlo hacia la izquierda o la derecha, y también pedirle que dé media vuelta. Usted debe escribir una función que, dados 3 comandos que se envíen usando el control remoto, calcule la orientación final del robot.\n",
        "\n",
        "Nota: La representación de los puntos cardinales que llegan por parámetro es la siguiente:\n",
        "\n",
        "\"N\", para Norte.\n",
        "\n",
        "\"S\", para Sur.\n",
        "\n",
        "\"E\", para Este.\n",
        "\n",
        "\"W\", para Oeste.\n",
        "\n",
        "Las representaciones de los comandos del control remoto que llegan por parámetro son las siguientes:\n",
        "\n",
        "\"L\", para girar a la izquierda.\n",
        "\n",
        "\"R\", para girar a la derecha.\n",
        "\n",
        "\"H\", para dar media vuelta.\n",
        "\n",
        "\".\", para mantener la orientación actual.  "
      ],
      "metadata": {
        "id": "uDuJPAYay6Pb"
      }
    },
    {
      "cell_type": "code",
      "source": [
        "#Curso de programación en Python \n",
        "#RETO 3: Movimiento robótico\n",
        "def funcion_orientacion(orientacion_actual: str)-> int:\n",
        "  coordenadas = 0\n",
        "  if orientacion_actual == \"N\":\n",
        "    coordenadas = 90\n",
        "  elif orientacion_actual == \"S\":\n",
        "    coordenadas = 270\n",
        "  elif orientacion_actual == \"W\":\n",
        "    coordenadas = 180\n",
        "  elif orientacion_actual == \"E\":\n",
        "    coordenadas = 360\n",
        "  return coordenadas\n",
        "\n",
        "def funcion_grados(orientacion_actual: str, giro_1: str, giro_2: str, giro_3: str)-> int:\n",
        "  orientacion_inicial = funcion_orientacion(orientacion_actual)\n",
        "  conteo = 0\n",
        "  conteo += orientacion_inicial\n",
        "  #Giro 1\n",
        "  if giro_1 == \"L\":\n",
        "    conteo += 90\n",
        "  elif giro_1 == \"R\":\n",
        "    conteo += 90\n",
        "  elif giro_1 == \"H\":\n",
        "    conteo += 180\n",
        "  elif giro_1 == \".\":\n",
        "    conteo += 0\n",
        "\n",
        "  #Giro 2\n",
        "  if giro_2 == \"L\":\n",
        "    conteo += 90\n",
        "    #if giro_1 == \"H\":\n",
        "     #  conteo -= 180\n",
        "  elif giro_2 == \"R\":\n",
        "    conteo += 90\n",
        "    #if giro_1 == \"H\":\n",
        "     #  conteo -= 180 \n",
        "  elif giro_2 == \"H\":\n",
        "    conteo += 180\n",
        "    if giro_1 == \"H\":\n",
        "       conteo += 0 \n",
        "  elif giro_2 == \".\":\n",
        "    conteo += 0\n",
        "    \n",
        "  #Giro 3\n",
        "  if giro_3 == \"L\":\n",
        "    conteo += 90\n",
        "    #if giro_2 == \"H\":\n",
        "       #conteo -= 180\n",
        "  elif giro_3 == \"R\":\n",
        "    conteo += 90\n",
        "    #if giro_2 == \"H\":\n",
        "     #  conteo -= 180\n",
        "  elif giro_3 == \"H\":\n",
        "    conteo += 180\n",
        "    if giro_2 == \"H\":\n",
        "       conteo += 0\n",
        "  elif giro_3 == \".\":\n",
        "    conteo += 0\n",
        "  \n",
        "  return conteo\n",
        "\n",
        "def movimiento_robot(orientacion_actual: str, giro_1: str, giro_2: str, giro_3: str)-> str:\n",
        "  movimiento_clave = funcion_grados(orientacion_actual, giro_1, giro_2, giro_3)\n",
        "  orientador = funcion_orientacion(orientacion_actual)\n",
        "  movimiento_final = abs(movimiento_clave % 360)\n",
        "  \n",
        "  orientacion_robot = \"\"\n",
        "  if movimiento_final == 0:\n",
        "    orientacion_robot = \"E\"\n",
        "  elif movimiento_final == 90:\n",
        "    orientacion_robot = \"N\"\n",
        "  elif movimiento_final == 180:\n",
        "    orientacion_robot = \"W\"\n",
        "  elif movimiento_final == 270:\n",
        "    orientacion_robot = \"S\"\n",
        "\n",
        "  return orientacion_robot, movimiento_final\n",
        "\n",
        "\n",
        "orientacion_actual = input('Ingrese la orientación actual del robot: ')\n",
        "giro_1 = input('Primer giro del robot: ')\n",
        "giro_2 = input('Segundo giro del robot: ')\n",
        "giro_3 = input('Tercer giro del robot: ')\n",
        "\n",
        "\n",
        "a = funcion_grados(orientacion_actual, giro_1, giro_2, giro_3)\n",
        "b = funcion_orientacion(orientacion_actual)\n",
        "c = movimiento_robot(orientacion_actual, giro_1, giro_2, giro_3)\n",
        "print('Funcion grados: ', a)\n",
        "print('Funcion orientacion: ', b)\n",
        "print('Orientación final: ', c)"
      ],
      "metadata": {
        "colab": {
          "base_uri": "https://localhost:8080/"
        },
        "id": "3GH-BjsRy-3C",
        "outputId": "b7f1ef3b-8768-47dc-d9d7-24f28665f510"
      },
      "execution_count": null,
      "outputs": [
        {
          "output_type": "stream",
          "name": "stdout",
          "text": [
            "Ingrese la orientación actual del robot: N\n",
            "Primer giro del robot: H\n",
            "Segundo giro del robot: H\n",
            "Tercer giro del robot: R\n",
            "Funcion grados:  540\n",
            "Funcion orientacion:  90\n",
            "Orientación final:  ('W', 180)\n"
          ]
        }
      ]
    },
    {
      "cell_type": "markdown",
      "source": [
        "**-Actividad: La calificación final de un estudiante en un curso depende de las calificaciones que obtenga en 3 exámenes, pero con unas reglas especiales. Si el estudiante sacó más de 4.0 sobre 5.00 en el tercer examen (el examen final), la nota en el curso será la nota del examen final. Si el estudiante saca menos de 2.0 en el examen final, ese examen valdrá el 50% de la nota y los otros dos exámenes valdrán el 25% cada uno. En cualquier otro caso, los exámenes pesarán lo mismo para calcular la nota final. Escriba una función que dadas las notas de los tres exámenes calcule la nota del estudiante en el curso.**"
      ],
      "metadata": {
        "id": "JNXUZjQRYB1Q"
      }
    },
    {
      "cell_type": "code",
      "source": [
        "def calificacion_final(nota1: float, nota2: float, nota3: float)-> float:\n",
        "  nota_final = (nota1 + nota2 + nota3) / 3\n",
        "\n",
        "  if (nota3 > 4.0):\n",
        "    nota_final = nota3\n",
        "  if (nota3 < 2.0):\n",
        "    nota_final = (nota1 * 0.25) + (nota2 * 0.25) + (nota3 * 0.5)\n",
        "  return nota_final\n",
        "\n",
        "nota1 = float(input('Nota 1: '))\n",
        "nota2 = float(input('Nota 2: '))\n",
        "nota3 = float(input('Examen final: '))\n",
        "calificacion = calificacion_final(nota1, nota2, nota3)\n",
        "print('La nota final del curso es: ', calificacion)"
      ],
      "metadata": {
        "colab": {
          "base_uri": "https://localhost:8080/"
        },
        "id": "fr4caumEYGMT",
        "outputId": "f4163568-e6c9-47be-b659-6e1559c8ae1a"
      },
      "execution_count": null,
      "outputs": [
        {
          "output_type": "stream",
          "name": "stdout",
          "text": [
            "Nota 1: 4.7\n",
            "Nota 2: 4.2\n",
            "Examen final: 1.8\n",
            "La nota final del curso es:  3.125\n"
          ]
        }
      ]
    },
    {
      "cell_type": "markdown",
      "source": [
        "-Actividad: En muchos torneos de fútbol es usual que dos equipos jueguen dos partidos para definir cuál es el mejor de ellos: uno en el estadio del primer equipo y otro en el estadio del segundo equipo. También es usual que, en caso de empate en la cantidad de partidos ganados, los goles de los equipos visitantes cuenten por dos al momento de calcular la diferencia de goles. Escriba una función para calcular el ganador entre dos equipos. La función debe recibir el nombre del primer equipo (A), el nombre del segundo equipo (B), los goles que hizo A de local, los goles que hizo B de visitante, los goles que hizo A de visitante y los goles que hizo B de local. La función debe retornar el nombre del ganador de la serie o la cadena “EMPATE” si hubo un empate entre los equipos."
      ],
      "metadata": {
        "id": "YTgI6pEucVOd"
      }
    },
    {
      "cell_type": "code",
      "source": [
        "def ganador_futbol(equipo_a: str, equipo_b: str, local_A: int, local_B: int, visitante_A: int, visitante_B: int)-> str:\n",
        "  g_totalA = local_A + visitante_A\n",
        "  g_totalB = local_B + visitante_B\n",
        "  ganador = \"Gana el equipo \" + equipo_b\n",
        "\n",
        "  if g_totalA > g_totalB:\n",
        "    ganador = \"Gana el equipo \" + equipo_a\n",
        "  elif g_totalA == g_totalB:\n",
        "    g_totalA = local_A + (visitante_A * 2)\n",
        "    g_totalB = local_B + (visitante_B * 2)\n",
        "    if g_totalA > g_totalB:\n",
        "      ganador = \"Gana el equipo \" + equipo_a + \" por mayor cantidad de goles como visitante\" \n",
        "    elif g_totalA < g_totalB:\n",
        "      ganador = \"Gana el equipo \" + equipo_b + \" por mayor cantidad de goles como visitante\"\n",
        "    else:\n",
        "      ganador = \"EMPATE\"\n",
        "\n",
        "  return ganador\n",
        "\n",
        "equipo_a = input('Nombre del primer equipo: ')\n",
        "equipo_b = input('Nombre del segundo equipo: ')\n",
        "local_A = int(input('Goles del primer equipo como local: '))\n",
        "local_B = int(input('Goles del segundo equipo como local: '))\n",
        "visitante_A = int(input('Goles del primer equipo como visitante: '))\n",
        "visitante_B = int(input('Goles del segundo equipo como visitante: '))\n",
        "gana_campeonato = ganador_futbol(equipo_a, equipo_b, local_A, local_B, visitante_A, visitante_B)\n",
        "print(gana_campeonato)"
      ],
      "metadata": {
        "colab": {
          "base_uri": "https://localhost:8080/"
        },
        "id": "4m-92tL8hnJz",
        "outputId": "7f1fd3a1-ed9f-4583-e26c-0b159dc7ad2d"
      },
      "execution_count": null,
      "outputs": [
        {
          "output_type": "stream",
          "name": "stdout",
          "text": [
            "Nombre del primer equipo: Los Aguis\n",
            "Nombre del segundo equipo: Los Harrys\n",
            "Goles del primer equipo como local: 25\n",
            "Goles del segundo equipo como local: 22\n",
            "Goles del primer equipo como visitante: 5\n",
            "Goles del segundo equipo como visitante: 8\n",
            "Gana el equipo Los Harrys por mayor cantidad de goles como visitante\n"
          ]
        }
      ]
    },
    {
      "cell_type": "markdown",
      "source": [
        "-Actividad: Las denominaciones de las monedas actualmente disponibles en un país son: 20, 50, 100, 200, 500 y 1000. Escriba una función que reciba la cantidad de monedas de cada denominación que tiene una persona y el valor de un producto y le diga si es posible pagar el producto con el dinero en efectivo que tiene. Ayuda: tiene que revisar si tiene suficiente dinero y, si tiene más de lo necesario, si es posible que le den el cambio con las denominaciones de monedas que se encuentran en circulación."
      ],
      "metadata": {
        "id": "NeUbScwNypAt"
      }
    },
    {
      "cell_type": "code",
      "source": [
        "def cantidad_monedas(valor_producto: int, veinte: int, cincuenta: int, cien: int, doscientos: int, quinientos: int, mil: int)-> str:\n",
        "  monedas = (veinte*20) + (cincuenta*50) + (cien*100) + (doscientos*200) * (quinientos*500) + (mil*1000)\n",
        "  mensaje = \"No tiene suficiente efectivo.\"\n",
        "  if monedas >= valor_producto:\n",
        "    mensaje = \"Es posible pagar el producto.\"  \n",
        "    if monedas > valor_producto:\n",
        "      mensaje = \"No se puede dar un cambio con las monedas actuales.\"\n",
        "      if monedas % 20 == 0 or monedas % 50 == 0 or monedas % 100 == 0 or monedas % 200 == 0 or monedas % 500 == 0 or monedas % 1000 == 0:\n",
        "        mensaje = \"Es posible asignar un cambio con las monedas actuales.\"\n",
        "      \n",
        "  return mensaje\n",
        "\n",
        "valor_producto = int(input('Ingrese el valor del producto: '))\n",
        "veinte = int(input('¿Qué cantidad de monedas de 20 tiene? '))\n",
        "cincuenta = int(input('¿Qué cantidad de monedas de 50 tiene? '))\n",
        "cien = int(input('¿Qué cantidad de monedas de 100 tiene? '))\n",
        "doscientos = int(input('¿Qué cantidad de monedas de 200 tiene? '))\n",
        "quinientos = int(input('¿Qué cantidad de monedas de 500 tiene? '))\n",
        "mil = int(input('¿Qué cantidad de monedas de 1000 tiene? '))\n",
        "\n",
        "respuesta = cantidad_monedas(valor_producto, veinte, cincuenta, cien, doscientos, quinientos, mil)\n",
        "print(respuesta)"
      ],
      "metadata": {
        "id": "7fpFVq0cpmpX",
        "colab": {
          "base_uri": "https://localhost:8080/"
        },
        "outputId": "bf624986-3dd9-4580-c8ec-924210e8f1a2"
      },
      "execution_count": null,
      "outputs": [
        {
          "output_type": "stream",
          "name": "stdout",
          "text": [
            "Ingrese el valor del producto: 5000\n",
            "¿Qué cantidad de monedas de 20 tiene? 0\n",
            "¿Qué cantidad de monedas de 50 tiene? 0\n",
            "¿Qué cantidad de monedas de 100 tiene? 0\n",
            "¿Qué cantidad de monedas de 200 tiene? 10\n",
            "¿Qué cantidad de monedas de 500 tiene? 4\n",
            "¿Qué cantidad de monedas de 1000 tiene? 3\n",
            "Es posible asignar un cambio con las monedas actuales.\n"
          ]
        }
      ]
    },
    {
      "cell_type": "markdown",
      "source": [
        "-Actividad: Picas y Fijas es un juego en el que dos personas intentan adivinar un número de 4 dígitos que mantiene en secreto el otro jugador. En cada turno, un jugador propone un número de 4 dígitos y el otro jugador debe informar la cantidad de picas y la cantidad de fijas de ese número. Cada pica significa que en el número propuesto hay un dígito que también está en el número secreto, pero en una posición diferente. Cada fija significa que en el número propuesto hay un número que también está en el número secreto y que está en la misma posición. Por ejemplo, si el número secreto es 5678 y el número que el otro jugador propone es 6579, la respuesta sería *2 picas y 1 fija” porque 5 y 6 están en las posiciones equivocadas y porque el 7 está en la posición correcta. El ganador del juego es el jugador que encuentre el número del otro en la menor cantidad de intentos. En este ejercicio usted debe escribir dos funciones: la primera calculará la cantidad de picas dados un número secreto entre 1000 y 9999, y un número propuesto también entre 1000 y 9999; la segunda función calculará la cantidad de fijas y recibirá también un número secreto y un número propuesto."
      ],
      "metadata": {
        "id": "TS8WoKWrS_5K"
      }
    },
    {
      "cell_type": "code",
      "source": [
        "def fijas(numero_secreto: int, numero_propuesto: int)-> str:\n",
        "  \"\"\"\n",
        "  Esta función calcula la cantidad de números FIJOS o FIJAS que tiene el jugador según un número propuesto y un número secreto.\n",
        "  \"\"\"\n",
        "  unidades_secreto = numero_secreto % 10 \n",
        "  numero_secreto //= 10\n",
        "  decenas_secreto = numero_secreto % 10\n",
        "  numero_secreto //= 10\n",
        "  centenas_secreto = numero_secreto % 10\n",
        "  numero_secreto //= 10\n",
        "  millares_secreto = numero_secreto % 10\n",
        "\n",
        "  unidades_propuesto = numero_propuesto % 10 \n",
        "  numero_propuesto //= 10\n",
        "  decenas_propuesto = numero_propuesto % 10\n",
        "  numero_propuesto //= 10\n",
        "  centenas_propuesto = numero_propuesto % 10\n",
        "  numero_propuesto //= 10\n",
        "  millares_propuesto = numero_propuesto % 10\n",
        "\n",
        "  contador = 0\n",
        "  mensaje = \"\"\n",
        "\n",
        "  if unidades_secreto == unidades_propuesto:\n",
        "    contador += 1\n",
        "  if decenas_secreto == decenas_propuesto:\n",
        "    contador += 1\n",
        "  if centenas_secreto == centenas_propuesto:\n",
        "    contador += 1\n",
        "  if millares_secreto == millares_propuesto:\n",
        "    contador += 1\n",
        "  mensaje = \"Usted acertó \" + str(contador) + \" FIJAS\"\n",
        "\n",
        "  return mensaje\n",
        "\n",
        "def picas(numero_secreto: int, numero_propuesto: int)-> str:\n",
        "  \"\"\"\n",
        "  Esta función calcula la cantidad de PICAS que tiene el jugador según un número propuesto y un número secreto.\n",
        "  \"\"\"\n",
        "  unidades_secreto = numero_secreto % 10 \n",
        "  numero_secreto //= 10\n",
        "  decenas_secreto = numero_secreto % 10\n",
        "  numero_secreto //= 10\n",
        "  centenas_secreto = numero_secreto % 10\n",
        "  numero_secreto //= 10\n",
        "  millares_secreto = numero_secreto % 10\n",
        "\n",
        "  unidades_propuesto = numero_propuesto % 10 \n",
        "  numero_propuesto //= 10\n",
        "  decenas_propuesto = numero_propuesto % 10\n",
        "  numero_propuesto //= 10\n",
        "  centenas_propuesto = numero_propuesto % 10\n",
        "  numero_propuesto //= 10\n",
        "  millares_propuesto = numero_propuesto % 10\n",
        "\n",
        "  contador = 0\n",
        "  mensaje = \"\"\n",
        "  \n",
        "  if unidades_propuesto == decenas_secreto or unidades_propuesto == centenas_secreto or unidades_propuesto == millares_secreto:\n",
        "    contador += 1\n",
        "  if decenas_propuesto == unidades_secreto or decenas_propuesto == centenas_secreto or decenas_propuesto == millares_secreto:\n",
        "    contador += 1\n",
        "  if centenas_propuesto == unidades_secreto or centenas_propuesto == decenas_secreto or  centenas_propuesto == millares_secreto:\n",
        "    contador += 1\n",
        "  if millares_propuesto == unidades_secreto or millares_propuesto == decenas_secreto or millares_propuesto == centenas_secreto:\n",
        "    contador += 1\n",
        "\n",
        "  mensaje = mensaje = \"Usted acertó \" + str(contador) + \" PICAS\"\n",
        "\n",
        "\n",
        "  return mensaje\n",
        "\n",
        "numero_secreto = int(input('Digite el número secreto: '))\n",
        "numero_propuesto = int(input('Digite el número propuesto: '))\n",
        "resultado = fijas(numero_secreto, numero_propuesto)\n",
        "resultado1 = picas(numero_secreto, numero_propuesto)\n",
        "print(resultado, resultado1)"
      ],
      "metadata": {
        "colab": {
          "base_uri": "https://localhost:8080/"
        },
        "id": "uyUFX8FRSEfj",
        "outputId": "3e513ddd-a4d9-4515-f530-6414bb194ac7"
      },
      "execution_count": null,
      "outputs": [
        {
          "output_type": "stream",
          "name": "stdout",
          "text": [
            "Digite el número secreto: 5781\n",
            "Digite el número propuesto: 1785\n",
            "Usted acertó 2 FIJAS Usted acertó 2 PICAS\n"
          ]
        }
      ]
    },
    {
      "cell_type": "markdown",
      "source": [
        "-Actividad: Un número primo es un número que es divisible sólo por 1 y por sí mismo. Los primeros 10 números primos son 2, 3, 5, 7, 11, 13, 17, 19, 23 y 29. Escriba una función que dado un número diga cuál es el menor de los primeros diez números primos por el que es divisible o retorne -1 si no es divisible por ninguno de esos números."
      ],
      "metadata": {
        "id": "0gHWwYL7QFSF"
      }
    },
    {
      "cell_type": "code",
      "source": [
        "def primos(numero: int)-> int:\n",
        "  primo = 0\n",
        "  if numero % 2 == 0:\n",
        "    primo = 2\n",
        "  elif numero % 3 == 0:\n",
        "    primo = 3\n",
        "  elif numero % 5 == 0:\n",
        "    primo = 5\n",
        "  elif numero % 7 == 0:\n",
        "    primo = 7\n",
        "  elif numero % 11 == 0:\n",
        "    primo = 11\n",
        "  elif numero % 13 == 0:\n",
        "    primo = 13\n",
        "  elif numero % 17 == 0:\n",
        "    primo = 17\n",
        "  elif numero % 19 == 0:\n",
        "    primo = 19\n",
        "  elif numero % 23 == 0:\n",
        "    primo = 23\n",
        "  elif numero % 29 == 0:\n",
        "    primo = 29\n",
        "  else:\n",
        "    return -1\n",
        "  return primo\n",
        "\n",
        "numero = int(input('Digite un número para saber si es divisible por alguno de los primeros 10 números primos: '))\n",
        "menor = primos(numero)\n",
        "print(menor)"
      ],
      "metadata": {
        "colab": {
          "base_uri": "https://localhost:8080/"
        },
        "id": "q9XQg6nBfZi5",
        "outputId": "c8a5e1bd-07e1-434c-fc17-047e569a68ea"
      },
      "execution_count": null,
      "outputs": [
        {
          "output_type": "stream",
          "name": "stdout",
          "text": [
            "Digite un número para saber si es divisible por alguno de los primeros 10 números primos: 1349\n",
            "19\n"
          ]
        }
      ]
    },
    {
      "cell_type": "markdown",
      "source": [
        "-Actividad: En una competencia sólo pueden participar estudiantes universitarios que sean menores de 23 años o que cumplan 23 años durante el año en curso. Además, pueden participar todos los estudiantes universitarios que hayan cursado menos de 2 años de estudios en la Universidad. Escriba una función que reciba el año de nacimiento de una persona y el año de entrada a la universidad y retorne un valor de verdad indicando si la persona puede participar o no."
      ],
      "metadata": {
        "id": "pQ2FaAO_S4wE"
      }
    },
    {
      "cell_type": "code",
      "source": [
        "def competencia(año_nacimiento: int, año_universidad: int)-> bool:\n",
        "  año_actual = 2022\n",
        "  edad = (año_nacimiento + año_universidad) % año_nacimiento\n",
        "  tiempo_universidad = (año_actual % año_nacimiento) - edad\n",
        "  edad_real = edad + tiempo_universidad\n",
        "  indicador = False\n",
        "  if edad_real <= 23:\n",
        "    indicador = True\n",
        "  if tiempo_universidad > 2:\n",
        "    indicador = False\n",
        "  return indicador\n",
        "\n",
        "\n",
        "año_nacimiento = int(input('Año de nacimiento: '))\n",
        "año_universidad = int(input('Año de ingreso a la universidad: '))\n",
        "competidor = competencia(año_nacimiento, año_universidad)\n",
        "print(competidor)\n"
      ],
      "metadata": {
        "id": "n37sO1E5SOhp",
        "colab": {
          "base_uri": "https://localhost:8080/"
        },
        "outputId": "794c9228-636c-49fe-f25d-10ee04e09afb"
      },
      "execution_count": null,
      "outputs": [
        {
          "output_type": "stream",
          "name": "stdout",
          "text": [
            "Año de nacimiento: 2003\n",
            "Año de ingreso a la universidad: 2018\n",
            "False\n"
          ]
        }
      ]
    },
    {
      "cell_type": "markdown",
      "source": [
        "-Actividad: En una ciudad existe una restricción de circulación para los vehículos que depende del número de la placa, del tipo de vehículo, del día de la semana y de la hora del día. Los vehículos particulares sólo tienen restricción de lunes a viernes, dependiendo del último dígito de su placa: los que terminen en un número par no podrán circular entre 6:00 y 8:30 y 15:00 y 19:30 en los días del mes que sean pares; los que terminen en un número impar no podrán circular en los mismos horarios, pero de los días del mes que sean impares. La restricción para los taxis va desde las 5:30 hasta las 21:30, de lunes a sábado: los taxis cuya placa termine en el mismo dígito en que termine el día del mes no podrán circular ese día. Escriba una función que diga si un vehículo puede circular o no dados: el tipo de vehículo (str, TAXI o PARTICULAR), la placa (str, por ejemplo DMZ042), el día del mes (int, entre 1 y 31), el día de la semana (str - Lunes, Martes, Miércoles, Jueves, Viernes, Sábado o Domingo), la hora (int, entre 0 y 23) y el minuto (int, entre 0 y 59).\n",
        "\n"
      ],
      "metadata": {
        "id": "nKT80rBmTOhw"
      }
    },
    {
      "cell_type": "code",
      "source": [
        "def pico_y_placa(tipo_vehiculo: str, placa: str, dia_mes: int, dia_semana: str, hora: int, minuto: int)-> bool:\n",
        "  numero_placa = int(placa[5:6])\n",
        "  transitar = False\n",
        "  \n",
        "  if tipo_vehiculo == \"PARTICULAR\" and not (dia_semana == \"Sabado\" or dia_semana == \"Domingo\"):\n",
        "    if numero_placa % 2 == 0 and dia_mes % 2 == 0:\n",
        "      if (hora >= 6 and hora < 9) or (hora >= 15 and hora < 19):\n",
        "        if minuto >= 0 and minuto <= 30:\n",
        "          transitar = False\n",
        "      else: \n",
        "        transitar = True\n",
        "\n",
        "    elif numero_placa % 2 != 0 and dia_mes % 2 != 0:\n",
        "      if hora >= 6 and hora < 9:\n",
        "        if minuto >= 0 and minuto <= 30:\n",
        "          transitar = False\n",
        "      else:\n",
        "        transitar = True\n",
        "\n",
        "  \n",
        "  elif tipo_vehiculo == \"TAXI\" and not (dia_semana == \"Domingo\"):\n",
        "    if numero_placa == (dia_mes % 10):\n",
        "      transitar = False\n",
        "      if (hora >= 5 and hora < 22):\n",
        "        if minuto >= 0 or minuto <= 30:\n",
        "          transitar = False\n",
        "      else:\n",
        "        transitar = True\n",
        "    else:\n",
        "      transitar = True\n",
        "\n",
        "  return transitar\n",
        "\n",
        "tipo_vehiculo = input('Escriba si su tipo de vehiculo es TAXI o PARTICULAR: ')\n",
        "placa = input('Placa de su vehiculo: ')\n",
        "dia_mes = int(input('Día del mes (1 a 31): '))\n",
        "dia_semana = input('Día de la semana: ')\n",
        "hora = int(input('Hora: '))\n",
        "minuto = int(input('Minuto: '))\n",
        "\n",
        "permiso = pico_y_placa(tipo_vehiculo, placa, dia_mes, dia_semana, hora, minuto)\n",
        "print(permiso)\n",
        "\n"
      ],
      "metadata": {
        "colab": {
          "base_uri": "https://localhost:8080/"
        },
        "id": "VinFH9aIaMuG",
        "outputId": "2ee35132-c243-4d82-97b2-47b5f0cbf44c"
      },
      "execution_count": null,
      "outputs": [
        {
          "output_type": "stream",
          "name": "stdout",
          "text": [
            "Escriba si su tipo de vehiculo es TAXI o PARTICULAR: TAXI\n",
            "Placa de su vehiculo: STJ129\n",
            "Día del mes (1 a 31): 9\n",
            "Día de la semana: Lunes\n",
            "Hora: 2\n",
            "Minuto: 30\n",
            "True\n"
          ]
        }
      ]
    },
    {
      "cell_type": "markdown",
      "source": [
        "# Más sobre cadenas de caracteres"
      ],
      "metadata": {
        "id": "2_fid-1Hm6pN"
      }
    },
    {
      "cell_type": "markdown",
      "source": [
        "Representación de una tabla con caracteres de control"
      ],
      "metadata": {
        "id": "mW16JA1SnZdg"
      }
    },
    {
      "cell_type": "code",
      "source": [
        "print(\"a\\tb\\tc\" + \"\\n\" + \"100\\t200\\t300\")"
      ],
      "metadata": {
        "id": "XmSxPNuVnBco",
        "colab": {
          "base_uri": "https://localhost:8080/"
        },
        "outputId": "bc26a195-ffc7-45e6-dc30-a041acdb810b"
      },
      "execution_count": null,
      "outputs": [
        {
          "output_type": "stream",
          "name": "stdout",
          "text": [
            "a\tb\tc\n",
            "100\t200\t300\n"
          ]
        }
      ]
    },
    {
      "cell_type": "markdown",
      "source": [
        "Representación de una matriz con caracteres de control"
      ],
      "metadata": {
        "id": "ASnjYrZMndI5"
      }
    },
    {
      "cell_type": "code",
      "source": [
        "print(\"x\\ty\\tz\" + \"\\n\" + \"y\\tx\\tz\" + \"\\n\" + \"z\\ty\\tx\")"
      ],
      "metadata": {
        "colab": {
          "base_uri": "https://localhost:8080/"
        },
        "id": "MXz_HHcNnBzF",
        "outputId": "f3de2238-79d1-48ba-ca25-6538c19cf98f"
      },
      "execution_count": null,
      "outputs": [
        {
          "output_type": "stream",
          "name": "stdout",
          "text": [
            "x\ty\tz\n",
            "y\tx\tz\n",
            "z\ty\tx\n"
          ]
        }
      ]
    },
    {
      "cell_type": "markdown",
      "source": [
        "Dos nuevos operadores que también se pueden aplicar sobre cadenas de caracteres son in y not in. El primero permite revisar si una cadena está incluida en otra, mientras que el segundo hace exactamente lo contrario. Veamos un ejemplo de expresiones verdaderas basadas en estos operadores:"
      ],
      "metadata": {
        "id": "MVw9FjT5oTFh"
      }
    },
    {
      "cell_type": "code",
      "source": [
        "\"Mundo\" in \"Hola, Mundo!\""
      ],
      "metadata": {
        "colab": {
          "base_uri": "https://localhost:8080/"
        },
        "id": "k5vsYAsYntBo",
        "outputId": "c70e0d0c-5b03-44d3-baf0-dae90e4131d3"
      },
      "execution_count": null,
      "outputs": [
        {
          "output_type": "execute_result",
          "data": {
            "text/plain": [
              "True"
            ]
          },
          "metadata": {},
          "execution_count": 3
        }
      ]
    },
    {
      "cell_type": "code",
      "source": [
        "\"mundo\" not in \"Hola, Mundo!\""
      ],
      "metadata": {
        "colab": {
          "base_uri": "https://localhost:8080/"
        },
        "id": "n533iw6EoV9j",
        "outputId": "740b81f4-e4ce-499b-cdba-df1f6cdd413b"
      },
      "execution_count": null,
      "outputs": [
        {
          "output_type": "execute_result",
          "data": {
            "text/plain": [
              "True"
            ]
          },
          "metadata": {},
          "execution_count": 4
        }
      ]
    },
    {
      "cell_type": "code",
      "source": [
        "\"!\" in \"Hola, Mundo!\""
      ],
      "metadata": {
        "colab": {
          "base_uri": "https://localhost:8080/"
        },
        "id": "QcXfaVABoZ2r",
        "outputId": "ad2f01cd-dd95-429f-ff99-eb981b6fbaa1"
      },
      "execution_count": null,
      "outputs": [
        {
          "output_type": "execute_result",
          "data": {
            "text/plain": [
              "True"
            ]
          },
          "metadata": {},
          "execution_count": 5
        }
      ]
    },
    {
      "cell_type": "code",
      "source": [
        "\"?\" not in \"Hola, Mundo!\""
      ],
      "metadata": {
        "colab": {
          "base_uri": "https://localhost:8080/"
        },
        "id": "WtbQTKdsodw1",
        "outputId": "5b1b8cc2-9da9-48ab-a29c-ec2286d051b0"
      },
      "execution_count": null,
      "outputs": [
        {
          "output_type": "execute_result",
          "data": {
            "text/plain": [
              "True"
            ]
          },
          "metadata": {},
          "execution_count": 6
        }
      ]
    },
    {
      "cell_type": "code",
      "source": [
        "\"Hola, Mundo!\" in \"Hola, Mundo!\""
      ],
      "metadata": {
        "colab": {
          "base_uri": "https://localhost:8080/"
        },
        "id": "LbGzTogfohom",
        "outputId": "7dc1332c-df9a-4e5c-c054-ccf1c29a3fcb"
      },
      "execution_count": null,
      "outputs": [
        {
          "output_type": "execute_result",
          "data": {
            "text/plain": [
              "True"
            ]
          },
          "metadata": {},
          "execution_count": 7
        }
      ]
    },
    {
      "cell_type": "markdown",
      "source": [
        "**Función LEN**"
      ],
      "metadata": {
        "id": "96utxanXo6h_"
      }
    },
    {
      "cell_type": "markdown",
      "source": [
        "Finalmente, Python nos ofrece la función len que podemos utilizar para conocer el tamaño de una cadena"
      ],
      "metadata": {
        "id": "eVcN75YVovql"
      }
    },
    {
      "cell_type": "code",
      "source": [
        "len(\"Hola, Mundo!\")"
      ],
      "metadata": {
        "colab": {
          "base_uri": "https://localhost:8080/"
        },
        "id": "NWnVVHikolQQ",
        "outputId": "139ac502-ce32-4bff-f0c2-2a467880018b"
      },
      "execution_count": null,
      "outputs": [
        {
          "output_type": "execute_result",
          "data": {
            "text/plain": [
              "12"
            ]
          },
          "metadata": {},
          "execution_count": 8
        }
      ]
    },
    {
      "cell_type": "code",
      "source": [
        "len(\"Hola,\\nMundo!\")"
      ],
      "metadata": {
        "colab": {
          "base_uri": "https://localhost:8080/"
        },
        "id": "mPmzk4EOoyiH",
        "outputId": "59e71ec5-d5fb-4e76-eafe-24b262e9101f"
      },
      "execution_count": null,
      "outputs": [
        {
          "output_type": "execute_result",
          "data": {
            "text/plain": [
              "12"
            ]
          },
          "metadata": {},
          "execution_count": 9
        }
      ]
    },
    {
      "cell_type": "code",
      "source": [
        "len(\"\")"
      ],
      "metadata": {
        "colab": {
          "base_uri": "https://localhost:8080/"
        },
        "id": "giyUsmY7o3Gh",
        "outputId": "c4577a43-923d-4573-9099-ee3e31f307bd"
      },
      "execution_count": null,
      "outputs": [
        {
          "output_type": "execute_result",
          "data": {
            "text/plain": [
              "0"
            ]
          },
          "metadata": {},
          "execution_count": 10
        }
      ]
    },
    {
      "cell_type": "code",
      "source": [
        "len(\" \")"
      ],
      "metadata": {
        "colab": {
          "base_uri": "https://localhost:8080/"
        },
        "id": "swXnQeIBo40i",
        "outputId": "f676539f-1527-456b-ff05-431cee64257f"
      },
      "execution_count": null,
      "outputs": [
        {
          "output_type": "execute_result",
          "data": {
            "text/plain": [
              "1"
            ]
          },
          "metadata": {},
          "execution_count": 11
        }
      ]
    },
    {
      "cell_type": "code",
      "source": [
        "len(\"\\t\")"
      ],
      "metadata": {
        "colab": {
          "base_uri": "https://localhost:8080/"
        },
        "id": "JQKPt9Oso-_U",
        "outputId": "a8925e60-9ecc-4222-9973-8012dcf2fb33"
      },
      "execution_count": null,
      "outputs": [
        {
          "output_type": "execute_result",
          "data": {
            "text/plain": [
              "1"
            ]
          },
          "metadata": {},
          "execution_count": 12
        }
      ]
    },
    {
      "cell_type": "markdown",
      "source": [
        "**Métodos sobre cadenas de caracteres**"
      ],
      "metadata": {
        "id": "ayRUmIgXpTx7"
      }
    },
    {
      "cell_type": "code",
      "source": [
        "help (str.lower)"
      ],
      "metadata": {
        "colab": {
          "base_uri": "https://localhost:8080/"
        },
        "id": "7fqJNL1opAnN",
        "outputId": "77ea197e-3def-4524-cf53-aa424393673c"
      },
      "execution_count": null,
      "outputs": [
        {
          "output_type": "stream",
          "name": "stdout",
          "text": [
            "Help on method_descriptor:\n",
            "\n",
            "lower(self, /)\n",
            "    Return a copy of the string converted to lowercase.\n",
            "\n"
          ]
        }
      ]
    },
    {
      "cell_type": "code",
      "source": [
        "str.lower('ABcdEg')"
      ],
      "metadata": {
        "colab": {
          "base_uri": "https://localhost:8080/",
          "height": 35
        },
        "id": "tm1Zp3W_poM5",
        "outputId": "e2a7541a-f043-4747-e593-83d570893e59"
      },
      "execution_count": null,
      "outputs": [
        {
          "output_type": "execute_result",
          "data": {
            "application/vnd.google.colaboratory.intrinsic+json": {
              "type": "string"
            },
            "text/plain": [
              "'abcdeg'"
            ]
          },
          "metadata": {},
          "execution_count": 14
        }
      ]
    },
    {
      "cell_type": "markdown",
      "source": [
        "Sin embargo, la documentación de la función también nos dice que esta función es un método, así que podemos invocarla de una forma un poco diferente que en la mayoría de los casos resulta más conveniente:"
      ],
      "metadata": {
        "id": "oxJIGw39p9AR"
      }
    },
    {
      "cell_type": "code",
      "source": [
        "'ABcdEg'.lower()"
      ],
      "metadata": {
        "colab": {
          "base_uri": "https://localhost:8080/",
          "height": 35
        },
        "id": "5hzx7_PWpwK1",
        "outputId": "5a53cc4a-2df9-449a-a6ea-030484bccbce"
      },
      "execution_count": null,
      "outputs": [
        {
          "output_type": "execute_result",
          "data": {
            "application/vnd.google.colaboratory.intrinsic+json": {
              "type": "string"
            },
            "text/plain": [
              "'abcdeg'"
            ]
          },
          "metadata": {},
          "execution_count": 15
        }
      ]
    },
    {
      "cell_type": "markdown",
      "source": [
        "Hagamos ahora el mismo ejercicio con la función llamada str.zfill:"
      ],
      "metadata": {
        "id": "iC-ettnYqJlH"
      }
    },
    {
      "cell_type": "code",
      "source": [
        "help (str.zfill)"
      ],
      "metadata": {
        "colab": {
          "base_uri": "https://localhost:8080/"
        },
        "id": "oRHiXYBiqAky",
        "outputId": "2068da84-3f2c-4e7b-99a0-c3f5d0bef9d8"
      },
      "execution_count": null,
      "outputs": [
        {
          "output_type": "stream",
          "name": "stdout",
          "text": [
            "Help on method_descriptor:\n",
            "\n",
            "zfill(self, width, /)\n",
            "    Pad a numeric string with zeros on the left, to fill a field of the given width.\n",
            "    \n",
            "    The string is never truncated.\n",
            "\n"
          ]
        }
      ]
    },
    {
      "cell_type": "code",
      "source": [
        "str.zfill('AbC', 8)"
      ],
      "metadata": {
        "colab": {
          "base_uri": "https://localhost:8080/",
          "height": 35
        },
        "id": "N5IFZgwKqMIn",
        "outputId": "f019272d-057a-4f95-c37a-9d202c204046"
      },
      "execution_count": null,
      "outputs": [
        {
          "output_type": "execute_result",
          "data": {
            "application/vnd.google.colaboratory.intrinsic+json": {
              "type": "string"
            },
            "text/plain": [
              "'00000AbC'"
            ]
          },
          "metadata": {},
          "execution_count": 19
        }
      ]
    },
    {
      "cell_type": "code",
      "source": [
        "'AbC'.zfill(8)"
      ],
      "metadata": {
        "colab": {
          "base_uri": "https://localhost:8080/",
          "height": 35
        },
        "id": "_qy2rlPfqVKH",
        "outputId": "1cce48b8-b809-4f14-c25e-2803ac6867db"
      },
      "execution_count": null,
      "outputs": [
        {
          "output_type": "execute_result",
          "data": {
            "application/vnd.google.colaboratory.intrinsic+json": {
              "type": "string"
            },
            "text/plain": [
              "'00000AbC'"
            ]
          },
          "metadata": {},
          "execution_count": 20
        }
      ]
    },
    {
      "cell_type": "markdown",
      "source": [
        "En resumen: el módulo str ofrece unas funciones llamadas métodos que implementan una gran cantidad de funcionalidades interesantes para trabajar con cadenas de caracteres. Estas funciones se pueden invocar de dos formas: como funciones, usando un llamado de la forma str.funcion(cadena, ...otros parámetros ...), o como métodos, usando un llamado de la forma cadena.metodo(... otros parámetros ...). De acá en adelante nosotros vamos a usar estas funciones de la segunda forma (como métodos).\n",
        "\n"
      ],
      "metadata": {
        "id": "2tzGYeexrAlX"
      }
    },
    {
      "cell_type": "markdown",
      "source": [
        "**Inmutabilidad de cadenas de caracteres**"
      ],
      "metadata": {
        "id": "Pjub1PjxrauQ"
      }
    },
    {
      "cell_type": "markdown",
      "source": [
        "Antes de presentar los métodos más utilizados de str es muy importante hablar de la inmutabilidad de las cadenas de caracteres en Python. Esto significa que cuando Python construye una cadena no puede modificarla para cambiar su contenido. Si queremos hacerle algún cambio a la cadena, lo único que Python puede hacer es construir una nueva cadena con los cambios requeridos.\n",
        "\n",
        "Observemos un ejemplo utilizando el método lower que ya estudiamos y los operadores is (comparación de identidad) y == (comparación de igualdad)."
      ],
      "metadata": {
        "id": "JvqgzjpBrdwk"
      }
    },
    {
      "cell_type": "code",
      "source": [
        "original = \"texto original\"\n",
        "minusculas = original.lower()\n",
        "print(\"Son iguales:\", original == minusculas)\n",
        "print(\"Son el mismo:\", original is minusculas)"
      ],
      "metadata": {
        "colab": {
          "base_uri": "https://localhost:8080/"
        },
        "id": "OX8W9rcVqlKK",
        "outputId": "198b2a86-e7fa-4597-ad05-5bb7e7f699b6"
      },
      "execution_count": null,
      "outputs": [
        {
          "output_type": "stream",
          "name": "stdout",
          "text": [
            "Son iguales: True\n",
            "Son el mismo: False\n"
          ]
        }
      ]
    },
    {
      "cell_type": "markdown",
      "source": [
        "Lo que esto nos muestra es que, como dice la documentación del método, lower() retorna una copia de la cadena en la cual se hayan hecho las modificaciones para que todas las letras sean minúsculas. En el caso de nuestro ejemplo no hubo ninguna modificación (la comparación de igualdad es exitosa) y de todas maneras el método creó una copia de la cadena original.\n",
        "\n",
        "Recuerde: Las cadenas de caracteres en Python son inmutables. Todas las operaciones que se realicen sobre una cadena siempre van a producir una cadena nueva.\n",
        "\n"
      ],
      "metadata": {
        "id": "P6jelt6sr7dB"
      }
    },
    {
      "cell_type": "markdown",
      "source": [
        "# Métodos de str"
      ],
      "metadata": {
        "id": "gjA5F-XXsJWB"
      }
    },
    {
      "cell_type": "markdown",
      "source": [
        "lower: Remplaza todas las mayúsculas por minúsculas"
      ],
      "metadata": {
        "id": "QMT9vdcbsO16"
      }
    },
    {
      "cell_type": "code",
      "source": [
        "\"EstE Es UN Ejemplo\".lower()"
      ],
      "metadata": {
        "colab": {
          "base_uri": "https://localhost:8080/",
          "height": 35
        },
        "id": "91LdnA8CrlH3",
        "outputId": "fc144f6e-38f2-4482-bfbd-d841d8793838"
      },
      "execution_count": null,
      "outputs": [
        {
          "output_type": "execute_result",
          "data": {
            "application/vnd.google.colaboratory.intrinsic+json": {
              "type": "string"
            },
            "text/plain": [
              "'este es un ejemplo'"
            ]
          },
          "metadata": {},
          "execution_count": 24
        }
      ]
    },
    {
      "cell_type": "markdown",
      "source": [
        "upper: Remplaza todas las minúsculas por mayúsculas"
      ],
      "metadata": {
        "id": "CgHBb7y9sUwv"
      }
    },
    {
      "cell_type": "code",
      "source": [
        "\"esto está mal escrito\".upper()"
      ],
      "metadata": {
        "colab": {
          "base_uri": "https://localhost:8080/",
          "height": 35
        },
        "id": "P9bMhuhzsTic",
        "outputId": "a8988ede-747f-480d-fbf9-f469754e027f"
      },
      "execution_count": null,
      "outputs": [
        {
          "output_type": "execute_result",
          "data": {
            "application/vnd.google.colaboratory.intrinsic+json": {
              "type": "string"
            },
            "text/plain": [
              "'ESTO ESTÁ MAL ESCRITO'"
            ]
          },
          "metadata": {},
          "execution_count": 23
        }
      ]
    },
    {
      "cell_type": "markdown",
      "source": [
        "title: Le pone mayúscula inicial a todas las palabras de la cadena."
      ],
      "metadata": {
        "id": "0vxSQqAWsi4d"
      }
    },
    {
      "cell_type": "code",
      "source": [
        "\"buen uso de las mayusculas: juan pablo\".title()"
      ],
      "metadata": {
        "colab": {
          "base_uri": "https://localhost:8080/",
          "height": 35
        },
        "id": "XV4gZGUbsa8X",
        "outputId": "6152dc99-ab93-4940-b86a-b08bd697f8ba"
      },
      "execution_count": null,
      "outputs": [
        {
          "output_type": "execute_result",
          "data": {
            "application/vnd.google.colaboratory.intrinsic+json": {
              "type": "string"
            },
            "text/plain": [
              "'Buen Uso De Las Mayusculas: Juan Pablo'"
            ]
          },
          "metadata": {},
          "execution_count": 25
        }
      ]
    },
    {
      "cell_type": "markdown",
      "source": [
        "swapcase: Intercambia mayúsculas por minúsculas y viceversa."
      ],
      "metadata": {
        "id": "K-WFABbdstJ5"
      }
    },
    {
      "cell_type": "code",
      "source": [
        "\"Mal Uso De Las Mayusculas: Juan Pablo\".swapcase()"
      ],
      "metadata": {
        "colab": {
          "base_uri": "https://localhost:8080/",
          "height": 35
        },
        "id": "LQrgZZCxsp6m",
        "outputId": "ff961346-00c0-46aa-b3de-5a073304e7f2"
      },
      "execution_count": null,
      "outputs": [
        {
          "output_type": "execute_result",
          "data": {
            "application/vnd.google.colaboratory.intrinsic+json": {
              "type": "string"
            },
            "text/plain": [
              "'mAL uSO dE lAS mAYUSCULAS: jUAN pABLO'"
            ]
          },
          "metadata": {},
          "execution_count": 28
        }
      ]
    },
    {
      "cell_type": "markdown",
      "source": [
        "**ANÁLISIS DE CADENAS**"
      ],
      "metadata": {
        "id": "3I-trYG0s9LY"
      }
    },
    {
      "cell_type": "markdown",
      "source": [
        "find: Busca la primera posición en la que aparezca la cadena buscada. Si no la encuentra retorna -1."
      ],
      "metadata": {
        "id": "jGgJmCqQtKCE"
      }
    },
    {
      "cell_type": "code",
      "source": [
        "\"hola, cómo estás\".find('l')"
      ],
      "metadata": {
        "colab": {
          "base_uri": "https://localhost:8080/"
        },
        "id": "rwpgii4ls2A7",
        "outputId": "f42d0477-ed41-40d4-dd78-d0a8faba9fdc"
      },
      "execution_count": null,
      "outputs": [
        {
          "output_type": "execute_result",
          "data": {
            "text/plain": [
              "2"
            ]
          },
          "metadata": {},
          "execution_count": 30
        }
      ]
    },
    {
      "cell_type": "code",
      "source": [
        "\"hola, cómo estás\".find('z')"
      ],
      "metadata": {
        "colab": {
          "base_uri": "https://localhost:8080/"
        },
        "id": "npAayMVstdQm",
        "outputId": "439001aa-34a9-4027-e369-7fe0d1acfaab"
      },
      "execution_count": null,
      "outputs": [
        {
          "output_type": "execute_result",
          "data": {
            "text/plain": [
              "-1"
            ]
          },
          "metadata": {},
          "execution_count": 31
        }
      ]
    },
    {
      "cell_type": "markdown",
      "source": [
        "rfind: Busca la primera posición en la que aparezca la cadena buscada, empezando por la derecha. Si no la encuentra retorna -1."
      ],
      "metadata": {
        "id": "REz7FeTatZi8"
      }
    },
    {
      "cell_type": "code",
      "source": [
        "\"hola, cómo estás\".rfind('o')"
      ],
      "metadata": {
        "colab": {
          "base_uri": "https://localhost:8080/"
        },
        "id": "cPLuuBJctVj6",
        "outputId": "e5181d8f-ca69-4af8-ec37-9aaa08191890"
      },
      "execution_count": null,
      "outputs": [
        {
          "output_type": "execute_result",
          "data": {
            "text/plain": [
              "9"
            ]
          },
          "metadata": {},
          "execution_count": 33
        }
      ]
    },
    {
      "cell_type": "markdown",
      "source": [
        "count: Cuenta cuántas veces está la cadena indicada en otra cadena. Si no la encuentra se produce un error."
      ],
      "metadata": {
        "id": "kB-Jyxidt17L"
      }
    },
    {
      "cell_type": "code",
      "source": [
        "\"hola, como te encuentras el dia de hoy parcero?\".count('o')"
      ],
      "metadata": {
        "colab": {
          "base_uri": "https://localhost:8080/"
        },
        "id": "dliMutpgtknt",
        "outputId": "89c142b9-2ac9-4ee8-9986-123a57ae61df"
      },
      "execution_count": null,
      "outputs": [
        {
          "output_type": "execute_result",
          "data": {
            "text/plain": [
              "5"
            ]
          },
          "metadata": {},
          "execution_count": 34
        }
      ]
    },
    {
      "cell_type": "markdown",
      "source": [
        "isnumeric: Revisa si todos los caracteres de una cadena son números."
      ],
      "metadata": {
        "id": "D3fGlfkEuCLt"
      }
    },
    {
      "cell_type": "code",
      "source": [
        "\"por ejemplo, este retorna False ya que solo cuenta con el número 1\".isnumeric()"
      ],
      "metadata": {
        "colab": {
          "base_uri": "https://localhost:8080/"
        },
        "id": "ubwFxB_Ot9fs",
        "outputId": "3c7a7d58-be62-4321-ce23-505e6b2a30bf"
      },
      "execution_count": null,
      "outputs": [
        {
          "output_type": "execute_result",
          "data": {
            "text/plain": [
              "False"
            ]
          },
          "metadata": {},
          "execution_count": 35
        }
      ]
    },
    {
      "cell_type": "code",
      "source": [
        "\"123783912\".isnumeric()"
      ],
      "metadata": {
        "colab": {
          "base_uri": "https://localhost:8080/"
        },
        "id": "6vjg16XsuJwp",
        "outputId": "d9de6711-e0da-4273-d4dd-3679a3e9b4e5"
      },
      "execution_count": null,
      "outputs": [
        {
          "output_type": "execute_result",
          "data": {
            "text/plain": [
              "True"
            ]
          },
          "metadata": {},
          "execution_count": 36
        }
      ]
    },
    {
      "cell_type": "markdown",
      "source": [
        "**MANIPULACIÓN DE CADENAS**"
      ],
      "metadata": {
        "id": "T3_MTrk4uR3T"
      }
    },
    {
      "cell_type": "markdown",
      "source": [
        "replace: Remplaza algunos elementos de una cadena con otros elementos que llegan como parámetro. El reemplazo puede ser la cadena vacía para eliminar los elementos buscados."
      ],
      "metadata": {
        "id": "lO-sDAqlufgv"
      }
    },
    {
      "cell_type": "code",
      "source": [
        "\"Si vos realmente supieras lo que yo te adoro\".replace('o', '0')"
      ],
      "metadata": {
        "colab": {
          "base_uri": "https://localhost:8080/",
          "height": 35
        },
        "id": "0-gWo5ufuM8q",
        "outputId": "9202ed27-4915-42b3-ebfd-f10c81b787df"
      },
      "execution_count": null,
      "outputs": [
        {
          "output_type": "execute_result",
          "data": {
            "application/vnd.google.colaboratory.intrinsic+json": {
              "type": "string"
            },
            "text/plain": [
              "'Si v0s realmente supieras l0 que y0 te ad0r0'"
            ]
          },
          "metadata": {},
          "execution_count": 38
        }
      ]
    },
    {
      "cell_type": "markdown",
      "source": [
        "strip: Elimina espacios y cambios de línea al final de una cadena de caracteres. No elimina ningún elemento que no se encuentre al final de la cadena."
      ],
      "metadata": {
        "id": "QviqrIbFuuBt"
      }
    },
    {
      "cell_type": "code",
      "source": [
        "\"Hola, parcero! \\n\".strip()"
      ],
      "metadata": {
        "colab": {
          "base_uri": "https://localhost:8080/",
          "height": 35
        },
        "id": "jG0gdU0vuqvR",
        "outputId": "f548facb-e192-45d1-a823-3b89b1cc6516"
      },
      "execution_count": null,
      "outputs": [
        {
          "output_type": "execute_result",
          "data": {
            "application/vnd.google.colaboratory.intrinsic+json": {
              "type": "string"
            },
            "text/plain": [
              "'Hola, parcero!'"
            ]
          },
          "metadata": {},
          "execution_count": 40
        }
      ]
    },
    {
      "cell_type": "markdown",
      "source": [
        "ljust: Amplía la cadena hasta el ancho indicado, alinea el contenido a la izquierda y llena el espacio vacío con espacios."
      ],
      "metadata": {
        "id": "a1seBhzlu_Bo"
      }
    },
    {
      "cell_type": "code",
      "source": [
        "\"Hola, parcero!\".ljust(18)"
      ],
      "metadata": {
        "colab": {
          "base_uri": "https://localhost:8080/",
          "height": 35
        },
        "id": "PcdoyGtWu3vG",
        "outputId": "db11d896-3ca5-4f4a-c1a7-4e6e4a3bd7c7"
      },
      "execution_count": null,
      "outputs": [
        {
          "output_type": "execute_result",
          "data": {
            "application/vnd.google.colaboratory.intrinsic+json": {
              "type": "string"
            },
            "text/plain": [
              "'Hola, parcero!    '"
            ]
          },
          "metadata": {},
          "execution_count": 42
        }
      ]
    },
    {
      "cell_type": "markdown",
      "source": [
        "rjust: Amplía la cadena hasta el ancho indicado, alinea el contenido a la derecha y llena el espacio vacío con espacios."
      ],
      "metadata": {
        "id": "C9BoXxVCvSL6"
      }
    },
    {
      "cell_type": "code",
      "source": [
        "\"Hola, parcero!\".rjust(18)"
      ],
      "metadata": {
        "colab": {
          "base_uri": "https://localhost:8080/",
          "height": 35
        },
        "id": "gktlfq8bvKzu",
        "outputId": "13926b7b-fd6e-4f60-e271-9f97fb12eea1"
      },
      "execution_count": null,
      "outputs": [
        {
          "output_type": "execute_result",
          "data": {
            "application/vnd.google.colaboratory.intrinsic+json": {
              "type": "string"
            },
            "text/plain": [
              "'    Hola, parcero!'"
            ]
          },
          "metadata": {},
          "execution_count": 43
        }
      ]
    },
    {
      "cell_type": "markdown",
      "source": [
        "center: Amplía la cadena hasta el ancho indicado y centra el contenido."
      ],
      "metadata": {
        "id": "lGzn9m24vdNp"
      }
    },
    {
      "cell_type": "code",
      "source": [
        "\"Hola, parcero!\".center(18)"
      ],
      "metadata": {
        "colab": {
          "base_uri": "https://localhost:8080/",
          "height": 35
        },
        "id": "HGEmtJRVvWE8",
        "outputId": "633774d6-e817-49d1-cbe9-6d894b712540"
      },
      "execution_count": null,
      "outputs": [
        {
          "output_type": "execute_result",
          "data": {
            "application/vnd.google.colaboratory.intrinsic+json": {
              "type": "string"
            },
            "text/plain": [
              "'  Hola, parcero!  '"
            ]
          },
          "metadata": {},
          "execution_count": 44
        }
      ]
    },
    {
      "cell_type": "markdown",
      "source": [
        "zfill: Amplía la cadena hasta el ancho indicado, alinea el contenido a la derecha y llena el espacio vacío con caracteres 0."
      ],
      "metadata": {
        "id": "EZWQt6qMvjq8"
      }
    },
    {
      "cell_type": "code",
      "source": [
        "\"Hola, parcero!\".zfill(18)"
      ],
      "metadata": {
        "colab": {
          "base_uri": "https://localhost:8080/",
          "height": 35
        },
        "id": "Tw4YrSCfvhZo",
        "outputId": "c14f806b-eca7-4fb3-c0e4-575cb703caa8"
      },
      "execution_count": null,
      "outputs": [
        {
          "output_type": "execute_result",
          "data": {
            "application/vnd.google.colaboratory.intrinsic+json": {
              "type": "string"
            },
            "text/plain": [
              "'0000Hola, parcero!'"
            ]
          },
          "metadata": {},
          "execution_count": 45
        }
      ]
    },
    {
      "cell_type": "markdown",
      "source": [
        "El módulo str ofrece una gran cantidad de métodos adicionales que no vamos a cubrir acá pero que sí están bien descritos en la documentación de Python: https://docs.python.org/3.6/library/stdtypes.html#string-methods\n",
        "\n",
        "Le recomendamos estudiar esa documentación y practicar con todos estos métodos para aprender a utilizarlos y agregarlos a su caja de herramientas de programación.\n",
        "\n"
      ],
      "metadata": {
        "id": "Qfc47rOfvt8t"
      }
    },
    {
      "cell_type": "markdown",
      "source": [
        "# Format: INTERESANTE"
      ],
      "metadata": {
        "id": "g_b7YHAfwCIE"
      }
    },
    {
      "cell_type": "markdown",
      "source": [
        "Las últimas funcionalidades de las cadenas de caracteres que vamos a estudiar tienen que ver con el método format. Este método es muy poderoso y permite utilizar repetidamente una cadena como plantilla para luego remplazar algunos fragmentos por valor particulares.\n",
        "\n",
        "Supongamos que tenemos que hacer un programa que sea capaz de generar las siguientes cadenas:"
      ],
      "metadata": {
        "id": "7WmFWbypw7dl"
      }
    },
    {
      "cell_type": "markdown",
      "source": [
        "Un Lamborghini Aventador del 2016 con motor de 6.5 litros es capaz de pasar de 0 a 100 kph en 2.80 segundos\n",
        "\n",
        "Un Ferrari Enzo del 2002 con motor de 6.0 litros es capaz de pasar de 0 a 100 kph en 3.60 segundos\n",
        "\n",
        "Un Bugatti Veyron 16.4 del 2010 con motor de 8.0 litros es capaz de pasar de 0 a 100 kph en 2.50 segundos\n",
        "\n",
        "Un Porsche 911 GT3 del 2011 con motor de 4.0 litros es capaz de pasar de 0 a 100 kph en 3.80 segundos\n",
        "\n",
        "Un McLaren P1 del 2013 con motor de 3.8 litros es capaz de pasar de 0 a 100 kph en 2.80 segundos\n",
        "\n",
        "Un Pagani Huayra BC del 2017 con motor de 6.0 litros es capaz de pasar de 0 a 100 kph en 3.30 segundos"
      ],
      "metadata": {
        "id": "tgEjvJxXxCcO"
      }
    },
    {
      "cell_type": "markdown",
      "source": [
        "Todas estas cadenas tienen la misma estructura que incluye la marca del carro, el nombre del modelo, el año de lanzamiento, el tamaño del motor en litros usando una cifra decimal y el tiempo que necesita para pasar de 0 a 100 kilómetros por hora expresado en segundos con dos cifras decimales.\n",
        "\n",
        "Estas cadenas se podrían haber armado usando concatenaciones. Sin embargo, el método format ofrece características para estructurar las cadenas que son muy difíciles de replicar usando sólo concatenaciones.\n",
        "\n",
        "Tomemos como ejemplo la plantilla utilizada para generar los mensajes anteriores:"
      ],
      "metadata": {
        "id": "QznMAHW-xZq0"
      }
    },
    {
      "cell_type": "code",
      "source": [
        "plantilla = \"Un {0} {1} del {2:d} con motor de {3:.1f} litros es capaz de pasar de 0 a 100 kph en {4:.2f} segundos\""
      ],
      "metadata": {
        "id": "Drey2MZ4vp3E"
      },
      "execution_count": null,
      "outputs": []
    },
    {
      "cell_type": "markdown",
      "source": [
        "En primer lugar, la plantilla es una cadena de caracteres que tiene marcas rodeadas por los caracteres { y } en los campos donde se tendrán que insertar valores. Aunque no es obligatorio, es recomendable numerar esos campos empezando desde el 0 y llegando, en este caso, hasta el 4.\n",
        "\n",
        "Además del número, cada campo también puede tener una especificación de su formato, la cual viene a continuación del caracter :. En nuestro caso, los campos 0 y 1 no tienen ningún formato, así que lo que metamos en esas posiciones se remplazará sin ningún cambio. Para el campo 2 sólo usamos el caracter d para indicar que se trataba de un número entero. Para los campos 3 y 4 especificamos que se trataban de números decimales y además dijimos que nos interesaba tener 1 dígito decimal en el primer caso y 2 dígitos decimales en el segundo. Esto quedó especificado usando los formatos .1f y .2f respectivamente.\n",
        "\n",
        "Para usar una plantilla se tiene que invocar el método format utilizando como parámetros los valores que queremos insertar en los campos. En nuestro caso, invocamos la función format con 5 parámetros:"
      ],
      "metadata": {
        "id": "WDxtMVD2x_cd"
      }
    },
    {
      "cell_type": "code",
      "source": [
        "mensaje = plantilla.format('Twingo', 'Wing', 2010, 30, 1.5)\n",
        "print(mensaje)"
      ],
      "metadata": {
        "colab": {
          "base_uri": "https://localhost:8080/"
        },
        "id": "xul5sBJvxhTi",
        "outputId": "90772417-ad70-4fa0-8763-e0a97e66626e"
      },
      "execution_count": null,
      "outputs": [
        {
          "output_type": "stream",
          "name": "stdout",
          "text": [
            "Un Twingo Wing del 2010 con motor de 30.0 litros es capaz de pasar de 0 a 100 kph en 1.50 segundos\n"
          ]
        }
      ]
    },
    {
      "cell_type": "markdown",
      "source": [
        "Acá puede verse la importancia de numerar los campos: el valor marca quedará en el campo marcado con el 0, el valor modelo en el campo marcado con el 1 y así sucesivamente. Esto significa que el orden en el que aparecen los campos en la plantilla no necesariamente es el mismo orden en que se deben pasar los argumentos. También significa que, si hubiéramos marcado dos campos con el mismo número, el valor correspondiente habría aparecido dos veces en el mensaje."
      ],
      "metadata": {
        "id": "56qz5Cz0yWHe"
      }
    },
    {
      "cell_type": "markdown",
      "source": [
        "Estudiemos ahora otros mensajes que tienen un poco más de complicaciones que no son fáciles de solucionar sólo usando concatenación de cadenas:"
      ],
      "metadata": {
        "id": "fw-g1ESLytAH"
      }
    },
    {
      "cell_type": "markdown",
      "source": [
        "100 metros     5.3 s @ 126 kph\n",
        "\n",
        "500 metros    13.6 s @ 211 kph\n",
        "\n",
        "1000 metros   22.0 s @ 249 kph"
      ],
      "metadata": {
        "id": "qiMF7WjmyvAd"
      }
    },
    {
      "cell_type": "markdown",
      "source": [
        "Estos nuevos mensajes tienen una característica que no tenían los mensajes anteriores: los campos no están completamente llenos y están alineados a la derecha (columnas 2 y 3) o a la izquierda (columna 1). Analicemos entonces la plantilla que se utilizó en este caso"
      ],
      "metadata": {
        "id": "DlEaHh4fy_Sq"
      }
    },
    {
      "cell_type": "code",
      "source": [
        "plantilla2 = \"{0:<14}{1:>4.1f} s @ {2:>3d} kph\""
      ],
      "metadata": {
        "id": "viUM-32ByBtR"
      },
      "execution_count": null,
      "outputs": []
    },
    {
      "cell_type": "markdown",
      "source": [
        "El formato para el primer campo dice <14, lo cual se interpreta como que se debe alinear el contenido a la izquierda y que debe tener 14 caracteres de ancho en total. Si el contenido del campo es más corto que esto, se agregarán tantos espacios como haga falta a la derecha del contenido.\n",
        "\n",
        "El formato para el segundo campo dice >4.1f. Como ya sabemos, .1f significa que se tratará de un número con exactamente un decimal. La otra parte, >4 indica que el número debe alinearse a la derecha y que debe ocupar, en total, el espacio de 4 caracteres. En este caso como el número está alineado a la derecha los caracteres faltantes se agregan a la izquierda del contenido.\n",
        "\n",
        "El formato para el tercer campo es muy similar: se espera un número entero que terminará alineado a la derecha en una columna de 3 caracteres de ancho.\n",
        "\n",
        "Finalmente, veamos cómo se generaron las 3 cadenas invocando el método format sobre la plantilla:"
      ],
      "metadata": {
        "id": "CXJ2srmIz1Lr"
      }
    },
    {
      "cell_type": "code",
      "source": [
        "print(plantilla2.format('100 metros', 5.3, 126))\n",
        "print(plantilla2.format('500 metros', 13.6, 211))\n",
        "print(plantilla2.format('1000 metros', 22, 249))"
      ],
      "metadata": {
        "colab": {
          "base_uri": "https://localhost:8080/"
        },
        "id": "r9Om2ArazD5P",
        "outputId": "b9577c90-2a0f-43e1-9e86-721731cdaac7"
      },
      "execution_count": null,
      "outputs": [
        {
          "output_type": "stream",
          "name": "stdout",
          "text": [
            "100 metros     5.3 s @ 126 kph\n",
            "500 metros    13.6 s @ 211 kph\n",
            "1000 metros   22.0 s @ 249 kph\n"
          ]
        }
      ]
    },
    {
      "cell_type": "markdown",
      "source": [
        "En resumen, cuando se construye una plantilla para usar con el método format se debe:\n",
        "\n",
        "Marcar los campos que se van a remplazar, numerándolos de cero en adelante.\n",
        "\n",
        "Para cada campo que se quiera alinear, indicar si la alineación debe ser a la izquierda (<), derecha (>) o el centro (^) y el ancho que debe tener el campo. También se puede especificar el caracter que se debe utilizar para los espacios vacíos (ver documentación).\n",
        "\n",
        "Especificar el formato, especialmente si se trata de números decimales.\n",
        "\n",
        "Se puede conseguir mucha más información sobre la especificación de plantillas usando el comando help('FORMATTING'). La documentación completa también está disponible en https://docs.python.org/3.7/library/string.html#format-string-syntax\n",
        "\n"
      ],
      "metadata": {
        "id": "rUdk5aW20ufK"
      }
    },
    {
      "cell_type": "markdown",
      "source": [
        "**-Actividad: Escriba una función que reciba una cadena de caracteres y una letra. Su función debe retornar la misma cadena que recibió, pero cambiando todas las vocales por la letra que también llegó por parámetro. Por ejemplo, si la cadena original era “Hola, Mundo!” y la letra entregada fue ‘I’, el resultado debería ser “HIlI, MIndI!”.**"
      ],
      "metadata": {
        "id": "VB_lkbwl1Oe7"
      }
    },
    {
      "cell_type": "code",
      "source": [
        "def cambiar_letra(cadena: str, letra: str)-> str:\n",
        "  nueva_cadena = cadena.replace('a', letra)\n",
        "  nueva_cadena = nueva_cadena.replace('e', letra)\n",
        "  nueva_cadena = nueva_cadena.replace('i', letra)\n",
        "  nueva_cadena = nueva_cadena.replace('o', letra)\n",
        "  nueva_cadena = nueva_cadena.replace('u', letra)\n",
        "  return nueva_cadena\n",
        "\n",
        "cadena = input('Cadena: ')\n",
        "letra = input('Letra: ')\n",
        "cambio = cambiar_letra(cadena, letra)\n",
        "print(cambio)"
      ],
      "metadata": {
        "colab": {
          "base_uri": "https://localhost:8080/"
        },
        "id": "VdjllKVoz4Uf",
        "outputId": "40dbb34a-10d4-49b8-c0d2-2ed706a60771"
      },
      "execution_count": null,
      "outputs": [
        {
          "output_type": "stream",
          "name": "stdout",
          "text": [
            "Cadena: Hola que mas como te encuentras el dia de hoy\n",
            "Letra: p\n",
            "Hplp qpp mps cpmp tp pncppntrps pl dpp dp hpy\n"
          ]
        }
      ]
    },
    {
      "cell_type": "markdown",
      "source": [
        "**-Actividad: Escriba una función que reciba dos cadenas de caracteres. La función debe retornar 1 si las cadenas son idénticas, 2 si las cadenas sólo se diferencian por las mayúsculas y minúsculas, o 0 de lo contrario.**"
      ],
      "metadata": {
        "id": "kkWJs-PG3_yZ"
      }
    },
    {
      "cell_type": "code",
      "source": [
        "def comparar_cadenas(cadena1: str, cadena2: str)-> int:\n",
        "  comparacion = 0\n",
        "  if cadena1 == cadena2:\n",
        "    comparacion = 1\n",
        "  elif cadena1.lower() == cadena2.lower():\n",
        "    comparacion = 2\n",
        "  return comparacion\n",
        "\n",
        "cadena1 = input('Cadena 1: ')\n",
        "cadena2 = input('Cadena 2: ')\n",
        "comparacion = comparar_cadenas(cadena1, cadena2)\n",
        "print(comparacion)"
      ],
      "metadata": {
        "colab": {
          "base_uri": "https://localhost:8080/"
        },
        "id": "Gobk14D32_go",
        "outputId": "78d006bd-696a-4c4b-ccef-5602be21b7dd"
      },
      "execution_count": null,
      "outputs": [
        {
          "output_type": "stream",
          "name": "stdout",
          "text": [
            "Cadena 1: HOLA\n",
            "Cadena 2: hOlA\n",
            "2\n"
          ]
        }
      ]
    },
    {
      "cell_type": "markdown",
      "source": [
        "**-Actividad: Escriba una función que reciba dos cadenas de caracteres que sólo van a contener letras mayúsculas y minúsculas. La función debe retornar -1 si en un diccionario la primera cadena debería ir antes que la segunda, debe retornar 1 si la segunda cadena debe ir antes que la primera, o 0 si las dos cadenas son la misma (ignorando mayúsculas y minúsculas).**"
      ],
      "metadata": {
        "id": "FgxKSRVj5Qxy"
      }
    },
    {
      "cell_type": "code",
      "source": [
        "def orden_diccionario(cadena1: str, cadena2: str)-> int:\n",
        "  diccionario = 0\n",
        "  if cadena1 < cadena2:\n",
        "    diccionario = -1\n",
        "  elif cadena2 < cadena1:\n",
        "    diccionario = 1\n",
        "  else:\n",
        "    if cadena1.lower() == cadena2.lower():\n",
        "      diccionario = 0\n",
        "  return diccionario\n",
        "  \n",
        "cadena1 = input('Cadena 1: ')\n",
        "cadena2 = input('Cadena 2: ')\n",
        "orden = orden_diccionario(cadena1, cadena2)\n",
        "print(orden)\n"
      ],
      "metadata": {
        "colab": {
          "base_uri": "https://localhost:8080/"
        },
        "id": "V71L9QJi4795",
        "outputId": "5d021912-112b-4eff-b69d-26d4ef9c8c9c"
      },
      "execution_count": null,
      "outputs": [
        {
          "output_type": "stream",
          "name": "stdout",
          "text": [
            "Cadena 1: AbC\n",
            "Cadena 2: aBc\n",
            "-1\n"
          ]
        }
      ]
    },
    {
      "cell_type": "markdown",
      "source": [
        "**-Actividad: Escriba una función que reciba una cadena de caracteres y cuente las palabras que aparecen en la cadena. Usted puede suponer que la cadena tendrá letras (mayúsculas y minúsculas) y espacios, pero no tendrá ningún signo de puntuación ni espacios seguidos.**"
      ],
      "metadata": {
        "id": "xsdtgllu87Ia"
      }
    },
    {
      "cell_type": "code",
      "source": [
        "def contar_palabras(cadena: str)-> int:\n",
        "  cantidad = len(cadena.split())\n",
        "  return cantidad\n",
        "\n",
        "cadena = input('Cadena: ')\n",
        "palabras = contar_palabras(cadena)\n",
        "print('En la cadena de caracteres hay ', palabras, ' palabras.')"
      ],
      "metadata": {
        "id": "DHgUlaJe8Bpw",
        "colab": {
          "base_uri": "https://localhost:8080/"
        },
        "outputId": "609301c7-0c17-4ad9-d45b-9f9faa4fcc29"
      },
      "execution_count": null,
      "outputs": [
        {
          "output_type": "stream",
          "name": "stdout",
          "text": [
            "Cadena: hola buenas tardes como estas hoy\n",
            "En la cadena de caracteres hay  6  palabras.\n"
          ]
        }
      ]
    },
    {
      "cell_type": "markdown",
      "source": [
        "split: es un método incorporado en Python que separa las palabras dentro de una cadena usando un separador específico y devuelve un array de cadenas. Este método acepta como máximo dos parámetros como argumento."
      ],
      "metadata": {
        "id": "a9ngG5QGRGMk"
      }
    },
    {
      "cell_type": "code",
      "source": [
        "help(str.split)"
      ],
      "metadata": {
        "colab": {
          "base_uri": "https://localhost:8080/"
        },
        "id": "fv4YfzG0Qwlg",
        "outputId": "df702a03-9573-4977-a12c-b24cbd18e7a6"
      },
      "execution_count": null,
      "outputs": [
        {
          "output_type": "stream",
          "name": "stdout",
          "text": [
            "Help on method_descriptor:\n",
            "\n",
            "split(self, /, sep=None, maxsplit=-1)\n",
            "    Return a list of the words in the string, using sep as the delimiter string.\n",
            "    \n",
            "    sep\n",
            "      The delimiter according which to split the string.\n",
            "      None (the default value) means split according to any whitespace,\n",
            "      and discard empty strings from the result.\n",
            "    maxsplit\n",
            "      Maximum number of splits to do.\n",
            "      -1 (the default value) means no limit.\n",
            "\n"
          ]
        }
      ]
    },
    {
      "cell_type": "markdown",
      "source": [
        "len: también es un método incorporado de Python, que devuelve el número de cadenas en un array o cuenta la longitud de los elementos en un objeto."
      ],
      "metadata": {
        "id": "v6BGDIZbRXnp"
      }
    },
    {
      "cell_type": "code",
      "source": [
        "help(len)"
      ],
      "metadata": {
        "colab": {
          "base_uri": "https://localhost:8080/"
        },
        "id": "q6lUsqwORK3p",
        "outputId": "6bd56b8f-4eed-4039-9c21-2d85c841061f"
      },
      "execution_count": null,
      "outputs": [
        {
          "output_type": "stream",
          "name": "stdout",
          "text": [
            "Help on built-in function len in module builtins:\n",
            "\n",
            "len(obj, /)\n",
            "    Return the number of items in a container.\n",
            "\n"
          ]
        }
      ]
    },
    {
      "cell_type": "markdown",
      "source": [
        "-Actividad: Tres equipos de futbol participaron en un pequeño torneo en que jugaron entre ellos 3 partidos. Escriba una función que reciba el nombre de los tres equipos y los marcadores de los tres partidos, y que retorne una tabla con las posiciones de los equipos al finalizar el torneo. La función recibirá entonces 9 parámetros: primero los nombres de los tres equipos y luego 6 enteros con los marcadores de los 3 partidos. Cada partido ganado entregaba 3 puntos y cada partido empatado entregaba 1 punto. La tabla con el resultado del torneo tiene que ser una cadena de caracteres con la información organizada en columnas bien alineadas. Las columnas deben estar organizadas de la siguiente forma: \n",
        "\n",
        "posición,\n",
        "\n",
        "nombre del equipo,\n",
        "\n",
        "puntos obtenidos,\n",
        "\n",
        "partidos jugados,\n",
        "\n",
        "partidos ganados,\n",
        "\n",
        "partidos empatados,\n",
        "\n",
        "partidos perdidos,\n",
        "\n",
        "goles a favor,\n",
        "\n",
        "goles en contra,\n",
        "\n",
        "diferencia de goles "
      ],
      "metadata": {
        "id": "3t24dpD0RgYo"
      }
    },
    {
      "cell_type": "code",
      "source": [
        "def pequeño_torneo(equipo_a: str, equipo_b: str, equipo_c: str, goles_a_b: int, goles_b_a: int, goles_a_c: int, goles_c_a: int, goles_b_c: int, goles_c_b: int)-> str:\n",
        "  puntos_a = 0\n",
        "  puntos_b = 0\n",
        "  puntos_c = 0\n",
        "  perdidos_a = 0\n",
        "  perdidos_b = 0\n",
        "  perdidos_c = 0\n",
        "  ganados_a = 0\n",
        "  ganados_b = 0\n",
        "  ganados_c = 0\n",
        "  empatados_a = 0\n",
        "  empatados_b = 0\n",
        "  empatados_c = 0\n",
        "  puntos_ganador = 0\n",
        "  equipo_a_total = goles_a_b + goles_a_c\n",
        "  equipo_b_total = goles_b_a + goles_b_c\n",
        "  equipo_c_total = goles_c_a + goles_c_b\n",
        "\n",
        "  #Primer partido\n",
        "  if goles_a_b > goles_b_a:\n",
        "    puntos_a += 3\n",
        "    ganados_a += 1\n",
        "    perdidos_b += 1\n",
        "  elif goles_a_b < goles_b_a:\n",
        "    puntos_b += 3\n",
        "    ganados_b += 1\n",
        "    perdidos_a +=1\n",
        "  elif goles_a_b == goles_b_a:\n",
        "    puntos_a += 1\n",
        "    puntos_b += 1\n",
        "    empatados_a += 1\n",
        "    empatados_b += 1\n",
        "  \n",
        "  #Segundo partido\n",
        "  if goles_a_c > goles_c_a:\n",
        "    puntos_a += 3\n",
        "    ganados_a += 1\n",
        "    perdidos_c += 1\n",
        "  elif goles_a_c < goles_c_a:\n",
        "    puntos_c += 3\n",
        "    ganados_c += 1\n",
        "    perdidos_a += 1\n",
        "  elif goles_a_c == goles_c_a:\n",
        "    puntos_a += 1\n",
        "    puntos_c += 1\n",
        "    empatados_a += 1\n",
        "    empatados_c += 1\n",
        "  \n",
        "  #Tercer partido\n",
        "  if goles_b_c > goles_c_b:\n",
        "    puntos_b += 3\n",
        "    ganados_b += 1\n",
        "    perdidos_c += 1\n",
        "  elif goles_b_c < goles_c_b:\n",
        "    puntos_c += 3\n",
        "    ganados_c += 1\n",
        "    perdidos_b += 1\n",
        "  elif goles_b_c == goles_c_b:\n",
        "    puntos_b += 1\n",
        "    puntos_c += 1\n",
        "    empatados_b += 1\n",
        "    empatados_c += 1\n",
        "\n",
        "  ganador_puntos = puntos_a\n",
        "  ganador = equipo_a\n",
        "  segundo = \"\"\n",
        "  #Ganador\n",
        "  if puntos_b > ganador_puntos:\n",
        "    ganador = equipo_b\n",
        "    ganador_puntos = puntos_b\n",
        "  if puntos_c > ganador_puntos:\n",
        "    ganador = equipo_c\n",
        "    ganador_puntos = puntos_c\n",
        "  \n",
        "  \n",
        "  \n",
        "\n",
        "  \n",
        "      \n",
        "  return \"Posición\\tNombre del equipo\\tPuntos obtenidos\\tPartidos jugados\\tPartidos ganados\\tPartidos empatados\\tPartidos perdidos\\tGoles a favor\\tGoles en contra\\t Diferencia de goles\" + \"\\n\" + \"1\\t\\t\\t\" + ganador + \"\\t\\t\\t\" + str(ganador_puntos) + \"\\t\\t\\t3\" + \"\\n\" + \"2\\t\\t\" + segundo + \"\\n\" + \"3\"\n",
        "\n",
        "equipo_a = input('Nombre del equipo A: ')\n",
        "equipo_b = input('Nombre del equipo B: ')\n",
        "equipo_c = input('Nombre del equipo C: ')\n",
        "goles_a_b = int(input('Goles partido A vs B: '))\n",
        "goles_b_a = int(input('Goles partido B vs A: '))\n",
        "goles_a_c = int(input('Goles partido A vs C: '))\n",
        "goles_c_a = int(input('Goles partido C vs A: '))\n",
        "goles_b_c = int(input('Goles partido B vs C: '))\n",
        "goles_c_b = int(input('Goles partido C vs B: '))\n",
        "torneo = pequeño_torneo(equipo_a, equipo_b, equipo_c, goles_a_b, goles_b_a, goles_a_c, goles_c_a, goles_b_c, goles_c_b)\n",
        "print(torneo)\n"
      ],
      "metadata": {
        "id": "eqStmkFRRZgo",
        "colab": {
          "base_uri": "https://localhost:8080/"
        },
        "outputId": "dd60dccd-2559-4572-cf26-3e147ca44247"
      },
      "execution_count": null,
      "outputs": [
        {
          "output_type": "stream",
          "name": "stdout",
          "text": [
            "Nombre del equipo A: jagu\n",
            "Nombre del equipo B: buna\n",
            "Nombre del equipo C: bene\n",
            "Goles partido A vs B: 12\n",
            "Goles partido B vs A: 2\n",
            "Goles partido A vs C: 13\n",
            "Goles partido C vs A: 2\n",
            "Goles partido B vs C: 1\n",
            "Goles partido C vs B: 1\n",
            "Posición\tNombre del equipo\tPuntos obtenidos\tPartidos jugados\tPartidos ganados\tPartidos empatados\tPartidos perdidos\tGoles a favor\tGoles en contra\t Diferencia de goles\n",
            "1\t\t\tjagu\t\t\t6\t\t\t3\n",
            "2\t\t\n",
            "3\n"
          ]
        }
      ]
    },
    {
      "cell_type": "markdown",
      "source": [
        "-Actividad: Escriba una función que, dada la altura de un edificio, retorne una cadena como en el siguiente ejemplo: “Un objeto que cae de un edificio de 30 metros tarda 2.47 segundos en llegar al piso y alcanza una velocidad de 24.25 metros por segundo.” Su programa debe usar las funciones de formato de cadenas."
      ],
      "metadata": {
        "id": "fNttBitYDWVf"
      }
    },
    {
      "cell_type": "markdown",
      "source": [
        "Ayuda: El tiempo que tarda la caída es igual a la raíz cuadrada de dos veces la altura sobre la aceleración de la gravedad (9.8 m/s2). La velocidad que alcanza el objeto es igual al tiempo de la caída multiplicado por la aceleración de la gravedad."
      ],
      "metadata": {
        "id": "-7MEEIdK71ks"
      }
    },
    {
      "cell_type": "code",
      "source": [
        "import math \n",
        "def caida_libre(altura: float)-> str:\n",
        "  formato = \"Un objeto que cae de un edificio de {0:.2f} metros tarda {1:.2f} segundos en llegar al piso y alcanza una velocidad de {2:.2f} metros por segundo.\"\n",
        "  tiempo_caida = math.sqrt(((altura)**2 / 9.8))\n",
        "  velocidad = tiempo_caida * (9.8)\n",
        "  mensaje = formato.format(altura, tiempo_caida, velocidad)\n",
        "  return mensaje\n",
        "\n",
        "altura = float(input('Ingrese la altura del edificio: '))\n",
        "caida = caida_libre(altura)\n",
        "print(caida)\n"
      ],
      "metadata": {
        "id": "SooYVFbUTklH",
        "colab": {
          "base_uri": "https://localhost:8080/"
        },
        "outputId": "3507559f-404a-453f-f1ae-a3cde73d91eb"
      },
      "execution_count": null,
      "outputs": [
        {
          "output_type": "stream",
          "name": "stdout",
          "text": [
            "Ingrese la altura del edificio: 14.2\n",
            "Un objeto que cae de un edificio de 14.20 metros tarda 4.54 segundos en llegar al piso y alcanza una velocidad de 44.45 metros por segundo.\n"
          ]
        }
      ]
    },
    {
      "cell_type": "markdown",
      "source": [
        "# Librerías estándar"
      ],
      "metadata": {
        "id": "Mgca-128AJtU"
      }
    },
    {
      "cell_type": "markdown",
      "source": [
        "**El módulo random**"
      ],
      "metadata": {
        "id": "-qckd74kA458"
      }
    },
    {
      "cell_type": "markdown",
      "source": [
        "Valores continuos"
      ],
      "metadata": {
        "id": "F1aqEFmqBuip"
      }
    },
    {
      "cell_type": "markdown",
      "source": [
        "Dentro del módulo random, la función también llamada random es tal vez la más utilizada porque permite generar valores uniformemente distribuidos entre 0 y 1. Es decir, cada vez que se invoque la función random.random() se obtendrá un número entre 0 y 1, escogido de forma completamente aleatoria. Note que 0 es un valor posible, pero 1 está por fuera del intervalo considerado."
      ],
      "metadata": {
        "id": "RYb1T218Bd1k"
      }
    },
    {
      "cell_type": "code",
      "source": [
        "import random\n",
        "\n",
        "valor = random.random() * 7\n",
        "print(valor)"
      ],
      "metadata": {
        "colab": {
          "base_uri": "https://localhost:8080/"
        },
        "id": "ifCSPAik7wg4",
        "outputId": "2aef952a-15b6-476d-ce9e-a36902d10891"
      },
      "execution_count": null,
      "outputs": [
        {
          "output_type": "stream",
          "name": "stdout",
          "text": [
            "3.953447117003786\n"
          ]
        }
      ]
    },
    {
      "cell_type": "markdown",
      "source": [
        "Valores discretos"
      ],
      "metadata": {
        "id": "eHkNbfIuBwzG"
      }
    },
    {
      "cell_type": "markdown",
      "source": [
        "Una variable aleatoria discreta toma sólo valores discretos dentro de un rango determinado, con una probabilidad que depende de la distribución asociada a la variable. A diferencia de las variables continuas, cuando las variables son discretas los posibles valores que pueden asumir son enumerables.\n",
        "\n",
        "La principal función para generar variables aleatorias discretas se llama randint y sirve para generar valores enteros entre dos números ‘a’ y ‘b’. En el siguiente programa se usa esta función para simular el lanzamiento de un dado:"
      ],
      "metadata": {
        "id": "V2x-MxBWB7Z_"
      }
    },
    {
      "cell_type": "code",
      "source": [
        "import random \n",
        "\n",
        "lanzamiento = random.randint(1, 6)\n",
        "print(lanzamiento)"
      ],
      "metadata": {
        "colab": {
          "base_uri": "https://localhost:8080/"
        },
        "id": "aTP24FT4Bh4y",
        "outputId": "70e659b0-d81b-4db3-d128-ae295a38fc66"
      },
      "execution_count": null,
      "outputs": [
        {
          "output_type": "stream",
          "name": "stdout",
          "text": [
            "6\n"
          ]
        }
      ]
    },
    {
      "cell_type": "markdown",
      "source": [
        "Una función relacionada es randrange, que genera valores enteros desde un número inicial (start), hasta un número final (stop), con un cierto intervalo (step). Por ejemplo, si queremos un número múltiplo de 3 entre 6 y 30 podemos usar la siguiente invocación:"
      ],
      "metadata": {
        "id": "6_1ute_HCT9m"
      }
    },
    {
      "cell_type": "code",
      "source": [
        "numero = random.randrange(6, 30, 3)\n",
        "print(numero)"
      ],
      "metadata": {
        "colab": {
          "base_uri": "https://localhost:8080/"
        },
        "id": "tKFn7FFtCA0A",
        "outputId": "3d6b331c-78a0-4303-c89a-b7f184846c60"
      },
      "execution_count": null,
      "outputs": [
        {
          "output_type": "stream",
          "name": "stdout",
          "text": [
            "27\n"
          ]
        }
      ]
    },
    {
      "cell_type": "markdown",
      "source": [
        "Variables aleatorias"
      ],
      "metadata": {
        "id": "PeYsE9_yCfyn"
      }
    },
    {
      "cell_type": "markdown",
      "source": [
        "Finalmente, el módulo random incluye funciones para generar valores siguiendo la distribución triangular, Beta, exponencial, Gamma, Normal, y Pareto, entre otras.\n",
        "\n",
        "Como esta no pretende ser una revisión exhaustiva sólo revisaremos la función random.normalvariate, que genera números distribuidos de acuerdo a una distribución normal."
      ],
      "metadata": {
        "id": "_H-IvDy-Ctrn"
      }
    },
    {
      "cell_type": "code",
      "source": [
        "help(random.normalvariate)"
      ],
      "metadata": {
        "colab": {
          "base_uri": "https://localhost:8080/"
        },
        "id": "331CUwGACWlB",
        "outputId": "2fdf5c1e-68d4-4c03-fb88-464ee1b15449"
      },
      "execution_count": null,
      "outputs": [
        {
          "output_type": "stream",
          "name": "stdout",
          "text": [
            "Help on method normalvariate in module random:\n",
            "\n",
            "normalvariate(mu, sigma) method of random.Random instance\n",
            "    Normal distribution.\n",
            "    \n",
            "    mu is the mean, and sigma is the standard deviation.\n",
            "\n"
          ]
        }
      ]
    },
    {
      "cell_type": "markdown",
      "source": [
        "Esta función requiere de un parámetro mu (el valor promedio de los valores en la distribución) y de un parámetro sigma (la desviación estándar de los valores) para generar valores que se distribuyan de forma normal de acuerdo con los parámetros. Los siguientes son valores generados con esta función usando una media de 10 y una desviación estándar de 1.5:"
      ],
      "metadata": {
        "id": "1xsHUfysC-Uu"
      }
    },
    {
      "cell_type": "code",
      "source": [
        "random.normalvariate(10,1.5)"
      ],
      "metadata": {
        "colab": {
          "base_uri": "https://localhost:8080/"
        },
        "id": "zagALmcIC0xf",
        "outputId": "ea987802-a874-4c08-f35c-44c5f7ddb77f"
      },
      "execution_count": null,
      "outputs": [
        {
          "output_type": "execute_result",
          "data": {
            "text/plain": [
              "11.017263509849563"
            ]
          },
          "metadata": {},
          "execution_count": 14
        }
      ]
    },
    {
      "cell_type": "code",
      "source": [
        "random.normalvariate(10,1.5)"
      ],
      "metadata": {
        "colab": {
          "base_uri": "https://localhost:8080/"
        },
        "id": "_-rBawIDDCQU",
        "outputId": "d0e46b9c-91ec-495b-a919-790d6b9cd371"
      },
      "execution_count": null,
      "outputs": [
        {
          "output_type": "execute_result",
          "data": {
            "text/plain": [
              "9.556058510651482"
            ]
          },
          "metadata": {},
          "execution_count": 15
        }
      ]
    },
    {
      "cell_type": "markdown",
      "source": [
        "-Actividad: Usando la función random.normalvariate genere 15 números aleatorios con media 3.8 y desviación estándar de 1. Calcule ahora usted la media de los números generados y la desviación estándar. ¿Qué tan lejos están de la media y la desviación planeada? Ejecute su programa y observe cómo cambian los resultados con cada ejecución.\n",
        "\n"
      ],
      "metadata": {
        "id": "DOMpigKEDM4f"
      }
    },
    {
      "cell_type": "code",
      "source": [
        "random.normalvariate(3.8, 1)"
      ],
      "metadata": {
        "colab": {
          "base_uri": "https://localhost:8080/"
        },
        "id": "U-VBfi0SDEyV",
        "outputId": "51c5c366-30d3-4c20-a7cc-b2df778f6a74"
      },
      "execution_count": null,
      "outputs": [
        {
          "output_type": "execute_result",
          "data": {
            "text/plain": [
              "3.702422838270275"
            ]
          },
          "metadata": {},
          "execution_count": 16
        }
      ]
    },
    {
      "cell_type": "code",
      "source": [
        "random.normalvariate(3.8, 1)"
      ],
      "metadata": {
        "id": "82UqW7cpDVaN",
        "outputId": "92a3b49b-f90e-4173-fefd-c8bc84c0d058",
        "colab": {
          "base_uri": "https://localhost:8080/"
        }
      },
      "execution_count": null,
      "outputs": [
        {
          "output_type": "execute_result",
          "data": {
            "text/plain": [
              "3.3382108032999036"
            ]
          },
          "metadata": {},
          "execution_count": 17
        }
      ]
    },
    {
      "cell_type": "markdown",
      "source": [
        "Manos a la obra: Cree la función mas_a que dadas 4 cadenas de caracteres retorne la que tiene mayor número de \"a\". No debe importar si la vocal está en mayúscula o minúscula. Si más de una cadena cumple la condición, se debe retornar la primera."
      ],
      "metadata": {
        "id": "wZtZhEVXB5CN"
      }
    },
    {
      "cell_type": "code",
      "source": [
        "def mas_a(cad1: str, cad2: str, cad3: str, cad4: str)-> str:\n",
        "  mayor = cad1.lower().count('a')\n",
        "  cadena = cad1\n",
        "  if cad2.lower().count('a') > mayor:\n",
        "    cadena = cad2\n",
        "  if cad3.lower().count('a') > cadena.lower().count('a'):\n",
        "    cadena = cad3\n",
        "  if cad4.lower().count('a') > cadena.lower().count('a'):\n",
        "    cadena = cad4\n",
        "  return cadena\n",
        "\n",
        "cad1 = input('Cadena 1 ')\n",
        "cad2 = input('Cadena 2 ')\n",
        "cad3 = input('Cadena 3 ')\n",
        "cad4 = input('Cadena 4 ')\n",
        "mayor = mas_a(cad1, cad2, cad3, cad4)\n",
        "print(mayor)\n"
      ],
      "metadata": {
        "id": "Kh1jJCIqDW6F",
        "colab": {
          "base_uri": "https://localhost:8080/"
        },
        "outputId": "62bf449d-0a0c-49ad-c678-79cd27a134db"
      },
      "execution_count": null,
      "outputs": [
        {
          "output_type": "stream",
          "name": "stdout",
          "text": [
            "Cadena 1 Acampar\n",
            "Cadena 2 fresa\n",
            "Cadena 3 carro\n",
            "Cadena 4 manzana\n",
            "Acampar\n"
          ]
        }
      ]
    },
    {
      "cell_type": "markdown",
      "source": [
        "RETO 4: Pedro es un estudiante inteligente pero desinteresado por algunas de sus materias. A Pedro le gustan las clases en las que aprende programación, matemática, filosofía y literatura. Por lo anterior, cualquier materia que lleve en su título alguna de estas palabras, será de su agrado.\n",
        "\n",
        "Pedro está planeando su horario, pero ha puesto a su asistente digital a que le dé posibles conjuntos de tres materias para inscribir en su semestre. Él quiere saber, dados los títulos de las tres materias, cuántas de estas son de su agrado. Se sabe que los nombres de las materias irán sin acentos y en minúsculas cuando sean recibidos por parámetro en la función. "
      ],
      "metadata": {
        "id": "0MFPq_eiMTYG"
      }
    },
    {
      "cell_type": "code",
      "source": [
        "#RETO 4 modulo 2\n",
        "#Curso de programación en Python\n",
        "\n",
        "def conteo_de_materias(nombre_materia_1: str, nombre_materia_2: str, nombre_materia_3: str)-> int:\n",
        "  conteo_materias = 0\n",
        "  if \"programacion\" in nombre_materia_1.lower() or \"matematica\" in nombre_materia_1.lower() or \"filosofia\" in nombre_materia_1.lower() or \"literatura\" in nombre_materia_1.lower():\n",
        "    conteo_materias += 1\n",
        "  if \"programacion\" in nombre_materia_2.lower() or \"matematica\" in nombre_materia_2.lower() or \"filosofia\" in nombre_materia_2.lower() or \"literatura\" in nombre_materia_2.lower():\n",
        "    conteo_materias += 1\n",
        "  if \"programacion\" in nombre_materia_3.lower() or \"matematica\" in nombre_materia_3.lower() or \"filosofia\" in nombre_materia_3.lower() or \"literatura\" in nombre_materia_3.lower():\n",
        "    conteo_materias += 1\n",
        "  return conteo_materias\n",
        "\n",
        "nombre_materia_1 = input('Materia 1: ')\n",
        "nombre_materia_2 = input('Materia 2: ')\n",
        "nombre_materia_3 = input('Materia 3: ')\n",
        "agrado = conteo_de_materias(nombre_materia_1, nombre_materia_2, nombre_materia_3)\n",
        "print(agrado)"
      ],
      "metadata": {
        "colab": {
          "base_uri": "https://localhost:8080/"
        },
        "id": "XHXHqj6VEJ2v",
        "outputId": "4d4226ef-d1c6-470a-d174-9d49d374ba6e"
      },
      "execution_count": null,
      "outputs": [
        {
          "output_type": "stream",
          "name": "stdout",
          "text": [
            "Materia 1: Filosofia de la informacion\n",
            "Materia 2: matematicas especiales\n",
            "Materia 3: programacion POO\n",
            "3\n"
          ]
        }
      ]
    },
    {
      "cell_type": "markdown",
      "source": [
        "# DICCIONARIOS"
      ],
      "metadata": {
        "id": "S55hRo5ylIiV"
      }
    },
    {
      "cell_type": "markdown",
      "source": [
        "# El concepto de diccionario"
      ],
      "metadata": {
        "id": "rMa6ujbNokN5"
      }
    },
    {
      "cell_type": "markdown",
      "source": [
        "Un diccionario es una estructura de datos que contiene muchos valores, identificados cada uno con una llave que es única.\n",
        "\n",
        "El término estructura de datos hace referencia a una forma de organizar datos para poder almacenarlos, modificarlos y consultarlos. Técnicamente, las variables que hemos venido utilizando son estructuras de datos pero, como sólo tienen un valor, raramente se les aplica el término a estas.\n",
        "\n",
        "Un diccionario es entonces una estructura de datos (una forma de organizar datos), donde a cada valor que queramos almacenar se le asigna una llave (una llave es también un valor, pero además es único dentro del diccionario). Un buen ejemplo de esto es el diccionario de un lenguaje como el Español: a cada palabra (una llave) le corresponde una definición (un valor). Otro ejemplo es una red social como Twitter: a cada nombre de usuario (una llave) le corresponde un usuario (un valor) con toda su información.\n",
        "\n",
        "Hay básicamente dos usos que nosotros le damos a un diccionario en la vida diaria. El primero es para buscar la definición de una palabra: si nosotros conocemos la palabra (la llave), podemos obtener la definición asociada a esta (el valor). El segundo uso de un diccionario es descubrir si una palabra existe o no: si no encontramos una palabra entre las llaves del diccionario, significa que la palabra no existe y que no tiene una definición. Note que un diccionario está construido pensando en que el criterio de búsqueda es la palabra y no la definición. Sería muy extraño que alguien intentara buscar la palabra en Español que corresponde a la definición “Clase o condición a la cual está sujeta la vida de cada uno”."
      ],
      "metadata": {
        "id": "jrZ_ArDIo9iO"
      }
    },
    {
      "cell_type": "markdown",
      "source": [
        "# El tipo dict en Python"
      ],
      "metadata": {
        "id": "dEPafcDxpvGO"
      }
    },
    {
      "cell_type": "markdown",
      "source": [
        "En Python los diccionarios son un elemento básico del lenguaje que, así como las cadenas, está perfectamente integrado dentro de la sintaxis del lenguaje. Para crear un diccionario basta con indicar que se quiere crear un diccionario (usando los caracteres {}) y separar las parejas llave:valor usando comas. Tomemos como ejemplo el siguiente fragmento, en el cual se han incluido cambios de línea para facilitar la lectura:"
      ],
      "metadata": {
        "id": "Gc9k_sDDpx6b"
      }
    },
    {
      "cell_type": "code",
      "source": [
        "palabras = { 'imagen' : 'Figura, representación, semejanza y apariencia de algo',\n",
        "             'figura' : 'Forma exterior de alguien o de algo', \n",
        "             'baraja' : 'Conjunto completo de cartas empleado para juegos de azar',\n",
        "             'posibilidad' : 'Aptitud, potencia u ocasión para ser o existir algo' }"
      ],
      "metadata": {
        "id": "W876nho1Pvvc"
      },
      "execution_count": null,
      "outputs": []
    },
    {
      "cell_type": "markdown",
      "source": [
        "Este fragmento crea una nueva variable con el nombre palabras. A diferencia de variables más sencillas que sólo tienen un valor, esta nueva variable es un diccionario y contiene 4 parejas llave-valor. También habríamos podido crear un diccionario vacío con la expresión palabras = {}. Observe lo que pasa si aplicamos las funciones type() y len() a nuestra nueva variable:"
      ],
      "metadata": {
        "id": "QuHJ8qglqIRr"
      }
    },
    {
      "cell_type": "code",
      "source": [
        "type(palabras)"
      ],
      "metadata": {
        "colab": {
          "base_uri": "https://localhost:8080/"
        },
        "id": "A5Ja_IK0p4NN",
        "outputId": "862ad87b-8d0c-4174-8cf6-9b07bf6d4763"
      },
      "execution_count": null,
      "outputs": [
        {
          "output_type": "execute_result",
          "data": {
            "text/plain": [
              "dict"
            ]
          },
          "metadata": {},
          "execution_count": 24
        }
      ]
    },
    {
      "cell_type": "code",
      "source": [
        "len(palabras)"
      ],
      "metadata": {
        "colab": {
          "base_uri": "https://localhost:8080/"
        },
        "id": "4q9JjgKJqKSI",
        "outputId": "3cb1081e-4653-43a6-c816-9df434f70f07"
      },
      "execution_count": null,
      "outputs": [
        {
          "output_type": "execute_result",
          "data": {
            "text/plain": [
              "4"
            ]
          },
          "metadata": {},
          "execution_count": 25
        }
      ]
    },
    {
      "cell_type": "markdown",
      "source": [
        "Con type(), vemos que Python utiliza el término dict para referirse al tipo de datos de los diccionarios. Con len(), vemos que Python cuenta la cantidad de parejas que hay en el diccionario.\n",
        "\n",
        "Veamos ahora cómo hacemos para consultar el contenido del diccionario:"
      ],
      "metadata": {
        "id": "WzAkd0qcqiW8"
      }
    },
    {
      "cell_type": "code",
      "source": [
        "definicion_imagen = palabras['imagen']\n",
        "definicion_figura = palabras['figura']\n",
        "print(definicion_imagen)\n",
        "print(definicion_figura)"
      ],
      "metadata": {
        "colab": {
          "base_uri": "https://localhost:8080/"
        },
        "id": "HWCfKOxLqLrt",
        "outputId": "c215865c-49bb-400b-bc74-99be69753341"
      },
      "execution_count": null,
      "outputs": [
        {
          "output_type": "stream",
          "name": "stdout",
          "text": [
            "Figura, representación, semejanza y apariencia de algo\n",
            "Forma exterior de alguien o de algo\n"
          ]
        }
      ]
    },
    {
      "cell_type": "markdown",
      "source": [
        "En este fragmento estamos consultando el valor asociado a la cadena 'imagen' dentro del diccionario palabras. Para esto usamos el nombre de la variable seguido del nombre de la llave entre paréntesis cuadrados. Note que el nombre de la llave tiene que ser idéntico al que usamos cuando creamos el diccionario. No funcionaría si usáramos 'Imagen' o 'IMAGEN'). Si intentamos extraer un valor usando una llave que no existe, el resultado es un error."
      ],
      "metadata": {
        "id": "veX-yCjirlui"
      }
    },
    {
      "cell_type": "markdown",
      "source": [
        "Para evitar este problema es posible utilizar el operador in que permite consultar si una llave hace parte de un diccionario o no."
      ],
      "metadata": {
        "id": "lwoA9vUrsAAx"
      }
    },
    {
      "cell_type": "code",
      "source": [
        "llave = 'llave'\n",
        "\n",
        "if llave in palabras: \n",
        "  definicion = palabras[llave]\n",
        "else:\n",
        "  definicion = \"La palabra '\" + llave + \"' no se encuentra en el diccionario\"\n",
        "\n",
        "print(definicion)"
      ],
      "metadata": {
        "colab": {
          "base_uri": "https://localhost:8080/"
        },
        "id": "P1sSduo2qpjj",
        "outputId": "52137c11-7330-46da-9feb-1c4331ef8d18"
      },
      "execution_count": null,
      "outputs": [
        {
          "output_type": "stream",
          "name": "stdout",
          "text": [
            "La palabra 'llave' no se encuentra en el diccionario\n"
          ]
        }
      ]
    },
    {
      "cell_type": "markdown",
      "source": [
        "NOMBRES Y VALORES DE VARIABLES vs. NOMBRES DE LLAVE"
      ],
      "metadata": {
        "id": "VzZ0y4Lhs8e_"
      }
    },
    {
      "cell_type": "markdown",
      "source": [
        "En la sección mostramos el uso básico de los diccionarios y la forma en la que se extrae un valor. En esta sección vamos a explorar uno de los errores más comunes que ocurren al utilizar diccionarios: confundir el nombre de una variable, con el valor de una variable y con el nombre de una llave.\n",
        "\n",
        "En primer lugar, estudie con atención el siguiente fragmento de código y escriba los valores que debería imprimir. Si se produce algún error en alguna parte, explíquelo."
      ],
      "metadata": {
        "id": "-971OYNzteyj"
      }
    },
    {
      "cell_type": "code",
      "source": [
        "diccionario = {\"llave\":\"valor\", \"palabra\":\"definición\"}\n",
        "llave = \"llave\"\n",
        "print(\"1.\", diccionario[\"llave\"])\n",
        "print(\"2.\", diccionario[llave])\n",
        "llave = \"palabra\"\n",
        "print(\"3.\", diccionario[llave])\n",
        "print(\"4.\", diccionario[\"palabra\"])\n",
        "#print(\"5.\", diccionario[palabra])"
      ],
      "metadata": {
        "colab": {
          "base_uri": "https://localhost:8080/"
        },
        "id": "MAEvIUVssNDX",
        "outputId": "1f5ee1f2-9c91-4b07-b4d2-b71f90901771"
      },
      "execution_count": null,
      "outputs": [
        {
          "output_type": "stream",
          "name": "stdout",
          "text": [
            "1. valor\n",
            "2. valor\n",
            "3. definición\n",
            "4. definición\n"
          ]
        }
      ]
    },
    {
      "cell_type": "markdown",
      "source": [
        "# El método get"
      ],
      "metadata": {
        "id": "K83yZO3DuXSo"
      }
    },
    {
      "cell_type": "markdown",
      "source": [
        "Como ya vimos, cuando se intenta consultar un diccionario usando una llave que no existe se produce un error. Una forma de evitar esto es consultar primero si la llave existe usando el operador in. Otra alternativa, muy usada porque reduce el tamaño del código, es usar el método3 get. Este método, que se aplica sobre un diccionario, recibe como parámetros una llave y el valor que se debería retornar si la llave no existe en el diccionario."
      ],
      "metadata": {
        "id": "we_EM0SOugUj"
      }
    },
    {
      "cell_type": "code",
      "source": [
        "llave = 'IMAGEN'\n",
        "definicion = palabras.get(llave, \"La palabra '\" + llave + \"' no se encuentra en el diccionario\")\n",
        "print(definicion)"
      ],
      "metadata": {
        "colab": {
          "base_uri": "https://localhost:8080/"
        },
        "id": "xb_ZmhXCthCu",
        "outputId": "66e474d9-2f02-4c0a-881b-9a71510eb2b8"
      },
      "execution_count": null,
      "outputs": [
        {
          "output_type": "stream",
          "name": "stdout",
          "text": [
            "La palabra 'IMAGEN' no se encuentra en el diccionario\n"
          ]
        }
      ]
    },
    {
      "cell_type": "markdown",
      "source": [
        "EL VALOR NONE"
      ],
      "metadata": {
        "id": "_VxUwOZ_vVSh"
      }
    },
    {
      "cell_type": "markdown",
      "source": [
        "El valor None, que se puede traducir como ninguno, es un valor que se usa en Python para denotar la “ausencia de un valor”. El tipo de None es NoneType y es ese nombre el que se menciona cuando se hace una operación con este valor."
      ],
      "metadata": {
        "id": "pxyNM0tsvYwT"
      }
    },
    {
      "cell_type": "markdown",
      "source": [
        "Nosotros ya hemos utilizado None para describir el tipo de retorno de una función que no se espera que retorne nada. Ahora vamos a utilizar None como un valor y no como un tipo. Este valor es de mucha utilidad cuando el resultado de una operación puede no existir. Considere por ejemplo el caso de las soluciones reales de una ecuación cuadrática: la ecuación puede tener dos soluciones diferentes, dos soluciones iguales, o ninguna solución. Lo normal sería que, en este último caso, se usara None como valor para las soluciones."
      ],
      "metadata": {
        "id": "ugs3Z58tvlhd"
      }
    },
    {
      "cell_type": "code",
      "source": [
        "import math\n",
        "def solucionar_cuadratica(a: int, b: int, c:int) -> tuple:\n",
        "    \"\"\" Encuentra las soluciones reales de una ecuación cuadrática de la forma\n",
        "        y = ax^2 + bx + c\n",
        "    Parámetros:\n",
        "      a (int): El coeficiente del término de orden 2\n",
        "      b (int): El coeficiente del término de orden 1\n",
        "      c (int): El coeficiente del término de orden 0\n",
        "    Retorna:\n",
        "      (tuple): Una tupla con las soluciones reales de la ecuación.\n",
        "               Retorna None si la ecuación no tiene solución real.\n",
        "    \"\"\"\n",
        "    soluciones = None\n",
        "    determinante = (b**2) - (4*a*c)\n",
        "    if determinante >= 0:\n",
        "        sol1 = -b + (math.sqrt(determinante))\n",
        "        sol2 = -b - (math.sqrt(determinante))\n",
        "        soluciones = (sol1, sol2)\n",
        "    return soluciones\n",
        "\n",
        "def imprimir_soluciones(soluciones: tuple) -> None:\n",
        "    \"\"\" Imprime las soluciones de una ecuación cuadrática o imprime\n",
        "        un mensaje indicando que no había soluciones.\n",
        "    Parámetros:\n",
        "      soluciones (tuple): Una tupla con dos elementos que son las soluciones de la ecuación.\n",
        "                          Si no hay soluciones reales, 'soluciones' debe tener el valor None.\n",
        "    \"\"\"\n",
        "    if soluciones is None:\n",
        "        print(\"La ecuación no tenía soluciones reales\")\n",
        "    else:\n",
        "        print(\"Las soluciones son\", soluciones[0], \"y\", soluciones[1])\n",
        "\n",
        "# Calcular e imprimir las soluciones de una ecuación sin soluciones reales\n",
        "soluciones = solucionar_cuadratica(1,1,1)\n",
        "imprimir_soluciones(soluciones)\n",
        "\n",
        "# Calcular e imprimir las soluciones de una ecuación con dos soluciones reales diferentes\n",
        "soluciones = solucionar_cuadratica(1,0,-1)\n",
        "imprimir_soluciones(soluciones)"
      ],
      "metadata": {
        "colab": {
          "base_uri": "https://localhost:8080/"
        },
        "id": "F03W2ZgDu60y",
        "outputId": "ce57efac-7987-4cfd-8d8d-5de28a61c38f"
      },
      "execution_count": null,
      "outputs": [
        {
          "output_type": "stream",
          "name": "stdout",
          "text": [
            "La ecuación no tenía soluciones reales\n",
            "Las soluciones son 2.0 y -2.0\n"
          ]
        }
      ]
    },
    {
      "cell_type": "markdown",
      "source": [
        "En este fragmento tenemos una función llamada solucionar_cuadratica que recibe los coeficientes de una ecuación cuadrática y calcula una tupla con una pareja de soluciones. Por ahora no se preocupe por la tupla sino por el hecho de que, si la ecuación no tiene soluciones, la función retorna el valor None.\n",
        "\n",
        "La segunda función, imprimir_soluciones espera una tupla con dos soluciones en una tupla o el valor None. Para saber qué mensaje imprimir, la función usa la condición soluciones is None. En general x is None es la expresión preferida en Python para saber si alguna variable tiene el valor None."
      ],
      "metadata": {
        "id": "9b0byDS2wsCy"
      }
    },
    {
      "cell_type": "markdown",
      "source": [
        "EL MÉTODO GET Y EL VALOR NONE"
      ],
      "metadata": {
        "id": "VcUtAAHfxB6_"
      }
    },
    {
      "cell_type": "markdown",
      "source": [
        "La explicación anterior sobre el valor None es relevante porque se usa muy frecuentemente con el método get: si una llave no se encuentra en un diccionario, usar None como valor por defecto es lo más natural en muchos casos y es mucho mejor que usar cosas como cadenas vacías o sólo con espacios. Observemos el uso de get y None en un ejemplo:"
      ],
      "metadata": {
        "id": "VcDLAGtDxH0v"
      }
    },
    {
      "cell_type": "code",
      "source": [
        "def imprimir_definicion(diccionario: dict, palabra: str) -> None:\n",
        "    \"\"\" Imprime la definición de una palabra o, si la palabra no existe,\n",
        "        un mensaje indicando el problema.\n",
        "    Parámetros:\n",
        "      diccionario (dict): Un diccionario con las palabras y sus definiciones\n",
        "      palabra (str): La palabra para la que se quiere la definición\n",
        "    \"\"\"\n",
        "    definicion = diction.get(palabra, None)\n",
        "    if definicion is not None:\n",
        "         print(\"La definición de\", palabra, \"es:\", definicion)\n",
        "    else:\n",
        "         print(\"La palabra '\" + llave + \"' no se encuentra en el diccionario\")\n",
        "diction = {'hola':'saludar', 'llave':'palabra de un diccionario'}\n",
        "asignacion = imprimir_definicion(diction, 'hola')\n",
        "print(asignacion)"
      ],
      "metadata": {
        "colab": {
          "base_uri": "https://localhost:8080/"
        },
        "id": "4WfpKLFuwFiO",
        "outputId": "c4e29f74-8fb9-4fb4-82d3-5a6722b1bdec"
      },
      "execution_count": null,
      "outputs": [
        {
          "output_type": "stream",
          "name": "stdout",
          "text": [
            "La definición de hola es: saludar\n",
            "None\n"
          ]
        }
      ]
    },
    {
      "cell_type": "markdown",
      "source": [
        "# Modificación de diccionarios"
      ],
      "metadata": {
        "id": "WIANw3WNybhI"
      }
    },
    {
      "cell_type": "markdown",
      "source": [
        "AGREGAR UNA DEFINICIÓN: PRIMERA VERSIÓN"
      ],
      "metadata": {
        "id": "8eE7shk35xg_"
      }
    },
    {
      "cell_type": "markdown",
      "source": [
        "Esta primera versión de la función muestra cómo se modifica un diccionario: usando la misma convención que para consultar (paréntesis cuadrados alrededor del nombre de la llave), le asignamos una definición a la palabra. Veamos ahora cómo invocar la nueva función:"
      ],
      "metadata": {
        "id": "8VrN9_wv6nFQ"
      }
    },
    {
      "cell_type": "code",
      "source": [
        "def agregar_definicion(diccionario: dict, palabra: str, definicion: str)-> None:\n",
        "  diccionario[palabra] = definicion\n",
        "\n",
        "palabras = {}\n",
        "agregar_definicion(palabras, 'imagen', 'Figura, representación, semejanza y apariencia de algo.')\n",
        "agregar_definicion(palabras, 'figura', 'Forma exterior de alguien o algo.')\n",
        "print(palabras)"
      ],
      "metadata": {
        "id": "CJVSCE0dxbMm",
        "colab": {
          "base_uri": "https://localhost:8080/"
        },
        "outputId": "3f1cff1e-988e-496a-c8e5-8ecff180d44f"
      },
      "execution_count": null,
      "outputs": [
        {
          "output_type": "stream",
          "name": "stdout",
          "text": [
            "{'imagen': 'Figura, representación, semejanza y apariencia de algo.', 'figura': 'Forma exterior de alguien o algo.'}\n"
          ]
        }
      ]
    },
    {
      "cell_type": "markdown",
      "source": [
        "Después de ejecutar estas 3 instrucciones, vamos a tener un nuevo diccionario llamado palabras que va a tener las definiciones de imagen y figura."
      ],
      "metadata": {
        "id": "eiEO9msG7Dst"
      }
    },
    {
      "cell_type": "markdown",
      "source": [
        "AGREGAR UNA DEFINICIÓN: SEGUNDA VERSIÓN"
      ],
      "metadata": {
        "id": "_lUh4nXD7boc"
      }
    },
    {
      "cell_type": "markdown",
      "source": [
        "Para la segunda versión de la función, vamos a cambiar la signatura para que nuestra función retorne un valor de verdad indicando si se pudo agregar la definición o no. Si la palabra ya existía en el diccionario, no debería agregarse y la función debería retornar el valor False. De lo contrario, debería agregarse y el resultado debería ser True."
      ],
      "metadata": {
        "id": "1RXHP1OA7jjt"
      }
    },
    {
      "cell_type": "code",
      "source": [
        "def agregar_definicion(diccionario: dict, palabra: str, definicion: str)-> bool:\n",
        "  definicion_agregada = False\n",
        "  if palabra not in diccionario:\n",
        "      diccionario[palabra] = definicion\n",
        "      definicion_agregada = True\n",
        "  return definicion_agregada\n",
        "\n",
        "palabras = {}\n",
        "res1 = agregar_definicion(palabras, 'imagen', 'Figura, representación, semejanza y apariencia de algo')\n",
        "res2 = agregar_definicion(palabras, 'figura', 'Forma exterior de alguien o de algo')\n",
        "res3 = agregar_definicion(palabras, 'imagen', 'Figura, representación, semejanza y apariencia de algo')\n",
        "print(res1, res2, res3)"
      ],
      "metadata": {
        "colab": {
          "base_uri": "https://localhost:8080/"
        },
        "id": "CdKsEzJj7eed",
        "outputId": "c7cf3f4f-b6e2-4628-ec43-1c2434e3e355"
      },
      "execution_count": null,
      "outputs": [
        {
          "output_type": "stream",
          "name": "stdout",
          "text": [
            "True True False\n"
          ]
        }
      ]
    },
    {
      "cell_type": "markdown",
      "source": [
        "AGREGAR UNA DEFINICIÓN: TERCERA VERSIÓN"
      ],
      "metadata": {
        "id": "_zgBCWNn83yE"
      }
    },
    {
      "cell_type": "markdown",
      "source": [
        "En la tercera y última versión vamos a ofrecer la posibilidad de tener varias definiciones para una palabra. Para lograr esto vamos a concatenar las definiciones a medida que las vayamos agregando, pero sólo si no habíamos almacenado antes esa misma definición. Para verificar este último punto usaremos la operación not in aplicada sobre un str (la definición que ya teníamos almacenada)."
      ],
      "metadata": {
        "id": "9ehDLOCg9AXJ"
      }
    },
    {
      "cell_type": "code",
      "source": [
        "def agregar_definicion(diccionario: dict, palabra: str, definicion: str)-> bool:\n",
        "  definicion_agregada = False\n",
        "  # La palabra es nueva en el diccionario\n",
        "  if palabra not in diccionario:\n",
        "      diccionario[palabra] = definicion\n",
        "      definicion_agregada = True\n",
        "  # La palabra no es nueva pero la definición sí es nueva\n",
        "  elif definicion not in diccionario[palabra]:\n",
        "      diccionario[palabra] += '\\n' + definicion\n",
        "      definicion_agregada = True\n",
        "  return definicion_agregada\n",
        "\n",
        "palabras = {}\n",
        "res1 = agregar_definicion(palabras, 'imagen', 'Figura, representación, semejanza y apariencia de algo')\n",
        "res2 = agregar_definicion(palabras, 'imagen', 'Estatua, efigie o pintura de una divinidad o de un personaje sagrado.')\n",
        "res3 = agregar_definicion(palabras, 'imagen', 'Figura, representación, semejanza y apariencia de algo')\n",
        "print(res1, res2, res3)\n",
        "print(palabras)"
      ],
      "metadata": {
        "colab": {
          "base_uri": "https://localhost:8080/"
        },
        "id": "fugTFqQE7sh_",
        "outputId": "c193fc23-3647-42e2-eb7d-371ba7e53dc9"
      },
      "execution_count": null,
      "outputs": [
        {
          "output_type": "stream",
          "name": "stdout",
          "text": [
            "True True False\n",
            "{'imagen': 'Figura, representación, semejanza y apariencia de algo\\nEstatua, efigie o pintura de una divinidad o de un personaje sagrado.'}\n"
          ]
        }
      ]
    },
    {
      "cell_type": "markdown",
      "source": [
        "ELIMINAR UNA DEFINICIÓN"
      ],
      "metadata": {
        "id": "yMPqVDsA--lG"
      }
    },
    {
      "cell_type": "markdown",
      "source": [
        "La última operación para estudiar es la que nos permite eliminar definiciones de un diccionario. Esto se puede lograr de dos formas: con el operador del o con el método pop. Tenga en cuenta que en ambos casos es necesario verificar que la llave exista en el diccionario antes de intentar eliminarla. De lo contrario se producirá un error.\n",
        "\n"
      ],
      "metadata": {
        "id": "DHdL_MEMAVTi"
      }
    },
    {
      "cell_type": "markdown",
      "source": [
        "En la siguiente función se usa el operador del para eliminar una palabra del diccionario. Tenga en cuenta que esto eliminará tanto la palabra como su definición. Para evitar que se produzca un error, el llamado a del ocurre dentro del cuerpo de un condicional que se asegura que la palabra sí exista en el diccionario."
      ],
      "metadata": {
        "id": "ofEWwVXdAsoP"
      }
    },
    {
      "cell_type": "code",
      "source": [
        "def eliminar_palabra(diccionario: dict, palabra: str)-> bool:\n",
        "    palabra_eliminada = False\n",
        "    if palabra in diccionario:\n",
        "        del diccionario[palabra]\n",
        "        palabra_eliminada = True\n",
        "    return palabra_eliminada\n",
        "\n",
        "palabras = {}\n",
        "agregar_definicion(palabras, 'imagen', 'Figura, representación, semejanza y apariencia de algo')\n",
        "agregar_definicion(palabras, 'toballa', 'Toalla')\n",
        "agregar_definicion(palabras, 'toballa', 'Pieza de felpa')\n",
        "res1 = eliminar_palabra(palabras, 'caracter')\n",
        "res2 = eliminar_palabra(palabras, 'toballa')\n",
        "print(res1, res2)\n",
        "print(palabras)"
      ],
      "metadata": {
        "colab": {
          "base_uri": "https://localhost:8080/"
        },
        "id": "ThSeR7z8-Mxf",
        "outputId": "516c3caa-a947-4fc0-f517-2e4630ba77b9"
      },
      "execution_count": null,
      "outputs": [
        {
          "output_type": "stream",
          "name": "stdout",
          "text": [
            "False True\n",
            "{'imagen': 'Figura, representación, semejanza y apariencia de algo'}\n"
          ]
        }
      ]
    },
    {
      "cell_type": "markdown",
      "source": [
        "En la segunda versión de la función se remplazó el operador del por un llamado al método pop. Al igual que antes, es necesario verificar que la llave efectivamente exista dentro del diccionario antes de hacer el llamado para que no se produzca ningún error."
      ],
      "metadata": {
        "id": "7H-gBppYBZwp"
      }
    },
    {
      "cell_type": "code",
      "source": [
        "def eliminar_palabra(diccionario: dict, palabra: str)-> bool:\n",
        "    palabra_eliminada = False\n",
        "    if palabra in diccionario:\n",
        "        diccionario.pop(palabra)\n",
        "        palabra_eliminada = True\n",
        "    return palabra_eliminada"
      ],
      "metadata": {
        "id": "SvzArb72A21r"
      },
      "execution_count": null,
      "outputs": []
    },
    {
      "cell_type": "markdown",
      "source": [
        "El método pop tiene además un interesante resultado y es que retorna el valor eliminado. La siguiente sería una nueva versión de la función aprovechando esta característica."
      ],
      "metadata": {
        "id": "5wAr8-9IBq06"
      }
    },
    {
      "cell_type": "code",
      "source": [
        "def eliminar_palabra(diccionario: dict, palabra: str)-> bool:\n",
        "    palabra_eliminada = False\n",
        "    if palabra in diccionario:\n",
        "        definicion_eliminada = diccionario.pop(palabra)\n",
        "        print(\"Se eliminó la llave\", palabra, \"que tenía la definición\", definicion_eliminada)\n",
        "        palabra_eliminada = True\n",
        "    return palabra_eliminada"
      ],
      "metadata": {
        "id": "pFpwllQgBsDx"
      },
      "execution_count": null,
      "outputs": []
    },
    {
      "cell_type": "markdown",
      "source": [
        "Finalmente, Python ofrece una manera para eliminar con facilidad todos los elementos de un diccionario: el método clear. Por ejemplo, si queremos eliminar todos los elementos del diccionario palabras sólo debemos ejecutar la siguiente instrucción:"
      ],
      "metadata": {
        "id": "mvtCJmIOCn3g"
      }
    },
    {
      "cell_type": "code",
      "source": [
        "nuevo_diccionario = {'saludar': 'acción de interactuar',\n",
        "                     'despedirse': 'acción de abandonar un lugar',\n",
        "                     'sueño': 'manifestación del subconsciente'}\n",
        "print(nuevo_diccionario)"
      ],
      "metadata": {
        "colab": {
          "base_uri": "https://localhost:8080/"
        },
        "id": "Sn4vd2lCBuX7",
        "outputId": "4f0fdbd2-9bf5-47b6-c794-4dbfc87e677e"
      },
      "execution_count": null,
      "outputs": [
        {
          "output_type": "stream",
          "name": "stdout",
          "text": [
            "{'saludar': 'acción de interactuar', 'despedirse': 'acción de abandonar un lugar', 'sueño': 'manifestación del subconsciente'}\n"
          ]
        }
      ]
    },
    {
      "cell_type": "code",
      "source": [
        "nuevo_diccionario.clear()\n",
        "print(nuevo_diccionario)"
      ],
      "metadata": {
        "colab": {
          "base_uri": "https://localhost:8080/"
        },
        "id": "SADVR-heCz5a",
        "outputId": "4231800c-4db1-417a-e9f2-edad7ce80964"
      },
      "execution_count": null,
      "outputs": [
        {
          "output_type": "stream",
          "name": "stdout",
          "text": [
            "{}\n"
          ]
        }
      ]
    },
    {
      "cell_type": "markdown",
      "source": [
        "# Usos de los diccionarios"
      ],
      "metadata": {
        "id": "91K1SsfjDXMF"
      }
    },
    {
      "cell_type": "markdown",
      "source": [
        "HISTOGRAMAS BASADOS EN DICCIONARIOS"
      ],
      "metadata": {
        "id": "n196sjqvsF7d"
      }
    },
    {
      "cell_type": "markdown",
      "source": [
        "Una problemática relativamente común es la de contar cuántas veces aparecen ciertos valores dentro de algo más grande. Por ejemplo, cuántas veces aparece cada uno de los dígitos entre 0 y 9 dentro de un número entero, cuántas veces aparece cada letra dentro de una palabra, o cuántas veces aparece cada palabra dentro de un texto. Un problema relacionado es el de contar cuántos elementos de un conjunto caen dentro de unas ciertas categorías (ej. cuántas personas de un grupo nacieron en cada uno de los meses del año, cuántos estudiantes aprobaron un curso, cuántos reprobaron, etc.)."
      ],
      "metadata": {
        "id": "SeO9y6bzsZW5"
      }
    },
    {
      "cell_type": "markdown",
      "source": [
        "Los diccionarios se prestan perfectamente para construir histogramas: las llaves serán los valores que queremos contar y los valores del diccionario indicarán la cantidad de veces que apareció cada uno. La siguiente función ilustra esto:"
      ],
      "metadata": {
        "id": "xYhlb7wNsmSm"
      }
    },
    {
      "cell_type": "code",
      "source": [
        "import matplotlib.pylab as plt\n",
        "def contar_vocales(texto: str)-> dict:\n",
        "  \"\"\" Cuenta la cantidad de veces que aparece cada vocal dentro de un texto\n",
        "    Parámetros:\n",
        "      texto (str): El texto en el que van a contarse las vocales\n",
        "    Retorno:\n",
        "      (dict): Un diccionario donde las llaves son las vocales minúsculas y los valores\n",
        "              son la cantidad de veces que aparece la vocal dentro del texto.\n",
        "  \"\"\"\n",
        "  histograma = {}\n",
        "  histograma['a'] = texto.lower().count('a')\n",
        "  histograma['e'] = texto.lower().count('e')\n",
        "  histograma['i'] = texto.lower().count('i')\n",
        "  histograma['o'] = texto.lower().count('o')\n",
        "  histograma['u'] = texto.lower().count('u')\n",
        "  return histograma\n",
        "\n",
        "pangrama = 'Jovencillo emponzoñado de whisky, ¡que figurota exhibe!'\n",
        "vocales = contar_vocales(pangrama)\n",
        "print(vocales)"
      ],
      "metadata": {
        "id": "DzJ-KECRC6HM",
        "colab": {
          "base_uri": "https://localhost:8080/"
        },
        "outputId": "f036427d-2809-4c47-9af9-715cea93d167"
      },
      "execution_count": null,
      "outputs": [
        {
          "output_type": "stream",
          "name": "stdout",
          "text": [
            "{'a': 2, 'e': 6, 'i': 4, 'o': 6, 'u': 2}\n"
          ]
        }
      ]
    },
    {
      "cell_type": "markdown",
      "source": [
        "DICCIONARIOS COMO CONJUNTOS"
      ],
      "metadata": {
        "id": "4noAzHfaulsy"
      }
    },
    {
      "cell_type": "markdown",
      "source": [
        "Un segundo uso posible de los diccionarios es representar conjuntos. En un conjunto, cada valor puede aparecer máximo una vez y la pregunta más interesante es si un valor pertenece o no pertenece al conjunto. Cuando un conjunto se representa usando un diccionario, sólo nos interesan las llaves y no los valores."
      ],
      "metadata": {
        "id": "FMl1ll3fvc7h"
      }
    },
    {
      "cell_type": "code",
      "source": [
        "import random\n",
        "def lanzar_dado(resultados: dict) -> None:\n",
        "    \"\"\" Lanza un dado calculando aleatoriamente un número entre 1 y 6.\n",
        "        Registra en el diccionario 'resultados' el valor que se obtuvo, asignándole\n",
        "        el valor True a la llave que corresponde al valor.\n",
        "    Parámetros:\n",
        "      resultados (dict): Un diccionario que representa el conjunto de valores diferentes\n",
        "                         que se han obtenido en los lanzamientos pasados.\n",
        "    \"\"\"\n",
        "    valor = random.randint(1,6)\n",
        "    resultados[valor] = True\n",
        "\n",
        "# Lanzar el dado 6 veces y registrar los resultados obtenidos\n",
        "def lanzar_6_dados()-> dict:\n",
        "    \"\"\" Lanza el dado 6 veces y retorna un diccionario con los valores que se obtuvieron\n",
        "    Resultado:\n",
        "      (dict): Un diccionario donde sólo aparecen como llaves los valores que se\n",
        "              obtuvieron en el lanzamiento del dado.\n",
        "    \"\"\"\n",
        "    resultados = {}\n",
        "    lanzar_dado(resultados)\n",
        "    lanzar_dado(resultados)\n",
        "    lanzar_dado(resultados)\n",
        "    lanzar_dado(resultados)\n",
        "    lanzar_dado(resultados)\n",
        "    lanzar_dado(resultados)\n",
        "    return resultados\n",
        "\n",
        "def contar_resultados_diferentes(resultados: dict) -> int:\n",
        "    \"\"\" Cuenta cuántos resultados diferentes hubo\n",
        "    Parámetros:\n",
        "      resultados (dict): El conjunto de los resultados obtenidos representado\n",
        "                         utilizando un diccionario. Si un valor aparece como\n",
        "                         llave en el diccionario, significa que el valor se\n",
        "                         obtuvo en el lanzamiento de los dados.\n",
        "    Retorno:\n",
        "      (int): La cantidad de resultados diferentes que hubo\n",
        "    \"\"\"\n",
        "    #cuales = len(resultados)\n",
        "    diferentes = 0\n",
        "    if 1 in resultados:\n",
        "        diferentes += 1   \n",
        "    if 2 in resultados:\n",
        "        diferentes += 1\n",
        "    if 3 in resultados:\n",
        "        diferentes += 1\n",
        "    if 4 in resultados:\n",
        "        diferentes += 1\n",
        "    if 5 in resultados:\n",
        "        diferentes += 1\n",
        "    if 6 in resultados:\n",
        "        diferentes += 1\n",
        "    return diferentes\n",
        "\n",
        "# Lanzar el dado 6 veces y registrar los resultados obtenidos\n",
        "resultados = lanzar_6_dados()\n",
        "# Contar cuántos valores diferentes se obtuvieron\n",
        "diferentes = contar_resultados_diferentes(resultados)\n",
        "print(\"En 6 lanzamientos del dado se obtuvieron\", diferentes, \"valores diferentes\")"
      ],
      "metadata": {
        "colab": {
          "base_uri": "https://localhost:8080/"
        },
        "id": "0fhLHIEUtjml",
        "outputId": "76b0ebde-6010-4518-b2f4-504bd1ab47df"
      },
      "execution_count": null,
      "outputs": [
        {
          "output_type": "stream",
          "name": "stdout",
          "text": [
            "En 6 lanzamientos del dado se obtuvieron 5 valores diferentes\n"
          ]
        }
      ]
    },
    {
      "cell_type": "markdown",
      "source": [
        "El centro del programa es la función lanzar_dado la cual calcula aleatoriamente un valor entero entre 1 y 6. Este valor se almacena en el conjunto resultados, el cual está representado por un diccionario: cada vez que se lanza el dado, se agrega el valor obtenido al conjunto creando una nueva llave con el valor asociado True. Note que si el mismo valor aparece varias veces, en el diccionario sólo aparecerá una vez, puesto que no puede haber dos llaves iguales.\n",
        "\n",
        "La función lanzar_6_dados crea un conjunto vacío (un diccionario) y llama 6 veces a la función lanzar_dado, logrando que en el conjunto resultado queden todos los valores que salieron al menos una vez. Como el diccionario inicialmente estaba vacío, los valores que no hayan salido en el dado no aparecerán en el diccionario.\n",
        "\n",
        "La función contar_resultados_diferentes revisa cuáles de los números entre 1 y 6 aparecen en el diccionario usando el operador in y retorna la cantidad. Por fuera de las funciones se llama a las últimas dos funciones y finalmente se imprime un mensaje informando cuántos valores diferentes se encontraron. Note que la tercera función podría haberse implementado fácilmente aplicando la función len sobre el conjunto para saber cuántos valores diferentes quedaron en este"
      ],
      "metadata": {
        "id": "ypnxm_cdv8bX"
      }
    },
    {
      "cell_type": "markdown",
      "source": [
        "# Diccionarios como estructuras de datos"
      ],
      "metadata": {
        "id": "y-vNqq57wQJC"
      }
    },
    {
      "cell_type": "markdown",
      "source": [
        "Un tercer uso posible de los diccionarios es modelar elementos de la realidad que tienen estructuras complejas y que además deben tener la misma estructura. Por ejemplo, al principio del capítulo hablamos de celulares que se describen con la velocidad del procesador, cantidad de memoria, calidad de la cámara, tecnología de la pantalla, tamaño de la pantalla, capacidad de la pila, sistema operativo y versión del sistema operativo. Si queremos manejar la información de muchos celulares, tiene sentido organizar la información de cada uno dentro de un diccionario. Con esto nuestros programas quedarán mejor organizados, necesitaremos menos variables, y nos podremos asegurar de que no nos haga falta ningún atributo para un celular.\n",
        "\n",
        "Para empezar a modelar nuestros celulares, listaremos sus características y le daremos un nombre sencillo a cada una:\n",
        "\n",
        "procesador: velocidad del procesador en GHz.\n",
        "\n",
        "memoria: cantidad de memoria en GB.\n",
        "\n",
        "camara: calidad de la cámara en mega-pixeles.\n",
        "\n",
        "pantalla: tecnología de la pantalla.\n",
        "\n",
        "ancho: ancho de la pantalla en pixeles.\n",
        "\n",
        "alto: alto de la pantalla en pixeles.\n",
        "\n",
        "pila: capacidad de la pila en miliamperios (mAh).\n",
        "\n",
        "sistema: nombre del sistema operativo.\n",
        "\n",
        "version: versión del sistema operativo."
      ],
      "metadata": {
        "id": "u7ivE5HBz2Ig"
      }
    },
    {
      "cell_type": "code",
      "source": [
        "def crear_celular(procesador: float, memoria: float, camara: float, pantalla: str,\n",
        "                  ancho: int, alto: int, pila: float, sistema: str, version: str)-> dict:\n",
        "  nuevo_celular = {}\n",
        "  nuevo_celular['procesador'] = procesador\n",
        "  nuevo_celular['memoria'] = memoria\n",
        "  nuevo_celular['camara'] = camara\n",
        "  nuevo_celular['pantalla'] = pantalla\n",
        "  nuevo_celular['ancho'] = ancho\n",
        "  nuevo_celular['alto'] = alto\n",
        "  nuevo_celular['pila'] = pila\n",
        "  nuevo_celular['sistema'] = sistema\n",
        "  nuevo_celular['version'] = version\n",
        "  return nuevo_celular\n",
        "\n",
        "cel1 = crear_celular(2.4, 64, 48, 'OLED', 1080, 2400, 5000, 'Android', '10')\n",
        "cel2 = crear_celular(2.2, 64, 32, 'OLED', 768, 1080, 3500, 'Android', '8.1')\n",
        "cel3 = crear_celular(2.0, 32, 18, 'Retina', 375, 812, 4200, 'iOS', '9.0')\n",
        "cel4 = crear_celular(1.8, 16, 6, 'Retina', 375, 667, 4150, 'iOS', '8.1.4')\n",
        "print(cel1, cel2, cel3, cel4)"
      ],
      "metadata": {
        "colab": {
          "base_uri": "https://localhost:8080/"
        },
        "id": "HnM4DqTBvYUi",
        "outputId": "00167ca8-6993-4c6d-993d-7ec420eaece3"
      },
      "execution_count": null,
      "outputs": [
        {
          "output_type": "stream",
          "name": "stdout",
          "text": [
            "{'procesador': 2.4, 'memoria': 64, 'camara': 48, 'pantalla': 'OLED', 'ancho': 1080, 'alto': 2400, 'pila': 5000, 'sistema': 'Android', 'version': '10'} {'procesador': 2.2, 'memoria': 64, 'camara': 32, 'pantalla': 'OLED', 'ancho': 768, 'alto': 1080, 'pila': 3500, 'sistema': 'Android', 'version': '8.1'} {'procesador': 2.0, 'memoria': 32, 'camara': 18, 'pantalla': 'Retina', 'ancho': 375, 'alto': 812, 'pila': 4200, 'sistema': 'iOS', 'version': '9.0'} {'procesador': 1.8, 'memoria': 16, 'camara': 6, 'pantalla': 'Retina', 'ancho': 375, 'alto': 667, 'pila': 4150, 'sistema': 'iOS', 'version': '8.1.4'}\n"
          ]
        }
      ]
    },
    {
      "cell_type": "markdown",
      "source": [
        "Esta función en realidad no tiene nada que no hayamos estudiado antes en esta sección: crea un nuevo diccionario y guarda los valores recibidos en las posiciones correspondientes del diccionario. En el siguiente fragmento usamos esta función para crear con facilidad cuatro celulares que se almacenan en diccionarios usando la misma estructura."
      ],
      "metadata": {
        "id": "xUESH5H-3HJy"
      }
    },
    {
      "cell_type": "markdown",
      "source": [
        "Ahora bien, lo realmente interesante es que ahora podemos construir funciones que conozcan la estructura de estos diccionarios y hagan operaciones sobre los celulares aprovechandose de esta información. Por ejemplo, la siguiente función nos permite comparar los dos celulares para saber cuál tiene la mejor cámara:"
      ],
      "metadata": {
        "id": "9K_695xc3mAC"
      }
    },
    {
      "cell_type": "code",
      "source": [
        "def mejor_camara(celular1: dict, celular2: dict)-> int:\n",
        "    \"\"\" Busca cuál de los dos celulares tiene la mejor cámara (más mega-pixeles).\n",
        "    Para que se pueda usar la función, los celulares deben representarse con \n",
        "    diccionarios que tengan una llave llamada 'camara' que indique la cantidad\n",
        "    de mega-pixeles de la cámara del celular.    \n",
        "    Parámetros:\n",
        "      celular1 (dict): Es un diccionario que representa al primer celular. \n",
        "      celular2 (dict): Es un diccionario que representa al segundo celular.\n",
        "    Retorno:\n",
        "      (int): Retorna 1 si el primer celular tiene la mejor cámara.\n",
        "             Retorna 2 si el segundo celular tiene la mejor cámara.\n",
        "             Retorna 0 si las cámaras de los dos celulares son iguales.\n",
        "    \"\"\"\n",
        "    mejor = 0\n",
        "    camara1 = celular1['camara']\n",
        "    camara2 = celular2['camara']    \n",
        "    if camara1 > camara2:\n",
        "        mejor = 1\n",
        "    elif camara1 < camara2:\n",
        "        mejor = 2\n",
        "    return mejor\n",
        "\n",
        "camara1 = mejor_camara(cel1, cel2)\n",
        "camara2 = mejor_camara(cel1, cel1)\n",
        "camara3 = mejor_camara(cel3, cel2)\n",
        "print(camara1)\n",
        "print(camara2)\n",
        "print(camara3)"
      ],
      "metadata": {
        "colab": {
          "base_uri": "https://localhost:8080/"
        },
        "id": "j9sQOAQK3abZ",
        "outputId": "76ab68e9-1b79-4b31-bbb6-e15364e89112"
      },
      "execution_count": null,
      "outputs": [
        {
          "output_type": "stream",
          "name": "stdout",
          "text": [
            "1\n",
            "0\n",
            "2\n"
          ]
        }
      ]
    },
    {
      "cell_type": "markdown",
      "source": [
        "A continuación, construiremos una función que es capaz de identificar si alguno de los cuatro celulares tiene una versión determinada de un sistema operativo:"
      ],
      "metadata": {
        "id": "YkIqVNpa4sdA"
      }
    },
    {
      "cell_type": "code",
      "source": [
        "def hay_celular_version_so(cel1: dict, cel2: dict, cel3: dict, cel4: dict, so: str, version: str) -> bool:\n",
        "    \"\"\" Esta función indica si hay algún celular con la versión del sistema operativo\n",
        "        indicada en los parámetros 'so' y 'version'.\n",
        "        La función espera que los diccionarios de los celulares tengan una llave llamada\n",
        "        'sistema' con el nombre del sistema operativo y una llave llamada 'version' con\n",
        "        la versión del sistema.\n",
        "    Parámetros:\n",
        "      cel1 (dict): El diccionario que representa el primer celular\n",
        "      cel2 (dict): El diccionario que representa el segundo celular\n",
        "      cel3 (dict): El diccionario que representa el tercer celular\n",
        "      cel4 (dict): El diccionario que representa el cuarto celular\n",
        "    Retorno:\n",
        "      (bool) : Retorna True si algún celular tiene exactamente el mismo sistema operativo\n",
        "               en la misma versión que se pide en los parámetros 'so' y 'version'.\n",
        "               Retorna False de lo contrario.\n",
        "    \"\"\"\n",
        "    hay_celular_buscado = False\n",
        "    if cel1['sistema'] == so and cel1['version'] == version:\n",
        "        hay_celular_buscado = True\n",
        "    elif cel2['sistema'] == so and cel2['version'] == version:\n",
        "        hay_celular_buscado = True\n",
        "    elif cel3['sistema'] == so and cel3['version'] == version:\n",
        "        hay_celular_buscado = True\n",
        "    elif cel4['sistema'] == so and cel4['version'] == version:\n",
        "        hay_celular_buscado = True    \n",
        "    return hay_celular_buscado"
      ],
      "metadata": {
        "id": "4UcMbgDD35hA"
      },
      "execution_count": null,
      "outputs": []
    },
    {
      "cell_type": "markdown",
      "source": [
        "Observe que en esta función hemos usado un solo if seguido de varios elif. Esto ocurre porque una vez se encuentra un celular con el sistema operativo indicado, no es necesario seguir revisando los siguientes. Esto cambiaría si, en lugar de consultar si hay algún celular con las características descritas, quisiéramos contar cuántos celulares tienen las características descritas."
      ],
      "metadata": {
        "id": "3TsH1SWk5UdG"
      }
    },
    {
      "cell_type": "code",
      "source": [
        "def contar_celulares_version_so(cel1: dict, cel2: dict, cel3: dict, cel4: dict, so: str, version: str) -> int:\n",
        "    \"\"\" Esta función cuenta cuántos celulares tienen la versión del sistema operativo\n",
        "        indicada en los parámetros 'so' y 'version'.\n",
        "        La función espera que los diccionarios de los celulares tengan una llave llamada\n",
        "        'sistema' con el nombre del sistema operativo y una llave llamada 'version' con\n",
        "        la versión del sistema.\n",
        "    Parámetros:\n",
        "      cel1 (dict): El diccionario que representa el primer celular\n",
        "      cel2 (dict): El diccionario que representa el segundo celular\n",
        "      cel3 (dict): El diccionario que representa el tercer celular\n",
        "      cel4 (dict): El diccionario que representa el cuarto celular\n",
        "    Retorno:\n",
        "      (bool) : Retorna la cantidad de celulares que tienen exactamente el mismo \n",
        "               sistema operativo en la misma versión que se pide en los \n",
        "               parámetros 'so' y 'version'.\n",
        "    \"\"\"\n",
        "    cantidad_celulares = 0\n",
        "    if cel1['sistema'] == so and cel1['version'] == version:\n",
        "        cantidad_celulares += 1\n",
        "    if cel2['sistema'] == so and cel2['version'] == version:\n",
        "        cantidad_celulares += 1\n",
        "    if cel3['sistema'] == so and cel3['version'] == version:\n",
        "        cantidad_celulares += 1\n",
        "    if cel4['sistema'] == so and cel4['version'] == version:\n",
        "        cantidad_celulares += 1\n",
        "    return cantidad_celulares"
      ],
      "metadata": {
        "id": "uIHVly_x6hWn"
      },
      "execution_count": null,
      "outputs": []
    },
    {
      "cell_type": "markdown",
      "source": [
        "# Diccionarios de diccionarios"
      ],
      "metadata": {
        "id": "2Vd0gVXt7TiP"
      }
    },
    {
      "cell_type": "markdown",
      "source": [
        "Por último, vamos a describir un uso de los diccionarios que empieza a mostrar el verdadero poder de estas estructuras de datos. Hasta el momento, los valores que hemos introducido dentro de los diccionarios han sido tipos simples: int, str, float y bool. Ahora vamos a introducir también diccionarios dentro de los diccionarios."
      ],
      "metadata": {
        "id": "kDtbbcYF8MeK"
      }
    },
    {
      "cell_type": "markdown",
      "source": [
        "Para ilustrar este punto vamos a continuar con el ejemplo de los celulares y construir un diccionario que va a contener todos los celulares que queremos comparar. En este diccionario las llaves serán los nombres de los celulares y los valores serán los diccionarios con el resto de características."
      ],
      "metadata": {
        "id": "sMW_QvQy8qNg"
      }
    },
    {
      "cell_type": "code",
      "source": [
        "def crear_celular(procesador: float, memoria: float, camara: float, pantalla: str,\n",
        "                  ancho: int, alto: int, pila: float, sistema: str, version: str)-> dict:\n",
        "  nuevo_celular = {}\n",
        "  nuevo_celular['procesador'] = procesador\n",
        "  nuevo_celular['memoria'] = memoria\n",
        "  nuevo_celular['camara'] = camara\n",
        "  nuevo_celular['pantalla'] = pantalla\n",
        "  nuevo_celular['ancho'] = ancho\n",
        "  nuevo_celular['alto'] = alto\n",
        "  nuevo_celular['pila'] = pila\n",
        "  nuevo_celular['sistema'] = sistema\n",
        "  nuevo_celular['version'] = version\n",
        "  return nuevo_celular\n",
        "\n",
        "cel1 = crear_celular(2.4, 64, 48, 'OLED', 1080, 2400, 5000, 'Android', '10')\n",
        "cel2 = crear_celular(2.2, 64, 32, 'OLED', 768, 1080, 3500, 'Android', '8.1')\n",
        "cel3 = crear_celular(2.0, 32, 18, 'Retina', 375, 812, 4200, 'iOS', '9.0')\n",
        "cel4 = crear_celular(1.8, 16, 6, 'Retina', 375, 667, 4150, 'iOS', '8.1.4')\n",
        "print(cel1, cel2, cel3, cel4)\n",
        "\n",
        "#Diccionario de diccionarios para los celulares creados en def crear_celular\n",
        "celulares = {}\n",
        "celulares['AmazingCel'] = cel1\n",
        "celulares['BoringCel'] = cel2\n",
        "celulares['CheapCel'] = cel3\n",
        "celulares['DumbCel'] = cel4\n",
        "print(celulares)"
      ],
      "metadata": {
        "colab": {
          "base_uri": "https://localhost:8080/"
        },
        "id": "mMhCeV2b7eeV",
        "outputId": "4933ad9a-8119-418d-c150-10c7e52c78a6"
      },
      "execution_count": null,
      "outputs": [
        {
          "output_type": "stream",
          "name": "stdout",
          "text": [
            "{'procesador': 2.4, 'memoria': 64, 'camara': 48, 'pantalla': 'OLED', 'ancho': 1080, 'alto': 2400, 'pila': 5000, 'sistema': 'Android', 'version': '10'} {'procesador': 2.2, 'memoria': 64, 'camara': 32, 'pantalla': 'OLED', 'ancho': 768, 'alto': 1080, 'pila': 3500, 'sistema': 'Android', 'version': '8.1'} {'procesador': 2.0, 'memoria': 32, 'camara': 18, 'pantalla': 'Retina', 'ancho': 375, 'alto': 812, 'pila': 4200, 'sistema': 'iOS', 'version': '9.0'} {'procesador': 1.8, 'memoria': 16, 'camara': 6, 'pantalla': 'Retina', 'ancho': 375, 'alto': 667, 'pila': 4150, 'sistema': 'iOS', 'version': '8.1.4'}\n",
            "{'AmazingCel': {'procesador': 2.4, 'memoria': 64, 'camara': 48, 'pantalla': 'OLED', 'ancho': 1080, 'alto': 2400, 'pila': 5000, 'sistema': 'Android', 'version': '10'}, 'BoringCel': {'procesador': 2.2, 'memoria': 64, 'camara': 32, 'pantalla': 'OLED', 'ancho': 768, 'alto': 1080, 'pila': 3500, 'sistema': 'Android', 'version': '8.1'}, 'CheapCel': {'procesador': 2.0, 'memoria': 32, 'camara': 18, 'pantalla': 'Retina', 'ancho': 375, 'alto': 812, 'pila': 4200, 'sistema': 'iOS', 'version': '9.0'}, 'DumbCel': {'procesador': 1.8, 'memoria': 16, 'camara': 6, 'pantalla': 'Retina', 'ancho': 375, 'alto': 667, 'pila': 4150, 'sistema': 'iOS', 'version': '8.1.4'}}\n"
          ]
        }
      ]
    },
    {
      "cell_type": "markdown",
      "source": [
        "Observe ahora lo que pasa si intentamos extraer un valor del diccionario celulares usando el nombre de un celular:"
      ],
      "metadata": {
        "id": "OK4Pz7kb9juc"
      }
    },
    {
      "cell_type": "code",
      "source": [
        "print(celulares['AmazingCel'])\n",
        "print(celulares['DumbCel'])"
      ],
      "metadata": {
        "colab": {
          "base_uri": "https://localhost:8080/"
        },
        "id": "9aR8QLKK9CVM",
        "outputId": "cbfcb30b-18c4-4bf3-e3ae-c3881bcd2660"
      },
      "execution_count": null,
      "outputs": [
        {
          "output_type": "stream",
          "name": "stdout",
          "text": [
            "{'procesador': 2.4, 'memoria': 64, 'camara': 48, 'pantalla': 'OLED', 'ancho': 1080, 'alto': 2400, 'pila': 5000, 'sistema': 'Android', 'version': '10'}\n",
            "{'procesador': 1.8, 'memoria': 16, 'camara': 6, 'pantalla': 'Retina', 'ancho': 375, 'alto': 667, 'pila': 4150, 'sistema': 'iOS', 'version': '8.1.4'}\n"
          ]
        }
      ]
    },
    {
      "cell_type": "markdown",
      "source": [
        "Más interesante aún es lo que pasa si encadenamos los llamados para extraer una propiedad del celular:"
      ],
      "metadata": {
        "id": "Far1OiVg943y"
      }
    },
    {
      "cell_type": "code",
      "source": [
        "print(celulares['CheapCel']['procesador'])\n",
        "print(celulares['BoringCel']['sistema'])"
      ],
      "metadata": {
        "colab": {
          "base_uri": "https://localhost:8080/"
        },
        "id": "yqfBPH_K9mtk",
        "outputId": "14b8fbc1-437d-40bd-dc89-cb72bfe13f15"
      },
      "execution_count": null,
      "outputs": [
        {
          "output_type": "stream",
          "name": "stdout",
          "text": [
            "2.0\n",
            "Android\n"
          ]
        }
      ]
    },
    {
      "cell_type": "markdown",
      "source": [
        "Vamos a construir ahora una función similar a la que construimos antes para comparar dos celulares. La principal diferencia es que ahora usaremos nuestro nuevo diccionario de celulares y los nombres de los celulares que queremos comparar."
      ],
      "metadata": {
        "id": "Bm_d4Izo-MKZ"
      }
    },
    {
      "cell_type": "code",
      "source": [
        "def mejor_camara_con_nombres(celulares: dict, nombre1: str, nombre2: dict)-> str:\n",
        "    \"\"\" Busca cuál de los dos celulares tiene la mejor cámara\n",
        "    Parámetros:\n",
        "      celulares (dict): Un diccionario donde las llaves son los nombres de los celulares\n",
        "                        y los valores son diccionarios que representan celulares\n",
        "      nombre1 (str): El nombre del primer celular que se quiere comparar\n",
        "      nombre2 (str): El nombre del segundo celular que se quiere comparar\n",
        "    Retorno:\n",
        "      (str): Retorna el nombre del celular que tiene la mejor cámara o \"Empate\" si\n",
        "             las cámaras de los dos celulares son iguales.\n",
        "             Si sólo uno de los nombres corresponde al de un celular, retorna ese nombre.\n",
        "             Si ningún nombre corresponde al de un celular, retorna \"Nombres inválidos\".\n",
        "    \"\"\"\n",
        "    # Extraer los celulares del diccionario usando su nombre\n",
        "    celular1 = celulares.get(nombre1, None)\n",
        "    celular2 = celulares.get(nombre2, None)\n",
        "    # Ninguno de los dos nombres era correcto\n",
        "    if celular1 is None and celular2 is None:\n",
        "        nombre_mejor = \"Nombres inválidos\"\n",
        "    # Sólo el segundo nombre era correcto\n",
        "    elif celular1 is None and celular2 is not None:\n",
        "        nombre_mejor = nombre2\n",
        "    # Sólo el primer nombre era correcto\n",
        "    elif celular1 is not None and celular2 is None:\n",
        "        nombre_mejor = nombre1\n",
        "    # Los dos nombres eran correctos así que hay que comparar los celulares\n",
        "    else:\n",
        "        nombre_mejor = \"Empate\"\n",
        "        numero_mejor = mejor_camara(celular1, celular2)\n",
        "        if numero_mejor == 1:\n",
        "            nombre_mejor = nombre1\n",
        "        elif numero_mejor == 2:\n",
        "            nombre_mejor = nombre2\n",
        "    return nombre_mejor\n",
        "\n",
        "print(mejor_camara_con_nombres(celulares, 'DumbCel', 'BoringCel'))\n",
        "print(mejor_camara_con_nombres(celulares, 'DumbCel', 'FalseCel'))\n",
        "print(mejor_camara_con_nombres(celulares, 'FalsestCel', 'FalseCel'))\n",
        "print(mejor_camara_con_nombres(celulares, 'CheapCel', 'CheapCel'))"
      ],
      "metadata": {
        "colab": {
          "base_uri": "https://localhost:8080/"
        },
        "id": "HRvzIF0b9-b3",
        "outputId": "58d6bfc4-24e3-4698-9fec-aa9d4569a421"
      },
      "execution_count": null,
      "outputs": [
        {
          "output_type": "stream",
          "name": "stdout",
          "text": [
            "BoringCel\n",
            "DumbCel\n",
            "Nombres inválidos\n",
            "Empate\n"
          ]
        }
      ]
    },
    {
      "cell_type": "markdown",
      "source": [
        "# Mutabilidad en diccionarios"
      ],
      "metadata": {
        "id": "-tVfjrC9AXMG"
      }
    },
    {
      "cell_type": "markdown",
      "source": [
        "Esta característica es muy importante y hay que tenerla muy en cuenta cuando se utilizan diccionarios en los parámetros de una función. En síntesis, el hecho de que los diccionarios sean mutables hace que todos los cambios que se hacen a un diccionario que llegue a una función como un parámetro, se vean reflejados también fuera de la función."
      ],
      "metadata": {
        "id": "FvY1XOamBO3z"
      }
    },
    {
      "cell_type": "code",
      "source": [
        "def agregar_definicion(diccionario: dict, palabra: str, definicion: str)-> None:\n",
        "  diccionario[palabra] = definicion\n",
        "\n",
        "palabras = {}\n",
        "agregar_definicion(palabras, 'palabra1', 'definicion1')\n",
        "print(palabras)\n",
        "\n",
        "agregar_definicion(palabras, 'palabra2', 'definicion2')\n",
        "print(palabras)"
      ],
      "metadata": {
        "colab": {
          "base_uri": "https://localhost:8080/"
        },
        "id": "eYXxo5fC-s1J",
        "outputId": "5782f699-3cb9-4e31-b548-4c908dbc1883"
      },
      "execution_count": null,
      "outputs": [
        {
          "output_type": "stream",
          "name": "stdout",
          "text": [
            "{'palabra1': 'definicion1'}\n",
            "{'palabra1': 'definicion1', 'palabra2': 'definicion2'}\n"
          ]
        }
      ]
    },
    {
      "cell_type": "markdown",
      "source": [
        "El punto central acá es que en todo el ejemplo sólo hay un diccionario. Cuando se invoca la función agregar_definicion y se pasa el diccionario palabras como parámetro, es exactamente el mismo diccionario el que se recibe y se modifica. Este comportamiento es propio de los diccionarios (y de otros tipos de datos que estudiaremos más adelante), se conoce como paso de parámetros por referencia.\n",
        "\n",
        "Esto no ocurre con tipos como int o str, en los cuales el paso de parámetros se hace por valor. Es decir, el valor que se recibe dentro de la función es idéntico al que se usó como parámetro, pero no es el mismo (es una copia, no una referencia). Esto se muestra en el siguiente ejemplo:"
      ],
      "metadata": {
        "id": "InL1ezD-BxsI"
      }
    },
    {
      "cell_type": "code",
      "source": [
        "def modificar(entero: int, cadena: str)->bool: #Variables locales\n",
        "    entero += 100\n",
        "    cadena += '!!!!'\n",
        "    print(entero, cadena)\n",
        "    return True\n",
        "numero = 1 #Variables globales\n",
        "texto = \"Hola Mundo\"\n",
        "resultado = modificar(numero, texto)\n",
        "print(numero, texto)"
      ],
      "metadata": {
        "colab": {
          "base_uri": "https://localhost:8080/"
        },
        "id": "l_qWn6SRBfpt",
        "outputId": "152640e6-45bb-48b8-d984-97c02123ab9a"
      },
      "execution_count": null,
      "outputs": [
        {
          "output_type": "stream",
          "name": "stdout",
          "text": [
            "101 Hola Mundo!!!!\n",
            "1 Hola Mundo\n"
          ]
        }
      ]
    },
    {
      "cell_type": "markdown",
      "source": [
        "**COPIAS DE DICCIONARIOS**"
      ],
      "metadata": {
        "id": "0I771pMQCj5W"
      }
    },
    {
      "cell_type": "markdown",
      "source": [
        "Finalmente, vamos a desarrollar una función en la que no queremos que se modifique el diccionario original, sino que queremos que se construya uno nuevo. La nueva función agregar_definicion_con_copia logra este resultado y retorna un diccionario con todos los elementos que tenía el diccionario original y también con el elemento adicional que se está agregando."
      ],
      "metadata": {
        "id": "9G0z3im5Cnv9"
      }
    },
    {
      "cell_type": "code",
      "source": [
        "def agregar_definicion_con_copia(diccionario: dict, palabra: str, definicion: str)-> dict:\n",
        "  copia = diccionario.copy()\n",
        "  copia[palabra] = definicion\n",
        "  return copia"
      ],
      "metadata": {
        "id": "OK8U6voPCOCw"
      },
      "execution_count": null,
      "outputs": []
    },
    {
      "cell_type": "code",
      "source": [
        "palabras = {'palabra1': 'definicion1', 'palabra2': 'definicion2'}\n",
        "print(palabras)"
      ],
      "metadata": {
        "colab": {
          "base_uri": "https://localhost:8080/"
        },
        "id": "Ik1n8ldGC_Ae",
        "outputId": "bc59be64-20ca-49ab-aa08-61cee1199be9"
      },
      "execution_count": null,
      "outputs": [
        {
          "output_type": "stream",
          "name": "stdout",
          "text": [
            "{'palabra1': 'definicion1', 'palabra2': 'definicion2'}\n"
          ]
        }
      ]
    },
    {
      "cell_type": "code",
      "source": [
        "copia_palabras = agregar_definicion_con_copia(palabras, 'p99', 'def99')\n",
        "print(copia_palabras)"
      ],
      "metadata": {
        "colab": {
          "base_uri": "https://localhost:8080/"
        },
        "id": "zaE38kQaDAuf",
        "outputId": "e2456674-2a7a-4746-ed4d-f0fcc358ece2"
      },
      "execution_count": null,
      "outputs": [
        {
          "output_type": "stream",
          "name": "stdout",
          "text": [
            "{'palabra1': 'definicion1', 'palabra2': 'definicion2', 'p99': 'def99'}\n"
          ]
        }
      ]
    },
    {
      "cell_type": "markdown",
      "source": [
        "-Actividad: Construya un diccionario con las alturas sobre el nivel del mar de las capitales de los países suramericanos. Use los nombres de las ciudades, usando mayúsculas al principio de las palabras, como llaves y las alturas como valores. Es decir, las llaves deben ser ‘Bogotá’, ‘Buenos Aires’. etc."
      ],
      "metadata": {
        "id": "iM7P0MQBDy7F"
      }
    },
    {
      "cell_type": "code",
      "source": [
        "nivel_del_mar_suramerica = {'Bogotá': 2500,\n",
        "                            'Buenos Aires': 2365,\n",
        "                            'Medellín': 1600,\n",
        "                            'Neiva': 1250,\n",
        "                            'Cartagena': 960,\n",
        "                            'Bucaramanga': 1430}\n",
        "print(nivel_del_mar_suramerica)"
      ],
      "metadata": {
        "colab": {
          "base_uri": "https://localhost:8080/"
        },
        "id": "plapTQN8DFtw",
        "outputId": "0ea12f43-e606-494e-9d61-ddffabd6ed32"
      },
      "execution_count": null,
      "outputs": [
        {
          "output_type": "stream",
          "name": "stdout",
          "text": [
            "{'Bogotá': 2500, 'Buenos Aires': 2365, 'Medellín': 1600, 'Neiva': 1250, 'Cartagena': 960, 'Bucaramanga': 1430}\n"
          ]
        }
      ]
    },
    {
      "cell_type": "markdown",
      "source": [
        "-Actividad: Escriba una función que reciba el diccionario con las alturas de las ciudades y los nombres de dos ciudades y que retorne el nombre de la ciudad que esté ubicada a una mayor altura. La función debe ser capaz de funcionar incluso si en el nombre de las ciudades se usan mayúsculas y minúsculas de forma diferente a como están en el diccionario (por ejemplo, ‘BoGoTá’ y ‘BUENOS aires’). Si alguno de los dos nombres no corresponde a una ciudad, la función debe retornar el valor None."
      ],
      "metadata": {
        "id": "s7i2vf4jInPw"
      }
    },
    {
      "cell_type": "code",
      "source": [
        "def alturas_ciudades(diccionario: dict, ciudad1: str, ciudad2: str)-> str:\n",
        "  ciudad1 = ciudad1.title()\n",
        "  ciudad2 = ciudad2.title()\n",
        "  mayor_altura = ciudad2\n",
        "  if ciudad1 not in diccionario or ciudad2 not in diccionario:\n",
        "    mayor_altura = None\n",
        "  elif diccionario[ciudad1] > diccionario[ciudad2]:\n",
        "    mayor_altura = ciudad1\n",
        "  return mayor_altura\n",
        "\n",
        "mayor = alturas_ciudades(nivel_del_mar_suramerica, 'mEdElLín', 'BUcAraManGa')\n",
        "print(mayor)"
      ],
      "metadata": {
        "colab": {
          "base_uri": "https://localhost:8080/"
        },
        "id": "QUcknVjoIgbW",
        "outputId": "c4c49f83-4817-4e9b-a8b8-307cfbf1f13f"
      },
      "execution_count": null,
      "outputs": [
        {
          "output_type": "stream",
          "name": "stdout",
          "text": [
            "Medellín\n"
          ]
        }
      ]
    },
    {
      "cell_type": "code",
      "source": [
        "def alturas_ciudades_v2(diccionario: dict, ciudad1: str, ciudad2: str)-> str:\n",
        "  ciudad1 = ciudad1.title()\n",
        "  ciudad2 = ciudad2.title()\n",
        "  c1 = diccionario.get(ciudad1, None)\n",
        "  c2 = diccionario.get(ciudad2, None)\n",
        "  mayor_altura = ciudad2\n",
        "  if not c1 is None or c2 is None:\n",
        "    mayor_altura = None\n",
        "  elif c1 > c2:    \n",
        "    mayor_altura = ciudad1\n",
        "  return mayor_altura\n",
        "\n",
        "mayorv2 = alturas_ciudades(nivel_del_mar_suramerica, 'MeDEllíN', 'BoGotÁ')\n",
        "print(mayorv2)"
      ],
      "metadata": {
        "colab": {
          "base_uri": "https://localhost:8080/"
        },
        "id": "lUDnAia_KZQU",
        "outputId": "88656cbc-883c-49c1-c63c-6a55562ce83b"
      },
      "execution_count": null,
      "outputs": [
        {
          "output_type": "stream",
          "name": "stdout",
          "text": [
            "Bogotá\n"
          ]
        }
      ]
    },
    {
      "cell_type": "markdown",
      "source": [
        "-Actividad: Escriba una función que reciba un número entero y calcule un diccionario en el que cada llave es un dígito y los valores asociados son la cantidad de veces que aparece el dígito en el número entero. Si un dígito no aparece en el número, no debe aparecer en el diccionario."
      ],
      "metadata": {
        "id": "lWIfq3xFNBLW"
      }
    },
    {
      "cell_type": "code",
      "source": [
        "def contar_numero(entero: str)-> dict:\n",
        "  digitos = {}\n",
        "  digitos['0'] = entero.count('0')\n",
        "  digitos['1'] = entero.count('1')\n",
        "  digitos['2'] = entero.count('2')\n",
        "  digitos['3'] = entero.count('3')\n",
        "  digitos['4'] = entero.count('4')\n",
        "  digitos['5'] = entero.count('5')\n",
        "  digitos['6'] = entero.count('6')\n",
        "  digitos['7'] = entero.count('7')\n",
        "  digitos['8'] = entero.count('8')\n",
        "  digitos['9'] = entero.count('9')\n",
        "  return digitos\n",
        "\n",
        "def purgar_diccionario(digitos: dict)-> dict:\n",
        "  digitos = contar_numero(entero)\n",
        "  if entero.count('0') == 0:\n",
        "    del digitos['0']\n",
        "  if entero.count('1') == 0:\n",
        "    del digitos['1']\n",
        "  if entero.count('2') == 0:\n",
        "    del digitos['2']\n",
        "  if entero.count('3') == 0:\n",
        "    del digitos['3']\n",
        "  if entero.count('4') == 0:\n",
        "    del digitos['4']\n",
        "  if entero.count('5') == 0:\n",
        "    del digitos['5']\n",
        "  if entero.count('6') == 0:\n",
        "    del digitos['6']\n",
        "  if entero.count('7') == 0:\n",
        "    del digitos['7']\n",
        "  if entero.count('8') == 0:\n",
        "    del digitos['8']\n",
        "  if entero.count('9') == 0:\n",
        "    del digitos['9']\n",
        "      \n",
        "  return digitos\n",
        "\n",
        "entero = input('Escriba un número entero: ')\n",
        "diccionario = contar_numero(entero)\n",
        "purgar = purgar_diccionario(diccionario)\n",
        "print(purgar)  "
      ],
      "metadata": {
        "id": "GhGmvpofRIHF",
        "colab": {
          "base_uri": "https://localhost:8080/"
        },
        "outputId": "7e66c021-2c63-49ad-ab9a-00d097921871"
      },
      "execution_count": null,
      "outputs": [
        {
          "output_type": "stream",
          "name": "stdout",
          "text": [
            "Escriba un número entero: 3042047423\n",
            "{'0': 2, '2': 2, '3': 2, '4': 3, '7': 1}\n"
          ]
        }
      ]
    },
    {
      "cell_type": "markdown",
      "source": [
        "-Actividad: Escriba una función que reciba un número entero y retorne el dígito que aparece más veces dentro del número."
      ],
      "metadata": {
        "id": "nU_gOU_o5F_E"
      }
    },
    {
      "cell_type": "code",
      "source": [
        "def num_entero(entero: int)-> str:\n",
        "  cero = str(entero).count('0')\n",
        "  uno = str(entero).count('1')\n",
        "  dos = str(entero).count('2')\n",
        "  tres = str(entero).count('3')\n",
        "  cuatro = str(entero).count('4')\n",
        "  cinco = str(entero).count('5')\n",
        "  seis = str(entero).count('6')\n",
        "  siete = str(entero).count('7')\n",
        "  ocho = str(entero).count('8')\n",
        "  nueve = str(entero).count('9')\n",
        "\n",
        "  mas_veces = cero\n",
        "  ganador = 0\n",
        "  if uno > mas_veces:\n",
        "    mas_veces = uno\n",
        "    ganador = 1\n",
        "  if dos > mas_veces:\n",
        "    mas_veces = dos\n",
        "    ganador = 2\n",
        "  if tres > mas_veces:\n",
        "    mas_veces = tres\n",
        "    ganador = 3\n",
        "  if cuatro > mas_veces:\n",
        "    mas_veces = cuatro\n",
        "    ganador = 4\n",
        "  if cinco > mas_veces:\n",
        "    mas_veces = cinco\n",
        "    ganador = 5\n",
        "  if seis > mas_veces:\n",
        "    mas_veces = seis\n",
        "    ganador = 6\n",
        "  if siete > mas_veces:\n",
        "    mas_veces = siete\n",
        "    ganador = 7\n",
        "  if ocho > mas_veces:\n",
        "    mas_veces = ocho\n",
        "    ganador = 8\n",
        "  if nueve > mas_veces:\n",
        "    mas_veces = nueve\n",
        "    ganador = 9\n",
        "\n",
        "  return 'El número ' + str(ganador) + ' se repite ' + str(mas_veces) + ' veces siendo el de mayor frecuencia.'\n",
        "\n",
        "entero = int(input('Escribe un número entero: '))\n",
        "contador = num_entero(entero)\n",
        "print(contador)"
      ],
      "metadata": {
        "colab": {
          "base_uri": "https://localhost:8080/"
        },
        "id": "Cq_XOOdd0-qV",
        "outputId": "cd0143e5-6f89-4e11-be1a-9eefa89274ba"
      },
      "execution_count": null,
      "outputs": [
        {
          "output_type": "stream",
          "name": "stdout",
          "text": [
            "Escribe un número entero: 3042047423\n",
            "El número 4 se repite 3 veces siendo el de mayor frecuencia.\n"
          ]
        }
      ]
    },
    {
      "cell_type": "markdown",
      "source": [
        "MANOS A LA OBRA: Ocurrencias de cada dígito en un número usando diccionarios"
      ],
      "metadata": {
        "id": "i9CatscOG2jv"
      }
    },
    {
      "cell_type": "code",
      "source": [
        "def contar(num: int, diccionario: dict)-> int:\n",
        "  digito = num % 10\n",
        "\n",
        "  if digito in diccionario:\n",
        "    diccionario[digito] += 1\n",
        "  else:\n",
        "    diccionario[digito] = 1\n",
        "\n",
        "  return num // 10\n",
        "\n",
        "numero = int(input('Digite un número de 10 cifras: '))\n",
        "conteo = {}\n",
        "\n",
        "numero = contar(numero, conteo)\n",
        "numero = contar(numero, conteo)\n",
        "numero = contar(numero, conteo)\n",
        "numero = contar(numero, conteo)\n",
        "numero = contar(numero, conteo)\n",
        "numero = contar(numero, conteo)\n",
        "numero = contar(numero, conteo)\n",
        "numero = contar(numero, conteo)\n",
        "numero = contar(numero, conteo)\n",
        "numero = contar(numero, conteo)\n",
        "\n",
        "print(conteo)"
      ],
      "metadata": {
        "colab": {
          "base_uri": "https://localhost:8080/"
        },
        "id": "4rGKNsIM8znS",
        "outputId": "bac36479-612d-4bb0-da09-b6a6181ca15c"
      },
      "execution_count": null,
      "outputs": [
        {
          "output_type": "stream",
          "name": "stdout",
          "text": [
            "Digite un número de 10 cifras: 3015202313\n",
            "{3: 3, 1: 2, 2: 2, 0: 2, 5: 1}\n"
          ]
        }
      ]
    },
    {
      "cell_type": "code",
      "source": [
        "def contar_v2(num: int, diccionario: dict)-> int:\n",
        "  digito = num % 10\n",
        "\n",
        "  diccionario[digito] = diccionario.get(digito, 0) + 1\n",
        "\n",
        "  return num // 10\n",
        "\n",
        "numero = int(input('Digite un número de 10 cifras: '))\n",
        "conteo = {}\n",
        "\n",
        "numero = contar(numero, conteo)\n",
        "numero = contar(numero, conteo)\n",
        "numero = contar(numero, conteo)\n",
        "numero = contar(numero, conteo)\n",
        "numero = contar(numero, conteo)\n",
        "numero = contar(numero, conteo)\n",
        "numero = contar(numero, conteo)\n",
        "numero = contar(numero, conteo)\n",
        "numero = contar(numero, conteo)\n",
        "numero = contar(numero, conteo)\n",
        "\n",
        "print(conteo)"
      ],
      "metadata": {
        "colab": {
          "base_uri": "https://localhost:8080/"
        },
        "id": "wClZ0GxSHky9",
        "outputId": "9dc1b705-4af5-4ff5-cbb6-fdadb1434cd8"
      },
      "execution_count": null,
      "outputs": [
        {
          "output_type": "stream",
          "name": "stdout",
          "text": [
            "Digite un número de 10 cifras: 3015202313\n",
            "{3: 3, 1: 2, 2: 2, 0: 2, 5: 1}\n"
          ]
        }
      ]
    },
    {
      "cell_type": "markdown",
      "source": [
        "-Actividad: Con base en el ejemplo del diccionario de celulares, construya una función que reciba los diccionarios de 4 celulares y cuente cuántos de estos celulares tienen más de 16 GB de memoria."
      ],
      "metadata": {
        "id": "nN9tuEUgKB1H"
      }
    },
    {
      "cell_type": "code",
      "source": [
        "def crear_celular(procesador: float, memoria: float, camara: float, pantalla: str,\n",
        "                  ancho: int, alto: int, pila: float, sistema: str, version: str)-> dict:\n",
        "  nuevo_celular = {}\n",
        "  nuevo_celular['procesador'] = procesador\n",
        "  nuevo_celular['memoria'] = memoria\n",
        "  nuevo_celular['camara'] = camara\n",
        "  nuevo_celular['pantalla'] = pantalla\n",
        "  nuevo_celular['ancho'] = ancho\n",
        "  nuevo_celular['alto'] = alto\n",
        "  nuevo_celular['pila'] = pila\n",
        "  nuevo_celular['sistema'] = sistema\n",
        "  nuevo_celular['version'] = version\n",
        "  return nuevo_celular\n",
        "\n",
        "cel1 = crear_celular(2.4, 64, 48, 'OLED', 1080, 2400, 5000, 'Android', '10')\n",
        "cel2 = crear_celular(2.2, 64, 32, 'OLED', 768, 1080, 3500, 'Android', '8.1')\n",
        "cel3 = crear_celular(2.0, 32, 18, 'Retina', 375, 812, 4200, 'iOS', '9.0')\n",
        "cel4 = crear_celular(1.8, 16, 6, 'Retina', 375, 667, 4150, 'iOS', '8.1.4')\n",
        "print(cel1, cel2, cel3, cel4)\n",
        "\n",
        "#Diccionario de diccionarios para los celulares creados en def crear_celular\n",
        "celulares = {}\n",
        "celulares['AmazingCel'] = cel1\n",
        "celulares['BoringCel'] = cel2\n",
        "celulares['CheapCel'] = cel3\n",
        "celulares['DumbCel'] = cel4\n",
        "print(celulares)\n",
        "\n",
        "#Cuenta cuántos celulares tienen más de 16GB de memoria\n",
        "def contar_celulares_memoria_16(cel1: dict, cel2: dict, cel3: dict, cel4: dict) -> int:\n",
        "    cantidad_celulares = 0\n",
        "    if cel1['memoria'] > 16:\n",
        "        cantidad_celulares += 1\n",
        "    if cel2['memoria'] > 16:\n",
        "        cantidad_celulares += 1\n",
        "    if cel3['memoria'] > 16:\n",
        "        cantidad_celulares += 1\n",
        "    if cel4['memoria'] > 16:\n",
        "        cantidad_celulares += 1\n",
        "    return cantidad_celulares\n",
        "\n",
        "memorias = contar_celulares_memoria_16(cel1, cel2, cel3, cel4)\n",
        "print(memorias)"
      ],
      "metadata": {
        "colab": {
          "base_uri": "https://localhost:8080/"
        },
        "id": "pS8ZoPhdIjUy",
        "outputId": "e88f8696-6042-4cad-d91a-a550bfbadb87"
      },
      "execution_count": null,
      "outputs": [
        {
          "output_type": "stream",
          "name": "stdout",
          "text": [
            "{'procesador': 2.4, 'memoria': 64, 'camara': 48, 'pantalla': 'OLED', 'ancho': 1080, 'alto': 2400, 'pila': 5000, 'sistema': 'Android', 'version': '10'} {'procesador': 2.2, 'memoria': 64, 'camara': 32, 'pantalla': 'OLED', 'ancho': 768, 'alto': 1080, 'pila': 3500, 'sistema': 'Android', 'version': '8.1'} {'procesador': 2.0, 'memoria': 32, 'camara': 18, 'pantalla': 'Retina', 'ancho': 375, 'alto': 812, 'pila': 4200, 'sistema': 'iOS', 'version': '9.0'} {'procesador': 1.8, 'memoria': 16, 'camara': 6, 'pantalla': 'Retina', 'ancho': 375, 'alto': 667, 'pila': 4150, 'sistema': 'iOS', 'version': '8.1.4'}\n",
            "{'AmazingCel': {'procesador': 2.4, 'memoria': 64, 'camara': 48, 'pantalla': 'OLED', 'ancho': 1080, 'alto': 2400, 'pila': 5000, 'sistema': 'Android', 'version': '10'}, 'BoringCel': {'procesador': 2.2, 'memoria': 64, 'camara': 32, 'pantalla': 'OLED', 'ancho': 768, 'alto': 1080, 'pila': 3500, 'sistema': 'Android', 'version': '8.1'}, 'CheapCel': {'procesador': 2.0, 'memoria': 32, 'camara': 18, 'pantalla': 'Retina', 'ancho': 375, 'alto': 812, 'pila': 4200, 'sistema': 'iOS', 'version': '9.0'}, 'DumbCel': {'procesador': 1.8, 'memoria': 16, 'camara': 6, 'pantalla': 'Retina', 'ancho': 375, 'alto': 667, 'pila': 4150, 'sistema': 'iOS', 'version': '8.1.4'}}\n",
            "3\n"
          ]
        }
      ]
    },
    {
      "cell_type": "markdown",
      "source": [
        "-Actividad: Con base en el ejemplo del diccionario de celulares, construya una función que reciba los diccionarios de 4 celulares y diga cuál es el celular que tiene la mayor cantidad de pixeles en la pantalla."
      ],
      "metadata": {
        "id": "gmIcXvg9MACj"
      }
    },
    {
      "cell_type": "code",
      "source": [
        "def crear_celular(procesador: float, memoria: float, camara: float, pantalla: str,\n",
        "                  ancho: int, alto: int, pila: float, sistema: str, version: str)-> dict:\n",
        "  nuevo_celular = {}\n",
        "  nuevo_celular['procesador'] = procesador\n",
        "  nuevo_celular['memoria'] = memoria\n",
        "  nuevo_celular['camara'] = camara\n",
        "  nuevo_celular['pantalla'] = pantalla\n",
        "  nuevo_celular['ancho'] = ancho\n",
        "  nuevo_celular['alto'] = alto\n",
        "  nuevo_celular['pila'] = pila\n",
        "  nuevo_celular['sistema'] = sistema\n",
        "  nuevo_celular['version'] = version\n",
        "  return nuevo_celular\n",
        "\n",
        "cel1 = crear_celular(2.4, 64, 48, 'OLED', 1080, 2400, 5000, 'Android', '10')\n",
        "cel2 = crear_celular(2.2, 64, 84, 'OLED', 768, 1080, 3500, 'Android', '8.1')\n",
        "cel3 = crear_celular(2.0, 32, 182, 'Retina', 375, 812, 4200, 'iOS', '9.0')\n",
        "cel4 = crear_celular(1.8, 16, 6, 'Retina', 375, 667, 4150, 'iOS', '8.1.4')\n",
        "#print(cel1, cel2, cel3, cel4)\n",
        "\n",
        "#Diccionario de diccionarios para los celulares creados en def crear_celular\n",
        "celulares = {}\n",
        "celulares['AmazingCel'] = cel1\n",
        "celulares['BoringCel'] = cel2\n",
        "celulares['CheapCel'] = cel3\n",
        "celulares['DumbCel'] = cel4\n",
        "#print(celulares)\n",
        "\n",
        "def mayor_cantidad_pixeles(cel1: dict, cel2: dict, cel3: dict, cel4: dict) -> str:\n",
        "    pixeles = celulares['AmazingCel']['camara']\n",
        "    celular_pix = 'AmazingCel'\n",
        "\n",
        "    if celulares['BoringCel']['camara'] > pixeles:\n",
        "      pixeles = celulares['BoringCel']['memoria']\n",
        "      celular_pix = 'BoringCel'\n",
        "    if celulares['CheapCel']['camara'] > pixeles:\n",
        "      pixeles = celulares['CheapCel']['camara']\n",
        "      celular_pix = 'CheapCel'\n",
        "    if celulares['DumbCel']['camara'] > pixeles:\n",
        "      pixeles = celulares['DumbCel']['camara']\n",
        "      celular_pix = 'DumbCel'\n",
        "    return celular_pix\n",
        "\n",
        "camara = mayor_cantidad_pixeles(cel1, cel2, cel3, cel4)\n",
        "print(camara)"
      ],
      "metadata": {
        "colab": {
          "base_uri": "https://localhost:8080/"
        },
        "id": "YaWXEjfbKb85",
        "outputId": "927fc58f-80d1-431d-846a-042f51d495cd"
      },
      "execution_count": null,
      "outputs": [
        {
          "output_type": "stream",
          "name": "stdout",
          "text": [
            "CheapCel\n"
          ]
        }
      ]
    },
    {
      "cell_type": "markdown",
      "source": [
        "-Actividad: Con base en el ejemplo del diccionario de celulares, construya una función que reciba los diccionarios de 4 celulares y los modifique para duplicar la capacidad de la pila de todos."
      ],
      "metadata": {
        "id": "6RJRVKvCOxsG"
      }
    },
    {
      "cell_type": "code",
      "source": [
        "from typing import DefaultDict\n",
        "def crear_celular(procesador: float, memoria: float, camara: float, pantalla: str,\n",
        "                  ancho: int, alto: int, pila: float, sistema: str, version: str)-> dict:\n",
        "  nuevo_celular = {}\n",
        "  nuevo_celular['procesador'] = procesador\n",
        "  nuevo_celular['memoria'] = memoria\n",
        "  nuevo_celular['camara'] = camara\n",
        "  nuevo_celular['pantalla'] = pantalla\n",
        "  nuevo_celular['ancho'] = ancho\n",
        "  nuevo_celular['alto'] = alto\n",
        "  nuevo_celular['pila'] = pila\n",
        "  nuevo_celular['sistema'] = sistema\n",
        "  nuevo_celular['version'] = version\n",
        "  return nuevo_celular\n",
        "\n",
        "cel1 = crear_celular(2.4, 64, 48, 'OLED', 1080, 2400, 5000, 'Android', '10')\n",
        "cel2 = crear_celular(2.2, 64, 84, 'OLED', 768, 1080, 3500, 'Android', '8.1')\n",
        "cel3 = crear_celular(2.0, 32, 182, 'Retina', 375, 812, 4200, 'iOS', '9.0')\n",
        "cel4 = crear_celular(1.8, 16, 6, 'Retina', 375, 667, 4150, 'iOS', '8.1.4')\n",
        "#print(cel1, cel2, cel3, cel4)\n",
        "\n",
        "#Diccionario de diccionarios para los celulares creados en def crear_celular\n",
        "celulares = {}\n",
        "celulares['AmazingCel'] = cel1\n",
        "celulares['BoringCel'] = cel2\n",
        "celulares['CheapCel'] = cel3\n",
        "celulares['DumbCel'] = cel4\n",
        "#print(celulares)\n",
        "\n",
        "def duplicar_pila(cel1: dict, cel2: dict, cel3: dict, cel4: DefaultDict)->dict:\n",
        "  celulares['AmazingCel']['pila'] *= 2\n",
        "  celulares['BoringCel']['pila'] *= 2\n",
        "  celulares['CheapCel']['pila'] *= 2\n",
        "  celulares['DumbCel']['pila'] *= 2\n",
        "  return celulares\n",
        "\n",
        "\n",
        "doble_pila = duplicar_pila(cel1, cel2, cel3, cel4)\n",
        "print(doble_pila)"
      ],
      "metadata": {
        "colab": {
          "base_uri": "https://localhost:8080/"
        },
        "id": "gRPmsxHIMihG",
        "outputId": "f4ae8b99-7bdf-4fe7-8057-3113bc9fc50d"
      },
      "execution_count": null,
      "outputs": [
        {
          "output_type": "stream",
          "name": "stdout",
          "text": [
            "{'AmazingCel': {'procesador': 2.4, 'memoria': 64, 'camara': 48, 'pantalla': 'OLED', 'ancho': 1080, 'alto': 2400, 'pila': 10000, 'sistema': 'Android', 'version': '10'}, 'BoringCel': {'procesador': 2.2, 'memoria': 64, 'camara': 84, 'pantalla': 'OLED', 'ancho': 768, 'alto': 1080, 'pila': 7000, 'sistema': 'Android', 'version': '8.1'}, 'CheapCel': {'procesador': 2.0, 'memoria': 32, 'camara': 182, 'pantalla': 'Retina', 'ancho': 375, 'alto': 812, 'pila': 8400, 'sistema': 'iOS', 'version': '9.0'}, 'DumbCel': {'procesador': 1.8, 'memoria': 16, 'camara': 6, 'pantalla': 'Retina', 'ancho': 375, 'alto': 667, 'pila': 8300, 'sistema': 'iOS', 'version': '8.1.4'}}\n"
          ]
        }
      ]
    },
    {
      "cell_type": "markdown",
      "source": [
        "RETO 5: PICAS Y FIJAS\n",
        "\n",
        "El juego de las Picas y Fijas es un juego matemático muy sencillo, consiste en adivinar un número de 4 cifras y de todos los dígitos diferentes. Para esto, el jugador que intenta adivinar deberá decir el número que cree está escondiendo el otro, y este deberá responder el número de picas y fijas que tiene ahora el jugador.\n",
        "\n",
        "Una pica es un dígito que se encuentra en el número a adivinar, pero no está en el lugar correcto; y una fija es un dígito correctamente colocado.\n",
        "\n",
        "Por ejemplo, si el número secreto es 1234 y el otro jugador dice 1325, tendrá dos picas y una fija.\n",
        "\n",
        "Debes crear una función que devuelva un diccionario con las llaves \"PICAS\" y \"FIJAS\" que represente el resultado de la jugada si un jugador trata de adivinar el numero_secreto con el número intento."
      ],
      "metadata": {
        "id": "yimC_dd5AfSk"
      }
    },
    {
      "cell_type": "code",
      "source": [
        "#RETO 5: PICAS Y FIJAS\n",
        "#Curso de programación en Python\n",
        "\n",
        "def picas_y_fijas(numero_secreto: int, intento: int)-> str:\n",
        "  picas_fijas = {} #Diccionario\n",
        "  \n",
        "  #Descomposición de número secreto\n",
        "  unidad_secreto = numero_secreto % 10\n",
        "  numero_secreto //= 10\n",
        "  decena_secreto = numero_secreto % 10\n",
        "  numero_secreto //= 10\n",
        "  centena_secreto = numero_secreto % 10\n",
        "  numero_secreto //= 10\n",
        "  millar_secreto = numero_secreto % 10\n",
        "\n",
        "  #Descomposición de número de intento\n",
        "  unidad_intento = intento % 10\n",
        "  intento //= 10\n",
        "  decena_intento = intento % 10\n",
        "  intento //= 10\n",
        "  centena_intento = intento % 10\n",
        "  intento //= 10\n",
        "  millar_intento = intento % 10\n",
        "\n",
        "  #Fijas, inicializar contador\n",
        "  contador_fijas = 0\n",
        "\n",
        "  if unidad_secreto == unidad_intento:\n",
        "    contador_fijas += 1\n",
        "  if decena_secreto == decena_intento:\n",
        "    contador_fijas += 1\n",
        "  if centena_secreto == centena_intento:\n",
        "    contador_fijas += 1\n",
        "  if millar_secreto == millar_intento:\n",
        "    contador_fijas += 1\n",
        "\n",
        "  #Se agrega la cantidad de FIJAS al diccionario\n",
        "  picas_fijas['FIJAS'] = contador_fijas\n",
        "\n",
        "  #Picas, inicializar contador\n",
        "  contador_picas = 0\n",
        "\n",
        "  if (unidad_intento == decena_secreto) or (unidad_intento == centena_secreto) or (unidad_intento == millar_secreto):\n",
        "    contador_picas += 1\n",
        "  if (decena_intento == unidad_secreto) or (decena_intento == centena_secreto) or (decena_intento == millar_secreto):\n",
        "    contador_picas += 1\n",
        "  if (centena_intento == unidad_secreto) or (centena_intento == decena_secreto) or (centena_intento == millar_secreto):\n",
        "    contador_picas += 1\n",
        "  if (millar_intento == unidad_secreto) or (millar_intento == decena_secreto) or (millar_intento == centena_secreto):\n",
        "    contador_picas += 1\n",
        "\n",
        "  #Se agrega la cantidad de PICAS al diccionario\n",
        "  picas_fijas['PICAS'] = contador_picas\n",
        "\n",
        "  return picas_fijas\n",
        "\n",
        "numero_secreto = int(input('Escriba el número secreto: '))\n",
        "intento = int(input('Escriba su número de juego: '))\n",
        "jugar = picas_y_fijas(numero_secreto, intento)\n",
        "print(jugar)"
      ],
      "metadata": {
        "colab": {
          "base_uri": "https://localhost:8080/"
        },
        "id": "1fDQPHftAkcH",
        "outputId": "b0467f48-9d67-4a00-e590-b2f506a7c620"
      },
      "execution_count": null,
      "outputs": [
        {
          "output_type": "stream",
          "name": "stdout",
          "text": [
            "Escriba el número secreto: 7698\n",
            "Escriba su número de juego: 8679\n",
            "{'FIJAS': 1, 'PICAS': 3}\n"
          ]
        }
      ]
    },
    {
      "cell_type": "markdown",
      "source": [
        "MANOS A LA OBRA: Creación de funciones sobre diccionarios que representan estudiantes."
      ],
      "metadata": {
        "id": "wLJbZVsaUSBf"
      }
    },
    {
      "cell_type": "code",
      "source": [
        "def crear_estudiante(nombre: str, codigo: str, genero: str, carrera: str, promedio: float, ssc: float)-> dict:\n",
        "  dic_estudiantes = {'nombre': nombre,\n",
        "                     'codigo': codigo,\n",
        "                     'genero': genero,\n",
        "                     'carrera': carrera,\n",
        "                     'promedio': promedio,\n",
        "                     'ssc': ssc}\n",
        "  return dic_estudiantes\n",
        "\n",
        "est1 = crear_estudiante(\"Juan Pérez\", \"2189745676\", \"masculino\", \"Biología\", 3.15, 0.7)\n",
        "est2 = crear_estudiante(\"Ana Gavalda\", \"3256789221\", \"femenino\", \"Ciencias Políticas\", 4.25, 3.5)\n",
        "est3 = crear_estudiante(\"Bastien Bosa\", \"2234657876\", \"masculino\", \"Economía\", 3.21, 2.3)\n",
        "est4 = crear_estudiante(\"Catalina Gómez\", \"2311567898\", \"femenino\", \"Arte\", 3.8, 4)"
      ],
      "metadata": {
        "id": "GCSamnI-UYO9"
      },
      "execution_count": null,
      "outputs": []
    },
    {
      "cell_type": "markdown",
      "source": [
        "Escriba una función que reciba por parámetro los 4 estudiantes y un nombre para buscar el estudiante en los diccionarios."
      ],
      "metadata": {
        "id": "e60WiZEdXw7n"
      }
    },
    {
      "cell_type": "code",
      "source": [
        "def buscar_estudiante(est1: dict, est2: dict, est3: dict, est4: dict, nombre: str)->dict:\n",
        "  buscar = None\n",
        "\n",
        "  if nombre in est1['nombre']:\n",
        "    buscar = est1\n",
        "  elif nombre in est2['nombre']:\n",
        "    buscar = est2 \n",
        "  elif nombre in est3['nombre']: \n",
        "    buscar = est3\n",
        "  elif nombre in est4['nombre']: \n",
        "    buscar = est4\n",
        "  \n",
        "  return buscar\n",
        "\n",
        "buscar_est = buscar_estudiante(est1, est2, est3, est4, \"Bastien Bosa\")\n",
        "\n",
        "if buscar_est is None:\n",
        "  print('El estudiante no existe.')\n",
        "else:\n",
        "  print('El estudiante existe y su código es', buscar_est['codigo'])"
      ],
      "metadata": {
        "colab": {
          "base_uri": "https://localhost:8080/"
        },
        "id": "PWbJjrA4X3uw",
        "outputId": "e83b0036-1955-4c15-e787-8382f7960df1"
      },
      "execution_count": null,
      "outputs": [
        {
          "output_type": "stream",
          "name": "stdout",
          "text": [
            "El estudiante existe y su código es 2234657876\n"
          ]
        }
      ]
    },
    {
      "cell_type": "markdown",
      "source": [
        "Escriba una función que aumente un semestre a todos lo estudiantes."
      ],
      "metadata": {
        "id": "Os1qzm6kfBPw"
      }
    },
    {
      "cell_type": "code",
      "source": [
        "def avanzar_semestre(est1: dict, est2: dict, est3: dict, est4: dict)-> None:\n",
        "  est1['ssc'] += 1\n",
        "  est2['ssc'] += 1\n",
        "  est3['ssc'] += 1\n",
        "  est4['ssc'] += 1\n",
        "\n",
        "avanzar = avanzar_semestre(est1, est2, est3, est4)"
      ],
      "metadata": {
        "id": "Wc05_ioZfE2u"
      },
      "execution_count": null,
      "outputs": []
    },
    {
      "cell_type": "markdown",
      "source": [
        "Escriba una función que reciba los 4 estudiantes y retorne un diccionario con los códigos (claves) y los promedios (valores) de los estudiantes que tienen el promedio por debajo de 3.4"
      ],
      "metadata": {
        "id": "fCtSeUWufstm"
      }
    },
    {
      "cell_type": "code",
      "source": [
        "def quienes_en_riesgo(est1: dict, est2: dict, est3: dict, est4: dict)->dict:\n",
        "  riesgo = {}\n",
        "\n",
        "  if est1['promedio'] < 3.4:\n",
        "    riesgo[est1['codigo']] = est1['promedio']\n",
        "  if est2['promedio'] < 3.4:\n",
        "    riesgo[est2['codigo']] = est2['promedio']\n",
        "  if est3['promedio'] < 3.4:\n",
        "    riesgo[est3['codigo']] = est3['promedio']\n",
        "  if est4['promedio'] < 3.4:\n",
        "    riesgo[est4['codigo']] = est4['promedio']\n",
        "\n",
        "  return riesgo\n",
        "\n",
        "riesgos = quienes_en_riesgo(est1, est2, est3, est4)\n",
        "print(riesgos)"
      ],
      "metadata": {
        "colab": {
          "base_uri": "https://localhost:8080/"
        },
        "id": "4FelexTqf_wV",
        "outputId": "afed408c-97e4-481a-950b-75d58944dc52"
      },
      "execution_count": null,
      "outputs": [
        {
          "output_type": "stream",
          "name": "stdout",
          "text": [
            "{'2189745676': 3.15, '2234657876': 3.21}\n"
          ]
        }
      ]
    },
    {
      "cell_type": "markdown",
      "source": [
        "RETO 6: El mejor estudiante del salón\n",
        "\n",
        "Los estudiantes de un cierto colegio tienen que ver 5 cursos: \n",
        "\n",
        "Matemáticas, Español, Ciencias, Literatura y Arte. Usted debe construir una función que reciba la información de 5 estudiantes y calcule quién es el mejor estudiante (el que tenga el mejor promedio). La información de cada estudiante se representará usando un diccionario con 6 llaves: \"nombre\", que tendrá asociado el nombre del estudiante; \"matematicas\", que tendrá asociada la nota del estudiante en el curso Matemáticas; \"español\", que tendrá asociada la nota del estudiante en el curso Español; \"ciencias\", que tendrá asociada la nota del estudiante en el curso Ciencias; \"literatura\", que tendrá asociada la nota del estudiante en el curso Literatura; y \"arte\", que tendrá asociada la nota del estudiante en el curso Arte. Las notas son números decimales entre 0 y 5.\n",
        "\n",
        "Su función debe retornar el nombre del estudiante que tenga el mejor promedio. Si hay varios con el mejor promedio, debe aparecer el estudiante que tenga el nombre alfabéticamente menor (independientemente de mayúsculas o minúsculas).\n",
        "\n"
      ],
      "metadata": {
        "id": "2O549TwNteUn"
      }
    },
    {
      "cell_type": "code",
      "source": [
        "def estudiantes_u(nombre: str, nota_matematicas: float, nota_español: float, nota_ciencias: float,\n",
        "                  nota_literatura: float, nota_artes: float)-> dict:\n",
        "  calificaciones = {'nombre': nombre, 'matematicas': nota_matematicas,\n",
        "                    'español': nota_español, 'ciencias': nota_ciencias,\n",
        "                    'literatura': nota_literatura, 'arte': nota_artes}                \n",
        "  return calificaciones\n",
        "\n",
        "estudiante1 = estudiantes_u('Juan Pablo', 4.1, 3.7, 4.4, 3.5, 2.5)\n",
        "estudiante2 = estudiantes_u('Alejandro Henao', 2.2, 4.0, 3.5, 3.2, 4.0)\n",
        "estudiante3 = estudiantes_u('Juan Osorio', 2.5, 4.8, 3.2, 4.5, 3.0)\n",
        "estudiante4 = estudiantes_u('Diego Agudelo', 4.3, 2.0, 3.5, 2.8, 3.7)\n",
        "estudiante5 = estudiantes_u('Sebastian Estrada', 5.0, 2.5, 4.1, 2.9, 2.0)\n",
        "\n",
        "def mejor_del_salon(estudiante1: dict, estudiante2: dict, estudiante3: dict, estudiante4: dict, estudiante5: dict)-> str:\n",
        "  promedio1 = (estudiante1['matematicas'] + estudiante1['español'] + estudiante1['ciencias'] + estudiante1['literatura'] + estudiante1['arte']) / 5\n",
        "  promedio2 = (estudiante2['matematicas'] + estudiante2['español'] + estudiante2['ciencias'] + estudiante2['literatura'] + estudiante2['arte']) / 5\n",
        "  promedio3 = (estudiante3['matematicas'] + estudiante3['español'] + estudiante3['ciencias'] + estudiante3['literatura'] + estudiante3['arte']) / 5\n",
        "  promedio4 = (estudiante4['matematicas'] + estudiante4['español'] + estudiante4['ciencias'] + estudiante4['literatura'] + estudiante4['arte']) / 5\n",
        "  promedio5 = (estudiante5['matematicas'] + estudiante5['español'] + estudiante5['ciencias'] + estudiante5['literatura'] + estudiante5['arte']) / 5\n",
        "\n",
        "  mejor_promedio = estudiante1['nombre']\n",
        "  promedio_mayor = promedio1\n",
        "  \n",
        "  if promedio2 > promedio_mayor:\n",
        "    promedio_mayor = promedio2\n",
        "    mejor_promedio = estudiante2['nombre']\n",
        "  if promedio3 > promedio_mayor:\n",
        "    promedio_mayor = promedio3\n",
        "    mejor_promedio = estudiante3['nombre']\n",
        "  if promedio4 > promedio_mayor:\n",
        "    promedio_mayor = promedio4 \n",
        "    mejor_promedio = estudiante4['nombre']\n",
        "  if promedio5 > promedio_mayor:\n",
        "    promedio_mayor = promedio5 \n",
        "    mejor_promedio = estudiante5['nombre']\n",
        "    \n",
        "  return mejor_promedio\n",
        "\n",
        "honor = mejor_del_salon(estudiante1, estudiante2, estudiante3, estudiante4, estudiante5)\n",
        "print(honor)"
      ],
      "metadata": {
        "id": "cSjn_Sretl7k",
        "colab": {
          "base_uri": "https://localhost:8080/"
        },
        "outputId": "e6f08a0e-1799-484d-faf3-ec0c465ea395"
      },
      "execution_count": null,
      "outputs": [
        {
          "output_type": "stream",
          "name": "stdout",
          "text": [
            "Juan Pablo\n"
          ]
        }
      ]
    },
    {
      "cell_type": "markdown",
      "source": [
        "# **Paso de parámetros**"
      ],
      "metadata": {
        "id": "GXSQNlNLRrzC"
      }
    },
    {
      "cell_type": "markdown",
      "source": [
        "Hasta el momento hemos utilizado el mecanismo de paso de parámetros cada vez que hemos invocado una función, pero no hemos entrado en mucho detalle sobre lo que está pasando. En esta sección vamos a estudiar este proceso en más profundidad y vamos a diferenciar entre los dos mecanismos disponibles en Python: paso de parámetros por valor y paso de parámetros por referencia.\n",
        "\n",
        "Además, estudiaremos un par características adicionales que ofrece Python para manejar los parámetros de una función con mayor flexibilidad. Usar estas características es totalmente opcional y, como usualmente no están disponibles en otros lenguajes, no es recomendable acostumbrarse a usarlas siempre.\n",
        "\n"
      ],
      "metadata": {
        "id": "4DRo68UfRS5B"
      }
    },
    {
      "cell_type": "markdown",
      "source": [
        "PASO DE PARÁMETROS POR VALOR Y POR REFERENCIA"
      ],
      "metadata": {
        "id": "ZqXCeVuZRUsV"
      }
    },
    {
      "cell_type": "markdown",
      "source": [
        "Para empezar, vamos a recordar la diferencia entre el operador == y el operador is: el primero lo podemos usar para comparar los valores de unas variables para ver si son iguales, mientras que el segundo nos sirve para saber sin son el mismo. Esto lo podemos ver en el siguiente ejemplo en el cual estamos construyendo dos diccionarios y luego los comparamos usando los dos operadores:"
      ],
      "metadata": {
        "id": "elRLQdI0ReSL"
      }
    },
    {
      "cell_type": "code",
      "source": [
        "d1 = {'k1': 1}\n",
        "d2 = {'k1': 1}\n",
        "print(d1 == d2)\n",
        "print(d1 is d2)"
      ],
      "metadata": {
        "id": "KZKk-SSaCbsi",
        "colab": {
          "base_uri": "https://localhost:8080/"
        },
        "outputId": "5b6296f0-328a-46eb-e4d4-f0fefcdd9c29"
      },
      "execution_count": null,
      "outputs": [
        {
          "output_type": "stream",
          "name": "stdout",
          "text": [
            "True\n",
            "False\n"
          ]
        }
      ]
    },
    {
      "cell_type": "code",
      "source": [
        "def limpiar_diccionario(el_diccionario: dict) -> None:\n",
        "    el_diccionario.clear()\n",
        "    \n",
        "d = {\"a\":1, \"b\":2, \"c\": 3}\n",
        "print(d)\n",
        "limpiar_diccionario(d)\n",
        "print(d)"
      ],
      "metadata": {
        "colab": {
          "base_uri": "https://localhost:8080/"
        },
        "id": "sIsf3O2nTfDn",
        "outputId": "d67b6ef5-464f-4d6f-b909-c8476a957731"
      },
      "execution_count": null,
      "outputs": [
        {
          "output_type": "stream",
          "name": "stdout",
          "text": [
            "{'a': 1, 'b': 2, 'c': 3}\n",
            "{}\n"
          ]
        }
      ]
    },
    {
      "cell_type": "markdown",
      "source": [
        "PARÁMETROS EN UNA FUNCIÓN"
      ],
      "metadata": {
        "id": "Cl1iEdFDR8BM"
      }
    },
    {
      "cell_type": "markdown",
      "source": [
        "Veamos ahora lo que pasa cuando se tienen parámetros de diferentes tipos en una función. Para esto estudiemos el siguiente programa:"
      ],
      "metadata": {
        "id": "uDcGx-RMSNpm"
      }
    },
    {
      "cell_type": "code",
      "source": [
        "def funcion(p1: str, p2: str, p3: dict, p4:dict) -> None:\n",
        "    print(\"--> Valores recibidos:\", p1, p2, p3, p4)\n",
        "    print(\"--> Comparar las cadenas:\", p1 == p2)\n",
        "    print(\"--> Comparar los diccionarios:\", p3 == p4, p3 is p4)\n",
        "    \n",
        "    p1 = \"nueva cadena\"\n",
        "    p3[\"nuevo valor\"] = 99\n",
        "    print(\"--> Valores modificados:\", p1, p2, p3, p4)\n",
        "    p3 = {\"ultimo\": 1}\n",
        "    print(\"--> Valores modificados de nuevo:\", p3, p4)    \n",
        "   \n",
        "cadena = \"cadena inicial\"\n",
        "diccionario = {\"inicial\": 0}\n",
        "\n",
        "print(\"Antes de llamar a la función: \", cadena, diccionario)\n",
        "funcion(cadena, cadena, diccionario, diccionario)\n",
        "print(\"Después de llamar a la función: \", cadena, diccionario)"
      ],
      "metadata": {
        "colab": {
          "base_uri": "https://localhost:8080/"
        },
        "id": "OkUBG12DRp0j",
        "outputId": "94f18f3d-eea5-4a43-f35d-8b2eb9fc9b77"
      },
      "execution_count": null,
      "outputs": [
        {
          "output_type": "stream",
          "name": "stdout",
          "text": [
            "Antes de llamar a la función:  cadena inicial {'inicial': 0}\n",
            "--> Valores recibidos: cadena inicial cadena inicial {'inicial': 0} {'inicial': 0}\n",
            "--> Comparar las cadenas: True\n",
            "--> Comparar los diccionarios: True True\n",
            "--> Valores modificados: nueva cadena cadena inicial {'inicial': 0, 'nuevo valor': 99} {'inicial': 0, 'nuevo valor': 99}\n",
            "--> Valores modificados de nuevo: {'ultimo': 1} {'inicial': 0, 'nuevo valor': 99}\n",
            "Después de llamar a la función:  cadena inicial {'inicial': 0, 'nuevo valor': 99}\n"
          ]
        }
      ]
    },
    {
      "cell_type": "markdown",
      "source": [
        "PARÁMETROS NOMBRADOS"
      ],
      "metadata": {
        "id": "H7l3kGzdUhvl"
      }
    },
    {
      "cell_type": "markdown",
      "source": [
        "La primera característica para estudiar tiene que ver con la forma de hacer referencia a los parámetros de una función en el momento de la invocación. Hasta ahora, siempre hemos utilizado el mecanismo basado en la posición: el primer valor en la invocación corresponde al primer parámetro, el segundo valor en la invocación corresponde al segundo parámetro, y así sucesivamente. Sin embargo, en Python es posible hacer explícito el nombre de los parámetros en el momento de la invocación de tal forma que se puedan invocar en un orden diferente al que se tiene en la declaración.\n",
        "\n",
        "Veamos un ejemplo:"
      ],
      "metadata": {
        "id": "aslw7QKEUjsv"
      }
    },
    {
      "cell_type": "code",
      "source": [
        "def imprimir_nombre(nombre: str, apellido: str) -> None:\n",
        "    print(nombre + \" \" + apellido)\n",
        "\n",
        "imprimir_nombre(\"Juan\", \"Perez\")  # Imprime \"Juan Perez\"\n",
        "imprimir_nombre(nombre = \"Juan\", apellido = \"Perez\")  # Imprime \"Juan Perez\"\n",
        "imprimir_nombre(apellido = \"Perez\", nombre = \"Juan\")  # Imprime \"Juan Perez\""
      ],
      "metadata": {
        "colab": {
          "base_uri": "https://localhost:8080/"
        },
        "id": "TLlbtWubSP9_",
        "outputId": "d0e6fc00-2d45-4d79-dfc0-3f44b466a745"
      },
      "execution_count": null,
      "outputs": [
        {
          "output_type": "stream",
          "name": "stdout",
          "text": [
            "Juan Perez\n",
            "Juan Perez\n",
            "Juan Perez\n"
          ]
        }
      ]
    },
    {
      "cell_type": "code",
      "source": [
        "banco = {'nombre': 'Techo', 'localidad': 'Kennedy',\n",
        "         'donantes': 0, 'AB+': 360, 'AB-': 130}\n",
        "\n",
        "llave1 = 'localidad'\n",
        "llave2 = 'Kennedy'\n",
        "valor1 = banco.get(llave1, \"Ninguno\")\n",
        "valor2 = banco.get(llave2, \"Ninguno\")\n",
        "\n",
        "print('1. ', valor1)\n",
        "print('2. ', valor2)\n",
        "\n",
        "banco[\"nombre\"] = \"Banderas\"\n",
        "print('3. ', valor1)\n",
        "\n",
        "temporal1 = 0\n",
        "if banco['AB+'] < 120:\n",
        "  temporal1 = 300\n",
        "elif banco['AB-'] < 350:\n",
        "  temporal1 = 210\n",
        "print('4. ', temporal1)\n",
        "\n"
      ],
      "metadata": {
        "id": "EbrfX9rwYPm8",
        "colab": {
          "base_uri": "https://localhost:8080/"
        },
        "outputId": "ed6028a0-c702-4b97-8a8d-0d4e9cd1540d"
      },
      "execution_count": null,
      "outputs": [
        {
          "output_type": "stream",
          "name": "stdout",
          "text": [
            "1.  Kennedy\n",
            "2.  Ninguno\n",
            "3.  Kennedy\n",
            "4.  210\n"
          ]
        }
      ]
    },
    {
      "cell_type": "markdown",
      "source": [
        "-Actividad: Tus amigos, a quienes también les gusta mucho ver películas, te han propuesto ir al cine la próxima semana y quieren conocer los precios de las boletas.\n",
        "\n",
        "Estas son las tarifas básicas de acuerdo con el tipo de sala:\n",
        "\n",
        "Dinamix - 18800 pesos\n",
        "\n",
        "3D - 15500 pesos\n",
        "\n",
        "2D - 11300 pesos.\n",
        "\n",
        "El cinema tiene, además, varias promociones que aplican para calcular el precio de las boletas que dependen del tipo de sala, del número de boletas que se compren simultáneamente, de la hora del día, del tipo de pago (tarjeta del cinema u otros medios de pago) y de si se tenía reserva.\n",
        "\n",
        "Las promociones son las siguientes:\n",
        "\n",
        "En las horas menos congestionadas (horas no pico) todas las salas tienen un descuento del 10% sobre la tarifa básica y si se compran 3 o más boletas, se aplican $500 pesos más de descuento por cada boleta\n",
        "\n",
        "Si el medio de pago es la tarjeta del cinema, se hace un 5% descuento calculado sobre la tarifa básica\n",
        "\n",
        "Cuando se hace una reserva, se tiene un recargo de $2000 pesos por boleta sin importar el tipo de sala\n",
        "\n",
        "En las horas pico, la tarifa básica se incrementa un 25% para las salas 2D y 3D y un 50% para la sala Dinamix (este aumento no se tiene en cuenta para los recargos y descuentos).\n",
        "\n",
        "Debes escribir una función que calcule cuánto te costarán las boletas para ti y tus amigos."
      ],
      "metadata": {
        "id": "2-NdAfSwvms7"
      }
    },
    {
      "cell_type": "code",
      "source": [
        "def calcular_costo_boletas(cantidad_boletas: int, tipo_sala: str, hora_pico: bool, pago_tarjeta_cinema: bool, reserva: bool)-> int:\n",
        "    precio_base = 0\n",
        "    tarifa_din = 18800\n",
        "    tarifa_3d = 15500\n",
        "    tarifa_2d = 11300\n",
        "\n",
        "    if tipo_sala == 'Dinamix':\n",
        "        precio_base = cantidad_boletas * tarifa_din\n",
        "        if hora_pico == True:\n",
        "            precio_base += (precio_base * 0.50)\n",
        "        elif hora_pico == False:\n",
        "            precio_base -= (precio_base * 0.10)\n",
        "            if cantidad_boletas >= 3:\n",
        "                precio_base -= 500\n",
        "        if pago_tarjeta_cinema == True:\n",
        "            precio_base -= (precio_base * 0.5) \n",
        "        if reserva == True:\n",
        "            precio_base += (cantidad_boletas * 2000)\n",
        "\n",
        "    elif tipo_sala == '3D':\n",
        "        precio_base = cantidad_boletas * tarifa_3d\n",
        "        if hora_pico == True:\n",
        "            precio_base += (precio_base * 0.25)\n",
        "        elif hora_pico == False:\n",
        "            precio_base -= (precio_base * 0.10)\n",
        "            if cantidad_boletas >= 3:\n",
        "                precio_base -= 500\n",
        "        if pago_tarjeta_cinema == True:\n",
        "            precio_base -= (precio_base * 0.5)\n",
        "        if reserva == True:\n",
        "            precio_base += (cantidad_boletas * 2000)\n",
        "\n",
        "    elif tipo_sala == '2D':\n",
        "        precio_base = cantidad_boletas * tarifa_2d\n",
        "        if hora_pico == True:\n",
        "            precio_base += (precio_base * 0.25)\n",
        "        elif hora_pico == False:\n",
        "            precio_base -= (precio_base * 0.10)\n",
        "            if cantidad_boletas >= 3:\n",
        "                precio_base -= 500\n",
        "        if pago_tarjeta_cinema == True:\n",
        "            precio_base -= (precio_base * 0.5)\n",
        "        if reserva == True:\n",
        "          precio_base += (cantidad_boletas  * 2000)\n",
        "\n",
        "    return int(precio_base)"
      ],
      "metadata": {
        "id": "aMdxHzC8koCI"
      },
      "execution_count": null,
      "outputs": []
    },
    {
      "cell_type": "markdown",
      "source": [
        "**¿CÓMO UTILIZAR EL BUCLE WHILE EN PYTHON?**"
      ],
      "metadata": {
        "id": "ok-kEbkqrmgT"
      }
    },
    {
      "cell_type": "markdown",
      "source": [
        "En programación, los bucles son bloques de código que se ejecutan un número x de veces hasta que se cumple una condición."
      ],
      "metadata": {
        "id": "q8xpOAVurwT4"
      }
    },
    {
      "cell_type": "markdown",
      "source": [
        "La traducción de while es \"mientras\" y en programación sería algo así como \"ejecuta este bloque de código hasta que se cumpla una condición\". Vale, muy bien la teoría, pero vamos a ver un ejemplo práctico:"
      ],
      "metadata": {
        "id": "cfv2daEZPQ1H"
      }
    },
    {
      "cell_type": "code",
      "source": [
        "num = 0\n",
        "\n",
        "while num < 5:\n",
        "  print(f'Estamos dentro del bucle while y el valor actual del número es {num}')\n",
        "  num += 1\n",
        "\n",
        "print(f'El valor final de num es {num}')"
      ],
      "metadata": {
        "id": "HF_ckYiFuG4k",
        "colab": {
          "base_uri": "https://localhost:8080/"
        },
        "outputId": "f1428e0a-eed2-4564-8553-3f88fa59e89d"
      },
      "execution_count": 1,
      "outputs": [
        {
          "output_type": "stream",
          "name": "stdout",
          "text": [
            "Estamos dentro del bucle while y el valor actual del número es 0\n",
            "Estamos dentro del bucle while y el valor actual del número es 1\n",
            "Estamos dentro del bucle while y el valor actual del número es 2\n",
            "Estamos dentro del bucle while y el valor actual del número es 3\n",
            "Estamos dentro del bucle while y el valor actual del número es 4\n",
            "El valor final de num es 5\n"
          ]
        }
      ]
    },
    {
      "cell_type": "markdown",
      "source": [
        "En este bucle tenemos una condición; mientras la variable num sea menor a 5 quiero que ejecutes este bloque de código. Como su valor es 0, se ejecutará la primera vez, imprimirá el mensaje e incrementará el valor de num en 1, además se seguirá ejecutando el bloque de código hasta que num alcance el valor de 5, entonces no se cumplirá la condición y finalizará el bucle."
      ],
      "metadata": {
        "id": "KAuwMC7UQwYV"
      }
    },
    {
      "cell_type": "markdown",
      "source": [
        "**¿ELSE EN UN BUCLE WHILE?**"
      ],
      "metadata": {
        "id": "iTl9OwxhQ15u"
      }
    },
    {
      "cell_type": "markdown",
      "source": [
        "Si queremos realizar una acción al finalizar el bucle while, podemos añadir un bloque else al final para realizar la acción que necesitemos:"
      ],
      "metadata": {
        "id": "0J-Tb99vQ8qk"
      }
    },
    {
      "cell_type": "code",
      "source": [
        "num = 0\n",
        "\n",
        "while num < 5:\n",
        "    print(f'Estamos dentro del bucle while y el valor actual de num es {num}')\n",
        "    num += 1\n",
        "else:\n",
        "    print(f'El valor final de num es {num}, por lo que se sumará 5 si cumple la nueva condición.')\n",
        "    if num == 5:\n",
        "      num += 10\n",
        "      print('Verificación completada, el número final debe ser 10.')"
      ],
      "metadata": {
        "colab": {
          "base_uri": "https://localhost:8080/"
        },
        "id": "RPTaZURxPmxO",
        "outputId": "ddcb2d62-a18a-491a-fc4a-5aebdcba1726"
      },
      "execution_count": 3,
      "outputs": [
        {
          "output_type": "stream",
          "name": "stdout",
          "text": [
            "Estamos dentro del bucle while y el valor actual de num es 0\n",
            "Estamos dentro del bucle while y el valor actual de num es 1\n",
            "Estamos dentro del bucle while y el valor actual de num es 2\n",
            "Estamos dentro del bucle while y el valor actual de num es 3\n",
            "Estamos dentro del bucle while y el valor actual de num es 4\n",
            "El valor final de num es 5, por lo que se sumará 5 si cumple la nueva condición.\n",
            "Verificación completada, el número final debe ser 10.\n"
          ]
        }
      ]
    },
    {
      "cell_type": "markdown",
      "source": [
        "¿DO WHILE EN PYTHON?"
      ],
      "metadata": {
        "id": "sidq2VHbRkIR"
      }
    },
    {
      "cell_type": "markdown",
      "source": [
        "Los bucles do-while son similares a los bucles while, pero en este caso siempre tendremos al menos UNA EJECUCIÓN del bucle, ya que la expresión no se valora hasta el final. En Python no existe este tipo de bucle, pero podríamos emularlo de la siguiente forma:"
      ],
      "metadata": {
        "id": "VxeIZTjSRniP"
      }
    },
    {
      "cell_type": "code",
      "source": [
        "num = 10 \n",
        "\n",
        "while True:\n",
        "  print(f'El valor de num es {num}')\n",
        "  num += 1\n",
        "  if num > 5:\n",
        "    break\n",
        "\n",
        "print(f'El valor final de num es {num}')"
      ],
      "metadata": {
        "colab": {
          "base_uri": "https://localhost:8080/"
        },
        "id": "jO-G2kY9RJ9j",
        "outputId": "55e7f3dd-78de-43d3-9648-ba47a20faf1d"
      },
      "execution_count": 4,
      "outputs": [
        {
          "output_type": "stream",
          "name": "stdout",
          "text": [
            "El valor de num es 10\n",
            "El valor final de num es 11\n"
          ]
        }
      ]
    },
    {
      "cell_type": "markdown",
      "source": [
        "En este caso siempre entramos en el bucle while, ya que la expresión es True, mostramos el mensaje e incrementamos el valor de num. Por último, comprobamos si num es mayor a 5, si es así, utilizamos la sentencia \"break\" que fuerza el fin de un ciclo aunque se siga cumpliendo la condición.\n",
        "\n",
        "El problema en este caso sería que no podríamos utilizar el bloque else, ya que al utilizar break, este bloque es ignorado. Para resolver esto, podríamos hacer unos cambios en el código para resolver este problema:"
      ],
      "metadata": {
        "id": "W5-ShIVTSUrk"
      }
    },
    {
      "cell_type": "code",
      "source": [
        "num = 10\n",
        "work = True\n",
        "\n",
        "while work:\n",
        "    print(f'El valor de num es {num}')\n",
        "    num += 1\n",
        "    if num > 5:\n",
        "        work = False\n",
        "else:\n",
        "    print(f'El valor final de num es {num}')"
      ],
      "metadata": {
        "colab": {
          "base_uri": "https://localhost:8080/"
        },
        "id": "M37GXZPSSAfU",
        "outputId": "80ba6eac-9758-492b-a52a-efb125182351"
      },
      "execution_count": 7,
      "outputs": [
        {
          "output_type": "stream",
          "name": "stdout",
          "text": [
            "El valor de num es 10\n",
            "El valor final de num es 11\n"
          ]
        }
      ]
    },
    {
      "cell_type": "markdown",
      "source": [
        "En este caso cambiamos el valor booleano True por la variable, de esta forma cuando se cumple la condición de la sentencia if, cambiaremos el valor de la variable y de esta forma pararemos el bucle y se ejecutará el bloque else."
      ],
      "metadata": {
        "id": "c8Dq5wF-S3xa"
      }
    },
    {
      "cell_type": "markdown",
      "source": [
        "**¿QUÉ ES EL BUCLE FOR?**"
      ],
      "metadata": {
        "id": "Vcq1eyU0TOEe"
      }
    },
    {
      "cell_type": "markdown",
      "source": [
        "El bucle for es una sentencia que utilizaremos para iterar o repetir una determinada acción un número X de veces. Lo podemos utilizar para recorrer listas, diccionarios, rangos, cadenas, etc. Por ejemplo podemos tener un listado de números del 1 al 10 y este bucle se ejecutará de forma secuencial 10 veces (el número total de elementos de la lista) en el que en cada iteración podremos acceder al valor de la lista en el que nos encontramos. Por ejemplo, en la primera iteración tendríamos el valor 1, en la segunda el valor 2 y así sucesivamente hasta llegar al final de la lista."
      ],
      "metadata": {
        "id": "0ty20hwXTs9H"
      }
    },
    {
      "cell_type": "markdown",
      "source": [
        "**SINTAXIS DEL BUCLE FOR**"
      ],
      "metadata": {
        "id": "TVANEpcdUFuR"
      }
    },
    {
      "cell_type": "markdown",
      "source": [
        "La sintaxis del bucle for estará formada por la palabra reservada for seguida del valor actual de la iteración, después usaremos in seguido de la lista, diccionario, rango, etc, que queramos recorrer y para finalizar escribiremos dos puntos:"
      ],
      "metadata": {
        "id": "jWyrP_SiUMlD"
      }
    },
    {
      "cell_type": "code",
      "source": [
        "for valor_actual in valor_a_iterar:\n",
        "  acciones_bucle"
      ],
      "metadata": {
        "id": "iYSPFjz1SnYu"
      },
      "execution_count": null,
      "outputs": []
    },
    {
      "cell_type": "markdown",
      "source": [
        "**EJEMPLOS DE USO DE BUCLE FOR**"
      ],
      "metadata": {
        "id": "1-XThyMBUYtG"
      }
    },
    {
      "cell_type": "markdown",
      "source": [
        "**Recorrer un string o cadena de texto con el bucle FOR:**\n",
        "\n",
        "Por ejemplo, podemos tener un string en el que queremos identificar una letra en concreto y si es así realizar una acción. En este caso, podríamos utilizar el bucle for para encontrar el carácter en cuestión de la siguiente forma:"
      ],
      "metadata": {
        "id": "BrIFNY0xUeH7"
      }
    },
    {
      "cell_type": "code",
      "source": [
        "saludo = \"Hola mundo\"\n",
        "\n",
        "for char in saludo:\n",
        "  if(char == 'a'):\n",
        "    print('Este texto contiene la letra a')\n",
        "  print(f'Los valores iterativos del bucle son {char}')\n",
        "\n",
        "print(f'El valor final del bucle es {char}')"
      ],
      "metadata": {
        "colab": {
          "base_uri": "https://localhost:8080/"
        },
        "id": "YDDt0atoUldE",
        "outputId": "c906204d-6898-4f01-fe94-1fa026f49354"
      },
      "execution_count": 16,
      "outputs": [
        {
          "output_type": "stream",
          "name": "stdout",
          "text": [
            "Los valores iterativos del bucle son H\n",
            "Los valores iterativos del bucle son o\n",
            "Los valores iterativos del bucle son l\n",
            "Este texto contiene la letra a\n",
            "Los valores iterativos del bucle son a\n",
            "Los valores iterativos del bucle son  \n",
            "Los valores iterativos del bucle son m\n",
            "Los valores iterativos del bucle son u\n",
            "Los valores iterativos del bucle son n\n",
            "Los valores iterativos del bucle son d\n",
            "Los valores iterativos del bucle son o\n",
            "El valor final del bucle es o\n"
          ]
        }
      ]
    },
    {
      "cell_type": "markdown",
      "source": [
        "Como se puede ver en el código, queremos imprimir un mensaje si encontramos el carácter \"a\". En la primera iteración, la variable char tendrá el valor de \"H\" por lo que no pasará nada, en la segunda iteración su valor será \"o\" por lo que tampoco se imprimirá nada y así será hasta que llegue a la iteración donde el valor de char será \"a\" en el que imprimirá el mensaje contenido en el print."
      ],
      "metadata": {
        "id": "-JQHFN71Vcez"
      }
    },
    {
      "cell_type": "markdown",
      "source": [
        "**Recorrer un listado de números generados con range utilizando el bucle FOR:**\n",
        "\n",
        "En el caso de que queramos recorrer un listado de números, podemos generarlo con la función range y después recorrerlo con for. De esta forma por cada iteración obtendremos cada uno de los valores de este rango de números:"
      ],
      "metadata": {
        "id": "MlCDAY91UWhg"
      }
    },
    {
      "cell_type": "code",
      "source": [
        "for num in range(10):\n",
        "  print(num)"
      ],
      "metadata": {
        "colab": {
          "base_uri": "https://localhost:8080/"
        },
        "id": "jZYpLHDaVoEr",
        "outputId": "66248ec8-54f7-4e1a-d0aa-ced8fb24db6e"
      },
      "execution_count": 24,
      "outputs": [
        {
          "output_type": "stream",
          "name": "stdout",
          "text": [
            "0\n",
            "1\n",
            "2\n",
            "3\n",
            "4\n",
            "5\n",
            "6\n",
            "7\n",
            "8\n",
            "9\n"
          ]
        }
      ]
    },
    {
      "cell_type": "markdown",
      "source": [
        "**Iterar sobre una lista con el bucle FOR:**\n",
        "\n",
        "Para iterar sobre una lista, lo haremos de forma similar a la que hemos hecho para recorrer el listado de números con range, pero en este caso sustituiremos range por nuestra lista:"
      ],
      "metadata": {
        "id": "rvViG9K4Wlej"
      }
    },
    {
      "cell_type": "code",
      "source": [
        "frutas = ['manzana', 'pera', 'naranja', 'melón']\n",
        "\n",
        "for fruta in frutas:\n",
        "  print(fruta)"
      ],
      "metadata": {
        "colab": {
          "base_uri": "https://localhost:8080/"
        },
        "id": "Py0kvAJhVtxr",
        "outputId": "a7141553-08c3-44dc-b3cc-ce071dbac3e4"
      },
      "execution_count": 28,
      "outputs": [
        {
          "output_type": "stream",
          "name": "stdout",
          "text": [
            "manzana\n",
            "pera\n",
            "naranja\n",
            "melón\n"
          ]
        }
      ]
    },
    {
      "cell_type": "markdown",
      "source": [
        "**ITERAR SOBRE UN DICCIONARIO CON EL BUCLE FOR**"
      ],
      "metadata": {
        "id": "pxDZKf1gXDgx"
      }
    },
    {
      "cell_type": "markdown",
      "source": [
        "En el caso de querer iterar sobre un diccionario, podemos hacerlo de varias formas, por claves, valores o por claves y valores. En los siguientes ejemplos vamos a ver como hacerlo de las tres formas.\n"
      ],
      "metadata": {
        "id": "ePHoRrFGXHMj"
      }
    },
    {
      "cell_type": "markdown",
      "source": [
        "**Iterar sobre las claves de un diccionario con el bucle FOR:**\n",
        "\n",
        "Para iterar sobre las claves de un diccionario, utilizaremos el método keys() de la clase dict para obtener un listado con las claves de un diccionario de la siguiente forma:"
      ],
      "metadata": {
        "id": "KPQePJrOXKGA"
      }
    },
    {
      "cell_type": "code",
      "source": [
        "ficha_usuario = {'nombre': 'JuanPa',\n",
        "                 'apellido': 'Aguilar',\n",
        "                 'edad': 33}\n",
        "\n",
        "for clave in ficha_usuario.keys():\n",
        "  print(clave)"
      ],
      "metadata": {
        "colab": {
          "base_uri": "https://localhost:8080/"
        },
        "id": "A0F6ub3UW1-U",
        "outputId": "6d8d4bdc-d35d-4d24-a775-ebc200a1d27c"
      },
      "execution_count": 29,
      "outputs": [
        {
          "output_type": "stream",
          "name": "stdout",
          "text": [
            "nombre\n",
            "apellido\n",
            "edad\n"
          ]
        }
      ]
    },
    {
      "cell_type": "markdown",
      "source": [
        "**Iterar sobre los valores de un diccionario con el bucle FOR:**\n",
        "\n",
        "En el caso de querer obtener los valores, utilizaremos el método values():"
      ],
      "metadata": {
        "id": "xDetyt_tXksT"
      }
    },
    {
      "cell_type": "code",
      "source": [
        "ficha_usuario = {'nombre': 'JuanPa',\n",
        "                 'apellido': 'Aguilar',\n",
        "                 'edad': 33}\n",
        "\n",
        "for valor in ficha_usuario.values():\n",
        "  print(valor)  "
      ],
      "metadata": {
        "colab": {
          "base_uri": "https://localhost:8080/"
        },
        "id": "ujkzpUo6Xgf5",
        "outputId": "f4129bfe-2d95-486f-c163-747c5e70be4a"
      },
      "execution_count": 33,
      "outputs": [
        {
          "output_type": "stream",
          "name": "stdout",
          "text": [
            "JuanPa\n",
            "Aguilar\n",
            "33\n"
          ]
        }
      ]
    },
    {
      "cell_type": "markdown",
      "source": [
        "**Iterar sobre las claves y valores de un diccionario con el bucle FOR:**\n",
        "\n",
        "Por último, si queremos iterar tanto por clave como por valor al mismo tiempo, utilizaremos el método items() de la siguiente forma:"
      ],
      "metadata": {
        "id": "Ya_JOL38YCzL"
      }
    },
    {
      "cell_type": "code",
      "source": [
        "ficha_usuario = {'nombre': 'JuanPa',\n",
        "                 'apellido': 'Aguilar',\n",
        "                 'edad': 33}\n",
        "\n",
        "for clave, valor in ficha_usuario.items():\n",
        "  print(f'La llave {clave} es igual a {valor}')  "
      ],
      "metadata": {
        "colab": {
          "base_uri": "https://localhost:8080/"
        },
        "id": "maW5BJ73XrUL",
        "outputId": "cd798568-d505-41f3-a00c-0695533ecaef"
      },
      "execution_count": 37,
      "outputs": [
        {
          "output_type": "stream",
          "name": "stdout",
          "text": [
            "La llave nombre es igual a JuanPa\n",
            "La llave apellido es igual a Aguilar\n",
            "La llave edad es igual a 33\n"
          ]
        }
      ]
    },
    {
      "cell_type": "code",
      "source": [
        ""
      ],
      "metadata": {
        "id": "J2LP8RzhYShQ"
      },
      "execution_count": null,
      "outputs": []
    }
  ]
}