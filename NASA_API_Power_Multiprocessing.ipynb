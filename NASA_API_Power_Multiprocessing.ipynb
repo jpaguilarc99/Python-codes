{
  "nbformat": 4,
  "nbformat_minor": 0,
  "metadata": {
    "colab": {
      "name": "NASA API Power Multiprocessing",
      "provenance": [],
      "authorship_tag": "ABX9TyOvrnCgClTn1WwmB/FM35Xv",
      "include_colab_link": true
    },
    "kernelspec": {
      "name": "python3",
      "display_name": "Python 3"
    },
    "language_info": {
      "name": "python"
    }
  },
  "cells": [
    {
      "cell_type": "markdown",
      "metadata": {
        "id": "view-in-github",
        "colab_type": "text"
      },
      "source": [
        "<a href=\"https://colab.research.google.com/github/jpaguilarc99/Python-codes/blob/main/NASA_API_Power_Multiprocessing.ipynb\" target=\"_parent\"><img src=\"https://colab.research.google.com/assets/colab-badge.svg\" alt=\"Open In Colab\"/></a>"
      ]
    },
    {
      "cell_type": "code",
      "execution_count": 1,
      "metadata": {
        "colab": {
          "base_uri": "https://localhost:8080/"
        },
        "id": "tEQfdNKtnu9_",
        "outputId": "c47b955e-bbc2-49c7-a905-d98125ce6212"
      },
      "outputs": [
        {
          "output_type": "stream",
          "name": "stdout",
          "text": [
            "\n",
            "\n",
            "Tiempo de ejecución: 2.92\n"
          ]
        },
        {
          "output_type": "stream",
          "name": "stderr",
          "text": [
            "\rExportando datos 50.000000%\rExportando datos 100.000000%"
          ]
        }
      ],
      "source": [
        "import os, sys, time, json, urllib3, requests, multiprocessing, csv\n",
        "\n",
        "urllib3.disable_warnings()\n",
        "\n",
        "def download_function(collection):\n",
        "    ''' '''\n",
        "\n",
        "    request, filepath = collection\n",
        "    response = requests.get(url=request, verify=False, timeout=30.00).json()\n",
        "\n",
        "    with open(filepath, 'w') as file_object:\n",
        "        json.dump(response, file_object)\n",
        "\n",
        "class Process():\n",
        "\n",
        "    def __init__(self):\n",
        "\n",
        "        self.processes = 5\n",
        "\n",
        "        self.request_template = r'https://power.larc.nasa.gov/api/temporal/daily/point?parameters=T2M,T2MDEW,T2MWET,TS,T2M_RANGE,T2M_MAX,T2M_MIN&community=RE&longitude={longitude}&latitude={latitude}&start=20150101&end=20150305&format=JSON'\n",
        "        self.filename_template = \"Lat_{latitude}_Lon_{longitude}.csv\"\n",
        "\n",
        "        self.messages = []\n",
        "        self.times = {}\n",
        "\n",
        "    def execute(self):\n",
        "\n",
        "        Start_Time = time.time()\n",
        "\n",
        "        locations = [(7.5378888, -73.9337795), (7.5424357, -73.9338223)]\n",
        "\n",
        "        requests = []\n",
        "        for latitude, longitude in locations:\n",
        "            request = self.request_template.format(latitude=latitude, longitude=longitude)\n",
        "            filename = self.filename_template.format(latitude=latitude, longitude=longitude)\n",
        "            requests.append((request, filename))\n",
        "\n",
        "        requests_total = len(requests)\n",
        "\n",
        "        pool = multiprocessing.Pool(self.processes)\n",
        "        x = pool.imap_unordered(download_function, requests)\n",
        "\n",
        "        for i, df in enumerate(x, 1):\n",
        "            sys.stderr.write('\\rExportando datos {0:%}'.format(i/requests_total))\n",
        "\n",
        "        self.times[\"Total Script\"] = round((time.time() - Start_Time), 2)\n",
        "\n",
        "        print (\"\\n\")\n",
        "        print (\"Tiempo de ejecución:\", self.times[\"Total Script\"])\n",
        "\n",
        "if __name__ == '__main__':\n",
        "    Process().execute()"
      ]
    },
    {
      "cell_type": "code",
      "source": [
        ""
      ],
      "metadata": {
        "id": "EPSWQdzLS7PX"
      },
      "execution_count": null,
      "outputs": []
    }
  ]
}